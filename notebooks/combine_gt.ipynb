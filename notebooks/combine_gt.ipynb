{
 "cells": [
  {
   "cell_type": "markdown",
   "id": "00cd0f44-d780-4854-88af-dc3e718242ee",
   "metadata": {},
   "source": [
    "## Combine survey points "
   ]
  },
  {
   "cell_type": "code",
   "execution_count": 1,
   "id": "9fda3a9e-0498-43a9-8e93-a0eadd93b893",
   "metadata": {},
   "outputs": [],
   "source": [
    "import numpy as np\n",
    "import pandas as pd\n",
    "import geopandas as gpd"
   ]
  },
  {
   "cell_type": "code",
   "execution_count": 2,
   "id": "d28bf78d-676a-4ec5-8d70-95c53d8693ee",
   "metadata": {},
   "outputs": [],
   "source": [
    "points_20220103 = 'survey_points_20220103_revised20220121.shp'\n",
    "points_20211213 = 'survey_points_20211213_quick_look_revised20220119.shp'\n",
    "apple1 = 'survey_points_20210716.shp'\n",
    "apple2 = 'survey_points_20210825.shp'"
   ]
  },
  {
   "cell_type": "code",
   "execution_count": 3,
   "id": "ef5a25c4-00f7-48a1-b743-c5e01a5e6f6d",
   "metadata": {},
   "outputs": [],
   "source": [
    "gt_dir = r'K:\\2021-data-org\\4. RESEARCH_n\\ML\\MLsatellite\\Data\\layers_india\\GT\\survey-farmer-locations\\processed\\shp'"
   ]
  },
  {
   "cell_type": "code",
   "execution_count": 72,
   "id": "f7499e05-881b-4c2e-bb61-13abd0fdd0cd",
   "metadata": {},
   "outputs": [],
   "source": [
    "points_20220103_shp = gpd.read_file(gt_dir + '/' + points_20220103)\n",
    "points_20220103_shp.shape"
   ]
  },
  {
   "cell_type": "code",
   "execution_count": 74,
   "id": "04e703e5-c92e-4baa-bb09-ae89cc20360f",
   "metadata": {},
   "outputs": [
    {
     "data": {
      "text/html": [
       "<div>\n",
       "<style scoped>\n",
       "    .dataframe tbody tr th:only-of-type {\n",
       "        vertical-align: middle;\n",
       "    }\n",
       "\n",
       "    .dataframe tbody tr th {\n",
       "        vertical-align: top;\n",
       "    }\n",
       "\n",
       "    .dataframe thead th {\n",
       "        text-align: right;\n",
       "    }\n",
       "</style>\n",
       "<table border=\"1\" class=\"dataframe\">\n",
       "  <thead>\n",
       "    <tr style=\"text-align: right;\">\n",
       "      <th></th>\n",
       "      <th>Date of th</th>\n",
       "      <th>Name of th</th>\n",
       "      <th>Contact nu</th>\n",
       "      <th>Gender</th>\n",
       "      <th>Are you a</th>\n",
       "      <th>If Yes_ Pl</th>\n",
       "      <th>If Yes_ _1</th>\n",
       "      <th>Site GPS l</th>\n",
       "      <th>Site GPS_1</th>\n",
       "      <th>Altitude (</th>\n",
       "      <th>...</th>\n",
       "      <th>Please m_1</th>\n",
       "      <th>Do you use</th>\n",
       "      <th>If Yes, do</th>\n",
       "      <th>If Yes, 10</th>\n",
       "      <th>What is _5</th>\n",
       "      <th>Operating</th>\n",
       "      <th>assessment</th>\n",
       "      <th>check</th>\n",
       "      <th>comment</th>\n",
       "      <th>geometry</th>\n",
       "    </tr>\n",
       "  </thead>\n",
       "  <tbody>\n",
       "    <tr>\n",
       "      <th>0</th>\n",
       "      <td>2021-05-20</td>\n",
       "      <td>Akhil Jinta</td>\n",
       "      <td>yb1t669yyy</td>\n",
       "      <td>Male</td>\n",
       "      <td>No</td>\n",
       "      <td>None</td>\n",
       "      <td>None</td>\n",
       "      <td>31.1922965118397</td>\n",
       "      <td>77.7477854408256</td>\n",
       "      <td>5800.0</td>\n",
       "      <td>...</td>\n",
       "      <td>English, Hindi</td>\n",
       "      <td>Yes</td>\n",
       "      <td>Yes</td>\n",
       "      <td>Yes</td>\n",
       "      <td>Samsung</td>\n",
       "      <td>Android</td>\n",
       "      <td>NaN</td>\n",
       "      <td>None</td>\n",
       "      <td>None</td>\n",
       "      <td>POINT (77.74779 31.19230)</td>\n",
       "    </tr>\n",
       "    <tr>\n",
       "      <th>1</th>\n",
       "      <td>2021-06-21</td>\n",
       "      <td>Amit Jaita</td>\n",
       "      <td>xa16r3003r</td>\n",
       "      <td>Male</td>\n",
       "      <td>No</td>\n",
       "      <td>Progressive Growers Association</td>\n",
       "      <td>240.0</td>\n",
       "      <td>31.1154025094707</td>\n",
       "      <td>77.8020973736234</td>\n",
       "      <td>7300.0</td>\n",
       "      <td>...</td>\n",
       "      <td>English, Hindi</td>\n",
       "      <td>Yes</td>\n",
       "      <td>Yes</td>\n",
       "      <td>Yes</td>\n",
       "      <td>Xiaomi</td>\n",
       "      <td>Android</td>\n",
       "      <td>NaN</td>\n",
       "      <td>None</td>\n",
       "      <td>None</td>\n",
       "      <td>POINT (77.80210 31.11540)</td>\n",
       "    </tr>\n",
       "    <tr>\n",
       "      <th>2</th>\n",
       "      <td>2021-05-22</td>\n",
       "      <td>P79kaj</td>\n",
       "      <td>91290z000r</td>\n",
       "      <td>Male</td>\n",
       "      <td>Yes</td>\n",
       "      <td>Baghi Apple Growers Society</td>\n",
       "      <td>None</td>\n",
       "      <td>31.1409520521778</td>\n",
       "      <td>77.7861961282442</td>\n",
       "      <td>6200.0</td>\n",
       "      <td>...</td>\n",
       "      <td>English, Hindi</td>\n",
       "      <td>Yes</td>\n",
       "      <td>Yes</td>\n",
       "      <td>Yes</td>\n",
       "      <td>Vivo</td>\n",
       "      <td>Android</td>\n",
       "      <td>NaN</td>\n",
       "      <td>None</td>\n",
       "      <td>None</td>\n",
       "      <td>POINT (77.78620 31.14095)</td>\n",
       "    </tr>\n",
       "    <tr>\n",
       "      <th>3</th>\n",
       "      <td>2021-05-25</td>\n",
       "      <td>Raghav T79ta</td>\n",
       "      <td>yb1ttty6222</td>\n",
       "      <td>Male</td>\n",
       "      <td>Yes</td>\n",
       "      <td>Jubbal Apple Growers Society</td>\n",
       "      <td>300.0</td>\n",
       "      <td>31.1061073409128</td>\n",
       "      <td>77.6496921409057</td>\n",
       "      <td>7500.0</td>\n",
       "      <td>...</td>\n",
       "      <td>English, Hindi</td>\n",
       "      <td>Yes</td>\n",
       "      <td>Yes</td>\n",
       "      <td>Yes</td>\n",
       "      <td>Apple</td>\n",
       "      <td>IoS</td>\n",
       "      <td>NaN</td>\n",
       "      <td>None</td>\n",
       "      <td>None</td>\n",
       "      <td>POINT (77.64969 31.10611)</td>\n",
       "    </tr>\n",
       "    <tr>\n",
       "      <th>4</th>\n",
       "      <td>2021-06-26</td>\n",
       "      <td>Zhrik79t</td>\n",
       "      <td>r01t32y9y3</td>\n",
       "      <td>Male</td>\n",
       "      <td>Yes</td>\n",
       "      <td>None</td>\n",
       "      <td>None</td>\n",
       "      <td>None</td>\n",
       "      <td>None</td>\n",
       "      <td>6000.0</td>\n",
       "      <td>...</td>\n",
       "      <td>English and Hindi</td>\n",
       "      <td>Yes</td>\n",
       "      <td>Yes</td>\n",
       "      <td>Yes</td>\n",
       "      <td>Xiaomi</td>\n",
       "      <td>Android</td>\n",
       "      <td>NaN</td>\n",
       "      <td>None</td>\n",
       "      <td>None</td>\n",
       "      <td>None</td>\n",
       "    </tr>\n",
       "  </tbody>\n",
       "</table>\n",
       "<p>5 rows × 114 columns</p>\n",
       "</div>"
      ],
      "text/plain": [
       "   Date of th    Name of th   Contact nu Gender Are you a  \\\n",
       "0  2021-05-20   Akhil Jinta   yb1t669yyy   Male        No   \n",
       "1  2021-06-21    Amit Jaita   xa16r3003r   Male        No   \n",
       "2  2021-05-22        P79kaj   91290z000r   Male       Yes   \n",
       "3  2021-05-25  Raghav T79ta  yb1ttty6222   Male       Yes   \n",
       "4  2021-06-26      Zhrik79t   r01t32y9y3   Male       Yes   \n",
       "\n",
       "                        If Yes_ Pl If Yes_ _1        Site GPS l  \\\n",
       "0                             None       None  31.1922965118397   \n",
       "1  Progressive Growers Association      240.0  31.1154025094707   \n",
       "2      Baghi Apple Growers Society       None  31.1409520521778   \n",
       "3     Jubbal Apple Growers Society      300.0  31.1061073409128   \n",
       "4                             None       None              None   \n",
       "\n",
       "         Site GPS_1 Altitude (  ...         Please m_1 Do you use If Yes, do  \\\n",
       "0  77.7477854408256     5800.0  ...     English, Hindi        Yes        Yes   \n",
       "1  77.8020973736234     7300.0  ...     English, Hindi        Yes        Yes   \n",
       "2  77.7861961282442     6200.0  ...     English, Hindi        Yes        Yes   \n",
       "3  77.6496921409057     7500.0  ...     English, Hindi        Yes        Yes   \n",
       "4              None     6000.0  ...  English and Hindi        Yes        Yes   \n",
       "\n",
       "  If Yes, 10 What is _5 Operating assessment check comment  \\\n",
       "0        Yes    Samsung   Android        NaN  None    None   \n",
       "1        Yes     Xiaomi   Android        NaN  None    None   \n",
       "2        Yes       Vivo   Android        NaN  None    None   \n",
       "3        Yes      Apple       IoS        NaN  None    None   \n",
       "4        Yes     Xiaomi   Android        NaN  None    None   \n",
       "\n",
       "                    geometry  \n",
       "0  POINT (77.74779 31.19230)  \n",
       "1  POINT (77.80210 31.11540)  \n",
       "2  POINT (77.78620 31.14095)  \n",
       "3  POINT (77.64969 31.10611)  \n",
       "4                       None  \n",
       "\n",
       "[5 rows x 114 columns]"
      ]
     },
     "execution_count": 74,
     "metadata": {},
     "output_type": "execute_result"
    }
   ],
   "source": [
    "points_20220103_shp.head()"
   ]
  },
  {
   "cell_type": "code",
   "execution_count": 78,
   "id": "8bd809f6-8216-45e0-8344-a975fee9e11e",
   "metadata": {},
   "outputs": [
    {
     "data": {
      "text/plain": [
       "(483, 114)"
      ]
     },
     "execution_count": 78,
     "metadata": {},
     "output_type": "execute_result"
    }
   ],
   "source": [
    "points_20211213_shp = gpd.read_file(gt_dir + '/' + points_20211213)\n",
    "points_20211213_shp.shape"
   ]
  },
  {
   "cell_type": "code",
   "execution_count": null,
   "id": "33b63d9c-8c5c-4622-9c1e-8e6330be585c",
   "metadata": {},
   "outputs": [],
   "source": [
    "points_20211213_shp.head()"
   ]
  },
  {
   "cell_type": "code",
   "execution_count": 245,
   "id": "aac74f86-69b4-4fce-bf30-a89c69d332ae",
   "metadata": {},
   "outputs": [
    {
     "name": "stdout",
     "output_type": "stream",
     "text": [
      "Found 2 matches...\n",
      "32.098946 77.135877\n",
      "Found 2 matches...\n",
      "32.098946 77.135877\n"
     ]
    }
   ],
   "source": [
    "combined = points_20220103_shp.copy()\n",
    "for r, row in points_20220103_shp[points_20220103_shp['assessment'].isnull()].iterrows():\n",
    "    if row['geometry']:\n",
    "        mask1 = points_20211213_shp['Site GPS l'].astype(float) == row['geometry'].y\n",
    "        mask2 = points_20211213_shp['Site GPS_1'].astype(float) == row['geometry'].x\n",
    "        corr_row = points_20211213_shp[mask1 & mask2]\n",
    "        if corr_row.shape[0]:\n",
    "            if corr_row.shape[0] != 1:\n",
    "                print(f'Found {corr_row.shape[0]} matches...')\n",
    "                print(row['geometry'].y, row['geometry'].x)\n",
    "            assess = corr_row.loc[corr_row.index[0], 'assessment']\n",
    "            check = corr_row.loc[corr_row.index[0], 'check']\n",
    "            if not pd.isna(assess) and not pd.isna(check):\n",
    "                combined.loc[r, 'assessment'] = assess\n",
    "                combined.loc[r, 'check'] = check\n",
    "            else: \n",
    "                combined.loc[r, 'assessment'] = 1\n",
    "                combined.loc[r, 'check'] = 1\n",
    "        else:\n",
    "            combined.loc[r, 'assessment'] = -2\n",
    "            combined.loc[r, 'check'] = -2\n",
    "    else:\n",
    "        combined.loc[r, 'assessment'] = None\n",
    "        combined.loc[r, 'check'] = None"
   ]
  },
  {
   "cell_type": "code",
   "execution_count": 258,
   "id": "9200d658-b914-4828-86e8-657151eec9b1",
   "metadata": {},
   "outputs": [],
   "source": [
    "combined.assessment = combined.assessment.astype('Int64')\n",
    "combined.check = pd.to_numeric(combined.check, downcast='integer').astype('Int64')"
   ]
  },
  {
   "cell_type": "code",
   "execution_count": 259,
   "id": "ae8a82c1-d841-40bb-bc5d-84f0409b7f80",
   "metadata": {},
   "outputs": [
    {
     "data": {
      "text/plain": [
       "Date of th      object\n",
       "Name of th      object\n",
       "Contact nu      object\n",
       "Gender          object\n",
       "Are you a       object\n",
       "                ...   \n",
       "Operating       object\n",
       "assessment       Int64\n",
       "check            Int64\n",
       "comment         object\n",
       "geometry      geometry\n",
       "Length: 114, dtype: object"
      ]
     },
     "execution_count": 259,
     "metadata": {},
     "output_type": "execute_result"
    }
   ],
   "source": [
    "combined.dtypes"
   ]
  },
  {
   "cell_type": "code",
   "execution_count": 262,
   "id": "c29c4f56-cefe-4b3c-8536-4229196c746c",
   "metadata": {},
   "outputs": [
    {
     "data": {
      "text/html": [
       "<div>\n",
       "<style scoped>\n",
       "    .dataframe tbody tr th:only-of-type {\n",
       "        vertical-align: middle;\n",
       "    }\n",
       "\n",
       "    .dataframe tbody tr th {\n",
       "        vertical-align: top;\n",
       "    }\n",
       "\n",
       "    .dataframe thead th {\n",
       "        text-align: right;\n",
       "    }\n",
       "</style>\n",
       "<table border=\"1\" class=\"dataframe\">\n",
       "  <thead>\n",
       "    <tr style=\"text-align: right;\">\n",
       "      <th></th>\n",
       "      <th>Date of th</th>\n",
       "      <th>Name of th</th>\n",
       "      <th>Contact nu</th>\n",
       "      <th>Gender</th>\n",
       "      <th>Are you a</th>\n",
       "      <th>If Yes_ Pl</th>\n",
       "      <th>If Yes_ _1</th>\n",
       "      <th>Site GPS l</th>\n",
       "      <th>Site GPS_1</th>\n",
       "      <th>Altitude (</th>\n",
       "      <th>...</th>\n",
       "      <th>Can you wr</th>\n",
       "      <th>Please m_1</th>\n",
       "      <th>Do you use</th>\n",
       "      <th>If Yes, do</th>\n",
       "      <th>If Yes, 10</th>\n",
       "      <th>What is _5</th>\n",
       "      <th>Operating</th>\n",
       "      <th>assessment</th>\n",
       "      <th>comment</th>\n",
       "      <th>geometry</th>\n",
       "    </tr>\n",
       "    <tr>\n",
       "      <th>check</th>\n",
       "      <th></th>\n",
       "      <th></th>\n",
       "      <th></th>\n",
       "      <th></th>\n",
       "      <th></th>\n",
       "      <th></th>\n",
       "      <th></th>\n",
       "      <th></th>\n",
       "      <th></th>\n",
       "      <th></th>\n",
       "      <th></th>\n",
       "      <th></th>\n",
       "      <th></th>\n",
       "      <th></th>\n",
       "      <th></th>\n",
       "      <th></th>\n",
       "      <th></th>\n",
       "      <th></th>\n",
       "      <th></th>\n",
       "      <th></th>\n",
       "      <th></th>\n",
       "    </tr>\n",
       "  </thead>\n",
       "  <tbody>\n",
       "    <tr>\n",
       "      <th>0</th>\n",
       "      <td>28</td>\n",
       "      <td>28</td>\n",
       "      <td>27</td>\n",
       "      <td>28</td>\n",
       "      <td>28</td>\n",
       "      <td>20</td>\n",
       "      <td>19</td>\n",
       "      <td>28</td>\n",
       "      <td>28</td>\n",
       "      <td>18</td>\n",
       "      <td>...</td>\n",
       "      <td>28</td>\n",
       "      <td>28</td>\n",
       "      <td>28</td>\n",
       "      <td>28</td>\n",
       "      <td>28</td>\n",
       "      <td>25</td>\n",
       "      <td>25</td>\n",
       "      <td>28</td>\n",
       "      <td>2</td>\n",
       "      <td>28</td>\n",
       "    </tr>\n",
       "    <tr>\n",
       "      <th>1</th>\n",
       "      <td>360</td>\n",
       "      <td>360</td>\n",
       "      <td>340</td>\n",
       "      <td>356</td>\n",
       "      <td>359</td>\n",
       "      <td>304</td>\n",
       "      <td>275</td>\n",
       "      <td>360</td>\n",
       "      <td>360</td>\n",
       "      <td>123</td>\n",
       "      <td>...</td>\n",
       "      <td>360</td>\n",
       "      <td>360</td>\n",
       "      <td>360</td>\n",
       "      <td>360</td>\n",
       "      <td>360</td>\n",
       "      <td>335</td>\n",
       "      <td>333</td>\n",
       "      <td>360</td>\n",
       "      <td>0</td>\n",
       "      <td>360</td>\n",
       "    </tr>\n",
       "    <tr>\n",
       "      <th>2</th>\n",
       "      <td>90</td>\n",
       "      <td>90</td>\n",
       "      <td>85</td>\n",
       "      <td>90</td>\n",
       "      <td>90</td>\n",
       "      <td>85</td>\n",
       "      <td>76</td>\n",
       "      <td>90</td>\n",
       "      <td>90</td>\n",
       "      <td>22</td>\n",
       "      <td>...</td>\n",
       "      <td>90</td>\n",
       "      <td>90</td>\n",
       "      <td>90</td>\n",
       "      <td>90</td>\n",
       "      <td>90</td>\n",
       "      <td>79</td>\n",
       "      <td>79</td>\n",
       "      <td>90</td>\n",
       "      <td>0</td>\n",
       "      <td>90</td>\n",
       "    </tr>\n",
       "    <tr>\n",
       "      <th>NaN</th>\n",
       "      <td>1</td>\n",
       "      <td>1</td>\n",
       "      <td>1</td>\n",
       "      <td>1</td>\n",
       "      <td>1</td>\n",
       "      <td>0</td>\n",
       "      <td>0</td>\n",
       "      <td>0</td>\n",
       "      <td>0</td>\n",
       "      <td>1</td>\n",
       "      <td>...</td>\n",
       "      <td>1</td>\n",
       "      <td>1</td>\n",
       "      <td>1</td>\n",
       "      <td>1</td>\n",
       "      <td>1</td>\n",
       "      <td>1</td>\n",
       "      <td>1</td>\n",
       "      <td>0</td>\n",
       "      <td>0</td>\n",
       "      <td>0</td>\n",
       "    </tr>\n",
       "  </tbody>\n",
       "</table>\n",
       "<p>4 rows × 113 columns</p>\n",
       "</div>"
      ],
      "text/plain": [
       "       Date of th  Name of th  Contact nu  Gender  Are you a  If Yes_ Pl  \\\n",
       "check                                                                      \n",
       "0              28          28          27      28         28          20   \n",
       "1             360         360         340     356        359         304   \n",
       "2              90          90          85      90         90          85   \n",
       "NaN             1           1           1       1          1           0   \n",
       "\n",
       "       If Yes_ _1  Site GPS l  Site GPS_1  Altitude (  ...  Can you wr  \\\n",
       "check                                                  ...               \n",
       "0              19          28          28          18  ...          28   \n",
       "1             275         360         360         123  ...         360   \n",
       "2              76          90          90          22  ...          90   \n",
       "NaN             0           0           0           1  ...           1   \n",
       "\n",
       "       Please m_1  Do you use  If Yes, do  If Yes, 10  What is _5  Operating  \\\n",
       "check                                                                          \n",
       "0              28          28          28          28          25         25   \n",
       "1             360         360         360         360         335        333   \n",
       "2              90          90          90          90          79         79   \n",
       "NaN             1           1           1           1           1          1   \n",
       "\n",
       "       assessment  comment  geometry  \n",
       "check                                 \n",
       "0              28        2        28  \n",
       "1             360        0       360  \n",
       "2              90        0        90  \n",
       "NaN             0        0         0  \n",
       "\n",
       "[4 rows x 113 columns]"
      ]
     },
     "execution_count": 262,
     "metadata": {},
     "output_type": "execute_result"
    }
   ],
   "source": [
    "combined.groupby('check', dropna=False).count()"
   ]
  },
  {
   "cell_type": "code",
   "execution_count": 260,
   "id": "8457e734-6a5d-43c5-a951-94d4d6416576",
   "metadata": {},
   "outputs": [
    {
     "data": {
      "text/html": [
       "<div>\n",
       "<style scoped>\n",
       "    .dataframe tbody tr th:only-of-type {\n",
       "        vertical-align: middle;\n",
       "    }\n",
       "\n",
       "    .dataframe tbody tr th {\n",
       "        vertical-align: top;\n",
       "    }\n",
       "\n",
       "    .dataframe thead th {\n",
       "        text-align: right;\n",
       "    }\n",
       "</style>\n",
       "<table border=\"1\" class=\"dataframe\">\n",
       "  <thead>\n",
       "    <tr style=\"text-align: right;\">\n",
       "      <th></th>\n",
       "      <th>Date of th</th>\n",
       "      <th>Name of th</th>\n",
       "      <th>Contact nu</th>\n",
       "      <th>Gender</th>\n",
       "      <th>Are you a</th>\n",
       "      <th>If Yes_ Pl</th>\n",
       "      <th>If Yes_ _1</th>\n",
       "      <th>Site GPS l</th>\n",
       "      <th>Site GPS_1</th>\n",
       "      <th>Altitude (</th>\n",
       "      <th>...</th>\n",
       "      <th>Can you wr</th>\n",
       "      <th>Please m_1</th>\n",
       "      <th>Do you use</th>\n",
       "      <th>If Yes, do</th>\n",
       "      <th>If Yes, 10</th>\n",
       "      <th>What is _5</th>\n",
       "      <th>Operating</th>\n",
       "      <th>check</th>\n",
       "      <th>comment</th>\n",
       "      <th>geometry</th>\n",
       "    </tr>\n",
       "    <tr>\n",
       "      <th>assessment</th>\n",
       "      <th></th>\n",
       "      <th></th>\n",
       "      <th></th>\n",
       "      <th></th>\n",
       "      <th></th>\n",
       "      <th></th>\n",
       "      <th></th>\n",
       "      <th></th>\n",
       "      <th></th>\n",
       "      <th></th>\n",
       "      <th></th>\n",
       "      <th></th>\n",
       "      <th></th>\n",
       "      <th></th>\n",
       "      <th></th>\n",
       "      <th></th>\n",
       "      <th></th>\n",
       "      <th></th>\n",
       "      <th></th>\n",
       "      <th></th>\n",
       "      <th></th>\n",
       "    </tr>\n",
       "  </thead>\n",
       "  <tbody>\n",
       "    <tr>\n",
       "      <th>-1</th>\n",
       "      <td>30</td>\n",
       "      <td>30</td>\n",
       "      <td>29</td>\n",
       "      <td>30</td>\n",
       "      <td>30</td>\n",
       "      <td>26</td>\n",
       "      <td>25</td>\n",
       "      <td>30</td>\n",
       "      <td>30</td>\n",
       "      <td>11</td>\n",
       "      <td>...</td>\n",
       "      <td>30</td>\n",
       "      <td>30</td>\n",
       "      <td>30</td>\n",
       "      <td>30</td>\n",
       "      <td>30</td>\n",
       "      <td>30</td>\n",
       "      <td>30</td>\n",
       "      <td>30</td>\n",
       "      <td>0</td>\n",
       "      <td>30</td>\n",
       "    </tr>\n",
       "    <tr>\n",
       "      <th>0</th>\n",
       "      <td>9</td>\n",
       "      <td>9</td>\n",
       "      <td>9</td>\n",
       "      <td>9</td>\n",
       "      <td>9</td>\n",
       "      <td>8</td>\n",
       "      <td>8</td>\n",
       "      <td>9</td>\n",
       "      <td>9</td>\n",
       "      <td>5</td>\n",
       "      <td>...</td>\n",
       "      <td>9</td>\n",
       "      <td>9</td>\n",
       "      <td>9</td>\n",
       "      <td>9</td>\n",
       "      <td>9</td>\n",
       "      <td>6</td>\n",
       "      <td>6</td>\n",
       "      <td>9</td>\n",
       "      <td>0</td>\n",
       "      <td>9</td>\n",
       "    </tr>\n",
       "    <tr>\n",
       "      <th>1</th>\n",
       "      <td>284</td>\n",
       "      <td>284</td>\n",
       "      <td>268</td>\n",
       "      <td>281</td>\n",
       "      <td>284</td>\n",
       "      <td>234</td>\n",
       "      <td>210</td>\n",
       "      <td>284</td>\n",
       "      <td>284</td>\n",
       "      <td>103</td>\n",
       "      <td>...</td>\n",
       "      <td>284</td>\n",
       "      <td>284</td>\n",
       "      <td>284</td>\n",
       "      <td>284</td>\n",
       "      <td>284</td>\n",
       "      <td>265</td>\n",
       "      <td>263</td>\n",
       "      <td>284</td>\n",
       "      <td>1</td>\n",
       "      <td>284</td>\n",
       "    </tr>\n",
       "    <tr>\n",
       "      <th>2</th>\n",
       "      <td>155</td>\n",
       "      <td>155</td>\n",
       "      <td>146</td>\n",
       "      <td>154</td>\n",
       "      <td>154</td>\n",
       "      <td>141</td>\n",
       "      <td>127</td>\n",
       "      <td>155</td>\n",
       "      <td>155</td>\n",
       "      <td>44</td>\n",
       "      <td>...</td>\n",
       "      <td>155</td>\n",
       "      <td>155</td>\n",
       "      <td>155</td>\n",
       "      <td>155</td>\n",
       "      <td>155</td>\n",
       "      <td>138</td>\n",
       "      <td>138</td>\n",
       "      <td>155</td>\n",
       "      <td>1</td>\n",
       "      <td>155</td>\n",
       "    </tr>\n",
       "    <tr>\n",
       "      <th>NaN</th>\n",
       "      <td>1</td>\n",
       "      <td>1</td>\n",
       "      <td>1</td>\n",
       "      <td>1</td>\n",
       "      <td>1</td>\n",
       "      <td>0</td>\n",
       "      <td>0</td>\n",
       "      <td>0</td>\n",
       "      <td>0</td>\n",
       "      <td>1</td>\n",
       "      <td>...</td>\n",
       "      <td>1</td>\n",
       "      <td>1</td>\n",
       "      <td>1</td>\n",
       "      <td>1</td>\n",
       "      <td>1</td>\n",
       "      <td>1</td>\n",
       "      <td>1</td>\n",
       "      <td>0</td>\n",
       "      <td>0</td>\n",
       "      <td>0</td>\n",
       "    </tr>\n",
       "  </tbody>\n",
       "</table>\n",
       "<p>5 rows × 113 columns</p>\n",
       "</div>"
      ],
      "text/plain": [
       "            Date of th  Name of th  Contact nu  Gender  Are you a  If Yes_ Pl  \\\n",
       "assessment                                                                      \n",
       "-1                  30          30          29      30         30          26   \n",
       "0                    9           9           9       9          9           8   \n",
       "1                  284         284         268     281        284         234   \n",
       "2                  155         155         146     154        154         141   \n",
       "NaN                  1           1           1       1          1           0   \n",
       "\n",
       "            If Yes_ _1  Site GPS l  Site GPS_1  Altitude (  ...  Can you wr  \\\n",
       "assessment                                                  ...               \n",
       "-1                  25          30          30          11  ...          30   \n",
       "0                    8           9           9           5  ...           9   \n",
       "1                  210         284         284         103  ...         284   \n",
       "2                  127         155         155          44  ...         155   \n",
       "NaN                  0           0           0           1  ...           1   \n",
       "\n",
       "            Please m_1  Do you use  If Yes, do  If Yes, 10  What is _5  \\\n",
       "assessment                                                               \n",
       "-1                  30          30          30          30          30   \n",
       "0                    9           9           9           9           6   \n",
       "1                  284         284         284         284         265   \n",
       "2                  155         155         155         155         138   \n",
       "NaN                  1           1           1           1           1   \n",
       "\n",
       "            Operating  check  comment  geometry  \n",
       "assessment                                       \n",
       "-1                 30     30        0        30  \n",
       "0                   6      9        0         9  \n",
       "1                 263    284        1       284  \n",
       "2                 138    155        1       155  \n",
       "NaN                 1      0        0         0  \n",
       "\n",
       "[5 rows x 113 columns]"
      ]
     },
     "execution_count": 260,
     "metadata": {},
     "output_type": "execute_result"
    }
   ],
   "source": [
    "combined.groupby('assessment', dropna=False).count()"
   ]
  },
  {
   "cell_type": "code",
   "execution_count": 263,
   "id": "9ead8d03-2807-4c5a-aa6e-288ecdf861d6",
   "metadata": {},
   "outputs": [
    {
     "data": {
      "text/plain": [
       "<Geographic 2D CRS: EPSG:4326>\n",
       "Name: WGS 84\n",
       "Axis Info [ellipsoidal]:\n",
       "- Lat[north]: Geodetic latitude (degree)\n",
       "- Lon[east]: Geodetic longitude (degree)\n",
       "Area of Use:\n",
       "- name: World.\n",
       "- bounds: (-180.0, -90.0, 180.0, 90.0)\n",
       "Datum: World Geodetic System 1984 ensemble\n",
       "- Ellipsoid: WGS 84\n",
       "- Prime Meridian: Greenwich"
      ]
     },
     "execution_count": 263,
     "metadata": {},
     "output_type": "execute_result"
    }
   ],
   "source": [
    "combined.crs"
   ]
  },
  {
   "cell_type": "code",
   "execution_count": 265,
   "id": "c5b6b54a-e897-45aa-a220-fa67a901b1b1",
   "metadata": {},
   "outputs": [],
   "source": [
    "combined.to_file(gt_dir + '/survey_points_combined_20210716_20210825_20211213_20220103.shp')"
   ]
  },
  {
   "cell_type": "code",
   "execution_count": null,
   "id": "cd520e88-6a2b-4cdd-9c1b-042681e6a627",
   "metadata": {},
   "outputs": [],
   "source": []
  },
  {
   "cell_type": "markdown",
   "id": "c4725b27-f8bc-41c6-8687-b30030e65bc5",
   "metadata": {},
   "source": [
    "## Combine survey polygons"
   ]
  },
  {
   "cell_type": "code",
   "execution_count": 67,
   "id": "bf432274-a75f-4840-a586-a7a5e473333e",
   "metadata": {},
   "outputs": [],
   "source": [
    "polygon_dir = r'K:\\2021-data-org\\4. RESEARCH_n\\ML\\MLsatellite\\Data\\layers_india\\GT\\survey-polygons'\n",
    "apple_polygon1 = '/survey20210716_polygons20210819_corrected20210831.shp'\n",
    "apple_polygon2 = '/survey20210825_polygons20210901_revised20210929.shp'\n",
    "apple_polygon3 = '/survey20211213_polygons20220121.shp'\n",
    "apple_polygon4 = '/survey20220103_polygons20220121.shp'"
   ]
  },
  {
   "cell_type": "code",
   "execution_count": 68,
   "id": "917b8a9a-2db3-43f2-a6f7-8ea12251f221",
   "metadata": {},
   "outputs": [],
   "source": [
    "import geopandas as gpd"
   ]
  },
  {
   "cell_type": "code",
   "execution_count": 69,
   "id": "9b4221d4-566b-410d-a2e0-87c1baa1b7a2",
   "metadata": {},
   "outputs": [],
   "source": [
    "apple_polygon_shp1 = gpd.read_file(polygon_dir + apple_polygon1)\n",
    "apple_polygon_shp2 = gpd.read_file(polygon_dir + apple_polygon2)\n",
    "apple_polygon_shp3 = gpd.read_file(polygon_dir + apple_polygon3)\n",
    "apple_polygon_shp4 = gpd.read_file(polygon_dir + apple_polygon4)\n",
    "\n",
    "if not(apple_polygon_shp1.crs == apple_polygon_shp2.crs == apple_polygon_shp3.crs == apple_polygon_shp4.crs):\n",
    "    apple_polygon_shp2 = apple_polygon_shp2.to_crs(apple_polygon_shp1.crs)\n",
    "    apple_polygon_shp3 = apple_polygon_shp3.to_crs(apple_polygon_shp1.crs)\n",
    "    apple_polygon_shp4 = apple_polygon_shp4.to_crs(apple_polygon_shp1.crs)\n",
    "\n",
    "apple_polygons = gpd.GeoDataFrame(pd.concat([apple_polygon_shp1, apple_polygon_shp2, apple_polygon_shp3, apple_polygon_shp4], ignore_index=True))\n",
    "apple_polygons = apple_polygons.set_crs(apple_polygon_shp1.crs)\n",
    "apple_polygons.to_file(polygon_dir + '/combined/polygons_surveys_20210716_20210825_20211213_20220103.shp')"
   ]
  },
  {
   "cell_type": "code",
   "execution_count": null,
   "id": "6f583ef9-be7d-4135-9ae5-7e8d75f70aab",
   "metadata": {},
   "outputs": [],
   "source": []
  },
  {
   "cell_type": "markdown",
   "id": "b2b801d4-2cac-45ab-992b-c72b3f3580b6",
   "metadata": {},
   "source": [
    "## Combine cropland polygons"
   ]
  },
  {
   "cell_type": "code",
   "execution_count": 285,
   "id": "1c08b191-050d-4059-8044-552492447f22",
   "metadata": {},
   "outputs": [],
   "source": [
    "gt_dir = r'K:\\2021-data-org\\4. RESEARCH_n\\ML\\MLsatellite\\Data\\layers_india\\GT'\n",
    "apple_polygon1 = '/survey20210716_polygons20210819_corrected20210831.shp'\n",
    "apple_polygon2 = '/survey20210825_polygons20210901_revised20210929.shp'\n",
    "\n",
    "k_drive = r'K:\\2021-data-org\\4. RESEARCH_n\\ML\\MLsatellite\\Research\\WP1_Danya\\ML4Satellite\\data\\ground_truth'\n",
    "non_crops_polygon = '/non_crops/non_crops.shp'\n",
    "other_crops_polygon = '/other_crops/other_crops.shp'\n",
    "test_polygons_near = '/test_polygons_near/test_polygons_near.shp'\n",
    "test_polygons_far = '/test_polygons_far/test_polygons_far.shp'\n",
    "\n",
    "polygon_dir = r'K:\\2021-data-org\\4. RESEARCH_n\\ML\\MLsatellite\\Data\\layers_india\\GT\\survey-polygons'"
   ]
  },
  {
   "cell_type": "code",
   "execution_count": 279,
   "id": "d68401c9-1112-4981-a114-689ca963a007",
   "metadata": {},
   "outputs": [],
   "source": [
    "apple_polygon_shp1 = gpd.read_file(polygon_dir + apple_polygon1)\n",
    "apple_polygon_shp2 = gpd.read_file(polygon_dir + apple_polygon2)"
   ]
  },
  {
   "cell_type": "code",
   "execution_count": 284,
   "id": "c7407f9d-5bf3-4e7d-be2e-7c4c26da78d4",
   "metadata": {},
   "outputs": [],
   "source": [
    "non_crops_shp = gpd.read_file(k_drive + non_crops_polygon)\n",
    "other_crops_shp = gpd.read_file(k_drive + other_crops_polygon)\n",
    "test_near_shp = gpd.read_file(k_drive + test_polygons_near)\n",
    "test_far_shp = gpd.read_file(k_drive + test_polygons_far)"
   ]
  },
  {
   "cell_type": "code",
   "execution_count": 292,
   "id": "122036e3-d09e-49b7-a9ba-e4b5ebeef008",
   "metadata": {},
   "outputs": [],
   "source": [
    "if not (apple_polygon_shp1.crs == apple_polygon_shp2.crs == non_crops_shp.crs == other_crops_shp.crs == test_far_shp.crs == test_near_shp.crs):\n",
    "    apple_polygon_shp2 = apple_polygon_shp2.to_crs(apple_polygon_shp1.crs)\n",
    "    non_crops_shp = non_crops_shp.to_crs(apple_polygon_shp1.crs)\n",
    "    other_crops_shp = other_crops_shp.to_crs(apple_polygon_shp1.crs)\n",
    "    test_near_shp = test_near_shp.to_crs(apple_polygon_shp1.crs)\n",
    "    test_far_shp = test_far_shp.to_crs(apple_polygon_shp1.crs)\n",
    "\n",
    "train_shp = gpd.GeoDataFrame(pd.concat([apple_polygon_shp1[apple_polygon_shp1.district == 'Kullu'], \n",
    "                                        apple_polygon_shp2[apple_polygon_shp2.district == 'Kullu'], \n",
    "                                        non_crops_shp, other_crops_shp], ignore_index=True))\n",
    "test_shp = gpd.GeoDataFrame(pd.concat([apple_polygon_shp1[apple_polygon_shp1.district != 'Kullu'], \n",
    "                                       apple_polygon_shp2[apple_polygon_shp2.district != 'Kullu'], \n",
    "                                       test_near_shp, test_far_shp], ignore_index=True))\n",
    " \n",
    "train_shp = train_shp.set_crs(apple_polygon_shp1.crs)\n",
    "test_shp = test_shp.set_crs(apple_polygon_shp1.crs)\n",
    "\n",
    "train_shp.loc[train_shp.id == 1, 'id'] = 2\n",
    "test_shp.loc[test_shp.id == 1, 'id'] = 2"
   ]
  },
  {
   "cell_type": "code",
   "execution_count": 293,
   "id": "08589764-26f8-423e-bd8a-f123629c2cc4",
   "metadata": {},
   "outputs": [
    {
     "data": {
      "text/html": [
       "<div>\n",
       "<style scoped>\n",
       "    .dataframe tbody tr th:only-of-type {\n",
       "        vertical-align: middle;\n",
       "    }\n",
       "\n",
       "    .dataframe tbody tr th {\n",
       "        vertical-align: top;\n",
       "    }\n",
       "\n",
       "    .dataframe thead th {\n",
       "        text-align: right;\n",
       "    }\n",
       "</style>\n",
       "<table border=\"1\" class=\"dataframe\">\n",
       "  <thead>\n",
       "    <tr style=\"text-align: right;\">\n",
       "      <th></th>\n",
       "      <th>id</th>\n",
       "      <th>district</th>\n",
       "      <th>geometry</th>\n",
       "    </tr>\n",
       "  </thead>\n",
       "  <tbody>\n",
       "    <tr>\n",
       "      <th>0</th>\n",
       "      <td>2</td>\n",
       "      <td>Kullu</td>\n",
       "      <td>POLYGON ((77.12878 32.05505, 77.12891 32.05526...</td>\n",
       "    </tr>\n",
       "    <tr>\n",
       "      <th>1</th>\n",
       "      <td>2</td>\n",
       "      <td>Kullu</td>\n",
       "      <td>POLYGON ((77.12814 32.05329, 77.12858 32.05315...</td>\n",
       "    </tr>\n",
       "    <tr>\n",
       "      <th>2</th>\n",
       "      <td>2</td>\n",
       "      <td>Kullu</td>\n",
       "      <td>POLYGON ((77.12329 32.09353, 77.12294 32.09258...</td>\n",
       "    </tr>\n",
       "    <tr>\n",
       "      <th>3</th>\n",
       "      <td>2</td>\n",
       "      <td>Kullu</td>\n",
       "      <td>POLYGON ((77.12360 32.09328, 77.12374 32.09321...</td>\n",
       "    </tr>\n",
       "    <tr>\n",
       "      <th>4</th>\n",
       "      <td>2</td>\n",
       "      <td>Kullu</td>\n",
       "      <td>POLYGON ((77.12452 32.09245, 77.12481 32.09236...</td>\n",
       "    </tr>\n",
       "    <tr>\n",
       "      <th>...</th>\n",
       "      <td>...</td>\n",
       "      <td>...</td>\n",
       "      <td>...</td>\n",
       "    </tr>\n",
       "    <tr>\n",
       "      <th>215</th>\n",
       "      <td>2</td>\n",
       "      <td>Kullu</td>\n",
       "      <td>POLYGON ((77.06560 32.10466, 77.06436 32.10564...</td>\n",
       "    </tr>\n",
       "    <tr>\n",
       "      <th>216</th>\n",
       "      <td>2</td>\n",
       "      <td>Kullu</td>\n",
       "      <td>POLYGON ((77.07429 32.10560, 77.07514 32.10558...</td>\n",
       "    </tr>\n",
       "    <tr>\n",
       "      <th>217</th>\n",
       "      <td>2</td>\n",
       "      <td>Kullu</td>\n",
       "      <td>POLYGON ((77.04770 32.12151, 77.04883 32.12285...</td>\n",
       "    </tr>\n",
       "    <tr>\n",
       "      <th>218</th>\n",
       "      <td>2</td>\n",
       "      <td>Kullu</td>\n",
       "      <td>POLYGON ((77.05132 32.11779, 77.05169 32.11870...</td>\n",
       "    </tr>\n",
       "    <tr>\n",
       "      <th>219</th>\n",
       "      <td>2</td>\n",
       "      <td>Kullu</td>\n",
       "      <td>POLYGON ((77.05397 32.11915, 77.05483 32.11960...</td>\n",
       "    </tr>\n",
       "  </tbody>\n",
       "</table>\n",
       "<p>220 rows × 3 columns</p>\n",
       "</div>"
      ],
      "text/plain": [
       "     id district                                           geometry\n",
       "0     2    Kullu  POLYGON ((77.12878 32.05505, 77.12891 32.05526...\n",
       "1     2    Kullu  POLYGON ((77.12814 32.05329, 77.12858 32.05315...\n",
       "2     2    Kullu  POLYGON ((77.12329 32.09353, 77.12294 32.09258...\n",
       "3     2    Kullu  POLYGON ((77.12360 32.09328, 77.12374 32.09321...\n",
       "4     2    Kullu  POLYGON ((77.12452 32.09245, 77.12481 32.09236...\n",
       "..   ..      ...                                                ...\n",
       "215   2    Kullu  POLYGON ((77.06560 32.10466, 77.06436 32.10564...\n",
       "216   2    Kullu  POLYGON ((77.07429 32.10560, 77.07514 32.10558...\n",
       "217   2    Kullu  POLYGON ((77.04770 32.12151, 77.04883 32.12285...\n",
       "218   2    Kullu  POLYGON ((77.05132 32.11779, 77.05169 32.11870...\n",
       "219   2    Kullu  POLYGON ((77.05397 32.11915, 77.05483 32.11960...\n",
       "\n",
       "[220 rows x 3 columns]"
      ]
     },
     "execution_count": 293,
     "metadata": {},
     "output_type": "execute_result"
    }
   ],
   "source": [
    "train_shp"
   ]
  },
  {
   "cell_type": "code",
   "execution_count": 294,
   "id": "937bbc36-f5bd-4c1e-b86c-5f24ceb680ed",
   "metadata": {},
   "outputs": [],
   "source": [
    "train_shp.to_file(gt_dir + '/cropland-polygons/train_polygons.shp')\n",
    "test_shp.to_file(gt_dir + '/cropland-polygons/test_polygons.shp')"
   ]
  },
  {
   "cell_type": "code",
   "execution_count": null,
   "id": "706fc644-deec-4165-8638-e12be582f471",
   "metadata": {},
   "outputs": [],
   "source": []
  },
  {
   "cell_type": "markdown",
   "id": "0da52259-1337-496e-903e-995312b7c33f",
   "metadata": {},
   "source": [
    "## Split train and test polygons for apple classification"
   ]
  },
  {
   "cell_type": "code",
   "execution_count": 1,
   "id": "39896825-7c21-42c3-902f-5d7142171c34",
   "metadata": {},
   "outputs": [],
   "source": [
    "import geopandas as gpd"
   ]
  },
  {
   "cell_type": "code",
   "execution_count": 70,
   "id": "003d39a3-92a4-4d0e-ab76-234c686a7bb8",
   "metadata": {},
   "outputs": [],
   "source": [
    "apple_dir = r'K:\\2021-data-org\\4. RESEARCH_n\\ML\\MLsatellite\\Research\\WP1_Danya\\ML4Satellite\\data\\ground_truth\\apple_polygons'\n",
    "apple_name = '/polygons_surveys_20210716_20210825_20211213_20220103.shp'"
   ]
  },
  {
   "cell_type": "code",
   "execution_count": 71,
   "id": "8be90869-dd83-4426-9928-7035a5f8199d",
   "metadata": {},
   "outputs": [],
   "source": [
    "apple_shp = gpd.read_file(apple_dir + apple_name)"
   ]
  },
  {
   "cell_type": "code",
   "execution_count": 72,
   "id": "60628470-322d-4bab-ae94-38519292649a",
   "metadata": {},
   "outputs": [],
   "source": [
    "apple_shp[apple_shp.district == 'Kullu'].to_file(apple_dir + '/kullu.shp')\n",
    "apple_shp[apple_shp.district == 'Shimla'].to_file(apple_dir + '/shimla.shp')\n",
    "apple_shp[apple_shp.district == 'Mandi'].to_file(apple_dir + '/mandi.shp')"
   ]
  },
  {
   "cell_type": "code",
   "execution_count": 22,
   "id": "ac81b366-6735-4b1b-bbf2-a93abccb13e2",
   "metadata": {},
   "outputs": [],
   "source": [
    "img_path = r'N:\\dataorg-datasets\\MLsatellite\\sentinel2_images\\images_danya\\43SFR\\raster_sample\\L2A_T43SFR_A014860_20200110T053549.tiff'\n",
    "with rasterio.open(img_path, 'r') as f:\n",
    "    meta = f.meta"
   ]
  },
  {
   "cell_type": "code",
   "execution_count": 8,
   "id": "86965989-53aa-4f89-834c-27a903fe6d7a",
   "metadata": {},
   "outputs": [],
   "source": [
    "kullu_apple = apple_shp[apple_shp.district == 'Kullu']\n",
    "mandi_apple = apple_shp[apple_shp.district == 'Mandi']\n",
    "shimla_apple = apple_shp[apple_shp.district == 'Shimla']"
   ]
  },
  {
   "cell_type": "code",
   "execution_count": 12,
   "id": "26ce3db8-0a76-4ba0-aa18-623ba274fd4a",
   "metadata": {},
   "outputs": [],
   "source": [
    "from rasterio.features import rasterize"
   ]
  },
  {
   "cell_type": "code",
   "execution_count": 43,
   "id": "6fba7c58-c891-44a0-8f5e-8fe0036fd4f4",
   "metadata": {},
   "outputs": [],
   "source": [
    "def shp_to_arr(shp, transform):\n",
    "    minx, miny, maxx, maxy = shp.to_crs(meta['crs']).total_bounds\n",
    "    row_min, col_min = rasterio.transform.rowcol(meta['transform'], minx, maxy)\n",
    "    row_max, col_max = rasterio.transform.rowcol(meta['transform'], maxx, miny)\n",
    "    \n",
    "    val_list = list(shp.id.values)\n",
    "    features_list = [shapely.geometry.mapping(s) for s in shp.geometry]\n",
    "    iterable = iter([(feature, val) for feature, val in zip(features_list, val_list)])\n",
    "    img = rasterize(iterable, out_shape=(row_max - row_min, col_max - col_min), transform=transform)\n",
    "\n",
    "    return img"
   ]
  },
  {
   "cell_type": "code",
   "execution_count": 44,
   "id": "abaa95f7-27fd-4403-89cd-3563af63feba",
   "metadata": {},
   "outputs": [],
   "source": [
    "kullu_raster = shp_to_arr(kullu_apple, meta['transform'])\n",
    "mandi_raster = shp_to_arr(mandi_apple, meta['transform'])\n",
    "shimla_raster = shp_to_arr(shimla_apple, meta['transform'])"
   ]
  },
  {
   "cell_type": "code",
   "execution_count": 45,
   "id": "24beb7aa-4ea0-44f5-bbcb-d4803cc9d9b2",
   "metadata": {},
   "outputs": [
    {
     "data": {
      "text/plain": [
       "(0, 0, 0)"
      ]
     },
     "execution_count": 45,
     "metadata": {},
     "output_type": "execute_result"
    }
   ],
   "source": [
    "(kullu_raster == 1).sum(), (mandi_raster == 1).sum(), (shimla_raster == 1).sum()"
   ]
  },
  {
   "cell_type": "code",
   "execution_count": 53,
   "id": "63bd9fec-b1db-40d1-a21b-9b3e904901fd",
   "metadata": {},
   "outputs": [],
   "source": [
    "shp = kullu_apple.copy()\n",
    "shp = shp.to_crs(meta['crs'])\n",
    "minx, miny, maxx, maxy = shp.total_bounds\n",
    "row_min, col_min = rasterio.transform.rowcol(meta['transform'], minx, maxy)\n",
    "row_max, col_max = rasterio.transform.rowcol(meta['transform'], maxx, miny)\n",
    "\n",
    "val_list = list(shp.id.values)\n",
    "features_list = [shapely.geometry.mapping(s) for s in shp.geometry]\n",
    "iterable = iter([(feature, val) for feature, val in zip(features_list, val_list)])\n",
    "img = rasterize(iterable, out_shape=(row_max - row_min, col_max - col_min), transform=meta['transform'])"
   ]
  },
  {
   "cell_type": "code",
   "execution_count": 54,
   "id": "0194c014-5217-43e2-b107-deb0350edb25",
   "metadata": {},
   "outputs": [
    {
     "data": {
      "text/plain": [
       "0"
      ]
     },
     "execution_count": 54,
     "metadata": {},
     "output_type": "execute_result"
    }
   ],
   "source": [
    "img.sum()"
   ]
  },
  {
   "cell_type": "code",
   "execution_count": 64,
   "id": "52f0a840-2d5c-4b29-a878-334ead8fbb62",
   "metadata": {},
   "outputs": [],
   "source": [
    "iterable = iter([(feature, val) for feature, val in zip(features_list, val_list)])"
   ]
  },
  {
   "cell_type": "code",
   "execution_count": 61,
   "id": "f0de1852-7007-4a03-a000-bcdfeda80001",
   "metadata": {},
   "outputs": [
    {
     "data": {
      "text/plain": [
       "({'type': 'Polygon',\n",
       "  'coordinates': (((700975.0826736939, 3548519.2722491897),\n",
       "    (700986.3411852395, 3548543.555025041),\n",
       "    (701008.6905876274, 3548551.100427416),\n",
       "    (701042.1787254864, 3548534.319222642),\n",
       "    (701049.6890306589, 3548530.106930698),\n",
       "    (701056.9526234203, 3548524.9553797003),\n",
       "    (701066.3620302923, 3548518.6003254065),\n",
       "    (701072.8486151878, 3548512.4990537125),\n",
       "    (701085.9008063462, 3548482.856038777),\n",
       "    (701045.0228856088, 3548296.1046916386),\n",
       "    (700975.0905713942, 3548318.084774219),\n",
       "    (700911.7099909534, 3548371.029514106),\n",
       "    (700941.2116533124, 3548445.428489786),\n",
       "    (700956.0182157005, 3548478.112884507),\n",
       "    (700975.0826736939, 3548519.2722491897)),\n",
       "   ((701004.1985537646, 3548429.2290306897),\n",
       "    (700999.6090201657, 3548406.4015463577),\n",
       "    (701024.4098462404, 3548399.7272007703),\n",
       "    (701027.9079880094, 3548424.09048792),\n",
       "    (701004.1985537646, 3548429.2290306897)),\n",
       "   ((700985.5106717678, 3548381.5176806096),\n",
       "    (700980.7357553793, 3548354.637511888),\n",
       "    (701014.564336987, 3548347.518305114),\n",
       "    (701017.7052254626, 3548376.5465074675),\n",
       "    (700985.5106717678, 3548381.5176806096)),\n",
       "   ((701041.9925007029, 3548516.8735095975),\n",
       "    (701037.0703686209, 3548497.4655472445),\n",
       "    (701062.9316258698, 3548490.812234788),\n",
       "    (701063.1178193772, 3548508.257949365),\n",
       "    (701041.9925007029, 3548516.8735095975)))},\n",
       " 1)"
      ]
     },
     "execution_count": 61,
     "metadata": {},
     "output_type": "execute_result"
    }
   ],
   "source": [
    "next(iterable)"
   ]
  },
  {
   "cell_type": "code",
   "execution_count": 65,
   "id": "ffab80db-ec71-4586-811a-eda39d29a5aa",
   "metadata": {},
   "outputs": [
    {
     "data": {
      "text/plain": [
       "0"
      ]
     },
     "execution_count": 65,
     "metadata": {},
     "output_type": "execute_result"
    }
   ],
   "source": [
    "rasterize(iterable, out_shape=(row_max - row_min, col_max - col_min)).sum()"
   ]
  },
  {
   "cell_type": "code",
   "execution_count": 73,
   "id": "3faf63ae-fe7b-4353-bf47-ee0d73a9378c",
   "metadata": {},
   "outputs": [],
   "source": [
    "n_kullu = 6743\n",
    "n_mandi = 4422\n",
    "n_shimla = 10761"
   ]
  },
  {
   "cell_type": "code",
   "execution_count": 75,
   "id": "e530dfbb-9b93-498f-9dd3-c6fca972cd0f",
   "metadata": {},
   "outputs": [
    {
     "data": {
      "text/plain": [
       "21926"
      ]
     },
     "execution_count": 75,
     "metadata": {},
     "output_type": "execute_result"
    }
   ],
   "source": [
    "n_tot = n_kullu + n_mandi + n_shimla\n",
    "n_tot"
   ]
  },
  {
   "cell_type": "code",
   "execution_count": 76,
   "id": "cd431423-9f92-40d7-9f67-60e6deee0b28",
   "metadata": {},
   "outputs": [
    {
     "data": {
      "text/plain": [
       "0.2016783727082003"
      ]
     },
     "execution_count": 76,
     "metadata": {},
     "output_type": "execute_result"
    }
   ],
   "source": [
    "n_mandi / n_tot"
   ]
  },
  {
   "cell_type": "code",
   "execution_count": null,
   "id": "40025496-8f30-4f4a-b6cf-8d4f16a695ec",
   "metadata": {},
   "outputs": [],
   "source": []
  }
 ],
 "metadata": {
  "kernelspec": {
   "display_name": "Python 3 (ipykernel)",
   "language": "python",
   "name": "python3"
  },
  "language_info": {
   "codemirror_mode": {
    "name": "ipython",
    "version": 3
   },
   "file_extension": ".py",
   "mimetype": "text/x-python",
   "name": "python",
   "nbconvert_exporter": "python",
   "pygments_lexer": "ipython3",
   "version": "3.9.7"
  }
 },
 "nbformat": 4,
 "nbformat_minor": 5
}
