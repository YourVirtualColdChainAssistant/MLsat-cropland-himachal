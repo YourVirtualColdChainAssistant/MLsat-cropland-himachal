{
 "cells": [
  {
   "cell_type": "code",
   "execution_count": 1,
   "id": "8cf71aa5-432f-4e92-be76-f44b00a3484a",
   "metadata": {},
   "outputs": [
    {
     "name": "stderr",
     "output_type": "stream",
     "text": [
      "Can't load requested DLL: C:\\Program Files\\GDAL\\gdalplugins\\gdal_KEA.dll\n",
      "127: The specified procedure could not be found.\n",
      "\n",
      "Can't load requested DLL: C:\\Program Files\\GDAL\\gdalplugins\\gdal_KEA.dll\n",
      "127: The specified procedure could not be found.\n",
      "\n",
      "Can't load requested DLL: C:\\Program Files\\GDAL\\gdalplugins\\gdal_KEA.dll\n",
      "127: The specified procedure could not be found.\n",
      "\n",
      "Can't load requested DLL: C:\\Program Files\\GDAL\\gdalplugins\\gdal_KEA.dll\n",
      "127: The specified procedure could not be found.\n",
      "\n"
     ]
    }
   ],
   "source": [
    "import os\n",
    "import re\n",
    "import sys\n",
    "import math \n",
    "import fiona\n",
    "import random\n",
    "import logging\n",
    "import datetime\n",
    "import numpy as np\n",
    "import pandas as pd\n",
    "import geopandas as gpd\n",
    "import skimage\n",
    "import skimage.draw\n",
    "import pyproj\n",
    "import rasterio\n",
    "from rasterio.mask import mask\n",
    "from rasterio.warp import calculate_default_transform, reproject, Resampling"
   ]
  },
  {
   "cell_type": "markdown",
   "id": "9e4284a3-d0b9-42ca-9851-d66fe09338ff",
   "metadata": {},
   "source": [
    "## Grid by myself"
   ]
  },
  {
   "cell_type": "code",
   "execution_count": 45,
   "id": "795593d9-52fe-40de-b23a-03224c01d290",
   "metadata": {},
   "outputs": [],
   "source": [
    "def get_grid_idx(cell_size=64, height=2357, width=1892):\n",
    "    num_h = math.ceil(height / cell_size)\n",
    "    num_w = math.ceil(width / cell_size)\n",
    "    num_range = np.arange(num_h * num_w).reshape(num_h, num_w)\n",
    "    print(f'There are {num_h * num_w} grid groups in total.')\n",
    "    grid_idx = num_range.repeat(cell_size, axis=0).repeat(cell_size, axis=1)\n",
    "    print(f'before: {grid_idx.shape}')\n",
    "    grid_idx = grid_idx[:height, :width]\n",
    "    print(f'after: {grid_idx.shape}')\n",
    "    return grid_idx"
   ]
  },
  {
   "cell_type": "code",
   "execution_count": 46,
   "id": "4844f464-1c3c-40e5-8b68-f6f6f6d8993c",
   "metadata": {},
   "outputs": [
    {
     "name": "stdout",
     "output_type": "stream",
     "text": [
      "There are 1110 grid groups in total.\n",
      "before: (2368, 1920)\n",
      "after: (2357, 1892)\n"
     ]
    }
   ],
   "source": [
    "grid_idx = get_grid_idx()"
   ]
  },
  {
   "cell_type": "code",
   "execution_count": 47,
   "id": "3be5b1e5-801f-4df9-9c67-6500d9eeee43",
   "metadata": {},
   "outputs": [
    {
     "data": {
      "text/plain": [
       "222.0"
      ]
     },
     "execution_count": 47,
     "metadata": {},
     "output_type": "execute_result"
    }
   ],
   "source": [
    "1110*0.2"
   ]
  },
  {
   "cell_type": "code",
   "execution_count": 51,
   "id": "c52aac68-82c9-414c-a329-f16ac79ff1b6",
   "metadata": {},
   "outputs": [],
   "source": [
    "grid_idx_test = random.sample(list(np.arange(1110)), math.ceil(1110*0.2))\n",
    "grid_idx_train_val = list(set(np.arange(1110)) - set(grid_idx_test))"
   ]
  },
  {
   "cell_type": "code",
   "execution_count": 53,
   "id": "2ce1db03-87dc-4b83-a642-4d759608e498",
   "metadata": {},
   "outputs": [],
   "source": [
    "pred_path = '../preds/1008-183014_rfc.tif'\n",
    "band_pred, meta_pred = load_geotiff(pred_path)"
   ]
  },
  {
   "cell_type": "code",
   "execution_count": 66,
   "id": "731a0473-5144-4825-bcae-154767f3385a",
   "metadata": {},
   "outputs": [],
   "source": [
    "def visualize_train_test_grid_split(meta_src, grid_idx_test, grid_idx_train_val, spatial_dict, save_path):\n",
    "    # get the grid idx\n",
    "    cell_size, height, width = spatial_dict['cell_size'], spatial_dict['height'], spatial_dict['width']\n",
    "    grid_idx = get_grid_idx(cell_size, height, width).reshape(-1)\n",
    "    # build \n",
    "    output = np.zeros_like(grid_idx)\n",
    "    test_mask = [True if idx in grid_idx_test else False for idx in grid_idx]\n",
    "    train_val_mask = [True if idx in grid_idx_train_val else False for idx in grid_idx]\n",
    "    output[test_mask] = 1\n",
    "    output[train_val_mask] = 2\n",
    "    \n",
    "    with rasterio.Env():\n",
    "        # Write an array as a raster band to a new 8-bit file. We start with the profile of the source\n",
    "        out_meta = meta_src.copy()\n",
    "        out_meta.update(\n",
    "            dtype=rasterio.uint8,\n",
    "            count=1,\n",
    "            compress='lzw')\n",
    "        with rasterio.open(save_path, 'w', **out_meta) as dst:\n",
    "            # reshape into (band, height, width)\n",
    "            dst.write(output.reshape(1, out_meta['height'], out_meta['width']).astype(rasterio.uint8))\n",
    "            dst.write_colormap(\n",
    "            1, {\n",
    "                0: (0, 0, 0), \n",
    "                1: (240, 72, 72),\n",
    "                2: (71, 208, 240)})\n",
    "            \n",
    "def load_geotiff(path, window=None):\n",
    "    \"\"\" Load the geotiff as a list of numpy array.\n",
    "        INPUT : path (str) -> the path to the geotiff\n",
    "                window (rasterio.windows.Window) -> the window to use when loading the image\n",
    "        OUTPUT : band (list of numpy array) -> the different bands as float scaled to 0:1\n",
    "                 meta (dictionary) -> the metadata associated with the geotiff\n",
    "    \"\"\"\n",
    "    with rasterio.open(path) as f:\n",
    "        band = [skimage.img_as_float(f.read(i+1, window=window)) for i in range(f.count)]\n",
    "        meta = f.meta\n",
    "        if window is not None:\n",
    "            meta['height'] = window.height\n",
    "            meta['width'] = window.width\n",
    "            meta['transform'] = f.window_transform(window)\n",
    "    return band, meta"
   ]
  },
  {
   "cell_type": "code",
   "execution_count": 67,
   "id": "82a78982-966f-4c99-b7b4-17bc44e9eda5",
   "metadata": {},
   "outputs": [
    {
     "name": "stdout",
     "output_type": "stream",
     "text": [
      "There are 1110 grid groups in total.\n",
      "before: (2368, 1920)\n",
      "after: (2357, 1892)\n"
     ]
    }
   ],
   "source": [
    "spatial_dict = {'cell_size': 64, 'height': meta_pred['height'], 'width': meta_pred['width']}\n",
    "visualize_train_test_grid_split(meta_pred, grid_idx_test, grid_idx_train_val, spatial_dict, './train_test_split.tiff')"
   ]
  },
  {
   "cell_type": "code",
   "execution_count": 1,
   "id": "0576a49b-1ec8-4c3d-8e44-86bbf4a7a425",
   "metadata": {},
   "outputs": [
    {
     "data": {
      "text/plain": [
       "1"
      ]
     },
     "execution_count": 1,
     "metadata": {},
     "output_type": "execute_result"
    }
   ],
   "source": [
    "1"
   ]
  },
  {
   "cell_type": "code",
   "execution_count": 2,
   "id": "a754960e-f721-41ba-9efa-df1c05fc9ce6",
   "metadata": {},
   "outputs": [],
   "source": [
    "class Model(object):\n",
    "    def __init__(self, logger, log_time, model_name):\n",
    "        self._logger = logger\n",
    "        self._log_time = log_time\n",
    "        self.model_name = model_name\n",
    "\n",
    "    def _check_model_name(self, model_list):\n",
    "        if self.model_name not in model_list:\n",
    "            raise ValueError(f'No such model {self.model_name}. Please choose from {model_list}.')\n",
    "    \n",
    "    def fit_best(self):\n",
    "        raise NotImplementedError"
   ]
  },
  {
   "cell_type": "code",
   "execution_count": 3,
   "id": "975f01b4-1d9a-47bd-b7e2-0b15572ed768",
   "metadata": {},
   "outputs": [],
   "source": [
    "class ModelCropland(Model):\n",
    "    def __init__(self, logger, log_time, model_name):\n",
    "        super().__init__(logger, log_time, model_name)\n",
    "        self._check_model_name(model_list=['svc', 'rfc', 'mlp', 'gru'])\n",
    "        self.best_params = None\n",
    "        self.model = None\n",
    "    \n",
    "    def fit_best(self, arg):\n",
    "        print(f'Fit best in ModelCropSpecific with arg {arg}')"
   ]
  },
  {
   "cell_type": "code",
   "execution_count": 14,
   "id": "c91ffa88-4134-41af-9fcd-59c32adf64bf",
   "metadata": {},
   "outputs": [],
   "source": [
    "class ModelCropSpecific(Model):\n",
    "    def __init__(self, logger, log_time, model_name, pretrained_name=None):\n",
    "        super().__init__(logger, log_time, model_name)\n",
    "        self._check_model_name(model_list=['ocsvm', 'pul', 'pul-w'])\n",
    "        if pretrained_name is None:\n",
    "            self.base_model = None\n",
    "            print('Train from scratch.')\n",
    "        else:\n",
    "            self.base_model = pretrained_name\n",
    "            print(f'Loaded pretrained model {pretrained_name}.')\n",
    "        \n",
    "        self.best_params = None\n",
    "        self.model = None\n",
    "        \n",
    "    def fit_best(self, arg):\n",
    "        print(f'Fit best in ModelCropSpecific with arg {arg}')\n",
    "        \n",
    "    def evaluate(self):\n",
    "        print('Add evaluation method')"
   ]
  },
  {
   "cell_type": "code",
   "execution_count": 5,
   "id": "e524051f-2c8d-4cf1-a4ee-173fea9cebbe",
   "metadata": {},
   "outputs": [
    {
     "ename": "ValueError",
     "evalue": "No such model model. Please choose from ['svc', 'rfc', 'mlp', 'gru'].",
     "output_type": "error",
     "traceback": [
      "\u001b[1;31m---------------------------------------------------------------------------\u001b[0m",
      "\u001b[1;31mValueError\u001b[0m                                Traceback (most recent call last)",
      "\u001b[1;32m~\\AppData\\Local\\Temp/ipykernel_13704/240707529.py\u001b[0m in \u001b[0;36m<module>\u001b[1;34m\u001b[0m\n\u001b[1;32m----> 1\u001b[1;33m \u001b[0mmodel_c\u001b[0m \u001b[1;33m=\u001b[0m \u001b[0mModelCropland\u001b[0m\u001b[1;33m(\u001b[0m\u001b[1;34m'logger'\u001b[0m\u001b[1;33m,\u001b[0m \u001b[1;34m'log_time'\u001b[0m\u001b[1;33m,\u001b[0m \u001b[1;34m'model'\u001b[0m\u001b[1;33m)\u001b[0m\u001b[1;33m\u001b[0m\u001b[1;33m\u001b[0m\u001b[0m\n\u001b[0m",
      "\u001b[1;32m~\\AppData\\Local\\Temp/ipykernel_13704/2078887882.py\u001b[0m in \u001b[0;36m__init__\u001b[1;34m(self, logger, log_time, model_name)\u001b[0m\n\u001b[0;32m      2\u001b[0m     \u001b[1;32mdef\u001b[0m \u001b[0m__init__\u001b[0m\u001b[1;33m(\u001b[0m\u001b[0mself\u001b[0m\u001b[1;33m,\u001b[0m \u001b[0mlogger\u001b[0m\u001b[1;33m,\u001b[0m \u001b[0mlog_time\u001b[0m\u001b[1;33m,\u001b[0m \u001b[0mmodel_name\u001b[0m\u001b[1;33m)\u001b[0m\u001b[1;33m:\u001b[0m\u001b[1;33m\u001b[0m\u001b[1;33m\u001b[0m\u001b[0m\n\u001b[0;32m      3\u001b[0m         \u001b[0msuper\u001b[0m\u001b[1;33m(\u001b[0m\u001b[1;33m)\u001b[0m\u001b[1;33m.\u001b[0m\u001b[0m__init__\u001b[0m\u001b[1;33m(\u001b[0m\u001b[0mlogger\u001b[0m\u001b[1;33m,\u001b[0m \u001b[0mlog_time\u001b[0m\u001b[1;33m,\u001b[0m \u001b[0mmodel_name\u001b[0m\u001b[1;33m)\u001b[0m\u001b[1;33m\u001b[0m\u001b[1;33m\u001b[0m\u001b[0m\n\u001b[1;32m----> 4\u001b[1;33m         \u001b[0mself\u001b[0m\u001b[1;33m.\u001b[0m\u001b[0m_check_model_name\u001b[0m\u001b[1;33m(\u001b[0m\u001b[0mmodel_list\u001b[0m\u001b[1;33m=\u001b[0m\u001b[1;33m[\u001b[0m\u001b[1;34m'svc'\u001b[0m\u001b[1;33m,\u001b[0m \u001b[1;34m'rfc'\u001b[0m\u001b[1;33m,\u001b[0m \u001b[1;34m'mlp'\u001b[0m\u001b[1;33m,\u001b[0m \u001b[1;34m'gru'\u001b[0m\u001b[1;33m]\u001b[0m\u001b[1;33m)\u001b[0m\u001b[1;33m\u001b[0m\u001b[1;33m\u001b[0m\u001b[0m\n\u001b[0m\u001b[0;32m      5\u001b[0m         \u001b[0mself\u001b[0m\u001b[1;33m.\u001b[0m\u001b[0mbest_params\u001b[0m \u001b[1;33m=\u001b[0m \u001b[1;32mNone\u001b[0m\u001b[1;33m\u001b[0m\u001b[1;33m\u001b[0m\u001b[0m\n\u001b[0;32m      6\u001b[0m         \u001b[0mself\u001b[0m\u001b[1;33m.\u001b[0m\u001b[0mmodel\u001b[0m \u001b[1;33m=\u001b[0m \u001b[1;32mNone\u001b[0m\u001b[1;33m\u001b[0m\u001b[1;33m\u001b[0m\u001b[0m\n",
      "\u001b[1;32m~\\AppData\\Local\\Temp/ipykernel_13704/1676482671.py\u001b[0m in \u001b[0;36m_check_model_name\u001b[1;34m(self, model_list)\u001b[0m\n\u001b[0;32m      7\u001b[0m     \u001b[1;32mdef\u001b[0m \u001b[0m_check_model_name\u001b[0m\u001b[1;33m(\u001b[0m\u001b[0mself\u001b[0m\u001b[1;33m,\u001b[0m \u001b[0mmodel_list\u001b[0m\u001b[1;33m)\u001b[0m\u001b[1;33m:\u001b[0m\u001b[1;33m\u001b[0m\u001b[1;33m\u001b[0m\u001b[0m\n\u001b[0;32m      8\u001b[0m         \u001b[1;32mif\u001b[0m \u001b[0mself\u001b[0m\u001b[1;33m.\u001b[0m\u001b[0mmodel_name\u001b[0m \u001b[1;32mnot\u001b[0m \u001b[1;32min\u001b[0m \u001b[0mmodel_list\u001b[0m\u001b[1;33m:\u001b[0m\u001b[1;33m\u001b[0m\u001b[1;33m\u001b[0m\u001b[0m\n\u001b[1;32m----> 9\u001b[1;33m             \u001b[1;32mraise\u001b[0m \u001b[0mValueError\u001b[0m\u001b[1;33m(\u001b[0m\u001b[1;34mf'No such model {self.model_name}. Please choose from {model_list}.'\u001b[0m\u001b[1;33m)\u001b[0m\u001b[1;33m\u001b[0m\u001b[1;33m\u001b[0m\u001b[0m\n\u001b[0m\u001b[0;32m     10\u001b[0m \u001b[1;33m\u001b[0m\u001b[0m\n\u001b[0;32m     11\u001b[0m     \u001b[1;32mdef\u001b[0m \u001b[0mfit_best\u001b[0m\u001b[1;33m(\u001b[0m\u001b[0mself\u001b[0m\u001b[1;33m)\u001b[0m\u001b[1;33m:\u001b[0m\u001b[1;33m\u001b[0m\u001b[1;33m\u001b[0m\u001b[0m\n",
      "\u001b[1;31mValueError\u001b[0m: No such model model. Please choose from ['svc', 'rfc', 'mlp', 'gru']."
     ]
    }
   ],
   "source": [
    "model_c = ModelCropland('logger', 'log_time', 'model')"
   ]
  },
  {
   "cell_type": "code",
   "execution_count": 7,
   "id": "1e16c3fa-cfff-488d-99c5-2327d46f396f",
   "metadata": {},
   "outputs": [
    {
     "name": "stdout",
     "output_type": "stream",
     "text": [
      "Fit best in ModelCropSpecific with arg xx\n"
     ]
    }
   ],
   "source": [
    "model_c = ModelCropland('logger', 'log_time', 'svc')\n",
    "model_c.fit_best('xx')"
   ]
  },
  {
   "cell_type": "code",
   "execution_count": 8,
   "id": "f442de05-7db5-4bae-81e0-dc628f045426",
   "metadata": {},
   "outputs": [
    {
     "ename": "ValueError",
     "evalue": "No such model model. Please choose from ['svc', 'rfc', 'mlp', 'gru'].",
     "output_type": "error",
     "traceback": [
      "\u001b[1;31m---------------------------------------------------------------------------\u001b[0m",
      "\u001b[1;31mValueError\u001b[0m                                Traceback (most recent call last)",
      "\u001b[1;32m~\\AppData\\Local\\Temp/ipykernel_13704/3719268660.py\u001b[0m in \u001b[0;36m<module>\u001b[1;34m\u001b[0m\n\u001b[1;32m----> 1\u001b[1;33m \u001b[0mmodel_cs\u001b[0m \u001b[1;33m=\u001b[0m \u001b[0mModelCropland\u001b[0m\u001b[1;33m(\u001b[0m\u001b[1;34m'logger'\u001b[0m\u001b[1;33m,\u001b[0m \u001b[1;34m'log_time'\u001b[0m\u001b[1;33m,\u001b[0m \u001b[1;34m'model'\u001b[0m\u001b[1;33m)\u001b[0m\u001b[1;33m\u001b[0m\u001b[1;33m\u001b[0m\u001b[0m\n\u001b[0m",
      "\u001b[1;32m~\\AppData\\Local\\Temp/ipykernel_13704/2078887882.py\u001b[0m in \u001b[0;36m__init__\u001b[1;34m(self, logger, log_time, model_name)\u001b[0m\n\u001b[0;32m      2\u001b[0m     \u001b[1;32mdef\u001b[0m \u001b[0m__init__\u001b[0m\u001b[1;33m(\u001b[0m\u001b[0mself\u001b[0m\u001b[1;33m,\u001b[0m \u001b[0mlogger\u001b[0m\u001b[1;33m,\u001b[0m \u001b[0mlog_time\u001b[0m\u001b[1;33m,\u001b[0m \u001b[0mmodel_name\u001b[0m\u001b[1;33m)\u001b[0m\u001b[1;33m:\u001b[0m\u001b[1;33m\u001b[0m\u001b[1;33m\u001b[0m\u001b[0m\n\u001b[0;32m      3\u001b[0m         \u001b[0msuper\u001b[0m\u001b[1;33m(\u001b[0m\u001b[1;33m)\u001b[0m\u001b[1;33m.\u001b[0m\u001b[0m__init__\u001b[0m\u001b[1;33m(\u001b[0m\u001b[0mlogger\u001b[0m\u001b[1;33m,\u001b[0m \u001b[0mlog_time\u001b[0m\u001b[1;33m,\u001b[0m \u001b[0mmodel_name\u001b[0m\u001b[1;33m)\u001b[0m\u001b[1;33m\u001b[0m\u001b[1;33m\u001b[0m\u001b[0m\n\u001b[1;32m----> 4\u001b[1;33m         \u001b[0mself\u001b[0m\u001b[1;33m.\u001b[0m\u001b[0m_check_model_name\u001b[0m\u001b[1;33m(\u001b[0m\u001b[0mmodel_list\u001b[0m\u001b[1;33m=\u001b[0m\u001b[1;33m[\u001b[0m\u001b[1;34m'svc'\u001b[0m\u001b[1;33m,\u001b[0m \u001b[1;34m'rfc'\u001b[0m\u001b[1;33m,\u001b[0m \u001b[1;34m'mlp'\u001b[0m\u001b[1;33m,\u001b[0m \u001b[1;34m'gru'\u001b[0m\u001b[1;33m]\u001b[0m\u001b[1;33m)\u001b[0m\u001b[1;33m\u001b[0m\u001b[1;33m\u001b[0m\u001b[0m\n\u001b[0m\u001b[0;32m      5\u001b[0m         \u001b[0mself\u001b[0m\u001b[1;33m.\u001b[0m\u001b[0mbest_params\u001b[0m \u001b[1;33m=\u001b[0m \u001b[1;32mNone\u001b[0m\u001b[1;33m\u001b[0m\u001b[1;33m\u001b[0m\u001b[0m\n\u001b[0;32m      6\u001b[0m         \u001b[0mself\u001b[0m\u001b[1;33m.\u001b[0m\u001b[0mmodel\u001b[0m \u001b[1;33m=\u001b[0m \u001b[1;32mNone\u001b[0m\u001b[1;33m\u001b[0m\u001b[1;33m\u001b[0m\u001b[0m\n",
      "\u001b[1;32m~\\AppData\\Local\\Temp/ipykernel_13704/1676482671.py\u001b[0m in \u001b[0;36m_check_model_name\u001b[1;34m(self, model_list)\u001b[0m\n\u001b[0;32m      7\u001b[0m     \u001b[1;32mdef\u001b[0m \u001b[0m_check_model_name\u001b[0m\u001b[1;33m(\u001b[0m\u001b[0mself\u001b[0m\u001b[1;33m,\u001b[0m \u001b[0mmodel_list\u001b[0m\u001b[1;33m)\u001b[0m\u001b[1;33m:\u001b[0m\u001b[1;33m\u001b[0m\u001b[1;33m\u001b[0m\u001b[0m\n\u001b[0;32m      8\u001b[0m         \u001b[1;32mif\u001b[0m \u001b[0mself\u001b[0m\u001b[1;33m.\u001b[0m\u001b[0mmodel_name\u001b[0m \u001b[1;32mnot\u001b[0m \u001b[1;32min\u001b[0m \u001b[0mmodel_list\u001b[0m\u001b[1;33m:\u001b[0m\u001b[1;33m\u001b[0m\u001b[1;33m\u001b[0m\u001b[0m\n\u001b[1;32m----> 9\u001b[1;33m             \u001b[1;32mraise\u001b[0m \u001b[0mValueError\u001b[0m\u001b[1;33m(\u001b[0m\u001b[1;34mf'No such model {self.model_name}. Please choose from {model_list}.'\u001b[0m\u001b[1;33m)\u001b[0m\u001b[1;33m\u001b[0m\u001b[1;33m\u001b[0m\u001b[0m\n\u001b[0m\u001b[0;32m     10\u001b[0m \u001b[1;33m\u001b[0m\u001b[0m\n\u001b[0;32m     11\u001b[0m     \u001b[1;32mdef\u001b[0m \u001b[0mfit_best\u001b[0m\u001b[1;33m(\u001b[0m\u001b[0mself\u001b[0m\u001b[1;33m)\u001b[0m\u001b[1;33m:\u001b[0m\u001b[1;33m\u001b[0m\u001b[1;33m\u001b[0m\u001b[0m\n",
      "\u001b[1;31mValueError\u001b[0m: No such model model. Please choose from ['svc', 'rfc', 'mlp', 'gru']."
     ]
    }
   ],
   "source": [
    "model_cs = ModelCropland('logger', 'log_time', 'model')"
   ]
  },
  {
   "cell_type": "code",
   "execution_count": 12,
   "id": "65f3dcdb-8e8d-49df-b6fc-261e3debcb76",
   "metadata": {},
   "outputs": [
    {
     "name": "stdout",
     "output_type": "stream",
     "text": [
      "Train from scratch.\n",
      "Fit best in ModelCropSpecific with arg yy\n"
     ]
    }
   ],
   "source": [
    "model_cs = ModelCropSpecific('logger', 'log_time', 'ocsvm')\n",
    "model_cs.fit_best('yy')"
   ]
  },
  {
   "cell_type": "code",
   "execution_count": 15,
   "id": "ce5c7932-1f4f-40dd-a0e7-af17a5d23004",
   "metadata": {},
   "outputs": [
    {
     "name": "stdout",
     "output_type": "stream",
     "text": [
      "Loaded pretrained model pretrained_model.\n",
      "Fit best in ModelCropSpecific with arg yy\n",
      "Add evaluation method\n"
     ]
    }
   ],
   "source": [
    "model_cs = ModelCropSpecific('logger', 'log_time', 'ocsvm', 'pretrained_model')\n",
    "model_cs.fit_best('yy')\n",
    "model_cs.evaluate()"
   ]
  },
  {
   "cell_type": "code",
   "execution_count": null,
   "id": "42f03695-bbe6-4b6e-a5f1-0611c3e436e5",
   "metadata": {},
   "outputs": [],
   "source": []
  },
  {
   "cell_type": "code",
   "execution_count": 16,
   "id": "ce1bcea5-088a-4999-988a-0798fc4d47bf",
   "metadata": {},
   "outputs": [],
   "source": [
    "import numpy as np"
   ]
  },
  {
   "cell_type": "code",
   "execution_count": 20,
   "id": "7a579931-b51f-47bd-b0a0-4a0306a45e03",
   "metadata": {},
   "outputs": [
    {
     "data": {
      "text/plain": [
       "array([[0., 0.],\n",
       "       [0., 0.],\n",
       "       [0., 0.],\n",
       "       [0., 0.],\n",
       "       [0., 0.]])"
      ]
     },
     "execution_count": 20,
     "metadata": {},
     "output_type": "execute_result"
    }
   ],
   "source": [
    "a = np.zeros((5,2))\n",
    "a"
   ]
  },
  {
   "cell_type": "code",
   "execution_count": 21,
   "id": "8028cf1a-d611-4960-aa0d-46920cae0b51",
   "metadata": {},
   "outputs": [
    {
     "data": {
      "text/plain": [
       "array([[0., 0.],\n",
       "       [0., 0.],\n",
       "       [0., 0.],\n",
       "       [0., 0.],\n",
       "       [0., 0.],\n",
       "       [0., 0.],\n",
       "       [0., 0.],\n",
       "       [0., 0.],\n",
       "       [0., 0.],\n",
       "       [0., 0.]])"
      ]
     },
     "execution_count": 21,
     "metadata": {},
     "output_type": "execute_result"
    }
   ],
   "source": [
    "np.concatenate([a,a], axis=0)"
   ]
  },
  {
   "cell_type": "code",
   "execution_count": 22,
   "id": "746d0bfc-a5d1-4fa4-ae7e-d1666ab6bf54",
   "metadata": {},
   "outputs": [],
   "source": [
    "import pandas as pd"
   ]
  },
  {
   "cell_type": "code",
   "execution_count": 25,
   "id": "740e6eaa-af11-4798-b898-4b0b6eff86b0",
   "metadata": {},
   "outputs": [],
   "source": [
    "x = pd.DataFrame([[1,2],[2,3]], columns=list('ab'))"
   ]
  },
  {
   "cell_type": "code",
   "execution_count": 26,
   "id": "babe342c-6770-4270-ac02-f8cb46911f2f",
   "metadata": {},
   "outputs": [
    {
     "data": {
      "text/html": [
       "<div>\n",
       "<style scoped>\n",
       "    .dataframe tbody tr th:only-of-type {\n",
       "        vertical-align: middle;\n",
       "    }\n",
       "\n",
       "    .dataframe tbody tr th {\n",
       "        vertical-align: top;\n",
       "    }\n",
       "\n",
       "    .dataframe thead th {\n",
       "        text-align: right;\n",
       "    }\n",
       "</style>\n",
       "<table border=\"1\" class=\"dataframe\">\n",
       "  <thead>\n",
       "    <tr style=\"text-align: right;\">\n",
       "      <th></th>\n",
       "      <th>a</th>\n",
       "      <th>b</th>\n",
       "    </tr>\n",
       "  </thead>\n",
       "  <tbody>\n",
       "    <tr>\n",
       "      <th>0</th>\n",
       "      <td>1</td>\n",
       "      <td>2</td>\n",
       "    </tr>\n",
       "    <tr>\n",
       "      <th>1</th>\n",
       "      <td>2</td>\n",
       "      <td>3</td>\n",
       "    </tr>\n",
       "  </tbody>\n",
       "</table>\n",
       "</div>"
      ],
      "text/plain": [
       "   a  b\n",
       "0  1  2\n",
       "1  2  3"
      ]
     },
     "execution_count": 26,
     "metadata": {},
     "output_type": "execute_result"
    }
   ],
   "source": [
    "x"
   ]
  },
  {
   "cell_type": "code",
   "execution_count": 29,
   "id": "6b6f44f4-d91e-44e4-9028-8a8c8bdb9c62",
   "metadata": {},
   "outputs": [
    {
     "data": {
      "text/plain": [
       "(2,)"
      ]
     },
     "execution_count": 29,
     "metadata": {},
     "output_type": "execute_result"
    }
   ],
   "source": [
    "x.a.values.shape"
   ]
  },
  {
   "cell_type": "code",
   "execution_count": 31,
   "id": "9ffd3d14-7b8c-4d8e-86fb-6d6d76bb90ce",
   "metadata": {},
   "outputs": [
    {
     "ename": "ModuleNotFoundError",
     "evalue": "No module named 'src'",
     "output_type": "error",
     "traceback": [
      "\u001b[1;31m---------------------------------------------------------------------------\u001b[0m",
      "\u001b[1;31mModuleNotFoundError\u001b[0m                       Traceback (most recent call last)",
      "\u001b[1;32m~\\AppData\\Local\\Temp/ipykernel_13704/2316252474.py\u001b[0m in \u001b[0;36m<module>\u001b[1;34m\u001b[0m\n\u001b[1;32m----> 1\u001b[1;33m \u001b[1;32mfrom\u001b[0m \u001b[0msrc\u001b[0m\u001b[1;33m.\u001b[0m\u001b[0mutil\u001b[0m \u001b[1;32mimport\u001b[0m \u001b[0mload_target_shp\u001b[0m\u001b[1;33m,\u001b[0m \u001b[0mcompute_mask\u001b[0m\u001b[1;33m\u001b[0m\u001b[1;33m\u001b[0m\u001b[0m\n\u001b[0m",
      "\u001b[1;31mModuleNotFoundError\u001b[0m: No module named 'src'"
     ]
    }
   ],
   "source": [
    "from src.util import load_target_shp, compute_mask"
   ]
  },
  {
   "cell_type": "code",
   "execution_count": 32,
   "id": "f2bef293-e9e2-466e-800d-c6fbc6098900",
   "metadata": {},
   "outputs": [
    {
     "ename": "ImportError",
     "evalue": "attempted relative import with no known parent package",
     "output_type": "error",
     "traceback": [
      "\u001b[1;31m---------------------------------------------------------------------------\u001b[0m",
      "\u001b[1;31mImportError\u001b[0m                               Traceback (most recent call last)",
      "\u001b[1;32m~\\AppData\\Local\\Temp/ipykernel_13704/1585277556.py\u001b[0m in \u001b[0;36m<module>\u001b[1;34m\u001b[0m\n\u001b[1;32m----> 1\u001b[1;33m \u001b[1;32mfrom\u001b[0m \u001b[1;33m.\u001b[0m\u001b[0msrc\u001b[0m\u001b[1;33m.\u001b[0m\u001b[0mutil\u001b[0m \u001b[1;32mimport\u001b[0m \u001b[0mload_target_shp\u001b[0m\u001b[1;33m,\u001b[0m \u001b[0mcompute_mask\u001b[0m\u001b[1;33m\u001b[0m\u001b[1;33m\u001b[0m\u001b[0m\n\u001b[0m",
      "\u001b[1;31mImportError\u001b[0m: attempted relative import with no known parent package"
     ]
    }
   ],
   "source": [
    "from .src.util import load_target_shp, compute_mask"
   ]
  },
  {
   "cell_type": "code",
   "execution_count": 33,
   "id": "9327453a-8de1-4cc0-ad6c-5774a1a577f9",
   "metadata": {},
   "outputs": [
    {
     "ename": "ImportError",
     "evalue": "attempted relative import with no known parent package",
     "output_type": "error",
     "traceback": [
      "\u001b[1;31m---------------------------------------------------------------------------\u001b[0m",
      "\u001b[1;31mImportError\u001b[0m                               Traceback (most recent call last)",
      "\u001b[1;32m~\\AppData\\Local\\Temp/ipykernel_13704/2588545303.py\u001b[0m in \u001b[0;36m<module>\u001b[1;34m\u001b[0m\n\u001b[1;32m----> 1\u001b[1;33m \u001b[1;32mfrom\u001b[0m \u001b[1;33m.\u001b[0m\u001b[1;33m.\u001b[0m\u001b[0msrc\u001b[0m\u001b[1;33m.\u001b[0m\u001b[0mutil\u001b[0m \u001b[1;32mimport\u001b[0m \u001b[0mload_target_shp\u001b[0m\u001b[1;33m,\u001b[0m \u001b[0mcompute_mask\u001b[0m\u001b[1;33m\u001b[0m\u001b[1;33m\u001b[0m\u001b[0m\n\u001b[0m",
      "\u001b[1;31mImportError\u001b[0m: attempted relative import with no known parent package"
     ]
    }
   ],
   "source": [
    "from ..src.util import load_target_shp, compute_mask"
   ]
  },
  {
   "cell_type": "code",
   "execution_count": 37,
   "id": "865bad0f-1611-49de-908a-f79bc2676ba8",
   "metadata": {},
   "outputs": [
    {
     "name": "stderr",
     "output_type": "stream",
     "text": [
      "Can't load requested DLL: C:\\Program Files\\GDAL\\gdalplugins\\gdal_KEA.dll\n",
      "127: The specified procedure could not be found.\n",
      "\n",
      "Can't load requested DLL: C:\\Program Files\\GDAL\\gdalplugins\\gdal_KEA.dll\n",
      "127: The specified procedure could not be found.\n",
      "\n",
      "Can't load requested DLL: C:\\Program Files\\GDAL\\gdalplugins\\gdal_KEA.dll\n",
      "127: The specified procedure could not be found.\n",
      "\n",
      "Can't load requested DLL: C:\\Program Files\\GDAL\\gdalplugins\\gdal_KEA.dll\n",
      "127: The specified procedure could not be found.\n",
      "\n"
     ]
    }
   ],
   "source": [
    "import os\n",
    "import re\n",
    "import sys\n",
    "import math\n",
    "import fiona\n",
    "import logging\n",
    "import datetime\n",
    "import numpy as np\n",
    "import pandas as pd\n",
    "import geopandas as gpd\n",
    "import skimage\n",
    "import skimage.draw\n",
    "import pyproj\n",
    "import rasterio\n",
    "from rasterio.mask import mask\n",
    "from rasterio.warp import calculate_default_transform, reproject, Resampling\n",
    "\n",
    "def load_geotiff(path, window=None):\n",
    "    \"\"\" Load the geotiff as a list of numpy array.\n",
    "        INPUT : path (str) -> the path to the geotiff\n",
    "                window (rasterio.windows.Window) -> the window to use when loading the image\n",
    "        OUTPUT : band (list of numpy array) -> the different bands as float scaled to 0:1\n",
    "                 meta (dictionary) -> the metadata associated with the geotiff\n",
    "    \"\"\"\n",
    "    with rasterio.open(path) as f:\n",
    "        band = [skimage.img_as_float(f.read(i + 1, window=window)) for i in range(f.count)]\n",
    "        meta = f.meta\n",
    "        if window is not None:\n",
    "            meta['height'] = window.height\n",
    "            meta['width'] = window.width\n",
    "            meta['transform'] = f.window_transform(window)\n",
    "    return band, meta\n",
    "\n",
    "def load_target_shp(path, transform=None, proj_out=None):\n",
    "    \"\"\" Load the shapefile as a list of numpy array of coordinates\n",
    "        INPUT : path (str) -> the path to the shapefile\n",
    "                transform (rasterio.Affine) -> the affine transformation to get the polygon in row;col format from UTM.\n",
    "        OUTPUT : poly (list of np.array) -> list of polygons (as numpy.array of coordinates)\n",
    "                 poly_rc (list of np.array) -> list of polygon in row-col format if a transform is given\n",
    "    \"\"\"\n",
    "    print(\"Loading target shapefile...\")\n",
    "    with fiona.open(path) as shapefile:\n",
    "        proj_in = pyproj.Proj(shapefile.crs)\n",
    "        class_type = [feature['properties']['id'] for feature in shapefile]\n",
    "        features = [feature[\"geometry\"] for feature in shapefile]\n",
    "    # re-project polygons if necessary\n",
    "    if proj_out is None or proj_in == proj_out:\n",
    "        poly = [np.array([(coord[0], coord[1]) for coord in features[i]['coordinates'][0]]) for i in\n",
    "                range(len(features))]\n",
    "        print('No re-projection!')\n",
    "    else:\n",
    "        poly = [np.array(\n",
    "            [pyproj.transform(proj_in, proj_out, coord[0], coord[1]) for coord in features[i]['coordinates'][0]]) for i\n",
    "            in range(len(features))]\n",
    "        print(f'Re-project from {proj_in} to {proj_out}')\n",
    "\n",
    "    poly_rc = None\n",
    "    # transform in row-col if a transform is given\n",
    "    if transform is not None:\n",
    "        poly_rc = [np.array([rasterio.transform.rowcol(transform, coord[0], coord[1])[::-1] for coord in p]) for p in\n",
    "                   poly]\n",
    "    print('Loaded target shape files.')\n",
    "\n",
    "    return poly, poly_rc, class_type\n",
    "\n",
    "\n",
    "def compute_mask(polygon_list, meta, val_list):\n",
    "    \"\"\" Get mask of class of a polygon list\n",
    "        INPUT : polygon_list (list od polygon in coordinates (x, y)) -> the polygons in row;col format\n",
    "                meta -> the image width and height\n",
    "                val_list(list of int) -> the class associated with each polygon\n",
    "        OUTPUT : img (np.array 2D) -> the mask in which the pixel value reflect it's class (zero being the absence of class)\n",
    "    \"\"\"\n",
    "    img = np.zeros((meta['height'], meta['width']), dtype=np.uint8)  # skimage : row,col --> h,w\n",
    "    i = 0\n",
    "    for polygon, val in zip(polygon_list, val_list):\n",
    "        rr, cc = skimage.draw.polygon(polygon[:, 1], polygon[:, 0], img.shape)\n",
    "        img[rr, cc] = val\n",
    "        i += 1\n",
    "    print(\"Added targets' mask.\")\n",
    "    return img"
   ]
  },
  {
   "cell_type": "code",
   "execution_count": 48,
   "id": "4b26349f-b6b3-4b1f-862d-260766119c1e",
   "metadata": {},
   "outputs": [],
   "source": [
    "img_dir = 'N:/dataorg-datasets/MLsatellite/sentinel2_images/images_danya/geotiff/'\n",
    "eg = img_dir + 'L2A_T43SFR_A026271_20200703T053446.tiff'\n",
    "band, meta = load_geotiff(eg)"
   ]
  },
  {
   "cell_type": "code",
   "execution_count": 41,
   "id": "b1dfbce8-70f8-43de-bc53-bb4a7c7d9ede",
   "metadata": {},
   "outputs": [],
   "source": [
    "def count_classes(logger, y):\n",
    "    tot_num = len(y)\n",
    "    for i in np.unique(y):\n",
    "        y_i = y[y == i]\n",
    "        msg = f'  label = {i}, pixel number = {y_i.shape[0]}, percentage = {round(len(y_i) / tot_num * 100, 2)}%'\n",
    "        if logger is None:\n",
    "            print(msg)\n",
    "        else:\n",
    "            logger.info(msg)"
   ]
  },
  {
   "cell_type": "code",
   "execution_count": 57,
   "id": "d4955ab7-b2c6-4b9d-ac95-be6e519d4931",
   "metadata": {},
   "outputs": [
    {
     "name": "stdout",
     "output_type": "stream",
     "text": [
      "Loading target shapefile...\n"
     ]
    },
    {
     "name": "stderr",
     "output_type": "stream",
     "text": [
      "C:\\Users\\lida\\Anaconda3\\envs\\ch\\lib\\site-packages\\pyproj\\crs\\crs.py:131: FutureWarning: '+init=<authority>:<code>' syntax is deprecated. '<authority>:<code>' is the preferred initialization method. When making the change, be mindful of axis order changes: https://pyproj4.github.io/pyproj/stable/gotchas.html#axis-order-changes-in-proj-6\n",
      "  in_crs_string = _prepare_from_proj_string(in_crs_string)\n",
      "C:\\Users\\lida\\AppData\\Local\\Temp/ipykernel_13704/4014290108.py:53: DeprecationWarning: This function is deprecated. See: https://pyproj4.github.io/pyproj/stable/gotchas.html#upgrading-to-pyproj-2-from-pyproj-1\n",
      "  [pyproj.transform(proj_in, proj_out, coord[0], coord[1]) for coord in features[i]['coordinates'][0]]) for i\n"
     ]
    },
    {
     "name": "stdout",
     "output_type": "stream",
     "text": [
      "Re-project from proj=longlat datum=WGS84 no_defs ellps=WGS84 towgs84=0,0,0 to proj=utm zone=43 datum=WGS84 units=m no_defs ellps=WGS84 towgs84=0,0,0\n",
      "Loaded target shape files.\n",
      "Added targets' mask.\n"
     ]
    }
   ],
   "source": [
    "train_polygons, train_rc_polygons, train_class_list = \\\n",
    "    load_target_shp('../data/test/test.shp',\n",
    "                    transform=meta['transform'],\n",
    "                    proj_out=pyproj.Proj(meta['crs']))\n",
    "train_mask = compute_mask(train_rc_polygons, meta, train_class_list)"
   ]
  },
  {
   "cell_type": "code",
   "execution_count": 58,
   "id": "9cfe72b2-2c7e-417a-8a5b-1adcbfd0671c",
   "metadata": {},
   "outputs": [],
   "source": [
    "test_labeled = train_mask.reshape(-1)\n",
    "test_labeled = test_labeled[test_labeled!=0]"
   ]
  },
  {
   "cell_type": "code",
   "execution_count": 59,
   "id": "557a66d0-95ea-4c45-aab7-050a40721a47",
   "metadata": {},
   "outputs": [
    {
     "name": "stdout",
     "output_type": "stream",
     "text": [
      "  label = 2, pixel number = 7318, percentage = 47.78%\n",
      "  label = 3, pixel number = 7999, percentage = 52.22%\n"
     ]
    }
   ],
   "source": [
    "count_classes(None, test_labeled)"
   ]
  },
  {
   "cell_type": "code",
   "execution_count": null,
   "id": "31e3ed40-2fde-4cc0-8667-a3d04797d2e5",
   "metadata": {},
   "outputs": [],
   "source": []
  },
  {
   "cell_type": "code",
   "execution_count": null,
   "id": "ceddf7c8-3523-4d2a-a15f-a2784c0df32e",
   "metadata": {},
   "outputs": [],
   "source": []
  },
  {
   "cell_type": "code",
   "execution_count": null,
   "id": "4c430df5-f79d-4351-bafd-c05389220291",
   "metadata": {},
   "outputs": [],
   "source": []
  },
  {
   "cell_type": "markdown",
   "id": "43626d1f-ab6b-464f-94ea-17048f1b8027",
   "metadata": {},
   "source": [
    "## Spacv"
   ]
  },
  {
   "cell_type": "code",
   "execution_count": 61,
   "id": "a87c113b-97d4-4456-9040-892b909490f5",
   "metadata": {},
   "outputs": [
    {
     "name": "stderr",
     "output_type": "stream",
     "text": [
      "C:\\Users\\lida\\Anaconda3\\envs\\ch\\lib\\site-packages\\sklearn\\cluster\\_kmeans.py:1045: UserWarning: MiniBatchKMeans is known to have a memory leak on Windows with MKL, when there are less chunks than available threads. You can prevent it by setting batch_size >= 1024 or by setting the environment variable OMP_NUM_THREADS=1\n",
      "  warnings.warn(\n",
      "C:\\Users\\lida\\Anaconda3\\envs\\ch\\lib\\site-packages\\spacv\\base_classes.py:69: UserWarning: CRS mismatch between the CRS of left geometries and the CRS of right geometries.\n",
      "Use `to_crs()` to reproject one of the input geometries to match the CRS of the other.\n",
      "\n",
      "Left CRS: EPSG:4326\n",
      "Right CRS: None\n",
      "\n",
      "  deadzone_points = gpd.sjoin(candidate_deadzone, geometry_buffer)\n",
      "C:\\Users\\lida\\Anaconda3\\envs\\ch\\lib\\site-packages\\spacv\\base_classes.py:69: UserWarning: CRS mismatch between the CRS of left geometries and the CRS of right geometries.\n",
      "Use `to_crs()` to reproject one of the input geometries to match the CRS of the other.\n",
      "\n",
      "Left CRS: EPSG:4326\n",
      "Right CRS: None\n",
      "\n",
      "  deadzone_points = gpd.sjoin(candidate_deadzone, geometry_buffer)\n",
      "C:\\Users\\lida\\Anaconda3\\envs\\ch\\lib\\site-packages\\spacv\\base_classes.py:69: UserWarning: CRS mismatch between the CRS of left geometries and the CRS of right geometries.\n",
      "Use `to_crs()` to reproject one of the input geometries to match the CRS of the other.\n",
      "\n",
      "Left CRS: EPSG:4326\n",
      "Right CRS: None\n",
      "\n",
      "  deadzone_points = gpd.sjoin(candidate_deadzone, geometry_buffer)\n",
      "C:\\Users\\lida\\Anaconda3\\envs\\ch\\lib\\site-packages\\spacv\\base_classes.py:69: UserWarning: CRS mismatch between the CRS of left geometries and the CRS of right geometries.\n",
      "Use `to_crs()` to reproject one of the input geometries to match the CRS of the other.\n",
      "\n",
      "Left CRS: EPSG:4326\n",
      "Right CRS: None\n",
      "\n",
      "  deadzone_points = gpd.sjoin(candidate_deadzone, geometry_buffer)\n"
     ]
    },
    {
     "data": {
      "text/plain": [
       "array([0.68627451, 0.90666667, 0.91489362, 0.84210526])"
      ]
     },
     "execution_count": 61,
     "metadata": {},
     "output_type": "execute_result"
    }
   ],
   "source": [
    "import spacv\n",
    "import geopandas as gpd\n",
    "from sklearn.model_selection import cross_val_score\n",
    "from sklearn.svm import SVC\n",
    "\n",
    "df = gpd.read_file('data/baltim.geojson')\n",
    "\n",
    "XYs = df['geometry']\n",
    "X = df[['NROOM', 'BMENT', 'NBATH', 'PRICE', 'LOTSZ', 'SQFT']]\n",
    "y = df['PATIO']\n",
    "\n",
    "# Build fold indices as a generator\n",
    "skcv = spacv.SKCV(n_splits=4, buffer_radius=10).split(XYs)\n",
    "\n",
    "svc = SVC()\n",
    "\n",
    "cross_val_score(svc,       # Model \n",
    "                X,         # Features\n",
    "                y,         # Labels\n",
    "                cv = skcv) # Fold indices"
   ]
  },
  {
   "cell_type": "code",
   "execution_count": null,
   "id": "49f1c1f6-f0b3-4e47-bb29-117e072b718a",
   "metadata": {},
   "outputs": [],
   "source": []
  }
 ],
 "metadata": {
  "kernelspec": {
   "display_name": "Python 3 (ipykernel)",
   "language": "python",
   "name": "python3"
  },
  "language_info": {
   "codemirror_mode": {
    "name": "ipython",
    "version": 3
   },
   "file_extension": ".py",
   "mimetype": "text/x-python",
   "name": "python",
   "nbconvert_exporter": "python",
   "pygments_lexer": "ipython3",
   "version": "3.9.7"
  }
 },
 "nbformat": 4,
 "nbformat_minor": 5
}
