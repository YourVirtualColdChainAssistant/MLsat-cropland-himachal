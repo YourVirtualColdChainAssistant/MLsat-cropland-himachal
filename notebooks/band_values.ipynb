{
 "cells": [
  {
   "cell_type": "code",
   "execution_count": 1,
   "id": "34c4cc92-eec8-4235-9eff-8d530b09838f",
   "metadata": {},
   "outputs": [],
   "source": [
    "img_dir = 'N:/dataorg-datasets/MLsatellite/sentinel2_images/images_danya/'"
   ]
  },
  {
   "cell_type": "code",
   "execution_count": 9,
   "id": "187af911-bccb-4c05-a8d4-c84abe47ca57",
   "metadata": {},
   "outputs": [],
   "source": [
    "safe_img = img_dir + r'43SFR\\safe\\S2B_MSIL1C_20200103T054229_N0208_R005_T43SFR_20200103T081659.SAFE\\GRANULE\\L1C_T43SFR_A014760_20200103T054832\\IMG_DATA\\T43SFR_20200103T054229_B02.jp2'\n",
    "cor_img = img_dir + r'43SFR\\corrected\\S2B_MSIL2A_20200103T054229_N9999_R005_T43SFR_20210901T113733.SAFE\\GRANULE\\L2A_T43SFR_A014760_20200103T054832\\IMG_DATA\\R10m\\T43SFR_20200103T054229_B02_10m.jp2'"
   ]
  },
  {
   "cell_type": "code",
   "execution_count": 3,
   "id": "65eecc47-4f4e-41f0-9f90-a958d5e6adb9",
   "metadata": {},
   "outputs": [],
   "source": [
    "import rasterio as rio"
   ]
  },
  {
   "cell_type": "code",
   "execution_count": 4,
   "id": "cc2c69c5-933f-4483-9c0f-663fd5395d08",
   "metadata": {},
   "outputs": [],
   "source": [
    "with rio.open(safe_img) as f:\n",
    "    arr1 = f.read(1)"
   ]
  },
  {
   "cell_type": "code",
   "execution_count": 5,
   "id": "f5c431b9-984d-45f5-94d7-fc109d46f6f1",
   "metadata": {},
   "outputs": [
    {
     "data": {
      "text/plain": [
       "array([[4614, 4138, 3376, ...,    0,    0,    0],\n",
       "       [3958, 2607, 2016, ...,    0,    0,    0],\n",
       "       [3108, 1950, 2492, ...,    0,    0,    0],\n",
       "       ...,\n",
       "       [ 976,  977,  970, ...,    0,    0,    0],\n",
       "       [ 998,  994,  980, ...,    0,    0,    0],\n",
       "       [1002,  993,  980, ...,    0,    0,    0]], dtype=uint16)"
      ]
     },
     "execution_count": 5,
     "metadata": {},
     "output_type": "execute_result"
    }
   ],
   "source": [
    "arr1"
   ]
  },
  {
   "cell_type": "code",
   "execution_count": 6,
   "id": "4c39aa0c-86fd-4b8d-bcd9-01d5dc90297f",
   "metadata": {},
   "outputs": [
    {
     "data": {
      "text/plain": [
       "20618"
      ]
     },
     "execution_count": 6,
     "metadata": {},
     "output_type": "execute_result"
    }
   ],
   "source": [
    "arr1.max()"
   ]
  },
  {
   "cell_type": "code",
   "execution_count": 10,
   "id": "28ac8a16-9896-4726-91dc-0cec4fd9958a",
   "metadata": {},
   "outputs": [],
   "source": [
    "with rio.open(cor_img) as f:\n",
    "    blue_cor = f.read(1)"
   ]
  },
  {
   "cell_type": "code",
   "execution_count": 11,
   "id": "d4ceda33-4a15-43a2-979a-0e2352480cf9",
   "metadata": {},
   "outputs": [
    {
     "data": {
      "text/plain": [
       "18576"
      ]
     },
     "execution_count": 11,
     "metadata": {},
     "output_type": "execute_result"
    }
   ],
   "source": [
    "blue_cor.max()"
   ]
  },
  {
   "cell_type": "code",
   "execution_count": 12,
   "id": "4a4783f2-daf4-44a8-82a6-4956342de9f9",
   "metadata": {},
   "outputs": [
    {
     "data": {
      "text/plain": [
       "0"
      ]
     },
     "execution_count": 12,
     "metadata": {},
     "output_type": "execute_result"
    }
   ],
   "source": [
    "blue_cor.min()"
   ]
  },
  {
   "cell_type": "code",
   "execution_count": 13,
   "id": "c7c9e55e-d54d-4a51-87a1-95347767a805",
   "metadata": {},
   "outputs": [
    {
     "data": {
      "text/plain": [
       "26546312"
      ]
     },
     "execution_count": 13,
     "metadata": {},
     "output_type": "execute_result"
    }
   ],
   "source": [
    "(blue_cor == 0).sum()"
   ]
  },
  {
   "cell_type": "code",
   "execution_count": 14,
   "id": "e72793be-9c23-4f74-a15b-e0adc03ce346",
   "metadata": {},
   "outputs": [
    {
     "data": {
      "text/plain": [
       "94014088"
      ]
     },
     "execution_count": 14,
     "metadata": {},
     "output_type": "execute_result"
    }
   ],
   "source": [
    "(blue_cor != 0).sum()"
   ]
  },
  {
   "cell_type": "code",
   "execution_count": null,
   "id": "2f450da7-380f-4b52-b4a1-1ed1868ecff6",
   "metadata": {},
   "outputs": [],
   "source": []
  }
 ],
 "metadata": {
  "kernelspec": {
   "display_name": "Python 3 (ipykernel)",
   "language": "python",
   "name": "python3"
  },
  "language_info": {
   "codemirror_mode": {
    "name": "ipython",
    "version": 3
   },
   "file_extension": ".py",
   "mimetype": "text/x-python",
   "name": "python",
   "nbconvert_exporter": "python",
   "pygments_lexer": "ipython3",
   "version": "3.9.7"
  }
 },
 "nbformat": 4,
 "nbformat_minor": 5
}
