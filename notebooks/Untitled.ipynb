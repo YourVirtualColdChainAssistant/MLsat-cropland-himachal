{
 "cells": [
  {
   "cell_type": "markdown",
   "id": "95d2630c-fcff-4bb6-859d-9ee9d6405ea5",
   "metadata": {},
   "source": [
    "### Query"
   ]
  },
  {
   "cell_type": "code",
   "execution_count": 1,
   "id": "7b104cee-421d-47ba-a523-fa3c8cc04958",
   "metadata": {},
   "outputs": [],
   "source": [
    "import os"
   ]
  },
  {
   "cell_type": "code",
   "execution_count": 6,
   "id": "1a0faa3c-be45-465f-9fff-fcd7cdc4ba36",
   "metadata": {},
   "outputs": [],
   "source": [
    "query = '?$filter=substringof(%2743SFR%27,Name) and Online eq true'\n",
    "username = 'danyayay'\n",
    "password = 'Ldy19970722'\n",
    "output_doc = '../data/q.txt'"
   ]
  },
  {
   "cell_type": "code",
   "execution_count": 9,
   "id": "f1e354f5-249b-47ae-86cd-a06a41c47ef4",
   "metadata": {},
   "outputs": [
    {
     "data": {
      "text/plain": [
       "0"
      ]
     },
     "execution_count": 9,
     "metadata": {},
     "output_type": "execute_result"
    }
   ],
   "source": [
    "url_query = \"https://scihub.copernicus.eu/dhus/odata/v1/Products\" + query\n",
    "cmd_query = f'wget --no-check-certificate --user={username} --password={password} --output-document={output_doc} \"{url_query}\"'\n",
    "os.system(cmd_query)"
   ]
  },
  {
   "cell_type": "markdown",
   "id": "b98192d8-1ed0-4e06-bc53-f688fba819cf",
   "metadata": {},
   "source": [
    "### Download"
   ]
  },
  {
   "cell_type": "code",
   "execution_count": 18,
   "id": "de342f46-85bf-4682-9dfa-17ed25f87200",
   "metadata": {},
   "outputs": [],
   "source": [
    "id_ = '2c50ca48-661e-4163-ba0a-902c4811cf09' # offline"
   ]
  },
  {
   "cell_type": "code",
   "execution_count": 5,
   "id": "ffe876cc-98f9-42e5-bff3-8928ce14e131",
   "metadata": {},
   "outputs": [],
   "source": [
    "url = f\"https://scihub.copernicus.eu/dhus/odata/v1/Products('{id_}')/$value\""
   ]
  },
  {
   "cell_type": "code",
   "execution_count": 6,
   "id": "f4c449e2-bccc-4512-aaa9-c2f0a3f335f0",
   "metadata": {},
   "outputs": [
    {
     "data": {
      "text/plain": [
       "0"
      ]
     },
     "execution_count": 6,
     "metadata": {},
     "output_type": "execute_result"
    }
   ],
   "source": [
    "os.system(f'wget --content-disposition --continue --user=danyayay --password=Ldy19970722 \"{url}\"')"
   ]
  },
  {
   "cell_type": "code",
   "execution_count": 19,
   "id": "e95cfcce-01a5-407d-9145-9166367b1f40",
   "metadata": {},
   "outputs": [],
   "source": [
    "url_online = f\"https://scihub.copernicus.eu/dhus/odata/v1/Products('{id_}')/Online\""
   ]
  },
  {
   "cell_type": "code",
   "execution_count": 20,
   "id": "70feda93-8d81-4860-90f0-73822a46b11c",
   "metadata": {},
   "outputs": [
    {
     "data": {
      "text/plain": [
       "''"
      ]
     },
     "execution_count": 20,
     "metadata": {},
     "output_type": "execute_result"
    }
   ],
   "source": [
    "os.popen(f'wget --user=danyayay --password=Ldy19970722 \"{url_online}\"').read()"
   ]
  },
  {
   "cell_type": "code",
   "execution_count": 7,
   "id": "e3860fa5-28ad-49a0-b0a5-2d21fae8a04a",
   "metadata": {},
   "outputs": [],
   "source": [
    "id_ = '0e37a78b-3b91-4c15-bef2-33c2082044a7' # online"
   ]
  },
  {
   "cell_type": "code",
   "execution_count": 8,
   "id": "2e05fde2-f9f8-4a49-99cc-33be95a6e939",
   "metadata": {},
   "outputs": [],
   "source": [
    "url = f\"https://scihub.copernicus.eu/dhus/odata/v1/Products('{id_}')/$value\""
   ]
  },
  {
   "cell_type": "code",
   "execution_count": 9,
   "id": "bc161d7c-b9d4-4384-bf73-4919f3f50c28",
   "metadata": {},
   "outputs": [
    {
     "data": {
      "text/plain": [
       "0"
      ]
     },
     "execution_count": 9,
     "metadata": {},
     "output_type": "execute_result"
    }
   ],
   "source": [
    "os.system(f'wget --content-disposition --continue --user=danyayay --password=Ldy19970722 \"{url}\"')"
   ]
  },
  {
   "cell_type": "markdown",
   "id": "0930cc0f-0496-44c6-a5c4-f5685116cda3",
   "metadata": {},
   "source": [
    "### Extract"
   ]
  },
  {
   "cell_type": "code",
   "execution_count": 36,
   "id": "3a03d705-85ac-4a5a-b111-0b9ba998970a",
   "metadata": {},
   "outputs": [],
   "source": [
    "with open('../data/output.txt') as f:\n",
    "    lines = f.readlines()"
   ]
  },
  {
   "cell_type": "code",
   "execution_count": 46,
   "id": "e9c4dc31-f061-4b08-a111-e1c3f53154c5",
   "metadata": {},
   "outputs": [],
   "source": [
    "query_data = ''\n",
    "for l in lines:\n",
    "    query_data += l"
   ]
  },
  {
   "cell_type": "code",
   "execution_count": 38,
   "id": "70a841ab-3fcd-4309-8e2a-5aa8df74f745",
   "metadata": {},
   "outputs": [],
   "source": [
    "import re "
   ]
  },
  {
   "cell_type": "code",
   "execution_count": 60,
   "id": "b5f7c665-09c4-45ff-b2a8-5906a1cca3cb",
   "metadata": {},
   "outputs": [],
   "source": [
    "ids = re.findall('<m:properties><d:Id>(.*)</d:Id><d:Name>(.*)</d:Name>.*<d:Online>(.*)</d:Online>', query_data)"
   ]
  },
  {
   "cell_type": "code",
   "execution_count": 67,
   "id": "f4a6f86e-9db6-481a-b6db-d9c39d62ade9",
   "metadata": {
    "collapsed": true,
    "jupyter": {
     "outputs_hidden": true
    },
    "tags": []
   },
   "outputs": [
    {
     "data": {
      "text/plain": [
       "[('e55ece38-f77a-4953-865b-d570c9997aa9',\n",
       "  'S2B_MSIL2A_20210616T053639_N0300_R005_T43SFR_20210616T082742',\n",
       "  'true'),\n",
       " ('5b4a6ce4-7356-4baf-974b-36335d49b367',\n",
       "  'S2B_MSIL2A_20191211T053219_N0213_R105_T43SFR_20191211T085824',\n",
       "  'true'),\n",
       " ('2c50ca48-661e-4163-ba0a-902c4811cf09',\n",
       "  'S2A_MSIL1C_20200603T052651_N0209_R105_T43SFR_20200603T091952',\n",
       "  'true'),\n",
       " ('923d53df-40d3-4df7-84c7-90d47fda5f5d',\n",
       "  'S2A_MSIL1C_20210728T052651_N0301_R105_T43SFR_20210728T082347',\n",
       "  'true'),\n",
       " ('8d30e360-13a5-48fe-94bc-7e746a420943',\n",
       "  'S2B_MSIL2A_20210626T053639_N0300_R005_T43SFR_20210626T083628',\n",
       "  'true'),\n",
       " ('9d8960ee-3882-4559-b055-4a86e94de2ba',\n",
       "  'S2A_MSIL1C_20210621T053641_N0300_R005_T43SFR_20210621T075059',\n",
       "  'true'),\n",
       " ('16241b12-cce4-4bf4-8e55-5a790134a1d0',\n",
       "  'S2A_MSIL1C_20210807T052651_N0301_R105_T43SFR_20210807T073546',\n",
       "  'true'),\n",
       " ('1b6a063d-c459-4696-8aad-1a7be0927959',\n",
       "  'S2A_MSIL2A_20210621T053641_N0300_R005_T43SFR_20210621T084400',\n",
       "  'true'),\n",
       " ('93b26afa-9d74-4cff-b647-a5b5e043b49e',\n",
       "  'S2A_MSIL2A_20210728T052651_N0301_R105_T43SFR_20210728T091628',\n",
       "  'true'),\n",
       " ('12985034-0647-4dd9-960c-c44ea99fd48c',\n",
       "  'S2A_MSIL2A_20210708T052651_N0301_R105_T43SFR_20210708T084615',\n",
       "  'true'),\n",
       " ('d28d644a-190c-4441-8d49-13fe26383032',\n",
       "  'S2A_MSIL1C_20210701T053641_N0301_R005_T43SFR_20210701T070547',\n",
       "  'true'),\n",
       " ('99173093-38f6-43c9-b90e-1dc9044cd2bf',\n",
       "  'S2B_MSIL1C_20210703T052649_N0301_R105_T43SFR_20210703T120523',\n",
       "  'true'),\n",
       " ('e9205cf8-030c-45eb-8ac7-7f7f9738b40d',\n",
       "  'S2A_MSIL1C_20210708T052651_N0301_R105_T43SFR_20210708T074840',\n",
       "  'true'),\n",
       " ('33612b78-7288-4877-af00-905a6b5487b1',\n",
       "  'S2A_MSIL1C_20210701T053641_N0301_R005_T43SFR_20210701T075025',\n",
       "  'true'),\n",
       " ('07ad9786-4a89-4164-8727-64820c1a2695',\n",
       "  'S2A_MSIL2A_20210701T053641_N0301_R005_T43SFR_20210701T080427',\n",
       "  'true'),\n",
       " ('837b27c4-f7ff-4aba-b97e-867701ef1663',\n",
       "  'S2A_MSIL2A_20210701T053641_N0301_R005_T43SFR_20210701T081549',\n",
       "  'true'),\n",
       " ('a559f195-e781-4ebb-ac30-93eaaa2a6c4a',\n",
       "  'S2B_MSIL2A_20210703T052649_N0301_R105_T43SFR_20210705T134551',\n",
       "  'true'),\n",
       " ('b3ecdc20-6059-4333-b70d-4d303561c429',\n",
       "  'S2A_MSIL2A_20210711T053641_N0301_R005_T43SFR_20210711T080021',\n",
       "  'true'),\n",
       " ('954d2323-1774-4137-ac90-cd8869d6b3af',\n",
       "  'S2A_MSIL1C_20210711T053641_N0301_R005_T43SFR_20210711T070148',\n",
       "  'true'),\n",
       " ('922a7318-371c-4308-9154-f1f82e927284',\n",
       "  'S2A_MSIL1C_20210718T052651_N0301_R105_T43SFR_20210718T073713',\n",
       "  'true'),\n",
       " ('d0db7c85-4798-47e0-a12e-c8a4462c850e',\n",
       "  'S2B_MSIL2A_20210713T052649_N0301_R105_T43SFR_20210713T081834',\n",
       "  'true'),\n",
       " ('4e13cacd-dc45-48a3-9bd0-a1ef8f9629c2',\n",
       "  'S2B_MSIL1C_20210713T052649_N0301_R105_T43SFR_20210713T073143',\n",
       "  'true'),\n",
       " ('aa80ea21-9b06-4516-b8f5-8a07d7a6523e',\n",
       "  'S2B_MSIL2A_20210723T052649_N0301_R105_T43SFR_20210723T081837',\n",
       "  'true'),\n",
       " ('8a00f3af-c2ec-47dd-a106-ee46f863c431',\n",
       "  'S2A_MSIL2A_20210718T052651_N0301_R105_T43SFR_20210718T082253',\n",
       "  'true'),\n",
       " ('3409b937-9a8f-458d-9fc2-1133c1480c7a',\n",
       "  'S2B_MSIL2A_20210726T053649_N0301_R005_T43SFR_20210726T083338',\n",
       "  'true'),\n",
       " ('9151078b-f554-469e-a978-7662fce31e59',\n",
       "  'S2B_MSIL2A_20210802T052649_N0301_R105_T43SFR_20210802T082121',\n",
       "  'true'),\n",
       " ('4c532610-269c-4154-a051-65309cb95306',\n",
       "  'S2A_MSIL1C_20210330T052641_N0300_R105_T43SFR_20210330T072750',\n",
       "  'true'),\n",
       " ('af1ae967-559d-4683-8495-00f51495a76a',\n",
       "  'S2A_MSIL2A_20210810T053641_N0301_R005_T43SFR_20210810T075050',\n",
       "  'true'),\n",
       " ('4d53c38c-9d3a-49a0-90d9-3b7c4f93503d',\n",
       "  'S2A_MSIL2A_20210807T052651_N0301_R105_T43SFR_20210807T082533',\n",
       "  'true'),\n",
       " ('f9c20e56-6396-4fc3-b18b-e50132ed521e',\n",
       "  'S2B_MSIL2A_20210407T053639_N0300_R005_T43SFR_20210408T181105',\n",
       "  'true'),\n",
       " ('f7c76962-e436-4bb3-9b75-9af78479e162',\n",
       "  'S2A_MSIL1C_20201001T052651_N0209_R105_T43SFR_20201001T080756',\n",
       "  'true'),\n",
       " ('0f456fd2-35e5-4d9e-96bf-a62e13d59fb1',\n",
       "  'S2A_MSIL2A_20210422T053641_N0300_R005_T43SFR_20210425T165010',\n",
       "  'true'),\n",
       " ('e985a017-d9bc-4782-85c0-95d9531a23fb',\n",
       "  'S2B_MSIL1C_20210524T052649_N0300_R105_T43SFR_20210524T073752',\n",
       "  'true'),\n",
       " ('fc867211-976b-4645-9583-57312a9a49dc',\n",
       "  'S2B_MSIL2A_20210524T052649_N0300_R105_T43SFR_20210524T082701',\n",
       "  'true'),\n",
       " ('a1d7a9cc-ed98-4180-b00e-67e9d8dcd08b',\n",
       "  'S2A_MSIL1C_20210721T053651_N0301_R005_T43SFR_20210721T074524',\n",
       "  'true'),\n",
       " ('b0f8a661-21ac-445f-8d40-90b8040bc3fa',\n",
       "  'S2B_MSIL1C_20210527T053639_N0300_R005_T43SFR_20210527T075030',\n",
       "  'true'),\n",
       " ('71ea7a0f-f2d3-486f-b76d-eb461d7746bf',\n",
       "  'S2B_MSIL1C_20210603T052649_N0300_R105_T43SFR_20210603T073844',\n",
       "  'true'),\n",
       " ('2d00138c-fc53-478a-a8ca-c7d9c36601e5',\n",
       "  'S2B_MSIL2A_20210603T052649_N0300_R105_T43SFR_20210603T082939',\n",
       "  'true'),\n",
       " ('451d8a92-f715-44d0-980e-56106df8dadd',\n",
       "  'S2B_MSIL1C_20210626T053639_N0300_R005_T43SFR_20210626T074634',\n",
       "  'true'),\n",
       " ('9bde614c-408e-4099-b0ed-9254695288be',\n",
       "  'S2A_MSIL1C_20210618T052651_N0300_R105_T43SFR_20210618T073809',\n",
       "  'true'),\n",
       " ('ed860f4d-adac-4ecf-9717-703a75486d18',\n",
       "  'S2A_MSIL2A_20210618T052651_N0300_R105_T43SFR_20210618T082449',\n",
       "  'true'),\n",
       " ('fa1ca8e6-4029-4956-b500-a61bb944e1c4',\n",
       "  'S2B_MSIL2A_20210527T053639_N0300_R005_T43SFR_20210527T084126',\n",
       "  'true'),\n",
       " ('3a9db613-6d12-4877-9290-6ad063dae0c0',\n",
       "  'S2B_MSIL1C_20210613T052649_N0300_R105_T43SFR_20210613T073333',\n",
       "  'true'),\n",
       " ('4739712f-1ffb-456c-9cf1-e165b62cc4ae',\n",
       "  'S2B_MSIL1C_20210726T053649_N0301_R005_T43SFR_20210726T074541',\n",
       "  'true'),\n",
       " ('3bc12df1-853b-475d-a6dd-fa48052518a2',\n",
       "  'S2A_MSIL1C_20210529T052651_N0300_R105_T43SFR_20210529T072625',\n",
       "  'true'),\n",
       " ('b9464ae9-0ff6-4146-991e-398261867304',\n",
       "  'S2A_MSIL1C_20210611T053641_N0300_R005_T43SFR_20210611T070709',\n",
       "  'true'),\n",
       " ('1cf5af7f-fe38-485a-aaed-d3df313f237f',\n",
       "  'S2B_MSIL1C_20210606T053639_N0300_R005_T43SFR_20210606T074817',\n",
       "  'true'),\n",
       " ('f6a9bfb0-9793-49e6-9b7f-f324bf127560',\n",
       "  'S2B_MSIL2A_20210613T052649_N0300_R105_T43SFR_20210613T082403',\n",
       "  'true'),\n",
       " ('c3c70226-1446-43aa-a5bf-9a32754cd4fa',\n",
       "  'S2A_MSIL2A_20210529T052651_N0300_R105_T43SFR_20210529T075026',\n",
       "  'true'),\n",
       " ('b76ba825-acce-43dc-bb4c-43464b8b1ac1',\n",
       "  'S2A_MSIL1C_20200108T054221_N0208_R005_T43SFR_20200108T065352',\n",
       "  'true')]"
      ]
     },
     "execution_count": 67,
     "metadata": {},
     "output_type": "execute_result"
    }
   ],
   "source": [
    "ids"
   ]
  },
  {
   "cell_type": "code",
   "execution_count": 77,
   "id": "bba82f78-728d-4b8e-9605-142926fce3b7",
   "metadata": {},
   "outputs": [
    {
     "data": {
      "text/plain": [
       "'S2A_MSIL2A_20210529T052651_N0300_R105_T43SFR_20210529T075026'"
      ]
     },
     "execution_count": 77,
     "metadata": {},
     "output_type": "execute_result"
    }
   ],
   "source": [
    "ids[-2][1]"
   ]
  },
  {
   "cell_type": "code",
   "execution_count": 75,
   "id": "5561955f-e086-4df0-bb72-8e14d1aa241d",
   "metadata": {},
   "outputs": [
    {
     "data": {
      "text/plain": [
       "False"
      ]
     },
     "execution_count": 75,
     "metadata": {},
     "output_type": "execute_result"
    }
   ],
   "source": [
    "ids[-1][1].startswith('S2A_MSIL1C_2021')"
   ]
  },
  {
   "cell_type": "code",
   "execution_count": 59,
   "id": "a684393c-a484-4ea6-90ab-bbeec09388ad",
   "metadata": {},
   "outputs": [
    {
     "data": {
      "text/plain": [
       "50"
      ]
     },
     "execution_count": 59,
     "metadata": {},
     "output_type": "execute_result"
    }
   ],
   "source": [
    "len(ids)"
   ]
  },
  {
   "cell_type": "code",
   "execution_count": 81,
   "id": "8d6c533a-9f05-4ece-9cb9-3389156ac0dd",
   "metadata": {
    "tags": []
   },
   "outputs": [
    {
     "name": "stdout",
     "output_type": "stream",
     "text": [
      "['S2A_MSIL1C_20210502T053641_N0300_R005_T43SFR_20210502T074642.zip', 'S2A_MSIL1C_20210509T052651_N0300_R105_T43SFR_20210509T074019.zip', 'S2A_MSIL1C_20201001T052651_N0209_R105_T43SFR_20201001T080756.zip', 'S2A_MSIL1C_20210412T053641_N0300_R005_T43SFR_20210412T070823.zip']\n"
     ]
    }
   ],
   "source": [
    "import os\n",
    "print(os.listdir('N:/dataorg-datasets/sentinel2_images/images_danya/raw/'))"
   ]
  },
  {
   "cell_type": "markdown",
   "id": "5bd3cf98-7774-4d6d-94f4-2e3f6fd14c39",
   "metadata": {},
   "source": [
    "### unzip"
   ]
  },
  {
   "cell_type": "code",
   "execution_count": 8,
   "id": "67cf0ad9-46bc-40c3-9d06-4549ba8ab198",
   "metadata": {},
   "outputs": [],
   "source": [
    "import os\n",
    "import zipfile"
   ]
  },
  {
   "cell_type": "code",
   "execution_count": 13,
   "id": "819e55c9-22af-4e71-aa0a-bad0dc3bc09c",
   "metadata": {},
   "outputs": [],
   "source": [
    "def unzip_products(raw_data_path, processed_data_path):\n",
    "    for filename in ['q.zip', 'query.zip']:\n",
    "        raw_file = raw_data_path + filename\n",
    "        processed_file = processed_data_path + filename\n",
    "        with zipfile.ZipFile(raw_file, 'r') as f:\n",
    "            f.extractall(raw_data_path)"
   ]
  },
  {
   "cell_type": "code",
   "execution_count": 6,
   "id": "c005856d-01ff-4be7-9e41-a207b393e6fe",
   "metadata": {},
   "outputs": [],
   "source": [
    "def process_data(images_path='./'):\n",
    "    unzip_products(images_path, images_path)"
   ]
  },
  {
   "cell_type": "code",
   "execution_count": 14,
   "id": "f8587341-6df4-430e-9839-6f58d4510606",
   "metadata": {},
   "outputs": [],
   "source": [
    "process_data()"
   ]
  },
  {
   "cell_type": "code",
   "execution_count": 10,
   "id": "0f78f1ba-dea0-4e8f-b83c-4f993948690e",
   "metadata": {},
   "outputs": [
    {
     "data": {
      "text/plain": [
       "['.ipynb_checkpoints', 'q.zip', 'query.zip', 'Untitled.ipynb']"
      ]
     },
     "execution_count": 10,
     "metadata": {},
     "output_type": "execute_result"
    }
   ],
   "source": [
    "os.listdir('./')"
   ]
  },
  {
   "cell_type": "markdown",
   "id": "80db3d04-5a26-40b4-8de4-9a22bb894d80",
   "metadata": {},
   "source": [
    "### Correction"
   ]
  },
  {
   "cell_type": "code",
   "execution_count": 2,
   "id": "a6569d48-3bb5-445a-b7e1-39ed11edc5e9",
   "metadata": {},
   "outputs": [],
   "source": [
    "unzipped_data_path = 'N:/dataorg-datasets/sentinel2_images/images_danya/raw/'"
   ]
  },
  {
   "cell_type": "code",
   "execution_count": 1,
   "id": "465464a3-b30b-43eb-8c79-592e989da6ce",
   "metadata": {},
   "outputs": [],
   "source": [
    "import os, re"
   ]
  },
  {
   "cell_type": "code",
   "execution_count": 4,
   "id": "e5d8e4a0-9e12-401c-b4f0-e90f6b33f54f",
   "metadata": {},
   "outputs": [],
   "source": [
    "files = os.listdir(unzipped_data_path)"
   ]
  },
  {
   "cell_type": "code",
   "execution_count": 5,
   "id": "e9a4bceb-3d46-4e79-be31-ce5e0119c0b0",
   "metadata": {},
   "outputs": [
    {
     "data": {
      "text/plain": [
       "['S2A_MSIL1C_20200108T054221_N0208_R005_T43SFR_20200108T065352.zip',\n",
       " 'S2A_MSIL1C_20200603T052651_N0209_R105_T43SFR_20200603T091952.zip',\n",
       " 'S2A_MSIL1C_20201001T052651_N0209_R105_T43SFR_20201001T080756.zip',\n",
       " 'S2A_MSIL1C_20210303T053731_N0209_R005_T43SFR_20210303T071456.zip',\n",
       " 'S2A_MSIL1C_20210330T052641_N0300_R105_T43SFR_20210330T072750.zip',\n",
       " 'S2A_MSIL1C_20210402T053641_N0300_R005_T43SFR_20210402T074229.zip',\n",
       " 'S2A_MSIL1C_20210409T052641_N0300_R105_T43SFR_20210409T074750.zip',\n",
       " 'S2A_MSIL1C_20210412T053641_N0300_R005_T43SFR_20210412T070823.zip',\n",
       " 'S2A_MSIL1C_20210429T052641_N0300_R105_T43SFR_20210429T072359.zip',\n",
       " 'S2A_MSIL1C_20210502T053641_N0300_R005_T43SFR_20210502T074642.zip',\n",
       " 'S2A_MSIL1C_20210509T052651_N0300_R105_T43SFR_20210509T074019.zip',\n",
       " 'S2A_MSIL1C_20210512T053641_N0300_R005_T43SFR_20210512T081347.zip',\n",
       " 'S2A_MSIL1C_20210529T052651_N0300_R105_T43SFR_20210529T072625.zip',\n",
       " 'S2A_MSIL1C_20210608T052651_N0300_R105_T43SFR_20210608T074116.zip',\n",
       " 'S2A_MSIL1C_20210810T053641_N0301_R005_T43SFR_20210810T065217.zip']"
      ]
     },
     "execution_count": 5,
     "metadata": {},
     "output_type": "execute_result"
    }
   ],
   "source": [
    "files"
   ]
  },
  {
   "cell_type": "code",
   "execution_count": 8,
   "id": "9994e04c-a345-4422-93b1-c6e9f736bb80",
   "metadata": {},
   "outputs": [
    {
     "data": {
      "text/plain": [
       "[]"
      ]
     },
     "execution_count": 8,
     "metadata": {},
     "output_type": "execute_result"
    }
   ],
   "source": [
    "[file for file in files if re.match('.*SAFE', file)]"
   ]
  },
  {
   "cell_type": "code",
   "execution_count": null,
   "id": "e13fbd13-ffe2-48dc-b23f-791f818fdc2b",
   "metadata": {},
   "outputs": [],
   "source": []
  },
  {
   "cell_type": "markdown",
   "id": "a6cc86db-98a9-4d69-8708-3cac348bb072",
   "metadata": {},
   "source": [
    "### download using `sentinelsat` packages"
   ]
  },
  {
   "cell_type": "code",
   "execution_count": 9,
   "id": "dc4e3a90-b184-41b3-b2e9-b8a0bb175220",
   "metadata": {},
   "outputs": [],
   "source": [
    "from sentinelsat import SentinelAPI"
   ]
  },
  {
   "cell_type": "code",
   "execution_count": 10,
   "id": "a3be7d00-fec1-44b1-beb6-b0da814ab803",
   "metadata": {},
   "outputs": [],
   "source": [
    "user = 'danyayay' \n",
    "password = 'Ldy19970722' \n",
    "api = SentinelAPI(user, password, 'https://scihub.copernicus.eu/dhus')"
   ]
  },
  {
   "cell_type": "code",
   "execution_count": null,
   "id": "17f5a600-8f6e-4b62-a804-1e36cb03120a",
   "metadata": {},
   "outputs": [],
   "source": [
    "products = api.query(footprint,\n",
    "                     date = ('20190601', '20190626'),\n",
    "                     platformname = 'Sentinel-2',\n",
    "                     processinglevel = 'Level-2A',\n",
    "                     cloudcoverpercentage = (0,10)\n",
    "                    )"
   ]
  },
  {
   "cell_type": "code",
   "execution_count": null,
   "id": "3f99c9b9-aa02-40aa-a6f9-d02de4a1e7f0",
   "metadata": {},
   "outputs": [],
   "source": []
  },
  {
   "cell_type": "markdown",
   "id": "883c147f-1b5e-40ae-88db-5714c7d97e9f",
   "metadata": {},
   "source": [
    "### load image"
   ]
  },
  {
   "cell_type": "code",
   "execution_count": 11,
   "id": "3c23cea0-c054-4dd4-af5d-caf633d27418",
   "metadata": {},
   "outputs": [],
   "source": [
    "import rasterio"
   ]
  },
  {
   "cell_type": "code",
   "execution_count": null,
   "id": "6e91d428-6fb4-4796-9005-ca2818e1c01e",
   "metadata": {},
   "outputs": [],
   "source": []
  },
  {
   "cell_type": "code",
   "execution_count": 19,
   "id": "94a7beec-77c6-420a-9bd8-9699020c1084",
   "metadata": {},
   "outputs": [],
   "source": [
    "# Open Bands 4, 3 and 2 with Rasterio\n",
    "path = 'N:/dataorg-datasets/sentinel2_images/images_danya/raw/'\n",
    "R10 = path + 'S2A_MSIL1C_20210512T053641_N0300_R005_T43SFR_20210512T081347.SAFE/GRANULE/L1C_T43SFR_A030747_20210512T053641/IMG_DATA'\n",
    "b4 = rasterio.open(R10+'/T43SFR_20210512T053641_B04.jp2')\n",
    "b3 = rasterio.open(R10+'/T43SFR_20210512T053641_B03.jp2')\n",
    "b2 = rasterio.open(R10+'/T43SFR_20210512T053641_B02.jp2')"
   ]
  },
  {
   "cell_type": "code",
   "execution_count": null,
   "id": "2cf639b1-6b4c-47e5-8bac-5c894a9cf14a",
   "metadata": {},
   "outputs": [],
   "source": [
    "# Create an RGB image \n",
    "with rasterio.open('RGB.tiff','w',driver='Gtiff', width=b4.width, height=b4.height, \n",
    "              count=3,crs=b4.crs,transform=b4.transform, dtype=b4.dtypes[0]) as rgb:\n",
    "    rgb.write(b2.read(1),1) \n",
    "    rgb.write(b3.read(1),2) \n",
    "    rgb.write(b4.read(1),3) \n",
    "    rgb.close()"
   ]
  },
  {
   "cell_type": "code",
   "execution_count": null,
   "id": "da459ce5-9f5e-4c4e-8d02-4829d1d817f0",
   "metadata": {},
   "outputs": [],
   "source": [
    "img = plt.imread('RGB.tiff')\n",
    "plt.imshow(img)"
   ]
  },
  {
   "cell_type": "markdown",
   "id": "96b46644-1c8e-46b3-87f7-10b59bd822a8",
   "metadata": {},
   "source": [
    "### Calculate NDVI"
   ]
  },
  {
   "cell_type": "code",
   "execution_count": null,
   "id": "eef73125-5bc1-4fac-91d5-7c3337fd171c",
   "metadata": {},
   "outputs": [],
   "source": [
    "# Open b4 and b8\n",
    "b4 = rio.open(R10+'/T33TTG_20190605T100039_B04_10m.jp2')\n",
    "b8 = rio.open(R10+'/T33TTG_20190605T100039_B08_10m.jp2')\n",
    "\n",
    "# read Red(b4) and NIR(b8) as arrays\n",
    "red = b4.read()\n",
    "nir = b8.read()\n",
    "\n",
    "# Calculate ndvi\n",
    "ndvi = (nir.astype(float)-red.astype(float))/(nir+red)\n",
    "\n",
    "# Write the NDVI image\n",
    "meta = b4.meta\n",
    "meta.update(driver='GTiff')\n",
    "meta.update(dtype=rasterio.float32)\n",
    "\n",
    "with rasterio.open('NDVI.tif', 'w', **meta) as dst:\n",
    "    dst.write(ndvi.astype(rasterio.float32))"
   ]
  },
  {
   "cell_type": "code",
   "execution_count": null,
   "id": "23405282-192e-41db-9692-ff8af011cfca",
   "metadata": {},
   "outputs": [],
   "source": []
  },
  {
   "cell_type": "markdown",
   "id": "ce37f3f7-360d-4c91-b89f-e8b74f0b1127",
   "metadata": {},
   "source": [
    "Download data using wget"
   ]
  },
  {
   "cell_type": "code",
   "execution_count": 1,
   "id": "7f687649-1321-4e13-8644-eca3812ef511",
   "metadata": {},
   "outputs": [],
   "source": [
    "import os"
   ]
  },
  {
   "cell_type": "code",
   "execution_count": 4,
   "id": "b43832ca-1086-402f-8d0b-6762095e1fe5",
   "metadata": {},
   "outputs": [],
   "source": [
    "url1 = \"https://scihub.copernicus.eu/dhus/odata/v1/Products('22e7af63-07ad-4076-8541-f6655388dc5e')/\\$value\""
   ]
  },
  {
   "cell_type": "code",
   "execution_count": 6,
   "id": "d5751547-acb1-48c6-b13e-631f7e326e63",
   "metadata": {},
   "outputs": [],
   "source": [
    "url2 = \"https://scihub.copernicus.eu/dhus/odata/v1/Products('2b17b57d-fff4-4645-b539-91f305c27c69')/$value\""
   ]
  },
  {
   "cell_type": "code",
   "execution_count": 5,
   "id": "8da3424d-c492-45d1-b71a-1edbd4c36b54",
   "metadata": {},
   "outputs": [],
   "source": [
    "url3 = \"https://scihub.copernicus.eu/dhus/odata/v1/Products('2aa207f9-608c-4548-b992-2c47bcd5793c')/$value\""
   ]
  },
  {
   "cell_type": "code",
   "execution_count": 6,
   "id": "34d46f24-f1a3-401d-9703-e4e37a38b479",
   "metadata": {},
   "outputs": [
    {
     "data": {
      "text/plain": [
       "0"
      ]
     },
     "execution_count": 6,
     "metadata": {},
     "output_type": "execute_result"
    }
   ],
   "source": [
    "os.system(f'wget  --content-disposition --continue --user=danyayay --password=Ldy19970722 \"{url3}\"')"
   ]
  },
  {
   "cell_type": "code",
   "execution_count": null,
   "id": "d18dc07c-6006-4974-bbc5-081ab738c64b",
   "metadata": {},
   "outputs": [],
   "source": [
    "https://scihub.copernicus.eu/dhus/odata/v1/Products('2aa207f9-608c-4548-b992-2c47bcd5793c')</id><title type=\"text\">S2A_MSIL2A_20201220T053231_N0214_R105_T43SFR_20201220T075655</title><updated>2021-07-23T19:19:53.987Z</updated><category term=\"DHuS.Product\" scheme=\"http://schemas.microsoft.com/ado/2007/08/dataservices/scheme\"/><link href=\"Products(&apos;2aa207f9-608c-4548-b992-2c47bcd5793c&apos;)\" rel=\"edit\" title=\"Product\"/>"
   ]
  },
  {
   "cell_type": "code",
   "execution_count": null,
   "id": "a3a023fd-ac44-481b-9d0c-d90b0a7bdefb",
   "metadata": {},
   "outputs": [],
   "source": [
    "https://scihub.copernicus.eu/dhus/odata/v1/Products('2c50ca48-661e-4163-ba0a-902c4811cf09')/Online/$value"
   ]
  },
  {
   "cell_type": "code",
   "execution_count": null,
   "id": "275a0034-c078-46d9-9a15-d40158fb9eb7",
   "metadata": {},
   "outputs": [],
   "source": [
    "https://scihub.copernicus.eu/dhus/odata/v1/Products('2c50ca48-661e-4163-ba0a-902c4811cf09')/$value"
   ]
  },
  {
   "cell_type": "code",
   "execution_count": null,
   "id": "c9a8dbd8-0a58-4920-b11e-7d1c39720eba",
   "metadata": {},
   "outputs": [],
   "source": [
    "https://scihub.copernicus.eu/dhus/odata/v1/Products('2c50ca48-661e-4163-ba0a-902c4811cf09')/Nodes('S2A_MSIL1C_20200603T052651_N0209_R105_T43SFR_20200603T091952.SAFE')/Nodes('manifest.safe')/$value"
   ]
  },
  {
   "cell_type": "code",
   "execution_count": null,
   "id": "c9789b5c-9291-428d-a7d9-25165d02e23c",
   "metadata": {},
   "outputs": [],
   "source": [
    "https://scihub.copernicus.eu/dhus/odata/v1/Products('0a91217c-c602-471c-bda1-4926af39840f')/Nodes('S2A_MSIL1C_20210509T052651_N0300_R105_T43SFR_20210509T074019.SAFE')/Nodes('GRANULE')/$value"
   ]
  },
  {
   "cell_type": "markdown",
   "id": "38c1ce05-1222-41c4-99e9-1b361e78cb85",
   "metadata": {},
   "source": [
    "good"
   ]
  },
  {
   "cell_type": "code",
   "execution_count": null,
   "id": "81442d84-5e5b-4c86-8e3c-589443fcb525",
   "metadata": {},
   "outputs": [],
   "source": [
    "https://scihub.copernicus.eu/dhus/odata/v1/Products('2b17b57d-fff4-4645-b539-91f305c27c69')/Nodes('S1A_IW_SLC__1SDV_20160117T103451_20160117T103518_009533_00DD94_D46A.SAFE')/Nodes('manifest.safe')/$value"
   ]
  },
  {
   "cell_type": "code",
   "execution_count": null,
   "id": "326c56fa-c188-4a0c-b888-62ab107c3d76",
   "metadata": {},
   "outputs": [],
   "source": [
    "https://scihub.copernicus.eu/dhus/odata/v1/Products('ac8b1986-73e7-4ed2-b21a-8cfefead7e7b')/$value"
   ]
  },
  {
   "cell_type": "code",
   "execution_count": null,
   "id": "ff95186c-4096-4023-80f6-35fc4e8d41da",
   "metadata": {},
   "outputs": [],
   "source": [
    "https://scihub.copernicus.eu/dhus/odata/v1/Products('ac8b1986-73e7-4ed2-b21a-8cfefead7e7b')/Nodes('S2A_MSIL1C_20210601T053641_N0300_R005_T43SFR_20210601T074909.SAFE')/Nodes('manifest.safe')/$value"
   ]
  },
  {
   "cell_type": "code",
   "execution_count": null,
   "id": "f69ee11e-0020-42eb-9026-dc822c18f8dd",
   "metadata": {},
   "outputs": [],
   "source": [
    "https://scihub.copernicus.eu/dhus/odata/v1/Products('8bd3bef3-6a11-4111-ba87-fd3004ed47fd')/Nodes('S2B_MSIL2A_20210523T210019_N0300_R100_T07WDQ_20210523T234058.SAFE')/Nodes('manifest.safe')/$value"
   ]
  },
  {
   "cell_type": "code",
   "execution_count": null,
   "id": "cdfcd772-9675-4cef-95dd-7dc879719293",
   "metadata": {},
   "outputs": [],
   "source": []
  },
  {
   "cell_type": "markdown",
   "id": "e2f99c18-d597-4d37-a6b9-ca35055fd2b4",
   "metadata": {},
   "source": [
    "Download using urllib"
   ]
  },
  {
   "cell_type": "code",
   "execution_count": 7,
   "id": "7ce310a0-10ce-44bb-adc7-3ef2cef2ac41",
   "metadata": {},
   "outputs": [],
   "source": [
    "import urllib"
   ]
  },
  {
   "cell_type": "code",
   "execution_count": 9,
   "id": "cd28751f-74a2-475b-a880-72281d1e1641",
   "metadata": {},
   "outputs": [],
   "source": [
    "# create a password manager\n",
    "password_mgr = urllib.request.HTTPPasswordMgrWithDefaultRealm()\n",
    "\n",
    "# Add the username and password.\n",
    "# If we knew the realm, we could use it instead of None.\n",
    "top_level_url = \"https://scihub.copernicus.eu\"\n",
    "password_mgr.add_password(None, top_level_url, 'danyayay', 'Ldy19970722')\n",
    "\n",
    "handler = urllib.request.HTTPBasicAuthHandler(password_mgr)\n",
    "\n",
    "# create \"opener\" (OpenerDirector instance)\n",
    "opener = urllib.request.build_opener(handler)\n",
    "\n",
    "# use the opener to fetch a URL\n",
    "a_url = top_level_url + \"/dhus/odata/v1/Products('16241b12-cce4-4bf4-8e55-5a790134a1d0')/$value\"\n",
    "opener.open(a_url)\n",
    "\n",
    "# Install the opener.\n",
    "# Now all calls to urllib.request.urlopen use our opener.\n",
    "urllib.request.install_opener(opener)"
   ]
  },
  {
   "cell_type": "code",
   "execution_count": 10,
   "id": "8c0d248f-88d5-416d-a50b-b32aa6e2aada",
   "metadata": {},
   "outputs": [],
   "source": [
    "import requests"
   ]
  },
  {
   "cell_type": "code",
   "execution_count": 11,
   "id": "cd5d753c-2889-4131-9b3a-59c653ca3877",
   "metadata": {},
   "outputs": [
    {
     "ename": "MissingSchema",
     "evalue": "Invalid URL 'myLink_queriedResult/result.xls': No schema supplied. Perhaps you meant http://myLink_queriedResult/result.xls?",
     "output_type": "error",
     "traceback": [
      "\u001b[1;31m---------------------------------------------------------------------------\u001b[0m",
      "\u001b[1;31mMissingSchema\u001b[0m                             Traceback (most recent call last)",
      "\u001b[1;32m~\\AppData\\Local\\Temp/ipykernel_1916/2934491040.py\u001b[0m in \u001b[0;36m<module>\u001b[1;34m\u001b[0m\n\u001b[0;32m      3\u001b[0m \u001b[0mpassword\u001b[0m \u001b[1;33m=\u001b[0m \u001b[1;34m'myPassword'\u001b[0m\u001b[1;33m\u001b[0m\u001b[1;33m\u001b[0m\u001b[0m\n\u001b[0;32m      4\u001b[0m \u001b[1;33m\u001b[0m\u001b[0m\n\u001b[1;32m----> 5\u001b[1;33m \u001b[0mr\u001b[0m\u001b[1;33m=\u001b[0m\u001b[0mrequests\u001b[0m\u001b[1;33m.\u001b[0m\u001b[0mget\u001b[0m\u001b[1;33m(\u001b[0m\u001b[0mtheurl\u001b[0m\u001b[1;33m,\u001b[0m \u001b[0mauth\u001b[0m\u001b[1;33m=\u001b[0m\u001b[0mrequests\u001b[0m\u001b[1;33m.\u001b[0m\u001b[0mauth\u001b[0m\u001b[1;33m.\u001b[0m\u001b[0mHTTPBasicAuth\u001b[0m\u001b[1;33m(\u001b[0m\u001b[0musername\u001b[0m\u001b[1;33m,\u001b[0m \u001b[0mpassword\u001b[0m\u001b[1;33m)\u001b[0m\u001b[1;33m)\u001b[0m\u001b[1;33m\u001b[0m\u001b[1;33m\u001b[0m\u001b[0m\n\u001b[0m",
      "\u001b[1;32m~\\Anaconda3\\envs\\ml4sat\\lib\\site-packages\\requests\\api.py\u001b[0m in \u001b[0;36mget\u001b[1;34m(url, params, **kwargs)\u001b[0m\n\u001b[0;32m     73\u001b[0m     \"\"\"\n\u001b[0;32m     74\u001b[0m \u001b[1;33m\u001b[0m\u001b[0m\n\u001b[1;32m---> 75\u001b[1;33m     \u001b[1;32mreturn\u001b[0m \u001b[0mrequest\u001b[0m\u001b[1;33m(\u001b[0m\u001b[1;34m'get'\u001b[0m\u001b[1;33m,\u001b[0m \u001b[0murl\u001b[0m\u001b[1;33m,\u001b[0m \u001b[0mparams\u001b[0m\u001b[1;33m=\u001b[0m\u001b[0mparams\u001b[0m\u001b[1;33m,\u001b[0m \u001b[1;33m**\u001b[0m\u001b[0mkwargs\u001b[0m\u001b[1;33m)\u001b[0m\u001b[1;33m\u001b[0m\u001b[1;33m\u001b[0m\u001b[0m\n\u001b[0m\u001b[0;32m     76\u001b[0m \u001b[1;33m\u001b[0m\u001b[0m\n\u001b[0;32m     77\u001b[0m \u001b[1;33m\u001b[0m\u001b[0m\n",
      "\u001b[1;32m~\\Anaconda3\\envs\\ml4sat\\lib\\site-packages\\requests\\api.py\u001b[0m in \u001b[0;36mrequest\u001b[1;34m(method, url, **kwargs)\u001b[0m\n\u001b[0;32m     59\u001b[0m     \u001b[1;31m# cases, and look like a memory leak in others.\u001b[0m\u001b[1;33m\u001b[0m\u001b[1;33m\u001b[0m\u001b[1;33m\u001b[0m\u001b[0m\n\u001b[0;32m     60\u001b[0m     \u001b[1;32mwith\u001b[0m \u001b[0msessions\u001b[0m\u001b[1;33m.\u001b[0m\u001b[0mSession\u001b[0m\u001b[1;33m(\u001b[0m\u001b[1;33m)\u001b[0m \u001b[1;32mas\u001b[0m \u001b[0msession\u001b[0m\u001b[1;33m:\u001b[0m\u001b[1;33m\u001b[0m\u001b[1;33m\u001b[0m\u001b[0m\n\u001b[1;32m---> 61\u001b[1;33m         \u001b[1;32mreturn\u001b[0m \u001b[0msession\u001b[0m\u001b[1;33m.\u001b[0m\u001b[0mrequest\u001b[0m\u001b[1;33m(\u001b[0m\u001b[0mmethod\u001b[0m\u001b[1;33m=\u001b[0m\u001b[0mmethod\u001b[0m\u001b[1;33m,\u001b[0m \u001b[0murl\u001b[0m\u001b[1;33m=\u001b[0m\u001b[0murl\u001b[0m\u001b[1;33m,\u001b[0m \u001b[1;33m**\u001b[0m\u001b[0mkwargs\u001b[0m\u001b[1;33m)\u001b[0m\u001b[1;33m\u001b[0m\u001b[1;33m\u001b[0m\u001b[0m\n\u001b[0m\u001b[0;32m     62\u001b[0m \u001b[1;33m\u001b[0m\u001b[0m\n\u001b[0;32m     63\u001b[0m \u001b[1;33m\u001b[0m\u001b[0m\n",
      "\u001b[1;32m~\\Anaconda3\\envs\\ml4sat\\lib\\site-packages\\requests\\sessions.py\u001b[0m in \u001b[0;36mrequest\u001b[1;34m(self, method, url, params, data, headers, cookies, files, auth, timeout, allow_redirects, proxies, hooks, stream, verify, cert, json)\u001b[0m\n\u001b[0;32m    526\u001b[0m             \u001b[0mhooks\u001b[0m\u001b[1;33m=\u001b[0m\u001b[0mhooks\u001b[0m\u001b[1;33m,\u001b[0m\u001b[1;33m\u001b[0m\u001b[1;33m\u001b[0m\u001b[0m\n\u001b[0;32m    527\u001b[0m         )\n\u001b[1;32m--> 528\u001b[1;33m         \u001b[0mprep\u001b[0m \u001b[1;33m=\u001b[0m \u001b[0mself\u001b[0m\u001b[1;33m.\u001b[0m\u001b[0mprepare_request\u001b[0m\u001b[1;33m(\u001b[0m\u001b[0mreq\u001b[0m\u001b[1;33m)\u001b[0m\u001b[1;33m\u001b[0m\u001b[1;33m\u001b[0m\u001b[0m\n\u001b[0m\u001b[0;32m    529\u001b[0m \u001b[1;33m\u001b[0m\u001b[0m\n\u001b[0;32m    530\u001b[0m         \u001b[0mproxies\u001b[0m \u001b[1;33m=\u001b[0m \u001b[0mproxies\u001b[0m \u001b[1;32mor\u001b[0m \u001b[1;33m{\u001b[0m\u001b[1;33m}\u001b[0m\u001b[1;33m\u001b[0m\u001b[1;33m\u001b[0m\u001b[0m\n",
      "\u001b[1;32m~\\Anaconda3\\envs\\ml4sat\\lib\\site-packages\\requests\\sessions.py\u001b[0m in \u001b[0;36mprepare_request\u001b[1;34m(self, request)\u001b[0m\n\u001b[0;32m    454\u001b[0m \u001b[1;33m\u001b[0m\u001b[0m\n\u001b[0;32m    455\u001b[0m         \u001b[0mp\u001b[0m \u001b[1;33m=\u001b[0m \u001b[0mPreparedRequest\u001b[0m\u001b[1;33m(\u001b[0m\u001b[1;33m)\u001b[0m\u001b[1;33m\u001b[0m\u001b[1;33m\u001b[0m\u001b[0m\n\u001b[1;32m--> 456\u001b[1;33m         p.prepare(\n\u001b[0m\u001b[0;32m    457\u001b[0m             \u001b[0mmethod\u001b[0m\u001b[1;33m=\u001b[0m\u001b[0mrequest\u001b[0m\u001b[1;33m.\u001b[0m\u001b[0mmethod\u001b[0m\u001b[1;33m.\u001b[0m\u001b[0mupper\u001b[0m\u001b[1;33m(\u001b[0m\u001b[1;33m)\u001b[0m\u001b[1;33m,\u001b[0m\u001b[1;33m\u001b[0m\u001b[1;33m\u001b[0m\u001b[0m\n\u001b[0;32m    458\u001b[0m             \u001b[0murl\u001b[0m\u001b[1;33m=\u001b[0m\u001b[0mrequest\u001b[0m\u001b[1;33m.\u001b[0m\u001b[0murl\u001b[0m\u001b[1;33m,\u001b[0m\u001b[1;33m\u001b[0m\u001b[1;33m\u001b[0m\u001b[0m\n",
      "\u001b[1;32m~\\Anaconda3\\envs\\ml4sat\\lib\\site-packages\\requests\\models.py\u001b[0m in \u001b[0;36mprepare\u001b[1;34m(self, method, url, headers, files, data, params, auth, cookies, hooks, json)\u001b[0m\n\u001b[0;32m    314\u001b[0m \u001b[1;33m\u001b[0m\u001b[0m\n\u001b[0;32m    315\u001b[0m         \u001b[0mself\u001b[0m\u001b[1;33m.\u001b[0m\u001b[0mprepare_method\u001b[0m\u001b[1;33m(\u001b[0m\u001b[0mmethod\u001b[0m\u001b[1;33m)\u001b[0m\u001b[1;33m\u001b[0m\u001b[1;33m\u001b[0m\u001b[0m\n\u001b[1;32m--> 316\u001b[1;33m         \u001b[0mself\u001b[0m\u001b[1;33m.\u001b[0m\u001b[0mprepare_url\u001b[0m\u001b[1;33m(\u001b[0m\u001b[0murl\u001b[0m\u001b[1;33m,\u001b[0m \u001b[0mparams\u001b[0m\u001b[1;33m)\u001b[0m\u001b[1;33m\u001b[0m\u001b[1;33m\u001b[0m\u001b[0m\n\u001b[0m\u001b[0;32m    317\u001b[0m         \u001b[0mself\u001b[0m\u001b[1;33m.\u001b[0m\u001b[0mprepare_headers\u001b[0m\u001b[1;33m(\u001b[0m\u001b[0mheaders\u001b[0m\u001b[1;33m)\u001b[0m\u001b[1;33m\u001b[0m\u001b[1;33m\u001b[0m\u001b[0m\n\u001b[0;32m    318\u001b[0m         \u001b[0mself\u001b[0m\u001b[1;33m.\u001b[0m\u001b[0mprepare_cookies\u001b[0m\u001b[1;33m(\u001b[0m\u001b[0mcookies\u001b[0m\u001b[1;33m)\u001b[0m\u001b[1;33m\u001b[0m\u001b[1;33m\u001b[0m\u001b[0m\n",
      "\u001b[1;32m~\\Anaconda3\\envs\\ml4sat\\lib\\site-packages\\requests\\models.py\u001b[0m in \u001b[0;36mprepare_url\u001b[1;34m(self, url, params)\u001b[0m\n\u001b[0;32m    388\u001b[0m             \u001b[0merror\u001b[0m \u001b[1;33m=\u001b[0m \u001b[0merror\u001b[0m\u001b[1;33m.\u001b[0m\u001b[0mformat\u001b[0m\u001b[1;33m(\u001b[0m\u001b[0mto_native_string\u001b[0m\u001b[1;33m(\u001b[0m\u001b[0murl\u001b[0m\u001b[1;33m,\u001b[0m \u001b[1;34m'utf8'\u001b[0m\u001b[1;33m)\u001b[0m\u001b[1;33m)\u001b[0m\u001b[1;33m\u001b[0m\u001b[1;33m\u001b[0m\u001b[0m\n\u001b[0;32m    389\u001b[0m \u001b[1;33m\u001b[0m\u001b[0m\n\u001b[1;32m--> 390\u001b[1;33m             \u001b[1;32mraise\u001b[0m \u001b[0mMissingSchema\u001b[0m\u001b[1;33m(\u001b[0m\u001b[0merror\u001b[0m\u001b[1;33m)\u001b[0m\u001b[1;33m\u001b[0m\u001b[1;33m\u001b[0m\u001b[0m\n\u001b[0m\u001b[0;32m    391\u001b[0m \u001b[1;33m\u001b[0m\u001b[0m\n\u001b[0;32m    392\u001b[0m         \u001b[1;32mif\u001b[0m \u001b[1;32mnot\u001b[0m \u001b[0mhost\u001b[0m\u001b[1;33m:\u001b[0m\u001b[1;33m\u001b[0m\u001b[1;33m\u001b[0m\u001b[0m\n",
      "\u001b[1;31mMissingSchema\u001b[0m: Invalid URL 'myLink_queriedResult/result.xls': No schema supplied. Perhaps you meant http://myLink_queriedResult/result.xls?"
     ]
    }
   ],
   "source": [
    "theurl= 'https://scihub.copernicus.eu/dhus/odata/v1/Products('16241b12-cce4-4bf4-8e55-5a790134a1d0')/$value'\n",
    "username = 'myUsername'\n",
    "password = 'myPassword'\n",
    "\n",
    "r=requests.get(theurl, auth=requests.auth.HTTPBasicAuth(username, password))"
   ]
  },
  {
   "cell_type": "code",
   "execution_count": null,
   "id": "7bef170f-d7bb-4e19-8424-8be59480499c",
   "metadata": {},
   "outputs": [],
   "source": []
  }
 ],
 "metadata": {
  "kernelspec": {
   "display_name": "Python 3 (ipykernel)",
   "language": "python",
   "name": "python3"
  },
  "language_info": {
   "codemirror_mode": {
    "name": "ipython",
    "version": 3
   },
   "file_extension": ".py",
   "mimetype": "text/x-python",
   "name": "python",
   "nbconvert_exporter": "python",
   "pygments_lexer": "ipython3",
   "version": "3.9.6"
  }
 },
 "nbformat": 4,
 "nbformat_minor": 5
}
