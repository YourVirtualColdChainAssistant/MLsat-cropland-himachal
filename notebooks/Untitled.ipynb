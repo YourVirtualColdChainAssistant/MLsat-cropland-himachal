{
 "cells": [
  {
   "cell_type": "markdown",
   "id": "95d2630c-fcff-4bb6-859d-9ee9d6405ea5",
   "metadata": {},
   "source": [
    "### Query"
   ]
  },
  {
   "cell_type": "code",
   "execution_count": 1,
   "id": "7b104cee-421d-47ba-a523-fa3c8cc04958",
   "metadata": {},
   "outputs": [],
   "source": [
    "import os"
   ]
  },
  {
   "cell_type": "code",
   "execution_count": 6,
   "id": "1a0faa3c-be45-465f-9fff-fcd7cdc4ba36",
   "metadata": {},
   "outputs": [],
   "source": [
    "query = '?$filter=substringof(%2743SFR%27,Name) and Online eq true'\n",
    "username = 'danyayay'\n",
    "password = 'Ldy19970722'\n",
    "output_doc = '../data/q.txt'"
   ]
  },
  {
   "cell_type": "code",
   "execution_count": 9,
   "id": "f1e354f5-249b-47ae-86cd-a06a41c47ef4",
   "metadata": {},
   "outputs": [
    {
     "data": {
      "text/plain": [
       "0"
      ]
     },
     "execution_count": 9,
     "metadata": {},
     "output_type": "execute_result"
    }
   ],
   "source": [
    "url_query = \"https://scihub.copernicus.eu/dhus/odata/v1/Products\" + query\n",
    "cmd_query = f'wget --no-check-certificate --user={username} --password={password} --output-document={output_doc} \"{url_query}\"'\n",
    "os.system(cmd_query)"
   ]
  },
  {
   "cell_type": "markdown",
   "id": "b98192d8-1ed0-4e06-bc53-f688fba819cf",
   "metadata": {},
   "source": [
    "### Download"
   ]
  },
  {
   "cell_type": "code",
   "execution_count": 18,
   "id": "de342f46-85bf-4682-9dfa-17ed25f87200",
   "metadata": {},
   "outputs": [],
   "source": [
    "id_ = '2c50ca48-661e-4163-ba0a-902c4811cf09' # offline"
   ]
  },
  {
   "cell_type": "code",
   "execution_count": 5,
   "id": "ffe876cc-98f9-42e5-bff3-8928ce14e131",
   "metadata": {},
   "outputs": [],
   "source": [
    "url = f\"https://scihub.copernicus.eu/dhus/odata/v1/Products('{id_}')/$value\""
   ]
  },
  {
   "cell_type": "code",
   "execution_count": 6,
   "id": "f4c449e2-bccc-4512-aaa9-c2f0a3f335f0",
   "metadata": {},
   "outputs": [
    {
     "data": {
      "text/plain": [
       "0"
      ]
     },
     "execution_count": 6,
     "metadata": {},
     "output_type": "execute_result"
    }
   ],
   "source": [
    "os.system(f'wget --content-disposition --continue --user=danyayay --password=Ldy19970722 \"{url}\"')"
   ]
  },
  {
   "cell_type": "code",
   "execution_count": 19,
   "id": "e95cfcce-01a5-407d-9145-9166367b1f40",
   "metadata": {},
   "outputs": [],
   "source": [
    "url_online = f\"https://scihub.copernicus.eu/dhus/odata/v1/Products('{id_}')/Online\""
   ]
  },
  {
   "cell_type": "code",
   "execution_count": 20,
   "id": "70feda93-8d81-4860-90f0-73822a46b11c",
   "metadata": {},
   "outputs": [
    {
     "data": {
      "text/plain": [
       "''"
      ]
     },
     "execution_count": 20,
     "metadata": {},
     "output_type": "execute_result"
    }
   ],
   "source": [
    "os.popen(f'wget --user=danyayay --password=Ldy19970722 \"{url_online}\"').read()"
   ]
  },
  {
   "cell_type": "code",
   "execution_count": 7,
   "id": "e3860fa5-28ad-49a0-b0a5-2d21fae8a04a",
   "metadata": {},
   "outputs": [],
   "source": [
    "id_ = '0e37a78b-3b91-4c15-bef2-33c2082044a7' # online"
   ]
  },
  {
   "cell_type": "code",
   "execution_count": 8,
   "id": "2e05fde2-f9f8-4a49-99cc-33be95a6e939",
   "metadata": {},
   "outputs": [],
   "source": [
    "url = f\"https://scihub.copernicus.eu/dhus/odata/v1/Products('{id_}')/$value\""
   ]
  },
  {
   "cell_type": "code",
   "execution_count": 9,
   "id": "bc161d7c-b9d4-4384-bf73-4919f3f50c28",
   "metadata": {},
   "outputs": [
    {
     "data": {
      "text/plain": [
       "0"
      ]
     },
     "execution_count": 9,
     "metadata": {},
     "output_type": "execute_result"
    }
   ],
   "source": [
    "os.system(f'wget --content-disposition --continue --user=danyayay --password=Ldy19970722 \"{url}\"')"
   ]
  },
  {
   "cell_type": "markdown",
   "id": "0930cc0f-0496-44c6-a5c4-f5685116cda3",
   "metadata": {},
   "source": [
    "### Extract"
   ]
  },
  {
   "cell_type": "code",
   "execution_count": 36,
   "id": "3a03d705-85ac-4a5a-b111-0b9ba998970a",
   "metadata": {},
   "outputs": [],
   "source": [
    "with open('../data/output.txt') as f:\n",
    "    lines = f.readlines()"
   ]
  },
  {
   "cell_type": "code",
   "execution_count": 46,
   "id": "e9c4dc31-f061-4b08-a111-e1c3f53154c5",
   "metadata": {},
   "outputs": [],
   "source": [
    "query_data = ''\n",
    "for l in lines:\n",
    "    query_data += l"
   ]
  },
  {
   "cell_type": "code",
   "execution_count": 38,
   "id": "70a841ab-3fcd-4309-8e2a-5aa8df74f745",
   "metadata": {},
   "outputs": [],
   "source": [
    "import re "
   ]
  },
  {
   "cell_type": "code",
   "execution_count": 60,
   "id": "b5f7c665-09c4-45ff-b2a8-5906a1cca3cb",
   "metadata": {},
   "outputs": [],
   "source": [
    "ids = re.findall('<m:properties><d:Id>(.*)</d:Id><d:Name>(.*)</d:Name>.*<d:Online>(.*)</d:Online>', query_data)"
   ]
  },
  {
   "cell_type": "code",
   "execution_count": 67,
   "id": "f4a6f86e-9db6-481a-b6db-d9c39d62ade9",
   "metadata": {
    "collapsed": true,
    "jupyter": {
     "outputs_hidden": true
    },
    "tags": []
   },
   "outputs": [
    {
     "data": {
      "text/plain": [
       "[('e55ece38-f77a-4953-865b-d570c9997aa9',\n",
       "  'S2B_MSIL2A_20210616T053639_N0300_R005_T43SFR_20210616T082742',\n",
       "  'true'),\n",
       " ('5b4a6ce4-7356-4baf-974b-36335d49b367',\n",
       "  'S2B_MSIL2A_20191211T053219_N0213_R105_T43SFR_20191211T085824',\n",
       "  'true'),\n",
       " ('2c50ca48-661e-4163-ba0a-902c4811cf09',\n",
       "  'S2A_MSIL1C_20200603T052651_N0209_R105_T43SFR_20200603T091952',\n",
       "  'true'),\n",
       " ('923d53df-40d3-4df7-84c7-90d47fda5f5d',\n",
       "  'S2A_MSIL1C_20210728T052651_N0301_R105_T43SFR_20210728T082347',\n",
       "  'true'),\n",
       " ('8d30e360-13a5-48fe-94bc-7e746a420943',\n",
       "  'S2B_MSIL2A_20210626T053639_N0300_R005_T43SFR_20210626T083628',\n",
       "  'true'),\n",
       " ('9d8960ee-3882-4559-b055-4a86e94de2ba',\n",
       "  'S2A_MSIL1C_20210621T053641_N0300_R005_T43SFR_20210621T075059',\n",
       "  'true'),\n",
       " ('16241b12-cce4-4bf4-8e55-5a790134a1d0',\n",
       "  'S2A_MSIL1C_20210807T052651_N0301_R105_T43SFR_20210807T073546',\n",
       "  'true'),\n",
       " ('1b6a063d-c459-4696-8aad-1a7be0927959',\n",
       "  'S2A_MSIL2A_20210621T053641_N0300_R005_T43SFR_20210621T084400',\n",
       "  'true'),\n",
       " ('93b26afa-9d74-4cff-b647-a5b5e043b49e',\n",
       "  'S2A_MSIL2A_20210728T052651_N0301_R105_T43SFR_20210728T091628',\n",
       "  'true'),\n",
       " ('12985034-0647-4dd9-960c-c44ea99fd48c',\n",
       "  'S2A_MSIL2A_20210708T052651_N0301_R105_T43SFR_20210708T084615',\n",
       "  'true'),\n",
       " ('d28d644a-190c-4441-8d49-13fe26383032',\n",
       "  'S2A_MSIL1C_20210701T053641_N0301_R005_T43SFR_20210701T070547',\n",
       "  'true'),\n",
       " ('99173093-38f6-43c9-b90e-1dc9044cd2bf',\n",
       "  'S2B_MSIL1C_20210703T052649_N0301_R105_T43SFR_20210703T120523',\n",
       "  'true'),\n",
       " ('e9205cf8-030c-45eb-8ac7-7f7f9738b40d',\n",
       "  'S2A_MSIL1C_20210708T052651_N0301_R105_T43SFR_20210708T074840',\n",
       "  'true'),\n",
       " ('33612b78-7288-4877-af00-905a6b5487b1',\n",
       "  'S2A_MSIL1C_20210701T053641_N0301_R005_T43SFR_20210701T075025',\n",
       "  'true'),\n",
       " ('07ad9786-4a89-4164-8727-64820c1a2695',\n",
       "  'S2A_MSIL2A_20210701T053641_N0301_R005_T43SFR_20210701T080427',\n",
       "  'true'),\n",
       " ('837b27c4-f7ff-4aba-b97e-867701ef1663',\n",
       "  'S2A_MSIL2A_20210701T053641_N0301_R005_T43SFR_20210701T081549',\n",
       "  'true'),\n",
       " ('a559f195-e781-4ebb-ac30-93eaaa2a6c4a',\n",
       "  'S2B_MSIL2A_20210703T052649_N0301_R105_T43SFR_20210705T134551',\n",
       "  'true'),\n",
       " ('b3ecdc20-6059-4333-b70d-4d303561c429',\n",
       "  'S2A_MSIL2A_20210711T053641_N0301_R005_T43SFR_20210711T080021',\n",
       "  'true'),\n",
       " ('954d2323-1774-4137-ac90-cd8869d6b3af',\n",
       "  'S2A_MSIL1C_20210711T053641_N0301_R005_T43SFR_20210711T070148',\n",
       "  'true'),\n",
       " ('922a7318-371c-4308-9154-f1f82e927284',\n",
       "  'S2A_MSIL1C_20210718T052651_N0301_R105_T43SFR_20210718T073713',\n",
       "  'true'),\n",
       " ('d0db7c85-4798-47e0-a12e-c8a4462c850e',\n",
       "  'S2B_MSIL2A_20210713T052649_N0301_R105_T43SFR_20210713T081834',\n",
       "  'true'),\n",
       " ('4e13cacd-dc45-48a3-9bd0-a1ef8f9629c2',\n",
       "  'S2B_MSIL1C_20210713T052649_N0301_R105_T43SFR_20210713T073143',\n",
       "  'true'),\n",
       " ('aa80ea21-9b06-4516-b8f5-8a07d7a6523e',\n",
       "  'S2B_MSIL2A_20210723T052649_N0301_R105_T43SFR_20210723T081837',\n",
       "  'true'),\n",
       " ('8a00f3af-c2ec-47dd-a106-ee46f863c431',\n",
       "  'S2A_MSIL2A_20210718T052651_N0301_R105_T43SFR_20210718T082253',\n",
       "  'true'),\n",
       " ('3409b937-9a8f-458d-9fc2-1133c1480c7a',\n",
       "  'S2B_MSIL2A_20210726T053649_N0301_R005_T43SFR_20210726T083338',\n",
       "  'true'),\n",
       " ('9151078b-f554-469e-a978-7662fce31e59',\n",
       "  'S2B_MSIL2A_20210802T052649_N0301_R105_T43SFR_20210802T082121',\n",
       "  'true'),\n",
       " ('4c532610-269c-4154-a051-65309cb95306',\n",
       "  'S2A_MSIL1C_20210330T052641_N0300_R105_T43SFR_20210330T072750',\n",
       "  'true'),\n",
       " ('af1ae967-559d-4683-8495-00f51495a76a',\n",
       "  'S2A_MSIL2A_20210810T053641_N0301_R005_T43SFR_20210810T075050',\n",
       "  'true'),\n",
       " ('4d53c38c-9d3a-49a0-90d9-3b7c4f93503d',\n",
       "  'S2A_MSIL2A_20210807T052651_N0301_R105_T43SFR_20210807T082533',\n",
       "  'true'),\n",
       " ('f9c20e56-6396-4fc3-b18b-e50132ed521e',\n",
       "  'S2B_MSIL2A_20210407T053639_N0300_R005_T43SFR_20210408T181105',\n",
       "  'true'),\n",
       " ('f7c76962-e436-4bb3-9b75-9af78479e162',\n",
       "  'S2A_MSIL1C_20201001T052651_N0209_R105_T43SFR_20201001T080756',\n",
       "  'true'),\n",
       " ('0f456fd2-35e5-4d9e-96bf-a62e13d59fb1',\n",
       "  'S2A_MSIL2A_20210422T053641_N0300_R005_T43SFR_20210425T165010',\n",
       "  'true'),\n",
       " ('e985a017-d9bc-4782-85c0-95d9531a23fb',\n",
       "  'S2B_MSIL1C_20210524T052649_N0300_R105_T43SFR_20210524T073752',\n",
       "  'true'),\n",
       " ('fc867211-976b-4645-9583-57312a9a49dc',\n",
       "  'S2B_MSIL2A_20210524T052649_N0300_R105_T43SFR_20210524T082701',\n",
       "  'true'),\n",
       " ('a1d7a9cc-ed98-4180-b00e-67e9d8dcd08b',\n",
       "  'S2A_MSIL1C_20210721T053651_N0301_R005_T43SFR_20210721T074524',\n",
       "  'true'),\n",
       " ('b0f8a661-21ac-445f-8d40-90b8040bc3fa',\n",
       "  'S2B_MSIL1C_20210527T053639_N0300_R005_T43SFR_20210527T075030',\n",
       "  'true'),\n",
       " ('71ea7a0f-f2d3-486f-b76d-eb461d7746bf',\n",
       "  'S2B_MSIL1C_20210603T052649_N0300_R105_T43SFR_20210603T073844',\n",
       "  'true'),\n",
       " ('2d00138c-fc53-478a-a8ca-c7d9c36601e5',\n",
       "  'S2B_MSIL2A_20210603T052649_N0300_R105_T43SFR_20210603T082939',\n",
       "  'true'),\n",
       " ('451d8a92-f715-44d0-980e-56106df8dadd',\n",
       "  'S2B_MSIL1C_20210626T053639_N0300_R005_T43SFR_20210626T074634',\n",
       "  'true'),\n",
       " ('9bde614c-408e-4099-b0ed-9254695288be',\n",
       "  'S2A_MSIL1C_20210618T052651_N0300_R105_T43SFR_20210618T073809',\n",
       "  'true'),\n",
       " ('ed860f4d-adac-4ecf-9717-703a75486d18',\n",
       "  'S2A_MSIL2A_20210618T052651_N0300_R105_T43SFR_20210618T082449',\n",
       "  'true'),\n",
       " ('fa1ca8e6-4029-4956-b500-a61bb944e1c4',\n",
       "  'S2B_MSIL2A_20210527T053639_N0300_R005_T43SFR_20210527T084126',\n",
       "  'true'),\n",
       " ('3a9db613-6d12-4877-9290-6ad063dae0c0',\n",
       "  'S2B_MSIL1C_20210613T052649_N0300_R105_T43SFR_20210613T073333',\n",
       "  'true'),\n",
       " ('4739712f-1ffb-456c-9cf1-e165b62cc4ae',\n",
       "  'S2B_MSIL1C_20210726T053649_N0301_R005_T43SFR_20210726T074541',\n",
       "  'true'),\n",
       " ('3bc12df1-853b-475d-a6dd-fa48052518a2',\n",
       "  'S2A_MSIL1C_20210529T052651_N0300_R105_T43SFR_20210529T072625',\n",
       "  'true'),\n",
       " ('b9464ae9-0ff6-4146-991e-398261867304',\n",
       "  'S2A_MSIL1C_20210611T053641_N0300_R005_T43SFR_20210611T070709',\n",
       "  'true'),\n",
       " ('1cf5af7f-fe38-485a-aaed-d3df313f237f',\n",
       "  'S2B_MSIL1C_20210606T053639_N0300_R005_T43SFR_20210606T074817',\n",
       "  'true'),\n",
       " ('f6a9bfb0-9793-49e6-9b7f-f324bf127560',\n",
       "  'S2B_MSIL2A_20210613T052649_N0300_R105_T43SFR_20210613T082403',\n",
       "  'true'),\n",
       " ('c3c70226-1446-43aa-a5bf-9a32754cd4fa',\n",
       "  'S2A_MSIL2A_20210529T052651_N0300_R105_T43SFR_20210529T075026',\n",
       "  'true'),\n",
       " ('b76ba825-acce-43dc-bb4c-43464b8b1ac1',\n",
       "  'S2A_MSIL1C_20200108T054221_N0208_R005_T43SFR_20200108T065352',\n",
       "  'true')]"
      ]
     },
     "execution_count": 67,
     "metadata": {},
     "output_type": "execute_result"
    }
   ],
   "source": [
    "ids"
   ]
  },
  {
   "cell_type": "code",
   "execution_count": 77,
   "id": "bba82f78-728d-4b8e-9605-142926fce3b7",
   "metadata": {},
   "outputs": [
    {
     "data": {
      "text/plain": [
       "'S2A_MSIL2A_20210529T052651_N0300_R105_T43SFR_20210529T075026'"
      ]
     },
     "execution_count": 77,
     "metadata": {},
     "output_type": "execute_result"
    }
   ],
   "source": [
    "ids[-2][1]"
   ]
  },
  {
   "cell_type": "code",
   "execution_count": 75,
   "id": "5561955f-e086-4df0-bb72-8e14d1aa241d",
   "metadata": {},
   "outputs": [
    {
     "data": {
      "text/plain": [
       "False"
      ]
     },
     "execution_count": 75,
     "metadata": {},
     "output_type": "execute_result"
    }
   ],
   "source": [
    "ids[-1][1].startswith('S2A_MSIL1C_2021')"
   ]
  },
  {
   "cell_type": "code",
   "execution_count": 59,
   "id": "a684393c-a484-4ea6-90ab-bbeec09388ad",
   "metadata": {},
   "outputs": [
    {
     "data": {
      "text/plain": [
       "50"
      ]
     },
     "execution_count": 59,
     "metadata": {},
     "output_type": "execute_result"
    }
   ],
   "source": [
    "len(ids)"
   ]
  },
  {
   "cell_type": "code",
   "execution_count": 81,
   "id": "8d6c533a-9f05-4ece-9cb9-3389156ac0dd",
   "metadata": {
    "tags": []
   },
   "outputs": [
    {
     "name": "stdout",
     "output_type": "stream",
     "text": [
      "['S2A_MSIL1C_20210502T053641_N0300_R005_T43SFR_20210502T074642.zip', 'S2A_MSIL1C_20210509T052651_N0300_R105_T43SFR_20210509T074019.zip', 'S2A_MSIL1C_20201001T052651_N0209_R105_T43SFR_20201001T080756.zip', 'S2A_MSIL1C_20210412T053641_N0300_R005_T43SFR_20210412T070823.zip']\n"
     ]
    }
   ],
   "source": [
    "import os\n",
    "print(os.listdir('N:/dataorg-datasets/sentinel2_images/images_danya/raw/'))"
   ]
  },
  {
   "cell_type": "markdown",
   "id": "5bd3cf98-7774-4d6d-94f4-2e3f6fd14c39",
   "metadata": {},
   "source": [
    "### unzip"
   ]
  },
  {
   "cell_type": "code",
   "execution_count": 8,
   "id": "67cf0ad9-46bc-40c3-9d06-4549ba8ab198",
   "metadata": {},
   "outputs": [],
   "source": [
    "import os\n",
    "import zipfile"
   ]
  },
  {
   "cell_type": "code",
   "execution_count": 13,
   "id": "819e55c9-22af-4e71-aa0a-bad0dc3bc09c",
   "metadata": {},
   "outputs": [],
   "source": [
    "def unzip_products(raw_data_path, processed_data_path):\n",
    "    for filename in ['q.zip', 'query.zip']:\n",
    "        raw_file = raw_data_path + filename\n",
    "        processed_file = processed_data_path + filename\n",
    "        with zipfile.ZipFile(raw_file, 'r') as f:\n",
    "            f.extractall(raw_data_path)"
   ]
  },
  {
   "cell_type": "code",
   "execution_count": 6,
   "id": "c005856d-01ff-4be7-9e41-a207b393e6fe",
   "metadata": {},
   "outputs": [],
   "source": [
    "def process_data(images_path='./'):\n",
    "    unzip_products(images_path, images_path)"
   ]
  },
  {
   "cell_type": "code",
   "execution_count": 14,
   "id": "f8587341-6df4-430e-9839-6f58d4510606",
   "metadata": {},
   "outputs": [],
   "source": [
    "process_data()"
   ]
  },
  {
   "cell_type": "code",
   "execution_count": 10,
   "id": "0f78f1ba-dea0-4e8f-b83c-4f993948690e",
   "metadata": {},
   "outputs": [
    {
     "data": {
      "text/plain": [
       "['.ipynb_checkpoints', 'q.zip', 'query.zip', 'Untitled.ipynb']"
      ]
     },
     "execution_count": 10,
     "metadata": {},
     "output_type": "execute_result"
    }
   ],
   "source": [
    "os.listdir('./')"
   ]
  },
  {
   "cell_type": "markdown",
   "id": "80db3d04-5a26-40b4-8de4-9a22bb894d80",
   "metadata": {},
   "source": [
    "### Correction"
   ]
  },
  {
   "cell_type": "code",
   "execution_count": 2,
   "id": "a6569d48-3bb5-445a-b7e1-39ed11edc5e9",
   "metadata": {},
   "outputs": [],
   "source": [
    "unzipped_data_path = 'N:/dataorg-datasets/sentinel2_images/images_danya/raw/'"
   ]
  },
  {
   "cell_type": "code",
   "execution_count": 1,
   "id": "465464a3-b30b-43eb-8c79-592e989da6ce",
   "metadata": {},
   "outputs": [],
   "source": [
    "import os, re"
   ]
  },
  {
   "cell_type": "code",
   "execution_count": 4,
   "id": "e5d8e4a0-9e12-401c-b4f0-e90f6b33f54f",
   "metadata": {},
   "outputs": [],
   "source": [
    "files = os.listdir(unzipped_data_path)"
   ]
  },
  {
   "cell_type": "code",
   "execution_count": 5,
   "id": "e9a4bceb-3d46-4e79-be31-ce5e0119c0b0",
   "metadata": {},
   "outputs": [
    {
     "data": {
      "text/plain": [
       "['S2A_MSIL1C_20200108T054221_N0208_R005_T43SFR_20200108T065352.zip',\n",
       " 'S2A_MSIL1C_20200603T052651_N0209_R105_T43SFR_20200603T091952.zip',\n",
       " 'S2A_MSIL1C_20201001T052651_N0209_R105_T43SFR_20201001T080756.zip',\n",
       " 'S2A_MSIL1C_20210303T053731_N0209_R005_T43SFR_20210303T071456.zip',\n",
       " 'S2A_MSIL1C_20210330T052641_N0300_R105_T43SFR_20210330T072750.zip',\n",
       " 'S2A_MSIL1C_20210402T053641_N0300_R005_T43SFR_20210402T074229.zip',\n",
       " 'S2A_MSIL1C_20210409T052641_N0300_R105_T43SFR_20210409T074750.zip',\n",
       " 'S2A_MSIL1C_20210412T053641_N0300_R005_T43SFR_20210412T070823.zip',\n",
       " 'S2A_MSIL1C_20210429T052641_N0300_R105_T43SFR_20210429T072359.zip',\n",
       " 'S2A_MSIL1C_20210502T053641_N0300_R005_T43SFR_20210502T074642.zip',\n",
       " 'S2A_MSIL1C_20210509T052651_N0300_R105_T43SFR_20210509T074019.zip',\n",
       " 'S2A_MSIL1C_20210512T053641_N0300_R005_T43SFR_20210512T081347.zip',\n",
       " 'S2A_MSIL1C_20210529T052651_N0300_R105_T43SFR_20210529T072625.zip',\n",
       " 'S2A_MSIL1C_20210608T052651_N0300_R105_T43SFR_20210608T074116.zip',\n",
       " 'S2A_MSIL1C_20210810T053641_N0301_R005_T43SFR_20210810T065217.zip']"
      ]
     },
     "execution_count": 5,
     "metadata": {},
     "output_type": "execute_result"
    }
   ],
   "source": [
    "files"
   ]
  },
  {
   "cell_type": "code",
   "execution_count": 8,
   "id": "9994e04c-a345-4422-93b1-c6e9f736bb80",
   "metadata": {},
   "outputs": [
    {
     "data": {
      "text/plain": [
       "[]"
      ]
     },
     "execution_count": 8,
     "metadata": {},
     "output_type": "execute_result"
    }
   ],
   "source": [
    "[file for file in files if re.match('.*SAFE', file)]"
   ]
  },
  {
   "cell_type": "code",
   "execution_count": null,
   "id": "e13fbd13-ffe2-48dc-b23f-791f818fdc2b",
   "metadata": {},
   "outputs": [],
   "source": []
  },
  {
   "cell_type": "markdown",
   "id": "a6cc86db-98a9-4d69-8708-3cac348bb072",
   "metadata": {},
   "source": [
    "### download using `sentinelsat` packages"
   ]
  },
  {
   "cell_type": "code",
   "execution_count": 152,
   "id": "dc4e3a90-b184-41b3-b2e9-b8a0bb175220",
   "metadata": {},
   "outputs": [],
   "source": [
    "from sentinelsat import SentinelAPI"
   ]
  },
  {
   "cell_type": "code",
   "execution_count": 30,
   "id": "835a4c09-8509-46a5-879a-52ea5d5bd6e5",
   "metadata": {},
   "outputs": [],
   "source": [
    "from sentinelsat import geojson_to_wkt"
   ]
  },
  {
   "cell_type": "code",
   "execution_count": 153,
   "id": "a3be7d00-fec1-44b1-beb6-b0da814ab803",
   "metadata": {},
   "outputs": [],
   "source": [
    "user = 'danyayay' \n",
    "password = 'empa.401' \n",
    "api = SentinelAPI(user, password, 'https://scihub.copernicus.eu/dhus')"
   ]
  },
  {
   "cell_type": "code",
   "execution_count": 32,
   "id": "fa4e7fd4-a794-4516-b55b-3c0d58a1b3a4",
   "metadata": {},
   "outputs": [
    {
     "data": {
      "text/plain": [
       "'POLYGON((2.3800 57.3220,23.1940 -20.2800,-120.4300 19.1500,2.3800 57.3220))'"
      ]
     },
     "execution_count": 32,
     "metadata": {},
     "output_type": "execute_result"
    }
   ],
   "source": [
    "geojson_to_wkt(feature_collection)"
   ]
  },
  {
   "cell_type": "code",
   "execution_count": null,
   "id": "b1428df4-519f-49c7-8c89-b8cf8316d8d4",
   "metadata": {},
   "outputs": [],
   "source": [
    "polygon = geojson.Polygon([[(32.50, 76.10), \n",
    "                            (31.60, 76.10), \n",
    "                            (31.60, 77.10), \n",
    "                            (32.50, 77.10), \n",
    "                            (32.50, 76.10)]])\n",
    "features = []\n",
    "features.append(geojson.Feature(geometry=polygon, properties={\"tile\": \"43SFR\"}))\n",
    "feature_collection = geojson.FeatureCollection(features)\n",
    "feature_collection"
   ]
  },
  {
   "cell_type": "code",
   "execution_count": 154,
   "id": "e25000f1-41a0-496b-85c7-d7b4d4e66bef",
   "metadata": {},
   "outputs": [
    {
     "data": {
      "text/plain": [
       "{\"features\": [{\"geometry\": {\"coordinates\": [[[76.2, 32.4], [76.2, 31.7], [77.0, 31.7], [77.0, 32.4], [76.2, 32.4]]], \"type\": \"Polygon\"}, \"properties\": {\"tile\": \"43SFR\"}, \"type\": \"Feature\"}], \"type\": \"FeatureCollection\"}"
      ]
     },
     "execution_count": 154,
     "metadata": {},
     "output_type": "execute_result"
    }
   ],
   "source": [
    "polygon = geojson.Polygon([[(76.20, 32.40), \n",
    "                            (76.20, 31.70), \n",
    "                            (77.00, 31.70), \n",
    "                            (77.00, 32.40), \n",
    "                            (76.20, 32.40)]])\n",
    "features = []\n",
    "features.append(geojson.Feature(geometry=polygon, properties={\"tile\": \"43SFR\"}))\n",
    "feature_collection = geojson.FeatureCollection(features)\n",
    "feature_collection"
   ]
  },
  {
   "cell_type": "code",
   "execution_count": 155,
   "id": "57563a48-8280-443e-9a9f-2fff8885c058",
   "metadata": {},
   "outputs": [],
   "source": [
    "footprint = geojson_to_wkt(polygon)"
   ]
  },
  {
   "cell_type": "code",
   "execution_count": 156,
   "id": "8f18c0db-2d4a-43ad-ab8a-2e0165f22b44",
   "metadata": {},
   "outputs": [
    {
     "data": {
      "text/plain": [
       "'POLYGON((76.2000 32.4000,76.2000 31.7000,77.0000 31.7000,77.0000 32.4000,76.2000 32.4000))'"
      ]
     },
     "execution_count": 156,
     "metadata": {},
     "output_type": "execute_result"
    }
   ],
   "source": [
    "footprint"
   ]
  },
  {
   "cell_type": "code",
   "execution_count": 162,
   "id": "17f5a600-8f6e-4b62-a804-1e36cb03120a",
   "metadata": {},
   "outputs": [],
   "source": [
    "products = api.query(date = ('20200101', '20200131'),\n",
    "                      platformname = 'Sentinel-2',\n",
    "                      processinglevel = 'Level-1C',\n",
    "                      raw='tileid:43SFR',\n",
    "                    )"
   ]
  },
  {
   "cell_type": "code",
   "execution_count": 164,
   "id": "fd6e0df7-8f94-4420-82dd-b70d8a4b21d0",
   "metadata": {},
   "outputs": [
    {
     "data": {
      "text/plain": [
       "12"
      ]
     },
     "execution_count": 164,
     "metadata": {},
     "output_type": "execute_result"
    }
   ],
   "source": [
    "len(products)"
   ]
  },
  {
   "cell_type": "code",
   "execution_count": 165,
   "id": "00d4d8ab-dd42-49dc-8946-864af694b58a",
   "metadata": {
    "collapsed": true,
    "jupyter": {
     "outputs_hidden": true
    },
    "tags": []
   },
   "outputs": [
    {
     "data": {
      "text/plain": [
       "OrderedDict([('ff11dbc5-a2a9-4d37-ab10-dcc72d6ac75f',\n",
       "              {'title': 'S2B_MSIL1C_20200130T053049_N0208_R105_T43SFR_20200130T090639',\n",
       "               'link': \"https://scihub.copernicus.eu/dhus/odata/v1/Products('ff11dbc5-a2a9-4d37-ab10-dcc72d6ac75f')/$value\",\n",
       "               'link_alternative': \"https://scihub.copernicus.eu/dhus/odata/v1/Products('ff11dbc5-a2a9-4d37-ab10-dcc72d6ac75f')/\",\n",
       "               'link_icon': \"https://scihub.copernicus.eu/dhus/odata/v1/Products('ff11dbc5-a2a9-4d37-ab10-dcc72d6ac75f')/Products('Quicklook')/$value\",\n",
       "               'summary': 'Date: 2020-01-30T05:30:49.024Z, Instrument: MSI, Satellite: Sentinel-2, Size: 731.54 MB',\n",
       "               'ondemand': 'false',\n",
       "               'datatakesensingstart': datetime.datetime(2020, 1, 30, 5, 30, 49, 24000),\n",
       "               'beginposition': datetime.datetime(2020, 1, 30, 5, 30, 49, 24000),\n",
       "               'endposition': datetime.datetime(2020, 1, 30, 5, 30, 49, 24000),\n",
       "               'ingestiondate': datetime.datetime(2020, 1, 30, 11, 32, 49, 82000),\n",
       "               'orbitnumber': 15146,\n",
       "               'relativeorbitnumber': 105,\n",
       "               'cloudcoverpercentage': 28.7234,\n",
       "               'sensoroperationalmode': 'INS-NOBS',\n",
       "               'gmlfootprint': '<gml:Polygon srsName=\"http://www.opengis.net/gml/srs/epsg.xml#4326\" xmlns:gml=\"http://www.opengis.net/gml\">\\n   <gml:outerBoundaryIs>\\n      <gml:LinearRing>\\n         <gml:coordinates>31.541016451121568,76.16404132906791 31.61619911289095,76.18355307780712 31.720433279136664,76.21125375809959 31.763936671849528,76.22291472986807 31.91196107587071,76.26116909578612 31.960994731095656,76.27412805691034 32.05964384298456,76.30044341605051 32.2070960223475,76.34062397862314 32.352894038562,76.38575001867405 32.501511208579814,76.42174219291948 32.5280650948855,76.42944598287677 32.517518690633835,77.23355267788659 31.52767425655353,77.20965184507907 31.541016451121568,76.16404132906791</gml:coordinates>\\n      </gml:LinearRing>\\n   </gml:outerBoundaryIs>\\n</gml:Polygon>',\n",
       "               'footprint': 'MULTIPOLYGON (((77.20965184507907 31.52767425655353, 77.23355267788659 32.517518690633835, 76.42944598287677 32.5280650948855, 76.42174219291948 32.501511208579814, 76.38575001867405 32.352894038562, 76.34062397862314 32.2070960223475, 76.30044341605051 32.05964384298456, 76.27412805691034 31.960994731095656, 76.26116909578612 31.91196107587071, 76.22291472986807 31.763936671849528, 76.21125375809959 31.720433279136664, 76.18355307780712 31.61619911289095, 76.16404132906791 31.541016451121568, 77.20965184507907 31.52767425655353)))',\n",
       "               'tileid': '43SFR',\n",
       "               'hv_order_tileid': 'SR43F',\n",
       "               'format': 'SAFE',\n",
       "               'processingbaseline': '02.08',\n",
       "               'platformname': 'Sentinel-2',\n",
       "               'filename': 'S2B_MSIL1C_20200130T053049_N0208_R105_T43SFR_20200130T090639.SAFE',\n",
       "               'instrumentname': 'Multi-Spectral Instrument',\n",
       "               'instrumentshortname': 'MSI',\n",
       "               'size': '731.54 MB',\n",
       "               's2datatakeid': 'GS2B_20200130T053049_015146_N02.08',\n",
       "               'producttype': 'S2MSI1C',\n",
       "               'platformidentifier': '2017-013A',\n",
       "               'orbitdirection': 'DESCENDING',\n",
       "               'platformserialidentifier': 'Sentinel-2B',\n",
       "               'processinglevel': 'Level-1C',\n",
       "               'identifier': 'S2B_MSIL1C_20200130T053049_N0208_R105_T43SFR_20200130T090639',\n",
       "               'level1cpdiidentifier': 'S2B_OPER_MSI_L1C_TL_SGS__20200130T090639_A015146_T43SFR_N02.08',\n",
       "               'uuid': 'ff11dbc5-a2a9-4d37-ab10-dcc72d6ac75f',\n",
       "               'granuleidentifier': 'S2B_OPER_MSI_L1C_TL_SGS__20200130T090639_A015146_T43SFR_N02.08',\n",
       "               'datastripidentifier': 'S2B_OPER_MSI_L1C_DS_SGS__20200130T090639_S20200130T053806_N02.08'}),\n",
       "             ('5ea673c4-eb50-4a37-bc5f-28edbfcbc5fd',\n",
       "              {'title': 'S2A_MSIL1C_20200128T054101_N0208_R005_T43SFR_20200128T073349',\n",
       "               'link': \"https://scihub.copernicus.eu/dhus/odata/v1/Products('5ea673c4-eb50-4a37-bc5f-28edbfcbc5fd')/$value\",\n",
       "               'link_alternative': \"https://scihub.copernicus.eu/dhus/odata/v1/Products('5ea673c4-eb50-4a37-bc5f-28edbfcbc5fd')/\",\n",
       "               'link_icon': \"https://scihub.copernicus.eu/dhus/odata/v1/Products('5ea673c4-eb50-4a37-bc5f-28edbfcbc5fd')/Products('Quicklook')/$value\",\n",
       "               'summary': 'Date: 2020-01-28T05:41:01.024Z, Instrument: MSI, Satellite: Sentinel-2, Size: 516.47 MB',\n",
       "               'ondemand': 'false',\n",
       "               'datatakesensingstart': datetime.datetime(2020, 1, 28, 5, 41, 1, 24000),\n",
       "               'beginposition': datetime.datetime(2020, 1, 28, 5, 41, 1, 24000),\n",
       "               'endposition': datetime.datetime(2020, 1, 28, 5, 41, 1, 24000),\n",
       "               'ingestiondate': datetime.datetime(2020, 1, 28, 8, 52, 17, 352000),\n",
       "               'orbitnumber': 24026,\n",
       "               'relativeorbitnumber': 5,\n",
       "               'cloudcoverpercentage': 98.1684,\n",
       "               'sensoroperationalmode': 'INS-NOBS',\n",
       "               'gmlfootprint': '<gml:Polygon srsName=\"http://www.opengis.net/gml/srs/epsg.xml#4326\" xmlns:gml=\"http://www.opengis.net/gml\">\\n   <gml:outerBoundaryIs>\\n      <gml:LinearRing>\\n         <gml:coordinates>32.51911134876379,77.11212104729462 32.5173561795163,77.1115984500989 32.36978260023774,77.06837471552329 32.222856158024065,77.02337361695162 32.07467212017339,76.98329749132645 31.926832326290647,76.9422322222467 31.77917801818681,76.90054575300258 31.632198364204417,76.85627621834622 31.532555709490875,76.82709869771836 31.54242728634164,76.05347599928324 32.532846626599884,76.06487986420782 32.51911134876379,77.11212104729462</gml:coordinates>\\n      </gml:LinearRing>\\n   </gml:outerBoundaryIs>\\n</gml:Polygon>',\n",
       "               'footprint': 'MULTIPOLYGON (((76.82709869771836 31.532555709490875, 76.85627621834622 31.632198364204417, 76.90054575300258 31.77917801818681, 76.9422322222467 31.926832326290647, 76.98329749132645 32.07467212017339, 77.02337361695162 32.222856158024065, 77.06837471552329 32.36978260023774, 77.1115984500989 32.5173561795163, 77.11212104729462 32.51911134876379, 76.06487986420782 32.532846626599884, 76.05347599928324 31.54242728634164, 76.82709869771836 31.532555709490875)))',\n",
       "               'tileid': '43SFR',\n",
       "               'hv_order_tileid': 'SR43F',\n",
       "               'format': 'SAFE',\n",
       "               'processingbaseline': '02.08',\n",
       "               'platformname': 'Sentinel-2',\n",
       "               'filename': 'S2A_MSIL1C_20200128T054101_N0208_R005_T43SFR_20200128T073349.SAFE',\n",
       "               'instrumentname': 'Multi-Spectral Instrument',\n",
       "               'instrumentshortname': 'MSI',\n",
       "               'size': '516.47 MB',\n",
       "               's2datatakeid': 'GS2A_20200128T054101_024026_N02.08',\n",
       "               'producttype': 'S2MSI1C',\n",
       "               'platformidentifier': '2015-028A',\n",
       "               'orbitdirection': 'DESCENDING',\n",
       "               'platformserialidentifier': 'Sentinel-2A',\n",
       "               'processinglevel': 'Level-1C',\n",
       "               'identifier': 'S2A_MSIL1C_20200128T054101_N0208_R005_T43SFR_20200128T073349',\n",
       "               'level1cpdiidentifier': 'S2A_OPER_MSI_L1C_TL_SGS__20200128T073349_A024026_T43SFR_N02.08',\n",
       "               'uuid': '5ea673c4-eb50-4a37-bc5f-28edbfcbc5fd',\n",
       "               'granuleidentifier': 'S2A_OPER_MSI_L1C_TL_SGS__20200128T073349_A024026_T43SFR_N02.08',\n",
       "               'datastripidentifier': 'S2A_OPER_MSI_L1C_DS_SGS__20200128T073349_S20200128T054632_N02.08'}),\n",
       "             ('3a7f604a-0af1-4a73-8c9c-738479a06892',\n",
       "              {'title': 'S2A_MSIL1C_20200125T053101_N0208_R105_T43SFR_20200125T072309',\n",
       "               'link': \"https://scihub.copernicus.eu/dhus/odata/v1/Products('3a7f604a-0af1-4a73-8c9c-738479a06892')/$value\",\n",
       "               'link_alternative': \"https://scihub.copernicus.eu/dhus/odata/v1/Products('3a7f604a-0af1-4a73-8c9c-738479a06892')/\",\n",
       "               'link_icon': \"https://scihub.copernicus.eu/dhus/odata/v1/Products('3a7f604a-0af1-4a73-8c9c-738479a06892')/Products('Quicklook')/$value\",\n",
       "               'summary': 'Date: 2020-01-25T05:31:01.024Z, Instrument: MSI, Satellite: Sentinel-2, Size: 593.13 MB',\n",
       "               'ondemand': 'false',\n",
       "               'datatakesensingstart': datetime.datetime(2020, 1, 25, 5, 31, 1, 24000),\n",
       "               'beginposition': datetime.datetime(2020, 1, 25, 5, 31, 1, 24000),\n",
       "               'endposition': datetime.datetime(2020, 1, 25, 5, 31, 1, 24000),\n",
       "               'ingestiondate': datetime.datetime(2020, 1, 25, 9, 17, 30, 90000),\n",
       "               'orbitnumber': 23983,\n",
       "               'relativeorbitnumber': 105,\n",
       "               'cloudcoverpercentage': 53.8452,\n",
       "               'sensoroperationalmode': 'INS-NOBS',\n",
       "               'gmlfootprint': '<gml:Polygon srsName=\"http://www.opengis.net/gml/srs/epsg.xml#4326\" xmlns:gml=\"http://www.opengis.net/gml\">\\n   <gml:outerBoundaryIs>\\n      <gml:LinearRing>\\n         <gml:coordinates>31.540952171771202,76.16907881854232 31.54786520491932,76.17087400302827 31.695549678141088,76.20972174760814 31.843390782661643,76.24790187289248 31.990989678427407,76.28679881564446 32.13855960515432,76.32570774482333 32.2847824297523,76.36915322586556 32.408806644899805,76.39989541817229 32.43338672638411,76.40603384676525 32.44815974104181,76.41018234838985 32.52802086667676,76.43281814630834 32.517518690633835,77.23355267788659 31.52767425655353,77.20965184507907 31.540952171771202,76.16907881854232</gml:coordinates>\\n      </gml:LinearRing>\\n   </gml:outerBoundaryIs>\\n</gml:Polygon>',\n",
       "               'footprint': 'MULTIPOLYGON (((77.20965184507907 31.52767425655353, 77.23355267788659 32.517518690633835, 76.43281814630834 32.52802086667676, 76.41018234838985 32.44815974104181, 76.40603384676525 32.43338672638411, 76.39989541817229 32.408806644899805, 76.36915322586556 32.2847824297523, 76.32570774482333 32.13855960515432, 76.28679881564446 31.990989678427407, 76.24790187289248 31.843390782661643, 76.20972174760814 31.695549678141088, 76.17087400302827 31.54786520491932, 76.16907881854232 31.540952171771202, 77.20965184507907 31.52767425655353)))',\n",
       "               'tileid': '43SFR',\n",
       "               'hv_order_tileid': 'SR43F',\n",
       "               'format': 'SAFE',\n",
       "               'processingbaseline': '02.08',\n",
       "               'platformname': 'Sentinel-2',\n",
       "               'filename': 'S2A_MSIL1C_20200125T053101_N0208_R105_T43SFR_20200125T072309.SAFE',\n",
       "               'instrumentname': 'Multi-Spectral Instrument',\n",
       "               'instrumentshortname': 'MSI',\n",
       "               'size': '593.13 MB',\n",
       "               's2datatakeid': 'GS2A_20200125T053101_023983_N02.08',\n",
       "               'producttype': 'S2MSI1C',\n",
       "               'platformidentifier': '2015-028A',\n",
       "               'orbitdirection': 'DESCENDING',\n",
       "               'platformserialidentifier': 'Sentinel-2A',\n",
       "               'processinglevel': 'Level-1C',\n",
       "               'identifier': 'S2A_MSIL1C_20200125T053101_N0208_R105_T43SFR_20200125T072309',\n",
       "               'level1cpdiidentifier': 'S2A_OPER_MSI_L1C_TL_SGS__20200125T072309_A023983_T43SFR_N02.08',\n",
       "               'uuid': '3a7f604a-0af1-4a73-8c9c-738479a06892',\n",
       "               'granuleidentifier': 'S2A_OPER_MSI_L1C_TL_SGS__20200125T072309_A023983_T43SFR_N02.08',\n",
       "               'datastripidentifier': 'S2A_OPER_MSI_L1C_DS_SGS__20200125T072309_S20200125T053846_N02.08'}),\n",
       "             ('1486bc94-dfd3-4f43-bf33-bb5c91d1ce09',\n",
       "              {'title': 'S2B_MSIL1C_20200123T054129_N0208_R005_T43SFR_20200123T091727',\n",
       "               'link': \"https://scihub.copernicus.eu/dhus/odata/v1/Products('1486bc94-dfd3-4f43-bf33-bb5c91d1ce09')/$value\",\n",
       "               'link_alternative': \"https://scihub.copernicus.eu/dhus/odata/v1/Products('1486bc94-dfd3-4f43-bf33-bb5c91d1ce09')/\",\n",
       "               'link_icon': \"https://scihub.copernicus.eu/dhus/odata/v1/Products('1486bc94-dfd3-4f43-bf33-bb5c91d1ce09')/Products('Quicklook')/$value\",\n",
       "               'summary': 'Date: 2020-01-23T05:41:29.024Z, Instrument: MSI, Satellite: Sentinel-2, Size: 715.80 MB',\n",
       "               'ondemand': 'false',\n",
       "               'datatakesensingstart': datetime.datetime(2020, 1, 23, 5, 41, 29, 24000),\n",
       "               'beginposition': datetime.datetime(2020, 1, 23, 5, 41, 29, 24000),\n",
       "               'endposition': datetime.datetime(2020, 1, 23, 5, 41, 29, 24000),\n",
       "               'ingestiondate': datetime.datetime(2020, 1, 23, 11, 25, 16, 464000),\n",
       "               'orbitnumber': 15046,\n",
       "               'relativeorbitnumber': 5,\n",
       "               'cloudcoverpercentage': 21.9502,\n",
       "               'sensoroperationalmode': 'INS-NOBS',\n",
       "               'gmlfootprint': '<gml:Polygon srsName=\"http://www.opengis.net/gml/srs/epsg.xml#4326\" xmlns:gml=\"http://www.opengis.net/gml\">\\n   <gml:outerBoundaryIs>\\n      <gml:LinearRing>\\n         <gml:coordinates>32.51908732960229,77.11395237938733 32.4987052749178,77.10800469697632 32.35164229449424,77.06286490556438 32.204755087988524,77.01722092594201 32.076079132571834,76.98202464445131 32.05611303170228,76.97653174439661 31.908447141300165,76.93678017807633 31.90832964220525,76.93674852061746 31.874494053361357,76.92684360245705 31.76029793719343,76.89336126490373 31.72064020711236,76.88170360080974 31.613649935485068,76.85011464709545 31.532562773901795,76.82654506898004 31.54242728634164,76.05347599928324 32.532846626599884,76.06487986420782 32.51908732960229,77.11395237938733</gml:coordinates>\\n      </gml:LinearRing>\\n   </gml:outerBoundaryIs>\\n</gml:Polygon>',\n",
       "               'footprint': 'MULTIPOLYGON (((76.82654506898004 31.532562773901795, 76.85011464709545 31.613649935485068, 76.88170360080974 31.72064020711236, 76.89336126490373 31.76029793719343, 76.92684360245705 31.874494053361357, 76.93674852061746 31.90832964220525, 76.93678017807633 31.908447141300165, 76.97653174439661 32.05611303170228, 76.98202464445131 32.076079132571834, 77.01722092594201 32.204755087988524, 77.06286490556438 32.35164229449424, 77.10800469697632 32.4987052749178, 77.11395237938733 32.51908732960229, 76.06487986420782 32.532846626599884, 76.05347599928324 31.54242728634164, 76.82654506898004 31.532562773901795)))',\n",
       "               'tileid': '43SFR',\n",
       "               'hv_order_tileid': 'SR43F',\n",
       "               'format': 'SAFE',\n",
       "               'processingbaseline': '02.08',\n",
       "               'platformname': 'Sentinel-2',\n",
       "               'filename': 'S2B_MSIL1C_20200123T054129_N0208_R005_T43SFR_20200123T091727.SAFE',\n",
       "               'instrumentname': 'Multi-Spectral Instrument',\n",
       "               'instrumentshortname': 'MSI',\n",
       "               'size': '715.80 MB',\n",
       "               's2datatakeid': 'GS2B_20200123T054129_015046_N02.08',\n",
       "               'producttype': 'S2MSI1C',\n",
       "               'platformidentifier': '2017-013A',\n",
       "               'orbitdirection': 'DESCENDING',\n",
       "               'platformserialidentifier': 'Sentinel-2B',\n",
       "               'processinglevel': 'Level-1C',\n",
       "               'identifier': 'S2B_MSIL1C_20200123T054129_N0208_R005_T43SFR_20200123T091727',\n",
       "               'level1cpdiidentifier': 'S2B_OPER_MSI_L1C_TL_SGS__20200123T091727_A015046_T43SFR_N02.08',\n",
       "               'uuid': '1486bc94-dfd3-4f43-bf33-bb5c91d1ce09',\n",
       "               'granuleidentifier': 'S2B_OPER_MSI_L1C_TL_SGS__20200123T091727_A015046_T43SFR_N02.08',\n",
       "               'datastripidentifier': 'S2B_OPER_MSI_L1C_DS_SGS__20200123T091727_S20200123T054803_N02.08'}),\n",
       "             ('f62f44f2-a990-4d3d-b93c-276d1e0bea14',\n",
       "              {'title': 'S2B_MSIL1C_20200120T053129_N0208_R105_T43SFR_20200120T080830',\n",
       "               'link': \"https://scihub.copernicus.eu/dhus/odata/v1/Products('f62f44f2-a990-4d3d-b93c-276d1e0bea14')/$value\",\n",
       "               'link_alternative': \"https://scihub.copernicus.eu/dhus/odata/v1/Products('f62f44f2-a990-4d3d-b93c-276d1e0bea14')/\",\n",
       "               'link_icon': \"https://scihub.copernicus.eu/dhus/odata/v1/Products('f62f44f2-a990-4d3d-b93c-276d1e0bea14')/Products('Quicklook')/$value\",\n",
       "               'summary': 'Date: 2020-01-20T05:31:29.024Z, Instrument: MSI, Satellite: Sentinel-2, Size: 639.95 MB',\n",
       "               'ondemand': 'false',\n",
       "               'datatakesensingstart': datetime.datetime(2020, 1, 20, 5, 31, 29, 24000),\n",
       "               'beginposition': datetime.datetime(2020, 1, 20, 5, 31, 29, 24000),\n",
       "               'endposition': datetime.datetime(2020, 1, 20, 5, 31, 29, 24000),\n",
       "               'ingestiondate': datetime.datetime(2020, 1, 20, 10, 10, 33, 305000),\n",
       "               'orbitnumber': 15003,\n",
       "               'relativeorbitnumber': 105,\n",
       "               'cloudcoverpercentage': 35.7752,\n",
       "               'sensoroperationalmode': 'INS-NOBS',\n",
       "               'gmlfootprint': '<gml:Polygon srsName=\"http://www.opengis.net/gml/srs/epsg.xml#4326\" xmlns:gml=\"http://www.opengis.net/gml\">\\n   <gml:outerBoundaryIs>\\n      <gml:LinearRing>\\n         <gml:coordinates>31.54100127023997,76.1652310351059 31.600776563471168,76.18062918643582 31.74832085788053,76.21973960465043 31.896348189924,76.25741107857341 32.0439873270093,76.29635032048017 32.191456147399485,76.33596238661143 32.33701477726516,76.38185345185468 32.485912986068925,76.41734375841422 32.52806809100334,76.42921754497863 32.517518690633835,77.23355267788659 31.52767425655353,77.20965184507907 31.54100127023997,76.1652310351059</gml:coordinates>\\n      </gml:LinearRing>\\n   </gml:outerBoundaryIs>\\n</gml:Polygon>',\n",
       "               'footprint': 'MULTIPOLYGON (((77.20965184507907 31.52767425655353, 77.23355267788659 32.517518690633835, 76.42921754497863 32.52806809100334, 76.41734375841422 32.485912986068925, 76.38185345185468 32.33701477726516, 76.33596238661143 32.191456147399485, 76.29635032048017 32.0439873270093, 76.25741107857341 31.896348189924, 76.21973960465043 31.74832085788053, 76.18062918643582 31.600776563471168, 76.1652310351059 31.54100127023997, 77.20965184507907 31.52767425655353)))',\n",
       "               'tileid': '43SFR',\n",
       "               'hv_order_tileid': 'SR43F',\n",
       "               'format': 'SAFE',\n",
       "               'processingbaseline': '02.08',\n",
       "               'platformname': 'Sentinel-2',\n",
       "               'filename': 'S2B_MSIL1C_20200120T053129_N0208_R105_T43SFR_20200120T080830.SAFE',\n",
       "               'instrumentname': 'Multi-Spectral Instrument',\n",
       "               'instrumentshortname': 'MSI',\n",
       "               'size': '639.95 MB',\n",
       "               's2datatakeid': 'GS2B_20200120T053129_015003_N02.08',\n",
       "               'producttype': 'S2MSI1C',\n",
       "               'platformidentifier': '2017-013A',\n",
       "               'orbitdirection': 'DESCENDING',\n",
       "               'platformserialidentifier': 'Sentinel-2B',\n",
       "               'processinglevel': 'Level-1C',\n",
       "               'identifier': 'S2B_MSIL1C_20200120T053129_N0208_R105_T43SFR_20200120T080830',\n",
       "               'level1cpdiidentifier': 'S2B_OPER_MSI_L1C_TL_EPAE_20200120T080830_A015003_T43SFR_N02.08',\n",
       "               'uuid': 'f62f44f2-a990-4d3d-b93c-276d1e0bea14',\n",
       "               'granuleidentifier': 'S2B_OPER_MSI_L1C_TL_EPAE_20200120T080830_A015003_T43SFR_N02.08',\n",
       "               'datastripidentifier': 'S2B_OPER_MSI_L1C_DS_EPAE_20200120T080830_S20200120T053410_N02.08'}),\n",
       "             ('1f1e8e4b-193d-490a-b28d-97a9f3aee684',\n",
       "              {'title': 'S2A_MSIL1C_20200118T054151_N0208_R005_T43SFR_20200118T065457',\n",
       "               'link': \"https://scihub.copernicus.eu/dhus/odata/v1/Products('1f1e8e4b-193d-490a-b28d-97a9f3aee684')/$value\",\n",
       "               'link_alternative': \"https://scihub.copernicus.eu/dhus/odata/v1/Products('1f1e8e4b-193d-490a-b28d-97a9f3aee684')/\",\n",
       "               'link_icon': \"https://scihub.copernicus.eu/dhus/odata/v1/Products('1f1e8e4b-193d-490a-b28d-97a9f3aee684')/Products('Quicklook')/$value\",\n",
       "               'summary': 'Date: 2020-01-18T05:41:51.024Z, Instrument: MSI, Satellite: Sentinel-2, Size: 651.31 MB',\n",
       "               'ondemand': 'false',\n",
       "               'datatakesensingstart': datetime.datetime(2020, 1, 18, 5, 41, 51, 24000),\n",
       "               'beginposition': datetime.datetime(2020, 1, 18, 5, 41, 51, 24000),\n",
       "               'endposition': datetime.datetime(2020, 1, 18, 5, 41, 51, 24000),\n",
       "               'ingestiondate': datetime.datetime(2020, 1, 18, 10, 27, 41, 583000),\n",
       "               'orbitnumber': 23883,\n",
       "               'relativeorbitnumber': 5,\n",
       "               'cloudcoverpercentage': 51.1834,\n",
       "               'sensoroperationalmode': 'INS-NOBS',\n",
       "               'gmlfootprint': '<gml:Polygon srsName=\"http://www.opengis.net/gml/srs/epsg.xml#4326\" xmlns:gml=\"http://www.opengis.net/gml\">\\n   <gml:outerBoundaryIs>\\n      <gml:LinearRing>\\n         <gml:coordinates>32.519103355012646,77.11273052789704 32.3968761853201,77.07484234018088 32.2493883883368,77.03143053049497 32.10149454814154,76.98915873889237 31.95314734225548,76.94831072380563 31.805005035907826,76.9070411291138 31.657636384778804,76.86326590494537 31.532582274221422,76.82501685417519 31.54242728634164,76.05347599928324 32.532846626599884,76.06487986420782 32.519103355012646,77.11273052789704</gml:coordinates>\\n      </gml:LinearRing>\\n   </gml:outerBoundaryIs>\\n</gml:Polygon>',\n",
       "               'footprint': 'MULTIPOLYGON (((76.82501685417519 31.532582274221422, 76.86326590494537 31.657636384778804, 76.9070411291138 31.805005035907826, 76.94831072380563 31.95314734225548, 76.98915873889237 32.10149454814154, 77.03143053049497 32.2493883883368, 77.07484234018088 32.3968761853201, 77.11273052789704 32.519103355012646, 76.06487986420782 32.532846626599884, 76.05347599928324 31.54242728634164, 76.82501685417519 31.532582274221422)))',\n",
       "               'tileid': '43SFR',\n",
       "               'hv_order_tileid': 'SR43F',\n",
       "               'format': 'SAFE',\n",
       "               'processingbaseline': '02.08',\n",
       "               'platformname': 'Sentinel-2',\n",
       "               'filename': 'S2A_MSIL1C_20200118T054151_N0208_R005_T43SFR_20200118T065457.SAFE',\n",
       "               'instrumentname': 'Multi-Spectral Instrument',\n",
       "               'instrumentshortname': 'MSI',\n",
       "               'size': '651.31 MB',\n",
       "               's2datatakeid': 'GS2A_20200118T054151_023883_N02.08',\n",
       "               'producttype': 'S2MSI1C',\n",
       "               'platformidentifier': '2015-028A',\n",
       "               'orbitdirection': 'DESCENDING',\n",
       "               'platformserialidentifier': 'Sentinel-2A',\n",
       "               'processinglevel': 'Level-1C',\n",
       "               'identifier': 'S2A_MSIL1C_20200118T054151_N0208_R005_T43SFR_20200118T065457',\n",
       "               'level1cpdiidentifier': 'S2A_OPER_MSI_L1C_TL_EPAE_20200118T065457_A023883_T43SFR_N02.08',\n",
       "               'uuid': '1f1e8e4b-193d-490a-b28d-97a9f3aee684',\n",
       "               'granuleidentifier': 'S2A_OPER_MSI_L1C_TL_EPAE_20200118T065457_A023883_T43SFR_N02.08',\n",
       "               'datastripidentifier': 'S2A_OPER_MSI_L1C_DS_EPAE_20200118T065457_S20200118T054145_N02.08'}),\n",
       "             ('f1eb96a1-fdf2-4a9c-b148-e20833d2309b',\n",
       "              {'title': 'S2A_MSIL1C_20200115T053151_N0208_R105_T43SFR_20200115T064900',\n",
       "               'link': \"https://scihub.copernicus.eu/dhus/odata/v1/Products('f1eb96a1-fdf2-4a9c-b148-e20833d2309b')/$value\",\n",
       "               'link_alternative': \"https://scihub.copernicus.eu/dhus/odata/v1/Products('f1eb96a1-fdf2-4a9c-b148-e20833d2309b')/\",\n",
       "               'link_icon': \"https://scihub.copernicus.eu/dhus/odata/v1/Products('f1eb96a1-fdf2-4a9c-b148-e20833d2309b')/Products('Quicklook')/$value\",\n",
       "               'summary': 'Date: 2020-01-15T05:31:51.024Z, Instrument: MSI, Satellite: Sentinel-2, Size: 691.48 MB',\n",
       "               'ondemand': 'false',\n",
       "               'datatakesensingstart': datetime.datetime(2020, 1, 15, 5, 31, 51, 24000),\n",
       "               'beginposition': datetime.datetime(2020, 1, 15, 5, 31, 51, 24000),\n",
       "               'endposition': datetime.datetime(2020, 1, 15, 5, 31, 51, 24000),\n",
       "               'ingestiondate': datetime.datetime(2020, 1, 15, 9, 25, 51, 573000),\n",
       "               'orbitnumber': 23840,\n",
       "               'relativeorbitnumber': 105,\n",
       "               'cloudcoverpercentage': 32.7095,\n",
       "               'sensoroperationalmode': 'INS-NOBS',\n",
       "               'gmlfootprint': '<gml:Polygon srsName=\"http://www.opengis.net/gml/srs/epsg.xml#4326\" xmlns:gml=\"http://www.opengis.net/gml\">\\n   <gml:outerBoundaryIs>\\n      <gml:LinearRing>\\n         <gml:coordinates>31.54097373255366,76.16738912793292 31.594639586454186,76.18118300684408 31.74216098239903,76.22034845676451 31.8901660484796,76.25824162631366 32.03795963312799,76.29722350834987 32.163280315393656,76.33091886396566 32.18580038961574,76.33701754161747 32.21661013090488,76.34675024655672 32.3314090232864,76.38314753302977 32.33287624639635,76.38349760260051 32.332911381807655,76.38350884311603 32.33438377441156,76.3838572886507 32.48044080457347,76.41870551419113 32.52802525703323,76.43248340520212 32.517518690633835,77.23355267788659 31.52767425655353,77.20965184507907 31.54097373255366,76.16738912793292</gml:coordinates>\\n      </gml:LinearRing>\\n   </gml:outerBoundaryIs>\\n</gml:Polygon>',\n",
       "               'footprint': 'MULTIPOLYGON (((77.20965184507907 31.52767425655353, 77.23355267788659 32.517518690633835, 76.43248340520212 32.52802525703323, 76.41870551419113 32.48044080457347, 76.3838572886507 32.33438377441156, 76.38350884311603 32.332911381807655, 76.38349760260051 32.33287624639635, 76.38314753302977 32.3314090232864, 76.34675024655672 32.21661013090488, 76.33701754161747 32.18580038961574, 76.33091886396566 32.163280315393656, 76.29722350834987 32.03795963312799, 76.25824162631366 31.8901660484796, 76.22034845676451 31.74216098239903, 76.18118300684408 31.594639586454186, 76.16738912793292 31.54097373255366, 77.20965184507907 31.52767425655353)))',\n",
       "               'tileid': '43SFR',\n",
       "               'hv_order_tileid': 'SR43F',\n",
       "               'format': 'SAFE',\n",
       "               'processingbaseline': '02.08',\n",
       "               'platformname': 'Sentinel-2',\n",
       "               'filename': 'S2A_MSIL1C_20200115T053151_N0208_R105_T43SFR_20200115T064900.SAFE',\n",
       "               'instrumentname': 'Multi-Spectral Instrument',\n",
       "               'instrumentshortname': 'MSI',\n",
       "               'size': '691.48 MB',\n",
       "               's2datatakeid': 'GS2A_20200115T053151_023840_N02.08',\n",
       "               'producttype': 'S2MSI1C',\n",
       "               'platformidentifier': '2015-028A',\n",
       "               'orbitdirection': 'DESCENDING',\n",
       "               'platformserialidentifier': 'Sentinel-2A',\n",
       "               'processinglevel': 'Level-1C',\n",
       "               'identifier': 'S2A_MSIL1C_20200115T053151_N0208_R105_T43SFR_20200115T064900',\n",
       "               'level1cpdiidentifier': 'S2A_OPER_MSI_L1C_TL_EPAE_20200115T064900_A023840_T43SFR_N02.08',\n",
       "               'uuid': 'f1eb96a1-fdf2-4a9c-b148-e20833d2309b',\n",
       "               'granuleidentifier': 'S2A_OPER_MSI_L1C_TL_EPAE_20200115T064900_A023840_T43SFR_N02.08',\n",
       "               'datastripidentifier': 'S2A_OPER_MSI_L1C_DS_EPAE_20200115T064900_S20200115T053150_N02.08'}),\n",
       "             ('f5098d90-3f76-4283-b5c9-106ac77a1771',\n",
       "              {'title': 'S2B_MSIL1C_20200113T054209_N0208_R005_T43SFR_20200113T083509',\n",
       "               'link': \"https://scihub.copernicus.eu/dhus/odata/v1/Products('f5098d90-3f76-4283-b5c9-106ac77a1771')/$value\",\n",
       "               'link_alternative': \"https://scihub.copernicus.eu/dhus/odata/v1/Products('f5098d90-3f76-4283-b5c9-106ac77a1771')/\",\n",
       "               'link_icon': \"https://scihub.copernicus.eu/dhus/odata/v1/Products('f5098d90-3f76-4283-b5c9-106ac77a1771')/Products('Quicklook')/$value\",\n",
       "               'summary': 'Date: 2020-01-13T05:42:09.024Z, Instrument: MSI, Satellite: Sentinel-2, Size: 455.28 MB',\n",
       "               'ondemand': 'false',\n",
       "               'datatakesensingstart': datetime.datetime(2020, 1, 13, 5, 42, 9, 24000),\n",
       "               'beginposition': datetime.datetime(2020, 1, 13, 5, 42, 9, 24000),\n",
       "               'endposition': datetime.datetime(2020, 1, 13, 5, 42, 9, 24000),\n",
       "               'ingestiondate': datetime.datetime(2020, 1, 13, 11, 9, 30, 701000),\n",
       "               'orbitnumber': 14903,\n",
       "               'relativeorbitnumber': 5,\n",
       "               'cloudcoverpercentage': 99.9979,\n",
       "               'sensoroperationalmode': 'INS-NOBS',\n",
       "               'gmlfootprint': '<gml:Polygon srsName=\"http://www.opengis.net/gml/srs/epsg.xml#4326\" xmlns:gml=\"http://www.opengis.net/gml\">\\n   <gml:outerBoundaryIs>\\n      <gml:LinearRing>\\n         <gml:coordinates>32.51911761596431,77.11164320690696 32.46074178810225,77.0933075557718 32.313853896505634,77.04796506725786 32.16591619818687,77.00630529302094 32.01819800450949,76.96365318590435 31.869846605049386,76.92352634703664 31.722553999186225,76.8796639972727 31.57517876193916,76.83627116859654 31.532594604857195,76.82405051821239 31.54242728634164,76.05347599928324 32.532846626599884,76.06487986420782 32.51911761596431,77.11164320690696</gml:coordinates>\\n      </gml:LinearRing>\\n   </gml:outerBoundaryIs>\\n</gml:Polygon>',\n",
       "               'footprint': 'MULTIPOLYGON (((76.82405051821239 31.532594604857195, 76.83627116859654 31.57517876193916, 76.8796639972727 31.722553999186225, 76.92352634703664 31.869846605049386, 76.96365318590435 32.01819800450949, 77.00630529302094 32.16591619818687, 77.04796506725786 32.313853896505634, 77.0933075557718 32.46074178810225, 77.11164320690696 32.51911761596431, 76.06487986420782 32.532846626599884, 76.05347599928324 31.54242728634164, 76.82405051821239 31.532594604857195)))',\n",
       "               'tileid': '43SFR',\n",
       "               'hv_order_tileid': 'SR43F',\n",
       "               'format': 'SAFE',\n",
       "               'processingbaseline': '02.08',\n",
       "               'platformname': 'Sentinel-2',\n",
       "               'filename': 'S2B_MSIL1C_20200113T054209_N0208_R005_T43SFR_20200113T083509.SAFE',\n",
       "               'instrumentname': 'Multi-Spectral Instrument',\n",
       "               'instrumentshortname': 'MSI',\n",
       "               'size': '455.28 MB',\n",
       "               's2datatakeid': 'GS2B_20200113T054209_014903_N02.08',\n",
       "               'producttype': 'S2MSI1C',\n",
       "               'platformidentifier': '2017-013A',\n",
       "               'orbitdirection': 'DESCENDING',\n",
       "               'platformserialidentifier': 'Sentinel-2B',\n",
       "               'processinglevel': 'Level-1C',\n",
       "               'identifier': 'S2B_MSIL1C_20200113T054209_N0208_R005_T43SFR_20200113T083509',\n",
       "               'level1cpdiidentifier': 'S2B_OPER_MSI_L1C_TL_EPAE_20200113T083509_A014903_T43SFR_N02.08',\n",
       "               'uuid': 'f5098d90-3f76-4283-b5c9-106ac77a1771',\n",
       "               'granuleidentifier': 'S2B_OPER_MSI_L1C_TL_EPAE_20200113T083509_A014903_T43SFR_N02.08',\n",
       "               'datastripidentifier': 'S2B_OPER_MSI_L1C_DS_EPAE_20200113T083509_S20200113T054638_N02.08'}),\n",
       "             ('c9127ef8-3779-45ac-b042-fe1b3ab5f3ec',\n",
       "              {'title': 'S2B_MSIL1C_20200110T053209_N0208_R105_T43SFR_20200110T080722',\n",
       "               'link': \"https://scihub.copernicus.eu/dhus/odata/v1/Products('c9127ef8-3779-45ac-b042-fe1b3ab5f3ec')/$value\",\n",
       "               'link_alternative': \"https://scihub.copernicus.eu/dhus/odata/v1/Products('c9127ef8-3779-45ac-b042-fe1b3ab5f3ec')/\",\n",
       "               'link_icon': \"https://scihub.copernicus.eu/dhus/odata/v1/Products('c9127ef8-3779-45ac-b042-fe1b3ab5f3ec')/Products('Quicklook')/$value\",\n",
       "               'summary': 'Date: 2020-01-10T05:32:09.024Z, Instrument: MSI, Satellite: Sentinel-2, Size: 765.83 MB',\n",
       "               'ondemand': 'false',\n",
       "               'datatakesensingstart': datetime.datetime(2020, 1, 10, 5, 32, 9, 24000),\n",
       "               'beginposition': datetime.datetime(2020, 1, 10, 5, 32, 9, 24000),\n",
       "               'endposition': datetime.datetime(2020, 1, 10, 5, 32, 9, 24000),\n",
       "               'ingestiondate': datetime.datetime(2020, 1, 10, 10, 59, 41, 80000),\n",
       "               'orbitnumber': 14860,\n",
       "               'relativeorbitnumber': 105,\n",
       "               'cloudcoverpercentage': 35.74519999999999,\n",
       "               'sensoroperationalmode': 'INS-NOBS',\n",
       "               'gmlfootprint': '<gml:Polygon srsName=\"http://www.opengis.net/gml/srs/epsg.xml#4326\" xmlns:gml=\"http://www.opengis.net/gml\">\\n   <gml:outerBoundaryIs>\\n      <gml:LinearRing>\\n         <gml:coordinates>31.541017375122983,76.16396891627312 31.58770828219382,76.17604644668924 31.735345908053368,76.21501112307458 31.88332851711473,76.25292575390434 32.03103271941419,76.29195964562493 32.17858160341451,76.33163379413898 32.324154312215875,76.37767071840337 32.473624111107185,76.41158738174401 32.52808024492277,76.42829087388331 32.517518690633835,77.23355267788659 31.52767425655353,77.20965184507907 31.541017375122983,76.16396891627312</gml:coordinates>\\n      </gml:LinearRing>\\n   </gml:outerBoundaryIs>\\n</gml:Polygon>',\n",
       "               'footprint': 'MULTIPOLYGON (((77.20965184507907 31.52767425655353, 77.23355267788659 32.517518690633835, 76.42829087388331 32.52808024492277, 76.41158738174401 32.473624111107185, 76.37767071840337 32.324154312215875, 76.33163379413898 32.17858160341451, 76.29195964562493 32.03103271941419, 76.25292575390434 31.88332851711473, 76.21501112307458 31.735345908053368, 76.17604644668924 31.58770828219382, 76.16396891627312 31.541017375122983, 77.20965184507907 31.52767425655353)))',\n",
       "               'tileid': '43SFR',\n",
       "               'hv_order_tileid': 'SR43F',\n",
       "               'format': 'SAFE',\n",
       "               'processingbaseline': '02.08',\n",
       "               'platformname': 'Sentinel-2',\n",
       "               'filename': 'S2B_MSIL1C_20200110T053209_N0208_R105_T43SFR_20200110T080722.SAFE',\n",
       "               'instrumentname': 'Multi-Spectral Instrument',\n",
       "               'instrumentshortname': 'MSI',\n",
       "               'size': '765.83 MB',\n",
       "               's2datatakeid': 'GS2B_20200110T053209_014860_N02.08',\n",
       "               'producttype': 'S2MSI1C',\n",
       "               'platformidentifier': '2017-013A',\n",
       "               'orbitdirection': 'DESCENDING',\n",
       "               'platformserialidentifier': 'Sentinel-2B',\n",
       "               'processinglevel': 'Level-1C',\n",
       "               'identifier': 'S2B_MSIL1C_20200110T053209_N0208_R105_T43SFR_20200110T080722',\n",
       "               'level1cpdiidentifier': 'S2B_OPER_MSI_L1C_TL_EPAE_20200110T080722_A014860_T43SFR_N02.08',\n",
       "               'uuid': 'c9127ef8-3779-45ac-b042-fe1b3ab5f3ec',\n",
       "               'granuleidentifier': 'S2B_OPER_MSI_L1C_TL_EPAE_20200110T080722_A014860_T43SFR_N02.08',\n",
       "               'datastripidentifier': 'S2B_OPER_MSI_L1C_DS_EPAE_20200110T080722_S20200110T053549_N02.08'}),\n",
       "             ('b76ba825-acce-43dc-bb4c-43464b8b1ac1',\n",
       "              {'title': 'S2A_MSIL1C_20200108T054221_N0208_R005_T43SFR_20200108T065352',\n",
       "               'link': \"https://scihub.copernicus.eu/dhus/odata/v1/Products('b76ba825-acce-43dc-bb4c-43464b8b1ac1')/$value\",\n",
       "               'link_alternative': \"https://scihub.copernicus.eu/dhus/odata/v1/Products('b76ba825-acce-43dc-bb4c-43464b8b1ac1')/\",\n",
       "               'link_icon': \"https://scihub.copernicus.eu/dhus/odata/v1/Products('b76ba825-acce-43dc-bb4c-43464b8b1ac1')/Products('Quicklook')/$value\",\n",
       "               'summary': 'Date: 2020-01-08T05:42:21.024Z, Instrument: MSI, Satellite: Sentinel-2, Size: 540.29 MB',\n",
       "               'ondemand': 'false',\n",
       "               'datatakesensingstart': datetime.datetime(2020, 1, 8, 5, 42, 21, 24000),\n",
       "               'beginposition': datetime.datetime(2020, 1, 8, 5, 42, 21, 24000),\n",
       "               'endposition': datetime.datetime(2020, 1, 8, 5, 42, 21, 24000),\n",
       "               'ingestiondate': datetime.datetime(2020, 1, 8, 9, 39, 47, 529000),\n",
       "               'orbitnumber': 23740,\n",
       "               'relativeorbitnumber': 5,\n",
       "               'cloudcoverpercentage': 97.8886,\n",
       "               'sensoroperationalmode': 'INS-NOBS',\n",
       "               'gmlfootprint': '<gml:Polygon srsName=\"http://www.opengis.net/gml/srs/epsg.xml#4326\" xmlns:gml=\"http://www.opengis.net/gml\">\\n   <gml:outerBoundaryIs>\\n      <gml:LinearRing>\\n         <gml:coordinates>32.51905943193311,77.11607942686574 32.43367698225624,77.08841800666018 32.2862346479103,77.04468999285875 32.138184956250335,77.0031007701185 31.990486199047808,76.95988104151594 31.84218032741561,76.91897070377365 31.69491773955248,76.87468927486226 31.54767101545979,76.83098300373416 31.532560154815915,76.82675032334983 31.54242728634164,76.05347599928324 32.532846626599884,76.06487986420782 32.51905943193311,77.11607942686574</gml:coordinates>\\n      </gml:LinearRing>\\n   </gml:outerBoundaryIs>\\n</gml:Polygon>',\n",
       "               'footprint': 'MULTIPOLYGON (((76.82675032334983 31.532560154815915, 76.83098300373416 31.54767101545979, 76.87468927486226 31.69491773955248, 76.91897070377365 31.84218032741561, 76.95988104151594 31.990486199047808, 77.0031007701185 32.138184956250335, 77.04468999285875 32.2862346479103, 77.08841800666018 32.43367698225624, 77.11607942686574 32.51905943193311, 76.06487986420782 32.532846626599884, 76.05347599928324 31.54242728634164, 76.82675032334983 31.532560154815915)))',\n",
       "               'tileid': '43SFR',\n",
       "               'hv_order_tileid': 'SR43F',\n",
       "               'format': 'SAFE',\n",
       "               'processingbaseline': '02.08',\n",
       "               'platformname': 'Sentinel-2',\n",
       "               'filename': 'S2A_MSIL1C_20200108T054221_N0208_R005_T43SFR_20200108T065352.SAFE',\n",
       "               'instrumentname': 'Multi-Spectral Instrument',\n",
       "               'instrumentshortname': 'MSI',\n",
       "               'size': '540.29 MB',\n",
       "               's2datatakeid': 'GS2A_20200108T054221_023740_N02.08',\n",
       "               'producttype': 'S2MSI1C',\n",
       "               'platformidentifier': '2015-028A',\n",
       "               'orbitdirection': 'DESCENDING',\n",
       "               'platformserialidentifier': 'Sentinel-2A',\n",
       "               'processinglevel': 'Level-1C',\n",
       "               'identifier': 'S2A_MSIL1C_20200108T054221_N0208_R005_T43SFR_20200108T065352',\n",
       "               'level1cpdiidentifier': 'S2A_OPER_MSI_L1C_TL_EPAE_20200108T065352_A023740_T43SFR_N02.08',\n",
       "               'uuid': 'b76ba825-acce-43dc-bb4c-43464b8b1ac1',\n",
       "               'granuleidentifier': 'S2A_OPER_MSI_L1C_TL_EPAE_20200108T065352_A023740_T43SFR_N02.08',\n",
       "               'datastripidentifier': 'S2A_OPER_MSI_L1C_DS_EPAE_20200108T065352_S20200108T054215_N02.08'}),\n",
       "             ('d4e49d17-6edb-4389-ac35-dfcb83e2d964',\n",
       "              {'title': 'S2A_MSIL1C_20200105T053221_N0208_R105_T43SFR_20200105T072254',\n",
       "               'link': \"https://scihub.copernicus.eu/dhus/odata/v1/Products('d4e49d17-6edb-4389-ac35-dfcb83e2d964')/$value\",\n",
       "               'link_alternative': \"https://scihub.copernicus.eu/dhus/odata/v1/Products('d4e49d17-6edb-4389-ac35-dfcb83e2d964')/\",\n",
       "               'link_icon': \"https://scihub.copernicus.eu/dhus/odata/v1/Products('d4e49d17-6edb-4389-ac35-dfcb83e2d964')/Products('Quicklook')/$value\",\n",
       "               'summary': 'Date: 2020-01-05T05:32:21.024Z, Instrument: MSI, Satellite: Sentinel-2, Size: 588.77 MB',\n",
       "               'ondemand': 'false',\n",
       "               'datatakesensingstart': datetime.datetime(2020, 1, 5, 5, 32, 21, 24000),\n",
       "               'beginposition': datetime.datetime(2020, 1, 5, 5, 32, 21, 24000),\n",
       "               'endposition': datetime.datetime(2020, 1, 5, 5, 32, 21, 24000),\n",
       "               'ingestiondate': datetime.datetime(2020, 1, 5, 8, 39, 49, 256000),\n",
       "               'orbitnumber': 23697,\n",
       "               'relativeorbitnumber': 105,\n",
       "               'cloudcoverpercentage': 99.0651,\n",
       "               'sensoroperationalmode': 'INS-NOBS',\n",
       "               'gmlfootprint': '<gml:Polygon srsName=\"http://www.opengis.net/gml/srs/epsg.xml#4326\" xmlns:gml=\"http://www.opengis.net/gml\">\\n   <gml:outerBoundaryIs>\\n      <gml:LinearRing>\\n         <gml:coordinates>31.540955084632493,76.16885054137386 31.57308992159645,76.17713090094142 31.720679536541528,76.21594408200414 31.86855010053139,76.25407624537168 32.016203664193824,76.29302765812858 32.16389742116094,76.33213538715027 32.30974460729466,76.37773858829343 32.4593090866116,76.41163786936862 32.52802381055761,76.43259369120041 32.517518690633835,77.23355267788659 31.52767425655353,77.20965184507907 31.540955084632493,76.16885054137386</gml:coordinates>\\n      </gml:LinearRing>\\n   </gml:outerBoundaryIs>\\n</gml:Polygon>',\n",
       "               'footprint': 'MULTIPOLYGON (((77.20965184507907 31.52767425655353, 77.23355267788659 32.517518690633835, 76.43259369120041 32.52802381055761, 76.41163786936862 32.4593090866116, 76.37773858829343 32.30974460729466, 76.33213538715027 32.16389742116094, 76.29302765812858 32.016203664193824, 76.25407624537168 31.86855010053139, 76.21594408200414 31.720679536541528, 76.17713090094142 31.57308992159645, 76.16885054137386 31.540955084632493, 77.20965184507907 31.52767425655353)))',\n",
       "               'tileid': '43SFR',\n",
       "               'hv_order_tileid': 'SR43F',\n",
       "               'format': 'SAFE',\n",
       "               'processingbaseline': '02.08',\n",
       "               'platformname': 'Sentinel-2',\n",
       "               'filename': 'S2A_MSIL1C_20200105T053221_N0208_R105_T43SFR_20200105T072254.SAFE',\n",
       "               'instrumentname': 'Multi-Spectral Instrument',\n",
       "               'instrumentshortname': 'MSI',\n",
       "               'size': '588.77 MB',\n",
       "               's2datatakeid': 'GS2A_20200105T053221_023697_N02.08',\n",
       "               'producttype': 'S2MSI1C',\n",
       "               'platformidentifier': '2015-028A',\n",
       "               'orbitdirection': 'DESCENDING',\n",
       "               'platformserialidentifier': 'Sentinel-2A',\n",
       "               'processinglevel': 'Level-1C',\n",
       "               'identifier': 'S2A_MSIL1C_20200105T053221_N0208_R105_T43SFR_20200105T072254',\n",
       "               'level1cpdiidentifier': 'S2A_OPER_MSI_L1C_TL_SGS__20200105T072254_A023697_T43SFR_N02.08',\n",
       "               'uuid': 'd4e49d17-6edb-4389-ac35-dfcb83e2d964',\n",
       "               'granuleidentifier': 'S2A_OPER_MSI_L1C_TL_SGS__20200105T072254_A023697_T43SFR_N02.08',\n",
       "               'datastripidentifier': 'S2A_OPER_MSI_L1C_DS_SGS__20200105T072254_S20200105T053922_N02.08'}),\n",
       "             ('59424b93-a7d3-4d13-a8ed-622f67af2f76',\n",
       "              {'title': 'S2B_MSIL1C_20200103T054229_N0208_R005_T43SFR_20200103T081659',\n",
       "               'link': \"https://scihub.copernicus.eu/dhus/odata/v1/Products('59424b93-a7d3-4d13-a8ed-622f67af2f76')/$value\",\n",
       "               'link_alternative': \"https://scihub.copernicus.eu/dhus/odata/v1/Products('59424b93-a7d3-4d13-a8ed-622f67af2f76')/\",\n",
       "               'link_icon': \"https://scihub.copernicus.eu/dhus/odata/v1/Products('59424b93-a7d3-4d13-a8ed-622f67af2f76')/Products('Quicklook')/$value\",\n",
       "               'summary': 'Date: 2020-01-03T05:42:29.024Z, Instrument: MSI, Satellite: Sentinel-2, Size: 699.63 MB',\n",
       "               'ondemand': 'false',\n",
       "               'datatakesensingstart': datetime.datetime(2020, 1, 3, 5, 42, 29, 24000),\n",
       "               'beginposition': datetime.datetime(2020, 1, 3, 5, 42, 29, 24000),\n",
       "               'endposition': datetime.datetime(2020, 1, 3, 5, 42, 29, 24000),\n",
       "               'ingestiondate': datetime.datetime(2020, 1, 3, 10, 24, 53, 200000),\n",
       "               'orbitnumber': 14760,\n",
       "               'relativeorbitnumber': 5,\n",
       "               'cloudcoverpercentage': 14.2775,\n",
       "               'sensoroperationalmode': 'INS-NOBS',\n",
       "               'gmlfootprint': '<gml:Polygon srsName=\"http://www.opengis.net/gml/srs/epsg.xml#4326\" xmlns:gml=\"http://www.opengis.net/gml\">\\n   <gml:outerBoundaryIs>\\n      <gml:LinearRing>\\n         <gml:coordinates>32.519140060226434,77.10993195243533 32.39734378956862,77.07156642125315 32.24988950754003,77.02816374128174 32.102051269444665,76.98624017034963 31.95391932160098,76.94557846683662 31.85142072930894,76.9172126458552 31.805275114171,76.90438949287612 31.658062609740377,76.86067980281646 31.62103331669963,76.84938196211557 31.53261597826942,76.82237551156545 31.54242728634164,76.05347599928324 32.532846626599884,76.06487986420782 32.519140060226434,77.10993195243533</gml:coordinates>\\n      </gml:LinearRing>\\n   </gml:outerBoundaryIs>\\n</gml:Polygon>',\n",
       "               'footprint': 'MULTIPOLYGON (((76.82237551156545 31.53261597826942, 76.84938196211557 31.62103331669963, 76.86067980281646 31.658062609740377, 76.90438949287612 31.805275114171, 76.9172126458552 31.85142072930894, 76.94557846683662 31.95391932160098, 76.98624017034963 32.102051269444665, 77.02816374128174 32.24988950754003, 77.07156642125315 32.39734378956862, 77.10993195243533 32.519140060226434, 76.06487986420782 32.532846626599884, 76.05347599928324 31.54242728634164, 76.82237551156545 31.53261597826942)))',\n",
       "               'tileid': '43SFR',\n",
       "               'hv_order_tileid': 'SR43F',\n",
       "               'format': 'SAFE',\n",
       "               'processingbaseline': '02.08',\n",
       "               'platformname': 'Sentinel-2',\n",
       "               'filename': 'S2B_MSIL1C_20200103T054229_N0208_R005_T43SFR_20200103T081659.SAFE',\n",
       "               'instrumentname': 'Multi-Spectral Instrument',\n",
       "               'instrumentshortname': 'MSI',\n",
       "               'size': '699.63 MB',\n",
       "               's2datatakeid': 'GS2B_20200103T054229_014760_N02.08',\n",
       "               'producttype': 'S2MSI1C',\n",
       "               'platformidentifier': '2017-013A',\n",
       "               'orbitdirection': 'DESCENDING',\n",
       "               'platformserialidentifier': 'Sentinel-2B',\n",
       "               'processinglevel': 'Level-1C',\n",
       "               'identifier': 'S2B_MSIL1C_20200103T054229_N0208_R005_T43SFR_20200103T081659',\n",
       "               'level1cpdiidentifier': 'S2B_OPER_MSI_L1C_TL_EPAE_20200103T081659_A014760_T43SFR_N02.08',\n",
       "               'uuid': '59424b93-a7d3-4d13-a8ed-622f67af2f76',\n",
       "               'granuleidentifier': 'S2B_OPER_MSI_L1C_TL_EPAE_20200103T081659_A014760_T43SFR_N02.08',\n",
       "               'datastripidentifier': 'S2B_OPER_MSI_L1C_DS_EPAE_20200103T081659_S20200103T054832_N02.08'})])"
      ]
     },
     "execution_count": 165,
     "metadata": {},
     "output_type": "execute_result"
    }
   ],
   "source": [
    "products"
   ]
  },
  {
   "cell_type": "code",
   "execution_count": 170,
   "id": "22b0bcad-e757-449d-b888-a7ca6ab356c0",
   "metadata": {},
   "outputs": [
    {
     "name": "stdout",
     "output_type": "stream",
     "text": [
      "S2B_MSIL1C_20200130T053049_N0208_R105_T43SFR_20200130T090639 False\n",
      "S2A_MSIL1C_20200128T054101_N0208_R005_T43SFR_20200128T073349 True\n",
      "S2A_MSIL1C_20200125T053101_N0208_R105_T43SFR_20200125T072309 True\n",
      "S2B_MSIL1C_20200123T054129_N0208_R005_T43SFR_20200123T091727 True\n",
      "S2B_MSIL1C_20200120T053129_N0208_R105_T43SFR_20200120T080830 False\n",
      "S2A_MSIL1C_20200118T054151_N0208_R005_T43SFR_20200118T065457 False\n",
      "S2A_MSIL1C_20200115T053151_N0208_R105_T43SFR_20200115T064900 False\n",
      "S2B_MSIL1C_20200113T054209_N0208_R005_T43SFR_20200113T083509 False\n",
      "S2B_MSIL1C_20200110T053209_N0208_R105_T43SFR_20200110T080722 False\n",
      "S2A_MSIL1C_20200108T054221_N0208_R005_T43SFR_20200108T065352 False\n",
      "S2A_MSIL1C_20200105T053221_N0208_R105_T43SFR_20200105T072254 False\n",
      "S2B_MSIL1C_20200103T054229_N0208_R005_T43SFR_20200103T081659 False\n"
     ]
    }
   ],
   "source": [
    "for p_id in products.keys():\n",
    "    p_info = api.get_product_odata(p_id)\n",
    "    print(p_info['title'], p_info['Online'])"
   ]
  },
  {
   "cell_type": "code",
   "execution_count": 169,
   "id": "db160e23-65e1-4cc9-847b-3cebe1b6d43c",
   "metadata": {},
   "outputs": [
    {
     "data": {
      "text/plain": [
       "{'id': '59424b93-a7d3-4d13-a8ed-622f67af2f76',\n",
       " 'title': 'S2B_MSIL1C_20200103T054229_N0208_R005_T43SFR_20200103T081659',\n",
       " 'size': 733659753,\n",
       " 'md5': '6F1E08D5EF185FD5F537CEB92801FB6E',\n",
       " 'date': datetime.datetime(2020, 1, 3, 5, 42, 29, 24000),\n",
       " 'footprint': 'POLYGON((77.10993195243533 32.519140060226434,77.07156642125315 32.39734378956862,77.02816374128174 32.24988950754003,76.98624017034963 32.102051269444665,76.94557846683662 31.95391932160098,76.9172126458552 31.85142072930894,76.90438949287612 31.805275114171,76.86067980281646 31.658062609740377,76.84938196211557 31.62103331669963,76.82237551156545 31.53261597826942,76.05347599928324 31.54242728634164,76.06487986420782 32.532846626599884,77.10993195243533 32.519140060226434))',\n",
       " 'url': \"https://scihub.copernicus.eu/dhus/odata/v1/Products('59424b93-a7d3-4d13-a8ed-622f67af2f76')/$value\",\n",
       " 'Online': False,\n",
       " 'Creation Date': datetime.datetime(2020, 1, 3, 10, 25, 19, 145000),\n",
       " 'Ingestion Date': datetime.datetime(2020, 1, 3, 10, 24, 53, 200000),\n",
       " 'quicklook_url': \"https://scihub.copernicus.eu/dhus/odata/v1/Products('59424b93-a7d3-4d13-a8ed-622f67af2f76')/Products('Quicklook')/$value\"}"
      ]
     },
     "execution_count": 169,
     "metadata": {},
     "output_type": "execute_result"
    }
   ],
   "source": [
    "p_info"
   ]
  },
  {
   "cell_type": "code",
   "execution_count": 139,
   "id": "fa0e243d-bb00-4b86-9f75-ed03543079bc",
   "metadata": {
    "tags": []
   },
   "outputs": [
    {
     "name": "stdout",
     "output_type": "stream",
     "text": [
      "S2A_MSIL1C_20200603T052651_N0209_R105_T43SFR_20200603T091952 T43SFR\n",
      "S2B_MSIL1C_20200601T053649_N0209_R005_T43SFR_20200601T091654 T43SFR\n"
     ]
    }
   ],
   "source": [
    "for i in products2.keys():\n",
    "    print(products2[i]['title'], products2[i]['title'].split('_')[-2])"
   ]
  },
  {
   "cell_type": "code",
   "execution_count": 44,
   "id": "3f99c9b9-aa02-40aa-a6f9-d02de4a1e7f0",
   "metadata": {
    "collapsed": true,
    "jupyter": {
     "outputs_hidden": true
    },
    "tags": []
   },
   "outputs": [
    {
     "data": {
      "text/plain": [
       "OrderedDict([('6d35850a-287f-4a80-b37a-633b2ac1a14a',\n",
       "              {'title': 'S2B_MSIL1C_20200628T070629_N0209_R106_T38NPN_20200628T104928',\n",
       "               'link': \"https://scihub.copernicus.eu/dhus/odata/v1/Products('6d35850a-287f-4a80-b37a-633b2ac1a14a')/$value\",\n",
       "               'link_alternative': \"https://scihub.copernicus.eu/dhus/odata/v1/Products('6d35850a-287f-4a80-b37a-633b2ac1a14a')/\",\n",
       "               'link_icon': \"https://scihub.copernicus.eu/dhus/odata/v1/Products('6d35850a-287f-4a80-b37a-633b2ac1a14a')/Products('Quicklook')/$value\",\n",
       "               'summary': 'Date: 2020-06-28T07:06:29.024Z, Instrument: MSI, Satellite: Sentinel-2, Size: 782.66 MB',\n",
       "               'ondemand': 'false',\n",
       "               'datatakesensingstart': datetime.datetime(2020, 6, 28, 7, 6, 29, 24000),\n",
       "               'beginposition': datetime.datetime(2020, 6, 28, 7, 6, 29, 24000),\n",
       "               'endposition': datetime.datetime(2020, 6, 28, 7, 6, 29, 24000),\n",
       "               'ingestiondate': datetime.datetime(2020, 6, 28, 13, 50, 19, 677000),\n",
       "               'orbitnumber': 17292,\n",
       "               'relativeorbitnumber': 106,\n",
       "               'cloudcoverpercentage': 6.6611,\n",
       "               'sensoroperationalmode': 'INS-NOBS',\n",
       "               'gmlfootprint': '<gml:Polygon srsName=\"http://www.opengis.net/gml/srs/epsg.xml#4326\" xmlns:gml=\"http://www.opengis.net/gml\">\\n   <gml:outerBoundaryIs>\\n      <gml:LinearRing>\\n         <gml:coordinates>7.236926635409353,45.905806436571076 7.233863809027386,46.90010665686058 6.241154881060901,46.89624550513328 6.243793923572233,45.90396473340834 7.236926635409353,45.905806436571076</gml:coordinates>\\n      </gml:LinearRing>\\n   </gml:outerBoundaryIs>\\n</gml:Polygon>',\n",
       "               'footprint': 'MULTIPOLYGON (((46.89624550513328 6.241154881060901, 46.90010665686058 7.233863809027386, 45.905806436571076 7.236926635409353, 45.90396473340834 6.243793923572233, 46.89624550513328 6.241154881060901)))',\n",
       "               'level1cpdiidentifier': 'S2B_OPER_MSI_L1C_TL_SGS__20200628T104928_A017292_T38NPN_N02.09',\n",
       "               'tileid': '38NPN',\n",
       "               'hv_order_tileid': 'NN38P',\n",
       "               'format': 'SAFE',\n",
       "               'processingbaseline': '02.09',\n",
       "               'platformname': 'Sentinel-2',\n",
       "               'filename': 'S2B_MSIL1C_20200628T070629_N0209_R106_T38NPN_20200628T104928.SAFE',\n",
       "               'instrumentname': 'Multi-Spectral Instrument',\n",
       "               'instrumentshortname': 'MSI',\n",
       "               'size': '782.66 MB',\n",
       "               's2datatakeid': 'GS2B_20200628T070629_017292_N02.09',\n",
       "               'producttype': 'S2MSI1C',\n",
       "               'platformidentifier': '2017-013A',\n",
       "               'orbitdirection': 'DESCENDING',\n",
       "               'platformserialidentifier': 'Sentinel-2B',\n",
       "               'processinglevel': 'Level-1C',\n",
       "               'identifier': 'S2B_MSIL1C_20200628T070629_N0209_R106_T38NPN_20200628T104928',\n",
       "               'uuid': '6d35850a-287f-4a80-b37a-633b2ac1a14a',\n",
       "               'granuleidentifier': 'S2B_OPER_MSI_L1C_TL_SGS__20200628T104928_A017292_T38NPN_N02.09',\n",
       "               'datastripidentifier': 'S2B_OPER_MSI_L1C_DS_SGS__20200628T104928_S20200628T072201_N02.09'}),\n",
       "             ('aee169fe-3edb-4b20-8832-c2732a2faf87',\n",
       "              {'title': 'S2A_MSIL1C_20200623T070631_N0209_R106_T38NPN_20200623T102418',\n",
       "               'link': \"https://scihub.copernicus.eu/dhus/odata/v1/Products('aee169fe-3edb-4b20-8832-c2732a2faf87')/$value\",\n",
       "               'link_alternative': \"https://scihub.copernicus.eu/dhus/odata/v1/Products('aee169fe-3edb-4b20-8832-c2732a2faf87')/\",\n",
       "               'link_icon': \"https://scihub.copernicus.eu/dhus/odata/v1/Products('aee169fe-3edb-4b20-8832-c2732a2faf87')/Products('Quicklook')/$value\",\n",
       "               'summary': 'Date: 2020-06-23T07:06:31.024Z, Instrument: MSI, Satellite: Sentinel-2, Size: 806.58 MB',\n",
       "               'ondemand': 'false',\n",
       "               'datatakesensingstart': datetime.datetime(2020, 6, 23, 7, 6, 31, 24000),\n",
       "               'beginposition': datetime.datetime(2020, 6, 23, 7, 6, 31, 24000),\n",
       "               'endposition': datetime.datetime(2020, 6, 23, 7, 6, 31, 24000),\n",
       "               'ingestiondate': datetime.datetime(2020, 6, 23, 13, 31, 2, 570000),\n",
       "               'orbitnumber': 26129,\n",
       "               'relativeorbitnumber': 106,\n",
       "               'cloudcoverpercentage': 25.1574,\n",
       "               'sensoroperationalmode': 'INS-NOBS',\n",
       "               'gmlfootprint': '<gml:Polygon srsName=\"http://www.opengis.net/gml/srs/epsg.xml#4326\" xmlns:gml=\"http://www.opengis.net/gml\">\\n   <gml:outerBoundaryIs>\\n      <gml:LinearRing>\\n         <gml:coordinates>7.236926635409353,45.905806436571076 7.233863809027386,46.90010665686058 6.241154881060901,46.89624550513328 6.243793923572233,45.90396473340834 7.236926635409353,45.905806436571076</gml:coordinates>\\n      </gml:LinearRing>\\n   </gml:outerBoundaryIs>\\n</gml:Polygon>',\n",
       "               'footprint': 'MULTIPOLYGON (((46.89624550513328 6.241154881060901, 46.90010665686058 7.233863809027386, 45.905806436571076 7.236926635409353, 45.90396473340834 6.243793923572233, 46.89624550513328 6.241154881060901)))',\n",
       "               'level1cpdiidentifier': 'S2A_OPER_MSI_L1C_TL_EPAE_20200623T102418_A026129_T38NPN_N02.09',\n",
       "               'tileid': '38NPN',\n",
       "               'hv_order_tileid': 'NN38P',\n",
       "               'format': 'SAFE',\n",
       "               'processingbaseline': '02.09',\n",
       "               'platformname': 'Sentinel-2',\n",
       "               'filename': 'S2A_MSIL1C_20200623T070631_N0209_R106_T38NPN_20200623T102418.SAFE',\n",
       "               'instrumentname': 'Multi-Spectral Instrument',\n",
       "               'instrumentshortname': 'MSI',\n",
       "               'size': '806.58 MB',\n",
       "               's2datatakeid': 'GS2A_20200623T070631_026129_N02.09',\n",
       "               'producttype': 'S2MSI1C',\n",
       "               'platformidentifier': '2015-028A',\n",
       "               'orbitdirection': 'DESCENDING',\n",
       "               'platformserialidentifier': 'Sentinel-2A',\n",
       "               'processinglevel': 'Level-1C',\n",
       "               'identifier': 'S2A_MSIL1C_20200623T070631_N0209_R106_T38NPN_20200623T102418',\n",
       "               'uuid': 'aee169fe-3edb-4b20-8832-c2732a2faf87',\n",
       "               'granuleidentifier': 'S2A_OPER_MSI_L1C_TL_EPAE_20200623T102418_A026129_T38NPN_N02.09',\n",
       "               'datastripidentifier': 'S2A_OPER_MSI_L1C_DS_EPAE_20200623T102418_S20200623T071832_N02.09'}),\n",
       "             ('c668c66c-04a2-4be0-8ec1-c8a69f4feb17',\n",
       "              {'title': 'S2B_MSIL1C_20200618T070629_N0209_R106_T38NPN_20200618T101252',\n",
       "               'link': \"https://scihub.copernicus.eu/dhus/odata/v1/Products('c668c66c-04a2-4be0-8ec1-c8a69f4feb17')/$value\",\n",
       "               'link_alternative': \"https://scihub.copernicus.eu/dhus/odata/v1/Products('c668c66c-04a2-4be0-8ec1-c8a69f4feb17')/\",\n",
       "               'link_icon': \"https://scihub.copernicus.eu/dhus/odata/v1/Products('c668c66c-04a2-4be0-8ec1-c8a69f4feb17')/Products('Quicklook')/$value\",\n",
       "               'summary': 'Date: 2020-06-18T07:06:29.024Z, Instrument: MSI, Satellite: Sentinel-2, Size: 781.81 MB',\n",
       "               'ondemand': 'false',\n",
       "               'datatakesensingstart': datetime.datetime(2020, 6, 18, 7, 6, 29, 24000),\n",
       "               'beginposition': datetime.datetime(2020, 6, 18, 7, 6, 29, 24000),\n",
       "               'endposition': datetime.datetime(2020, 6, 18, 7, 6, 29, 24000),\n",
       "               'ingestiondate': datetime.datetime(2020, 6, 18, 15, 46, 46, 215000),\n",
       "               'orbitnumber': 17149,\n",
       "               'relativeorbitnumber': 106,\n",
       "               'cloudcoverpercentage': 0.0049,\n",
       "               'sensoroperationalmode': 'INS-NOBS',\n",
       "               'gmlfootprint': '<gml:Polygon srsName=\"http://www.opengis.net/gml/srs/epsg.xml#4326\" xmlns:gml=\"http://www.opengis.net/gml\">\\n   <gml:outerBoundaryIs>\\n      <gml:LinearRing>\\n         <gml:coordinates>7.236926635409353,45.905806436571076 7.233863809027386,46.90010665686058 6.241154881060901,46.89624550513328 6.243793923572233,45.90396473340834 7.236926635409353,45.905806436571076</gml:coordinates>\\n      </gml:LinearRing>\\n   </gml:outerBoundaryIs>\\n</gml:Polygon>',\n",
       "               'footprint': 'MULTIPOLYGON (((46.89624550513328 6.241154881060901, 46.90010665686058 7.233863809027386, 45.905806436571076 7.236926635409353, 45.90396473340834 6.243793923572233, 46.89624550513328 6.241154881060901)))',\n",
       "               'level1cpdiidentifier': 'S2B_OPER_MSI_L1C_TL_EPAE_20200618T101252_A017149_T38NPN_N02.09',\n",
       "               'tileid': '38NPN',\n",
       "               'hv_order_tileid': 'NN38P',\n",
       "               'format': 'SAFE',\n",
       "               'processingbaseline': '02.09',\n",
       "               'platformname': 'Sentinel-2',\n",
       "               'filename': 'S2B_MSIL1C_20200618T070629_N0209_R106_T38NPN_20200618T101252.SAFE',\n",
       "               'instrumentname': 'Multi-Spectral Instrument',\n",
       "               'instrumentshortname': 'MSI',\n",
       "               'size': '781.81 MB',\n",
       "               's2datatakeid': 'GS2B_20200618T070629_017149_N02.09',\n",
       "               'producttype': 'S2MSI1C',\n",
       "               'platformidentifier': '2017-013A',\n",
       "               'orbitdirection': 'DESCENDING',\n",
       "               'platformserialidentifier': 'Sentinel-2B',\n",
       "               'processinglevel': 'Level-1C',\n",
       "               'identifier': 'S2B_MSIL1C_20200618T070629_N0209_R106_T38NPN_20200618T101252',\n",
       "               'uuid': 'c668c66c-04a2-4be0-8ec1-c8a69f4feb17',\n",
       "               'granuleidentifier': 'S2B_OPER_MSI_L1C_TL_EPAE_20200618T101252_A017149_T38NPN_N02.09',\n",
       "               'datastripidentifier': 'S2B_OPER_MSI_L1C_DS_EPAE_20200618T101252_S20200618T071528_N02.09'}),\n",
       "             ('cb6e0cd7-8f84-4a7b-a683-6aea70e601a4',\n",
       "              {'title': 'S2A_MSIL1C_20200613T070631_N0209_R106_T38NPN_20200613T091735',\n",
       "               'link': \"https://scihub.copernicus.eu/dhus/odata/v1/Products('cb6e0cd7-8f84-4a7b-a683-6aea70e601a4')/$value\",\n",
       "               'link_alternative': \"https://scihub.copernicus.eu/dhus/odata/v1/Products('cb6e0cd7-8f84-4a7b-a683-6aea70e601a4')/\",\n",
       "               'link_icon': \"https://scihub.copernicus.eu/dhus/odata/v1/Products('cb6e0cd7-8f84-4a7b-a683-6aea70e601a4')/Products('Quicklook')/$value\",\n",
       "               'summary': 'Date: 2020-06-13T07:06:31.024Z, Instrument: MSI, Satellite: Sentinel-2, Size: 777.91 MB',\n",
       "               'ondemand': 'false',\n",
       "               'datatakesensingstart': datetime.datetime(2020, 6, 13, 7, 6, 31, 24000),\n",
       "               'beginposition': datetime.datetime(2020, 6, 13, 7, 6, 31, 24000),\n",
       "               'endposition': datetime.datetime(2020, 6, 13, 7, 6, 31, 24000),\n",
       "               'ingestiondate': datetime.datetime(2020, 6, 13, 12, 19, 29, 615000),\n",
       "               'orbitnumber': 25986,\n",
       "               'relativeorbitnumber': 106,\n",
       "               'cloudcoverpercentage': 49.8517,\n",
       "               'sensoroperationalmode': 'INS-NOBS',\n",
       "               'gmlfootprint': '<gml:Polygon srsName=\"http://www.opengis.net/gml/srs/epsg.xml#4326\" xmlns:gml=\"http://www.opengis.net/gml\">\\n   <gml:outerBoundaryIs>\\n      <gml:LinearRing>\\n         <gml:coordinates>7.236926635409353,45.905806436571076 7.233863809027386,46.90010665686058 6.241154881060901,46.89624550513328 6.243793923572233,45.90396473340834 7.236926635409353,45.905806436571076</gml:coordinates>\\n      </gml:LinearRing>\\n   </gml:outerBoundaryIs>\\n</gml:Polygon>',\n",
       "               'footprint': 'MULTIPOLYGON (((46.89624550513328 6.241154881060901, 46.90010665686058 7.233863809027386, 45.905806436571076 7.236926635409353, 45.90396473340834 6.243793923572233, 46.89624550513328 6.241154881060901)))',\n",
       "               'level1cpdiidentifier': 'S2A_OPER_MSI_L1C_TL_MTI__20200613T091735_A025986_T38NPN_N02.09',\n",
       "               'tileid': '38NPN',\n",
       "               'hv_order_tileid': 'NN38P',\n",
       "               'format': 'SAFE',\n",
       "               'processingbaseline': '02.09',\n",
       "               'platformname': 'Sentinel-2',\n",
       "               'filename': 'S2A_MSIL1C_20200613T070631_N0209_R106_T38NPN_20200613T091735.SAFE',\n",
       "               'instrumentname': 'Multi-Spectral Instrument',\n",
       "               'instrumentshortname': 'MSI',\n",
       "               'size': '777.91 MB',\n",
       "               's2datatakeid': 'GS2A_20200613T070631_025986_N02.09',\n",
       "               'producttype': 'S2MSI1C',\n",
       "               'platformidentifier': '2015-028A',\n",
       "               'orbitdirection': 'DESCENDING',\n",
       "               'platformserialidentifier': 'Sentinel-2A',\n",
       "               'processinglevel': 'Level-1C',\n",
       "               'identifier': 'S2A_MSIL1C_20200613T070631_N0209_R106_T38NPN_20200613T091735',\n",
       "               'uuid': 'cb6e0cd7-8f84-4a7b-a683-6aea70e601a4',\n",
       "               'granuleidentifier': 'S2A_OPER_MSI_L1C_TL_MTI__20200613T091735_A025986_T38NPN_N02.09',\n",
       "               'datastripidentifier': 'S2A_OPER_MSI_L1C_DS_MTI__20200613T091735_S20200613T072223_N02.09'}),\n",
       "             ('5aa685d0-f26d-44bc-a38a-5ad018cc0e6b',\n",
       "              {'title': 'S2B_MSIL1C_20200608T070629_N0209_R106_T38NPN_20200608T100019',\n",
       "               'link': \"https://scihub.copernicus.eu/dhus/odata/v1/Products('5aa685d0-f26d-44bc-a38a-5ad018cc0e6b')/$value\",\n",
       "               'link_alternative': \"https://scihub.copernicus.eu/dhus/odata/v1/Products('5aa685d0-f26d-44bc-a38a-5ad018cc0e6b')/\",\n",
       "               'link_icon': \"https://scihub.copernicus.eu/dhus/odata/v1/Products('5aa685d0-f26d-44bc-a38a-5ad018cc0e6b')/Products('Quicklook')/$value\",\n",
       "               'summary': 'Date: 2020-06-08T07:06:29.024Z, Instrument: MSI, Satellite: Sentinel-2, Size: 675.93 MB',\n",
       "               'ondemand': 'false',\n",
       "               'datatakesensingstart': datetime.datetime(2020, 6, 8, 7, 6, 29, 24000),\n",
       "               'beginposition': datetime.datetime(2020, 6, 8, 7, 6, 29, 24000),\n",
       "               'endposition': datetime.datetime(2020, 6, 8, 7, 6, 29, 24000),\n",
       "               'ingestiondate': datetime.datetime(2020, 6, 8, 15, 27, 17, 624000),\n",
       "               'orbitnumber': 17006,\n",
       "               'relativeorbitnumber': 106,\n",
       "               'cloudcoverpercentage': 3.6781000000000006,\n",
       "               'sensoroperationalmode': 'INS-NOBS',\n",
       "               'gmlfootprint': '<gml:Polygon srsName=\"http://www.opengis.net/gml/srs/epsg.xml#4326\" xmlns:gml=\"http://www.opengis.net/gml\">\\n   <gml:outerBoundaryIs>\\n      <gml:LinearRing>\\n         <gml:coordinates>6.306408234146406,46.89649930873057 6.35271861552965,46.701550961800855 6.350418422790647,46.70103716515708 6.400458315878666,46.479357284163925 6.401533605552975,46.47959612855088 6.401543247319021,46.47955163795789 6.402639969030617,46.479794125406336 6.402678841067374,46.47961440070533 6.403095551146437,46.47970733728143 6.445786716666572,46.282314737790315 6.442874685305565,46.281666088840886 6.489631439977758,46.05848257267447 6.492939064090425,46.05921088552444 6.493007812610045,46.05885973680172 6.49307630595507,46.05887494484785 6.51418882814496,45.95067287558472 6.523231976818672,45.904482933987495 7.236926635409353,45.905806436571076 7.233863809027386,46.90010665686058 6.306408234146406,46.89649930873057</gml:coordinates>\\n      </gml:LinearRing>\\n   </gml:outerBoundaryIs>\\n</gml:Polygon>',\n",
       "               'footprint': 'MULTIPOLYGON (((46.89649930873057 6.306408234146406, 46.90010665686058 7.233863809027386, 45.905806436571076 7.236926635409353, 45.904482933987495 6.523231976818672, 45.95067287558472 6.51418882814496, 46.05887494484785 6.49307630595507, 46.05885973680172 6.493007812610045, 46.05921088552444 6.492939064090425, 46.05848257267447 6.489631439977758, 46.281666088840886 6.442874685305565, 46.282314737790315 6.445786716666572, 46.47970733728143 6.403095551146437, 46.47961440070533 6.402678841067374, 46.479794125406336 6.402639969030617, 46.47955163795789 6.401543247319021, 46.47959612855088 6.401533605552975, 46.479357284163925 6.400458315878666, 46.70103716515708 6.350418422790647, 46.701550961800855 6.35271861552965, 46.89649930873057 6.306408234146406)))',\n",
       "               'level1cpdiidentifier': 'S2B_OPER_MSI_L1C_TL_EPAE_20200608T100019_A017006_T38NPN_N02.09',\n",
       "               'tileid': '38NPN',\n",
       "               'hv_order_tileid': 'NN38P',\n",
       "               'format': 'SAFE',\n",
       "               'processingbaseline': '02.09',\n",
       "               'platformname': 'Sentinel-2',\n",
       "               'filename': 'S2B_MSIL1C_20200608T070629_N0209_R106_T38NPN_20200608T100019.SAFE',\n",
       "               'instrumentname': 'Multi-Spectral Instrument',\n",
       "               'instrumentshortname': 'MSI',\n",
       "               'size': '675.93 MB',\n",
       "               's2datatakeid': 'GS2B_20200608T070629_017006_N02.09',\n",
       "               'producttype': 'S2MSI1C',\n",
       "               'platformidentifier': '2017-013A',\n",
       "               'orbitdirection': 'DESCENDING',\n",
       "               'platformserialidentifier': 'Sentinel-2B',\n",
       "               'processinglevel': 'Level-1C',\n",
       "               'identifier': 'S2B_MSIL1C_20200608T070629_N0209_R106_T38NPN_20200608T100019',\n",
       "               'uuid': '5aa685d0-f26d-44bc-a38a-5ad018cc0e6b',\n",
       "               'granuleidentifier': 'S2B_OPER_MSI_L1C_TL_EPAE_20200608T100019_A017006_T38NPN_N02.09',\n",
       "               'datastripidentifier': 'S2B_OPER_MSI_L1C_DS_EPAE_20200608T100019_S20200608T071521_N02.09'}),\n",
       "             ('df3640cf-af1a-4c20-8311-33d3d4d315e6',\n",
       "              {'title': 'S2B_MSIL1C_20200608T070629_N0209_R106_T38NPN_20200608T104224',\n",
       "               'link': \"https://scihub.copernicus.eu/dhus/odata/v1/Products('df3640cf-af1a-4c20-8311-33d3d4d315e6')/$value\",\n",
       "               'link_alternative': \"https://scihub.copernicus.eu/dhus/odata/v1/Products('df3640cf-af1a-4c20-8311-33d3d4d315e6')/\",\n",
       "               'link_icon': \"https://scihub.copernicus.eu/dhus/odata/v1/Products('df3640cf-af1a-4c20-8311-33d3d4d315e6')/Products('Quicklook')/$value\",\n",
       "               'summary': 'Date: 2020-06-08T07:06:29.024Z, Instrument: MSI, Satellite: Sentinel-2, Size: 297.39 MB',\n",
       "               'ondemand': 'false',\n",
       "               'datatakesensingstart': datetime.datetime(2020, 6, 8, 7, 6, 29, 24000),\n",
       "               'beginposition': datetime.datetime(2020, 6, 8, 7, 6, 29, 24000),\n",
       "               'endposition': datetime.datetime(2020, 6, 8, 7, 6, 29, 24000),\n",
       "               'ingestiondate': datetime.datetime(2020, 6, 8, 13, 52, 40, 364000),\n",
       "               'orbitnumber': 17006,\n",
       "               'relativeorbitnumber': 106,\n",
       "               'cloudcoverpercentage': 1.3255,\n",
       "               'sensoroperationalmode': 'INS-NOBS',\n",
       "               'gmlfootprint': '<gml:Polygon srsName=\"http://www.opengis.net/gml/srs/epsg.xml#4326\" xmlns:gml=\"http://www.opengis.net/gml\">\\n   <gml:outerBoundaryIs>\\n      <gml:LinearRing>\\n         <gml:coordinates>6.699698238940489,45.90481017975152 6.659600439979952,46.10751213265064 6.656617175520088,46.10685202031932 6.65658986487433,46.10698184469042 6.656075620426401,46.10686813342124 6.614225322380928,46.30598127525544 6.614424664106346,46.30602542137587 6.614417821814525,46.30605799155831 6.614692456941754,46.306118771579136 6.614624306053497,46.30644322267965 6.615412118212282,46.30661759576505 6.615406756663988,46.30664316983064 6.616161978500858,46.30681053804819 6.616127167624264,46.306976737373056 6.617724565535059,46.30733058151549 6.569482716902387,46.52986522739268 6.565597144565286,46.529002592419566 6.520994532036308,46.72668156796395 6.521956537996131,46.726895468098654 6.521911309503157,46.72709590515781 6.524672378585523,46.72770905157566 6.495979539777754,46.84934977811652 6.484658625176187,46.897192615485274 6.241154881060901,46.89624550513328 6.243793923572233,45.90396473340834 6.699698238940489,45.90481017975152</gml:coordinates>\\n      </gml:LinearRing>\\n   </gml:outerBoundaryIs>\\n</gml:Polygon>',\n",
       "               'footprint': 'MULTIPOLYGON (((46.89624550513328 6.241154881060901, 46.897192615485274 6.484658625176187, 46.84934977811652 6.495979539777754, 46.72770905157566 6.524672378585523, 46.72709590515781 6.521911309503157, 46.726895468098654 6.521956537996131, 46.72668156796395 6.520994532036308, 46.529002592419566 6.565597144565286, 46.52986522739268 6.569482716902387, 46.30733058151549 6.617724565535059, 46.306976737373056 6.616127167624264, 46.30681053804819 6.616161978500858, 46.30664316983064 6.615406756663988, 46.30661759576505 6.615412118212282, 46.30644322267965 6.614624306053497, 46.306118771579136 6.614692456941754, 46.30605799155831 6.614417821814525, 46.30602542137587 6.614424664106346, 46.30598127525544 6.614225322380928, 46.10686813342124 6.656075620426401, 46.10698184469042 6.65658986487433, 46.10685202031932 6.656617175520088, 46.10751213265064 6.659600439979952, 45.90481017975152 6.699698238940489, 45.90396473340834 6.243793923572233, 46.89624550513328 6.241154881060901)))',\n",
       "               'level1cpdiidentifier': 'S2B_OPER_MSI_L1C_TL_SGS__20200608T104224_A017006_T38NPN_N02.09',\n",
       "               'tileid': '38NPN',\n",
       "               'hv_order_tileid': 'NN38P',\n",
       "               'format': 'SAFE',\n",
       "               'processingbaseline': '02.09',\n",
       "               'platformname': 'Sentinel-2',\n",
       "               'filename': 'S2B_MSIL1C_20200608T070629_N0209_R106_T38NPN_20200608T104224.SAFE',\n",
       "               'instrumentname': 'Multi-Spectral Instrument',\n",
       "               'instrumentshortname': 'MSI',\n",
       "               'size': '297.39 MB',\n",
       "               's2datatakeid': 'GS2B_20200608T070629_017006_N02.09',\n",
       "               'producttype': 'S2MSI1C',\n",
       "               'platformidentifier': '2017-013A',\n",
       "               'orbitdirection': 'DESCENDING',\n",
       "               'platformserialidentifier': 'Sentinel-2B',\n",
       "               'processinglevel': 'Level-1C',\n",
       "               'identifier': 'S2B_MSIL1C_20200608T070629_N0209_R106_T38NPN_20200608T104224',\n",
       "               'uuid': 'df3640cf-af1a-4c20-8311-33d3d4d315e6',\n",
       "               'granuleidentifier': 'S2B_OPER_MSI_L1C_TL_SGS__20200608T104224_A017006_T38NPN_N02.09',\n",
       "               'datastripidentifier': 'S2B_OPER_MSI_L1C_DS_SGS__20200608T104224_S20200608T072755_N02.09'}),\n",
       "             ('3f515f50-ce75-432d-8dcd-36d7d747a5c3',\n",
       "              {'title': 'S2A_MSIL1C_20200603T070631_N0209_R106_T38NPN_20200603T110602',\n",
       "               'link': \"https://scihub.copernicus.eu/dhus/odata/v1/Products('3f515f50-ce75-432d-8dcd-36d7d747a5c3')/$value\",\n",
       "               'link_alternative': \"https://scihub.copernicus.eu/dhus/odata/v1/Products('3f515f50-ce75-432d-8dcd-36d7d747a5c3')/\",\n",
       "               'link_icon': \"https://scihub.copernicus.eu/dhus/odata/v1/Products('3f515f50-ce75-432d-8dcd-36d7d747a5c3')/Products('Quicklook')/$value\",\n",
       "               'summary': 'Date: 2020-06-03T07:06:31.024Z, Instrument: MSI, Satellite: Sentinel-2, Size: 802.16 MB',\n",
       "               'ondemand': 'false',\n",
       "               'datatakesensingstart': datetime.datetime(2020, 6, 3, 7, 6, 31, 24000),\n",
       "               'beginposition': datetime.datetime(2020, 6, 3, 7, 6, 31, 24000),\n",
       "               'endposition': datetime.datetime(2020, 6, 3, 7, 6, 31, 24000),\n",
       "               'ingestiondate': datetime.datetime(2020, 6, 3, 14, 31, 38, 147000),\n",
       "               'orbitnumber': 25843,\n",
       "               'relativeorbitnumber': 106,\n",
       "               'cloudcoverpercentage': 35.4786,\n",
       "               'sensoroperationalmode': 'INS-NOBS',\n",
       "               'gmlfootprint': '<gml:Polygon srsName=\"http://www.opengis.net/gml/srs/epsg.xml#4326\" xmlns:gml=\"http://www.opengis.net/gml\">\\n   <gml:outerBoundaryIs>\\n      <gml:LinearRing>\\n         <gml:coordinates>7.236926635409353,45.905806436571076 7.233863809027386,46.90010665686058 6.241154881060901,46.89624550513328 6.243793923572233,45.90396473340834 7.236926635409353,45.905806436571076</gml:coordinates>\\n      </gml:LinearRing>\\n   </gml:outerBoundaryIs>\\n</gml:Polygon>',\n",
       "               'footprint': 'MULTIPOLYGON (((46.89624550513328 6.241154881060901, 46.90010665686058 7.233863809027386, 45.905806436571076 7.236926635409353, 45.90396473340834 6.243793923572233, 46.89624550513328 6.241154881060901)))',\n",
       "               'level1cpdiidentifier': 'S2A_OPER_MSI_L1C_TL_MTI__20200603T110602_A025843_T38NPN_N02.09',\n",
       "               'tileid': '38NPN',\n",
       "               'hv_order_tileid': 'NN38P',\n",
       "               'format': 'SAFE',\n",
       "               'processingbaseline': '02.09',\n",
       "               'platformname': 'Sentinel-2',\n",
       "               'filename': 'S2A_MSIL1C_20200603T070631_N0209_R106_T38NPN_20200603T110602.SAFE',\n",
       "               'instrumentname': 'Multi-Spectral Instrument',\n",
       "               'instrumentshortname': 'MSI',\n",
       "               'size': '802.16 MB',\n",
       "               's2datatakeid': 'GS2A_20200603T070631_025843_N02.09',\n",
       "               'producttype': 'S2MSI1C',\n",
       "               'platformidentifier': '2015-028A',\n",
       "               'orbitdirection': 'DESCENDING',\n",
       "               'platformserialidentifier': 'Sentinel-2A',\n",
       "               'processinglevel': 'Level-1C',\n",
       "               'identifier': 'S2A_MSIL1C_20200603T070631_N0209_R106_T38NPN_20200603T110602',\n",
       "               'uuid': '3f515f50-ce75-432d-8dcd-36d7d747a5c3',\n",
       "               'granuleidentifier': 'S2A_OPER_MSI_L1C_TL_MTI__20200603T110602_A025843_T38NPN_N02.09',\n",
       "               'datastripidentifier': 'S2A_OPER_MSI_L1C_DS_MTI__20200603T110602_S20200603T072429_N02.09'})])"
      ]
     },
     "execution_count": 44,
     "metadata": {},
     "output_type": "execute_result"
    }
   ],
   "source": [
    "products"
   ]
  },
  {
   "cell_type": "markdown",
   "id": "a057959c-8648-4ec3-a4d4-6dd275d573da",
   "metadata": {},
   "source": [
    "### Unzip files "
   ]
  },
  {
   "cell_type": "code",
   "execution_count": 172,
   "id": "d236db7c-bde2-4e3a-866d-50f57e551828",
   "metadata": {},
   "outputs": [],
   "source": [
    "import os\n",
    "import subprocess\n",
    "\n",
    "path_7zip = r\"C:\\Program Files\\7-Zip\\7z.exe\"\n",
    "path_working = r\"C:\\Users\\lida\\Downloads\"\n",
    "outfile_name = \"S2A_MSIL1C_20210810T053641_N0301_R005_T43SFR_20210810T065217.zip\"\n",
    "os.chdir(path_working)\n",
    "\n",
    "ret = subprocess.check_output([path_7zip, \"a\", \"-tzip\", outfile_name, \"*.txt\", \"*.py\", \"-pSECRET\"])"
   ]
  },
  {
   "cell_type": "code",
   "execution_count": 173,
   "id": "e4e676af-ba4f-4116-9315-aa27aeb0906c",
   "metadata": {},
   "outputs": [
    {
     "ename": "NameError",
     "evalue": "name 'tqdm' is not defined",
     "output_type": "error",
     "traceback": [
      "\u001b[1;31m---------------------------------------------------------------------------\u001b[0m",
      "\u001b[1;31mNameError\u001b[0m                                 Traceback (most recent call last)",
      "\u001b[1;32m<timed exec>\u001b[0m in \u001b[0;36m<module>\u001b[1;34m\u001b[0m\n",
      "\u001b[1;31mNameError\u001b[0m: name 'tqdm' is not defined"
     ]
    }
   ],
   "source": [
    "%%time\n",
    "import zipfile\n",
    "import time\n",
    "zf = zipfile.ZipFile('C:/Users/lida/Downloads/S2A_MSIL1C_20210512T053641_N0300_R005_T43SFR_20210512T081347.zip')\n",
    "for file in tqdm(zf.infolist()):\n",
    "    zf.extract(file)"
   ]
  },
  {
   "cell_type": "code",
   "execution_count": 183,
   "id": "269a4f04-ddd6-430d-b5fd-e8602c4babeb",
   "metadata": {},
   "outputs": [
    {
     "name": "stdout",
     "output_type": "stream",
     "text": [
      "Wall time: 907 ms\n"
     ]
    }
   ],
   "source": [
    "%%time\n",
    "import zipfile\n",
    "import concurrent.futures\n",
    "zf = zipfile.ZipFile('C:/Users/lida/Downloads/TRBAM-22-04574.zip')\n",
    "def unzip(file):\n",
    "    zf.extract(file, path='C:/Users/lida/Downloads/TRBAM-22-04574/')\n",
    "with concurrent.futures.ProcessPoolExecutor() as executor:\n",
    "    executor.map(unzip, zf.infolist())"
   ]
  },
  {
   "cell_type": "code",
   "execution_count": 182,
   "id": "5f35a7d3-a41e-48ac-b525-0159c8dc7415",
   "metadata": {},
   "outputs": [
    {
     "ename": "FileNotFoundError",
     "evalue": "[WinError 2] The system cannot find the file specified",
     "output_type": "error",
     "traceback": [
      "\u001b[1;31m---------------------------------------------------------------------------\u001b[0m",
      "\u001b[1;31mFileNotFoundError\u001b[0m                         Traceback (most recent call last)",
      "\u001b[1;32m~\\AppData\\Local\\Temp/ipykernel_15848/3257458012.py\u001b[0m in \u001b[0;36m<module>\u001b[1;34m\u001b[0m\n\u001b[0;32m      1\u001b[0m \u001b[1;32mimport\u001b[0m \u001b[0msubprocess\u001b[0m\u001b[1;33m;\u001b[0m\u001b[1;33m\u001b[0m\u001b[1;33m\u001b[0m\u001b[0m\n\u001b[1;32m----> 2\u001b[1;33m \u001b[0msubprocess\u001b[0m\u001b[1;33m.\u001b[0m\u001b[0mcall\u001b[0m\u001b[1;33m(\u001b[0m\u001b[1;33m[\u001b[0m\u001b[1;34m'7z'\u001b[0m\u001b[1;33m,\u001b[0m \u001b[1;34m'a'\u001b[0m\u001b[1;33m,\u001b[0m \u001b[1;34m'C:/Users/lida/Downloads/TRBAM-22-04574.zip'\u001b[0m\u001b[1;33m,\u001b[0m \u001b[1;34m'paper'\u001b[0m\u001b[1;33m]\u001b[0m\u001b[1;33m)\u001b[0m\u001b[1;33m\u001b[0m\u001b[1;33m\u001b[0m\u001b[0m\n\u001b[0m",
      "\u001b[1;32m~\\Anaconda3\\envs\\ml4sat\\lib\\subprocess.py\u001b[0m in \u001b[0;36mcall\u001b[1;34m(timeout, *popenargs, **kwargs)\u001b[0m\n\u001b[0;32m    347\u001b[0m     \u001b[0mretcode\u001b[0m \u001b[1;33m=\u001b[0m \u001b[0mcall\u001b[0m\u001b[1;33m(\u001b[0m\u001b[1;33m[\u001b[0m\u001b[1;34m\"ls\"\u001b[0m\u001b[1;33m,\u001b[0m \u001b[1;34m\"-l\"\u001b[0m\u001b[1;33m]\u001b[0m\u001b[1;33m)\u001b[0m\u001b[1;33m\u001b[0m\u001b[1;33m\u001b[0m\u001b[0m\n\u001b[0;32m    348\u001b[0m     \"\"\"\n\u001b[1;32m--> 349\u001b[1;33m     \u001b[1;32mwith\u001b[0m \u001b[0mPopen\u001b[0m\u001b[1;33m(\u001b[0m\u001b[1;33m*\u001b[0m\u001b[0mpopenargs\u001b[0m\u001b[1;33m,\u001b[0m \u001b[1;33m**\u001b[0m\u001b[0mkwargs\u001b[0m\u001b[1;33m)\u001b[0m \u001b[1;32mas\u001b[0m \u001b[0mp\u001b[0m\u001b[1;33m:\u001b[0m\u001b[1;33m\u001b[0m\u001b[1;33m\u001b[0m\u001b[0m\n\u001b[0m\u001b[0;32m    350\u001b[0m         \u001b[1;32mtry\u001b[0m\u001b[1;33m:\u001b[0m\u001b[1;33m\u001b[0m\u001b[1;33m\u001b[0m\u001b[0m\n\u001b[0;32m    351\u001b[0m             \u001b[1;32mreturn\u001b[0m \u001b[0mp\u001b[0m\u001b[1;33m.\u001b[0m\u001b[0mwait\u001b[0m\u001b[1;33m(\u001b[0m\u001b[0mtimeout\u001b[0m\u001b[1;33m=\u001b[0m\u001b[0mtimeout\u001b[0m\u001b[1;33m)\u001b[0m\u001b[1;33m\u001b[0m\u001b[1;33m\u001b[0m\u001b[0m\n",
      "\u001b[1;32m~\\Anaconda3\\envs\\ml4sat\\lib\\subprocess.py\u001b[0m in \u001b[0;36m__init__\u001b[1;34m(self, args, bufsize, executable, stdin, stdout, stderr, preexec_fn, close_fds, shell, cwd, env, universal_newlines, startupinfo, creationflags, restore_signals, start_new_session, pass_fds, user, group, extra_groups, encoding, errors, text, umask)\u001b[0m\n\u001b[0;32m    949\u001b[0m                             encoding=encoding, errors=errors)\n\u001b[0;32m    950\u001b[0m \u001b[1;33m\u001b[0m\u001b[0m\n\u001b[1;32m--> 951\u001b[1;33m             self._execute_child(args, executable, preexec_fn, close_fds,\n\u001b[0m\u001b[0;32m    952\u001b[0m                                 \u001b[0mpass_fds\u001b[0m\u001b[1;33m,\u001b[0m \u001b[0mcwd\u001b[0m\u001b[1;33m,\u001b[0m \u001b[0menv\u001b[0m\u001b[1;33m,\u001b[0m\u001b[1;33m\u001b[0m\u001b[1;33m\u001b[0m\u001b[0m\n\u001b[0;32m    953\u001b[0m                                 \u001b[0mstartupinfo\u001b[0m\u001b[1;33m,\u001b[0m \u001b[0mcreationflags\u001b[0m\u001b[1;33m,\u001b[0m \u001b[0mshell\u001b[0m\u001b[1;33m,\u001b[0m\u001b[1;33m\u001b[0m\u001b[1;33m\u001b[0m\u001b[0m\n",
      "\u001b[1;32m~\\Anaconda3\\envs\\ml4sat\\lib\\subprocess.py\u001b[0m in \u001b[0;36m_execute_child\u001b[1;34m(self, args, executable, preexec_fn, close_fds, pass_fds, cwd, env, startupinfo, creationflags, shell, p2cread, p2cwrite, c2pread, c2pwrite, errread, errwrite, unused_restore_signals, unused_gid, unused_gids, unused_uid, unused_umask, unused_start_new_session)\u001b[0m\n\u001b[0;32m   1418\u001b[0m             \u001b[1;31m# Start the process\u001b[0m\u001b[1;33m\u001b[0m\u001b[1;33m\u001b[0m\u001b[1;33m\u001b[0m\u001b[0m\n\u001b[0;32m   1419\u001b[0m             \u001b[1;32mtry\u001b[0m\u001b[1;33m:\u001b[0m\u001b[1;33m\u001b[0m\u001b[1;33m\u001b[0m\u001b[0m\n\u001b[1;32m-> 1420\u001b[1;33m                 hp, ht, pid, tid = _winapi.CreateProcess(executable, args,\n\u001b[0m\u001b[0;32m   1421\u001b[0m                                          \u001b[1;31m# no special security\u001b[0m\u001b[1;33m\u001b[0m\u001b[1;33m\u001b[0m\u001b[1;33m\u001b[0m\u001b[0m\n\u001b[0;32m   1422\u001b[0m                                          \u001b[1;32mNone\u001b[0m\u001b[1;33m,\u001b[0m \u001b[1;32mNone\u001b[0m\u001b[1;33m,\u001b[0m\u001b[1;33m\u001b[0m\u001b[1;33m\u001b[0m\u001b[0m\n",
      "\u001b[1;31mFileNotFoundError\u001b[0m: [WinError 2] The system cannot find the file specified"
     ]
    }
   ],
   "source": [
    "import subprocess; \n",
    "subprocess.call(['7z', 'a', 'C:/Users/lida/Downloads/TRBAM-22-04574.zip', 'paper'])"
   ]
  },
  {
   "cell_type": "code",
   "execution_count": 184,
   "id": "e7de9052-5325-49c7-bb61-cc127fd0f259",
   "metadata": {},
   "outputs": [],
   "source": [
    "def _count_file(fn):\n",
    "    with open(fn, 'rb') as f:\n",
    "        return _count_file_object(f)\n",
    "\n",
    "def _count_file_object(f):\n",
    "    # Note that this iterates on 'f'.\n",
    "    # You *could* do 'return len(f.read())'\n",
    "    # which would be faster but potentially memory \n",
    "    # inefficient and unrealistic in terms of this \n",
    "    # benchmark experiment. \n",
    "    total = 0\n",
    "    for line in f:\n",
    "        total += len(line)\n",
    "    return total\n",
    "\n",
    "def unzip_member_f3(zip_filepath, filename, dest):\n",
    "    with open(zip_filepath, 'rb') as f:\n",
    "        zf = zipfile.ZipFile(f)\n",
    "        zf.extract(filename, dest)\n",
    "    fn = os.path.join(dest, filename)\n",
    "    return _count_file(fn)\n",
    "\n",
    "\n",
    "def f3(fn, dest):\n",
    "    with open(fn, 'rb') as f:\n",
    "        zf = zipfile.ZipFile(f)\n",
    "        futures = []\n",
    "        with concurrent.futures.ProcessPoolExecutor() as executor:\n",
    "            for member in zf.infolist():\n",
    "                futures.append(\n",
    "                    executor.submit(\n",
    "                        unzip_member_f3,\n",
    "                        fn,\n",
    "                        member.filename,\n",
    "                        dest,\n",
    "                    )\n",
    "                )\n",
    "            total = 0\n",
    "            for future in concurrent.futures.as_completed(futures):\n",
    "                total += future.result()\n",
    "    return total"
   ]
  },
  {
   "cell_type": "code",
   "execution_count": 185,
   "id": "a05af2f3-ef8f-4931-acf4-d5311cebaccc",
   "metadata": {},
   "outputs": [
    {
     "ename": "BrokenProcessPool",
     "evalue": "A process in the process pool was terminated abruptly while the future was running or pending.",
     "output_type": "error",
     "traceback": [
      "\u001b[1;31m---------------------------------------------------------------------------\u001b[0m",
      "\u001b[1;31mBrokenProcessPool\u001b[0m                         Traceback (most recent call last)",
      "\u001b[1;32m~\\AppData\\Local\\Temp/ipykernel_15848/3593573641.py\u001b[0m in \u001b[0;36m<module>\u001b[1;34m\u001b[0m\n\u001b[1;32m----> 1\u001b[1;33m \u001b[0mf3\u001b[0m\u001b[1;33m(\u001b[0m\u001b[1;34m'C:/Users/lida/Downloads/TRBAM-22-04574.zip'\u001b[0m\u001b[1;33m,\u001b[0m \u001b[1;34m'C:/Users/lida/Downloads/'\u001b[0m\u001b[1;33m)\u001b[0m\u001b[1;33m\u001b[0m\u001b[1;33m\u001b[0m\u001b[0m\n\u001b[0m",
      "\u001b[1;32m~\\AppData\\Local\\Temp/ipykernel_15848/1055430541.py\u001b[0m in \u001b[0;36mf3\u001b[1;34m(fn, dest)\u001b[0m\n\u001b[0;32m     38\u001b[0m             \u001b[0mtotal\u001b[0m \u001b[1;33m=\u001b[0m \u001b[1;36m0\u001b[0m\u001b[1;33m\u001b[0m\u001b[1;33m\u001b[0m\u001b[0m\n\u001b[0;32m     39\u001b[0m             \u001b[1;32mfor\u001b[0m \u001b[0mfuture\u001b[0m \u001b[1;32min\u001b[0m \u001b[0mconcurrent\u001b[0m\u001b[1;33m.\u001b[0m\u001b[0mfutures\u001b[0m\u001b[1;33m.\u001b[0m\u001b[0mas_completed\u001b[0m\u001b[1;33m(\u001b[0m\u001b[0mfutures\u001b[0m\u001b[1;33m)\u001b[0m\u001b[1;33m:\u001b[0m\u001b[1;33m\u001b[0m\u001b[1;33m\u001b[0m\u001b[0m\n\u001b[1;32m---> 40\u001b[1;33m                 \u001b[0mtotal\u001b[0m \u001b[1;33m+=\u001b[0m \u001b[0mfuture\u001b[0m\u001b[1;33m.\u001b[0m\u001b[0mresult\u001b[0m\u001b[1;33m(\u001b[0m\u001b[1;33m)\u001b[0m\u001b[1;33m\u001b[0m\u001b[1;33m\u001b[0m\u001b[0m\n\u001b[0m\u001b[0;32m     41\u001b[0m     \u001b[1;32mreturn\u001b[0m \u001b[0mtotal\u001b[0m\u001b[1;33m\u001b[0m\u001b[1;33m\u001b[0m\u001b[0m\n",
      "\u001b[1;32m~\\Anaconda3\\envs\\ml4sat\\lib\\concurrent\\futures\\_base.py\u001b[0m in \u001b[0;36mresult\u001b[1;34m(self, timeout)\u001b[0m\n\u001b[0;32m    436\u001b[0m                     \u001b[1;32mraise\u001b[0m \u001b[0mCancelledError\u001b[0m\u001b[1;33m(\u001b[0m\u001b[1;33m)\u001b[0m\u001b[1;33m\u001b[0m\u001b[1;33m\u001b[0m\u001b[0m\n\u001b[0;32m    437\u001b[0m                 \u001b[1;32melif\u001b[0m \u001b[0mself\u001b[0m\u001b[1;33m.\u001b[0m\u001b[0m_state\u001b[0m \u001b[1;33m==\u001b[0m \u001b[0mFINISHED\u001b[0m\u001b[1;33m:\u001b[0m\u001b[1;33m\u001b[0m\u001b[1;33m\u001b[0m\u001b[0m\n\u001b[1;32m--> 438\u001b[1;33m                     \u001b[1;32mreturn\u001b[0m \u001b[0mself\u001b[0m\u001b[1;33m.\u001b[0m\u001b[0m__get_result\u001b[0m\u001b[1;33m(\u001b[0m\u001b[1;33m)\u001b[0m\u001b[1;33m\u001b[0m\u001b[1;33m\u001b[0m\u001b[0m\n\u001b[0m\u001b[0;32m    439\u001b[0m \u001b[1;33m\u001b[0m\u001b[0m\n\u001b[0;32m    440\u001b[0m                 \u001b[0mself\u001b[0m\u001b[1;33m.\u001b[0m\u001b[0m_condition\u001b[0m\u001b[1;33m.\u001b[0m\u001b[0mwait\u001b[0m\u001b[1;33m(\u001b[0m\u001b[0mtimeout\u001b[0m\u001b[1;33m)\u001b[0m\u001b[1;33m\u001b[0m\u001b[1;33m\u001b[0m\u001b[0m\n",
      "\u001b[1;32m~\\Anaconda3\\envs\\ml4sat\\lib\\concurrent\\futures\\_base.py\u001b[0m in \u001b[0;36m__get_result\u001b[1;34m(self)\u001b[0m\n\u001b[0;32m    388\u001b[0m         \u001b[1;32mif\u001b[0m \u001b[0mself\u001b[0m\u001b[1;33m.\u001b[0m\u001b[0m_exception\u001b[0m\u001b[1;33m:\u001b[0m\u001b[1;33m\u001b[0m\u001b[1;33m\u001b[0m\u001b[0m\n\u001b[0;32m    389\u001b[0m             \u001b[1;32mtry\u001b[0m\u001b[1;33m:\u001b[0m\u001b[1;33m\u001b[0m\u001b[1;33m\u001b[0m\u001b[0m\n\u001b[1;32m--> 390\u001b[1;33m                 \u001b[1;32mraise\u001b[0m \u001b[0mself\u001b[0m\u001b[1;33m.\u001b[0m\u001b[0m_exception\u001b[0m\u001b[1;33m\u001b[0m\u001b[1;33m\u001b[0m\u001b[0m\n\u001b[0m\u001b[0;32m    391\u001b[0m             \u001b[1;32mfinally\u001b[0m\u001b[1;33m:\u001b[0m\u001b[1;33m\u001b[0m\u001b[1;33m\u001b[0m\u001b[0m\n\u001b[0;32m    392\u001b[0m                 \u001b[1;31m# Break a reference cycle with the exception in self._exception\u001b[0m\u001b[1;33m\u001b[0m\u001b[1;33m\u001b[0m\u001b[1;33m\u001b[0m\u001b[0m\n",
      "\u001b[1;31mBrokenProcessPool\u001b[0m: A process in the process pool was terminated abruptly while the future was running or pending."
     ]
    }
   ],
   "source": [
    "f3('C:/Users/lida/Downloads/TRBAM-22-04574.zip', 'C:/Users/lida/Downloads/')"
   ]
  },
  {
   "cell_type": "code",
   "execution_count": null,
   "id": "62ee3dad-34f6-4b90-97fa-dac39de0f349",
   "metadata": {},
   "outputs": [],
   "source": []
  },
  {
   "cell_type": "code",
   "execution_count": null,
   "id": "a0779af2-67f3-4e7b-9846-7a86fb4df7cb",
   "metadata": {},
   "outputs": [],
   "source": []
  },
  {
   "cell_type": "markdown",
   "id": "883c147f-1b5e-40ae-88db-5714c7d97e9f",
   "metadata": {
    "tags": []
   },
   "source": [
    "### load image"
   ]
  },
  {
   "cell_type": "code",
   "execution_count": 11,
   "id": "3c23cea0-c054-4dd4-af5d-caf633d27418",
   "metadata": {},
   "outputs": [],
   "source": [
    "import rasterio"
   ]
  },
  {
   "cell_type": "code",
   "execution_count": 19,
   "id": "94a7beec-77c6-420a-9bd8-9699020c1084",
   "metadata": {},
   "outputs": [],
   "source": [
    "# Open Bands 4, 3 and 2 with Rasterio\n",
    "path = 'N:/dataorg-datasets/sentinel2_images/images_danya/raw/'\n",
    "R10 = path + 'S2A_MSIL1C_20210512T053641_N0300_R005_T43SFR_20210512T081347.SAFE/GRANULE/L1C_T43SFR_A030747_20210512T053641/IMG_DATA'\n",
    "b4 = rasterio.open(R10+'/T43SFR_20210512T053641_B04.jp2')\n",
    "b3 = rasterio.open(R10+'/T43SFR_20210512T053641_B03.jp2')\n",
    "b2 = rasterio.open(R10+'/T43SFR_20210512T053641_B02.jp2')"
   ]
  },
  {
   "cell_type": "code",
   "execution_count": 20,
   "id": "2cf639b1-6b4c-47e5-8bac-5c894a9cf14a",
   "metadata": {},
   "outputs": [],
   "source": [
    "# Create an RGB image \n",
    "with rasterio.open('RGB.tiff','w',driver='Gtiff', width=b4.width, height=b4.height, \n",
    "              count=3,crs=b4.crs,transform=b4.transform, dtype=b4.dtypes[0]) as rgb:\n",
    "    rgb.write(b2.read(1),1) \n",
    "    rgb.write(b3.read(1),2) \n",
    "    rgb.write(b4.read(1),3) \n",
    "    rgb.close()"
   ]
  },
  {
   "cell_type": "code",
   "execution_count": 23,
   "id": "2b75248a-4b85-4912-97b7-82e0d24b6b27",
   "metadata": {},
   "outputs": [],
   "source": [
    "import matplotlib.pyplot as plt"
   ]
  },
  {
   "cell_type": "code",
   "execution_count": 25,
   "id": "da459ce5-9f5e-4c4e-8d02-4829d1d817f0",
   "metadata": {},
   "outputs": [
    {
     "ename": "UnidentifiedImageError",
     "evalue": "cannot identify image file 'RGB.tiff'",
     "output_type": "error",
     "traceback": [
      "\u001b[1;31m---------------------------------------------------------------------------\u001b[0m",
      "\u001b[1;31mUnidentifiedImageError\u001b[0m                    Traceback (most recent call last)",
      "\u001b[1;32m~\\AppData\\Local\\Temp/ipykernel_5488/3769045750.py\u001b[0m in \u001b[0;36m<module>\u001b[1;34m\u001b[0m\n\u001b[1;32m----> 1\u001b[1;33m \u001b[0mimg\u001b[0m \u001b[1;33m=\u001b[0m \u001b[0mplt\u001b[0m\u001b[1;33m.\u001b[0m\u001b[0mimread\u001b[0m\u001b[1;33m(\u001b[0m\u001b[1;34m'RGB.tiff'\u001b[0m\u001b[1;33m)\u001b[0m\u001b[1;33m\u001b[0m\u001b[1;33m\u001b[0m\u001b[0m\n\u001b[0m\u001b[0;32m      2\u001b[0m \u001b[0mplt\u001b[0m\u001b[1;33m.\u001b[0m\u001b[0mimshow\u001b[0m\u001b[1;33m(\u001b[0m\u001b[0mimg\u001b[0m\u001b[1;33m)\u001b[0m\u001b[1;33m\u001b[0m\u001b[1;33m\u001b[0m\u001b[0m\n",
      "\u001b[1;32m~\\Anaconda3\\envs\\ml4sat\\lib\\site-packages\\matplotlib\\pyplot.py\u001b[0m in \u001b[0;36mimread\u001b[1;34m(fname, format)\u001b[0m\n\u001b[0;32m   2405\u001b[0m \u001b[1;33m@\u001b[0m\u001b[0m_copy_docstring_and_deprecators\u001b[0m\u001b[1;33m(\u001b[0m\u001b[0mmatplotlib\u001b[0m\u001b[1;33m.\u001b[0m\u001b[0mimage\u001b[0m\u001b[1;33m.\u001b[0m\u001b[0mimread\u001b[0m\u001b[1;33m)\u001b[0m\u001b[1;33m\u001b[0m\u001b[1;33m\u001b[0m\u001b[0m\n\u001b[0;32m   2406\u001b[0m \u001b[1;32mdef\u001b[0m \u001b[0mimread\u001b[0m\u001b[1;33m(\u001b[0m\u001b[0mfname\u001b[0m\u001b[1;33m,\u001b[0m \u001b[0mformat\u001b[0m\u001b[1;33m=\u001b[0m\u001b[1;32mNone\u001b[0m\u001b[1;33m)\u001b[0m\u001b[1;33m:\u001b[0m\u001b[1;33m\u001b[0m\u001b[1;33m\u001b[0m\u001b[0m\n\u001b[1;32m-> 2407\u001b[1;33m     \u001b[1;32mreturn\u001b[0m \u001b[0mmatplotlib\u001b[0m\u001b[1;33m.\u001b[0m\u001b[0mimage\u001b[0m\u001b[1;33m.\u001b[0m\u001b[0mimread\u001b[0m\u001b[1;33m(\u001b[0m\u001b[0mfname\u001b[0m\u001b[1;33m,\u001b[0m \u001b[0mformat\u001b[0m\u001b[1;33m)\u001b[0m\u001b[1;33m\u001b[0m\u001b[1;33m\u001b[0m\u001b[0m\n\u001b[0m\u001b[0;32m   2408\u001b[0m \u001b[1;33m\u001b[0m\u001b[0m\n\u001b[0;32m   2409\u001b[0m \u001b[1;33m\u001b[0m\u001b[0m\n",
      "\u001b[1;32m~\\Anaconda3\\envs\\ml4sat\\lib\\site-packages\\matplotlib\\image.py\u001b[0m in \u001b[0;36mimread\u001b[1;34m(fname, format)\u001b[0m\n\u001b[0;32m   1499\u001b[0m                     \u001b[0mresponse\u001b[0m \u001b[1;33m=\u001b[0m \u001b[0mio\u001b[0m\u001b[1;33m.\u001b[0m\u001b[0mBytesIO\u001b[0m\u001b[1;33m(\u001b[0m\u001b[0mresponse\u001b[0m\u001b[1;33m.\u001b[0m\u001b[0mread\u001b[0m\u001b[1;33m(\u001b[0m\u001b[1;33m)\u001b[0m\u001b[1;33m)\u001b[0m\u001b[1;33m\u001b[0m\u001b[1;33m\u001b[0m\u001b[0m\n\u001b[0;32m   1500\u001b[0m                 \u001b[1;32mreturn\u001b[0m \u001b[0mimread\u001b[0m\u001b[1;33m(\u001b[0m\u001b[0mresponse\u001b[0m\u001b[1;33m,\u001b[0m \u001b[0mformat\u001b[0m\u001b[1;33m=\u001b[0m\u001b[0mext\u001b[0m\u001b[1;33m)\u001b[0m\u001b[1;33m\u001b[0m\u001b[1;33m\u001b[0m\u001b[0m\n\u001b[1;32m-> 1501\u001b[1;33m     \u001b[1;32mwith\u001b[0m \u001b[0mimg_open\u001b[0m\u001b[1;33m(\u001b[0m\u001b[0mfname\u001b[0m\u001b[1;33m)\u001b[0m \u001b[1;32mas\u001b[0m \u001b[0mimage\u001b[0m\u001b[1;33m:\u001b[0m\u001b[1;33m\u001b[0m\u001b[1;33m\u001b[0m\u001b[0m\n\u001b[0m\u001b[0;32m   1502\u001b[0m         return (_pil_png_to_float_array(image)\n\u001b[0;32m   1503\u001b[0m                 \u001b[1;32mif\u001b[0m \u001b[0misinstance\u001b[0m\u001b[1;33m(\u001b[0m\u001b[0mimage\u001b[0m\u001b[1;33m,\u001b[0m \u001b[0mPIL\u001b[0m\u001b[1;33m.\u001b[0m\u001b[0mPngImagePlugin\u001b[0m\u001b[1;33m.\u001b[0m\u001b[0mPngImageFile\u001b[0m\u001b[1;33m)\u001b[0m \u001b[1;32melse\u001b[0m\u001b[1;33m\u001b[0m\u001b[1;33m\u001b[0m\u001b[0m\n",
      "\u001b[1;32m~\\Anaconda3\\envs\\ml4sat\\lib\\site-packages\\PIL\\Image.py\u001b[0m in \u001b[0;36mopen\u001b[1;34m(fp, mode, formats)\u001b[0m\n\u001b[0;32m   3021\u001b[0m     \u001b[1;32mfor\u001b[0m \u001b[0mmessage\u001b[0m \u001b[1;32min\u001b[0m \u001b[0maccept_warnings\u001b[0m\u001b[1;33m:\u001b[0m\u001b[1;33m\u001b[0m\u001b[1;33m\u001b[0m\u001b[0m\n\u001b[0;32m   3022\u001b[0m         \u001b[0mwarnings\u001b[0m\u001b[1;33m.\u001b[0m\u001b[0mwarn\u001b[0m\u001b[1;33m(\u001b[0m\u001b[0mmessage\u001b[0m\u001b[1;33m)\u001b[0m\u001b[1;33m\u001b[0m\u001b[1;33m\u001b[0m\u001b[0m\n\u001b[1;32m-> 3023\u001b[1;33m     raise UnidentifiedImageError(\n\u001b[0m\u001b[0;32m   3024\u001b[0m         \u001b[1;34m\"cannot identify image file %r\"\u001b[0m \u001b[1;33m%\u001b[0m \u001b[1;33m(\u001b[0m\u001b[0mfilename\u001b[0m \u001b[1;32mif\u001b[0m \u001b[0mfilename\u001b[0m \u001b[1;32melse\u001b[0m \u001b[0mfp\u001b[0m\u001b[1;33m)\u001b[0m\u001b[1;33m\u001b[0m\u001b[1;33m\u001b[0m\u001b[0m\n\u001b[0;32m   3025\u001b[0m     )\n",
      "\u001b[1;31mUnidentifiedImageError\u001b[0m: cannot identify image file 'RGB.tiff'"
     ]
    }
   ],
   "source": [
    "img = plt.imread('RGB.tiff')\n",
    "plt.imshow(img)"
   ]
  },
  {
   "cell_type": "markdown",
   "id": "481aa99d-3171-4eee-adf5-f5e74d81ed76",
   "metadata": {
    "tags": []
   },
   "source": [
    "### merge to singe raster"
   ]
  },
  {
   "cell_type": "code",
   "execution_count": 32,
   "id": "6c082c16-e0ad-4385-84c3-0287d7386793",
   "metadata": {},
   "outputs": [],
   "source": [
    "import glob"
   ]
  },
  {
   "cell_type": "code",
   "execution_count": 48,
   "id": "bf63d45e-23a4-4dc8-9558-3f5278fe85b2",
   "metadata": {},
   "outputs": [],
   "source": [
    "def merge_to_single_raster(input_dir, output_dir):\n",
    "    \"\"\" Convert a folder of multiple geotiff images as a single multiband geotiff\n",
    "            INPUT : input_dir (str) -> path to the input folder as (path_to_folder/../*.tiff)\n",
    "                    output_dir (str) -> path to where the geotiff will be saved (path_to_folder/../image_name.tiff)\n",
    "            OUTPUT : None\n",
    "        \"\"\"\n",
    "    file_path = [f for f in sorted(glob.glob(input_dir))]\n",
    "    # Read metadata of first file\n",
    "    with rasterio.open(file_path[0]) as src0:\n",
    "        meta = src0.meta\n",
    "    # Update meta to reflect the number of layers\n",
    "    meta.update(count=len(file_path))\n",
    "    # Read each layer and write it to stack\n",
    "    with rasterio.open(output_dir, 'w', **meta) as dst:\n",
    "        for i, path in enumerate(file_path, start=1):\n",
    "            with rasterio.open(path) as src1:\n",
    "                dst.write_band(i, src1.read(1))"
   ]
  },
  {
   "cell_type": "code",
   "execution_count": 41,
   "id": "4bded255-7c41-466e-a7f1-6aa6ea6d8fa8",
   "metadata": {},
   "outputs": [],
   "source": [
    "pro_path = 'N:/dataorg-datasets/sentinel2_images/images_danya/'\n",
    "input_dir = pro_path + 'processed/S2A_MSIL2A_20210502T053641_N9999_R005_T43SFR_20210813T084820.SAFE/GRANULE/L2A_T43SFR_A030604_20210502T055003/IMG_DATA/R10m/*.tif'\n",
    "output_dir = pro_path + 'geotiffs/L2A_T43SFR_A030604_20210502T055003.tiff'"
   ]
  },
  {
   "cell_type": "code",
   "execution_count": 49,
   "id": "0e9ac70a-3b91-419a-9651-42ddd2db9739",
   "metadata": {},
   "outputs": [
    {
     "name": "stdout",
     "output_type": "stream",
     "text": [
      "['N:/dataorg-datasets/sentinel2_images/images_danya/processed/S2A_MSIL2A_20210502T053641_N9999_R005_T43SFR_20210813T084820.SAFE/GRANULE/L2A_T43SFR_A030604_20210502T055003/IMG_DATA/R10m\\\\T43SFR_20210502T053641_AOT_10m.tif', 'N:/dataorg-datasets/sentinel2_images/images_danya/processed/S2A_MSIL2A_20210502T053641_N9999_R005_T43SFR_20210813T084820.SAFE/GRANULE/L2A_T43SFR_A030604_20210502T055003/IMG_DATA/R10m\\\\T43SFR_20210502T053641_B02_10m.tif', 'N:/dataorg-datasets/sentinel2_images/images_danya/processed/S2A_MSIL2A_20210502T053641_N9999_R005_T43SFR_20210813T084820.SAFE/GRANULE/L2A_T43SFR_A030604_20210502T055003/IMG_DATA/R10m\\\\T43SFR_20210502T053641_B03_10m.tif', 'N:/dataorg-datasets/sentinel2_images/images_danya/processed/S2A_MSIL2A_20210502T053641_N9999_R005_T43SFR_20210813T084820.SAFE/GRANULE/L2A_T43SFR_A030604_20210502T055003/IMG_DATA/R10m\\\\T43SFR_20210502T053641_B04_10m.tif', 'N:/dataorg-datasets/sentinel2_images/images_danya/processed/S2A_MSIL2A_20210502T053641_N9999_R005_T43SFR_20210813T084820.SAFE/GRANULE/L2A_T43SFR_A030604_20210502T055003/IMG_DATA/R10m\\\\T43SFR_20210502T053641_B08_10m.tif', 'N:/dataorg-datasets/sentinel2_images/images_danya/processed/S2A_MSIL2A_20210502T053641_N9999_R005_T43SFR_20210813T084820.SAFE/GRANULE/L2A_T43SFR_A030604_20210502T055003/IMG_DATA/R10m\\\\T43SFR_20210502T053641_TCI_10m.tif', 'N:/dataorg-datasets/sentinel2_images/images_danya/processed/S2A_MSIL2A_20210502T053641_N9999_R005_T43SFR_20210813T084820.SAFE/GRANULE/L2A_T43SFR_A030604_20210502T055003/IMG_DATA/R10m\\\\T43SFR_20210502T053641_WVP_10m.tif']\n"
     ]
    },
    {
     "name": "stderr",
     "output_type": "stream",
     "text": [
      "C:\\Users\\lida\\Anaconda3\\envs\\ml4sat\\lib\\site-packages\\rasterio\\__init__.py:230: NotGeoreferencedWarning: The given matrix is equal to Affine.identity or its flipped counterpart. GDAL may ignore this matrix and save no geotransform without raising an error. This behavior is somewhat driver-specific.\n",
      "  s = writer(path, mode, driver=driver,\n"
     ]
    }
   ],
   "source": [
    "merge_to_single_raster(input_dir, output_dir)"
   ]
  },
  {
   "cell_type": "code",
   "execution_count": 75,
   "id": "585c3d11-025a-41c3-8ed7-ebbb93f38062",
   "metadata": {},
   "outputs": [],
   "source": [
    "def raster_converter(processed_dir, geotiff_dir):\n",
    "    \"\"\"\n",
    "    input_dir : path to store the processed multiple bands products\n",
    "    output_dir: path to store the single raster\n",
    "    \"\"\"\n",
    "    file_paths = [f for f in os.listdir(processed_dir)]\n",
    "    # save to single geotiff\n",
    "    for file_path in file_paths:\n",
    "        input_dir = processed_dir + file_path + '/GRANULE/'\n",
    "        file_name = os.listdir(input_dir)[0]\n",
    "        input_dir += file_name + '/IMG_DATA/R10m/*.tif'\n",
    "        output_dir = geotiff_dir + file_name + '.tiff'\n",
    "#         merge_to_single_raster(input_dir, output_dir)\n",
    "        print(f'Geotiff saved at {output_dir}')"
   ]
  },
  {
   "cell_type": "code",
   "execution_count": 76,
   "id": "7fa55433-1f69-414d-86ab-90499a7ac804",
   "metadata": {},
   "outputs": [
    {
     "name": "stdout",
     "output_type": "stream",
     "text": [
      "N:/dataorg-datasets/sentinel2_images/images_danya/processed/S2A_MSIL2A_20200108T054221_N9999_R005_T43SFR_20210813T110327.SAFE/GRANULE/L2A_T43SFR_A023740_20200108T054215/IMG_DATA/R10m/*.tif\n",
      "Geotiff saved at N:/dataorg-datasets/sentinel2_images/images_danya/geotiffs/L2A_T43SFR_A023740_20200108T054215.tiff\n",
      "N:/dataorg-datasets/sentinel2_images/images_danya/processed/S2A_MSIL2A_20200603T052651_N9999_R105_T43SFR_20210813T123510.SAFE/GRANULE/L2A_T43SFR_A025842_20200603T053615/IMG_DATA/R10m/*.tif\n",
      "Geotiff saved at N:/dataorg-datasets/sentinel2_images/images_danya/geotiffs/L2A_T43SFR_A025842_20200603T053615.tiff\n",
      "N:/dataorg-datasets/sentinel2_images/images_danya/processed/S2A_MSIL2A_20201001T052651_N9999_R105_T43SFR_20210813T142927.SAFE/GRANULE/L2A_T43SFR_A027558_20201001T053726/IMG_DATA/R10m/*.tif\n",
      "Geotiff saved at N:/dataorg-datasets/sentinel2_images/images_danya/geotiffs/L2A_T43SFR_A027558_20201001T053726.tiff\n",
      "N:/dataorg-datasets/sentinel2_images/images_danya/processed/S2A_MSIL2A_20210502T053641_N9999_R005_T43SFR_20210813T084820.SAFE/GRANULE/L2A_T43SFR_A030604_20210502T055003/IMG_DATA/R10m/*.tif\n",
      "Geotiff saved at N:/dataorg-datasets/sentinel2_images/images_danya/geotiffs/L2A_T43SFR_A030604_20210502T055003.tiff\n"
     ]
    }
   ],
   "source": [
    "raster_converter('N:/dataorg-datasets/sentinel2_images/images_danya/processed/', \n",
    "                 'N:/dataorg-datasets/sentinel2_images/images_danya/geotiffs/')"
   ]
  },
  {
   "cell_type": "markdown",
   "id": "eb74982e-ab3e-4179-90ba-85634327be48",
   "metadata": {},
   "source": [
    "### snappy"
   ]
  },
  {
   "cell_type": "code",
   "execution_count": 1,
   "id": "fedf06e8-4f1b-42fe-b022-70c19b44eaf4",
   "metadata": {},
   "outputs": [
    {
     "ename": "ModuleNotFoundError",
     "evalue": "No module named 'snappy'",
     "output_type": "error",
     "traceback": [
      "\u001b[1;31m---------------------------------------------------------------------------\u001b[0m",
      "\u001b[1;31mModuleNotFoundError\u001b[0m                       Traceback (most recent call last)",
      "\u001b[1;32m~\\AppData\\Local\\Temp/ipykernel_24768/701685689.py\u001b[0m in \u001b[0;36m<module>\u001b[1;34m\u001b[0m\n\u001b[1;32m----> 1\u001b[1;33m \u001b[1;32mfrom\u001b[0m \u001b[0msnappy\u001b[0m \u001b[1;32mimport\u001b[0m \u001b[0mProductIO\u001b[0m\u001b[1;33m\u001b[0m\u001b[1;33m\u001b[0m\u001b[0m\n\u001b[0m",
      "\u001b[1;31mModuleNotFoundError\u001b[0m: No module named 'snappy'"
     ]
    }
   ],
   "source": [
    "from snappy import ProductIO"
   ]
  },
  {
   "cell_type": "code",
   "execution_count": null,
   "id": "cada47fb-b558-4198-a265-8986b69478ad",
   "metadata": {},
   "outputs": [],
   "source": []
  },
  {
   "cell_type": "code",
   "execution_count": null,
   "id": "ea039e99-7bb2-42e2-8590-2ed9fb8abfce",
   "metadata": {},
   "outputs": [],
   "source": []
  },
  {
   "cell_type": "code",
   "execution_count": null,
   "id": "ed154e7c-6a3d-41e4-a499-32611a13af5b",
   "metadata": {},
   "outputs": [],
   "source": []
  },
  {
   "cell_type": "code",
   "execution_count": null,
   "id": "97a551c1-449a-43ee-9709-79c14dfc55dd",
   "metadata": {},
   "outputs": [],
   "source": []
  },
  {
   "cell_type": "markdown",
   "id": "96b46644-1c8e-46b3-87f7-10b59bd822a8",
   "metadata": {
    "tags": []
   },
   "source": [
    "### Calculate NDVI"
   ]
  },
  {
   "cell_type": "code",
   "execution_count": null,
   "id": "eef73125-5bc1-4fac-91d5-7c3337fd171c",
   "metadata": {},
   "outputs": [],
   "source": [
    "# Open b4 and b8\n",
    "b4 = rio.open(R10+'/T33TTG_20190605T100039_B04_10m.jp2')\n",
    "b8 = rio.open(R10+'/T33TTG_20190605T100039_B08_10m.jp2')\n",
    "\n",
    "# read Red(b4) and NIR(b8) as arrays\n",
    "red = b4.read()\n",
    "nir = b8.read()\n",
    "\n",
    "# Calculate ndvi\n",
    "ndvi = (nir.astype(float)-red.astype(float))/(nir+red)\n",
    "\n",
    "# Write the NDVI image\n",
    "meta = b4.meta\n",
    "meta.update(driver='GTiff')\n",
    "meta.update(dtype=rasterio.float32)\n",
    "\n",
    "with rasterio.open('NDVI.tif', 'w', **meta) as dst:\n",
    "    dst.write(ndvi.astype(rasterio.float32))"
   ]
  },
  {
   "cell_type": "code",
   "execution_count": 78,
   "id": "fc2f7430-573e-400d-986a-d753c683664a",
   "metadata": {},
   "outputs": [],
   "source": [
    "name = 'L1C_T43SFR_A030604_20210502T055003' "
   ]
  },
  {
   "cell_type": "code",
   "execution_count": 84,
   "id": "9d3199b1-6704-4647-bbef-babc68e94008",
   "metadata": {},
   "outputs": [
    {
     "data": {
      "text/plain": [
       "True"
      ]
     },
     "execution_count": 84,
     "metadata": {},
     "output_type": "execute_result"
    }
   ],
   "source": [
    "name.split('_')[1:] in [name.split('_')[1:]]"
   ]
  },
  {
   "cell_type": "code",
   "execution_count": 87,
   "id": "eea1cc9d-1956-4444-810a-870bd7b1b784",
   "metadata": {},
   "outputs": [],
   "source": [
    "files = os.listdir('N:/dataorg-datasets/sentinel2_images/images_danya/corrected/S2A_MSIL2A_20201001T052651_N9999_R105_T43SFR_20210813T142927.SAFE/GRANULE/L2A_T43SFR_A027558_20201001T053726/')"
   ]
  },
  {
   "cell_type": "code",
   "execution_count": 88,
   "id": "d69ecaed-0cc3-4de2-9fbd-2443a5de6893",
   "metadata": {},
   "outputs": [
    {
     "data": {
      "text/plain": [
       "['AUX_DATA',\n",
       " 'config.pic',\n",
       " 'IMG_DATA',\n",
       " 'MTD_TL.xml',\n",
       " 'QI_DATA',\n",
       " 'T43SFR_20201001T052651_imgdb.h5',\n",
       " 'T43SFR_20201001T052651_resdb.h5',\n",
       " 'tmpwetvu_']"
      ]
     },
     "execution_count": 88,
     "metadata": {},
     "output_type": "execute_result"
    }
   ],
   "source": [
    "files"
   ]
  },
  {
   "cell_type": "code",
   "execution_count": 93,
   "id": "23405282-192e-41db-9692-ff8af011cfca",
   "metadata": {},
   "outputs": [
    {
     "name": "stdout",
     "output_type": "stream",
     "text": [
      "AUX_DATA\n",
      "True\n",
      "False\n"
     ]
    }
   ],
   "source": [
    "for f in files:\n",
    "    print(f)\n",
    "    if not f.startswith('tmp'):\n",
    "        print(True)\n",
    "        break\n",
    "print(False)    "
   ]
  },
  {
   "cell_type": "code",
   "execution_count": 95,
   "id": "7ffa589e-ee08-45cc-9fc6-39ca981d1112",
   "metadata": {},
   "outputs": [
    {
     "ename": "OSError",
     "evalue": "[WinError 145] The directory is not empty: 'N:/dataorg-datasets/sentinel2_images/images_danya/corrected/S2A_MSIL2A_20201001T052651_N9999_R105_T43SFR_20210816T064651.SAFE/'",
     "output_type": "error",
     "traceback": [
      "\u001b[1;31m---------------------------------------------------------------------------\u001b[0m",
      "\u001b[1;31mOSError\u001b[0m                                   Traceback (most recent call last)",
      "\u001b[1;32m~\\AppData\\Local\\Temp/ipykernel_5488/1427335164.py\u001b[0m in \u001b[0;36m<module>\u001b[1;34m\u001b[0m\n\u001b[1;32m----> 1\u001b[1;33m \u001b[0mos\u001b[0m\u001b[1;33m.\u001b[0m\u001b[0mrmdir\u001b[0m\u001b[1;33m(\u001b[0m\u001b[1;34m'N:/dataorg-datasets/sentinel2_images/images_danya/corrected/S2A_MSIL2A_20201001T052651_N9999_R105_T43SFR_20210816T064651.SAFE/'\u001b[0m\u001b[1;33m)\u001b[0m\u001b[1;33m\u001b[0m\u001b[1;33m\u001b[0m\u001b[0m\n\u001b[0m",
      "\u001b[1;31mOSError\u001b[0m: [WinError 145] The directory is not empty: 'N:/dataorg-datasets/sentinel2_images/images_danya/corrected/S2A_MSIL2A_20201001T052651_N9999_R105_T43SFR_20210816T064651.SAFE/'"
     ]
    }
   ],
   "source": [
    "os.rmdir('N:/dataorg-datasets/sentinel2_images/images_danya/corrected/S2A_MSIL2A_20201001T052651_N9999_R105_T43SFR_20210816T064651.SAFE/')"
   ]
  },
  {
   "cell_type": "code",
   "execution_count": 103,
   "id": "39bb32b0-6e42-48fc-9515-b1d47115e3ba",
   "metadata": {},
   "outputs": [
    {
     "ename": "IndexError",
     "evalue": "list index out of range",
     "output_type": "error",
     "traceback": [
      "\u001b[1;31m---------------------------------------------------------------------------\u001b[0m",
      "\u001b[1;31mIndexError\u001b[0m                                Traceback (most recent call last)",
      "\u001b[1;32m~\\AppData\\Local\\Temp/ipykernel_5488/891002234.py\u001b[0m in \u001b[0;36m<module>\u001b[1;34m\u001b[0m\n\u001b[1;32m----> 1\u001b[1;33m \u001b[0mos\u001b[0m\u001b[1;33m.\u001b[0m\u001b[0mlistdir\u001b[0m\u001b[1;33m(\u001b[0m\u001b[1;34m'N:/dataorg-datasets/sentinel2_images/images_danya/corrected/S2A_MSIL2A_20201001T052651_N9999_R105_T43SFR_20210816T065615.SAFE/GRANULE/L2A_T43SFR_A027558_20201001T053726/IMG_DATA/R20m/'\u001b[0m\u001b[1;33m)\u001b[0m\u001b[1;33m[\u001b[0m\u001b[1;36m0\u001b[0m\u001b[1;33m]\u001b[0m\u001b[1;33m\u001b[0m\u001b[1;33m\u001b[0m\u001b[0m\n\u001b[0m",
      "\u001b[1;31mIndexError\u001b[0m: list index out of range"
     ]
    }
   ],
   "source": [
    "os.listdir('N:/dataorg-datasets/sentinel2_images/images_danya/corrected/S2A_MSIL2A_20201001T052651_N9999_R105_T43SFR_20210816T065615.SAFE/GRANULE/L2A_T43SFR_A027558_20201001T053726/IMG_DATA/R20m/')[0]"
   ]
  },
  {
   "cell_type": "code",
   "execution_count": 96,
   "id": "ebe0ec73-81e9-4d1e-ad2d-ff7db3ac733a",
   "metadata": {},
   "outputs": [],
   "source": [
    "import shutil"
   ]
  },
  {
   "cell_type": "code",
   "execution_count": 98,
   "id": "89d0d403-81a9-4f35-9234-aa78737d3aa5",
   "metadata": {},
   "outputs": [
    {
     "ename": "FileNotFoundError",
     "evalue": "[WinError 3] The system cannot find the path specified: 'N:/dataorg-datasets/sentinel2_images/images_danya/corrected/S2A_MSIL2A_20201001T052651_N9999_R105_T43SFR_20210816T064651.SAFE'",
     "output_type": "error",
     "traceback": [
      "\u001b[1;31m---------------------------------------------------------------------------\u001b[0m",
      "\u001b[1;31mFileNotFoundError\u001b[0m                         Traceback (most recent call last)",
      "\u001b[1;32m~\\AppData\\Local\\Temp/ipykernel_5488/3830302676.py\u001b[0m in \u001b[0;36m<module>\u001b[1;34m\u001b[0m\n\u001b[1;32m----> 1\u001b[1;33m \u001b[0mshutil\u001b[0m\u001b[1;33m.\u001b[0m\u001b[0mrmtree\u001b[0m\u001b[1;33m(\u001b[0m\u001b[1;34m'N:/dataorg-datasets/sentinel2_images/images_danya/corrected/S2A_MSIL2A_20201001T052651_N9999_R105_T43SFR_20210816T064651.SAFE'\u001b[0m\u001b[1;33m)\u001b[0m\u001b[1;33m\u001b[0m\u001b[1;33m\u001b[0m\u001b[0m\n\u001b[0m",
      "\u001b[1;32m~\\Anaconda3\\envs\\ml4sat\\lib\\shutil.py\u001b[0m in \u001b[0;36mrmtree\u001b[1;34m(path, ignore_errors, onerror)\u001b[0m\n\u001b[0;32m    738\u001b[0m             \u001b[1;31m# can't continue even if onerror hook returns\u001b[0m\u001b[1;33m\u001b[0m\u001b[1;33m\u001b[0m\u001b[1;33m\u001b[0m\u001b[0m\n\u001b[0;32m    739\u001b[0m             \u001b[1;32mreturn\u001b[0m\u001b[1;33m\u001b[0m\u001b[1;33m\u001b[0m\u001b[0m\n\u001b[1;32m--> 740\u001b[1;33m         \u001b[1;32mreturn\u001b[0m \u001b[0m_rmtree_unsafe\u001b[0m\u001b[1;33m(\u001b[0m\u001b[0mpath\u001b[0m\u001b[1;33m,\u001b[0m \u001b[0monerror\u001b[0m\u001b[1;33m)\u001b[0m\u001b[1;33m\u001b[0m\u001b[1;33m\u001b[0m\u001b[0m\n\u001b[0m\u001b[0;32m    741\u001b[0m \u001b[1;33m\u001b[0m\u001b[0m\n\u001b[0;32m    742\u001b[0m \u001b[1;31m# Allow introspection of whether or not the hardening against symlink\u001b[0m\u001b[1;33m\u001b[0m\u001b[1;33m\u001b[0m\u001b[1;33m\u001b[0m\u001b[0m\n",
      "\u001b[1;32m~\\Anaconda3\\envs\\ml4sat\\lib\\shutil.py\u001b[0m in \u001b[0;36m_rmtree_unsafe\u001b[1;34m(path, onerror)\u001b[0m\n\u001b[0;32m    597\u001b[0m             \u001b[0mentries\u001b[0m \u001b[1;33m=\u001b[0m \u001b[0mlist\u001b[0m\u001b[1;33m(\u001b[0m\u001b[0mscandir_it\u001b[0m\u001b[1;33m)\u001b[0m\u001b[1;33m\u001b[0m\u001b[1;33m\u001b[0m\u001b[0m\n\u001b[0;32m    598\u001b[0m     \u001b[1;32mexcept\u001b[0m \u001b[0mOSError\u001b[0m\u001b[1;33m:\u001b[0m\u001b[1;33m\u001b[0m\u001b[1;33m\u001b[0m\u001b[0m\n\u001b[1;32m--> 599\u001b[1;33m         \u001b[0monerror\u001b[0m\u001b[1;33m(\u001b[0m\u001b[0mos\u001b[0m\u001b[1;33m.\u001b[0m\u001b[0mscandir\u001b[0m\u001b[1;33m,\u001b[0m \u001b[0mpath\u001b[0m\u001b[1;33m,\u001b[0m \u001b[0msys\u001b[0m\u001b[1;33m.\u001b[0m\u001b[0mexc_info\u001b[0m\u001b[1;33m(\u001b[0m\u001b[1;33m)\u001b[0m\u001b[1;33m)\u001b[0m\u001b[1;33m\u001b[0m\u001b[1;33m\u001b[0m\u001b[0m\n\u001b[0m\u001b[0;32m    600\u001b[0m         \u001b[0mentries\u001b[0m \u001b[1;33m=\u001b[0m \u001b[1;33m[\u001b[0m\u001b[1;33m]\u001b[0m\u001b[1;33m\u001b[0m\u001b[1;33m\u001b[0m\u001b[0m\n\u001b[0;32m    601\u001b[0m     \u001b[1;32mfor\u001b[0m \u001b[0mentry\u001b[0m \u001b[1;32min\u001b[0m \u001b[0mentries\u001b[0m\u001b[1;33m:\u001b[0m\u001b[1;33m\u001b[0m\u001b[1;33m\u001b[0m\u001b[0m\n",
      "\u001b[1;32m~\\Anaconda3\\envs\\ml4sat\\lib\\shutil.py\u001b[0m in \u001b[0;36m_rmtree_unsafe\u001b[1;34m(path, onerror)\u001b[0m\n\u001b[0;32m    594\u001b[0m \u001b[1;32mdef\u001b[0m \u001b[0m_rmtree_unsafe\u001b[0m\u001b[1;33m(\u001b[0m\u001b[0mpath\u001b[0m\u001b[1;33m,\u001b[0m \u001b[0monerror\u001b[0m\u001b[1;33m)\u001b[0m\u001b[1;33m:\u001b[0m\u001b[1;33m\u001b[0m\u001b[1;33m\u001b[0m\u001b[0m\n\u001b[0;32m    595\u001b[0m     \u001b[1;32mtry\u001b[0m\u001b[1;33m:\u001b[0m\u001b[1;33m\u001b[0m\u001b[1;33m\u001b[0m\u001b[0m\n\u001b[1;32m--> 596\u001b[1;33m         \u001b[1;32mwith\u001b[0m \u001b[0mos\u001b[0m\u001b[1;33m.\u001b[0m\u001b[0mscandir\u001b[0m\u001b[1;33m(\u001b[0m\u001b[0mpath\u001b[0m\u001b[1;33m)\u001b[0m \u001b[1;32mas\u001b[0m \u001b[0mscandir_it\u001b[0m\u001b[1;33m:\u001b[0m\u001b[1;33m\u001b[0m\u001b[1;33m\u001b[0m\u001b[0m\n\u001b[0m\u001b[0;32m    597\u001b[0m             \u001b[0mentries\u001b[0m \u001b[1;33m=\u001b[0m \u001b[0mlist\u001b[0m\u001b[1;33m(\u001b[0m\u001b[0mscandir_it\u001b[0m\u001b[1;33m)\u001b[0m\u001b[1;33m\u001b[0m\u001b[1;33m\u001b[0m\u001b[0m\n\u001b[0;32m    598\u001b[0m     \u001b[1;32mexcept\u001b[0m \u001b[0mOSError\u001b[0m\u001b[1;33m:\u001b[0m\u001b[1;33m\u001b[0m\u001b[1;33m\u001b[0m\u001b[0m\n",
      "\u001b[1;31mFileNotFoundError\u001b[0m: [WinError 3] The system cannot find the path specified: 'N:/dataorg-datasets/sentinel2_images/images_danya/corrected/S2A_MSIL2A_20201001T052651_N9999_R105_T43SFR_20210816T064651.SAFE'"
     ]
    }
   ],
   "source": [
    "shutil.rmtree('N:/dataorg-datasets/sentinel2_images/images_danya/corrected/S2A_MSIL2A_20201001T052651_N9999_R105_T43SFR_20210816T064651.SAFE')"
   ]
  },
  {
   "cell_type": "markdown",
   "id": "378fa5d2-ca61-4770-ad30-3979b6d102ce",
   "metadata": {},
   "source": [
    "### load geotiff"
   ]
  },
  {
   "cell_type": "code",
   "execution_count": 4,
   "id": "20806c38-6bef-4d79-aa38-ebc75315234c",
   "metadata": {},
   "outputs": [],
   "source": [
    "import rasterio"
   ]
  },
  {
   "cell_type": "code",
   "execution_count": 5,
   "id": "4578bd33-9c12-4913-b60a-d35fe8143e9b",
   "metadata": {},
   "outputs": [],
   "source": [
    "import skimage"
   ]
  },
  {
   "cell_type": "code",
   "execution_count": 6,
   "id": "9802f3df-a155-4e4f-9ce9-597af3d3d290",
   "metadata": {},
   "outputs": [],
   "source": [
    "def load_geotiff(path, window=None, in_range='uint16', out_range=(0,1)):\n",
    "    \"\"\" Load the geotiff as a list of numpy array.\n",
    "        INPUT : path (str) -> the path to the geotiff\n",
    "                window (raterio.windows.Window) -> the window to use when loading the image\n",
    "                in_range (str or tuple) -> the in_range to use for the skimage.exposure.rescale_intensity (default is 'uint16')\n",
    "                out_range (str or tuple) -> the out_range to use for the skimage.exposure.rescale_intensity (default is (0,1))\n",
    "        OUTPUT : band (list of numpy array) -> the different bands as float scalled to 0:1\n",
    "                 meta (dictionnary) -> the metadata associated with the geotiff\n",
    "    \"\"\"\n",
    "    with rasterio.open(path) as f:\n",
    "        #band = [skimage.exposure.rescale_intensity(f.read(i+1, window=window).astype('float64'), in_range=in_range, out_range=out_range) for i in range(f.count)]\n",
    "        band = [skimage.img_as_float(f.read(i+1, window=window)) for i in range(f.count)]\n",
    "        meta = f.meta\n",
    "        if window != None:\n",
    "            meta['height'] = window.height\n",
    "            meta['width'] = window.width\n",
    "            meta['transform'] = f.window_transform(window)\n",
    "\n",
    "    return band, meta"
   ]
  },
  {
   "cell_type": "code",
   "execution_count": 7,
   "id": "0d14a5c4-9286-4e10-893b-13c12aaec439",
   "metadata": {},
   "outputs": [
    {
     "name": "stderr",
     "output_type": "stream",
     "text": [
      "C:\\Users\\lida\\Anaconda3\\envs\\ml4sat\\lib\\site-packages\\rasterio\\__init__.py:220: NotGeoreferencedWarning: Dataset has no geotransform, gcps, or rpcs. The identity matrix be returned.\n",
      "  s = DatasetReader(path, driver=driver, sharing=sharing, **kwargs)\n"
     ]
    }
   ],
   "source": [
    "band, meta = load_geotiff('N:/dataorg-datasets/sentinel2_images/images_danya/geotiff/L2A_T43SFR_A023740_20200108T054215.tiff')"
   ]
  },
  {
   "cell_type": "code",
   "execution_count": 8,
   "id": "346bc7ac-60af-44bb-8459-a7a4aee2920b",
   "metadata": {},
   "outputs": [
    {
     "data": {
      "text/plain": [
       "7"
      ]
     },
     "execution_count": 8,
     "metadata": {},
     "output_type": "execute_result"
    }
   ],
   "source": [
    "len(band)"
   ]
  },
  {
   "cell_type": "code",
   "execution_count": 9,
   "id": "8f07f63e-e210-42ee-99c6-0fc5bbb84953",
   "metadata": {},
   "outputs": [
    {
     "data": {
      "text/plain": [
       "(10980, 10980)"
      ]
     },
     "execution_count": 9,
     "metadata": {},
     "output_type": "execute_result"
    }
   ],
   "source": [
    "band[0].shape"
   ]
  },
  {
   "cell_type": "code",
   "execution_count": 10,
   "id": "78b29c72-1249-422e-bd3b-1a02f2cd3893",
   "metadata": {},
   "outputs": [],
   "source": [
    "import numpy as np"
   ]
  },
  {
   "cell_type": "code",
   "execution_count": 11,
   "id": "216d5571-2d15-4181-b546-b47dd587ef4c",
   "metadata": {},
   "outputs": [],
   "source": [
    "band_np = np.stack(band, axis=2)"
   ]
  },
  {
   "cell_type": "code",
   "execution_count": 12,
   "id": "ac4a2fd2-f7d8-4925-beac-79d6a1e2cb49",
   "metadata": {},
   "outputs": [
    {
     "data": {
      "text/plain": [
       "(10980, 10980, 7)"
      ]
     },
     "execution_count": 12,
     "metadata": {},
     "output_type": "execute_result"
    }
   ],
   "source": [
    "band_np.shape"
   ]
  },
  {
   "cell_type": "code",
   "execution_count": 16,
   "id": "3a2205e4-4e4f-46ed-9240-2ca41a569b67",
   "metadata": {},
   "outputs": [],
   "source": [
    "import matplotlib.pyplot as plt"
   ]
  },
  {
   "cell_type": "code",
   "execution_count": null,
   "id": "2122bb6f-7aad-4e99-beda-c6eccb9ca1d8",
   "metadata": {},
   "outputs": [
    {
     "data": {
      "text/plain": [
       "<matplotlib.image.AxesImage at 0x1e4082bf550>"
      ]
     },
     "execution_count": 17,
     "metadata": {},
     "output_type": "execute_result"
    },
    {
     "data": {
      "image/png": "[encoded data removed]",
      "text/plain": [
       "<Figure size 432x288 with 1 Axes>"
      ]
     },
     "metadata": {
      "needs_background": "light"
     },
     "output_type": "display_data"
    }
   ],
   "source": [
    "plt.imshow(band[0])"
   ]
  },
  {
   "cell_type": "code",
   "execution_count": 18,
   "id": "93020244-4327-4d68-9b55-7348cdb74b82",
   "metadata": {},
   "outputs": [
    {
     "data": {
      "text/plain": [
       "{'driver': 'ENVI',\n",
       " 'dtype': 'uint16',\n",
       " 'nodata': None,\n",
       " 'width': 10980,\n",
       " 'height': 10980,\n",
       " 'count': 7,\n",
       " 'crs': None,\n",
       " 'transform': Affine(1.0, 0.0, 0.0,\n",
       "        0.0, 1.0, 0.0)}"
      ]
     },
     "execution_count": 18,
     "metadata": {},
     "output_type": "execute_result"
    }
   ],
   "source": [
    "meta"
   ]
  },
  {
   "cell_type": "code",
   "execution_count": null,
   "id": "141fc623-4072-4843-b040-b26ef0d31220",
   "metadata": {},
   "outputs": [],
   "source": []
  },
  {
   "cell_type": "code",
   "execution_count": 1,
   "id": "e12c2108-ce11-431b-a99e-5fda65537940",
   "metadata": {},
   "outputs": [],
   "source": [
    "from tifffile import tifffile"
   ]
  },
  {
   "cell_type": "code",
   "execution_count": 3,
   "id": "d60a2894-ec99-405b-8dbf-4e7ddd2c326a",
   "metadata": {},
   "outputs": [
    {
     "ename": "TiffFileError",
     "evalue": "not a TIFF file",
     "output_type": "error",
     "traceback": [
      "\u001b[1;31m---------------------------------------------------------------------------\u001b[0m",
      "\u001b[1;31mKeyError\u001b[0m                                  Traceback (most recent call last)",
      "\u001b[1;32m~\\Anaconda3\\envs\\ml4sat\\lib\\site-packages\\tifffile\\tifffile.py\u001b[0m in \u001b[0;36m__init__\u001b[1;34m(self, arg, mode, name, offset, size, _multifile, _useframes, _parent, **kwargs)\u001b[0m\n\u001b[0;32m   3038\u001b[0m             \u001b[1;32mtry\u001b[0m\u001b[1;33m:\u001b[0m\u001b[1;33m\u001b[0m\u001b[1;33m\u001b[0m\u001b[0m\n\u001b[1;32m-> 3039\u001b[1;33m                 \u001b[0mbyteorder\u001b[0m \u001b[1;33m=\u001b[0m \u001b[1;33m{\u001b[0m\u001b[1;34mb'II'\u001b[0m\u001b[1;33m:\u001b[0m \u001b[1;34m'<'\u001b[0m\u001b[1;33m,\u001b[0m \u001b[1;34mb'MM'\u001b[0m\u001b[1;33m:\u001b[0m \u001b[1;34m'>'\u001b[0m\u001b[1;33m,\u001b[0m \u001b[1;34mb'EP'\u001b[0m\u001b[1;33m:\u001b[0m \u001b[1;34m'<'\u001b[0m\u001b[1;33m}\u001b[0m\u001b[1;33m[\u001b[0m\u001b[0mheader\u001b[0m\u001b[1;33m[\u001b[0m\u001b[1;33m:\u001b[0m\u001b[1;36m2\u001b[0m\u001b[1;33m]\u001b[0m\u001b[1;33m]\u001b[0m\u001b[1;33m\u001b[0m\u001b[1;33m\u001b[0m\u001b[0m\n\u001b[0m\u001b[0;32m   3040\u001b[0m             \u001b[1;32mexcept\u001b[0m \u001b[0mKeyError\u001b[0m\u001b[1;33m:\u001b[0m\u001b[1;33m\u001b[0m\u001b[1;33m\u001b[0m\u001b[0m\n",
      "\u001b[1;31mKeyError\u001b[0m: b'\\xc9\\x00'",
      "\nDuring handling of the above exception, another exception occurred:\n",
      "\u001b[1;31mTiffFileError\u001b[0m                             Traceback (most recent call last)",
      "\u001b[1;32m~\\AppData\\Local\\Temp/ipykernel_15848/3039746438.py\u001b[0m in \u001b[0;36m<module>\u001b[1;34m\u001b[0m\n\u001b[1;32m----> 1\u001b[1;33m \u001b[0mimg\u001b[0m \u001b[1;33m=\u001b[0m \u001b[0mtifffile\u001b[0m\u001b[1;33m.\u001b[0m\u001b[0mimread\u001b[0m\u001b[1;33m(\u001b[0m\u001b[1;34m'N:/dataorg-datasets/sentinel2_images/images_danya/geotiff/L2A_T43SFR_A023740_20200108T054215.tiff'\u001b[0m\u001b[1;33m)\u001b[0m\u001b[1;33m\u001b[0m\u001b[1;33m\u001b[0m\u001b[0m\n\u001b[0m",
      "\u001b[1;32m~\\Anaconda3\\envs\\ml4sat\\lib\\site-packages\\tifffile\\tifffile.py\u001b[0m in \u001b[0;36mimread\u001b[1;34m(files, aszarr, **kwargs)\u001b[0m\n\u001b[0;32m    830\u001b[0m \u001b[1;33m\u001b[0m\u001b[0m\n\u001b[0;32m    831\u001b[0m         \u001b[1;32mif\u001b[0m \u001b[0misinstance\u001b[0m\u001b[1;33m(\u001b[0m\u001b[0mfiles\u001b[0m\u001b[1;33m,\u001b[0m \u001b[1;33m(\u001b[0m\u001b[0mstr\u001b[0m\u001b[1;33m,\u001b[0m \u001b[0mos\u001b[0m\u001b[1;33m.\u001b[0m\u001b[0mPathLike\u001b[0m\u001b[1;33m)\u001b[0m\u001b[1;33m)\u001b[0m \u001b[1;32mor\u001b[0m \u001b[0mhasattr\u001b[0m\u001b[1;33m(\u001b[0m\u001b[0mfiles\u001b[0m\u001b[1;33m,\u001b[0m \u001b[1;34m'seek'\u001b[0m\u001b[1;33m)\u001b[0m\u001b[1;33m:\u001b[0m\u001b[1;33m\u001b[0m\u001b[1;33m\u001b[0m\u001b[0m\n\u001b[1;32m--> 832\u001b[1;33m             \u001b[1;32mwith\u001b[0m \u001b[0mTiffFile\u001b[0m\u001b[1;33m(\u001b[0m\u001b[0mfiles\u001b[0m\u001b[1;33m,\u001b[0m \u001b[1;33m**\u001b[0m\u001b[0mkwargs_file\u001b[0m\u001b[1;33m)\u001b[0m \u001b[1;32mas\u001b[0m \u001b[0mtif\u001b[0m\u001b[1;33m:\u001b[0m\u001b[1;33m\u001b[0m\u001b[1;33m\u001b[0m\u001b[0m\n\u001b[0m\u001b[0;32m    833\u001b[0m                 \u001b[1;32mif\u001b[0m \u001b[0maszarr\u001b[0m\u001b[1;33m:\u001b[0m\u001b[1;33m\u001b[0m\u001b[1;33m\u001b[0m\u001b[0m\n\u001b[0;32m    834\u001b[0m                     \u001b[1;32mreturn\u001b[0m \u001b[0mtif\u001b[0m\u001b[1;33m.\u001b[0m\u001b[0maszarr\u001b[0m\u001b[1;33m(\u001b[0m\u001b[1;33m**\u001b[0m\u001b[0mkwargs\u001b[0m\u001b[1;33m)\u001b[0m\u001b[1;33m\u001b[0m\u001b[1;33m\u001b[0m\u001b[0m\n",
      "\u001b[1;32m~\\Anaconda3\\envs\\ml4sat\\lib\\site-packages\\tifffile\\tifffile.py\u001b[0m in \u001b[0;36m__init__\u001b[1;34m(self, arg, mode, name, offset, size, _multifile, _useframes, _parent, **kwargs)\u001b[0m\n\u001b[0;32m   3039\u001b[0m                 \u001b[0mbyteorder\u001b[0m \u001b[1;33m=\u001b[0m \u001b[1;33m{\u001b[0m\u001b[1;34mb'II'\u001b[0m\u001b[1;33m:\u001b[0m \u001b[1;34m'<'\u001b[0m\u001b[1;33m,\u001b[0m \u001b[1;34mb'MM'\u001b[0m\u001b[1;33m:\u001b[0m \u001b[1;34m'>'\u001b[0m\u001b[1;33m,\u001b[0m \u001b[1;34mb'EP'\u001b[0m\u001b[1;33m:\u001b[0m \u001b[1;34m'<'\u001b[0m\u001b[1;33m}\u001b[0m\u001b[1;33m[\u001b[0m\u001b[0mheader\u001b[0m\u001b[1;33m[\u001b[0m\u001b[1;33m:\u001b[0m\u001b[1;36m2\u001b[0m\u001b[1;33m]\u001b[0m\u001b[1;33m]\u001b[0m\u001b[1;33m\u001b[0m\u001b[1;33m\u001b[0m\u001b[0m\n\u001b[0;32m   3040\u001b[0m             \u001b[1;32mexcept\u001b[0m \u001b[0mKeyError\u001b[0m\u001b[1;33m:\u001b[0m\u001b[1;33m\u001b[0m\u001b[1;33m\u001b[0m\u001b[0m\n\u001b[1;32m-> 3041\u001b[1;33m                 \u001b[1;32mraise\u001b[0m \u001b[0mTiffFileError\u001b[0m\u001b[1;33m(\u001b[0m\u001b[1;34m'not a TIFF file'\u001b[0m\u001b[1;33m)\u001b[0m\u001b[1;33m\u001b[0m\u001b[1;33m\u001b[0m\u001b[0m\n\u001b[0m\u001b[0;32m   3042\u001b[0m \u001b[1;33m\u001b[0m\u001b[0m\n\u001b[0;32m   3043\u001b[0m             \u001b[0mversion\u001b[0m \u001b[1;33m=\u001b[0m \u001b[0mstruct\u001b[0m\u001b[1;33m.\u001b[0m\u001b[0munpack\u001b[0m\u001b[1;33m(\u001b[0m\u001b[0mbyteorder\u001b[0m \u001b[1;33m+\u001b[0m \u001b[1;34m'H'\u001b[0m\u001b[1;33m,\u001b[0m \u001b[0mheader\u001b[0m\u001b[1;33m[\u001b[0m\u001b[1;36m2\u001b[0m\u001b[1;33m:\u001b[0m\u001b[1;36m4\u001b[0m\u001b[1;33m]\u001b[0m\u001b[1;33m)\u001b[0m\u001b[1;33m[\u001b[0m\u001b[1;36m0\u001b[0m\u001b[1;33m]\u001b[0m\u001b[1;33m\u001b[0m\u001b[1;33m\u001b[0m\u001b[0m\n",
      "\u001b[1;31mTiffFileError\u001b[0m: not a TIFF file"
     ]
    }
   ],
   "source": [
    "img = tifffile.imread('N:/dataorg-datasets/sentinel2_images/images_danya/geotiff/L2A_T43SFR_A023740_20200108T054215.tiff')"
   ]
  },
  {
   "cell_type": "markdown",
   "id": "d626fb8b-7019-49cd-bf0d-9a571290a044",
   "metadata": {},
   "source": [
    "### Generate .geojson file"
   ]
  },
  {
   "cell_type": "code",
   "execution_count": 19,
   "id": "f6e6443c-735a-4568-8126-a5ede50ac517",
   "metadata": {},
   "outputs": [],
   "source": [
    "import geojson"
   ]
  },
  {
   "cell_type": "code",
   "execution_count": 20,
   "id": "d84c5a59-1034-49d1-a806-81f6ba5e914d",
   "metadata": {},
   "outputs": [],
   "source": [
    "point = geojson.Point((-115.81, 37.24))\n",
    "\n",
    "features = []\n",
    "features.append(geojson.Feature(geometry=point, properties={\"country\": \"Spain\"}))\n",
    "\n",
    "# add more features...\n",
    "# features.append(...)\n",
    "\n",
    "feature_collection = geojson.FeatureCollection(features)\n",
    "\n",
    "with open('myfile.geojson', 'w') as f:\n",
    "    geojson.dump(feature_collection, f)"
   ]
  },
  {
   "cell_type": "code",
   "execution_count": 21,
   "id": "5d409d92-18f5-464a-bdfd-7e02567fdf2e",
   "metadata": {},
   "outputs": [
    {
     "data": {
      "text/plain": [
       "{\"features\": [{\"geometry\": {\"coordinates\": [-115.81, 37.24], \"type\": \"Point\"}, \"properties\": {\"country\": \"Spain\"}, \"type\": \"Feature\"}], \"type\": \"FeatureCollection\"}"
      ]
     },
     "execution_count": 21,
     "metadata": {},
     "output_type": "execute_result"
    }
   ],
   "source": [
    "feature_collection"
   ]
  },
  {
   "cell_type": "code",
   "execution_count": 25,
   "id": "e2935faf-0573-4765-a89a-b88d3cc565f0",
   "metadata": {},
   "outputs": [
    {
     "data": {
      "text/plain": [
       "{\"features\": [{\"geometry\": {\"coordinates\": [[[2.38, 57.322], [23.194, -20.28], [-120.43, 19.15], [2.38, 57.322]]], \"type\": \"Polygon\"}, \"properties\": {\"tile\": \"43SFR\"}, \"type\": \"Feature\"}], \"type\": \"FeatureCollection\"}"
      ]
     },
     "execution_count": 25,
     "metadata": {},
     "output_type": "execute_result"
    }
   ],
   "source": [
    "polygon = geojson.Polygon([[(2.38, 57.322), (23.194, -20.28), (-120.43, 19.15), (2.38,   57.322)]])\n",
    "features = []\n",
    "features.append(geojson.Feature(geometry=polygon, properties={\"tile\": \"43SFR\"}))\n",
    "feature_collection = geojson.FeatureCollection(features)\n",
    "feature_collection\n"
   ]
  },
  {
   "cell_type": "markdown",
   "id": "823f64b9-31a2-4e0d-adee-18b9532844d6",
   "metadata": {
    "tags": []
   },
   "source": [
    "### Others"
   ]
  },
  {
   "cell_type": "markdown",
   "id": "ce37f3f7-360d-4c91-b89f-e8b74f0b1127",
   "metadata": {},
   "source": [
    "Download data using wget"
   ]
  },
  {
   "cell_type": "code",
   "execution_count": 1,
   "id": "7f687649-1321-4e13-8644-eca3812ef511",
   "metadata": {},
   "outputs": [],
   "source": [
    "import os"
   ]
  },
  {
   "cell_type": "code",
   "execution_count": 4,
   "id": "b43832ca-1086-402f-8d0b-6762095e1fe5",
   "metadata": {},
   "outputs": [],
   "source": [
    "url1 = \"https://scihub.copernicus.eu/dhus/odata/v1/Products('22e7af63-07ad-4076-8541-f6655388dc5e')/\\$value\""
   ]
  },
  {
   "cell_type": "code",
   "execution_count": 6,
   "id": "d5751547-acb1-48c6-b13e-631f7e326e63",
   "metadata": {},
   "outputs": [],
   "source": [
    "url2 = \"https://scihub.copernicus.eu/dhus/odata/v1/Products('2b17b57d-fff4-4645-b539-91f305c27c69')/$value\""
   ]
  },
  {
   "cell_type": "code",
   "execution_count": 5,
   "id": "8da3424d-c492-45d1-b71a-1edbd4c36b54",
   "metadata": {},
   "outputs": [],
   "source": [
    "url3 = \"https://scihub.copernicus.eu/dhus/odata/v1/Products('2aa207f9-608c-4548-b992-2c47bcd5793c')/$value\""
   ]
  },
  {
   "cell_type": "code",
   "execution_count": 6,
   "id": "34d46f24-f1a3-401d-9703-e4e37a38b479",
   "metadata": {},
   "outputs": [
    {
     "data": {
      "text/plain": [
       "0"
      ]
     },
     "execution_count": 6,
     "metadata": {},
     "output_type": "execute_result"
    }
   ],
   "source": [
    "os.system(f'wget  --content-disposition --continue --user=danyayay --password=Ldy19970722 \"{url3}\"')"
   ]
  },
  {
   "cell_type": "code",
   "execution_count": null,
   "id": "d18dc07c-6006-4974-bbc5-081ab738c64b",
   "metadata": {},
   "outputs": [],
   "source": [
    "https://scihub.copernicus.eu/dhus/odata/v1/Products('2aa207f9-608c-4548-b992-2c47bcd5793c')</id><title type=\"text\">S2A_MSIL2A_20201220T053231_N0214_R105_T43SFR_20201220T075655</title><updated>2021-07-23T19:19:53.987Z</updated><category term=\"DHuS.Product\" scheme=\"http://schemas.microsoft.com/ado/2007/08/dataservices/scheme\"/><link href=\"Products(&apos;2aa207f9-608c-4548-b992-2c47bcd5793c&apos;)\" rel=\"edit\" title=\"Product\"/>"
   ]
  },
  {
   "cell_type": "code",
   "execution_count": null,
   "id": "a3a023fd-ac44-481b-9d0c-d90b0a7bdefb",
   "metadata": {},
   "outputs": [],
   "source": [
    "https://scihub.copernicus.eu/dhus/odata/v1/Products('2c50ca48-661e-4163-ba0a-902c4811cf09')/Online/$value"
   ]
  },
  {
   "cell_type": "code",
   "execution_count": null,
   "id": "275a0034-c078-46d9-9a15-d40158fb9eb7",
   "metadata": {},
   "outputs": [],
   "source": [
    "https://scihub.copernicus.eu/dhus/odata/v1/Products('2c50ca48-661e-4163-ba0a-902c4811cf09')/$value"
   ]
  },
  {
   "cell_type": "code",
   "execution_count": null,
   "id": "c9a8dbd8-0a58-4920-b11e-7d1c39720eba",
   "metadata": {},
   "outputs": [],
   "source": [
    "https://scihub.copernicus.eu/dhus/odata/v1/Products('2c50ca48-661e-4163-ba0a-902c4811cf09')/Nodes('S2A_MSIL1C_20200603T052651_N0209_R105_T43SFR_20200603T091952.SAFE')/Nodes('manifest.safe')/$value"
   ]
  },
  {
   "cell_type": "code",
   "execution_count": null,
   "id": "c9789b5c-9291-428d-a7d9-25165d02e23c",
   "metadata": {},
   "outputs": [],
   "source": [
    "https://scihub.copernicus.eu/dhus/odata/v1/Products('0a91217c-c602-471c-bda1-4926af39840f')/Nodes('S2A_MSIL1C_20210509T052651_N0300_R105_T43SFR_20210509T074019.SAFE')/Nodes('GRANULE')/$value"
   ]
  },
  {
   "cell_type": "markdown",
   "id": "38c1ce05-1222-41c4-99e9-1b361e78cb85",
   "metadata": {},
   "source": [
    "good"
   ]
  },
  {
   "cell_type": "code",
   "execution_count": null,
   "id": "81442d84-5e5b-4c86-8e3c-589443fcb525",
   "metadata": {},
   "outputs": [],
   "source": [
    "https://scihub.copernicus.eu/dhus/odata/v1/Products('2b17b57d-fff4-4645-b539-91f305c27c69')/Nodes('S1A_IW_SLC__1SDV_20160117T103451_20160117T103518_009533_00DD94_D46A.SAFE')/Nodes('manifest.safe')/$value"
   ]
  },
  {
   "cell_type": "code",
   "execution_count": null,
   "id": "326c56fa-c188-4a0c-b888-62ab107c3d76",
   "metadata": {},
   "outputs": [],
   "source": [
    "https://scihub.copernicus.eu/dhus/odata/v1/Products('ac8b1986-73e7-4ed2-b21a-8cfefead7e7b')/$value"
   ]
  },
  {
   "cell_type": "code",
   "execution_count": null,
   "id": "ff95186c-4096-4023-80f6-35fc4e8d41da",
   "metadata": {},
   "outputs": [],
   "source": [
    "https://scihub.copernicus.eu/dhus/odata/v1/Products('ac8b1986-73e7-4ed2-b21a-8cfefead7e7b')/Nodes('S2A_MSIL1C_20210601T053641_N0300_R005_T43SFR_20210601T074909.SAFE')/Nodes('manifest.safe')/$value"
   ]
  },
  {
   "cell_type": "code",
   "execution_count": null,
   "id": "f69ee11e-0020-42eb-9026-dc822c18f8dd",
   "metadata": {},
   "outputs": [],
   "source": [
    "https://scihub.copernicus.eu/dhus/odata/v1/Products('8bd3bef3-6a11-4111-ba87-fd3004ed47fd')/Nodes('S2B_MSIL2A_20210523T210019_N0300_R100_T07WDQ_20210523T234058.SAFE')/Nodes('manifest.safe')/$value"
   ]
  },
  {
   "cell_type": "code",
   "execution_count": null,
   "id": "cdfcd772-9675-4cef-95dd-7dc879719293",
   "metadata": {},
   "outputs": [],
   "source": []
  },
  {
   "cell_type": "markdown",
   "id": "e2f99c18-d597-4d37-a6b9-ca35055fd2b4",
   "metadata": {},
   "source": [
    "Download using urllib"
   ]
  },
  {
   "cell_type": "code",
   "execution_count": 7,
   "id": "7ce310a0-10ce-44bb-adc7-3ef2cef2ac41",
   "metadata": {},
   "outputs": [],
   "source": [
    "import urllib"
   ]
  },
  {
   "cell_type": "code",
   "execution_count": 9,
   "id": "cd28751f-74a2-475b-a880-72281d1e1641",
   "metadata": {},
   "outputs": [],
   "source": [
    "# create a password manager\n",
    "password_mgr = urllib.request.HTTPPasswordMgrWithDefaultRealm()\n",
    "\n",
    "# Add the username and password.\n",
    "# If we knew the realm, we could use it instead of None.\n",
    "top_level_url = \"https://scihub.copernicus.eu\"\n",
    "password_mgr.add_password(None, top_level_url, 'danyayay', 'Ldy19970722')\n",
    "\n",
    "handler = urllib.request.HTTPBasicAuthHandler(password_mgr)\n",
    "\n",
    "# create \"opener\" (OpenerDirector instance)\n",
    "opener = urllib.request.build_opener(handler)\n",
    "\n",
    "# use the opener to fetch a URL\n",
    "a_url = top_level_url + \"/dhus/odata/v1/Products('16241b12-cce4-4bf4-8e55-5a790134a1d0')/$value\"\n",
    "opener.open(a_url)\n",
    "\n",
    "# Install the opener.\n",
    "# Now all calls to urllib.request.urlopen use our opener.\n",
    "urllib.request.install_opener(opener)"
   ]
  },
  {
   "cell_type": "code",
   "execution_count": 10,
   "id": "8c0d248f-88d5-416d-a50b-b32aa6e2aada",
   "metadata": {},
   "outputs": [],
   "source": [
    "import requests"
   ]
  },
  {
   "cell_type": "code",
   "execution_count": 11,
   "id": "cd5d753c-2889-4131-9b3a-59c653ca3877",
   "metadata": {},
   "outputs": [
    {
     "ename": "MissingSchema",
     "evalue": "Invalid URL 'myLink_queriedResult/result.xls': No schema supplied. Perhaps you meant http://myLink_queriedResult/result.xls?",
     "output_type": "error",
     "traceback": [
      "\u001b[1;31m---------------------------------------------------------------------------\u001b[0m",
      "\u001b[1;31mMissingSchema\u001b[0m                             Traceback (most recent call last)",
      "\u001b[1;32m~\\AppData\\Local\\Temp/ipykernel_1916/2934491040.py\u001b[0m in \u001b[0;36m<module>\u001b[1;34m\u001b[0m\n\u001b[0;32m      3\u001b[0m \u001b[0mpassword\u001b[0m \u001b[1;33m=\u001b[0m \u001b[1;34m'myPassword'\u001b[0m\u001b[1;33m\u001b[0m\u001b[1;33m\u001b[0m\u001b[0m\n\u001b[0;32m      4\u001b[0m \u001b[1;33m\u001b[0m\u001b[0m\n\u001b[1;32m----> 5\u001b[1;33m \u001b[0mr\u001b[0m\u001b[1;33m=\u001b[0m\u001b[0mrequests\u001b[0m\u001b[1;33m.\u001b[0m\u001b[0mget\u001b[0m\u001b[1;33m(\u001b[0m\u001b[0mtheurl\u001b[0m\u001b[1;33m,\u001b[0m \u001b[0mauth\u001b[0m\u001b[1;33m=\u001b[0m\u001b[0mrequests\u001b[0m\u001b[1;33m.\u001b[0m\u001b[0mauth\u001b[0m\u001b[1;33m.\u001b[0m\u001b[0mHTTPBasicAuth\u001b[0m\u001b[1;33m(\u001b[0m\u001b[0musername\u001b[0m\u001b[1;33m,\u001b[0m \u001b[0mpassword\u001b[0m\u001b[1;33m)\u001b[0m\u001b[1;33m)\u001b[0m\u001b[1;33m\u001b[0m\u001b[1;33m\u001b[0m\u001b[0m\n\u001b[0m",
      "\u001b[1;32m~\\Anaconda3\\envs\\ml4sat\\lib\\site-packages\\requests\\api.py\u001b[0m in \u001b[0;36mget\u001b[1;34m(url, params, **kwargs)\u001b[0m\n\u001b[0;32m     73\u001b[0m     \"\"\"\n\u001b[0;32m     74\u001b[0m \u001b[1;33m\u001b[0m\u001b[0m\n\u001b[1;32m---> 75\u001b[1;33m     \u001b[1;32mreturn\u001b[0m \u001b[0mrequest\u001b[0m\u001b[1;33m(\u001b[0m\u001b[1;34m'get'\u001b[0m\u001b[1;33m,\u001b[0m \u001b[0murl\u001b[0m\u001b[1;33m,\u001b[0m \u001b[0mparams\u001b[0m\u001b[1;33m=\u001b[0m\u001b[0mparams\u001b[0m\u001b[1;33m,\u001b[0m \u001b[1;33m**\u001b[0m\u001b[0mkwargs\u001b[0m\u001b[1;33m)\u001b[0m\u001b[1;33m\u001b[0m\u001b[1;33m\u001b[0m\u001b[0m\n\u001b[0m\u001b[0;32m     76\u001b[0m \u001b[1;33m\u001b[0m\u001b[0m\n\u001b[0;32m     77\u001b[0m \u001b[1;33m\u001b[0m\u001b[0m\n",
      "\u001b[1;32m~\\Anaconda3\\envs\\ml4sat\\lib\\site-packages\\requests\\api.py\u001b[0m in \u001b[0;36mrequest\u001b[1;34m(method, url, **kwargs)\u001b[0m\n\u001b[0;32m     59\u001b[0m     \u001b[1;31m# cases, and look like a memory leak in others.\u001b[0m\u001b[1;33m\u001b[0m\u001b[1;33m\u001b[0m\u001b[1;33m\u001b[0m\u001b[0m\n\u001b[0;32m     60\u001b[0m     \u001b[1;32mwith\u001b[0m \u001b[0msessions\u001b[0m\u001b[1;33m.\u001b[0m\u001b[0mSession\u001b[0m\u001b[1;33m(\u001b[0m\u001b[1;33m)\u001b[0m \u001b[1;32mas\u001b[0m \u001b[0msession\u001b[0m\u001b[1;33m:\u001b[0m\u001b[1;33m\u001b[0m\u001b[1;33m\u001b[0m\u001b[0m\n\u001b[1;32m---> 61\u001b[1;33m         \u001b[1;32mreturn\u001b[0m \u001b[0msession\u001b[0m\u001b[1;33m.\u001b[0m\u001b[0mrequest\u001b[0m\u001b[1;33m(\u001b[0m\u001b[0mmethod\u001b[0m\u001b[1;33m=\u001b[0m\u001b[0mmethod\u001b[0m\u001b[1;33m,\u001b[0m \u001b[0murl\u001b[0m\u001b[1;33m=\u001b[0m\u001b[0murl\u001b[0m\u001b[1;33m,\u001b[0m \u001b[1;33m**\u001b[0m\u001b[0mkwargs\u001b[0m\u001b[1;33m)\u001b[0m\u001b[1;33m\u001b[0m\u001b[1;33m\u001b[0m\u001b[0m\n\u001b[0m\u001b[0;32m     62\u001b[0m \u001b[1;33m\u001b[0m\u001b[0m\n\u001b[0;32m     63\u001b[0m \u001b[1;33m\u001b[0m\u001b[0m\n",
      "\u001b[1;32m~\\Anaconda3\\envs\\ml4sat\\lib\\site-packages\\requests\\sessions.py\u001b[0m in \u001b[0;36mrequest\u001b[1;34m(self, method, url, params, data, headers, cookies, files, auth, timeout, allow_redirects, proxies, hooks, stream, verify, cert, json)\u001b[0m\n\u001b[0;32m    526\u001b[0m             \u001b[0mhooks\u001b[0m\u001b[1;33m=\u001b[0m\u001b[0mhooks\u001b[0m\u001b[1;33m,\u001b[0m\u001b[1;33m\u001b[0m\u001b[1;33m\u001b[0m\u001b[0m\n\u001b[0;32m    527\u001b[0m         )\n\u001b[1;32m--> 528\u001b[1;33m         \u001b[0mprep\u001b[0m \u001b[1;33m=\u001b[0m \u001b[0mself\u001b[0m\u001b[1;33m.\u001b[0m\u001b[0mprepare_request\u001b[0m\u001b[1;33m(\u001b[0m\u001b[0mreq\u001b[0m\u001b[1;33m)\u001b[0m\u001b[1;33m\u001b[0m\u001b[1;33m\u001b[0m\u001b[0m\n\u001b[0m\u001b[0;32m    529\u001b[0m \u001b[1;33m\u001b[0m\u001b[0m\n\u001b[0;32m    530\u001b[0m         \u001b[0mproxies\u001b[0m \u001b[1;33m=\u001b[0m \u001b[0mproxies\u001b[0m \u001b[1;32mor\u001b[0m \u001b[1;33m{\u001b[0m\u001b[1;33m}\u001b[0m\u001b[1;33m\u001b[0m\u001b[1;33m\u001b[0m\u001b[0m\n",
      "\u001b[1;32m~\\Anaconda3\\envs\\ml4sat\\lib\\site-packages\\requests\\sessions.py\u001b[0m in \u001b[0;36mprepare_request\u001b[1;34m(self, request)\u001b[0m\n\u001b[0;32m    454\u001b[0m \u001b[1;33m\u001b[0m\u001b[0m\n\u001b[0;32m    455\u001b[0m         \u001b[0mp\u001b[0m \u001b[1;33m=\u001b[0m \u001b[0mPreparedRequest\u001b[0m\u001b[1;33m(\u001b[0m\u001b[1;33m)\u001b[0m\u001b[1;33m\u001b[0m\u001b[1;33m\u001b[0m\u001b[0m\n\u001b[1;32m--> 456\u001b[1;33m         p.prepare(\n\u001b[0m\u001b[0;32m    457\u001b[0m             \u001b[0mmethod\u001b[0m\u001b[1;33m=\u001b[0m\u001b[0mrequest\u001b[0m\u001b[1;33m.\u001b[0m\u001b[0mmethod\u001b[0m\u001b[1;33m.\u001b[0m\u001b[0mupper\u001b[0m\u001b[1;33m(\u001b[0m\u001b[1;33m)\u001b[0m\u001b[1;33m,\u001b[0m\u001b[1;33m\u001b[0m\u001b[1;33m\u001b[0m\u001b[0m\n\u001b[0;32m    458\u001b[0m             \u001b[0murl\u001b[0m\u001b[1;33m=\u001b[0m\u001b[0mrequest\u001b[0m\u001b[1;33m.\u001b[0m\u001b[0murl\u001b[0m\u001b[1;33m,\u001b[0m\u001b[1;33m\u001b[0m\u001b[1;33m\u001b[0m\u001b[0m\n",
      "\u001b[1;32m~\\Anaconda3\\envs\\ml4sat\\lib\\site-packages\\requests\\models.py\u001b[0m in \u001b[0;36mprepare\u001b[1;34m(self, method, url, headers, files, data, params, auth, cookies, hooks, json)\u001b[0m\n\u001b[0;32m    314\u001b[0m \u001b[1;33m\u001b[0m\u001b[0m\n\u001b[0;32m    315\u001b[0m         \u001b[0mself\u001b[0m\u001b[1;33m.\u001b[0m\u001b[0mprepare_method\u001b[0m\u001b[1;33m(\u001b[0m\u001b[0mmethod\u001b[0m\u001b[1;33m)\u001b[0m\u001b[1;33m\u001b[0m\u001b[1;33m\u001b[0m\u001b[0m\n\u001b[1;32m--> 316\u001b[1;33m         \u001b[0mself\u001b[0m\u001b[1;33m.\u001b[0m\u001b[0mprepare_url\u001b[0m\u001b[1;33m(\u001b[0m\u001b[0murl\u001b[0m\u001b[1;33m,\u001b[0m \u001b[0mparams\u001b[0m\u001b[1;33m)\u001b[0m\u001b[1;33m\u001b[0m\u001b[1;33m\u001b[0m\u001b[0m\n\u001b[0m\u001b[0;32m    317\u001b[0m         \u001b[0mself\u001b[0m\u001b[1;33m.\u001b[0m\u001b[0mprepare_headers\u001b[0m\u001b[1;33m(\u001b[0m\u001b[0mheaders\u001b[0m\u001b[1;33m)\u001b[0m\u001b[1;33m\u001b[0m\u001b[1;33m\u001b[0m\u001b[0m\n\u001b[0;32m    318\u001b[0m         \u001b[0mself\u001b[0m\u001b[1;33m.\u001b[0m\u001b[0mprepare_cookies\u001b[0m\u001b[1;33m(\u001b[0m\u001b[0mcookies\u001b[0m\u001b[1;33m)\u001b[0m\u001b[1;33m\u001b[0m\u001b[1;33m\u001b[0m\u001b[0m\n",
      "\u001b[1;32m~\\Anaconda3\\envs\\ml4sat\\lib\\site-packages\\requests\\models.py\u001b[0m in \u001b[0;36mprepare_url\u001b[1;34m(self, url, params)\u001b[0m\n\u001b[0;32m    388\u001b[0m             \u001b[0merror\u001b[0m \u001b[1;33m=\u001b[0m \u001b[0merror\u001b[0m\u001b[1;33m.\u001b[0m\u001b[0mformat\u001b[0m\u001b[1;33m(\u001b[0m\u001b[0mto_native_string\u001b[0m\u001b[1;33m(\u001b[0m\u001b[0murl\u001b[0m\u001b[1;33m,\u001b[0m \u001b[1;34m'utf8'\u001b[0m\u001b[1;33m)\u001b[0m\u001b[1;33m)\u001b[0m\u001b[1;33m\u001b[0m\u001b[1;33m\u001b[0m\u001b[0m\n\u001b[0;32m    389\u001b[0m \u001b[1;33m\u001b[0m\u001b[0m\n\u001b[1;32m--> 390\u001b[1;33m             \u001b[1;32mraise\u001b[0m \u001b[0mMissingSchema\u001b[0m\u001b[1;33m(\u001b[0m\u001b[0merror\u001b[0m\u001b[1;33m)\u001b[0m\u001b[1;33m\u001b[0m\u001b[1;33m\u001b[0m\u001b[0m\n\u001b[0m\u001b[0;32m    391\u001b[0m \u001b[1;33m\u001b[0m\u001b[0m\n\u001b[0;32m    392\u001b[0m         \u001b[1;32mif\u001b[0m \u001b[1;32mnot\u001b[0m \u001b[0mhost\u001b[0m\u001b[1;33m:\u001b[0m\u001b[1;33m\u001b[0m\u001b[1;33m\u001b[0m\u001b[0m\n",
      "\u001b[1;31mMissingSchema\u001b[0m: Invalid URL 'myLink_queriedResult/result.xls': No schema supplied. Perhaps you meant http://myLink_queriedResult/result.xls?"
     ]
    }
   ],
   "source": [
    "theurl= 'https://scihub.copernicus.eu/dhus/odata/v1/Products('16241b12-cce4-4bf4-8e55-5a790134a1d0')/$value'\n",
    "username = 'myUsername'\n",
    "password = 'myPassword'\n",
    "\n",
    "r=requests.get(theurl, auth=requests.auth.HTTPBasicAuth(username, password))"
   ]
  },
  {
   "cell_type": "code",
   "execution_count": null,
   "id": "7bef170f-d7bb-4e19-8424-8be59480499c",
   "metadata": {},
   "outputs": [],
   "source": []
  }
 ],
 "metadata": {
  "kernelspec": {
   "display_name": "Python 3 (ipykernel)",
   "language": "python",
   "name": "python3"
  },
  "language_info": {
   "codemirror_mode": {
    "name": "ipython",
    "version": 3
   },
   "file_extension": ".py",
   "mimetype": "text/x-python",
   "name": "python",
   "nbconvert_exporter": "python",
   "pygments_lexer": "ipython3",
   "version": "3.9.6"
  }
 },
 "nbformat": 4,
 "nbformat_minor": 5
}
