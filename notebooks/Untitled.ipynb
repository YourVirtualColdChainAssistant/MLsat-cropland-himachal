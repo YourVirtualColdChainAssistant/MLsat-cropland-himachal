{
 "cells": [
  {
   "cell_type": "code",
   "execution_count": 2,
   "id": "215542c1-91d0-4455-af22-9b34ee9f5cfd",
   "metadata": {},
   "outputs": [
    {
     "data": {
      "text/plain": [
       "'L2A'"
      ]
     },
     "execution_count": 2,
     "metadata": {},
     "output_type": "execute_result"
    }
   ],
   "source": [
    "'S2A_MSIL2A_20200105T053221_N9999_R105_T43RGQ_20211115T110155.SAFE'.split('_')[1][3:]"
   ]
  },
  {
   "cell_type": "code",
   "execution_count": 3,
   "id": "c411783c-055a-4bbf-985b-a15872abf861",
   "metadata": {},
   "outputs": [
    {
     "data": {
      "text/plain": [
       "MinMaxScaler()"
      ]
     },
     "execution_count": 3,
     "metadata": {},
     "output_type": "execute_result"
    }
   ],
   "source": [
    "from sklearn.preprocessing import MinMaxScaler\n",
    "data = [[-1, 2], [-0.5, 6], [0, 10], [1, 18]]\n",
    "scaler = MinMaxScaler()\n",
    "scaler.fit(data)\n"
   ]
  },
  {
   "cell_type": "code",
   "execution_count": 4,
   "id": "d076f792-0253-43f6-961c-e4f825c9bf09",
   "metadata": {},
   "outputs": [
    {
     "data": {
      "text/plain": [
       "array([[0.  , 0.  ],\n",
       "       [0.25, 0.25],\n",
       "       [0.5 , 0.5 ],\n",
       "       [1.  , 1.  ]])"
      ]
     },
     "execution_count": 4,
     "metadata": {},
     "output_type": "execute_result"
    }
   ],
   "source": [
    "scaler.transform(data)"
   ]
  },
  {
   "cell_type": "code",
   "execution_count": 5,
   "id": "2787944b-a58c-4a3c-8b4b-697bf069857d",
   "metadata": {},
   "outputs": [
    {
     "data": {
      "text/plain": [
       "array([[0.  , 0.  ],\n",
       "       [0.25, 0.25],\n",
       "       [0.5 , 0.5 ],\n",
       "       [1.  , 1.  ]])"
      ]
     },
     "execution_count": 5,
     "metadata": {},
     "output_type": "execute_result"
    }
   ],
   "source": [
    "scaler = MinMaxScaler().fit(data)\n",
    "scaler.transform(data)"
   ]
  },
  {
   "cell_type": "code",
   "execution_count": 7,
   "id": "c5aa8131-e3a7-4d14-a45d-500f0c3f8e3c",
   "metadata": {},
   "outputs": [],
   "source": [
    "import numpy as np"
   ]
  },
  {
   "cell_type": "code",
   "execution_count": 45,
   "id": "9cf258c5-57e3-4662-809e-97c5482d1135",
   "metadata": {},
   "outputs": [
    {
     "name": "stdout",
     "output_type": "stream",
     "text": [
      "[[0 0 0 3 4]\n",
      " [0 0 2 3 0]\n",
      " [0 1 2 0 0]]\n",
      "[[0 0 0 3 4]\n",
      " [0 0 2 3 3]\n",
      " [0 1 2 2 2]]\n"
     ]
    }
   ],
   "source": [
    "arr = np.array([[5, np.nan, np.nan, 7, 2],\n",
    "                [3, np.nan, 1, 8, np.nan],\n",
    "                [4, 9, 6, np.nan, np.nan]])\n",
    "mask = np.isnan(arr)\n",
    "idx = np.where(~mask,np.arange(mask.shape[1]),0)\n",
    "print(idx)\n",
    "np.maximum.accumulate(idx,axis=1, out=idx)\n",
    "print(idx)\n",
    "out = arr[np.arange(idx.shape[0])[:,None], idx]"
   ]
  },
  {
   "cell_type": "code",
   "execution_count": null,
   "id": "0b1317e0-e283-4199-8014-67a214598958",
   "metadata": {},
   "outputs": [],
   "source": [
    "arr[mask] = arr[np.nonzero(mask)[0], idx[mask]]"
   ]
  },
  {
   "cell_type": "code",
   "execution_count": 33,
   "id": "529ad127-2730-4caa-ab0e-ef59878c06be",
   "metadata": {},
   "outputs": [
    {
     "data": {
      "text/plain": [
       "array([0, 0, 1, 1, 2, 2], dtype=int64)"
      ]
     },
     "execution_count": 33,
     "metadata": {},
     "output_type": "execute_result"
    }
   ],
   "source": [
    "np.nonzero(mask)[0]"
   ]
  },
  {
   "cell_type": "code",
   "execution_count": 34,
   "id": "a674175f-998a-4824-8d7d-77d4a6bc23f6",
   "metadata": {},
   "outputs": [
    {
     "data": {
      "text/plain": [
       "array([0, 0, 0, 3, 2, 2])"
      ]
     },
     "execution_count": 34,
     "metadata": {},
     "output_type": "execute_result"
    }
   ],
   "source": [
    "idx[mask]"
   ]
  },
  {
   "cell_type": "code",
   "execution_count": 9,
   "id": "3e1a85da-8dc4-4486-9c0f-544300d74b26",
   "metadata": {},
   "outputs": [
    {
     "data": {
      "text/plain": [
       "array([[ 5., nan, nan,  7.,  2.],\n",
       "       [ 3., nan,  1.,  8., nan],\n",
       "       [ 4.,  9.,  6., nan, nan]])"
      ]
     },
     "execution_count": 9,
     "metadata": {},
     "output_type": "execute_result"
    }
   ],
   "source": [
    "arr"
   ]
  },
  {
   "cell_type": "code",
   "execution_count": 10,
   "id": "720ff507-202b-4e78-a648-c6ddb0f8d936",
   "metadata": {},
   "outputs": [
    {
     "data": {
      "text/plain": [
       "array([[5., 5., 5., 7., 2.],\n",
       "       [3., 3., 1., 8., 8.],\n",
       "       [4., 9., 6., 6., 6.]])"
      ]
     },
     "execution_count": 10,
     "metadata": {},
     "output_type": "execute_result"
    }
   ],
   "source": [
    "out"
   ]
  },
  {
   "cell_type": "code",
   "execution_count": 11,
   "id": "5704b589-cde3-4e79-ae14-e0475db5e755",
   "metadata": {},
   "outputs": [
    {
     "data": {
      "text/plain": [
       "array([[False,  True,  True, False, False],\n",
       "       [False,  True, False, False,  True],\n",
       "       [False, False, False,  True,  True]])"
      ]
     },
     "execution_count": 11,
     "metadata": {},
     "output_type": "execute_result"
    }
   ],
   "source": [
    "mask"
   ]
  },
  {
   "cell_type": "code",
   "execution_count": 12,
   "id": "9f6fc6e8-5265-4381-be41-01396532b610",
   "metadata": {},
   "outputs": [
    {
     "data": {
      "text/plain": [
       "array([[0, 0, 0, 3, 4],\n",
       "       [0, 0, 2, 3, 3],\n",
       "       [0, 1, 2, 2, 2]])"
      ]
     },
     "execution_count": 12,
     "metadata": {},
     "output_type": "execute_result"
    }
   ],
   "source": [
    "idx"
   ]
  },
  {
   "cell_type": "code",
   "execution_count": 13,
   "id": "62593d2c-9c19-41c7-b9b0-a4b9f99254de",
   "metadata": {},
   "outputs": [],
   "source": [
    "from scipy import interpolate"
   ]
  },
  {
   "cell_type": "code",
   "execution_count": 38,
   "id": "f1cbfca1-efe0-4add-ae87-16363bb8ef32",
   "metadata": {},
   "outputs": [],
   "source": [
    "x = np.arange(0, 12)\n",
    "y = np.array([1,1.14, 1.3, 3, 0, 6, 7, 7, 6.5, 6, 0, 1])\n",
    "mask = y == 0\n",
    "f = interpolate.interp1d(x[~mask], y[~mask], fill_value='extrapolate')\n",
    "x_new = x[mask]\n",
    "y_new = f(x_new)"
   ]
  },
  {
   "cell_type": "code",
   "execution_count": 17,
   "id": "9ce953dc-4cca-491d-af97-e66614e02adb",
   "metadata": {},
   "outputs": [],
   "source": [
    "import matplotlib.pyplot as plt\n",
    "%matplotlib inline"
   ]
  },
  {
   "cell_type": "code",
   "execution_count": 30,
   "id": "2e64cfbc-9990-40c6-87ec-5b982bfe739a",
   "metadata": {},
   "outputs": [
    {
     "data": {
      "text/plain": [
       "array([ 4, 10])"
      ]
     },
     "execution_count": 30,
     "metadata": {},
     "output_type": "execute_result"
    }
   ],
   "source": [
    "x_new"
   ]
  },
  {
   "cell_type": "code",
   "execution_count": 31,
   "id": "89341bf6-d70c-479e-b5cf-affe8e100346",
   "metadata": {},
   "outputs": [
    {
     "data": {
      "text/plain": [
       "[<matplotlib.lines.Line2D at 0x25198a32910>]"
      ]
     },
     "execution_count": 31,
     "metadata": {},
     "output_type": "execute_result"
    },
    {
     "data": {
      "image/png": "[encoded data removed]",
      "text/plain": [
       "<Figure size 432x288 with 1 Axes>"
      ]
     },
     "metadata": {
      "needs_background": "light"
     },
     "output_type": "display_data"
    }
   ],
   "source": [
    "plt.plot(x, y, 'o')\n",
    "plt.plot(x_new, y_new, '*')"
   ]
  },
  {
   "cell_type": "code",
   "execution_count": 41,
   "id": "ef272d5f-de97-4d54-9214-6de7a81e51c5",
   "metadata": {},
   "outputs": [
    {
     "data": {
      "text/plain": [
       "[array([ 4, 10]), array([ 4, 10])]"
      ]
     },
     "execution_count": 41,
     "metadata": {},
     "output_type": "execute_result"
    }
   ],
   "source": [
    "[x_new, x_new]"
   ]
  },
  {
   "cell_type": "code",
   "execution_count": 43,
   "id": "287d409f-eb42-4c61-afec-e26e76c90c95",
   "metadata": {},
   "outputs": [
    {
     "data": {
      "text/plain": [
       "array([], dtype=float64)"
      ]
     },
     "execution_count": 43,
     "metadata": {},
     "output_type": "execute_result"
    }
   ],
   "source": [
    "f([])"
   ]
  },
  {
   "cell_type": "code",
   "execution_count": 46,
   "id": "6d12522a-04f6-4685-bfbe-6acff46d5a3f",
   "metadata": {},
   "outputs": [
    {
     "data": {
      "text/plain": [
       "array([[False,  True,  True, False, False],\n",
       "       [False,  True, False, False,  True],\n",
       "       [False, False, False,  True,  True]])"
      ]
     },
     "execution_count": 46,
     "metadata": {},
     "output_type": "execute_result"
    }
   ],
   "source": [
    "mask"
   ]
  },
  {
   "cell_type": "code",
   "execution_count": 54,
   "id": "bfc6cac3-de54-44f0-a94c-4857bad6fa86",
   "metadata": {},
   "outputs": [
    {
     "data": {
      "text/plain": [
       "(array([0, 1, 2], dtype=int64),)"
      ]
     },
     "execution_count": 54,
     "metadata": {},
     "output_type": "execute_result"
    }
   ],
   "source": []
  },
  {
   "cell_type": "code",
   "execution_count": 56,
   "id": "412b610e-d323-4d9c-9d6d-6e8baee638af",
   "metadata": {},
   "outputs": [],
   "source": [
    "mask = np.array([[False,  False,  True, False, False],\n",
    "       [False,  True, False, False,  True],\n",
    "       [False, False, False,  True,  True],\n",
    "       [False, False, False,  False,  False]])"
   ]
  },
  {
   "cell_type": "code",
   "execution_count": 59,
   "id": "d9bddf18-4c3d-49f9-a41a-bd2e73b2c83b",
   "metadata": {},
   "outputs": [
    {
     "data": {
      "text/plain": [
       "array([0, 1, 2], dtype=int64)"
      ]
     },
     "execution_count": 59,
     "metadata": {},
     "output_type": "execute_result"
    }
   ],
   "source": [
    "np.nonzero(mask.sum(axis=1))[0]"
   ]
  },
  {
   "cell_type": "code",
   "execution_count": 63,
   "id": "53a4c5e8-6a86-43a1-9680-bfa0b4b82e69",
   "metadata": {},
   "outputs": [
    {
     "data": {
      "text/plain": [
       "array([1.  , 1.14, 1.3 , 3.  , 0.  , 6.  , 7.  , 7.  , 6.5 , 6.  , 0.  ,\n",
       "       1.  ])"
      ]
     },
     "execution_count": 63,
     "metadata": {},
     "output_type": "execute_result"
    }
   ],
   "source": [
    "y"
   ]
  },
  {
   "cell_type": "code",
   "execution_count": 66,
   "id": "ead08698-10f2-4390-a326-a022fd502ea3",
   "metadata": {},
   "outputs": [
    {
     "data": {
      "text/plain": [
       "(array([ 0,  1,  2,  3,  5,  6,  7,  8,  9, 11], dtype=int64),)"
      ]
     },
     "execution_count": 66,
     "metadata": {},
     "output_type": "execute_result"
    }
   ],
   "source": [
    "np.nonzero(y)"
   ]
  },
  {
   "cell_type": "code",
   "execution_count": 70,
   "id": "4581b586-ea1e-4ebc-abb6-f6f9e0c29e66",
   "metadata": {},
   "outputs": [
    {
     "data": {
      "text/plain": [
       "array([[ 4],\n",
       "       [10]], dtype=int64)"
      ]
     },
     "execution_count": 70,
     "metadata": {},
     "output_type": "execute_result"
    }
   ],
   "source": [
    "np.argwhere(y == 0)"
   ]
  },
  {
   "cell_type": "code",
   "execution_count": 73,
   "id": "285d5bfb-ee30-4b65-9ba2-8158ad682a79",
   "metadata": {},
   "outputs": [
    {
     "data": {
      "text/plain": [
       "array([False,  True, False, False,  True])"
      ]
     },
     "execution_count": 73,
     "metadata": {},
     "output_type": "execute_result"
    }
   ],
   "source": [
    "mask[1,:]"
   ]
  },
  {
   "cell_type": "code",
   "execution_count": 77,
   "id": "003ed236-7936-4061-808c-94a42467accd",
   "metadata": {},
   "outputs": [],
   "source": [
    "a = np.arange(20).reshape(2,2,5)"
   ]
  },
  {
   "cell_type": "code",
   "execution_count": 78,
   "id": "ea0b4231-89a4-4561-8b09-738e3ecd91b1",
   "metadata": {},
   "outputs": [
    {
     "data": {
      "text/plain": [
       "(2, 2, 5)"
      ]
     },
     "execution_count": 78,
     "metadata": {},
     "output_type": "execute_result"
    }
   ],
   "source": [
    "shape = a.shape\n",
    "shape"
   ]
  },
  {
   "cell_type": "code",
   "execution_count": 79,
   "id": "3c21ca56-ed7f-42d6-a9b8-21254352293a",
   "metadata": {},
   "outputs": [
    {
     "data": {
      "text/plain": [
       "array([[ 0,  1,  2,  3,  4],\n",
       "       [ 5,  6,  7,  8,  9],\n",
       "       [10, 11, 12, 13, 14],\n",
       "       [15, 16, 17, 18, 19]])"
      ]
     },
     "execution_count": 79,
     "metadata": {},
     "output_type": "execute_result"
    }
   ],
   "source": [
    "a.reshape(-1, shape[-1])"
   ]
  },
  {
   "cell_type": "code",
   "execution_count": 80,
   "id": "e6f1f5ed-23a3-45b8-b831-a901fe7937e4",
   "metadata": {},
   "outputs": [
    {
     "data": {
      "text/plain": [
       "array([[[ 0,  1,  2,  3,  4],\n",
       "        [ 5,  6,  7,  8,  9]],\n",
       "\n",
       "       [[10, 11, 12, 13, 14],\n",
       "        [15, 16, 17, 18, 19]]])"
      ]
     },
     "execution_count": 80,
     "metadata": {},
     "output_type": "execute_result"
    }
   ],
   "source": [
    "a.reshape(-1, shape[-1]).reshape(shape)"
   ]
  },
  {
   "cell_type": "code",
   "execution_count": 82,
   "id": "2c1b140b-e6e5-400a-b54a-134290f5cb62",
   "metadata": {},
   "outputs": [
    {
     "data": {
      "text/plain": [
       "array([ 6, 16])"
      ]
     },
     "execution_count": 82,
     "metadata": {},
     "output_type": "execute_result"
    }
   ],
   "source": [
    "a[:,:,1].max(axis=1)"
   ]
  },
  {
   "cell_type": "code",
   "execution_count": null,
   "id": "f3603f70-7bcb-42a7-8b00-4e8da4a2353d",
   "metadata": {},
   "outputs": [],
   "source": []
  },
  {
   "cell_type": "code",
   "execution_count": 87,
   "id": "c313f00e-9768-4e62-a8c9-0962866691bd",
   "metadata": {},
   "outputs": [],
   "source": [
    "import os\n",
    "\n",
    "import fiona\n",
    "import pickle\n",
    "import shapely\n",
    "import numpy as np\n",
    "import pandas as pd\n",
    "import geopandas as gpd\n",
    "import skimage\n",
    "import rasterio\n",
    "from rasterio.windows import Window"
   ]
  },
  {
   "cell_type": "code",
   "execution_count": 95,
   "id": "8bcebb4b-be93-45a2-bc3d-7f218e448584",
   "metadata": {},
   "outputs": [],
   "source": [
    "def prepare_meta_window(geotiff_dir, label_path):\n",
    "    img_path = geotiff_dir + os.listdir(geotiff_dir)[0]\n",
    "    img = rasterio.open(img_path)\n",
    "    transform, dst_crs = img.transform, img.crs\n",
    "\n",
    "    label_shp = gpd.read_file(label_path)\n",
    "    label_shp = label_shp.to_crs(dst_crs)\n",
    "    window = get_window(transform, label_shp.total_bounds)\n",
    "\n",
    "    _, meta = load_geotiff(img_path, window, as_float=False)\n",
    "    return meta, window\n",
    "\n",
    "\n",
    "def get_window(transform, bounds):\n",
    "    \"\"\"\n",
    "\n",
    "    Parameters\n",
    "    ----------\n",
    "    transform\n",
    "    bounds\n",
    "\n",
    "    Returns\n",
    "    -------\n",
    "    Window(col_off, row_off, width, height)\n",
    "    \"\"\"\n",
    "    minx, miny, maxx, maxy = bounds\n",
    "    row_min, col_min = rasterio.transform.rowcol(transform, minx, maxy)\n",
    "    row_max, col_max = rasterio.transform.rowcol(transform, maxx, miny)\n",
    "    return Window(col_min, row_min, col_max - col_min, row_max - row_min)\n",
    "\n",
    "def load_geotiff(path, window=None, as_float=True):\n",
    "    \"\"\" Load the geotiff as a list of numpy array.\n",
    "        INPUT : path (str) -> the path to the geotiff\n",
    "                window (rasterio.windows.Window) -> the window to use when loading the image\n",
    "        OUTPUT : band (list of numpy array) -> the different bands unscaled\n",
    "                 meta (dictionary) -> the metadata associated with the geotiff\n",
    "    \"\"\"\n",
    "    with rasterio.open(path) as f:\n",
    "        if as_float:\n",
    "            band = [skimage.img_as_float(f.read(i + 1, window=window)) for i in range(f.count)]\n",
    "        else:  # normal read\n",
    "            band = [f.read(i + 1, window=window) for i in range(f.count)]\n",
    "        meta = f.meta\n",
    "        if window is not None:\n",
    "            meta['height'] = window.height\n",
    "            meta['width'] = window.width\n",
    "            meta['transform'] = f.window_transform(window)\n",
    "    return band, meta\n"
   ]
  },
  {
   "cell_type": "code",
   "execution_count": 102,
   "id": "b3aa13c9-a53f-4a3a-80f9-25b761ef6ca6",
   "metadata": {},
   "outputs": [],
   "source": [
    "feature_dir = 'N:/dataorg-datasets/MLsatellite/sentinel2_images/images_danya/43SFR/raster/'\n",
    "label_path = '../data/train_labels/train_labels.shp'"
   ]
  },
  {
   "cell_type": "code",
   "execution_count": 96,
   "id": "6467037c-7f81-46a9-8b34-88e5e4618c26",
   "metadata": {},
   "outputs": [],
   "source": [
    "meta, window = prepare_meta_window(feature_dir, label_path)"
   ]
  },
  {
   "cell_type": "code",
   "execution_count": 99,
   "id": "53fe20c5-84c7-4536-81ee-01feacd0d8a6",
   "metadata": {},
   "outputs": [
    {
     "data": {
      "text/plain": [
       "({'driver': 'GTiff',\n",
       "  'dtype': 'uint16',\n",
       "  'nodata': None,\n",
       "  'width': 1531,\n",
       "  'height': 2241,\n",
       "  'count': 5,\n",
       "  'crs': CRS.from_epsg(32643),\n",
       "  'transform': Affine(10.0, 0.0, 693170.0,\n",
       "         0.0, -10.0, 3568220.0)},\n",
       " Window(col_off=9317, row_off=3178, width=1531, height=2241))"
      ]
     },
     "execution_count": 99,
     "metadata": {},
     "output_type": "execute_result"
    }
   ],
   "source": [
    "meta, window"
   ]
  },
  {
   "cell_type": "code",
   "execution_count": 98,
   "id": "5ce170b6-3d03-42dd-9339-436bbd2bf8c5",
   "metadata": {},
   "outputs": [
    {
     "data": {
      "text/plain": [
       "([array([[0., 0., 0., ..., 0., 0., 0.],\n",
       "         [0., 0., 0., ..., 0., 0., 0.],\n",
       "         [0., 0., 0., ..., 0., 0., 0.],\n",
       "         ...,\n",
       "         [0., 0., 0., ..., 0., 0., 0.],\n",
       "         [0., 0., 0., ..., 0., 0., 0.],\n",
       "         [0., 0., 0., ..., 0., 0., 0.]]),\n",
       "  array([[0., 0., 0., ..., 0., 0., 0.],\n",
       "         [0., 0., 0., ..., 0., 0., 0.],\n",
       "         [0., 0., 0., ..., 0., 0., 0.],\n",
       "         ...,\n",
       "         [0., 0., 0., ..., 0., 0., 0.],\n",
       "         [0., 0., 0., ..., 0., 0., 0.],\n",
       "         [0., 0., 0., ..., 0., 0., 0.]]),\n",
       "  array([[0., 0., 0., ..., 0., 0., 0.],\n",
       "         [0., 0., 0., ..., 0., 0., 0.],\n",
       "         [0., 0., 0., ..., 0., 0., 0.],\n",
       "         ...,\n",
       "         [0., 0., 0., ..., 0., 0., 0.],\n",
       "         [0., 0., 0., ..., 0., 0., 0.],\n",
       "         [0., 0., 0., ..., 0., 0., 0.]]),\n",
       "  array([[0., 0., 0., ..., 0., 0., 0.],\n",
       "         [0., 0., 0., ..., 0., 0., 0.],\n",
       "         [0., 0., 0., ..., 0., 0., 0.],\n",
       "         ...,\n",
       "         [0., 0., 0., ..., 0., 0., 0.],\n",
       "         [0., 0., 0., ..., 0., 0., 0.],\n",
       "         [0., 0., 0., ..., 0., 0., 0.]]),\n",
       "  array([[0., 0., 0., ..., 0., 0., 0.],\n",
       "         [0., 0., 0., ..., 0., 0., 0.],\n",
       "         [0., 0., 0., ..., 0., 0., 0.],\n",
       "         ...,\n",
       "         [0., 0., 0., ..., 0., 0., 0.],\n",
       "         [0., 0., 0., ..., 0., 0., 0.],\n",
       "         [0., 0., 0., ..., 0., 0., 0.]])],\n",
       " {'driver': 'GTiff',\n",
       "  'dtype': 'uint16',\n",
       "  'nodata': None,\n",
       "  'width': 1827,\n",
       "  'height': 2669,\n",
       "  'count': 5,\n",
       "  'crs': CRS.from_epsg(32643),\n",
       "  'transform': Affine(10.0, 0.0, 691370.0,\n",
       "         0.0, -10.0, 3571330.0)})"
      ]
     },
     "execution_count": 98,
     "metadata": {},
     "output_type": "execute_result"
    }
   ],
   "source": [
    "%%timeit\n",
    "load_geotiff('N:/dataorg-datasets/MLsatellite/sentinel2_images/images_danya/train_region/L2A_T43SFR_A014860_20200110T053549.tiff')"
   ]
  },
  {
   "cell_type": "code",
   "execution_count": 106,
   "id": "9650aed4-1f07-4df0-b7ef-f3a5476df9bc",
   "metadata": {},
   "outputs": [
    {
     "name": "stdout",
     "output_type": "stream",
     "text": [
      "810 ms ± 101 ms per loop (mean ± std. dev. of 7 runs, 1 loop each)\n"
     ]
    }
   ],
   "source": [
    "%%timeit\n",
    "load_geotiff(feature_dir + 'L2A_T43SFR_A027558_20201001T053726.tiff', window, as_float=False)"
   ]
  },
  {
   "cell_type": "code",
   "execution_count": 107,
   "id": "05ff370d-7290-4aa0-99be-6280db93fba3",
   "metadata": {},
   "outputs": [
    {
     "name": "stdout",
     "output_type": "stream",
     "text": [
      "910 ms ± 123 ms per loop (mean ± std. dev. of 7 runs, 1 loop each)\n"
     ]
    }
   ],
   "source": [
    "%%timeit\n",
    "load_geotiff(feature_dir + 'L2A_T43SFR_A027558_20201001T053726.tiff', window, as_float=True)"
   ]
  },
  {
   "cell_type": "code",
   "execution_count": 108,
   "id": "e73f4cb1-9750-4b73-959c-e21a29ab4de6",
   "metadata": {},
   "outputs": [
    {
     "data": {
      "text/plain": [
       "array([[0, 1, 2, 3, 4],\n",
       "       [5, 6, 7, 8, 9]])"
      ]
     },
     "execution_count": 108,
     "metadata": {},
     "output_type": "execute_result"
    }
   ],
   "source": [
    "np.arange(10).reshape(2,5)"
   ]
  },
  {
   "cell_type": "code",
   "execution_count": 109,
   "id": "e45190f6-fc66-4b4b-8272-f44a7f630020",
   "metadata": {},
   "outputs": [
    {
     "data": {
      "text/plain": [
       "array([2.5, 3.5, 4.5, 5.5, 6.5])"
      ]
     },
     "execution_count": 109,
     "metadata": {},
     "output_type": "execute_result"
    }
   ],
   "source": [
    "np.arange(10).reshape(2,5).mean(axis=0)"
   ]
  },
  {
   "cell_type": "code",
   "execution_count": 1,
   "id": "c0b22768-b893-42c7-bdf3-e4815e4aeb54",
   "metadata": {},
   "outputs": [],
   "source": [
    "import rasterio"
   ]
  },
  {
   "cell_type": "code",
   "execution_count": 2,
   "id": "cdc4810d-ad28-44fc-95e3-827fb6d510c2",
   "metadata": {},
   "outputs": [],
   "source": [
    "raster = rasterio.open('N:/dataorg-datasets/MLsatellite/sentinel2_images/images_danya/43SFR/raster/L2A_T43SFR_A014860_20200110T053549.tiff')"
   ]
  },
  {
   "cell_type": "code",
   "execution_count": 3,
   "id": "db48398c-04ce-4b50-8c89-2cd9aa4563fd",
   "metadata": {},
   "outputs": [
    {
     "data": {
      "text/plain": [
       "('B02', 'B03', 'B04', 'B08', 'cloud mask')"
      ]
     },
     "execution_count": 3,
     "metadata": {},
     "output_type": "execute_result"
    }
   ],
   "source": [
    "raster.descriptions"
   ]
  },
  {
   "cell_type": "code",
   "execution_count": 4,
   "id": "c01cd2fa-7688-4242-9018-bc08ce565e89",
   "metadata": {},
   "outputs": [
    {
     "data": {
      "text/plain": [
       "{'driver': 'GTiff',\n",
       " 'dtype': 'uint16',\n",
       " 'nodata': None,\n",
       " 'width': 10980,\n",
       " 'height': 10980,\n",
       " 'count': 5,\n",
       " 'crs': CRS.from_epsg(32643),\n",
       " 'transform': Affine(10.0, 0.0, 600000.0,\n",
       "        0.0, -10.0, 3600000.0)}"
      ]
     },
     "execution_count": 4,
     "metadata": {},
     "output_type": "execute_result"
    }
   ],
   "source": [
    "raster.meta"
   ]
  },
  {
   "cell_type": "code",
   "execution_count": 8,
   "id": "4f070a5c-769a-4dc8-b4bc-df5e53155777",
   "metadata": {},
   "outputs": [
    {
     "data": {
      "text/plain": [
       "4"
      ]
     },
     "execution_count": 8,
     "metadata": {},
     "output_type": "execute_result"
    }
   ],
   "source": [
    "raster.descriptions.index('cloud mask')"
   ]
  },
  {
   "cell_type": "code",
   "execution_count": 13,
   "id": "cf04fd1d-d0b5-44e1-8a46-2ba551e14f28",
   "metadata": {},
   "outputs": [
    {
     "data": {
      "text/plain": [
       "['B02', 'B03', 'B04', 'B08']"
      ]
     },
     "execution_count": 13,
     "metadata": {},
     "output_type": "execute_result"
    }
   ],
   "source": [
    "a = list(raster.descriptions)\n",
    "a.remove('cloud mask')\n",
    "a"
   ]
  },
  {
   "cell_type": "code",
   "execution_count": 16,
   "id": "b7be60ca-f36f-4943-92ea-2bf9bc53817a",
   "metadata": {},
   "outputs": [
    {
     "name": "stdout",
     "output_type": "stream",
     "text": [
      "0\n",
      "1\n",
      "2\n",
      "3\n",
      "4\n",
      "5\n",
      "6\n",
      "7\n",
      "8\n",
      "9\n"
     ]
    }
   ],
   "source": [
    "for i in range(10):\n",
    "    print(i)"
   ]
  },
  {
   "cell_type": "code",
   "execution_count": 19,
   "id": "c876dd06-afee-49a7-83f9-036216b80c8a",
   "metadata": {},
   "outputs": [
    {
     "data": {
      "text/plain": [
       "[0, 1, 2, 3, 4, 5, 6, 7, 8, 9]"
      ]
     },
     "execution_count": 19,
     "metadata": {},
     "output_type": "execute_result"
    }
   ],
   "source": [
    "list(range(10))"
   ]
  },
  {
   "cell_type": "code",
   "execution_count": 21,
   "id": "9e9fe72a-2fdb-4961-85d9-b731c5ea6d6e",
   "metadata": {},
   "outputs": [
    {
     "data": {
      "text/plain": [
       "[0, 1, 3, 4, 5, 6, 7, 8, 9]"
      ]
     },
     "execution_count": 21,
     "metadata": {},
     "output_type": "execute_result"
    }
   ],
   "source": [
    "b = list(range(10))\n",
    "b.pop(2)\n",
    "b"
   ]
  },
  {
   "cell_type": "code",
   "execution_count": 25,
   "id": "708e7c30-fcbe-41df-a7cf-2d0c22ee91da",
   "metadata": {},
   "outputs": [],
   "source": [
    "import numpy as np"
   ]
  },
  {
   "cell_type": "code",
   "execution_count": 27,
   "id": "16d37e15-6b30-4191-8e22-a5b8bf521b69",
   "metadata": {},
   "outputs": [
    {
     "data": {
      "text/plain": [
       "array([0, 1])"
      ]
     },
     "execution_count": 27,
     "metadata": {},
     "output_type": "execute_result"
    }
   ],
   "source": [
    "np.array([0,1,2,3,4])[[0,1]]"
   ]
  },
  {
   "cell_type": "code",
   "execution_count": 1,
   "id": "a92532ec-1051-4ec2-a603-db1c9b01a5e2",
   "metadata": {},
   "outputs": [
    {
     "data": {
      "text/plain": [
       "True"
      ]
     },
     "execution_count": 1,
     "metadata": {},
     "output_type": "execute_result"
    }
   ],
   "source": [
    "isinstance([1,2], list)"
   ]
  },
  {
   "cell_type": "code",
   "execution_count": 2,
   "id": "a7abe408-20a3-4673-b6cc-6fda486e59e3",
   "metadata": {},
   "outputs": [
    {
     "data": {
      "text/plain": [
       "True"
      ]
     },
     "execution_count": 2,
     "metadata": {},
     "output_type": "execute_result"
    }
   ],
   "source": [
    "isinstance('sss', str)"
   ]
  },
  {
   "cell_type": "code",
   "execution_count": 4,
   "id": "e49f4c08-1d8c-49ec-b5dd-bb463910454b",
   "metadata": {},
   "outputs": [
    {
     "data": {
      "text/plain": [
       "128.55386328125"
      ]
     },
     "execution_count": 4,
     "metadata": {},
     "output_type": "execute_result"
    }
   ],
   "source": [
    "131639156/1024/1000"
   ]
  },
  {
   "cell_type": "markdown",
   "id": "12c181b8-8a60-4b6b-b25f-f85dbb87fc3f",
   "metadata": {},
   "source": [
    "## Quick check"
   ]
  },
  {
   "cell_type": "code",
   "execution_count": 5,
   "id": "30ba0dbf-ac96-478e-8953-358569f8b7b1",
   "metadata": {},
   "outputs": [],
   "source": [
    "quick_check = r'K:\\2021-data-org\\4. RESEARCH_n\\ML\\MLsatellite\\Data\\layers_india\\GT\\survey-farmer-locations\\processed\\shp\\survey_points_20211213_quick_look.shp'"
   ]
  },
  {
   "cell_type": "code",
   "execution_count": 3,
   "id": "ba573e8e-4e7e-4123-8218-c37199c5dc58",
   "metadata": {},
   "outputs": [],
   "source": [
    "import geopandas as gpd"
   ]
  },
  {
   "cell_type": "code",
   "execution_count": 6,
   "id": "c688d618-9c7a-4293-82b2-123d49f8aef8",
   "metadata": {},
   "outputs": [],
   "source": [
    "shp = gpd.read_file(quick_check)"
   ]
  },
  {
   "cell_type": "code",
   "execution_count": 8,
   "id": "2ebfe3ee-66e6-4de5-b296-fefca182fa6d",
   "metadata": {},
   "outputs": [
    {
     "data": {
      "text/html": [
       "<div>\n",
       "<style scoped>\n",
       "    .dataframe tbody tr th:only-of-type {\n",
       "        vertical-align: middle;\n",
       "    }\n",
       "\n",
       "    .dataframe tbody tr th {\n",
       "        vertical-align: top;\n",
       "    }\n",
       "\n",
       "    .dataframe thead th {\n",
       "        text-align: right;\n",
       "    }\n",
       "</style>\n",
       "<table border=\"1\" class=\"dataframe\">\n",
       "  <thead>\n",
       "    <tr style=\"text-align: right;\">\n",
       "      <th></th>\n",
       "      <th>field_1</th>\n",
       "      <th>Name of th</th>\n",
       "      <th>Contact nu</th>\n",
       "      <th>Gender</th>\n",
       "      <th>Are you a</th>\n",
       "      <th>If Yes_ Pl</th>\n",
       "      <th>If Yes_ _1</th>\n",
       "      <th>Site GPS l</th>\n",
       "      <th>Site GPS_1</th>\n",
       "      <th>Altitude (</th>\n",
       "      <th>...</th>\n",
       "      <th>Can you wr</th>\n",
       "      <th>Please m_1</th>\n",
       "      <th>Do you use</th>\n",
       "      <th>If Yes, do</th>\n",
       "      <th>If Yes, 10</th>\n",
       "      <th>What is _5</th>\n",
       "      <th>Operating</th>\n",
       "      <th>assessment</th>\n",
       "      <th>map</th>\n",
       "      <th>geometry</th>\n",
       "    </tr>\n",
       "  </thead>\n",
       "  <tbody>\n",
       "    <tr>\n",
       "      <th>0</th>\n",
       "      <td>2021-05-20</td>\n",
       "      <td>xxzzxxvv</td>\n",
       "      <td>94jk669yz5</td>\n",
       "      <td>Male</td>\n",
       "      <td>No</td>\n",
       "      <td>None</td>\n",
       "      <td>None</td>\n",
       "      <td>31.1922965118397</td>\n",
       "      <td>77.7477854408256</td>\n",
       "      <td>5800</td>\n",
       "      <td>...</td>\n",
       "      <td>Yes</td>\n",
       "      <td>English, Hindi</td>\n",
       "      <td>Yes</td>\n",
       "      <td>Yes</td>\n",
       "      <td>Yes</td>\n",
       "      <td>Samsung</td>\n",
       "      <td>Android</td>\n",
       "      <td>NaN</td>\n",
       "      <td>None</td>\n",
       "      <td>POINT Z (77.74779 31.19230 0.00000)</td>\n",
       "    </tr>\n",
       "    <tr>\n",
       "      <th>1</th>\n",
       "      <td>2021-06-21</td>\n",
       "      <td>xxzzxxvv</td>\n",
       "      <td>98167jk037</td>\n",
       "      <td>Male</td>\n",
       "      <td>No</td>\n",
       "      <td>Progressive Growers Association</td>\n",
       "      <td>240.0</td>\n",
       "      <td>31.1154025094707</td>\n",
       "      <td>77.8020973736234</td>\n",
       "      <td>7300</td>\n",
       "      <td>...</td>\n",
       "      <td>Yes</td>\n",
       "      <td>English, Hindi</td>\n",
       "      <td>Yes</td>\n",
       "      <td>Yes</td>\n",
       "      <td>Yes</td>\n",
       "      <td>Xiaomi</td>\n",
       "      <td>Android</td>\n",
       "      <td>NaN</td>\n",
       "      <td>None</td>\n",
       "      <td>POINT Z (77.80210 31.11540 0.00000)</td>\n",
       "    </tr>\n",
       "    <tr>\n",
       "      <th>2</th>\n",
       "      <td>2021-05-22</td>\n",
       "      <td>xxzzxxvv</td>\n",
       "      <td>xyab040007</td>\n",
       "      <td>Male</td>\n",
       "      <td>Yes</td>\n",
       "      <td>Baghi Apple Growers Society</td>\n",
       "      <td>None</td>\n",
       "      <td>31.1409520521778</td>\n",
       "      <td>77.7861961282442</td>\n",
       "      <td>6200</td>\n",
       "      <td>...</td>\n",
       "      <td>Yes</td>\n",
       "      <td>English, Hindi</td>\n",
       "      <td>Yes</td>\n",
       "      <td>Yes</td>\n",
       "      <td>Yes</td>\n",
       "      <td>Vivo</td>\n",
       "      <td>Android</td>\n",
       "      <td>NaN</td>\n",
       "      <td>None</td>\n",
       "      <td>POINT Z (77.78620 31.14095 0.00000)</td>\n",
       "    </tr>\n",
       "    <tr>\n",
       "      <th>3</th>\n",
       "      <td>2021-05-25</td>\n",
       "      <td>xxzzxxvv</td>\n",
       "      <td>94jk8qr6st2</td>\n",
       "      <td>Male</td>\n",
       "      <td>Yes</td>\n",
       "      <td>Jubbal Apple Growers Society</td>\n",
       "      <td>300.0</td>\n",
       "      <td>31.1061073409128</td>\n",
       "      <td>77.6496921409057</td>\n",
       "      <td>7500</td>\n",
       "      <td>...</td>\n",
       "      <td>Yes</td>\n",
       "      <td>English, Hindi</td>\n",
       "      <td>Yes</td>\n",
       "      <td>Yes</td>\n",
       "      <td>Yes</td>\n",
       "      <td>Apple</td>\n",
       "      <td>IoS</td>\n",
       "      <td>NaN</td>\n",
       "      <td>None</td>\n",
       "      <td>POINT Z (77.64969 31.10611 0.00000)</td>\n",
       "    </tr>\n",
       "    <tr>\n",
       "      <th>4</th>\n",
       "      <td>2021-06-26</td>\n",
       "      <td>xxzzxxvv</td>\n",
       "      <td>stjk325953</td>\n",
       "      <td>Male</td>\n",
       "      <td>Yes</td>\n",
       "      <td>None</td>\n",
       "      <td>None</td>\n",
       "      <td>None</td>\n",
       "      <td>None</td>\n",
       "      <td>6000</td>\n",
       "      <td>...</td>\n",
       "      <td>Yes</td>\n",
       "      <td>English and Hindi</td>\n",
       "      <td>Yes</td>\n",
       "      <td>Yes</td>\n",
       "      <td>Yes</td>\n",
       "      <td>Xiaomi</td>\n",
       "      <td>Android</td>\n",
       "      <td>NaN</td>\n",
       "      <td>None</td>\n",
       "      <td>None</td>\n",
       "    </tr>\n",
       "  </tbody>\n",
       "</table>\n",
       "<p>5 rows × 113 columns</p>\n",
       "</div>"
      ],
      "text/plain": [
       "      field_1 Name of th   Contact nu Gender Are you a  \\\n",
       "0  2021-05-20   xxzzxxvv   94jk669yz5   Male        No   \n",
       "1  2021-06-21   xxzzxxvv   98167jk037   Male        No   \n",
       "2  2021-05-22   xxzzxxvv   xyab040007   Male       Yes   \n",
       "3  2021-05-25   xxzzxxvv  94jk8qr6st2   Male       Yes   \n",
       "4  2021-06-26   xxzzxxvv   stjk325953   Male       Yes   \n",
       "\n",
       "                        If Yes_ Pl If Yes_ _1        Site GPS l  \\\n",
       "0                             None       None  31.1922965118397   \n",
       "1  Progressive Growers Association      240.0  31.1154025094707   \n",
       "2      Baghi Apple Growers Society       None  31.1409520521778   \n",
       "3     Jubbal Apple Growers Society      300.0  31.1061073409128   \n",
       "4                             None       None              None   \n",
       "\n",
       "         Site GPS_1 Altitude (  ... Can you wr         Please m_1 Do you use  \\\n",
       "0  77.7477854408256       5800  ...        Yes     English, Hindi        Yes   \n",
       "1  77.8020973736234       7300  ...        Yes     English, Hindi        Yes   \n",
       "2  77.7861961282442       6200  ...        Yes     English, Hindi        Yes   \n",
       "3  77.6496921409057       7500  ...        Yes     English, Hindi        Yes   \n",
       "4              None       6000  ...        Yes  English and Hindi        Yes   \n",
       "\n",
       "  If Yes, do If Yes, 10 What is _5 Operating assessment   map  \\\n",
       "0        Yes        Yes    Samsung   Android        NaN  None   \n",
       "1        Yes        Yes     Xiaomi   Android        NaN  None   \n",
       "2        Yes        Yes       Vivo   Android        NaN  None   \n",
       "3        Yes        Yes      Apple       IoS        NaN  None   \n",
       "4        Yes        Yes     Xiaomi   Android        NaN  None   \n",
       "\n",
       "                              geometry  \n",
       "0  POINT Z (77.74779 31.19230 0.00000)  \n",
       "1  POINT Z (77.80210 31.11540 0.00000)  \n",
       "2  POINT Z (77.78620 31.14095 0.00000)  \n",
       "3  POINT Z (77.64969 31.10611 0.00000)  \n",
       "4                                 None  \n",
       "\n",
       "[5 rows x 113 columns]"
      ]
     },
     "execution_count": 8,
     "metadata": {},
     "output_type": "execute_result"
    }
   ],
   "source": [
    "shp.head()"
   ]
  },
  {
   "cell_type": "code",
   "execution_count": 12,
   "id": "4f1f3bbe-7941-4a0e-ae3f-7243841ce159",
   "metadata": {},
   "outputs": [
    {
     "data": {
      "text/plain": [
       "assessment\n",
       "-1.0     27\n",
       " 0.0      9\n",
       " 1.0    156\n",
       " 2.0    124\n",
       "Name: geometry, dtype: int64"
      ]
     },
     "execution_count": 12,
     "metadata": {},
     "output_type": "execute_result"
    }
   ],
   "source": [
    "shp.groupby(by='assessment').count()['geometry']"
   ]
  },
  {
   "cell_type": "code",
   "execution_count": 32,
   "id": "f6fb5eb7-4ad9-4697-84f1-d2a9347e3e0f",
   "metadata": {},
   "outputs": [
    {
     "data": {
      "text/plain": [
       "61"
      ]
     },
     "execution_count": 32,
     "metadata": {},
     "output_type": "execute_result"
    }
   ],
   "source": [
    "shp[~shp['Site GPS l'].isnull().values].assessment.isnull().values.sum()"
   ]
  },
  {
   "cell_type": "code",
   "execution_count": 16,
   "id": "1c1c8d37-5d17-40e1-9d76-62753b11dd2e",
   "metadata": {},
   "outputs": [
    {
     "data": {
      "text/plain": [
       "(484, 113)"
      ]
     },
     "execution_count": 16,
     "metadata": {},
     "output_type": "execute_result"
    }
   ],
   "source": [
    "shp.shape"
   ]
  },
  {
   "cell_type": "code",
   "execution_count": 33,
   "id": "f32c746c-4312-4542-a5e8-294fcdcec2fd",
   "metadata": {},
   "outputs": [
    {
     "data": {
      "text/plain": [
       "168"
      ]
     },
     "execution_count": 33,
     "metadata": {},
     "output_type": "execute_result"
    }
   ],
   "source": [
    "shp.assessment.isnull().values.sum()"
   ]
  },
  {
   "cell_type": "code",
   "execution_count": 34,
   "id": "546e7d48-3ee8-456c-9ba4-747c55789914",
   "metadata": {},
   "outputs": [
    {
     "data": {
      "text/plain": [
       "107"
      ]
     },
     "execution_count": 34,
     "metadata": {},
     "output_type": "execute_result"
    }
   ],
   "source": [
    "168-61"
   ]
  },
  {
   "cell_type": "markdown",
   "id": "4bac105e-1083-4645-92f5-9af7374e47d2",
   "metadata": {},
   "source": [
    "## Check file number"
   ]
  },
  {
   "cell_type": "code",
   "execution_count": 1,
   "id": "15c4b35c-cdb1-4c42-8afa-374cdea29ff9",
   "metadata": {},
   "outputs": [],
   "source": [
    "path = r'N:\\dataorg-datasets\\MLsatellite\\sentinel2_images\\images_danya'"
   ]
  },
  {
   "cell_type": "code",
   "execution_count": 2,
   "id": "e5b0fd82-ab36-48a6-80e7-cedbaa685144",
   "metadata": {},
   "outputs": [],
   "source": [
    "import os"
   ]
  },
  {
   "cell_type": "code",
   "execution_count": 9,
   "id": "135968b6-6cb6-4154-9343-93b5f90f0dd6",
   "metadata": {},
   "outputs": [
    {
     "name": "stdout",
     "output_type": "stream",
     "text": [
      "tile\t# raw\t# L1C\t# L2A\t# raster\n",
      "43RFQ\t141\t141\t141\t141\n",
      "43RGP\t64\t0\t0\t0\n",
      "43RGQ\t65\t65\t65\t65\n",
      "43SER\t71\t71\t71\t71\n",
      "43SES\t70\t70\t70\t70\n",
      "43SFR\t131\t131\t131\t132\n",
      "43SFS\t139\t139\t139\t139\n",
      "43SGR\t68\t68\t68\t68\n",
      "43SGS\t136\t136\t136\t136\n",
      "44RKV\t142\t142\t142\t142\n",
      "44SKA\t140\t140\t140\t140\n"
     ]
    }
   ],
   "source": [
    "print(f'tile\\t# raw\\t# L1C\\t# L2A\\t# raster')\n",
    "for i in os.listdir(path):\n",
    "    if i.startswith('43') or i.startswith('44'):\n",
    "        l = []\n",
    "        for j in ['raw', 'L1C', 'L2A', 'raster']:\n",
    "            if os.path.exists(os.path.join(path, i, j)):\n",
    "                l.append(len(os.listdir(os.path.join(path, i, j))))\n",
    "            else:\n",
    "                l.append(0)\n",
    "        print(f'{i}\\t{l[0]}\\t{l[1]}\\t{l[2]}\\t{l[3]}')"
   ]
  },
  {
   "cell_type": "code",
   "execution_count": 8,
   "id": "32f9a8c4-2d52-431f-8f59-0653848a1f4b",
   "metadata": {},
   "outputs": [
    {
     "name": "stdout",
     "output_type": "stream",
     "text": [
      "tile\t# raw\t# L1C\t# L2A\t# raster\n",
      "43RFQ\t141\t141\t141\t141\n",
      "43RGP\t53\t0\t0\t0\n",
      "43RGQ\t65\t65\t65\t65\n",
      "43SER\t71\t71\t71\t71\n",
      "43SES\t70\t70\t70\t70\n",
      "43SFR\t131\t131\t131\t132\n",
      "43SFS\t139\t139\t140\t138\n",
      "43SGR\t68\t68\t68\t68\n",
      "43SGS\t136\t136\t136\t136\n",
      "44RKV\t142\t142\t142\t142\n",
      "44SKA\t140\t140\t140\t140\n"
     ]
    }
   ],
   "source": [
    "print(f'tile\\t# raw\\t# L1C\\t# L2A\\t# raster')\n",
    "for i in os.listdir(path):\n",
    "    if i.startswith('43') or i.startswith('44'):\n",
    "        l = []\n",
    "        for j in ['raw', 'L1C', 'L2A', 'raster']:\n",
    "            if os.path.exists(os.path.join(path, i, j)):\n",
    "                l.append(len(os.listdir(os.path.join(path, i, j))))\n",
    "            else:\n",
    "                l.append(0)\n",
    "        print(f'{i}\\t{l[0]}\\t{l[1]}\\t{l[2]}\\t{l[3]}')"
   ]
  },
  {
   "cell_type": "code",
   "execution_count": 17,
   "id": "31a2b603-d4ac-4956-a2e8-67b2ff241fbc",
   "metadata": {},
   "outputs": [
    {
     "data": {
      "text/plain": [
       "42.4"
      ]
     },
     "execution_count": 17,
     "metadata": {},
     "output_type": "execute_result"
    }
   ],
   "source": [
    "727365852/2241/1531/5"
   ]
  },
  {
   "cell_type": "code",
   "execution_count": 18,
   "id": "fa183d6d-2f91-48eb-94fc-790789333394",
   "metadata": {},
   "outputs": [
    {
     "data": {
      "text/plain": [
       "5.214285714285714"
      ]
     },
     "execution_count": 18,
     "metadata": {},
     "output_type": "execute_result"
    }
   ],
   "source": [
    "365/70"
   ]
  },
  {
   "cell_type": "code",
   "execution_count": null,
   "id": "a03cddea-fefa-49b9-ac21-d4257ca852c4",
   "metadata": {},
   "outputs": [],
   "source": []
  },
  {
   "cell_type": "markdown",
   "id": "27e5f3d1-a0cc-402b-84d5-41f59ff94c60",
   "metadata": {},
   "source": [
    "## Check raster"
   ]
  },
  {
   "cell_type": "code",
   "execution_count": 10,
   "id": "d571822a-6f64-4e16-80df-37d570e0543a",
   "metadata": {},
   "outputs": [],
   "source": [
    "import rasterio"
   ]
  },
  {
   "cell_type": "code",
   "execution_count": 12,
   "id": "2a5ddca5-4e5f-4414-9eb3-1681c86a76a7",
   "metadata": {},
   "outputs": [],
   "source": [
    "f = rasterio.open(os.path.join(path, '43SER', 'raster', 'L2A_T43SER_A017620_20200721T054903.tiff'))"
   ]
  },
  {
   "cell_type": "code",
   "execution_count": 14,
   "id": "70b8a8c9-ab15-4bc5-9742-6b4750d7f501",
   "metadata": {},
   "outputs": [],
   "source": [
    "f.crs"
   ]
  },
  {
   "cell_type": "code",
   "execution_count": 15,
   "id": "b0334165-dcb9-430e-acf3-69ae2a133796",
   "metadata": {},
   "outputs": [],
   "source": [
    "arr5 = f.read(5)"
   ]
  },
  {
   "cell_type": "code",
   "execution_count": 16,
   "id": "34aa8d8f-394e-4843-877b-18af04afd4b4",
   "metadata": {},
   "outputs": [
    {
     "data": {
      "text/plain": [
       "(0, 0)"
      ]
     },
     "execution_count": 16,
     "metadata": {},
     "output_type": "execute_result"
    }
   ],
   "source": [
    "arr5.max(), arr5.min()"
   ]
  },
  {
   "cell_type": "code",
   "execution_count": null,
   "id": "eed53b45-d658-4826-b823-53fff811113d",
   "metadata": {},
   "outputs": [],
   "source": []
  },
  {
   "cell_type": "markdown",
   "id": "c35d326d-d793-45e9-9125-4634ae577dc3",
   "metadata": {},
   "source": [
    "## Cat mask"
   ]
  },
  {
   "cell_type": "code",
   "execution_count": 20,
   "id": "8f7fd8e0-a45d-49d4-8c3c-0e7740c8e71e",
   "metadata": {},
   "outputs": [],
   "source": [
    "import numpy as np"
   ]
  },
  {
   "cell_type": "code",
   "execution_count": 36,
   "id": "ae225852-c7b8-4019-a2f8-1913b7286ae4",
   "metadata": {},
   "outputs": [],
   "source": [
    "a = np.arange(10).reshape(2,5)\n",
    "b = np.array([0,2,2,4,5,4,7,7,8,0]).reshape(2,5)\n"
   ]
  },
  {
   "cell_type": "code",
   "execution_count": 37,
   "id": "97984d53-fb22-4006-97e6-7877a67ab5a8",
   "metadata": {},
   "outputs": [
    {
     "data": {
      "text/plain": [
       "array([[[0, 1, 2, 3, 4],\n",
       "        [5, 6, 7, 8, 9]],\n",
       "\n",
       "       [[0, 2, 2, 4, 5],\n",
       "        [4, 7, 7, 8, 0]]])"
      ]
     },
     "execution_count": 37,
     "metadata": {},
     "output_type": "execute_result"
    }
   ],
   "source": [
    "np.stack([a,b])"
   ]
  },
  {
   "cell_type": "code",
   "execution_count": 30,
   "id": "85baab45-4143-43da-8a10-2949e6d1dfd2",
   "metadata": {},
   "outputs": [
    {
     "data": {
      "text/plain": [
       "(2, 2, 5)"
      ]
     },
     "execution_count": 30,
     "metadata": {},
     "output_type": "execute_result"
    }
   ],
   "source": [
    "np.stack([a,b]).shape"
   ]
  },
  {
   "cell_type": "code",
   "execution_count": 38,
   "id": "4ac13c29-bf5a-46c8-a56d-0f8bd23b9beb",
   "metadata": {},
   "outputs": [
    {
     "data": {
      "text/plain": [
       "array([[0, 2, 2, 4, 5],\n",
       "       [5, 7, 7, 8, 9]])"
      ]
     },
     "execution_count": 38,
     "metadata": {},
     "output_type": "execute_result"
    }
   ],
   "source": [
    "np.stack([a,b]).max(axis=0)"
   ]
  },
  {
   "cell_type": "code",
   "execution_count": 60,
   "id": "756f2161-7e3f-4a60-8cef-ff2e94ba5f2c",
   "metadata": {},
   "outputs": [
    {
     "data": {
      "text/plain": [
       "array([[[0, 0, 0, 0, 0],\n",
       "        [1, 1, 1, 1, 1]],\n",
       "\n",
       "       [[0, 1, 2, 3, 4],\n",
       "        [0, 1, 2, 3, 4]]])"
      ]
     },
     "execution_count": 60,
     "metadata": {},
     "output_type": "execute_result"
    }
   ],
   "source": [
    "np.indices(np.stack([a,b]).argmax(axis=0).shape)"
   ]
  },
  {
   "cell_type": "code",
   "execution_count": 61,
   "id": "538f42c0-a875-4c64-867e-828551ccfa7f",
   "metadata": {},
   "outputs": [
    {
     "data": {
      "text/plain": [
       "array([[0, 0, 0, 0, 0],\n",
       "       [1, 1, 1, 1, 1]])"
      ]
     },
     "execution_count": 61,
     "metadata": {},
     "output_type": "execute_result"
    }
   ],
   "source": [
    "np.indices(np.stack([a,b]).argmax(axis=0).shape)[0]"
   ]
  },
  {
   "cell_type": "code",
   "execution_count": 62,
   "id": "e7f8f32d-f160-41b3-b1f5-13f764d5311f",
   "metadata": {},
   "outputs": [
    {
     "data": {
      "text/plain": [
       "array([[0, 1, 2, 3, 4],\n",
       "       [0, 1, 2, 3, 4]])"
      ]
     },
     "execution_count": 62,
     "metadata": {},
     "output_type": "execute_result"
    }
   ],
   "source": [
    "np.indices(np.stack([a,b]).argmax(axis=0).shape)[1]"
   ]
  },
  {
   "cell_type": "code",
   "execution_count": 58,
   "id": "11b6f703-fc46-4e0f-8df7-0f47836f1ee1",
   "metadata": {},
   "outputs": [
    {
     "data": {
      "text/plain": [
       "array([[0, 1, 0, 1, 1],\n",
       "       [0, 1, 0, 0, 0]], dtype=int64)"
      ]
     },
     "execution_count": 58,
     "metadata": {},
     "output_type": "execute_result"
    }
   ],
   "source": [
    "np.stack([a,b]).argmax(axis=0)"
   ]
  },
  {
   "cell_type": "code",
   "execution_count": 63,
   "id": "bf92a0aa-5b2a-449f-91dd-ebac7485cc34",
   "metadata": {},
   "outputs": [
    {
     "data": {
      "text/plain": [
       "array([[0, 2, 2, 4, 5],\n",
       "       [5, 7, 7, 8, 9]])"
      ]
     },
     "execution_count": 63,
     "metadata": {},
     "output_type": "execute_result"
    }
   ],
   "source": [
    "np.stack([a,b])[np.stack([a,b]).argmax(axis=0), \n",
    "                np.indices(np.stack([a,b]).argmax(axis=0).shape)[0], \n",
    "                np.indices(np.stack([a,b]).argmax(axis=0).shape)[1]]"
   ]
  },
  {
   "cell_type": "code",
   "execution_count": 64,
   "id": "9a22c777-9374-4f1c-aac2-02c40b5bfbdb",
   "metadata": {},
   "outputs": [
    {
     "data": {
      "text/plain": [
       "array([[[0, 1, 2, 3, 4],\n",
       "        [5, 6, 7, 8, 9]],\n",
       "\n",
       "       [[0, 2, 2, 4, 5],\n",
       "        [4, 7, 7, 8, 0]],\n",
       "\n",
       "       [[0, 1, 2, 3, 4],\n",
       "        [5, 6, 7, 8, 9]]])"
      ]
     },
     "execution_count": 64,
     "metadata": {},
     "output_type": "execute_result"
    }
   ],
   "source": [
    "np.stack([a,b,a])"
   ]
  },
  {
   "cell_type": "code",
   "execution_count": 65,
   "id": "c6e60f01-c589-4104-8d2d-7d9aa30962ca",
   "metadata": {},
   "outputs": [
    {
     "data": {
      "text/plain": [
       "array([[0, 2, 2, 4, 5],\n",
       "       [5, 7, 7, 8, 9]])"
      ]
     },
     "execution_count": 65,
     "metadata": {},
     "output_type": "execute_result"
    }
   ],
   "source": [
    "np.stack([a,b,a])[np.stack([a,b,a]).argmax(axis=0), \n",
    "                    np.indices(np.stack([a,b,a]).argmax(axis=0).shape)[0], \n",
    "                    np.indices(np.stack([a,b,a]).argmax(axis=0).shape)[1]]"
   ]
  },
  {
   "cell_type": "code",
   "execution_count": 78,
   "id": "5251a77f-a417-4193-890f-239365a4b349",
   "metadata": {},
   "outputs": [
    {
     "data": {
      "text/plain": [
       "array([[[0, 0],\n",
       "        [1, 2],\n",
       "        [2, 2],\n",
       "        [3, 4],\n",
       "        [4, 5]],\n",
       "\n",
       "       [[5, 4],\n",
       "        [6, 7],\n",
       "        [7, 7],\n",
       "        [8, 8],\n",
       "        [9, 0]]])"
      ]
     },
     "execution_count": 78,
     "metadata": {},
     "output_type": "execute_result"
    }
   ],
   "source": [
    "np.stack([list(a), list(b)], axis=2)"
   ]
  },
  {
   "cell_type": "code",
   "execution_count": 79,
   "id": "4d960136-0b06-48f0-85e1-ed909cd8ac97",
   "metadata": {},
   "outputs": [
    {
     "data": {
      "text/plain": [
       "array([[[0, 1, 2, 3, 4],\n",
       "        [5, 6, 7, 8, 9]]])"
      ]
     },
     "execution_count": 79,
     "metadata": {},
     "output_type": "execute_result"
    }
   ],
   "source": [
    "np.stack([list(a)])"
   ]
  },
  {
   "cell_type": "code",
   "execution_count": 80,
   "id": "e6d9cbd8-5cef-4fb7-a904-579deb4afded",
   "metadata": {},
   "outputs": [
    {
     "data": {
      "text/plain": [
       "array([[0, 1, 2, 3, 4],\n",
       "       [5, 6, 7, 8, 9]])"
      ]
     },
     "execution_count": 80,
     "metadata": {},
     "output_type": "execute_result"
    }
   ],
   "source": [
    "np.stack(a)"
   ]
  },
  {
   "cell_type": "code",
   "execution_count": 81,
   "id": "af753999-576e-41ef-8f8c-d9047b364b64",
   "metadata": {},
   "outputs": [
    {
     "data": {
      "text/plain": [
       "2744776.8"
      ]
     },
     "execution_count": 81,
     "metadata": {},
     "output_type": "execute_result"
    }
   ],
   "source": [
    "13723884/5"
   ]
  },
  {
   "cell_type": "code",
   "execution_count": 87,
   "id": "34b10b40-a7db-430b-9bde-556d94f88dda",
   "metadata": {},
   "outputs": [
    {
     "data": {
      "text/plain": [
       "array([[0, 3, 0, 1, 0],\n",
       "       [1, 2, 1, 0, 0],\n",
       "       [0, 0, 1, 3, 4]])"
      ]
     },
     "execution_count": 87,
     "metadata": {},
     "output_type": "execute_result"
    }
   ],
   "source": [
    "a = np.array([0, 3, 0, 1, 0, 1, 2, 1, 0, 0, 0, 0, 1, 3, 4]).reshape(3,-1)\n",
    "a"
   ]
  },
  {
   "cell_type": "code",
   "execution_count": 90,
   "id": "9b81e97c-47ee-41b4-8bbd-9973874ff5c3",
   "metadata": {},
   "outputs": [
    {
     "data": {
      "text/plain": [
       "(array([[0, 0, 0, 1, 3],\n",
       "        [0, 1, 1, 0, 2],\n",
       "        [4, 0, 1, 3, 0]]),\n",
       " array([1, 1, 1, 1, 1], dtype=int64))"
      ]
     },
     "execution_count": 90,
     "metadata": {},
     "output_type": "execute_result"
    }
   ],
   "source": [
    "unique, counts = np.unique(a, return_counts=True, axis=1)\n",
    "unique, counts"
   ]
  },
  {
   "cell_type": "code",
   "execution_count": null,
   "id": "4d081807-b443-4b84-bd6b-6d8fc39a0dab",
   "metadata": {},
   "outputs": [],
   "source": [
    "dict(zip(unique, counts))"
   ]
  },
  {
   "cell_type": "code",
   "execution_count": 91,
   "id": "53a491b5-406d-4322-9007-1fef89f8ee74",
   "metadata": {},
   "outputs": [
    {
     "data": {
      "text/plain": [
       "array([3, 2, 2])"
      ]
     },
     "execution_count": 91,
     "metadata": {},
     "output_type": "execute_result"
    }
   ],
   "source": [
    "(a == 0).sum(axis=1)"
   ]
  },
  {
   "cell_type": "markdown",
   "id": "40af341c-33fc-49d4-9778-62f724bcaa07",
   "metadata": {},
   "source": [
    "## VRT file"
   ]
  },
  {
   "cell_type": "code",
   "execution_count": 1,
   "id": "b4d8f004-1da4-494d-9abb-2f3e25acc77c",
   "metadata": {},
   "outputs": [],
   "source": [
    "path = r'K:\\2021-data-org\\4. RESEARCH_n\\ML\\MLsatellite\\Data\\layers_india\\ancilliary_data\\elevation\\IND_alt.vrt'"
   ]
  },
  {
   "cell_type": "code",
   "execution_count": 2,
   "id": "09803d03-b049-499e-98c5-a99e8503ee1c",
   "metadata": {},
   "outputs": [],
   "source": [
    "import rasterio \n",
    "import rasterio.plot\n",
    "\n",
    "from osgeo import gdal"
   ]
  },
  {
   "cell_type": "code",
   "execution_count": 3,
   "id": "542f3b6b-c209-4e58-8ea0-82b94a9d78fb",
   "metadata": {},
   "outputs": [
    {
     "data": {
      "image/png": "[encoded data removed]",
      "text/plain": [
       "<Figure size 432x288 with 1 Axes>"
      ]
     },
     "metadata": {
      "needs_background": "light"
     },
     "output_type": "display_data"
    }
   ],
   "source": [
    "# vrt_options = gdal.BuildVRTOptions(resampleAlg='cubic', addAlpha=True)\n",
    "# test_vrt = gdal.BuildVRT(r'D:\\Test TIFF\\test.vrt', [r'D:\\Test TIFF\\Tile_58_LULC250k_2015_16_revised.tif', r'D:\\Test TIFF\\Tile_60_LULC250k_2015_16_revised.tif'], options=vrt_options)\n",
    "\n",
    "# test_vrt = None\n",
    "\n",
    "with rasterio.open(path) as vrt:\n",
    "    rasterio.plot.show(vrt)"
   ]
  },
  {
   "cell_type": "code",
   "execution_count": 5,
   "id": "e637f6a2-9357-48b0-8d42-f1a5742a5395",
   "metadata": {},
   "outputs": [],
   "source": [
    "vrt = rasterio.open(path)"
   ]
  },
  {
   "cell_type": "code",
   "execution_count": 8,
   "id": "300235b3-20e8-4cfc-baaa-8b486979d6ff",
   "metadata": {},
   "outputs": [],
   "source": [
    "arr = vrt.read(1)"
   ]
  },
  {
   "cell_type": "code",
   "execution_count": 10,
   "id": "66c1dc7e-0470-4c04-814f-3223d2545c4b",
   "metadata": {},
   "outputs": [
    {
     "data": {
      "text/plain": [
       "array([[ 3234,  3287,  3395, ...,  4453,  4332,  4351],\n",
       "       [ 3338,  3539,  3407, ...,  4334,  4313,  4270],\n",
       "       [ 3441,  3423,  3253, ...,  4182,  4171,  4159],\n",
       "       ...,\n",
       "       [-9999, -9999, -9999, ..., -9999, -9999, -9999],\n",
       "       [-9999, -9999, -9999, ..., -9999, -9999, -9999],\n",
       "       [-9999, -9999, -9999, ..., -9999, -9999, -9999]], dtype=int16)"
      ]
     },
     "execution_count": 10,
     "metadata": {},
     "output_type": "execute_result"
    }
   ],
   "source": [
    "arr"
   ]
  },
  {
   "cell_type": "code",
   "execution_count": 9,
   "id": "62597e24-0eff-4cbd-8447-5dd47a3d0d50",
   "metadata": {},
   "outputs": [
    {
     "data": {
      "text/plain": [
       "(3468, 3528)"
      ]
     },
     "execution_count": 9,
     "metadata": {},
     "output_type": "execute_result"
    }
   ],
   "source": [
    "arr.shape"
   ]
  },
  {
   "cell_type": "code",
   "execution_count": 11,
   "id": "c7faffa1-5f4c-467c-b07c-48bad70f54d2",
   "metadata": {},
   "outputs": [
    {
     "data": {
      "text/plain": [
       "CRS.from_epsg(4326)"
      ]
     },
     "execution_count": 11,
     "metadata": {},
     "output_type": "execute_result"
    }
   ],
   "source": [
    "vrt.crs"
   ]
  },
  {
   "cell_type": "code",
   "execution_count": 13,
   "id": "e67fe90a-7ce6-448b-88c5-ad572561880f",
   "metadata": {},
   "outputs": [
    {
     "data": {
      "text/plain": [
       "(<ColorInterp.undefined: 0>,)"
      ]
     },
     "execution_count": 13,
     "metadata": {},
     "output_type": "execute_result"
    }
   ],
   "source": [
    "vrt.colorinterp"
   ]
  },
  {
   "cell_type": "code",
   "execution_count": 14,
   "id": "0bd5ef65-538b-4b6d-84a7-88f16bae2885",
   "metadata": {},
   "outputs": [],
   "source": [
    "from matplotlib import pyplot\n",
    "from matplotlib import colors, cm\n",
    "\n",
    "cmap = pyplot.get_cmap('rainbow')"
   ]
  },
  {
   "cell_type": "code",
   "execution_count": 16,
   "id": "d75b7e6e-7f5e-45bd-bfdf-6e12cbc03945",
   "metadata": {},
   "outputs": [
    {
     "ename": "AttributeError",
     "evalue": "'LinearSegmentedColormap' object has no attribute 'colors'",
     "output_type": "error",
     "traceback": [
      "\u001b[1;31m---------------------------------------------------------------------------\u001b[0m",
      "\u001b[1;31mAttributeError\u001b[0m                            Traceback (most recent call last)",
      "\u001b[1;32m~\\AppData\\Local\\Temp/ipykernel_14244/337227874.py\u001b[0m in \u001b[0;36m<module>\u001b[1;34m\u001b[0m\n\u001b[1;32m----> 1\u001b[1;33m \u001b[0mcmap\u001b[0m\u001b[1;33m.\u001b[0m\u001b[0mcolors\u001b[0m\u001b[1;33m\u001b[0m\u001b[1;33m\u001b[0m\u001b[0m\n\u001b[0m",
      "\u001b[1;31mAttributeError\u001b[0m: 'LinearSegmentedColormap' object has no attribute 'colors'"
     ]
    }
   ],
   "source": [
    "cmap.colors"
   ]
  },
  {
   "cell_type": "code",
   "execution_count": 19,
   "id": "2aeca45b-d0af-47ca-875d-320eac870e1a",
   "metadata": {},
   "outputs": [
    {
     "data": {
      "text/plain": [
       "((0.8941176470588236, 0.10196078431372549, 0.10980392156862745),\n",
       " (0.21568627450980393, 0.49411764705882355, 0.7215686274509804),\n",
       " (0.30196078431372547, 0.6862745098039216, 0.2901960784313726),\n",
       " (0.596078431372549, 0.3058823529411765, 0.6392156862745098),\n",
       " (1.0, 0.4980392156862745, 0.0),\n",
       " (1.0, 1.0, 0.2),\n",
       " (0.6509803921568628, 0.33725490196078434, 0.1568627450980392),\n",
       " (0.9686274509803922, 0.5058823529411764, 0.7490196078431373),\n",
       " (0.6, 0.6, 0.6))"
      ]
     },
     "execution_count": 19,
     "metadata": {},
     "output_type": "execute_result"
    }
   ],
   "source": [
    "cm.get_cmap('Set1').colors"
   ]
  },
  {
   "cell_type": "code",
   "execution_count": 20,
   "id": "0abf49ac-c51b-453b-9fbe-e4ffe0380113",
   "metadata": {},
   "outputs": [
    {
     "data": {
      "text/plain": [
       "1734"
      ]
     },
     "execution_count": 20,
     "metadata": {},
     "output_type": "execute_result"
    }
   ],
   "source": [
    "2168-434"
   ]
  },
  {
   "cell_type": "code",
   "execution_count": 21,
   "id": "954c07ee-6631-48b1-868a-859d63cc546f",
   "metadata": {},
   "outputs": [
    {
     "data": {
      "text/plain": [
       "BoundingBox(left=68.1, bottom=6.700001156000003, right=97.49999882399999, top=35.6)"
      ]
     },
     "execution_count": 21,
     "metadata": {},
     "output_type": "execute_result"
    }
   ],
   "source": [
    "rasterio.open(path).bounds"
   ]
  },
  {
   "cell_type": "code",
   "execution_count": 27,
   "id": "ffb92245-5479-4161-8b9f-aae27eade422",
   "metadata": {},
   "outputs": [],
   "source": [
    "import geopandas as gpd\n",
    "import shapely"
   ]
  },
  {
   "cell_type": "code",
   "execution_count": 23,
   "id": "21633e63-72dc-4b5e-81e9-b0c8d855058f",
   "metadata": {},
   "outputs": [],
   "source": [
    "region_shp_path = r'K:\\2021-data-org\\4. RESEARCH_n\\ML\\MLsatellite\\Research\\WP1_Danya\\ML4Satellite\\data\\train_area\\train_area.shp'"
   ]
  },
  {
   "cell_type": "code",
   "execution_count": 24,
   "id": "084b1a63-4ecf-4648-baa3-2ce6d90e3258",
   "metadata": {},
   "outputs": [],
   "source": [
    "shp = gpd.read_file(region_shp_path)"
   ]
  },
  {
   "cell_type": "code",
   "execution_count": 25,
   "id": "15e476ef-9dcd-45d1-9eb1-090eab53258f",
   "metadata": {},
   "outputs": [
    {
     "data": {
      "text/html": [
       "<div>\n",
       "<style scoped>\n",
       "    .dataframe tbody tr th:only-of-type {\n",
       "        vertical-align: middle;\n",
       "    }\n",
       "\n",
       "    .dataframe tbody tr th {\n",
       "        vertical-align: top;\n",
       "    }\n",
       "\n",
       "    .dataframe thead th {\n",
       "        text-align: right;\n",
       "    }\n",
       "</style>\n",
       "<table border=\"1\" class=\"dataframe\">\n",
       "  <thead>\n",
       "    <tr style=\"text-align: right;\">\n",
       "      <th></th>\n",
       "      <th>minx</th>\n",
       "      <th>miny</th>\n",
       "      <th>maxx</th>\n",
       "      <th>maxy</th>\n",
       "    </tr>\n",
       "  </thead>\n",
       "  <tbody>\n",
       "    <tr>\n",
       "      <th>0</th>\n",
       "      <td>77.03218</td>\n",
       "      <td>32.023317</td>\n",
       "      <td>77.217681</td>\n",
       "      <td>32.254446</td>\n",
       "    </tr>\n",
       "  </tbody>\n",
       "</table>\n",
       "</div>"
      ],
      "text/plain": [
       "       minx       miny       maxx       maxy\n",
       "0  77.03218  32.023317  77.217681  32.254446"
      ]
     },
     "execution_count": 25,
     "metadata": {},
     "output_type": "execute_result"
    }
   ],
   "source": [
    "shp.bounds"
   ]
  },
  {
   "cell_type": "code",
   "execution_count": 29,
   "id": "a5d8431d-faf7-41fc-a8c0-f05b2d997eef",
   "metadata": {},
   "outputs": [],
   "source": [
    "minx, miny, maxx, maxy = shp.total_bounds"
   ]
  },
  {
   "cell_type": "code",
   "execution_count": 30,
   "id": "f7b4069c-a508-418a-9406-160bcedddab6",
   "metadata": {},
   "outputs": [
    {
     "data": {
      "image/svg+xml": [
       "<svg xmlns=\"http://www.w3.org/2000/svg\" xmlns:xlink=\"http://www.w3.org/1999/xlink\" width=\"100.0\" height=\"100.0\" viewBox=\"77.0229345233806 32.01407213148682 0.20399193445568642 0.24961934719329548\" preserveAspectRatio=\"xMinYMin meet\"><g transform=\"matrix(1,0,0,-1,0,64.27776361016694)\"><path fill-rule=\"evenodd\" fill=\"#66cc99\" stroke=\"#555555\" stroke-width=\"0.00499238694386591\" opacity=\"0.6\" d=\"M 77.21768129682913,32.02331729249398 L 77.21768129682913,32.25444631767296 L 77.03217968438776,32.25444631767296 L 77.03217968438776,32.02331729249398 L 77.21768129682913,32.02331729249398 z\" /></g></svg>"
      ],
      "text/plain": [
       "<shapely.geometry.polygon.Polygon at 0x27b06b77910>"
      ]
     },
     "execution_count": 30,
     "metadata": {},
     "output_type": "execute_result"
    }
   ],
   "source": [
    "shapely.geometry.box(minx, miny, maxx, maxy)"
   ]
  },
  {
   "cell_type": "code",
   "execution_count": 31,
   "id": "3b97e6a1-394c-469e-84d3-aa7bb6fd5664",
   "metadata": {},
   "outputs": [],
   "source": [
    "from rasterio.windows import Window"
   ]
  },
  {
   "cell_type": "code",
   "execution_count": 40,
   "id": "f5732429-6bb1-493c-892e-4e34b9b763d4",
   "metadata": {},
   "outputs": [],
   "source": [
    "windows = Window(0,0,10,10) "
   ]
  },
  {
   "cell_type": "code",
   "execution_count": 34,
   "id": "9ba1b629-a7ec-4536-8014-d1440b1d5153",
   "metadata": {},
   "outputs": [],
   "source": [
    "meta = rasterio.open(path).meta"
   ]
  },
  {
   "cell_type": "code",
   "execution_count": 35,
   "id": "4cd96cdb-a525-4ef2-85ed-0c40a361ece5",
   "metadata": {},
   "outputs": [
    {
     "data": {
      "text/plain": [
       "{'driver': 'VRT',\n",
       " 'dtype': 'int16',\n",
       " 'nodata': -9999.0,\n",
       " 'width': 3528,\n",
       " 'height': 3468,\n",
       " 'count': 1,\n",
       " 'crs': CRS.from_epsg(4326),\n",
       " 'transform': Affine(0.008333333, 0.0, 68.1,\n",
       "        0.0, -0.008333333, 35.6)}"
      ]
     },
     "execution_count": 35,
     "metadata": {},
     "output_type": "execute_result"
    }
   ],
   "source": [
    "meta"
   ]
  },
  {
   "cell_type": "code",
   "execution_count": 39,
   "id": "53ab8a9e-79df-4c6c-a565-e01e6278e172",
   "metadata": {},
   "outputs": [
    {
     "data": {
      "text/plain": [
       "(68.10416666649999, 35.5958333335)"
      ]
     },
     "execution_count": 39,
     "metadata": {},
     "output_type": "execute_result"
    }
   ],
   "source": [
    "rasterio.transform.xy(meta['transform'], 0, 0)"
   ]
  },
  {
   "cell_type": "code",
   "execution_count": 42,
   "id": "97865046-53f9-4c46-943a-bcf9a3db4952",
   "metadata": {},
   "outputs": [
    {
     "data": {
      "text/plain": [
       "10"
      ]
     },
     "execution_count": 42,
     "metadata": {},
     "output_type": "execute_result"
    }
   ],
   "source": [
    "windows.height"
   ]
  },
  {
   "cell_type": "code",
   "execution_count": 48,
   "id": "c06546f1-80ed-4853-b9f1-a83bea93c290",
   "metadata": {},
   "outputs": [
    {
     "data": {
      "text/plain": [
       "Window(col_off=0, row_off=0, width=10, height=10)"
      ]
     },
     "execution_count": 48,
     "metadata": {},
     "output_type": "execute_result"
    }
   ],
   "source": [
    "windows"
   ]
  },
  {
   "cell_type": "code",
   "execution_count": 52,
   "id": "999b763f-8fea-4020-b454-cf2abf91a50c",
   "metadata": {},
   "outputs": [
    {
     "data": {
      "text/plain": [
       "(68.1, 35.51666667, 68.18333333, 35.6)"
      ]
     },
     "execution_count": 52,
     "metadata": {},
     "output_type": "execute_result"
    }
   ],
   "source": [
    "rasterio.windows.bounds(windows, meta['transform'])"
   ]
  },
  {
   "cell_type": "code",
   "execution_count": 53,
   "id": "606fc576-05d5-480a-a540-63eb248c8f95",
   "metadata": {},
   "outputs": [],
   "source": [
    "box_shp = gpd.GeoDataFrame({'geometry': shapely.geometry.box(minx, miny, maxx, maxy)}, index=[0])\n",
    "box_shp = box_shp.set_crs(meta['crs'])"
   ]
  },
  {
   "cell_type": "code",
   "execution_count": 57,
   "id": "c51d73d7-64f8-4605-aaa8-7f879c4e61c6",
   "metadata": {},
   "outputs": [
    {
     "ename": "TypeError",
     "evalue": "'Polygon' object is not subscriptable",
     "output_type": "error",
     "traceback": [
      "\u001b[1;31m---------------------------------------------------------------------------\u001b[0m",
      "\u001b[1;31mTypeError\u001b[0m                                 Traceback (most recent call last)",
      "\u001b[1;32m~\\AppData\\Local\\Temp/ipykernel_14244/2639576903.py\u001b[0m in \u001b[0;36m<module>\u001b[1;34m\u001b[0m\n\u001b[1;32m----> 1\u001b[1;33m \u001b[0mbox_shp\u001b[0m\u001b[1;33m.\u001b[0m\u001b[0mloc\u001b[0m\u001b[1;33m[\u001b[0m\u001b[1;36m0\u001b[0m\u001b[1;33m,\u001b[0m\u001b[1;34m'geometry'\u001b[0m\u001b[1;33m]\u001b[0m\u001b[1;33m[\u001b[0m\u001b[1;36m0\u001b[0m\u001b[1;33m]\u001b[0m\u001b[1;33m\u001b[0m\u001b[1;33m\u001b[0m\u001b[0m\n\u001b[0m",
      "\u001b[1;31mTypeError\u001b[0m: 'Polygon' object is not subscriptable"
     ]
    }
   ],
   "source": [
    "box_shp.loc[0,'geometry']"
   ]
  },
  {
   "cell_type": "code",
   "execution_count": 59,
   "id": "df8c1b21-c661-46aa-a4c1-218fdbc54b8e",
   "metadata": {},
   "outputs": [
    {
     "data": {
      "text/plain": [
       "8510"
      ]
     },
     "execution_count": 59,
     "metadata": {},
     "output_type": "execute_result"
    }
   ],
   "source": [
    "(arr == 0).sum()"
   ]
  },
  {
   "cell_type": "code",
   "execution_count": null,
   "id": "db41f8ae-c1e3-48e7-8d84-37aecc4588ff",
   "metadata": {},
   "outputs": [],
   "source": []
  },
  {
   "cell_type": "markdown",
   "id": "4ddfc686-4fa9-480e-82b3-489a1712f2e5",
   "metadata": {},
   "source": [
    "### CRS in raw"
   ]
  },
  {
   "cell_type": "code",
   "execution_count": 2,
   "id": "ffd47c78-aa31-48dd-826c-c8ed7b9e5400",
   "metadata": {},
   "outputs": [],
   "source": [
    "import rasterio"
   ]
  },
  {
   "cell_type": "code",
   "execution_count": 3,
   "id": "74dd860d-3906-4250-9051-251fc6a77a8b",
   "metadata": {},
   "outputs": [],
   "source": [
    "eg_dir = 'N:/dataorg-datasets/MLsatellite/sentinel2_images/images_danya/43RGQ/raster/L2A_T43RGQ_A019865_20201225T053231.tiff'\n",
    "eg_img = rasterio.open(eg_dir)"
   ]
  },
  {
   "cell_type": "code",
   "execution_count": 4,
   "id": "22662fd8-f382-42c2-b4d2-00843f17591d",
   "metadata": {},
   "outputs": [],
   "source": [
    "eg_img.crs"
   ]
  },
  {
   "cell_type": "code",
   "execution_count": 6,
   "id": "e053da8b-25d2-44c4-abb3-d073d86762a5",
   "metadata": {},
   "outputs": [],
   "source": [
    "eg_dir = 'N:/dataorg-datasets/MLsatellite/sentinel2_images/images_danya/43SFR/raster/L2A_T43SFR_A014760_20200103T054832.tiff'\n",
    "eg_img = rasterio.open(eg_dir)"
   ]
  },
  {
   "cell_type": "code",
   "execution_count": 7,
   "id": "0ff230ac-3540-427a-942d-dc6443fe3630",
   "metadata": {},
   "outputs": [
    {
     "data": {
      "text/plain": [
       "CRS.from_epsg(32643)"
      ]
     },
     "execution_count": 7,
     "metadata": {},
     "output_type": "execute_result"
    }
   ],
   "source": [
    "eg_img.crs"
   ]
  },
  {
   "cell_type": "code",
   "execution_count": 8,
   "id": "2c276740-881f-4c26-acd9-1012d00c7ced",
   "metadata": {},
   "outputs": [],
   "source": [
    "eg_dir = 'N:/dataorg-datasets/MLsatellite/sentinel2_images/images_danya/43SFS/raster/L2A_T43SFS_A014760_20200103T054832.tiff'\n",
    "eg_img = rasterio.open(eg_dir)"
   ]
  },
  {
   "cell_type": "code",
   "execution_count": 9,
   "id": "c556874b-9cdf-4445-bdcd-563ea8058399",
   "metadata": {},
   "outputs": [],
   "source": [
    "eg_img.crs"
   ]
  },
  {
   "cell_type": "code",
   "execution_count": null,
   "id": "4e87407e-aeb0-4601-9136-300d394cd078",
   "metadata": {},
   "outputs": [],
   "source": [
    "arr5 = eg_img.read(5)"
   ]
  },
  {
   "cell_type": "code",
   "execution_count": null,
   "id": "7308b8b8-91f7-49a3-aaee-e070b5a6df56",
   "metadata": {},
   "outputs": [],
   "source": [
    "np.unique(arr5)"
   ]
  },
  {
   "cell_type": "code",
   "execution_count": 1,
   "id": "d6c45239-7f0b-4994-8f5c-6bd0610734a6",
   "metadata": {},
   "outputs": [],
   "source": [
    "import xml.etree.ElementTree as ET"
   ]
  },
  {
   "cell_type": "code",
   "execution_count": 7,
   "id": "01dd014e-93d1-4232-8253-6e9aafc3cb7a",
   "metadata": {},
   "outputs": [],
   "source": [
    "path = 'N:/dataorg-datasets/MLsatellite/sentinel2_images/images_danya/43RGQ/L2A/S2A_MSIL2A_20200115T053151_N9999_R105_T43RGQ_20220103T133510.SAFE/GRANULE/L2A_T43RGQ_A023840_20200115T053150/MTD_TL.xml'\n",
    "tree = ET.parse(path)"
   ]
  },
  {
   "cell_type": "code",
   "execution_count": 8,
   "id": "1bfccb0c-1f54-49e9-948b-62302568e234",
   "metadata": {},
   "outputs": [
    {
     "data": {
      "text/plain": [
       "<xml.etree.ElementTree.ElementTree at 0x2730b4754f0>"
      ]
     },
     "execution_count": 8,
     "metadata": {},
     "output_type": "execute_result"
    }
   ],
   "source": [
    "tree"
   ]
  },
  {
   "cell_type": "code",
   "execution_count": 9,
   "id": "8cacfc13-5f23-4928-9dde-ae65bb0c4665",
   "metadata": {},
   "outputs": [],
   "source": [
    "root = tree.getroot()"
   ]
  },
  {
   "cell_type": "code",
   "execution_count": 10,
   "id": "1a3412a6-e8c8-4b75-9623-c103135ca0fe",
   "metadata": {},
   "outputs": [
    {
     "data": {
      "text/plain": [
       "<Element '{https://psd-14.sentinel2.eo.esa.int/PSD/S2_PDI_Level-2A_Tile_Metadata.xsd}Level-2A_Tile_ID' at 0x000002730B65C590>"
      ]
     },
     "execution_count": 10,
     "metadata": {},
     "output_type": "execute_result"
    }
   ],
   "source": [
    "root"
   ]
  },
  {
   "cell_type": "code",
   "execution_count": 12,
   "id": "b395ac96-3618-4532-8871-1cd125428d98",
   "metadata": {},
   "outputs": [
    {
     "name": "stdout",
     "output_type": "stream",
     "text": [
      "<Element '{https://psd-14.sentinel2.eo.esa.int/PSD/S2_PDI_Level-2A_Tile_Metadata.xsd}General_Info' at 0x000002730B65C720>\n",
      "<Element '{https://psd-14.sentinel2.eo.esa.int/PSD/S2_PDI_Level-2A_Tile_Metadata.xsd}Geometric_Info' at 0x000002730B65CA90>\n",
      "<Element '{https://psd-14.sentinel2.eo.esa.int/PSD/S2_PDI_Level-2A_Tile_Metadata.xsd}Quality_Indicators_Info' at 0x000002730B82AA40>\n"
     ]
    }
   ],
   "source": [
    "for i in root:\n",
    "    print(i)"
   ]
  },
  {
   "cell_type": "code",
   "execution_count": 13,
   "id": "32538667-c98f-4280-b5a6-6edd2597c410",
   "metadata": {},
   "outputs": [
    {
     "data": {
      "text/plain": [
       "<Element '{https://psd-14.sentinel2.eo.esa.int/PSD/S2_PDI_Level-2A_Tile_Metadata.xsd}Geometric_Info' at 0x000002730B65CA90>"
      ]
     },
     "execution_count": 13,
     "metadata": {},
     "output_type": "execute_result"
    }
   ],
   "source": [
    "root[1]"
   ]
  },
  {
   "cell_type": "code",
   "execution_count": 19,
   "id": "67bdc20c-5a49-468d-a0c1-2f5201ee07e7",
   "metadata": {},
   "outputs": [
    {
     "data": {
      "text/plain": [
       "'EPSG:32643'"
      ]
     },
     "execution_count": 19,
     "metadata": {},
     "output_type": "execute_result"
    }
   ],
   "source": [
    "root[1][0][1].text"
   ]
  },
  {
   "cell_type": "code",
   "execution_count": 20,
   "id": "967fc079-adfd-4231-b1bc-c9caaf917af5",
   "metadata": {},
   "outputs": [],
   "source": [
    "from pyproj import CRS"
   ]
  },
  {
   "cell_type": "code",
   "execution_count": 21,
   "id": "24a36266-1273-48ba-b66c-1801f3ef56a7",
   "metadata": {},
   "outputs": [
    {
     "data": {
      "text/plain": [
       "<Projected CRS: EPSG:32643>\n",
       "Name: WGS 84 / UTM zone 43N\n",
       "Axis Info [cartesian]:\n",
       "- E[east]: Easting (metre)\n",
       "- N[north]: Northing (metre)\n",
       "Area of Use:\n",
       "- name: Between 72°E and 78°E, northern hemisphere between equator and 84°N, onshore and offshore. China. India. Kazakhstan. Kyrgyzstan. Maldives. Pakistan. Russian Federation. Tajikistan.\n",
       "- bounds: (72.0, 0.0, 78.0, 84.0)\n",
       "Coordinate Operation:\n",
       "- name: UTM zone 43N\n",
       "- method: Transverse Mercator\n",
       "Datum: World Geodetic System 1984 ensemble\n",
       "- Ellipsoid: WGS 84\n",
       "- Prime Meridian: Greenwich"
      ]
     },
     "execution_count": 21,
     "metadata": {},
     "output_type": "execute_result"
    }
   ],
   "source": [
    "CRS.from_string(root[1][0][1].text)"
   ]
  },
  {
   "cell_type": "markdown",
   "id": "0221a1d8-4efb-4c4e-87da-654a982c4895",
   "metadata": {},
   "source": [
    "#### Test crs"
   ]
  },
  {
   "cell_type": "code",
   "execution_count": 23,
   "id": "fc03b520-6a8b-4a0a-a5fc-42f71dd3b688",
   "metadata": {},
   "outputs": [],
   "source": [
    "import rasterio"
   ]
  },
  {
   "cell_type": "code",
   "execution_count": 24,
   "id": "fcb7e7af-a884-4ca5-99d9-6355e8a4e906",
   "metadata": {},
   "outputs": [],
   "source": [
    "path = 'N:/dataorg-datasets/MLsatellite/sentinel2_images/images_danya/43RGQ/raster/L2A_T43RGQ_A023840_20200115T053150.tiff'\n",
    "img = rasterio.open(path)"
   ]
  },
  {
   "cell_type": "code",
   "execution_count": 25,
   "id": "6368383b-a914-4271-93c3-25033b82ae40",
   "metadata": {},
   "outputs": [
    {
     "data": {
      "text/plain": [
       "CRS.from_epsg(32643)"
      ]
     },
     "execution_count": 25,
     "metadata": {},
     "output_type": "execute_result"
    }
   ],
   "source": [
    "img.crs"
   ]
  },
  {
   "cell_type": "code",
   "execution_count": null,
   "id": "d8963134-b2f4-43bf-96ef-e8252361f1c9",
   "metadata": {},
   "outputs": [],
   "source": []
  }
 ],
 "metadata": {
  "kernelspec": {
   "display_name": "Python 3 (ipykernel)",
   "language": "python",
   "name": "python3"
  },
  "language_info": {
   "codemirror_mode": {
    "name": "ipython",
    "version": 3
   },
   "file_extension": ".py",
   "mimetype": "text/x-python",
   "name": "python",
   "nbconvert_exporter": "python",
   "pygments_lexer": "ipython3",
   "version": "3.9.7"
  }
 },
 "nbformat": 4,
 "nbformat_minor": 5
}
