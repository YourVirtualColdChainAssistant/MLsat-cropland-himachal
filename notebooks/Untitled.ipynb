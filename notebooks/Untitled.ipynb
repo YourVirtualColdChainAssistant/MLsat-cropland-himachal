{
 "cells": [
  {
   "cell_type": "code",
   "execution_count": 2,
   "id": "215542c1-91d0-4455-af22-9b34ee9f5cfd",
   "metadata": {},
   "outputs": [
    {
     "data": {
      "text/plain": [
       "'L2A'"
      ]
     },
     "execution_count": 2,
     "metadata": {},
     "output_type": "execute_result"
    }
   ],
   "source": [
    "'S2A_MSIL2A_20200105T053221_N9999_R105_T43RGQ_20211115T110155.SAFE'.split('_')[1][3:]"
   ]
  },
  {
   "cell_type": "code",
   "execution_count": 3,
   "id": "c411783c-055a-4bbf-985b-a15872abf861",
   "metadata": {},
   "outputs": [
    {
     "data": {
      "text/plain": [
       "MinMaxScaler()"
      ]
     },
     "execution_count": 3,
     "metadata": {},
     "output_type": "execute_result"
    }
   ],
   "source": [
    "from sklearn.preprocessing import MinMaxScaler\n",
    "data = [[-1, 2], [-0.5, 6], [0, 10], [1, 18]]\n",
    "scaler = MinMaxScaler()\n",
    "scaler.fit(data)\n"
   ]
  },
  {
   "cell_type": "code",
   "execution_count": 4,
   "id": "d076f792-0253-43f6-961c-e4f825c9bf09",
   "metadata": {},
   "outputs": [
    {
     "data": {
      "text/plain": [
       "array([[0.  , 0.  ],\n",
       "       [0.25, 0.25],\n",
       "       [0.5 , 0.5 ],\n",
       "       [1.  , 1.  ]])"
      ]
     },
     "execution_count": 4,
     "metadata": {},
     "output_type": "execute_result"
    }
   ],
   "source": [
    "scaler.transform(data)"
   ]
  },
  {
   "cell_type": "code",
   "execution_count": 5,
   "id": "2787944b-a58c-4a3c-8b4b-697bf069857d",
   "metadata": {},
   "outputs": [
    {
     "data": {
      "text/plain": [
       "array([[0.  , 0.  ],\n",
       "       [0.25, 0.25],\n",
       "       [0.5 , 0.5 ],\n",
       "       [1.  , 1.  ]])"
      ]
     },
     "execution_count": 5,
     "metadata": {},
     "output_type": "execute_result"
    }
   ],
   "source": [
    "scaler = MinMaxScaler().fit(data)\n",
    "scaler.transform(data)"
   ]
  },
  {
   "cell_type": "code",
   "execution_count": 7,
   "id": "c5aa8131-e3a7-4d14-a45d-500f0c3f8e3c",
   "metadata": {},
   "outputs": [],
   "source": [
    "import numpy as np"
   ]
  },
  {
   "cell_type": "code",
   "execution_count": 45,
   "id": "9cf258c5-57e3-4662-809e-97c5482d1135",
   "metadata": {},
   "outputs": [
    {
     "name": "stdout",
     "output_type": "stream",
     "text": [
      "[[0 0 0 3 4]\n",
      " [0 0 2 3 0]\n",
      " [0 1 2 0 0]]\n",
      "[[0 0 0 3 4]\n",
      " [0 0 2 3 3]\n",
      " [0 1 2 2 2]]\n"
     ]
    }
   ],
   "source": [
    "arr = np.array([[5, np.nan, np.nan, 7, 2],\n",
    "                [3, np.nan, 1, 8, np.nan],\n",
    "                [4, 9, 6, np.nan, np.nan]])\n",
    "mask = np.isnan(arr)\n",
    "idx = np.where(~mask,np.arange(mask.shape[1]),0)\n",
    "print(idx)\n",
    "np.maximum.accumulate(idx,axis=1, out=idx)\n",
    "print(idx)\n",
    "out = arr[np.arange(idx.shape[0])[:,None], idx]"
   ]
  },
  {
   "cell_type": "code",
   "execution_count": null,
   "id": "0b1317e0-e283-4199-8014-67a214598958",
   "metadata": {},
   "outputs": [],
   "source": [
    "arr[mask] = arr[np.nonzero(mask)[0], idx[mask]]"
   ]
  },
  {
   "cell_type": "code",
   "execution_count": 33,
   "id": "529ad127-2730-4caa-ab0e-ef59878c06be",
   "metadata": {},
   "outputs": [
    {
     "data": {
      "text/plain": [
       "array([0, 0, 1, 1, 2, 2], dtype=int64)"
      ]
     },
     "execution_count": 33,
     "metadata": {},
     "output_type": "execute_result"
    }
   ],
   "source": [
    "np.nonzero(mask)[0]"
   ]
  },
  {
   "cell_type": "code",
   "execution_count": 34,
   "id": "a674175f-998a-4824-8d7d-77d4a6bc23f6",
   "metadata": {},
   "outputs": [
    {
     "data": {
      "text/plain": [
       "array([0, 0, 0, 3, 2, 2])"
      ]
     },
     "execution_count": 34,
     "metadata": {},
     "output_type": "execute_result"
    }
   ],
   "source": [
    "idx[mask]"
   ]
  },
  {
   "cell_type": "code",
   "execution_count": 9,
   "id": "3e1a85da-8dc4-4486-9c0f-544300d74b26",
   "metadata": {},
   "outputs": [
    {
     "data": {
      "text/plain": [
       "array([[ 5., nan, nan,  7.,  2.],\n",
       "       [ 3., nan,  1.,  8., nan],\n",
       "       [ 4.,  9.,  6., nan, nan]])"
      ]
     },
     "execution_count": 9,
     "metadata": {},
     "output_type": "execute_result"
    }
   ],
   "source": [
    "arr"
   ]
  },
  {
   "cell_type": "code",
   "execution_count": 10,
   "id": "720ff507-202b-4e78-a648-c6ddb0f8d936",
   "metadata": {},
   "outputs": [
    {
     "data": {
      "text/plain": [
       "array([[5., 5., 5., 7., 2.],\n",
       "       [3., 3., 1., 8., 8.],\n",
       "       [4., 9., 6., 6., 6.]])"
      ]
     },
     "execution_count": 10,
     "metadata": {},
     "output_type": "execute_result"
    }
   ],
   "source": [
    "out"
   ]
  },
  {
   "cell_type": "code",
   "execution_count": 11,
   "id": "5704b589-cde3-4e79-ae14-e0475db5e755",
   "metadata": {},
   "outputs": [
    {
     "data": {
      "text/plain": [
       "array([[False,  True,  True, False, False],\n",
       "       [False,  True, False, False,  True],\n",
       "       [False, False, False,  True,  True]])"
      ]
     },
     "execution_count": 11,
     "metadata": {},
     "output_type": "execute_result"
    }
   ],
   "source": [
    "mask"
   ]
  },
  {
   "cell_type": "code",
   "execution_count": 12,
   "id": "9f6fc6e8-5265-4381-be41-01396532b610",
   "metadata": {},
   "outputs": [
    {
     "data": {
      "text/plain": [
       "array([[0, 0, 0, 3, 4],\n",
       "       [0, 0, 2, 3, 3],\n",
       "       [0, 1, 2, 2, 2]])"
      ]
     },
     "execution_count": 12,
     "metadata": {},
     "output_type": "execute_result"
    }
   ],
   "source": [
    "idx"
   ]
  },
  {
   "cell_type": "code",
   "execution_count": 13,
   "id": "62593d2c-9c19-41c7-b9b0-a4b9f99254de",
   "metadata": {},
   "outputs": [],
   "source": [
    "from scipy import interpolate"
   ]
  },
  {
   "cell_type": "code",
   "execution_count": 38,
   "id": "f1cbfca1-efe0-4add-ae87-16363bb8ef32",
   "metadata": {},
   "outputs": [],
   "source": [
    "x = np.arange(0, 12)\n",
    "y = np.array([1,1.14, 1.3, 3, 0, 6, 7, 7, 6.5, 6, 0, 1])\n",
    "mask = y == 0\n",
    "f = interpolate.interp1d(x[~mask], y[~mask], fill_value='extrapolate')\n",
    "x_new = x[mask]\n",
    "y_new = f(x_new)"
   ]
  },
  {
   "cell_type": "code",
   "execution_count": 17,
   "id": "9ce953dc-4cca-491d-af97-e66614e02adb",
   "metadata": {},
   "outputs": [],
   "source": [
    "import matplotlib.pyplot as plt\n",
    "%matplotlib inline"
   ]
  },
  {
   "cell_type": "code",
   "execution_count": 30,
   "id": "2e64cfbc-9990-40c6-87ec-5b982bfe739a",
   "metadata": {},
   "outputs": [
    {
     "data": {
      "text/plain": [
       "array([ 4, 10])"
      ]
     },
     "execution_count": 30,
     "metadata": {},
     "output_type": "execute_result"
    }
   ],
   "source": [
    "x_new"
   ]
  },
  {
   "cell_type": "code",
   "execution_count": 31,
   "id": "89341bf6-d70c-479e-b5cf-affe8e100346",
   "metadata": {},
   "outputs": [
    {
     "data": {
      "text/plain": [
       "[<matplotlib.lines.Line2D at 0x25198a32910>]"
      ]
     },
     "execution_count": 31,
     "metadata": {},
     "output_type": "execute_result"
    },
    {
     "data": {
      "image/png": "[encoded data removed]",
      "text/plain": [
       "<Figure size 432x288 with 1 Axes>"
      ]
     },
     "metadata": {
      "needs_background": "light"
     },
     "output_type": "display_data"
    }
   ],
   "source": [
    "plt.plot(x, y, 'o')\n",
    "plt.plot(x_new, y_new, '*')"
   ]
  },
  {
   "cell_type": "code",
   "execution_count": 41,
   "id": "ef272d5f-de97-4d54-9214-6de7a81e51c5",
   "metadata": {},
   "outputs": [
    {
     "data": {
      "text/plain": [
       "[array([ 4, 10]), array([ 4, 10])]"
      ]
     },
     "execution_count": 41,
     "metadata": {},
     "output_type": "execute_result"
    }
   ],
   "source": [
    "[x_new, x_new]"
   ]
  },
  {
   "cell_type": "code",
   "execution_count": 43,
   "id": "287d409f-eb42-4c61-afec-e26e76c90c95",
   "metadata": {},
   "outputs": [
    {
     "data": {
      "text/plain": [
       "array([], dtype=float64)"
      ]
     },
     "execution_count": 43,
     "metadata": {},
     "output_type": "execute_result"
    }
   ],
   "source": [
    "f([])"
   ]
  },
  {
   "cell_type": "code",
   "execution_count": 46,
   "id": "6d12522a-04f6-4685-bfbe-6acff46d5a3f",
   "metadata": {},
   "outputs": [
    {
     "data": {
      "text/plain": [
       "array([[False,  True,  True, False, False],\n",
       "       [False,  True, False, False,  True],\n",
       "       [False, False, False,  True,  True]])"
      ]
     },
     "execution_count": 46,
     "metadata": {},
     "output_type": "execute_result"
    }
   ],
   "source": [
    "mask"
   ]
  },
  {
   "cell_type": "code",
   "execution_count": 54,
   "id": "bfc6cac3-de54-44f0-a94c-4857bad6fa86",
   "metadata": {},
   "outputs": [
    {
     "data": {
      "text/plain": [
       "(array([0, 1, 2], dtype=int64),)"
      ]
     },
     "execution_count": 54,
     "metadata": {},
     "output_type": "execute_result"
    }
   ],
   "source": []
  },
  {
   "cell_type": "code",
   "execution_count": 56,
   "id": "412b610e-d323-4d9c-9d6d-6e8baee638af",
   "metadata": {},
   "outputs": [],
   "source": [
    "mask = np.array([[False,  False,  True, False, False],\n",
    "       [False,  True, False, False,  True],\n",
    "       [False, False, False,  True,  True],\n",
    "       [False, False, False,  False,  False]])"
   ]
  },
  {
   "cell_type": "code",
   "execution_count": 59,
   "id": "d9bddf18-4c3d-49f9-a41a-bd2e73b2c83b",
   "metadata": {},
   "outputs": [
    {
     "data": {
      "text/plain": [
       "array([0, 1, 2], dtype=int64)"
      ]
     },
     "execution_count": 59,
     "metadata": {},
     "output_type": "execute_result"
    }
   ],
   "source": [
    "np.nonzero(mask.sum(axis=1))[0]"
   ]
  },
  {
   "cell_type": "code",
   "execution_count": 63,
   "id": "53a4c5e8-6a86-43a1-9680-bfa0b4b82e69",
   "metadata": {},
   "outputs": [
    {
     "data": {
      "text/plain": [
       "array([1.  , 1.14, 1.3 , 3.  , 0.  , 6.  , 7.  , 7.  , 6.5 , 6.  , 0.  ,\n",
       "       1.  ])"
      ]
     },
     "execution_count": 63,
     "metadata": {},
     "output_type": "execute_result"
    }
   ],
   "source": [
    "y"
   ]
  },
  {
   "cell_type": "code",
   "execution_count": 66,
   "id": "ead08698-10f2-4390-a326-a022fd502ea3",
   "metadata": {},
   "outputs": [
    {
     "data": {
      "text/plain": [
       "(array([ 0,  1,  2,  3,  5,  6,  7,  8,  9, 11], dtype=int64),)"
      ]
     },
     "execution_count": 66,
     "metadata": {},
     "output_type": "execute_result"
    }
   ],
   "source": [
    "np.nonzero(y)"
   ]
  },
  {
   "cell_type": "code",
   "execution_count": 70,
   "id": "4581b586-ea1e-4ebc-abb6-f6f9e0c29e66",
   "metadata": {},
   "outputs": [
    {
     "data": {
      "text/plain": [
       "array([[ 4],\n",
       "       [10]], dtype=int64)"
      ]
     },
     "execution_count": 70,
     "metadata": {},
     "output_type": "execute_result"
    }
   ],
   "source": [
    "np.argwhere(y == 0)"
   ]
  },
  {
   "cell_type": "code",
   "execution_count": 73,
   "id": "285d5bfb-ee30-4b65-9ba2-8158ad682a79",
   "metadata": {},
   "outputs": [
    {
     "data": {
      "text/plain": [
       "array([False,  True, False, False,  True])"
      ]
     },
     "execution_count": 73,
     "metadata": {},
     "output_type": "execute_result"
    }
   ],
   "source": [
    "mask[1,:]"
   ]
  },
  {
   "cell_type": "code",
   "execution_count": 77,
   "id": "003ed236-7936-4061-808c-94a42467accd",
   "metadata": {},
   "outputs": [],
   "source": [
    "a = np.arange(20).reshape(2,2,5)"
   ]
  },
  {
   "cell_type": "code",
   "execution_count": 78,
   "id": "ea0b4231-89a4-4561-8b09-738e3ecd91b1",
   "metadata": {},
   "outputs": [
    {
     "data": {
      "text/plain": [
       "(2, 2, 5)"
      ]
     },
     "execution_count": 78,
     "metadata": {},
     "output_type": "execute_result"
    }
   ],
   "source": [
    "shape = a.shape\n",
    "shape"
   ]
  },
  {
   "cell_type": "code",
   "execution_count": 79,
   "id": "3c21ca56-ed7f-42d6-a9b8-21254352293a",
   "metadata": {},
   "outputs": [
    {
     "data": {
      "text/plain": [
       "array([[ 0,  1,  2,  3,  4],\n",
       "       [ 5,  6,  7,  8,  9],\n",
       "       [10, 11, 12, 13, 14],\n",
       "       [15, 16, 17, 18, 19]])"
      ]
     },
     "execution_count": 79,
     "metadata": {},
     "output_type": "execute_result"
    }
   ],
   "source": [
    "a.reshape(-1, shape[-1])"
   ]
  },
  {
   "cell_type": "code",
   "execution_count": 80,
   "id": "e6f1f5ed-23a3-45b8-b831-a901fe7937e4",
   "metadata": {},
   "outputs": [
    {
     "data": {
      "text/plain": [
       "array([[[ 0,  1,  2,  3,  4],\n",
       "        [ 5,  6,  7,  8,  9]],\n",
       "\n",
       "       [[10, 11, 12, 13, 14],\n",
       "        [15, 16, 17, 18, 19]]])"
      ]
     },
     "execution_count": 80,
     "metadata": {},
     "output_type": "execute_result"
    }
   ],
   "source": [
    "a.reshape(-1, shape[-1]).reshape(shape)"
   ]
  },
  {
   "cell_type": "code",
   "execution_count": 82,
   "id": "2c1b140b-e6e5-400a-b54a-134290f5cb62",
   "metadata": {},
   "outputs": [
    {
     "data": {
      "text/plain": [
       "array([ 6, 16])"
      ]
     },
     "execution_count": 82,
     "metadata": {},
     "output_type": "execute_result"
    }
   ],
   "source": [
    "a[:,:,1].max(axis=1)"
   ]
  },
  {
   "cell_type": "code",
   "execution_count": null,
   "id": "f3603f70-7bcb-42a7-8b00-4e8da4a2353d",
   "metadata": {},
   "outputs": [],
   "source": []
  },
  {
   "cell_type": "code",
   "execution_count": 87,
   "id": "c313f00e-9768-4e62-a8c9-0962866691bd",
   "metadata": {},
   "outputs": [],
   "source": [
    "import os\n",
    "\n",
    "import fiona\n",
    "import pickle\n",
    "import shapely\n",
    "import numpy as np\n",
    "import pandas as pd\n",
    "import geopandas as gpd\n",
    "import skimage\n",
    "import rasterio\n",
    "from rasterio.windows import Window"
   ]
  },
  {
   "cell_type": "code",
   "execution_count": 95,
   "id": "8bcebb4b-be93-45a2-bc3d-7f218e448584",
   "metadata": {},
   "outputs": [],
   "source": [
    "def prepare_meta_window(geotiff_dir, label_path):\n",
    "    img_path = geotiff_dir + os.listdir(geotiff_dir)[0]\n",
    "    img = rasterio.open(img_path)\n",
    "    transform, dst_crs = img.transform, img.crs\n",
    "\n",
    "    label_shp = gpd.read_file(label_path)\n",
    "    label_shp = label_shp.to_crs(dst_crs)\n",
    "    window = get_window(transform, label_shp.total_bounds)\n",
    "\n",
    "    _, meta = load_geotiff(img_path, window, as_float=False)\n",
    "    return meta, window\n",
    "\n",
    "\n",
    "def get_window(transform, bounds):\n",
    "    \"\"\"\n",
    "\n",
    "    Parameters\n",
    "    ----------\n",
    "    transform\n",
    "    bounds\n",
    "\n",
    "    Returns\n",
    "    -------\n",
    "    Window(col_off, row_off, width, height)\n",
    "    \"\"\"\n",
    "    minx, miny, maxx, maxy = bounds\n",
    "    row_min, col_min = rasterio.transform.rowcol(transform, minx, maxy)\n",
    "    row_max, col_max = rasterio.transform.rowcol(transform, maxx, miny)\n",
    "    return Window(col_min, row_min, col_max - col_min, row_max - row_min)\n",
    "\n",
    "def load_geotiff(path, window=None, as_float=True):\n",
    "    \"\"\" Load the geotiff as a list of numpy array.\n",
    "        INPUT : path (str) -> the path to the geotiff\n",
    "                window (rasterio.windows.Window) -> the window to use when loading the image\n",
    "        OUTPUT : band (list of numpy array) -> the different bands unscaled\n",
    "                 meta (dictionary) -> the metadata associated with the geotiff\n",
    "    \"\"\"\n",
    "    with rasterio.open(path) as f:\n",
    "        if as_float:\n",
    "            band = [skimage.img_as_float(f.read(i + 1, window=window)) for i in range(f.count)]\n",
    "        else:  # normal read\n",
    "            band = [f.read(i + 1, window=window) for i in range(f.count)]\n",
    "        meta = f.meta\n",
    "        if window is not None:\n",
    "            meta['height'] = window.height\n",
    "            meta['width'] = window.width\n",
    "            meta['transform'] = f.window_transform(window)\n",
    "    return band, meta\n"
   ]
  },
  {
   "cell_type": "code",
   "execution_count": 102,
   "id": "b3aa13c9-a53f-4a3a-80f9-25b761ef6ca6",
   "metadata": {},
   "outputs": [],
   "source": [
    "feature_dir = 'N:/dataorg-datasets/MLsatellite/sentinel2_images/images_danya/43SFR/raster/'\n",
    "label_path = '../data/train_labels/train_labels.shp'"
   ]
  },
  {
   "cell_type": "code",
   "execution_count": 96,
   "id": "6467037c-7f81-46a9-8b34-88e5e4618c26",
   "metadata": {},
   "outputs": [],
   "source": [
    "meta, window = prepare_meta_window(feature_dir, label_path)"
   ]
  },
  {
   "cell_type": "code",
   "execution_count": 99,
   "id": "53fe20c5-84c7-4536-81ee-01feacd0d8a6",
   "metadata": {},
   "outputs": [
    {
     "data": {
      "text/plain": [
       "({'driver': 'GTiff',\n",
       "  'dtype': 'uint16',\n",
       "  'nodata': None,\n",
       "  'width': 1531,\n",
       "  'height': 2241,\n",
       "  'count': 5,\n",
       "  'crs': CRS.from_epsg(32643),\n",
       "  'transform': Affine(10.0, 0.0, 693170.0,\n",
       "         0.0, -10.0, 3568220.0)},\n",
       " Window(col_off=9317, row_off=3178, width=1531, height=2241))"
      ]
     },
     "execution_count": 99,
     "metadata": {},
     "output_type": "execute_result"
    }
   ],
   "source": [
    "meta, window"
   ]
  },
  {
   "cell_type": "code",
   "execution_count": 98,
   "id": "5ce170b6-3d03-42dd-9339-436bbd2bf8c5",
   "metadata": {},
   "outputs": [
    {
     "data": {
      "text/plain": [
       "([array([[0., 0., 0., ..., 0., 0., 0.],\n",
       "         [0., 0., 0., ..., 0., 0., 0.],\n",
       "         [0., 0., 0., ..., 0., 0., 0.],\n",
       "         ...,\n",
       "         [0., 0., 0., ..., 0., 0., 0.],\n",
       "         [0., 0., 0., ..., 0., 0., 0.],\n",
       "         [0., 0., 0., ..., 0., 0., 0.]]),\n",
       "  array([[0., 0., 0., ..., 0., 0., 0.],\n",
       "         [0., 0., 0., ..., 0., 0., 0.],\n",
       "         [0., 0., 0., ..., 0., 0., 0.],\n",
       "         ...,\n",
       "         [0., 0., 0., ..., 0., 0., 0.],\n",
       "         [0., 0., 0., ..., 0., 0., 0.],\n",
       "         [0., 0., 0., ..., 0., 0., 0.]]),\n",
       "  array([[0., 0., 0., ..., 0., 0., 0.],\n",
       "         [0., 0., 0., ..., 0., 0., 0.],\n",
       "         [0., 0., 0., ..., 0., 0., 0.],\n",
       "         ...,\n",
       "         [0., 0., 0., ..., 0., 0., 0.],\n",
       "         [0., 0., 0., ..., 0., 0., 0.],\n",
       "         [0., 0., 0., ..., 0., 0., 0.]]),\n",
       "  array([[0., 0., 0., ..., 0., 0., 0.],\n",
       "         [0., 0., 0., ..., 0., 0., 0.],\n",
       "         [0., 0., 0., ..., 0., 0., 0.],\n",
       "         ...,\n",
       "         [0., 0., 0., ..., 0., 0., 0.],\n",
       "         [0., 0., 0., ..., 0., 0., 0.],\n",
       "         [0., 0., 0., ..., 0., 0., 0.]]),\n",
       "  array([[0., 0., 0., ..., 0., 0., 0.],\n",
       "         [0., 0., 0., ..., 0., 0., 0.],\n",
       "         [0., 0., 0., ..., 0., 0., 0.],\n",
       "         ...,\n",
       "         [0., 0., 0., ..., 0., 0., 0.],\n",
       "         [0., 0., 0., ..., 0., 0., 0.],\n",
       "         [0., 0., 0., ..., 0., 0., 0.]])],\n",
       " {'driver': 'GTiff',\n",
       "  'dtype': 'uint16',\n",
       "  'nodata': None,\n",
       "  'width': 1827,\n",
       "  'height': 2669,\n",
       "  'count': 5,\n",
       "  'crs': CRS.from_epsg(32643),\n",
       "  'transform': Affine(10.0, 0.0, 691370.0,\n",
       "         0.0, -10.0, 3571330.0)})"
      ]
     },
     "execution_count": 98,
     "metadata": {},
     "output_type": "execute_result"
    }
   ],
   "source": [
    "%%timeit\n",
    "load_geotiff('N:/dataorg-datasets/MLsatellite/sentinel2_images/images_danya/train_region/L2A_T43SFR_A014860_20200110T053549.tiff')"
   ]
  },
  {
   "cell_type": "code",
   "execution_count": 106,
   "id": "9650aed4-1f07-4df0-b7ef-f3a5476df9bc",
   "metadata": {},
   "outputs": [
    {
     "name": "stdout",
     "output_type": "stream",
     "text": [
      "810 ms ± 101 ms per loop (mean ± std. dev. of 7 runs, 1 loop each)\n"
     ]
    }
   ],
   "source": [
    "%%timeit\n",
    "load_geotiff(feature_dir + 'L2A_T43SFR_A027558_20201001T053726.tiff', window, as_float=False)"
   ]
  },
  {
   "cell_type": "code",
   "execution_count": 107,
   "id": "05ff370d-7290-4aa0-99be-6280db93fba3",
   "metadata": {},
   "outputs": [
    {
     "name": "stdout",
     "output_type": "stream",
     "text": [
      "910 ms ± 123 ms per loop (mean ± std. dev. of 7 runs, 1 loop each)\n"
     ]
    }
   ],
   "source": [
    "%%timeit\n",
    "load_geotiff(feature_dir + 'L2A_T43SFR_A027558_20201001T053726.tiff', window, as_float=True)"
   ]
  },
  {
   "cell_type": "code",
   "execution_count": 108,
   "id": "e73f4cb1-9750-4b73-959c-e21a29ab4de6",
   "metadata": {},
   "outputs": [
    {
     "data": {
      "text/plain": [
       "array([[0, 1, 2, 3, 4],\n",
       "       [5, 6, 7, 8, 9]])"
      ]
     },
     "execution_count": 108,
     "metadata": {},
     "output_type": "execute_result"
    }
   ],
   "source": [
    "np.arange(10).reshape(2,5)"
   ]
  },
  {
   "cell_type": "code",
   "execution_count": 109,
   "id": "e45190f6-fc66-4b4b-8272-f44a7f630020",
   "metadata": {},
   "outputs": [
    {
     "data": {
      "text/plain": [
       "array([2.5, 3.5, 4.5, 5.5, 6.5])"
      ]
     },
     "execution_count": 109,
     "metadata": {},
     "output_type": "execute_result"
    }
   ],
   "source": [
    "np.arange(10).reshape(2,5).mean(axis=0)"
   ]
  },
  {
   "cell_type": "code",
   "execution_count": 1,
   "id": "c0b22768-b893-42c7-bdf3-e4815e4aeb54",
   "metadata": {},
   "outputs": [],
   "source": [
    "import rasterio"
   ]
  },
  {
   "cell_type": "code",
   "execution_count": 2,
   "id": "cdc4810d-ad28-44fc-95e3-827fb6d510c2",
   "metadata": {},
   "outputs": [],
   "source": [
    "raster = rasterio.open('N:/dataorg-datasets/MLsatellite/sentinel2_images/images_danya/43SFR/raster/L2A_T43SFR_A014860_20200110T053549.tiff')"
   ]
  },
  {
   "cell_type": "code",
   "execution_count": 3,
   "id": "db48398c-04ce-4b50-8c89-2cd9aa4563fd",
   "metadata": {},
   "outputs": [
    {
     "data": {
      "text/plain": [
       "('B02', 'B03', 'B04', 'B08', 'cloud mask')"
      ]
     },
     "execution_count": 3,
     "metadata": {},
     "output_type": "execute_result"
    }
   ],
   "source": [
    "raster.descriptions"
   ]
  },
  {
   "cell_type": "code",
   "execution_count": 4,
   "id": "c01cd2fa-7688-4242-9018-bc08ce565e89",
   "metadata": {},
   "outputs": [
    {
     "data": {
      "text/plain": [
       "{'driver': 'GTiff',\n",
       " 'dtype': 'uint16',\n",
       " 'nodata': None,\n",
       " 'width': 10980,\n",
       " 'height': 10980,\n",
       " 'count': 5,\n",
       " 'crs': CRS.from_epsg(32643),\n",
       " 'transform': Affine(10.0, 0.0, 600000.0,\n",
       "        0.0, -10.0, 3600000.0)}"
      ]
     },
     "execution_count": 4,
     "metadata": {},
     "output_type": "execute_result"
    }
   ],
   "source": [
    "raster.meta"
   ]
  },
  {
   "cell_type": "code",
   "execution_count": 8,
   "id": "4f070a5c-769a-4dc8-b4bc-df5e53155777",
   "metadata": {},
   "outputs": [
    {
     "data": {
      "text/plain": [
       "4"
      ]
     },
     "execution_count": 8,
     "metadata": {},
     "output_type": "execute_result"
    }
   ],
   "source": [
    "raster.descriptions.index('cloud mask')"
   ]
  },
  {
   "cell_type": "code",
   "execution_count": 13,
   "id": "cf04fd1d-d0b5-44e1-8a46-2ba551e14f28",
   "metadata": {},
   "outputs": [
    {
     "data": {
      "text/plain": [
       "['B02', 'B03', 'B04', 'B08']"
      ]
     },
     "execution_count": 13,
     "metadata": {},
     "output_type": "execute_result"
    }
   ],
   "source": [
    "a = list(raster.descriptions)\n",
    "a.remove('cloud mask')\n",
    "a"
   ]
  },
  {
   "cell_type": "code",
   "execution_count": 16,
   "id": "b7be60ca-f36f-4943-92ea-2bf9bc53817a",
   "metadata": {},
   "outputs": [
    {
     "name": "stdout",
     "output_type": "stream",
     "text": [
      "0\n",
      "1\n",
      "2\n",
      "3\n",
      "4\n",
      "5\n",
      "6\n",
      "7\n",
      "8\n",
      "9\n"
     ]
    }
   ],
   "source": [
    "for i in range(10):\n",
    "    print(i)"
   ]
  },
  {
   "cell_type": "code",
   "execution_count": 19,
   "id": "c876dd06-afee-49a7-83f9-036216b80c8a",
   "metadata": {},
   "outputs": [
    {
     "data": {
      "text/plain": [
       "[0, 1, 2, 3, 4, 5, 6, 7, 8, 9]"
      ]
     },
     "execution_count": 19,
     "metadata": {},
     "output_type": "execute_result"
    }
   ],
   "source": [
    "list(range(10))"
   ]
  },
  {
   "cell_type": "code",
   "execution_count": 21,
   "id": "9e9fe72a-2fdb-4961-85d9-b731c5ea6d6e",
   "metadata": {},
   "outputs": [
    {
     "data": {
      "text/plain": [
       "[0, 1, 3, 4, 5, 6, 7, 8, 9]"
      ]
     },
     "execution_count": 21,
     "metadata": {},
     "output_type": "execute_result"
    }
   ],
   "source": [
    "b = list(range(10))\n",
    "b.pop(2)\n",
    "b"
   ]
  },
  {
   "cell_type": "code",
   "execution_count": 25,
   "id": "708e7c30-fcbe-41df-a7cf-2d0c22ee91da",
   "metadata": {},
   "outputs": [],
   "source": [
    "import numpy as np"
   ]
  },
  {
   "cell_type": "code",
   "execution_count": 27,
   "id": "16d37e15-6b30-4191-8e22-a5b8bf521b69",
   "metadata": {},
   "outputs": [
    {
     "data": {
      "text/plain": [
       "array([0, 1])"
      ]
     },
     "execution_count": 27,
     "metadata": {},
     "output_type": "execute_result"
    }
   ],
   "source": [
    "np.array([0,1,2,3,4])[[0,1]]"
   ]
  },
  {
   "cell_type": "code",
   "execution_count": null,
   "id": "a92532ec-1051-4ec2-a603-db1c9b01a5e2",
   "metadata": {},
   "outputs": [],
   "source": []
  }
 ],
 "metadata": {
  "kernelspec": {
   "display_name": "Python 3 (ipykernel)",
   "language": "python",
   "name": "python3"
  },
  "language_info": {
   "codemirror_mode": {
    "name": "ipython",
    "version": 3
   },
   "file_extension": ".py",
   "mimetype": "text/x-python",
   "name": "python",
   "nbconvert_exporter": "python",
   "pygments_lexer": "ipython3",
   "version": "3.9.7"
  }
 },
 "nbformat": 4,
 "nbformat_minor": 5
}
