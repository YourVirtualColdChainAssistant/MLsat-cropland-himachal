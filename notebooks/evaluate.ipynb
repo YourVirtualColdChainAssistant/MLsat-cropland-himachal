{
 "cells": [
  {
   "cell_type": "markdown",
   "id": "49fb9c14-8921-4f8c-b64e-106caae56d22",
   "metadata": {},
   "source": [
    "### Check the occurences in each class"
   ]
  },
  {
   "cell_type": "code",
   "execution_count": 1,
   "id": "74ae0664-1d20-4815-9346-25f1caea0656",
   "metadata": {},
   "outputs": [
    {
     "name": "stderr",
     "output_type": "stream",
     "text": [
      "Can't load requested DLL: C:\\Program Files\\GDAL\\gdalplugins\\gdal_KEA.dll\n",
      "127: The specified procedure could not be found.\n",
      "\n",
      "Can't load requested DLL: C:\\Program Files\\GDAL\\gdalplugins\\gdal_KEA.dll\n",
      "127: The specified procedure could not be found.\n",
      "\n",
      "Can't load requested DLL: C:\\Program Files\\GDAL\\gdalplugins\\gdal_KEA.dll\n",
      "127: The specified procedure could not be found.\n",
      "\n",
      "Can't load requested DLL: C:\\Program Files\\GDAL\\gdalplugins\\gdal_KEA.dll\n",
      "127: The specified procedure could not be found.\n",
      "\n"
     ]
    }
   ],
   "source": [
    "import os\n",
    "import re\n",
    "import sys\n",
    "import fiona\n",
    "import logging\n",
    "import datetime\n",
    "import numpy as np\n",
    "import pandas as pd\n",
    "import geopandas as gpd\n",
    "import skimage\n",
    "import skimage.draw\n",
    "import pyproj\n",
    "import rasterio\n",
    "from rasterio.mask import mask\n",
    "from rasterio.warp import calculate_default_transform, reproject, Resampling\n",
    "from sklearn.inspection import permutation_importance"
   ]
  },
  {
   "cell_type": "code",
   "execution_count": 2,
   "id": "72ebe162-6c26-440c-a4c4-70986c4797c3",
   "metadata": {},
   "outputs": [],
   "source": [
    "def load_target_shp(path, transform=None, proj_out=None):\n",
    "    \"\"\" Load the shapefile as a list of numpy array of coordinates\n",
    "        INPUT : path (str) -> the path to the shapefile\n",
    "                transform (rasterio.Affine) -> the affine transformation to get the polygon in row;col format from UTM.\n",
    "        OUTPUT : poly (list of np.array) -> list of polygons (as numpy.array of coordinates)\n",
    "                 poly_rc (list of np.array) -> list of polygon in row-col format if a transform is given\n",
    "    \"\"\"\n",
    "    print(\"Loading target shapefile...\")\n",
    "    with fiona.open(path) as shapefile:\n",
    "        proj_in = pyproj.Proj(shapefile.crs)\n",
    "        class_type = [feature['properties']['id'] for feature in shapefile]\n",
    "        features = [feature[\"geometry\"] for feature in shapefile]\n",
    "    # re-project polygons if necessary\n",
    "    if proj_out is None or proj_in == proj_out:\n",
    "        poly = [np.array([(coord[0], coord[1]) for coord in features[i]['coordinates'][0]]) for i in\n",
    "                range(len(features))]\n",
    "        print('No re-projection!')\n",
    "    else:\n",
    "        poly = [np.array(\n",
    "            [pyproj.transform(proj_in, proj_out, coord[0], coord[1]) for coord in features[i]['coordinates'][0]]) for i\n",
    "                in range(len(features))]\n",
    "        print(f'Re-project from {proj_in} to {proj_out}')\n",
    "\n",
    "    poly_rc = None\n",
    "    # transform in row-col if a transform is given\n",
    "    if transform is not None:\n",
    "        poly_rc = [np.array([rasterio.transform.rowcol(transform, coord[0], coord[1])[::-1] for coord in p]) for p in\n",
    "                   poly]\n",
    "    print('Loaded target shape files.')\n",
    "\n",
    "    return poly, poly_rc, class_type\n",
    "\n",
    "\n",
    "def compute_mask(polygon_list, meta, val_list):\n",
    "    \"\"\" Get mask of class of a polygon list\n",
    "        INPUT : polygon_list (list od polygon in coordinates (x, y)) -> the polygons in row;col format\n",
    "                meta -> the image width and height\n",
    "                val_list(list of int) -> the class associated with each polygon\n",
    "        OUTPUT : img (np.array 2D) -> the mask in which the pixel value reflect it's class (zero being the absence of class)\n",
    "    \"\"\"\n",
    "    img = np.zeros((meta['height'], meta['width']), dtype=np.int8)  # skimage : row,col --> h,w\n",
    "    i = 0\n",
    "    for polygon, val in zip(polygon_list, val_list):\n",
    "        rr, cc = skimage.draw.polygon(polygon[:, 1], polygon[:, 0], img.shape)\n",
    "        img[rr, cc] = val\n",
    "        i += 1\n",
    "    print(\"Added targets' mask.\")\n",
    "    return img"
   ]
  },
  {
   "cell_type": "code",
   "execution_count": 3,
   "id": "e580ec85-3f81-4754-be66-4f7958101e56",
   "metadata": {},
   "outputs": [],
   "source": [
    "def merge_shapefiles(to_label_path='../data/all-labels/all-labels.shp'):\n",
    "    # read all the shape files\n",
    "    old_apples_shp = gpd.read_file('../data/apples/survey20210716_polygons20210819_corrected20210831.shp')\n",
    "    new_apples_shp = gpd.read_file('../data/apples/survey20210825_polygons20210901_revised20210929.shp')\n",
    "    non_crops_shp = gpd.read_file('../data/non-crops/non-crop.shp')\n",
    "    other_crops_shp = gpd.read_file('../data/other-crops/other-crops.shp')\n",
    "    # put all shape files into one geo dataframe\n",
    "    all_labels_shp = gpd.GeoDataFrame(\n",
    "        pd.concat([old_apples_shp, new_apples_shp, other_crops_shp, non_crops_shp], axis=0))\n",
    "    all_labels_shp = all_labels_shp.dropna().reset_index(drop=True)  # delete empty polygons\n",
    "    all_labels_shp = multipolygons_to_polygons(all_labels_shp)\n",
    "    # mask for the study area\n",
    "    study_area_shp = gpd.read_file('../data/study-area/study_area.shp')\n",
    "    labels_in_study = gpd.overlay(all_labels_shp, study_area_shp, how='intersection')\n",
    "    cols2drop = [col for col in ['id', 'id_2'] if col in labels_in_study.columns]\n",
    "    labels_in_study = labels_in_study.drop(cols2drop, axis=1).rename(columns={'id_1': 'id'})\n",
    "    labels_in_study.to_file(to_label_path)  # save to folder\n",
    "    \n",
    "\n",
    "def multipolygons_to_polygons(shp_file):\n",
    "    # check the number of multipolygons\n",
    "    multi_polygons_df = shp_file[shp_file['geometry'].type == 'MultiPolygon']\n",
    "    polygons_df = shp_file[shp_file['geometry'].type == 'Polygon']\n",
    "    if multi_polygons_df.shape[0] == 0:\n",
    "        print('No multi-polygons!')\n",
    "    else:\n",
    "        new_polygons = []\n",
    "        num_multi_polygons = multi_polygons_df.shape[0]\n",
    "        print(f'Converting {num_multi_polygons} multi-polygons to polygons...')\n",
    "        for i in range(num_multi_polygons):\n",
    "            multi_polygon_ = multi_polygons_df.iloc[i]\n",
    "            label, district, multi_polygon = multi_polygon_.id, multi_polygon_.district, multi_polygon_.geometry\n",
    "            for polygon in list(multi_polygon):\n",
    "                new_polygons.append([label, district, polygon])\n",
    "        new_polygons_df = pd.DataFrame(new_polygons, columns=['id', 'district', 'geometry'])\n",
    "        polygons_df = pd.concat([polygons_df, new_polygons_df], axis=0)\n",
    "    return polygons_df"
   ]
  },
  {
   "cell_type": "code",
   "execution_count": 4,
   "id": "09c198d0-57d8-45d6-97e3-1ee237a46d5e",
   "metadata": {},
   "outputs": [],
   "source": [
    "def load_geotiff(path, window=None):\n",
    "    \"\"\" Load the geotiff as a list of numpy array.\n",
    "        INPUT : path (str) -> the path to the geotiff\n",
    "                window (rasterio.windows.Window) -> the window to use when loading the image\n",
    "        OUTPUT : band (list of numpy array) -> the different bands as float scaled to 0:1\n",
    "                 meta (dictionary) -> the metadata associated with the geotiff\n",
    "    \"\"\"\n",
    "    with rasterio.open(path) as f:\n",
    "        band = [skimage.img_as_float(f.read(i+1, window=window)) for i in range(f.count)]\n",
    "        meta = f.meta\n",
    "        if window is not None:\n",
    "            meta['height'] = window.height\n",
    "            meta['width'] = window.width\n",
    "            meta['transform'] = f.window_transform(window)\n",
    "    return band, meta"
   ]
  },
  {
   "cell_type": "code",
   "execution_count": 12,
   "id": "c753184c-2775-45d2-bd0e-a0eef37525ac",
   "metadata": {},
   "outputs": [
    {
     "name": "stdout",
     "output_type": "stream",
     "text": [
      "Converting 1 multi-polygons to polygons...\n"
     ]
    }
   ],
   "source": [
    "merge_shapefiles()"
   ]
  },
  {
   "cell_type": "code",
   "execution_count": 6,
   "id": "bd535769-3f35-4a03-beed-b957b58a8381",
   "metadata": {},
   "outputs": [],
   "source": [
    "band, meta = load_geotiff('N:/dataorg-datasets/MLsatellite/sentinel2_images/images_danya/clip/L2A_T43SFR_A026271_20200703T053446.tiff')"
   ]
  },
  {
   "cell_type": "code",
   "execution_count": 13,
   "id": "9d534b42-bf56-4eb0-be91-f8de2ff116c8",
   "metadata": {},
   "outputs": [
    {
     "name": "stdout",
     "output_type": "stream",
     "text": [
      "Loading target shapefile...\n",
      "No re-projection!\n",
      "Loaded target shape files.\n",
      "Added targets' mask.\n"
     ]
    },
    {
     "name": "stderr",
     "output_type": "stream",
     "text": [
      "C:\\Users\\lida\\Anaconda3\\envs\\ch\\lib\\site-packages\\pyproj\\crs\\crs.py:131: FutureWarning: '+init=<authority>:<code>' syntax is deprecated. '<authority>:<code>' is the preferred initialization method. When making the change, be mindful of axis order changes: https://pyproj4.github.io/pyproj/stable/gotchas.html#axis-order-changes-in-proj-6\n",
      "  in_crs_string = _prepare_from_proj_string(in_crs_string)\n"
     ]
    }
   ],
   "source": [
    "train_polygons, train_rc_polygons, train_class_list = \\\n",
    "    load_target_shp('../data/all-labels/all-labels.shp',\n",
    "                    transform=meta['transform'],\n",
    "                    proj_out=pyproj.Proj(meta['crs']))\n",
    "train_mask = compute_mask(train_rc_polygons, meta, train_class_list)"
   ]
  },
  {
   "cell_type": "code",
   "execution_count": 8,
   "id": "904e70c4-1029-4678-8147-17ed43107db2",
   "metadata": {},
   "outputs": [],
   "source": [
    "def count_classes(y):\n",
    "    tot_num = len(y)\n",
    "    for i in np.unique(y):\n",
    "        y_i = y[y == i]\n",
    "        print(f'  label = {i}, pixel number = {y_i.shape[0]}, percentage = {round(len(y_i)/tot_num*100, 2)}%')\n"
   ]
  },
  {
   "cell_type": "code",
   "execution_count": 9,
   "id": "11660eb1-d3ed-40df-9f72-125543dbfe98",
   "metadata": {},
   "outputs": [
    {
     "data": {
      "text/plain": [
       "(2357, 1892)"
      ]
     },
     "execution_count": 9,
     "metadata": {},
     "output_type": "execute_result"
    }
   ],
   "source": [
    "train_mask.shape"
   ]
  },
  {
   "cell_type": "code",
   "execution_count": 14,
   "id": "d7fad773-6e31-4b99-a783-ac3703e12edc",
   "metadata": {},
   "outputs": [
    {
     "name": "stdout",
     "output_type": "stream",
     "text": [
      "  label = -1, pixel number = 50746, percentage = 1.14%\n",
      "  label = 0, pixel number = 4350799, percentage = 97.56%\n",
      "  label = 1, pixel number = 6021, percentage = 0.14%\n",
      "  label = 2, pixel number = 51878, percentage = 1.16%\n"
     ]
    }
   ],
   "source": [
    "count_classes(train_mask.reshape(-1))"
   ]
  },
  {
   "cell_type": "code",
   "execution_count": 15,
   "id": "3be9ca39-5ac1-48f2-843e-f8ce6e63cd0c",
   "metadata": {},
   "outputs": [
    {
     "name": "stdout",
     "output_type": "stream",
     "text": [
      "  label = -1, pixel number = 50746, percentage = 46.71%\n",
      "  label = 1, pixel number = 57899, percentage = 53.29%\n"
     ]
    }
   ],
   "source": [
    "y = train_mask.reshape(-1).copy()\n",
    "y = y[y!=0]\n",
    "y[y==2] = 1\n",
    "count_classes(y)"
   ]
  },
  {
   "cell_type": "code",
   "execution_count": null,
   "id": "0aefc32d-2aec-4b75-8537-80ae588da446",
   "metadata": {},
   "outputs": [],
   "source": []
  },
  {
   "cell_type": "code",
   "execution_count": null,
   "id": "b8b6d12c-734a-4ef2-b472-1cac8542a67a",
   "metadata": {},
   "outputs": [],
   "source": []
  },
  {
   "cell_type": "markdown",
   "id": "5647c9d0-650e-43d7-9a40-98175aff2c1d",
   "metadata": {
    "tags": []
   },
   "source": [
    "### Cloud masking"
   ]
  },
  {
   "cell_type": "code",
   "execution_count": 31,
   "id": "198eb6cc-3382-487a-96f7-c50b92eaa691",
   "metadata": {},
   "outputs": [],
   "source": [
    "path = images_dir + '/safe/S2B_MSIL1C_20201228T054239_N0209_R005_T43SFR_20201228T063652.SAFE/GRANULE/L1C_T43SFR_A019908_20201228T054233/QI_DATA/'"
   ]
  },
  {
   "cell_type": "code",
   "execution_count": null,
   "id": "fef935a3-13a6-43e8-8bf8-b8dd0d0c6835",
   "metadata": {},
   "outputs": [],
   "source": []
  },
  {
   "cell_type": "code",
   "execution_count": null,
   "id": "6a9822b8-d559-49fe-b3f6-920dfe6d8be0",
   "metadata": {},
   "outputs": [],
   "source": []
  },
  {
   "cell_type": "code",
   "execution_count": null,
   "id": "da91fa20-abac-4b03-9b91-85899ba04c8a",
   "metadata": {},
   "outputs": [],
   "source": []
  },
  {
   "cell_type": "code",
   "execution_count": null,
   "id": "032d8696-d296-43a4-858c-2161a22d855a",
   "metadata": {},
   "outputs": [],
   "source": []
  },
  {
   "cell_type": "markdown",
   "id": "9b1aa049-38f0-42d5-a18a-54f192561077",
   "metadata": {},
   "source": [
    "# Validate\n",
    "\n",
    "- with Gfsat\n",
    "- with Copernicus (same region)\n",
    "- with Copernicus (more cropland region)\n",
    "- with Europe data"
   ]
  },
  {
   "cell_type": "code",
   "execution_count": 126,
   "id": "dfbb6716-b407-427a-a8ab-fa730934c364",
   "metadata": {},
   "outputs": [],
   "source": [
    "def clip_single_raster(shape_crs, shapes, geotiff_filepath, clip_filepath):\n",
    "    # get the coordinate system of raster\n",
    "    raster = rasterio.open(geotiff_filepath)\n",
    "\n",
    "    # check if two coordinate systems are the same\n",
    "    if shape_crs != raster.crs:\n",
    "        reproject_single_raster(shape_crs, geotiff_filepath, clip_filepath)\n",
    "        # read imagery file\n",
    "        with rasterio.open(clip_filepath) as src:\n",
    "            out_image, out_transform = mask(src, shapes, crop=True)\n",
    "            out_meta = src.meta\n",
    "    else:\n",
    "        # read imagery file\n",
    "        with rasterio.open(geotiff_filepath) as src:\n",
    "            out_image, out_transform = mask(src, shapes, crop=True)\n",
    "            out_meta = src.meta\n",
    "\n",
    "    # Save clipped imagery\n",
    "    out_meta.update({\"driver\": \"GTiff\",\n",
    "                     \"height\": out_image.shape[1],\n",
    "                     \"width\": out_image.shape[2],\n",
    "                     \"transform\": out_transform})\n",
    "\n",
    "    with rasterio.open(clip_filepath, \"w\", **out_meta) as dst:\n",
    "        # out_image.shape (band, height, width)\n",
    "        dst.write(out_image)\n",
    "\n",
    "\n",
    "def reproject_single_raster(dst_crs, input_file, transformed_file):\n",
    "    \"\"\"\n",
    "    :param dst_crs: output projection system\n",
    "    :param input_file\n",
    "    :param transformed_file\n",
    "    :return:\n",
    "    \"\"\"\n",
    "    with rasterio.open(input_file) as imagery:\n",
    "        print(f\"Reprojecting from {imagery.crs} to {dst_crs}.\")\n",
    "        transform, width, height = calculate_default_transform(imagery.crs, dst_crs, imagery.width, imagery.height,\n",
    "                                                               *imagery.bounds)\n",
    "        kwargs = imagery.meta.copy()\n",
    "        kwargs.update({'crs': dst_crs, 'transform': transform, 'width': width, 'height': height})\n",
    "        with rasterio.open(transformed_file, 'w', **kwargs) as dst:\n",
    "            for i in range(1, imagery.count + 1):\n",
    "                reproject(\n",
    "                    source=rasterio.band(imagery, i),\n",
    "                    destination=rasterio.band(dst, i),\n",
    "                    src_transform=imagery.transform,\n",
    "                    src_crs=imagery.crs,\n",
    "                    dst_transform=transform,\n",
    "                    dst_crs=dst_crs,\n",
    "                    resampling=Resampling.nearest)"
   ]
  },
  {
   "cell_type": "markdown",
   "id": "9df2c2ae-ebf0-47a6-9555-25d4e951191d",
   "metadata": {},
   "source": [
    "### load predictions"
   ]
  },
  {
   "cell_type": "code",
   "execution_count": 110,
   "id": "6215ed7c-3794-4a84-ae4b-490eac9b6438",
   "metadata": {},
   "outputs": [],
   "source": [
    "pred_path = '../preds/1008-183014_rfc.tif'\n",
    "band_pred, meta_pred = load_geotiff(pred_path)"
   ]
  },
  {
   "cell_type": "code",
   "execution_count": 45,
   "id": "d9b8f42c-fe80-4bca-b33f-c4e0ed69eb83",
   "metadata": {},
   "outputs": [
    {
     "data": {
      "text/plain": [
       "[array([[1., 1., 1., ..., 1., 1., 1.],\n",
       "        [1., 1., 1., ..., 1., 1., 1.],\n",
       "        [1., 1., 1., ..., 1., 1., 1.],\n",
       "        ...,\n",
       "        [1., 1., 1., ..., 1., 1., 1.],\n",
       "        [1., 1., 1., ..., 1., 1., 1.],\n",
       "        [1., 1., 1., ..., 1., 1., 1.]])]"
      ]
     },
     "execution_count": 45,
     "metadata": {},
     "output_type": "execute_result"
    }
   ],
   "source": [
    "band_pred"
   ]
  },
  {
   "cell_type": "code",
   "execution_count": 46,
   "id": "404c28d7-6091-481f-89e7-37450e59686b",
   "metadata": {},
   "outputs": [
    {
     "data": {
      "text/plain": [
       "(2357, 1892)"
      ]
     },
     "execution_count": 46,
     "metadata": {},
     "output_type": "execute_result"
    }
   ],
   "source": [
    "band_pred[0].shape"
   ]
  },
  {
   "cell_type": "code",
   "execution_count": 50,
   "id": "56ab1902-4627-4b32-ae4a-849f2ae4788c",
   "metadata": {},
   "outputs": [
    {
     "data": {
      "text/plain": [
       "array([  1., 255.])"
      ]
     },
     "execution_count": 50,
     "metadata": {},
     "output_type": "execute_result"
    }
   ],
   "source": [
    "np.unique(band_pred)*255"
   ]
  },
  {
   "cell_type": "code",
   "execution_count": 48,
   "id": "4d8e54f9-264c-4d2f-b39f-2c348e90f257",
   "metadata": {},
   "outputs": [
    {
     "data": {
      "text/plain": [
       "{'driver': 'GTiff',\n",
       " 'dtype': 'uint8',\n",
       " 'nodata': None,\n",
       " 'width': 1892,\n",
       " 'height': 2357,\n",
       " 'count': 1,\n",
       " 'crs': CRS.from_epsg(4326),\n",
       " 'transform': Affine(9.810891648968448e-05, 0.0, 77.03211244126558,\n",
       "        0.0, -9.810891648968448e-05, 32.25451163012633)}"
      ]
     },
     "execution_count": 48,
     "metadata": {},
     "output_type": "execute_result"
    }
   ],
   "source": [
    "meta_pred"
   ]
  },
  {
   "cell_type": "code",
   "execution_count": 51,
   "id": "c3a48361-8f7d-441c-83fd-4981003d513a",
   "metadata": {},
   "outputs": [],
   "source": [
    "band_pred = band_pred*255"
   ]
  },
  {
   "cell_type": "code",
   "execution_count": null,
   "id": "be1ca8b9-4021-46b8-a36a-e4ca6b4325c3",
   "metadata": {},
   "outputs": [],
   "source": []
  },
  {
   "cell_type": "markdown",
   "id": "988bb59f-0fd4-4543-b4c9-9d51cd160510",
   "metadata": {
    "tags": []
   },
   "source": [
    "### with GFsat"
   ]
  },
  {
   "cell_type": "code",
   "execution_count": 19,
   "id": "86ada374-b040-4df2-9bcb-41c6a637f086",
   "metadata": {},
   "outputs": [],
   "source": [
    "gfsat_path = 'K:/2021-data-org/4. RESEARCH_n/ML/MLsatellite/Data/layers_india/ancilliary_data/cropland/GFSAD30/GFSAD30SAAFGIRCE_2015_N30E70_001_2017286103800.tif'"
   ]
  },
  {
   "cell_type": "code",
   "execution_count": 20,
   "id": "30fb4d6f-7f06-49c4-9870-43caa091287e",
   "metadata": {},
   "outputs": [],
   "source": [
    "band_gfsat, meta_gfsat = load_geotiff(gfsat_path)"
   ]
  },
  {
   "cell_type": "code",
   "execution_count": 29,
   "id": "86a516d4-55cc-4cfb-9b77-41e326e24f8c",
   "metadata": {},
   "outputs": [
    {
     "data": {
      "text/plain": [
       "[array([[0.00392157, 0.00392157, 0.00392157, ..., 0.00392157, 0.00392157,\n",
       "         0.00392157],\n",
       "        [0.00392157, 0.00392157, 0.00392157, ..., 0.00392157, 0.00392157,\n",
       "         0.00392157],\n",
       "        [0.00392157, 0.00392157, 0.00392157, ..., 0.00392157, 0.00392157,\n",
       "         0.00392157],\n",
       "        ...,\n",
       "        [0.00392157, 0.00392157, 0.00392157, ..., 0.00392157, 0.00392157,\n",
       "         0.00392157],\n",
       "        [0.00392157, 0.00392157, 0.00392157, ..., 0.00392157, 0.00392157,\n",
       "         0.00392157],\n",
       "        [0.00392157, 0.00392157, 0.00392157, ..., 0.00392157, 0.00392157,\n",
       "         0.00392157]])]"
      ]
     },
     "execution_count": 29,
     "metadata": {},
     "output_type": "execute_result"
    }
   ],
   "source": [
    "band_gfsat"
   ]
  },
  {
   "cell_type": "code",
   "execution_count": 22,
   "id": "9cae69a8-f4a2-4040-be00-b7093d122024",
   "metadata": {},
   "outputs": [
    {
     "data": {
      "text/plain": [
       "(1, (37513, 37116))"
      ]
     },
     "execution_count": 22,
     "metadata": {},
     "output_type": "execute_result"
    }
   ],
   "source": [
    "len(band_gfsat), band_gfsat[0].shape"
   ]
  },
  {
   "cell_type": "code",
   "execution_count": 25,
   "id": "f012da36-312b-4c45-b096-aaec5a2857e9",
   "metadata": {},
   "outputs": [
    {
     "data": {
      "text/plain": [
       "({'driver': 'GTiff',\n",
       "  'dtype': 'uint16',\n",
       "  'nodata': None,\n",
       "  'width': 1892,\n",
       "  'height': 2357,\n",
       "  'count': 4,\n",
       "  'crs': CRS.from_epsg(4326),\n",
       "  'transform': Affine(9.810891648968448e-05, 0.0, 77.03211244126558,\n",
       "         0.0, -9.810891648968448e-05, 32.25451163012633)},\n",
       " {'driver': 'GTiff',\n",
       "  'dtype': 'uint8',\n",
       "  'nodata': None,\n",
       "  'width': 37116,\n",
       "  'height': 37513,\n",
       "  'count': 1,\n",
       "  'crs': CRS.from_epsg(4326),\n",
       "  'transform': Affine(0.0002694945852358563, 0.0, 69.99879306374659,\n",
       "         0.0, -0.0002694945852358565, 40.108609626067285)},\n",
       " {'driver': 'GTiff',\n",
       "  'dtype': 'uint8',\n",
       "  'nodata': 255.0,\n",
       "  'width': 20160,\n",
       "  'height': 20160,\n",
       "  'count': 1,\n",
       "  'crs': CRS.from_epsg(4326),\n",
       "  'transform': Affine(0.0009920634920634888, 0.0, 60.0,\n",
       "         0.0, -0.0009920634920634888, 40.0)})"
      ]
     },
     "execution_count": 25,
     "metadata": {},
     "output_type": "execute_result"
    }
   ],
   "source": [
    "meta, meta_gfsat, meta_copernicus"
   ]
  },
  {
   "cell_type": "code",
   "execution_count": 30,
   "id": "e4bb533e-a46e-4a63-99dc-6701154c5243",
   "metadata": {},
   "outputs": [
    {
     "data": {
      "text/plain": [
       "array([0.        , 0.00392157, 0.00784314])"
      ]
     },
     "execution_count": 30,
     "metadata": {},
     "output_type": "execute_result"
    }
   ],
   "source": [
    "np.unique(band_gfsat[0])"
   ]
  },
  {
   "cell_type": "code",
   "execution_count": 83,
   "id": "20c2798a-e5fd-4705-909c-0dc73038a10e",
   "metadata": {},
   "outputs": [],
   "source": [
    "# shape file information\n",
    "study_area_shp ='../data/study-area/study_area.shp'\n",
    "with fiona.open(study_area_shp, \"r\") as shapefile:\n",
    "    study_area_shapes = [feature[\"geometry\"] for feature in shapefile if feature[\"geometry\"] is not None]\n",
    "study_area_crs = gpd.read_file(study_area_shp).crs\n",
    "gfsat_clip_path = '../data/gfsat_clipped.tiff'\n",
    "clip_single_raster(study_area_crs, study_area_shapes, gfsat_path, gfsat_clip_path)"
   ]
  },
  {
   "cell_type": "code",
   "execution_count": 131,
   "id": "13f1f9c5-80b9-422a-b43d-71156d909296",
   "metadata": {},
   "outputs": [],
   "source": [
    "gfsat_clip_path = '../data/gfsat_clipped.tiff'"
   ]
  },
  {
   "cell_type": "code",
   "execution_count": 84,
   "id": "06bae23d-cb80-43e9-b0b4-5c185f719b8e",
   "metadata": {},
   "outputs": [],
   "source": [
    "band_gfsat, meta_gfsat = load_geotiff(gfsat_clip_path)"
   ]
  },
  {
   "cell_type": "code",
   "execution_count": 85,
   "id": "933cba2c-881d-4b8e-8f63-d7f7440bcc4e",
   "metadata": {},
   "outputs": [
    {
     "data": {
      "text/plain": [
       "(858, 689)"
      ]
     },
     "execution_count": 85,
     "metadata": {},
     "output_type": "execute_result"
    }
   ],
   "source": [
    "band_gfsat[0].shape  # as rsolution is 30 meters "
   ]
  },
  {
   "cell_type": "code",
   "execution_count": 121,
   "id": "b9b3d90c-4b59-40ab-a93a-6458caa8e445",
   "metadata": {},
   "outputs": [],
   "source": [
    "band_gfsat = band_gfsat/np.unique(band_gfsat).max()"
   ]
  },
  {
   "cell_type": "code",
   "execution_count": 70,
   "id": "cb48488f-4eb1-402b-8e6e-ace0fee10041",
   "metadata": {},
   "outputs": [
    {
     "data": {
      "text/plain": [
       "array([0. , 0.5, 1. ])"
      ]
     },
     "execution_count": 70,
     "metadata": {},
     "output_type": "execute_result"
    }
   ],
   "source": [
    "np.unique(band_gfsat[0])"
   ]
  },
  {
   "cell_type": "code",
   "execution_count": 54,
   "id": "e493e5c0-afb1-4845-a120-e20263ff6290",
   "metadata": {},
   "outputs": [
    {
     "data": {
      "text/plain": [
       "586311"
      ]
     },
     "execution_count": 54,
     "metadata": {},
     "output_type": "execute_result"
    }
   ],
   "source": [
    "((band_pred==1.0) == (band_gfsat==1.0)).sum()"
   ]
  },
  {
   "cell_type": "code",
   "execution_count": 56,
   "id": "1c795335-b111-428c-9cd8-f1d5d67da14d",
   "metadata": {},
   "outputs": [
    {
     "data": {
      "text/plain": [
       "4459444"
      ]
     },
     "execution_count": 56,
     "metadata": {},
     "output_type": "execute_result"
    }
   ],
   "source": [
    "band_pred[0].reshape(-1).shape[0]"
   ]
  },
  {
   "cell_type": "code",
   "execution_count": 59,
   "id": "249f7676-8d12-485e-9556-9d0c5b9d6ccb",
   "metadata": {},
   "outputs": [
    {
     "name": "stdout",
     "output_type": "stream",
     "text": [
      "Number of 1 in gfsat: 4851\n",
      "Number of equal: 586311\n",
      "Percentage: 120.8639\n"
     ]
    }
   ],
   "source": [
    "print(f'Number of 1 in gfsat: {(band_gfsat==1.0).sum()}')\n",
    "print(f'Number of equal: {((band_pred==1.0) == (band_gfsat==1.0)).sum()}')\n",
    "print(f'Percentage: {((band_pred==1.0) == (band_gfsat==1.0)).sum()/(band_gfsat==1.0).sum():.4f}')\n"
   ]
  },
  {
   "cell_type": "code",
   "execution_count": 69,
   "id": "5b0c6aea-50a7-4971-9ef4-8f84c3c38964",
   "metadata": {},
   "outputs": [
    {
     "data": {
      "text/plain": [
       "array([[[0., 0., 0., ..., 0., 0., 0.],\n",
       "        [0., 0., 0., ..., 0., 0., 0.],\n",
       "        [0., 0., 0., ..., 0., 0., 0.],\n",
       "        ...,\n",
       "        [0., 0., 0., ..., 0., 0., 0.],\n",
       "        [0., 0., 0., ..., 0., 0., 0.],\n",
       "        [0., 0., 0., ..., 0., 0., 0.]]])"
      ]
     },
     "execution_count": 69,
     "metadata": {},
     "output_type": "execute_result"
    }
   ],
   "source": [
    "band_gfsat"
   ]
  },
  {
   "cell_type": "code",
   "execution_count": 78,
   "id": "d55a7c37-797c-4d11-a2ce-a0b5af08f93f",
   "metadata": {},
   "outputs": [
    {
     "data": {
      "text/plain": [
       "((2357, 1892), (858, 689))"
      ]
     },
     "execution_count": 78,
     "metadata": {},
     "output_type": "execute_result"
    }
   ],
   "source": [
    "band_pred[0].shape, (band_gfsat[0] == 1.0).shape"
   ]
  },
  {
   "cell_type": "code",
   "execution_count": 87,
   "id": "5539bedc-b21e-4e84-9492-bb174b1b39c8",
   "metadata": {},
   "outputs": [
    {
     "data": {
      "text/plain": [
       "(2.747086247086247, 2.7460087082728593)"
      ]
     },
     "execution_count": 87,
     "metadata": {},
     "output_type": "execute_result"
    }
   ],
   "source": [
    "2357/858, 1892/689"
   ]
  },
  {
   "cell_type": "code",
   "execution_count": 97,
   "id": "2e649167-61cd-4aa9-979a-aef2bb8a3f0f",
   "metadata": {},
   "outputs": [
    {
     "data": {
      "text/plain": [
       "{'driver': 'GTiff',\n",
       " 'dtype': 'uint8',\n",
       " 'nodata': None,\n",
       " 'width': 689,\n",
       " 'height': 858,\n",
       " 'count': 1,\n",
       " 'crs': CRS.from_epsg(4326),\n",
       " 'transform': Affine(0.0002694945852358563, 0.0, 77.03206274923197,\n",
       "        0.0, -0.0002694945852358565, 32.254459433953485)}"
      ]
     },
     "execution_count": 97,
     "metadata": {},
     "output_type": "execute_result"
    }
   ],
   "source": [
    "meta_gfsat"
   ]
  },
  {
   "cell_type": "code",
   "execution_count": 101,
   "id": "14e21265-b801-494d-8a62-bc19500d32a4",
   "metadata": {},
   "outputs": [
    {
     "data": {
      "text/plain": [
       "{'driver': 'GTiff',\n",
       " 'dtype': 'uint8',\n",
       " 'nodata': None,\n",
       " 'width': 1892,\n",
       " 'height': 2357,\n",
       " 'count': 1,\n",
       " 'crs': CRS.from_epsg(4326),\n",
       " 'transform': Affine(9.810891648968448e-05, 0.0, 77.03211244126558,\n",
       "        0.0, -9.810891648968448e-05, 32.25451163012633)}"
      ]
     },
     "execution_count": 101,
     "metadata": {},
     "output_type": "execute_result"
    }
   ],
   "source": [
    "meta_pred"
   ]
  },
  {
   "cell_type": "code",
   "execution_count": 104,
   "id": "2b2e162d-389c-478f-b630-f73b9c24348a",
   "metadata": {},
   "outputs": [
    {
     "data": {
      "text/plain": [
       "<Geographic 2D CRS: EPSG:4326>\n",
       "Name: WGS 84\n",
       "Axis Info [ellipsoidal]:\n",
       "- Lat[north]: Geodetic latitude (degree)\n",
       "- Lon[east]: Geodetic longitude (degree)\n",
       "Area of Use:\n",
       "- name: World.\n",
       "- bounds: (-180.0, -90.0, 180.0, 90.0)\n",
       "Datum: World Geodetic System 1984 ensemble\n",
       "- Ellipsoid: WGS 84\n",
       "- Prime Meridian: Greenwich"
      ]
     },
     "execution_count": 104,
     "metadata": {},
     "output_type": "execute_result"
    }
   ],
   "source": [
    "study_area_crs"
   ]
  },
  {
   "cell_type": "code",
   "execution_count": 122,
   "id": "a9994dfb-8cdb-4a92-8068-c20712211451",
   "metadata": {},
   "outputs": [
    {
     "data": {
      "text/plain": [
       "array([0. , 0.5, 1. ])"
      ]
     },
     "execution_count": 122,
     "metadata": {},
     "output_type": "execute_result"
    }
   ],
   "source": [
    "np.unique(band_gfsat[0])"
   ]
  },
  {
   "cell_type": "code",
   "execution_count": 132,
   "id": "08a8e507-0eda-4d1c-a018-2422211e3526",
   "metadata": {},
   "outputs": [
    {
     "name": "stdout",
     "output_type": "stream",
     "text": [
      "Reprojecting from EPSG:4326 to EPSG:4326.\n"
     ]
    }
   ],
   "source": [
    "reproject_single_raster(\n",
    "    meta_pred['crs'], gfsat_clip_path, \"./gfsat_clipped.tiff\")"
   ]
  },
  {
   "cell_type": "code",
   "execution_count": 123,
   "id": "72e59976-6d90-469a-a929-14cc7038df15",
   "metadata": {},
   "outputs": [
    {
     "name": "stdout",
     "output_type": "stream",
     "text": [
      "(858, 689) (1, 2574, 2067)\n"
     ]
    }
   ],
   "source": [
    "out_image = np.expand_dims(band_gfsat[0].repeat(3, axis=0).repeat(3, axis=1), axis=0)\n",
    "print(band_gfsat[0].shape, out_image.shape)\n",
    "out_meta = meta_pred.copy()\n",
    "out_meta.update({\n",
    "     \"height\": out_image.shape[1],\n",
    "     \"width\": out_image.shape[2]})\n",
    "with rasterio.open('../data/gfsat_clip_upsample.tiff', \"w\", **out_meta) as dst:\n",
    "    # out_image.shape (band, height, width)\n",
    "    dst.write(out_image)"
   ]
  },
  {
   "cell_type": "code",
   "execution_count": 133,
   "id": "5857ae23-dc5e-4268-ab0a-1571a86eda47",
   "metadata": {},
   "outputs": [],
   "source": [
    "import os"
   ]
  },
  {
   "cell_type": "code",
   "execution_count": 210,
   "id": "8c1dde8f-9a4d-46df-b775-828dede79adf",
   "metadata": {},
   "outputs": [
    {
     "data": {
      "text/plain": [
       "0"
      ]
     },
     "execution_count": 210,
     "metadata": {},
     "output_type": "execute_result"
    }
   ],
   "source": [
    "x = os.system(f\"gdalwarp -overwrite -r average -t_srs {meta_pred['crs']} -ts {meta_pred['width']} {meta_pred['height']} -te {dataset.bounds.left} {dataset.bounds.bottom} {dataset.bounds.right} {dataset.bounds.top} {'../data/gfsad_clipped.tiff'} {'../data/gfsad_resample.tiff'}\")\n",
    "x"
   ]
  },
  {
   "cell_type": "code",
   "execution_count": 143,
   "id": "1e3305f3-2179-4bc5-86e9-2cb5c4d2d7d5",
   "metadata": {},
   "outputs": [
    {
     "data": {
      "text/plain": [
       "{'driver': 'GTiff',\n",
       " 'dtype': 'uint8',\n",
       " 'nodata': None,\n",
       " 'width': 1892,\n",
       " 'height': 2357,\n",
       " 'count': 1,\n",
       " 'crs': CRS.from_epsg(4326),\n",
       " 'transform': Affine(9.810891648968448e-05, 0.0, 77.03211244126558,\n",
       "        0.0, -9.810891648968448e-05, 32.25451163012633)}"
      ]
     },
     "execution_count": 143,
     "metadata": {},
     "output_type": "execute_result"
    }
   ],
   "source": [
    "meta_pred"
   ]
  },
  {
   "cell_type": "code",
   "execution_count": 150,
   "id": "74341b4b-70c4-4e9f-87cd-c3f85d9a4b9d",
   "metadata": {},
   "outputs": [
    {
     "data": {
      "text/plain": [
       "BoundingBox(left=77.03211244126558, bottom=32.023268913960145, right=77.21773451126407, top=32.25451163012633)"
      ]
     },
     "execution_count": 150,
     "metadata": {},
     "output_type": "execute_result"
    }
   ],
   "source": [
    "dataset = rasterio.open(pred_path)\n",
    "dataset.bounds"
   ]
  },
  {
   "cell_type": "markdown",
   "id": "47d1fd1a-ee27-4a7a-9473-cd9c49e654a6",
   "metadata": {},
   "source": [
    "Resampled"
   ]
  },
  {
   "cell_type": "code",
   "execution_count": 153,
   "id": "0f83c298-797f-424b-8283-713844ae2cfd",
   "metadata": {},
   "outputs": [
    {
     "data": {
      "text/plain": [
       "(2357, 1892)"
      ]
     },
     "execution_count": 153,
     "metadata": {},
     "output_type": "execute_result"
    }
   ],
   "source": [
    "gfsat_resample_path = '../data/gfsat_resample.tiff'\n",
    "band_gfsat_resample, meta_gfsat_resample = load_geotiff(gfsat_resample_path)\n",
    "band_gfsat_resample[0].shape"
   ]
  },
  {
   "cell_type": "code",
   "execution_count": 159,
   "id": "068165c8-3b54-49b0-9489-a3eae6660ecd",
   "metadata": {},
   "outputs": [
    {
     "data": {
      "text/plain": [
       "array([0. , 0.5, 1. ])"
      ]
     },
     "execution_count": 159,
     "metadata": {},
     "output_type": "execute_result"
    }
   ],
   "source": [
    "band_gfsat_resample = band_gfsat_resample/band_gfsat_resample[0].max()\n",
    "np.unique(band_gfsat_resample)"
   ]
  },
  {
   "cell_type": "code",
   "execution_count": 165,
   "id": "f6dd63fa-ab66-41c8-af27-5d4e1b64c8db",
   "metadata": {},
   "outputs": [
    {
     "data": {
      "text/plain": [
       "((2357, 1892), (2357, 1892))"
      ]
     },
     "execution_count": 165,
     "metadata": {},
     "output_type": "execute_result"
    }
   ],
   "source": [
    "band_pred[0].shape, band_gfsat_resample[0].shape"
   ]
  },
  {
   "cell_type": "code",
   "execution_count": 173,
   "id": "f32b5c62-4378-444d-b9e0-9a05f0ab42ea",
   "metadata": {},
   "outputs": [
    {
     "data": {
      "text/plain": [
       "array([  1., 255.])"
      ]
     },
     "execution_count": 173,
     "metadata": {},
     "output_type": "execute_result"
    }
   ],
   "source": [
    "np.unique(band_pred)"
   ]
  },
  {
   "cell_type": "code",
   "execution_count": 172,
   "id": "e55bed52-a8de-4fe2-909e-0a8c46bca8fc",
   "metadata": {},
   "outputs": [],
   "source": [
    "band_pred = band_pred/band_pred[0].min()"
   ]
  },
  {
   "cell_type": "code",
   "execution_count": 174,
   "id": "0a92aa15-5656-4c8a-a433-dda58734372a",
   "metadata": {},
   "outputs": [
    {
     "name": "stdout",
     "output_type": "stream",
     "text": [
      "Number of 1 in gfsat: 36583\n",
      "Number of equal: 25202\n",
      "Percentage: 0.6889\n"
     ]
    }
   ],
   "source": [
    "tot_1_in_gfsat = (band_gfsat_resample[0]==1.0).sum()\n",
    "num_1_in_preds = (band_pred[0][band_gfsat_resample[0]==1.0]==1.0).sum()\n",
    "print(f'Number of 1 in gfsat: {tot_1_in_gfsat}')\n",
    "print(f'Number of equal: {num_1_in_preds}')\n",
    "print(f'Percentage: {num_1_in_preds/tot_1_in_gfsat:.4f}')"
   ]
  },
  {
   "cell_type": "code",
   "execution_count": null,
   "id": "cd15e342-1ac3-43b3-9e5b-b650d0029dca",
   "metadata": {},
   "outputs": [],
   "source": []
  },
  {
   "cell_type": "code",
   "execution_count": 224,
   "id": "b8d444ea-4bf4-48a8-a401-3725484b4190",
   "metadata": {},
   "outputs": [],
   "source": [
    "def clip_open_datasets_based_on_study_area(input_path, output_path):\n",
    "    study_area_shp ='../data/study-area/study_area.shp'\n",
    "    with fiona.open(study_area_shp, \"r\") as shapefile:\n",
    "        study_area_shapes = [feature[\"geometry\"] for feature in shapefile if feature[\"geometry\"] is not None]\n",
    "    study_area_crs = gpd.read_file(study_area_shp).crs\n",
    "    clip_single_raster(study_area_crs, study_area_shapes, input_path, output_path)\n",
    "    \n",
    "    \n",
    "def align_raster(pred_path, input_path, output_path):\n",
    "    \"\"\"\n",
    "    Align according to prediction file (with boundary and resolution adjustment).\n",
    "    \n",
    "    \"\"\"\n",
    "    # prepare source info\n",
    "    bounds = rasterio.open(pred_path).bounds\n",
    "    _, meta_tar = load_geotiff(pred_path)\n",
    "    \n",
    "    # command\n",
    "    cmd = f\"gdalwarp -overwrite -r average -t_srs {meta_tar['crs']} -ts {meta_tar['width']} {meta_tar['height']} \" +\\\n",
    "            f\"-te {bounds.left} {bounds.bottom} {bounds.right} {bounds.top} {input_path} {output_path}\"\n",
    "    returned_val = os.system(cmd)\n",
    "    if returned_val == 0:\n",
    "        print('Successfully align raster!')\n",
    "    else:\n",
    "        print('Alignment failed!')\n",
    "        \n",
    "\n",
    "def compare_predictions_with_gfsad(pred_path, dataset_path):\n",
    "    # load data\n",
    "    band_pred, meta_pred = load_geotiff(pred_path)   \n",
    "    band_dataset, meta_dataset = load_geotiff(dataset_path)   \n",
    "    band_pred = band_pred[0]\n",
    "    band_dataset = band_dataset[0]\n",
    "    \n",
    "    # rescale to make target value taking 1\n",
    "    band_pred = band_pred/band_pred.min()\n",
    "    band_dataset = band_dataset/band_dataset.max()\n",
    "    \n",
    "    # calculate\n",
    "    num_in_dataset = (band_dataset==1.0).sum()\n",
    "    num_in_pred = (band_pred[band_dataset==1.0]==1.0).sum()\n",
    "    print(f'Cropland pixel number in GFASD: {num_in_dataset}')\n",
    "    print(f'Cropland pixel number in prediction: {num_in_pred}')\n",
    "    print(f'Percentage: {num_in_pred/num_in_dataset*100:.2f}%')\n",
    "                   \n",
    "                     \n",
    "def compare_predictions_with_copernicus(pred_path, dataset_path):\n",
    "    # load data\n",
    "    band_pred, meta_pred = load_geotiff(pred_path)   \n",
    "    band_dataset, meta_dataset = load_geotiff(dataset_path)   \n",
    "    band_pred = band_pred[0]\n",
    "    band_dataset = band_dataset[0]\n",
    "    \n",
    "    # rescale to make target value taking 1\n",
    "    band_pred = band_pred/band_pred.max() \n",
    "    band_dataset = band_dataset*255\n",
    "    band_dataset[(band_dataset==50)|(band_dataset==111)] = 1\n",
    "    \n",
    "    # calculate\n",
    "    num_in_dataset = (band_dataset==1.0).sum()\n",
    "    num_in_pred = (band_pred[band_dataset==1.0]==1.0).sum()\n",
    "    print(f'Non-cropland pixel number in Copernicus: {num_in_dataset}')\n",
    "    print(f'Non-cropland pixel number in prediction: {num_in_pred}')\n",
    "    print(f'Percentage: {num_in_pred/num_in_dataset*100:.2f}%')"
   ]
  },
  {
   "cell_type": "code",
   "execution_count": 217,
   "id": "3c41f0d9-b14a-4fe1-a8eb-6f56f45dde73",
   "metadata": {},
   "outputs": [
    {
     "name": "stdout",
     "output_type": "stream",
     "text": [
      "Successfully align raster!\n",
      "Cropland pixel number in GFSAD: 36583\n",
      "Cropland pixel number in prediction: 25202\n",
      "Percentage: 68.89%\n"
     ]
    }
   ],
   "source": [
    "gfsad_path = 'K:/2021-data-org/4. RESEARCH_n/ML/MLsatellite/Data/layers_india/ancilliary_data/cropland/GFSAD30/GFSAD30SAAFGIRCE_2015_N30E70_001_2017286103800.tif'\n",
    "gfsad_clip_path = '../data/gfsad_clipped.tiff'\n",
    "gfsad_align_path = '../data/gfsad_aligned.tiff'\n",
    "pred_path = '../preds/1008-183014_rfc.tif'\n",
    "\n",
    "clip_open_datasets_based_on_study_area(gfsad_path, gfsad_clip_path)\n",
    "align_raster(pred_path, gfsad_clip_path, gfsad_align_path)\n",
    "\n",
    "compare_predictions_with_gfsad(pred_path, gfsad_align_path)"
   ]
  },
  {
   "cell_type": "code",
   "execution_count": null,
   "id": "ab26ecd0-f8a6-4b79-ae97-ed8939c3106b",
   "metadata": {},
   "outputs": [],
   "source": []
  },
  {
   "cell_type": "code",
   "execution_count": null,
   "id": "0f4c1964-a2db-4c8d-9ca5-b6c6ce1984bc",
   "metadata": {},
   "outputs": [],
   "source": []
  },
  {
   "cell_type": "markdown",
   "id": "c2440816-d2b7-4c6e-a268-f2bbddedc47d",
   "metadata": {},
   "source": [
    "### with Copernicus (same region)"
   ]
  },
  {
   "cell_type": "code",
   "execution_count": 23,
   "id": "b903c691-b653-44d3-8af1-02f79819820a",
   "metadata": {},
   "outputs": [],
   "source": [
    "copernicus_path = 'K:/2021-data-org/4. RESEARCH_n/ML/MLsatellite/Data/layers_india/ancilliary_data/landcover/Copernicus_LC100m/INDIA_2019/E060N40_PROBAV_LC100_global_v3.0.1_2019-nrt_Discrete-Classification-map_EPSG-4326.tif'"
   ]
  },
  {
   "cell_type": "code",
   "execution_count": 24,
   "id": "213f4421-505c-4a1e-9108-a25d794ba82e",
   "metadata": {},
   "outputs": [],
   "source": [
    "band_copernicus, meta_copernicus = load_geotiff(copernicus_path)"
   ]
  },
  {
   "cell_type": "code",
   "execution_count": 26,
   "id": "f02b3bd4-9452-448a-8e87-17740663664b",
   "metadata": {},
   "outputs": [
    {
     "data": {
      "text/plain": [
       "[array([[0.07843137, 0.07843137, 0.11764706, ..., 0.23529412, 0.23529412,\n",
       "         0.23529412],\n",
       "        [0.23529412, 0.07843137, 0.11764706, ..., 0.23529412, 0.23529412,\n",
       "         0.23529412],\n",
       "        [0.23529412, 0.11764706, 0.11764706, ..., 0.23529412, 0.23529412,\n",
       "         0.23529412],\n",
       "        ...,\n",
       "        [0.78431373, 0.78431373, 0.78431373, ..., 0.15686275, 0.15686275,\n",
       "         0.15686275],\n",
       "        [0.78431373, 0.78431373, 0.78431373, ..., 0.15686275, 0.15686275,\n",
       "         0.15686275],\n",
       "        [0.78431373, 0.78431373, 0.78431373, ..., 0.15686275, 0.15686275,\n",
       "         0.15686275]])]"
      ]
     },
     "execution_count": 26,
     "metadata": {},
     "output_type": "execute_result"
    }
   ],
   "source": [
    "band_copernicus"
   ]
  },
  {
   "cell_type": "code",
   "execution_count": 27,
   "id": "d1c24fe0-fd07-4513-b13b-a82729f1b0d0",
   "metadata": {},
   "outputs": [
    {
     "data": {
      "text/plain": [
       "(1, (20160, 20160))"
      ]
     },
     "execution_count": 27,
     "metadata": {},
     "output_type": "execute_result"
    }
   ],
   "source": [
    "len(band_copernicus), band_copernicus[0].shape"
   ]
  },
  {
   "cell_type": "code",
   "execution_count": 218,
   "id": "a3f4b224-4f2c-46ff-9e98-2a73aa1a338b",
   "metadata": {},
   "outputs": [],
   "source": [
    "unique_ids = np.unique(band_copernicus[0])"
   ]
  },
  {
   "cell_type": "code",
   "execution_count": 220,
   "id": "04a92759-d7ce-47a2-b549-2271bd9bdc8b",
   "metadata": {},
   "outputs": [
    {
     "data": {
      "text/plain": [
       "array([0.        , 0.07843137, 0.11764706, 0.15686275, 0.19607843,\n",
       "       0.23529412, 0.2745098 , 0.31372549, 0.35294118, 0.39215686,\n",
       "       0.43529412, 0.43921569, 0.44313725, 0.44705882, 0.45098039,\n",
       "       0.45490196, 0.4745098 , 0.47843137, 0.48235294, 0.48627451,\n",
       "       0.49019608, 0.49411765, 0.78431373])"
      ]
     },
     "execution_count": 220,
     "metadata": {},
     "output_type": "execute_result"
    }
   ],
   "source": [
    "unique_ids"
   ]
  },
  {
   "cell_type": "code",
   "execution_count": 221,
   "id": "c6eb38a0-9669-49f3-b077-75adcdbf3cb8",
   "metadata": {},
   "outputs": [
    {
     "data": {
      "text/plain": [
       "array([  0.,  20.,  30.,  40.,  50.,  60.,  70.,  80.,  90., 100., 111.,\n",
       "       112., 113., 114., 115., 116., 121., 122., 123., 124., 125., 126.,\n",
       "       200.])"
      ]
     },
     "execution_count": 221,
     "metadata": {},
     "output_type": "execute_result"
    }
   ],
   "source": [
    "unique_ids*255"
   ]
  },
  {
   "cell_type": "code",
   "execution_count": 226,
   "id": "0c116566-b3bd-49ad-8f26-3f53763f7356",
   "metadata": {},
   "outputs": [
    {
     "name": "stdout",
     "output_type": "stream",
     "text": [
      "Successfully align raster!\n",
      "Non-cropland pixel number in Copernicus: 665909\n",
      "Non-cropland pixel number in prediction: 633714\n",
      "Percentage: 95.17%\n"
     ]
    }
   ],
   "source": [
    "copernicus_path = 'K:/2021-data-org/4. RESEARCH_n/ML/MLsatellite/Data/layers_india/ancilliary_data/landcover/Copernicus_LC100m/INDIA_2019/E060N40_PROBAV_LC100_global_v3.0.1_2019-nrt_Discrete-Classification-map_EPSG-4326.tif'\n",
    "copernicus_clip_path = '../data/copernicus_clipped.tiff'\n",
    "copernicus_align_path = '../data/copernicus_aligned.tiff'\n",
    "pred_path = '../preds/1008-183014_rfc.tif'\n",
    "\n",
    "clip_open_datasets_based_on_study_area(copernicus_path, copernicus_clip_path)\n",
    "align_raster(pred_path, copernicus_clip_path, copernicus_align_path)\n",
    "\n",
    "compare_predictions_with_copernicus(pred_path, copernicus_align_path)"
   ]
  },
  {
   "cell_type": "code",
   "execution_count": null,
   "id": "aaf53a9b-4329-4e31-9c32-ffd5c321149e",
   "metadata": {},
   "outputs": [],
   "source": []
  }
 ],
 "metadata": {
  "kernelspec": {
   "display_name": "Python 3 (ipykernel)",
   "language": "python",
   "name": "python3"
  },
  "language_info": {
   "codemirror_mode": {
    "name": "ipython",
    "version": 3
   },
   "file_extension": ".py",
   "mimetype": "text/x-python",
   "name": "python",
   "nbconvert_exporter": "python",
   "pygments_lexer": "ipython3",
   "version": "3.9.7"
  }
 },
 "nbformat": 4,
 "nbformat_minor": 5
}
