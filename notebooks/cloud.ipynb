{
 "cells": [
  {
   "cell_type": "code",
   "execution_count": 1,
   "id": "85274854-1daf-4854-a795-e01bba53bbe1",
   "metadata": {},
   "outputs": [],
   "source": [
    "import os"
   ]
  },
  {
   "cell_type": "code",
   "execution_count": 2,
   "id": "802d99ba-fe15-45aa-aa1e-b18e4f82c8d1",
   "metadata": {},
   "outputs": [],
   "source": [
    "import geopandas as gpd"
   ]
  },
  {
   "cell_type": "code",
   "execution_count": 3,
   "id": "e77df497-9f15-4ac8-861d-637ee45b9a25",
   "metadata": {},
   "outputs": [],
   "source": [
    "filep = 'corrected/S2B_MSIL2A_20201108T054039_N9999_R005_T43SFR_20210922T185740.SAFE/GRANULE/L2A_T43SFR_A019193_20201108T055005/QI_DATA'"
   ]
  },
  {
   "cell_type": "code",
   "execution_count": 13,
   "id": "73c09b2b-df6e-485e-8c19-9c01820df437",
   "metadata": {},
   "outputs": [],
   "source": [
    "file_path = r'safe\\S2A_MSIL1C_20200105T053221_N0208_R105_T43SFR_20200105T072254.SAFE\\GRANULE\\L1C_T43SFR_A023697_20200105T053922\\QI_DATA'"
   ]
  },
  {
   "cell_type": "code",
   "execution_count": 14,
   "id": "e9c347ff-66cd-4169-8ce4-62863125f107",
   "metadata": {},
   "outputs": [
    {
     "name": "stdout",
     "output_type": "stream",
     "text": [
      "0\n",
      "0\n",
      "0\n",
      "0\n",
      "0\n"
     ]
    }
   ],
   "source": [
    "band_map = {'cloud': 'MSK_CLOUDS_B00', 'B02': 'MSK_NODATA_B02', 'B03': 'MSK_NODATA_B03',\n",
    "            'B04': 'MSK_NODATA_B04', 'B08': 'MSK_NODATA_B08'}\n",
    "for band in ['cloud', 'B02', 'B03', 'B04', 'B08']:\n",
    "    cmd = f'ogr2ogr -f \"ESRI Shapefile\" ./mask/{band}_mask.shp {img_dir+file_path}/{band_map[band]}.gml'\n",
    "    r = os.system(cmd)\n",
    "    print(r)"
   ]
  },
  {
   "cell_type": "code",
   "execution_count": 10,
   "id": "94a94c90-1237-4e3c-8763-cdf738abc2af",
   "metadata": {},
   "outputs": [],
   "source": [
    "img_dir = 'N:/dataorg-datasets/MLsatellite/sentinel2_images/images_danya/43SFR/'"
   ]
  },
  {
   "cell_type": "code",
   "execution_count": 6,
   "id": "94391ec7-8afe-4193-b400-619c834a8e3d",
   "metadata": {},
   "outputs": [],
   "source": [
    "train_dir = img_dir + 'train_area_sample/'"
   ]
  },
  {
   "cell_type": "code",
   "execution_count": null,
   "id": "6e0a5b1b-87fd-4d2e-a0d7-d4b24208ebe1",
   "metadata": {},
   "outputs": [],
   "source": []
  },
  {
   "cell_type": "code",
   "execution_count": 172,
   "id": "2323579b-c93d-41d4-9a1f-e0ecbff95f55",
   "metadata": {},
   "outputs": [],
   "source": [
    "cloud_mask = gpd.read_file(img_dir + 'cloud_mask/L1C_T43SFR_A015289_20200209T052951/cloud_mask.shp')"
   ]
  },
  {
   "cell_type": "code",
   "execution_count": 173,
   "id": "519e5b8b-deeb-4320-bcac-a8a5bbaee3ca",
   "metadata": {},
   "outputs": [
    {
     "data": {
      "text/html": [
       "<div>\n",
       "<style scoped>\n",
       "    .dataframe tbody tr th:only-of-type {\n",
       "        vertical-align: middle;\n",
       "    }\n",
       "\n",
       "    .dataframe tbody tr th {\n",
       "        vertical-align: top;\n",
       "    }\n",
       "\n",
       "    .dataframe thead th {\n",
       "        text-align: right;\n",
       "    }\n",
       "</style>\n",
       "<table border=\"1\" class=\"dataframe\">\n",
       "  <thead>\n",
       "    <tr style=\"text-align: right;\">\n",
       "      <th></th>\n",
       "      <th>gml_id</th>\n",
       "      <th>maskType</th>\n",
       "      <th>geometry</th>\n",
       "    </tr>\n",
       "  </thead>\n",
       "  <tbody>\n",
       "    <tr>\n",
       "      <th>0</th>\n",
       "      <td>OPAQUE.0</td>\n",
       "      <td>OPAQUE</td>\n",
       "      <td>POLYGON ((676200.000 3600000.000, 676680.000 3...</td>\n",
       "    </tr>\n",
       "    <tr>\n",
       "      <th>1</th>\n",
       "      <td>OPAQUE.1</td>\n",
       "      <td>OPAQUE</td>\n",
       "      <td>POLYGON ((642120.000 3599700.000, 642300.000 3...</td>\n",
       "    </tr>\n",
       "    <tr>\n",
       "      <th>2</th>\n",
       "      <td>OPAQUE.2</td>\n",
       "      <td>OPAQUE</td>\n",
       "      <td>POLYGON ((636000.000 3599340.000, 636240.000 3...</td>\n",
       "    </tr>\n",
       "    <tr>\n",
       "      <th>3</th>\n",
       "      <td>OPAQUE.3</td>\n",
       "      <td>OPAQUE</td>\n",
       "      <td>POLYGON ((643200.000 3598740.000, 643380.000 3...</td>\n",
       "    </tr>\n",
       "    <tr>\n",
       "      <th>4</th>\n",
       "      <td>OPAQUE.4</td>\n",
       "      <td>OPAQUE</td>\n",
       "      <td>POLYGON ((634560.000 3598680.000, 634740.000 3...</td>\n",
       "    </tr>\n",
       "    <tr>\n",
       "      <th>...</th>\n",
       "      <td>...</td>\n",
       "      <td>...</td>\n",
       "      <td>...</td>\n",
       "    </tr>\n",
       "    <tr>\n",
       "      <th>698</th>\n",
       "      <td>CIRRUS.579</td>\n",
       "      <td>CIRRUS</td>\n",
       "      <td>POLYGON ((708300.000 3492180.000, 708540.000 3...</td>\n",
       "    </tr>\n",
       "    <tr>\n",
       "      <th>699</th>\n",
       "      <td>CIRRUS.580</td>\n",
       "      <td>CIRRUS</td>\n",
       "      <td>POLYGON ((699780.000 3490740.000, 700020.000 3...</td>\n",
       "    </tr>\n",
       "    <tr>\n",
       "      <th>700</th>\n",
       "      <td>CIRRUS.581</td>\n",
       "      <td>CIRRUS</td>\n",
       "      <td>POLYGON ((671640.000 3490440.000, 672000.000 3...</td>\n",
       "    </tr>\n",
       "    <tr>\n",
       "      <th>701</th>\n",
       "      <td>CIRRUS.582</td>\n",
       "      <td>CIRRUS</td>\n",
       "      <td>POLYGON ((704100.000 3491340.000, 704280.000 3...</td>\n",
       "    </tr>\n",
       "    <tr>\n",
       "      <th>702</th>\n",
       "      <td>CIRRUS.583</td>\n",
       "      <td>CIRRUS</td>\n",
       "      <td>POLYGON ((708600.000 3490800.000, 708780.000 3...</td>\n",
       "    </tr>\n",
       "  </tbody>\n",
       "</table>\n",
       "<p>703 rows × 3 columns</p>\n",
       "</div>"
      ],
      "text/plain": [
       "         gml_id maskType                                           geometry\n",
       "0      OPAQUE.0   OPAQUE  POLYGON ((676200.000 3600000.000, 676680.000 3...\n",
       "1      OPAQUE.1   OPAQUE  POLYGON ((642120.000 3599700.000, 642300.000 3...\n",
       "2      OPAQUE.2   OPAQUE  POLYGON ((636000.000 3599340.000, 636240.000 3...\n",
       "3      OPAQUE.3   OPAQUE  POLYGON ((643200.000 3598740.000, 643380.000 3...\n",
       "4      OPAQUE.4   OPAQUE  POLYGON ((634560.000 3598680.000, 634740.000 3...\n",
       "..          ...      ...                                                ...\n",
       "698  CIRRUS.579   CIRRUS  POLYGON ((708300.000 3492180.000, 708540.000 3...\n",
       "699  CIRRUS.580   CIRRUS  POLYGON ((699780.000 3490740.000, 700020.000 3...\n",
       "700  CIRRUS.581   CIRRUS  POLYGON ((671640.000 3490440.000, 672000.000 3...\n",
       "701  CIRRUS.582   CIRRUS  POLYGON ((704100.000 3491340.000, 704280.000 3...\n",
       "702  CIRRUS.583   CIRRUS  POLYGON ((708600.000 3490800.000, 708780.000 3...\n",
       "\n",
       "[703 rows x 3 columns]"
      ]
     },
     "execution_count": 173,
     "metadata": {},
     "output_type": "execute_result"
    }
   ],
   "source": [
    "cloud_mask"
   ]
  },
  {
   "cell_type": "code",
   "execution_count": 53,
   "id": "ea146072-2144-4902-b40a-0471524bf0fb",
   "metadata": {},
   "outputs": [
    {
     "data": {
      "text/html": [
       "<div>\n",
       "<style scoped>\n",
       "    .dataframe tbody tr th:only-of-type {\n",
       "        vertical-align: middle;\n",
       "    }\n",
       "\n",
       "    .dataframe tbody tr th {\n",
       "        vertical-align: top;\n",
       "    }\n",
       "\n",
       "    .dataframe thead th {\n",
       "        text-align: right;\n",
       "    }\n",
       "</style>\n",
       "<table border=\"1\" class=\"dataframe\">\n",
       "  <thead>\n",
       "    <tr style=\"text-align: right;\">\n",
       "      <th></th>\n",
       "      <th>gml_id</th>\n",
       "      <th>maskType</th>\n",
       "      <th>geometry</th>\n",
       "    </tr>\n",
       "  </thead>\n",
       "  <tbody>\n",
       "    <tr>\n",
       "      <th>0</th>\n",
       "      <td>OPAQUE.0</td>\n",
       "      <td>OPAQUE</td>\n",
       "      <td>POLYGON ((76.19815 32.12627, 76.20133 32.12624...</td>\n",
       "    </tr>\n",
       "    <tr>\n",
       "      <th>1</th>\n",
       "      <td>OPAQUE.1</td>\n",
       "      <td>OPAQUE</td>\n",
       "      <td>POLYGON ((76.16356 32.10656, 76.16546 32.10655...</td>\n",
       "    </tr>\n",
       "    <tr>\n",
       "      <th>2</th>\n",
       "      <td>OPAQUE.2</td>\n",
       "      <td>OPAQUE</td>\n",
       "      <td>POLYGON ((76.72012 32.08237, 76.72266 32.08233...</td>\n",
       "    </tr>\n",
       "    <tr>\n",
       "      <th>3</th>\n",
       "      <td>OPAQUE.3</td>\n",
       "      <td>OPAQUE</td>\n",
       "      <td>POLYGON ((76.18225 32.07716, 76.18480 32.07714...</td>\n",
       "    </tr>\n",
       "    <tr>\n",
       "      <th>4</th>\n",
       "      <td>OPAQUE.4</td>\n",
       "      <td>OPAQUE</td>\n",
       "      <td>POLYGON ((76.18731 32.07495, 76.18985 32.07493...</td>\n",
       "    </tr>\n",
       "    <tr>\n",
       "      <th>...</th>\n",
       "      <td>...</td>\n",
       "      <td>...</td>\n",
       "      <td>...</td>\n",
       "    </tr>\n",
       "    <tr>\n",
       "      <th>265</th>\n",
       "      <td>CIRRUS.19</td>\n",
       "      <td>CIRRUS</td>\n",
       "      <td>POLYGON ((76.80571 31.97402, 76.80762 31.97399...</td>\n",
       "    </tr>\n",
       "    <tr>\n",
       "      <th>266</th>\n",
       "      <td>CIRRUS.20</td>\n",
       "      <td>CIRRUS</td>\n",
       "      <td>POLYGON ((76.66648 31.92830, 76.66838 31.92827...</td>\n",
       "    </tr>\n",
       "    <tr>\n",
       "      <th>267</th>\n",
       "      <td>CIRRUS.21</td>\n",
       "      <td>CIRRUS</td>\n",
       "      <td>POLYGON ((76.62396 31.92831, 76.62586 31.92828...</td>\n",
       "    </tr>\n",
       "    <tr>\n",
       "      <th>268</th>\n",
       "      <td>CIRRUS.22</td>\n",
       "      <td>CIRRUS</td>\n",
       "      <td>POLYGON ((76.72468 31.91832, 76.72658 31.91829...</td>\n",
       "    </tr>\n",
       "    <tr>\n",
       "      <th>269</th>\n",
       "      <td>CIRRUS.23</td>\n",
       "      <td>CIRRUS</td>\n",
       "      <td>POLYGON ((76.74424 31.91264, 76.74678 31.91261...</td>\n",
       "    </tr>\n",
       "  </tbody>\n",
       "</table>\n",
       "<p>270 rows × 3 columns</p>\n",
       "</div>"
      ],
      "text/plain": [
       "        gml_id maskType                                           geometry\n",
       "0     OPAQUE.0   OPAQUE  POLYGON ((76.19815 32.12627, 76.20133 32.12624...\n",
       "1     OPAQUE.1   OPAQUE  POLYGON ((76.16356 32.10656, 76.16546 32.10655...\n",
       "2     OPAQUE.2   OPAQUE  POLYGON ((76.72012 32.08237, 76.72266 32.08233...\n",
       "3     OPAQUE.3   OPAQUE  POLYGON ((76.18225 32.07716, 76.18480 32.07714...\n",
       "4     OPAQUE.4   OPAQUE  POLYGON ((76.18731 32.07495, 76.18985 32.07493...\n",
       "..         ...      ...                                                ...\n",
       "265  CIRRUS.19   CIRRUS  POLYGON ((76.80571 31.97402, 76.80762 31.97399...\n",
       "266  CIRRUS.20   CIRRUS  POLYGON ((76.66648 31.92830, 76.66838 31.92827...\n",
       "267  CIRRUS.21   CIRRUS  POLYGON ((76.62396 31.92831, 76.62586 31.92828...\n",
       "268  CIRRUS.22   CIRRUS  POLYGON ((76.72468 31.91832, 76.72658 31.91829...\n",
       "269  CIRRUS.23   CIRRUS  POLYGON ((76.74424 31.91264, 76.74678 31.91261...\n",
       "\n",
       "[270 rows x 3 columns]"
      ]
     },
     "execution_count": 53,
     "metadata": {},
     "output_type": "execute_result"
    }
   ],
   "source": [
    "cloud_mask_proj"
   ]
  },
  {
   "cell_type": "code",
   "execution_count": 19,
   "id": "4a236afa-e029-4390-87cf-9057b62287d2",
   "metadata": {},
   "outputs": [
    {
     "data": {
      "text/plain": [
       "<Projected CRS: EPSG:32643>\n",
       "Name: WGS 84 / UTM zone 43N\n",
       "Axis Info [cartesian]:\n",
       "- E[east]: Easting (metre)\n",
       "- N[north]: Northing (metre)\n",
       "Area of Use:\n",
       "- name: Between 72°E and 78°E, northern hemisphere between equator and 84°N, onshore and offshore. China. India. Kazakhstan. Kyrgyzstan. Maldives. Pakistan. Russian Federation. Tajikistan.\n",
       "- bounds: (72.0, 0.0, 78.0, 84.0)\n",
       "Coordinate Operation:\n",
       "- name: UTM zone 43N\n",
       "- method: Transverse Mercator\n",
       "Datum: World Geodetic System 1984 ensemble\n",
       "- Ellipsoid: WGS 84\n",
       "- Prime Meridian: Greenwich"
      ]
     },
     "execution_count": 19,
     "metadata": {},
     "output_type": "execute_result"
    }
   ],
   "source": [
    "cloud_mask.crs"
   ]
  },
  {
   "cell_type": "code",
   "execution_count": 174,
   "id": "b95749a6-8a77-4efa-a421-baf7fbcbd5a5",
   "metadata": {},
   "outputs": [
    {
     "data": {
      "text/plain": [
       "{'driver': 'GTiff',\n",
       " 'dtype': 'uint16',\n",
       " 'nodata': None,\n",
       " 'width': 1892,\n",
       " 'height': 2357,\n",
       " 'count': 4,\n",
       " 'crs': CRS.from_epsg(4326),\n",
       " 'transform': Affine(9.810891648968448e-05, 0.0, 77.03211244126558,\n",
       "        0.0, -9.810891648968448e-05, 32.25451163012633)}"
      ]
     },
     "execution_count": 174,
     "metadata": {},
     "output_type": "execute_result"
    }
   ],
   "source": [
    "meta"
   ]
  },
  {
   "cell_type": "code",
   "execution_count": 187,
   "id": "7eed834d-8d67-4eeb-ae0f-60a718bd5e3f",
   "metadata": {},
   "outputs": [],
   "source": [
    "cloud_shp = cloud_mask\n",
    "cloud_legend = {'CLOUDLESS': 0, 'OPAQUE': 1, 'CIRRUS': 2}\n",
    "shapes = iter([(shapely.geometry.mapping(poly), cloud_legend[v]) for poly, v in\n",
    "               zip(cloud_shp.geometry, cloud_shp.maskType)])\n",
    "cloud_img = rasterio.features.rasterize(shapes, out_shape=(eg_meta['height'], eg_meta['width']),\n",
    "                                        transform=eg_meta['transform'])"
   ]
  },
  {
   "cell_type": "code",
   "execution_count": 186,
   "id": "1a454df4-0ef2-47b8-90b9-9effa9267625",
   "metadata": {},
   "outputs": [
    {
     "data": {
      "text/plain": [
       "({'driver': 'JP2OpenJPEG',\n",
       "  'dtype': 'uint16',\n",
       "  'nodata': None,\n",
       "  'width': 10980,\n",
       "  'height': 10980,\n",
       "  'count': 5,\n",
       "  'crs': None,\n",
       "  'transform': Affine(10.0, 0.0, 600000.0,\n",
       "         0.0, -10.0, 3600000.0)},\n",
       " {'driver': 'GTiff',\n",
       "  'dtype': 'uint16',\n",
       "  'nodata': None,\n",
       "  'width': 1892,\n",
       "  'height': 2357,\n",
       "  'count': 4,\n",
       "  'crs': CRS.from_epsg(4326),\n",
       "  'transform': Affine(9.810891648968448e-05, 0.0, 77.03211244126558,\n",
       "         0.0, -9.810891648968448e-05, 32.25451163012633)})"
      ]
     },
     "execution_count": 186,
     "metadata": {},
     "output_type": "execute_result"
    }
   ],
   "source": [
    "eg_meta, meta"
   ]
  },
  {
   "cell_type": "code",
   "execution_count": 188,
   "id": "9a981dda-f691-4a11-ba8f-959fdf4531a6",
   "metadata": {},
   "outputs": [
    {
     "data": {
      "text/plain": [
       "array([[0, 0, 0, ..., 1, 1, 1],\n",
       "       [0, 0, 0, ..., 1, 1, 1],\n",
       "       [0, 0, 0, ..., 1, 1, 1],\n",
       "       ...,\n",
       "       [0, 0, 0, ..., 0, 0, 0],\n",
       "       [0, 0, 0, ..., 0, 0, 0],\n",
       "       [0, 0, 0, ..., 0, 0, 0]], dtype=uint8)"
      ]
     },
     "execution_count": 188,
     "metadata": {},
     "output_type": "execute_result"
    }
   ],
   "source": [
    "cloud_img"
   ]
  },
  {
   "cell_type": "code",
   "execution_count": 189,
   "id": "5290c66f-be21-478d-80f8-7f2560b1e582",
   "metadata": {},
   "outputs": [
    {
     "data": {
      "text/plain": [
       "array([0, 1, 2], dtype=uint8)"
      ]
     },
     "execution_count": 189,
     "metadata": {},
     "output_type": "execute_result"
    }
   ],
   "source": [
    "np.unique(cloud_img)"
   ]
  },
  {
   "cell_type": "code",
   "execution_count": 3,
   "id": "9f65d5db-ff7d-4491-9957-b26e55dd4fc3",
   "metadata": {},
   "outputs": [
    {
     "name": "stderr",
     "output_type": "stream",
     "text": [
      "C:\\Users\\lida\\Anaconda3\\envs\\ch\\lib\\site-packages\\geopandas\\_compat.py:106: UserWarning: The Shapely GEOS version (3.8.0-CAPI-1.13.1 ) is incompatible with the GEOS version PyGEOS was compiled with (3.9.1-CAPI-1.14.2). Conversions between both will be slow.\n",
      "  warnings.warn(\n"
     ]
    }
   ],
   "source": [
    "import os\n",
    "import re\n",
    "import sys\n",
    "import math\n",
    "import fiona\n",
    "import pickle\n",
    "import logging\n",
    "import datetime\n",
    "import numpy as np\n",
    "import pandas as pd\n",
    "import geopandas as gpd\n",
    "import skimage\n",
    "import skimage.draw\n",
    "import pyproj\n",
    "import rasterio\n",
    "from rasterio.mask import mask\n",
    "from rasterio.warp import calculate_default_transform, reproject, Resampling"
   ]
  },
  {
   "cell_type": "code",
   "execution_count": 4,
   "id": "6201caa4-5b40-4944-b675-5142eab16143",
   "metadata": {},
   "outputs": [],
   "source": [
    "def load_target_shp(path, transform=None, proj_out=None):\n",
    "    \"\"\" Load the shapefile as a list of numpy array of coordinates\n",
    "        INPUT : path (str) -> the path to the shapefile\n",
    "                transform (rasterio.Affine) -> the affine transformation to get the polygon in row;col format from UTM.\n",
    "        OUTPUT : poly (list of np.array) -> list of polygons (as numpy.array of coordinates)\n",
    "                 poly_rc (list of np.array) -> list of polygon in row-col format if a transform is given\n",
    "    \"\"\"\n",
    "    print(\"Loading target shapefile...\")\n",
    "    with fiona.open(path) as shapefile:\n",
    "        proj_in = pyproj.Proj(shapefile.crs)\n",
    "        class_type = [1 for feature in shapefile]\n",
    "        features = [feature[\"geometry\"] for feature in shapefile]\n",
    "    # re-project polygons if necessary\n",
    "    if proj_out is None or proj_in == proj_out:\n",
    "        poly = [np.array([(coord[0], coord[1]) for coord in features[i]['coordinates'][0]]) for i in\n",
    "                range(len(features))]\n",
    "        print('No re-projection!')\n",
    "    else:\n",
    "        poly = [np.array(\n",
    "            [pyproj.transform(proj_in, proj_out, coord[0], coord[1]) for coord in features[i]['coordinates'][0]]) for i\n",
    "            in range(len(features))]\n",
    "        print(f'Re-project from {proj_in} to {proj_out}')\n",
    "\n",
    "    poly_rc = None\n",
    "    # transform in row-col if a transform is given\n",
    "    if transform is not None:\n",
    "        poly_rc = [np.array([rasterio.transform.rowcol(transform, coord[0], coord[1])[::-1] for coord in p]) for p in\n",
    "                   poly]\n",
    "    print('Loaded target shape files.')\n",
    "\n",
    "    return features, poly, poly_rc, class_type\n",
    "\n",
    "\n",
    "def compute_mask(polygon_list, meta, val_list):\n",
    "    \"\"\" Get mask of class of a polygon list\n",
    "        INPUT : polygon_list (list od polygon in coordinates (x, y)) -> the polygons in row;col format\n",
    "                meta -> the image width and height\n",
    "                val_list(list of int) -> the class associated with each polygon\n",
    "        OUTPUT : img (np.array 2D) -> the mask in which the pixel value reflect it's class (zero being the absence of class)\n",
    "    \"\"\"\n",
    "    img = np.zeros((meta['height'], meta['width']), dtype=np.uint8)  # skimage : row,col --> h,w\n",
    "    i = 0\n",
    "    for polygon, val in zip(polygon_list, val_list):\n",
    "        rr, cc = skimage.draw.polygon(polygon[:, 1], polygon[:, 0], img.shape)\n",
    "        img[rr, cc] = val\n",
    "        i += 1\n",
    "    print(\"Added targets' mask.\")\n",
    "    return img\n",
    "\n",
    "\n",
    "def load_geotiff(path, window=None):\n",
    "    \"\"\" Load the geotiff as a list of numpy array.\n",
    "        INPUT : path (str) -> the path to the geotiff\n",
    "                window (rasterio.windows.Window) -> the window to use when loading the image\n",
    "        OUTPUT : band (list of numpy array) -> the different bands as float scaled to 0:1\n",
    "                 meta (dictionary) -> the metadata associated with the geotiff\n",
    "    \"\"\"\n",
    "    with rasterio.open(path) as f:\n",
    "        band = [skimage.img_as_float(f.read(i + 1, window=window)) for i in range(f.count)]\n",
    "        meta = f.meta\n",
    "        if window is not None:\n",
    "            meta['height'] = window.height\n",
    "            meta['width'] = window.width\n",
    "            meta['transform'] = f.window_transform(window)\n",
    "    return band, meta"
   ]
  },
  {
   "cell_type": "code",
   "execution_count": 36,
   "id": "0cd04b73-2941-4cca-ac57-a9d5ba250616",
   "metadata": {},
   "outputs": [],
   "source": [
    "eg = img_dir + 'train_area/L2A_T43SFR_A026271_20200703T053446.tiff'\n",
    "band, meta = load_geotiff(eg)"
   ]
  },
  {
   "cell_type": "code",
   "execution_count": 37,
   "id": "2b5a8404-a9c1-4285-bbde-0a071a3d50ff",
   "metadata": {
    "collapsed": true,
    "jupyter": {
     "outputs_hidden": true
    },
    "tags": []
   },
   "outputs": [
    {
     "name": "stdout",
     "output_type": "stream",
     "text": [
      "Loading target shapefile...\n"
     ]
    },
    {
     "name": "stderr",
     "output_type": "stream",
     "text": [
      "C:\\Users\\lida\\Anaconda3\\envs\\ch\\lib\\site-packages\\pyproj\\crs\\crs.py:131: FutureWarning: '+init=<authority>:<code>' syntax is deprecated. '<authority>:<code>' is the preferred initialization method. When making the change, be mindful of axis order changes: https://pyproj4.github.io/pyproj/stable/gotchas.html#axis-order-changes-in-proj-6\n",
      "  in_crs_string = _prepare_from_proj_string(in_crs_string)\n",
      "C:\\Users\\lida\\AppData\\Local\\Temp/ipykernel_17832/2398201670.py:20: DeprecationWarning: This function is deprecated. See: https://pyproj4.github.io/pyproj/stable/gotchas.html#upgrading-to-pyproj-2-from-pyproj-1\n",
      "  [pyproj.transform(proj_in, proj_out, coord[0], coord[1]) for coord in features[i]['coordinates'][0]]) for i\n"
     ]
    },
    {
     "ename": "KeyboardInterrupt",
     "evalue": "",
     "output_type": "error",
     "traceback": [
      "\u001b[1;31m---------------------------------------------------------------------------\u001b[0m",
      "\u001b[1;31mKeyboardInterrupt\u001b[0m                         Traceback (most recent call last)",
      "\u001b[1;32m~\\AppData\\Local\\Temp/ipykernel_17832/3790693714.py\u001b[0m in \u001b[0;36m<module>\u001b[1;34m\u001b[0m\n\u001b[1;32m----> 1\u001b[1;33m \u001b[0mfeatures\u001b[0m\u001b[1;33m,\u001b[0m \u001b[0mpoly\u001b[0m\u001b[1;33m,\u001b[0m \u001b[0mpoly_rc\u001b[0m\u001b[1;33m,\u001b[0m \u001b[0mclass_type\u001b[0m \u001b[1;33m=\u001b[0m \u001b[0mload_target_shp\u001b[0m\u001b[1;33m(\u001b[0m\u001b[1;34m'./cloud_mask/cloud_mask.shp'\u001b[0m\u001b[1;33m,\u001b[0m \u001b[0mmeta\u001b[0m\u001b[1;33m[\u001b[0m\u001b[1;34m'transform'\u001b[0m\u001b[1;33m]\u001b[0m\u001b[1;33m,\u001b[0m \u001b[0mpyproj\u001b[0m\u001b[1;33m.\u001b[0m\u001b[0mProj\u001b[0m\u001b[1;33m(\u001b[0m\u001b[0mmeta\u001b[0m\u001b[1;33m[\u001b[0m\u001b[1;34m'crs'\u001b[0m\u001b[1;33m]\u001b[0m\u001b[1;33m)\u001b[0m\u001b[1;33m)\u001b[0m\u001b[1;33m\u001b[0m\u001b[1;33m\u001b[0m\u001b[0m\n\u001b[0m",
      "\u001b[1;32m~\\AppData\\Local\\Temp/ipykernel_17832/2398201670.py\u001b[0m in \u001b[0;36mload_target_shp\u001b[1;34m(path, transform, proj_out)\u001b[0m\n\u001b[0;32m     17\u001b[0m         \u001b[0mprint\u001b[0m\u001b[1;33m(\u001b[0m\u001b[1;34m'No re-projection!'\u001b[0m\u001b[1;33m)\u001b[0m\u001b[1;33m\u001b[0m\u001b[1;33m\u001b[0m\u001b[0m\n\u001b[0;32m     18\u001b[0m     \u001b[1;32melse\u001b[0m\u001b[1;33m:\u001b[0m\u001b[1;33m\u001b[0m\u001b[1;33m\u001b[0m\u001b[0m\n\u001b[1;32m---> 19\u001b[1;33m         poly = [np.array(\n\u001b[0m\u001b[0;32m     20\u001b[0m             [pyproj.transform(proj_in, proj_out, coord[0], coord[1]) for coord in features[i]['coordinates'][0]]) for i\n\u001b[0;32m     21\u001b[0m             in range(len(features))]\n",
      "\u001b[1;32m~\\AppData\\Local\\Temp/ipykernel_17832/2398201670.py\u001b[0m in \u001b[0;36m<listcomp>\u001b[1;34m(.0)\u001b[0m\n\u001b[0;32m     18\u001b[0m     \u001b[1;32melse\u001b[0m\u001b[1;33m:\u001b[0m\u001b[1;33m\u001b[0m\u001b[1;33m\u001b[0m\u001b[0m\n\u001b[0;32m     19\u001b[0m         poly = [np.array(\n\u001b[1;32m---> 20\u001b[1;33m             [pyproj.transform(proj_in, proj_out, coord[0], coord[1]) for coord in features[i]['coordinates'][0]]) for i\n\u001b[0m\u001b[0;32m     21\u001b[0m             in range(len(features))]\n\u001b[0;32m     22\u001b[0m         \u001b[0mprint\u001b[0m\u001b[1;33m(\u001b[0m\u001b[1;34mf'Re-project from {proj_in} to {proj_out}'\u001b[0m\u001b[1;33m)\u001b[0m\u001b[1;33m\u001b[0m\u001b[1;33m\u001b[0m\u001b[0m\n",
      "\u001b[1;32m~\\AppData\\Local\\Temp/ipykernel_17832/2398201670.py\u001b[0m in \u001b[0;36m<listcomp>\u001b[1;34m(.0)\u001b[0m\n\u001b[0;32m     18\u001b[0m     \u001b[1;32melse\u001b[0m\u001b[1;33m:\u001b[0m\u001b[1;33m\u001b[0m\u001b[1;33m\u001b[0m\u001b[0m\n\u001b[0;32m     19\u001b[0m         poly = [np.array(\n\u001b[1;32m---> 20\u001b[1;33m             [pyproj.transform(proj_in, proj_out, coord[0], coord[1]) for coord in features[i]['coordinates'][0]]) for i\n\u001b[0m\u001b[0;32m     21\u001b[0m             in range(len(features))]\n\u001b[0;32m     22\u001b[0m         \u001b[0mprint\u001b[0m\u001b[1;33m(\u001b[0m\u001b[1;34mf'Re-project from {proj_in} to {proj_out}'\u001b[0m\u001b[1;33m)\u001b[0m\u001b[1;33m\u001b[0m\u001b[1;33m\u001b[0m\u001b[0m\n",
      "\u001b[1;32m~\\Anaconda3\\envs\\ch\\lib\\site-packages\\pyproj\\transformer.py\u001b[0m in \u001b[0;36mtransform\u001b[1;34m(p1, p2, x, y, z, tt, radians, errcheck, skip_equivalent, always_xy)\u001b[0m\n\u001b[0;32m   1157\u001b[0m         \u001b[0mstacklevel\u001b[0m\u001b[1;33m=\u001b[0m\u001b[1;36m2\u001b[0m\u001b[1;33m,\u001b[0m\u001b[1;33m\u001b[0m\u001b[1;33m\u001b[0m\u001b[0m\n\u001b[0;32m   1158\u001b[0m     )\n\u001b[1;32m-> 1159\u001b[1;33m     return Transformer.from_proj(\n\u001b[0m\u001b[0;32m   1160\u001b[0m         \u001b[0mp1\u001b[0m\u001b[1;33m,\u001b[0m \u001b[0mp2\u001b[0m\u001b[1;33m,\u001b[0m \u001b[0mskip_equivalent\u001b[0m\u001b[1;33m=\u001b[0m\u001b[0mskip_equivalent\u001b[0m\u001b[1;33m,\u001b[0m \u001b[0malways_xy\u001b[0m\u001b[1;33m=\u001b[0m\u001b[0malways_xy\u001b[0m\u001b[1;33m\u001b[0m\u001b[1;33m\u001b[0m\u001b[0m\n\u001b[0;32m   1161\u001b[0m     ).transform(xx=x, yy=y, zz=z, tt=tt, radians=radians, errcheck=errcheck)\n",
      "\u001b[1;32m~\\Anaconda3\\envs\\ch\\lib\\site-packages\\pyproj\\transformer.py\u001b[0m in \u001b[0;36mfrom_proj\u001b[1;34m(proj_from, proj_to, skip_equivalent, always_xy, area_of_interest)\u001b[0m\n\u001b[0;32m    461\u001b[0m             \u001b[0mproj_to\u001b[0m \u001b[1;33m=\u001b[0m \u001b[0mProj\u001b[0m\u001b[1;33m(\u001b[0m\u001b[0mproj_to\u001b[0m\u001b[1;33m)\u001b[0m\u001b[1;33m\u001b[0m\u001b[1;33m\u001b[0m\u001b[0m\n\u001b[0;32m    462\u001b[0m \u001b[1;33m\u001b[0m\u001b[0m\n\u001b[1;32m--> 463\u001b[1;33m         return Transformer.from_crs(\n\u001b[0m\u001b[0;32m    464\u001b[0m             \u001b[0mproj_from\u001b[0m\u001b[1;33m.\u001b[0m\u001b[0mcrs\u001b[0m\u001b[1;33m,\u001b[0m\u001b[1;33m\u001b[0m\u001b[1;33m\u001b[0m\u001b[0m\n\u001b[0;32m    465\u001b[0m             \u001b[0mproj_to\u001b[0m\u001b[1;33m.\u001b[0m\u001b[0mcrs\u001b[0m\u001b[1;33m,\u001b[0m\u001b[1;33m\u001b[0m\u001b[1;33m\u001b[0m\u001b[0m\n",
      "\u001b[1;32m~\\Anaconda3\\envs\\ch\\lib\\site-packages\\pyproj\\transformer.py\u001b[0m in \u001b[0;36mfrom_crs\u001b[1;34m(crs_from, crs_to, skip_equivalent, always_xy, area_of_interest, authority, accuracy, allow_ballpark)\u001b[0m\n\u001b[0;32m    532\u001b[0m             )\n\u001b[0;32m    533\u001b[0m \u001b[1;33m\u001b[0m\u001b[0m\n\u001b[1;32m--> 534\u001b[1;33m         return Transformer(\n\u001b[0m\u001b[0;32m    535\u001b[0m             TransformerFromCRS(\n\u001b[0;32m    536\u001b[0m                 \u001b[0mcstrencode\u001b[0m\u001b[1;33m(\u001b[0m\u001b[0mCRS\u001b[0m\u001b[1;33m.\u001b[0m\u001b[0mfrom_user_input\u001b[0m\u001b[1;33m(\u001b[0m\u001b[0mcrs_from\u001b[0m\u001b[1;33m)\u001b[0m\u001b[1;33m.\u001b[0m\u001b[0msrs\u001b[0m\u001b[1;33m)\u001b[0m\u001b[1;33m,\u001b[0m\u001b[1;33m\u001b[0m\u001b[1;33m\u001b[0m\u001b[0m\n",
      "\u001b[1;32m~\\Anaconda3\\envs\\ch\\lib\\site-packages\\pyproj\\transformer.py\u001b[0m in \u001b[0;36m__init__\u001b[1;34m(self, transformer_maker)\u001b[0m\n\u001b[0;32m    308\u001b[0m \u001b[1;33m\u001b[0m\u001b[0m\n\u001b[0;32m    309\u001b[0m         \u001b[0mself\u001b[0m\u001b[1;33m.\u001b[0m\u001b[0m_local\u001b[0m \u001b[1;33m=\u001b[0m \u001b[0mTransformerLocal\u001b[0m\u001b[1;33m(\u001b[0m\u001b[1;33m)\u001b[0m\u001b[1;33m\u001b[0m\u001b[1;33m\u001b[0m\u001b[0m\n\u001b[1;32m--> 310\u001b[1;33m         \u001b[0mself\u001b[0m\u001b[1;33m.\u001b[0m\u001b[0m_local\u001b[0m\u001b[1;33m.\u001b[0m\u001b[0mtransformer\u001b[0m \u001b[1;33m=\u001b[0m \u001b[0mtransformer_maker\u001b[0m\u001b[1;33m(\u001b[0m\u001b[1;33m)\u001b[0m\u001b[1;33m\u001b[0m\u001b[1;33m\u001b[0m\u001b[0m\n\u001b[0m\u001b[0;32m    311\u001b[0m         \u001b[0mself\u001b[0m\u001b[1;33m.\u001b[0m\u001b[0m_transformer_maker\u001b[0m \u001b[1;33m=\u001b[0m \u001b[0mtransformer_maker\u001b[0m\u001b[1;33m\u001b[0m\u001b[1;33m\u001b[0m\u001b[0m\n\u001b[0;32m    312\u001b[0m \u001b[1;33m\u001b[0m\u001b[0m\n",
      "\u001b[1;32m~\\Anaconda3\\envs\\ch\\lib\\site-packages\\pyproj\\transformer.py\u001b[0m in \u001b[0;36m__call__\u001b[1;34m(self)\u001b[0m\n\u001b[0;32m     95\u001b[0m         \u001b[0m_Transformer\u001b[0m\u001b[1;33m\u001b[0m\u001b[1;33m\u001b[0m\u001b[0m\n\u001b[0;32m     96\u001b[0m         \"\"\"\n\u001b[1;32m---> 97\u001b[1;33m         return _Transformer.from_crs(\n\u001b[0m\u001b[0;32m     98\u001b[0m             \u001b[0mself\u001b[0m\u001b[1;33m.\u001b[0m\u001b[0mcrs_from\u001b[0m\u001b[1;33m,\u001b[0m\u001b[1;33m\u001b[0m\u001b[1;33m\u001b[0m\u001b[0m\n\u001b[0;32m     99\u001b[0m             \u001b[0mself\u001b[0m\u001b[1;33m.\u001b[0m\u001b[0mcrs_to\u001b[0m\u001b[1;33m,\u001b[0m\u001b[1;33m\u001b[0m\u001b[1;33m\u001b[0m\u001b[0m\n",
      "\u001b[1;32mpyproj\\_transformer.pyx\u001b[0m in \u001b[0;36mpyproj._transformer._Transformer.from_crs\u001b[1;34m()\u001b[0m\n",
      "\u001b[1;32mpyproj\\_transformer.pyx\u001b[0m in \u001b[0;36mpyproj._transformer._Transformer._init_from_crs\u001b[1;34m()\u001b[0m\n",
      "\u001b[1;32mpyproj\\_transformer.pyx\u001b[0m in \u001b[0;36mpyproj._transformer._Transformer._initialize_from_projobj\u001b[1;34m()\u001b[0m\n",
      "\u001b[1;32m~\\Anaconda3\\envs\\ch\\lib\\site-packages\\pyproj\\exceptions.py\u001b[0m in \u001b[0;36mclear\u001b[1;34m()\u001b[0m\n\u001b[0;32m     22\u001b[0m         \u001b[0mThis\u001b[0m \u001b[0mwill\u001b[0m \u001b[0mclear\u001b[0m \u001b[0mthe\u001b[0m \u001b[0minternal\u001b[0m \u001b[0mPROJ\u001b[0m \u001b[0merro\u001b[0m \u001b[0mmessage\u001b[0m\u001b[1;33m.\u001b[0m\u001b[1;33m\u001b[0m\u001b[1;33m\u001b[0m\u001b[0m\n\u001b[0;32m     23\u001b[0m         \"\"\"\n\u001b[1;32m---> 24\u001b[1;33m         \u001b[0mProjError\u001b[0m\u001b[1;33m.\u001b[0m\u001b[0minternal_proj_error\u001b[0m \u001b[1;33m=\u001b[0m \u001b[1;32mNone\u001b[0m\u001b[1;33m\u001b[0m\u001b[1;33m\u001b[0m\u001b[0m\n\u001b[0m\u001b[0;32m     25\u001b[0m \u001b[1;33m\u001b[0m\u001b[0m\n\u001b[0;32m     26\u001b[0m \u001b[1;33m\u001b[0m\u001b[0m\n",
      "\u001b[1;31mKeyboardInterrupt\u001b[0m: "
     ]
    }
   ],
   "source": [
    "features, poly, poly_rc, class_type = load_target_shp('./cloud_mask/cloud_mask.shp', meta['transform'], pyproj.Proj(meta['crs']))"
   ]
  },
  {
   "cell_type": "code",
   "execution_count": 38,
   "id": "ee6ec01a-03b4-451d-8fd9-010638274f77",
   "metadata": {},
   "outputs": [],
   "source": [
    "train_area_shp = gpd.read_file('../data/train_area/train_area.shp')"
   ]
  },
  {
   "cell_type": "code",
   "execution_count": 54,
   "id": "8c46cfa9-6332-4818-b15d-9715af506c7a",
   "metadata": {},
   "outputs": [
    {
     "ename": "AttributeError",
     "evalue": "'GeoSeries' object has no attribute 'overlay'",
     "output_type": "error",
     "traceback": [
      "\u001b[1;31m---------------------------------------------------------------------------\u001b[0m",
      "\u001b[1;31mAttributeError\u001b[0m                            Traceback (most recent call last)",
      "\u001b[1;32m~\\AppData\\Local\\Temp/ipykernel_17832/97174610.py\u001b[0m in \u001b[0;36m<module>\u001b[1;34m\u001b[0m\n\u001b[1;32m----> 1\u001b[1;33m \u001b[0mtrain_area_shp\u001b[0m\u001b[1;33m[\u001b[0m\u001b[1;34m'geometry'\u001b[0m\u001b[1;33m]\u001b[0m\u001b[1;33m.\u001b[0m\u001b[0moverlay\u001b[0m\u001b[1;33m(\u001b[0m\u001b[0mcloud_mask_proj\u001b[0m\u001b[1;33m,\u001b[0m \u001b[0mhow\u001b[0m\u001b[1;33m=\u001b[0m\u001b[1;34m'intersection'\u001b[0m\u001b[1;33m)\u001b[0m\u001b[1;33m\u001b[0m\u001b[1;33m\u001b[0m\u001b[0m\n\u001b[0m",
      "\u001b[1;32m~\\Anaconda3\\envs\\ch\\lib\\site-packages\\pandas\\core\\generic.py\u001b[0m in \u001b[0;36m__getattr__\u001b[1;34m(self, name)\u001b[0m\n\u001b[0;32m   5485\u001b[0m         ):\n\u001b[0;32m   5486\u001b[0m             \u001b[1;32mreturn\u001b[0m \u001b[0mself\u001b[0m\u001b[1;33m[\u001b[0m\u001b[0mname\u001b[0m\u001b[1;33m]\u001b[0m\u001b[1;33m\u001b[0m\u001b[1;33m\u001b[0m\u001b[0m\n\u001b[1;32m-> 5487\u001b[1;33m         \u001b[1;32mreturn\u001b[0m \u001b[0mobject\u001b[0m\u001b[1;33m.\u001b[0m\u001b[0m__getattribute__\u001b[0m\u001b[1;33m(\u001b[0m\u001b[0mself\u001b[0m\u001b[1;33m,\u001b[0m \u001b[0mname\u001b[0m\u001b[1;33m)\u001b[0m\u001b[1;33m\u001b[0m\u001b[1;33m\u001b[0m\u001b[0m\n\u001b[0m\u001b[0;32m   5488\u001b[0m \u001b[1;33m\u001b[0m\u001b[0m\n\u001b[0;32m   5489\u001b[0m     \u001b[1;32mdef\u001b[0m \u001b[0m__setattr__\u001b[0m\u001b[1;33m(\u001b[0m\u001b[0mself\u001b[0m\u001b[1;33m,\u001b[0m \u001b[0mname\u001b[0m\u001b[1;33m:\u001b[0m \u001b[0mstr\u001b[0m\u001b[1;33m,\u001b[0m \u001b[0mvalue\u001b[0m\u001b[1;33m)\u001b[0m \u001b[1;33m->\u001b[0m \u001b[1;32mNone\u001b[0m\u001b[1;33m:\u001b[0m\u001b[1;33m\u001b[0m\u001b[1;33m\u001b[0m\u001b[0m\n",
      "\u001b[1;31mAttributeError\u001b[0m: 'GeoSeries' object has no attribute 'overlay'"
     ]
    }
   ],
   "source": [
    "train_area_shp['geometry'].overlay(cloud_mask_proj, how='intersection')"
   ]
  },
  {
   "cell_type": "code",
   "execution_count": 69,
   "id": "4489172f-2959-414e-80e1-77069b0c8cab",
   "metadata": {},
   "outputs": [
    {
     "name": "stderr",
     "output_type": "stream",
     "text": [
      "C:\\Users\\lida\\Anaconda3\\envs\\ch\\lib\\site-packages\\geopandas\\base.py:32: UserWarning: The indices of the two GeoSeries are different.\n",
      "  warn(\"The indices of the two GeoSeries are different.\")\n"
     ]
    }
   ],
   "source": [
    "df = train_area_shp.geometry.intersection(cloud_mask_proj.geometry)"
   ]
  },
  {
   "cell_type": "code",
   "execution_count": 85,
   "id": "3a520ee4-7e79-4656-b43d-742e070457db",
   "metadata": {},
   "outputs": [
    {
     "data": {
      "text/plain": [
       "0       True\n",
       "1      False\n",
       "2      False\n",
       "3      False\n",
       "4      False\n",
       "       ...  \n",
       "265    False\n",
       "266    False\n",
       "267    False\n",
       "268    False\n",
       "269    False\n",
       "Length: 270, dtype: bool"
      ]
     },
     "execution_count": 85,
     "metadata": {},
     "output_type": "execute_result"
    }
   ],
   "source": [
    "df.is_empty"
   ]
  },
  {
   "cell_type": "code",
   "execution_count": 87,
   "id": "fdcbedf0-7796-4912-984c-4f4f46db0147",
   "metadata": {},
   "outputs": [
    {
     "data": {
      "text/plain": [
       "0      False\n",
       "1       True\n",
       "2       True\n",
       "3       True\n",
       "4       True\n",
       "       ...  \n",
       "265     True\n",
       "266     True\n",
       "267     True\n",
       "268     True\n",
       "269     True\n",
       "Length: 270, dtype: bool"
      ]
     },
     "execution_count": 87,
     "metadata": {},
     "output_type": "execute_result"
    }
   ],
   "source": [
    "df == None"
   ]
  },
  {
   "cell_type": "code",
   "execution_count": 96,
   "id": "7061a08d-2655-4cd0-9790-3d6aab2771b3",
   "metadata": {},
   "outputs": [],
   "source": [
    "a = df[(df != None) & (~df.is_empty)]"
   ]
  },
  {
   "cell_type": "code",
   "execution_count": 101,
   "id": "d6e5b238-1a47-4ddd-9ad9-9c7e63f3084c",
   "metadata": {},
   "outputs": [
    {
     "data": {
      "text/plain": [
       "GeoSeries([], dtype: geometry)"
      ]
     },
     "execution_count": 101,
     "metadata": {},
     "output_type": "execute_result"
    }
   ],
   "source": [
    "a"
   ]
  },
  {
   "cell_type": "code",
   "execution_count": 102,
   "id": "2cd1fe2a-5e58-4409-b20b-38ec111f39d2",
   "metadata": {},
   "outputs": [
    {
     "data": {
      "text/plain": [
       "(0,)"
      ]
     },
     "execution_count": 102,
     "metadata": {},
     "output_type": "execute_result"
    }
   ],
   "source": [
    "a.shape "
   ]
  },
  {
   "cell_type": "code",
   "execution_count": 66,
   "id": "e2d8b3b9-8e92-4672-b9b2-46001e5dd6a5",
   "metadata": {},
   "outputs": [
    {
     "ename": "AttributeError",
     "evalue": "'GeoDataFrame' object has no attribute 'sjoin'",
     "output_type": "error",
     "traceback": [
      "\u001b[1;31m---------------------------------------------------------------------------\u001b[0m",
      "\u001b[1;31mAttributeError\u001b[0m                            Traceback (most recent call last)",
      "\u001b[1;32m~\\AppData\\Local\\Temp/ipykernel_17832/2970570741.py\u001b[0m in \u001b[0;36m<module>\u001b[1;34m\u001b[0m\n\u001b[1;32m----> 1\u001b[1;33m \u001b[0mdff\u001b[0m \u001b[1;33m=\u001b[0m \u001b[0mtrain_area_shp\u001b[0m\u001b[1;33m.\u001b[0m\u001b[0msjoin\u001b[0m\u001b[1;33m(\u001b[0m\u001b[0mcloud_mask_proj\u001b[0m\u001b[1;33m,\u001b[0m \u001b[0mhow\u001b[0m\u001b[1;33m=\u001b[0m\u001b[1;34m'intersection'\u001b[0m\u001b[1;33m)\u001b[0m\u001b[1;33m\u001b[0m\u001b[1;33m\u001b[0m\u001b[0m\n\u001b[0m",
      "\u001b[1;32m~\\Anaconda3\\envs\\ch\\lib\\site-packages\\pandas\\core\\generic.py\u001b[0m in \u001b[0;36m__getattr__\u001b[1;34m(self, name)\u001b[0m\n\u001b[0;32m   5485\u001b[0m         ):\n\u001b[0;32m   5486\u001b[0m             \u001b[1;32mreturn\u001b[0m \u001b[0mself\u001b[0m\u001b[1;33m[\u001b[0m\u001b[0mname\u001b[0m\u001b[1;33m]\u001b[0m\u001b[1;33m\u001b[0m\u001b[1;33m\u001b[0m\u001b[0m\n\u001b[1;32m-> 5487\u001b[1;33m         \u001b[1;32mreturn\u001b[0m \u001b[0mobject\u001b[0m\u001b[1;33m.\u001b[0m\u001b[0m__getattribute__\u001b[0m\u001b[1;33m(\u001b[0m\u001b[0mself\u001b[0m\u001b[1;33m,\u001b[0m \u001b[0mname\u001b[0m\u001b[1;33m)\u001b[0m\u001b[1;33m\u001b[0m\u001b[1;33m\u001b[0m\u001b[0m\n\u001b[0m\u001b[0;32m   5488\u001b[0m \u001b[1;33m\u001b[0m\u001b[0m\n\u001b[0;32m   5489\u001b[0m     \u001b[1;32mdef\u001b[0m \u001b[0m__setattr__\u001b[0m\u001b[1;33m(\u001b[0m\u001b[0mself\u001b[0m\u001b[1;33m,\u001b[0m \u001b[0mname\u001b[0m\u001b[1;33m:\u001b[0m \u001b[0mstr\u001b[0m\u001b[1;33m,\u001b[0m \u001b[0mvalue\u001b[0m\u001b[1;33m)\u001b[0m \u001b[1;33m->\u001b[0m \u001b[1;32mNone\u001b[0m\u001b[1;33m:\u001b[0m\u001b[1;33m\u001b[0m\u001b[1;33m\u001b[0m\u001b[0m\n",
      "\u001b[1;31mAttributeError\u001b[0m: 'GeoDataFrame' object has no attribute 'sjoin'"
     ]
    }
   ],
   "source": [
    "dff = train_area_shp.sjoin(cloud_mask_proj, how='intersection')"
   ]
  },
  {
   "cell_type": "code",
   "execution_count": 56,
   "id": "d90b96d8-a93b-4ca5-add8-116e0bb2846f",
   "metadata": {},
   "outputs": [
    {
     "data": {
      "text/html": [
       "<div>\n",
       "<style scoped>\n",
       "    .dataframe tbody tr th:only-of-type {\n",
       "        vertical-align: middle;\n",
       "    }\n",
       "\n",
       "    .dataframe tbody tr th {\n",
       "        vertical-align: top;\n",
       "    }\n",
       "\n",
       "    .dataframe thead th {\n",
       "        text-align: right;\n",
       "    }\n",
       "</style>\n",
       "<table border=\"1\" class=\"dataframe\">\n",
       "  <thead>\n",
       "    <tr style=\"text-align: right;\">\n",
       "      <th></th>\n",
       "      <th>id</th>\n",
       "      <th>geometry</th>\n",
       "    </tr>\n",
       "  </thead>\n",
       "  <tbody>\n",
       "    <tr>\n",
       "      <th>0</th>\n",
       "      <td>0</td>\n",
       "      <td>POLYGON ((77.17355 32.23500, 77.20571 32.25445...</td>\n",
       "    </tr>\n",
       "  </tbody>\n",
       "</table>\n",
       "</div>"
      ],
      "text/plain": [
       "   id                                           geometry\n",
       "0   0  POLYGON ((77.17355 32.23500, 77.20571 32.25445..."
      ]
     },
     "execution_count": 56,
     "metadata": {},
     "output_type": "execute_result"
    }
   ],
   "source": [
    "train_area_shp"
   ]
  },
  {
   "cell_type": "code",
   "execution_count": 46,
   "id": "b2f4e6e3-2390-4cbd-b3ae-6c812878d67b",
   "metadata": {},
   "outputs": [
    {
     "data": {
      "text/plain": [
       "<Geographic 2D CRS: EPSG:4326>\n",
       "Name: WGS 84\n",
       "Axis Info [ellipsoidal]:\n",
       "- Lat[north]: Geodetic latitude (degree)\n",
       "- Lon[east]: Geodetic longitude (degree)\n",
       "Area of Use:\n",
       "- name: World.\n",
       "- bounds: (-180.0, -90.0, 180.0, 90.0)\n",
       "Datum: World Geodetic System 1984 ensemble\n",
       "- Ellipsoid: WGS 84\n",
       "- Prime Meridian: Greenwich"
      ]
     },
     "execution_count": 46,
     "metadata": {},
     "output_type": "execute_result"
    }
   ],
   "source": [
    "train_area_shp.crs"
   ]
  },
  {
   "cell_type": "code",
   "execution_count": 50,
   "id": "41b6e9a3-02de-46d6-86a5-e08d23b32261",
   "metadata": {},
   "outputs": [
    {
     "data": {
      "text/plain": [
       "CRS.from_epsg(4326)"
      ]
     },
     "execution_count": 50,
     "metadata": {},
     "output_type": "execute_result"
    }
   ],
   "source": [
    "meta['crs']"
   ]
  },
  {
   "cell_type": "code",
   "execution_count": 51,
   "id": "805ee1e3-da51-42e5-a46d-23f432c815d1",
   "metadata": {},
   "outputs": [],
   "source": [
    "cloud_mask_proj = cloud_mask.to_crs(meta['crs'])"
   ]
  },
  {
   "cell_type": "code",
   "execution_count": null,
   "id": "3f22897a-d3bf-41fb-a41b-6f07dc81fc48",
   "metadata": {},
   "outputs": [
    {
     "data": {
      "text/plain": [
       "<Geographic 2D CRS: EPSG:4326>\n",
       "Name: WGS 84\n",
       "Axis Info [ellipsoidal]:\n",
       "- Lat[north]: Geodetic latitude (degree)\n",
       "- Lon[east]: Geodetic longitude (degree)\n",
       "Area of Use:\n",
       "- undefined\n",
       "Datum: World Geodetic System 1984\n",
       "- Ellipsoid: WGS 84\n",
       "- Prime Meridian: Greenwich"
      ]
     },
     "execution_count": 52,
     "metadata": {},
     "output_type": "execute_result"
    }
   ],
   "source": [
    "cloud_mask_proj.crs"
   ]
  },
  {
   "cell_type": "code",
   "execution_count": null,
   "id": "0c89fbcf-7435-4d0e-98a9-738092d9d7f2",
   "metadata": {},
   "outputs": [],
   "source": []
  },
  {
   "cell_type": "code",
   "execution_count": 58,
   "id": "d4ba28aa-cdfe-4395-af2c-8a1999f79be5",
   "metadata": {},
   "outputs": [],
   "source": [
    "from shapely.geometry import Polygon\n",
    "polys1 = gpd.GeoSeries([Polygon([(0,0), (2,0), (2,2), (0,2)]),\n",
    "                              Polygon([(2,2), (4,2), (4,4), (2,4)])])\n",
    "polys2 = gpd.GeoSeries([Polygon([(1,1), (3,1), (3,3), (1,3)]),\n",
    "                              Polygon([(3,3), (5,3), (5,5), (3,5)])])\n",
    "df1 = gpd.GeoDataFrame({'geometry': polys1, 'df1_data':[1,2]})\n",
    "df2 = gpd.GeoDataFrame({'geometry': polys2, 'df2_data':[1,2]})"
   ]
  },
  {
   "cell_type": "code",
   "execution_count": 61,
   "id": "ba0adcc6-19f5-4bd2-8b8b-84a73cc4fdef",
   "metadata": {},
   "outputs": [
    {
     "data": {
      "text/plain": [
       "0    POLYGON ((2.00000 2.00000, 2.00000 1.00000, 1....\n",
       "1    POLYGON ((4.00000 4.00000, 4.00000 3.00000, 3....\n",
       "dtype: geometry"
      ]
     },
     "execution_count": 61,
     "metadata": {},
     "output_type": "execute_result"
    }
   ],
   "source": [
    "df1.intersection(df2)"
   ]
  },
  {
   "cell_type": "code",
   "execution_count": 67,
   "id": "c667a311-a1dd-4d86-b27f-1db9cc757c65",
   "metadata": {},
   "outputs": [
    {
     "ename": "AttributeError",
     "evalue": "'GeoDataFrame' object has no attribute 'sjoin'",
     "output_type": "error",
     "traceback": [
      "\u001b[1;31m---------------------------------------------------------------------------\u001b[0m",
      "\u001b[1;31mAttributeError\u001b[0m                            Traceback (most recent call last)",
      "\u001b[1;32m~\\AppData\\Local\\Temp/ipykernel_17832/280298936.py\u001b[0m in \u001b[0;36m<module>\u001b[1;34m\u001b[0m\n\u001b[1;32m----> 1\u001b[1;33m \u001b[0mdf1\u001b[0m\u001b[1;33m.\u001b[0m\u001b[0msjoin\u001b[0m\u001b[1;33m(\u001b[0m\u001b[0mdf2\u001b[0m\u001b[1;33m,\u001b[0m \u001b[0mhow\u001b[0m\u001b[1;33m=\u001b[0m\u001b[1;34m'intersection'\u001b[0m\u001b[1;33m)\u001b[0m\u001b[1;33m\u001b[0m\u001b[1;33m\u001b[0m\u001b[0m\n\u001b[0m",
      "\u001b[1;32m~\\Anaconda3\\envs\\ch\\lib\\site-packages\\pandas\\core\\generic.py\u001b[0m in \u001b[0;36m__getattr__\u001b[1;34m(self, name)\u001b[0m\n\u001b[0;32m   5485\u001b[0m         ):\n\u001b[0;32m   5486\u001b[0m             \u001b[1;32mreturn\u001b[0m \u001b[0mself\u001b[0m\u001b[1;33m[\u001b[0m\u001b[0mname\u001b[0m\u001b[1;33m]\u001b[0m\u001b[1;33m\u001b[0m\u001b[1;33m\u001b[0m\u001b[0m\n\u001b[1;32m-> 5487\u001b[1;33m         \u001b[1;32mreturn\u001b[0m \u001b[0mobject\u001b[0m\u001b[1;33m.\u001b[0m\u001b[0m__getattribute__\u001b[0m\u001b[1;33m(\u001b[0m\u001b[0mself\u001b[0m\u001b[1;33m,\u001b[0m \u001b[0mname\u001b[0m\u001b[1;33m)\u001b[0m\u001b[1;33m\u001b[0m\u001b[1;33m\u001b[0m\u001b[0m\n\u001b[0m\u001b[0;32m   5488\u001b[0m \u001b[1;33m\u001b[0m\u001b[0m\n\u001b[0;32m   5489\u001b[0m     \u001b[1;32mdef\u001b[0m \u001b[0m__setattr__\u001b[0m\u001b[1;33m(\u001b[0m\u001b[0mself\u001b[0m\u001b[1;33m,\u001b[0m \u001b[0mname\u001b[0m\u001b[1;33m:\u001b[0m \u001b[0mstr\u001b[0m\u001b[1;33m,\u001b[0m \u001b[0mvalue\u001b[0m\u001b[1;33m)\u001b[0m \u001b[1;33m->\u001b[0m \u001b[1;32mNone\u001b[0m\u001b[1;33m:\u001b[0m\u001b[1;33m\u001b[0m\u001b[1;33m\u001b[0m\u001b[0m\n",
      "\u001b[1;31mAttributeError\u001b[0m: 'GeoDataFrame' object has no attribute 'sjoin'"
     ]
    }
   ],
   "source": [
    "df1.sjoin(df2, how='intersection')"
   ]
  },
  {
   "cell_type": "code",
   "execution_count": null,
   "id": "03d80636-6830-46be-b72a-dbf782515482",
   "metadata": {},
   "outputs": [],
   "source": []
  },
  {
   "cell_type": "code",
   "execution_count": null,
   "id": "c3dcceaf-16f6-427a-a450-c374b3ba9395",
   "metadata": {},
   "outputs": [],
   "source": []
  },
  {
   "cell_type": "markdown",
   "id": "7dd6f024-1c67-46b3-9156-2b81d7bb8c04",
   "metadata": {},
   "source": [
    "### build cloud_mask from gml to shp"
   ]
  },
  {
   "cell_type": "code",
   "execution_count": 122,
   "id": "2bcc2a3f-6abb-4a97-8ebd-be06cec6cf2e",
   "metadata": {},
   "outputs": [],
   "source": [
    "def convert_gml_to_shp(img_dir):\n",
    "    safe_dir = img_dir + 'safe/'\n",
    "    cloud_dir = img_dir + 'cloud_mask/'\n",
    "    if not os.path.exists(cloud_dir):\n",
    "        os.mkdir(cloud_dir)\n",
    "\n",
    "    safe_names = os.listdir(safe_dir)\n",
    "\n",
    "    print('Converting cloud mask from gml to shp ...')\n",
    "    for i, safe_name in enumerate(safe_names, start=1):\n",
    "        filename = os.listdir(safe_dir + safe_name + '/GRANULE/')[0]\n",
    "        gml_path = safe_dir + safe_name + '/GRANULE/' + filename + '/QI_DATA/MSK_CLOUDS_B00.gml'\n",
    "        if not os.path.exists(cloud_dir + filename):\n",
    "            os.mkdir(cloud_dir + filename)\n",
    "        cloud_path = cloud_dir + filename + '/cloud_mask.shp'\n",
    "        cmd = f'ogr2ogr -f \"ESRI Shapefile\" {cloud_path} {gml_path}'\n",
    "        returned = os.system(cmd)\n",
    "        if returned == 0:\n",
    "            print(f'[{i}/{len(safe_names)}] {cloud_path} ')\n",
    "        else:\n",
    "            raise ValueError(f'{safe_name} failed')\n",
    "    print(f'  ok')"
   ]
  },
  {
   "cell_type": "code",
   "execution_count": 123,
   "id": "faca78ee-6c26-4817-9772-294e481657a7",
   "metadata": {},
   "outputs": [
    {
     "name": "stdout",
     "output_type": "stream",
     "text": [
      "Converting cloud mask from gml to shp ...\n",
      "[1/131] N:/dataorg-datasets/MLsatellite/sentinel2_images/images_danya/cloud_mask/L1C_T43SFR_A023697_20200105T053922/cloud_mask.shp \n",
      "[2/131] N:/dataorg-datasets/MLsatellite/sentinel2_images/images_danya/cloud_mask/L1C_T43SFR_A023740_20200108T054215/cloud_mask.shp \n",
      "[3/131] N:/dataorg-datasets/MLsatellite/sentinel2_images/images_danya/cloud_mask/L1C_T43SFR_A023840_20200115T053150/cloud_mask.shp \n",
      "[4/131] N:/dataorg-datasets/MLsatellite/sentinel2_images/images_danya/cloud_mask/L1C_T43SFR_A023883_20200118T054145/cloud_mask.shp \n",
      "[5/131] N:/dataorg-datasets/MLsatellite/sentinel2_images/images_danya/cloud_mask/L1C_T43SFR_A023983_20200125T053846/cloud_mask.shp \n",
      "[6/131] N:/dataorg-datasets/MLsatellite/sentinel2_images/images_danya/cloud_mask/L1C_T43SFR_A024026_20200128T054632/cloud_mask.shp \n",
      "[7/131] N:/dataorg-datasets/MLsatellite/sentinel2_images/images_danya/cloud_mask/L1C_T43SFR_A024126_20200204T053431/cloud_mask.shp \n",
      "[8/131] N:/dataorg-datasets/MLsatellite/sentinel2_images/images_danya/cloud_mask/L1C_T43SFR_A024169_20200207T054526/cloud_mask.shp \n",
      "[9/131] N:/dataorg-datasets/MLsatellite/sentinel2_images/images_danya/cloud_mask/L1C_T43SFR_A024269_20200214T053307/cloud_mask.shp \n",
      "[10/131] N:/dataorg-datasets/MLsatellite/sentinel2_images/images_danya/cloud_mask/L1C_T43SFR_A024312_20200217T054440/cloud_mask.shp \n",
      "[11/131] N:/dataorg-datasets/MLsatellite/sentinel2_images/images_danya/cloud_mask/L1C_T43SFR_A024412_20200224T053042/cloud_mask.shp \n",
      "[12/131] N:/dataorg-datasets/MLsatellite/sentinel2_images/images_danya/cloud_mask/L1C_T43SFR_A024412_20200224T053954/cloud_mask.shp \n",
      "[13/131] N:/dataorg-datasets/MLsatellite/sentinel2_images/images_danya/cloud_mask/L1C_T43SFR_A024455_20200227T054840/cloud_mask.shp \n",
      "[14/131] N:/dataorg-datasets/MLsatellite/sentinel2_images/images_danya/cloud_mask/L1C_T43SFR_A024555_20200305T053544/cloud_mask.shp \n",
      "[15/131] N:/dataorg-datasets/MLsatellite/sentinel2_images/images_danya/cloud_mask/L1C_T43SFR_A024698_20200315T053521/cloud_mask.shp \n",
      "[16/131] N:/dataorg-datasets/MLsatellite/sentinel2_images/images_danya/cloud_mask/L1C_T43SFR_A024741_20200318T054706/cloud_mask.shp \n",
      "[17/131] N:/dataorg-datasets/MLsatellite/sentinel2_images/images_danya/cloud_mask/L1C_T43SFR_A024841_20200325T053612/cloud_mask.shp \n",
      "[18/131] N:/dataorg-datasets/MLsatellite/sentinel2_images/images_danya/cloud_mask/L1C_T43SFR_A024884_20200328T054415/cloud_mask.shp \n",
      "[19/131] N:/dataorg-datasets/MLsatellite/sentinel2_images/images_danya/cloud_mask/L1C_T43SFR_A024984_20200404T053351/cloud_mask.shp \n",
      "[20/131] N:/dataorg-datasets/MLsatellite/sentinel2_images/images_danya/cloud_mask/L1C_T43SFR_A025027_20200407T054439/cloud_mask.shp \n",
      "[21/131] N:/dataorg-datasets/MLsatellite/sentinel2_images/images_danya/cloud_mask/L1C_T43SFR_A025127_20200414T053524/cloud_mask.shp \n",
      "[22/131] N:/dataorg-datasets/MLsatellite/sentinel2_images/images_danya/cloud_mask/L1C_T43SFR_A025170_20200417T054716/cloud_mask.shp \n",
      "[23/131] N:/dataorg-datasets/MLsatellite/sentinel2_images/images_danya/cloud_mask/L1C_T43SFR_A025270_20200424T053852/cloud_mask.shp \n",
      "[24/131] N:/dataorg-datasets/MLsatellite/sentinel2_images/images_danya/cloud_mask/L1C_T43SFR_A025413_20200504T053442/cloud_mask.shp \n",
      "[25/131] N:/dataorg-datasets/MLsatellite/sentinel2_images/images_danya/cloud_mask/L1C_T43SFR_A025456_20200507T054503/cloud_mask.shp \n",
      "[26/131] N:/dataorg-datasets/MLsatellite/sentinel2_images/images_danya/cloud_mask/L1C_T43SFR_A025556_20200514T053617/cloud_mask.shp \n",
      "[27/131] N:/dataorg-datasets/MLsatellite/sentinel2_images/images_danya/cloud_mask/L1C_T43SFR_A025699_20200524T053821/cloud_mask.shp \n",
      "[28/131] N:/dataorg-datasets/MLsatellite/sentinel2_images/images_danya/cloud_mask/L1C_T43SFR_A025742_20200527T054432/cloud_mask.shp \n",
      "[29/131] N:/dataorg-datasets/MLsatellite/sentinel2_images/images_danya/cloud_mask/L1C_T43SFR_A025842_20200603T053615/cloud_mask.shp \n",
      "[30/131] N:/dataorg-datasets/MLsatellite/sentinel2_images/images_danya/cloud_mask/L1C_T43SFR_A025885_20200606T054448/cloud_mask.shp \n",
      "[31/131] N:/dataorg-datasets/MLsatellite/sentinel2_images/images_danya/cloud_mask/L1C_T43SFR_A025985_20200613T053531/cloud_mask.shp \n",
      "[32/131] N:/dataorg-datasets/MLsatellite/sentinel2_images/images_danya/cloud_mask/L1C_T43SFR_A026128_20200623T053900/cloud_mask.shp \n",
      "[33/131] N:/dataorg-datasets/MLsatellite/sentinel2_images/images_danya/cloud_mask/L1C_T43SFR_A026171_20200626T054512/cloud_mask.shp \n",
      "[34/131] N:/dataorg-datasets/MLsatellite/sentinel2_images/images_danya/cloud_mask/L1C_T43SFR_A026271_20200703T053446/cloud_mask.shp \n",
      "[35/131] N:/dataorg-datasets/MLsatellite/sentinel2_images/images_danya/cloud_mask/L1C_T43SFR_A026414_20200713T053533/cloud_mask.shp \n",
      "[36/131] N:/dataorg-datasets/MLsatellite/sentinel2_images/images_danya/cloud_mask/L1C_T43SFR_A026457_20200716T054714/cloud_mask.shp \n",
      "[37/131] N:/dataorg-datasets/MLsatellite/sentinel2_images/images_danya/cloud_mask/L1C_T43SFR_A026557_20200723T053824/cloud_mask.shp \n",
      "[38/131] N:/dataorg-datasets/MLsatellite/sentinel2_images/images_danya/cloud_mask/L1C_T43SFR_A026600_20200726T054429/cloud_mask.shp \n",
      "[39/131] N:/dataorg-datasets/MLsatellite/sentinel2_images/images_danya/cloud_mask/L1C_T43SFR_A026700_20200802T053636/cloud_mask.shp \n",
      "[40/131] N:/dataorg-datasets/MLsatellite/sentinel2_images/images_danya/cloud_mask/L1C_T43SFR_A026743_20200805T054056/cloud_mask.shp \n",
      "[41/131] N:/dataorg-datasets/MLsatellite/sentinel2_images/images_danya/cloud_mask/L1C_T43SFR_A026843_20200812T052652/cloud_mask.shp \n",
      "[42/131] N:/dataorg-datasets/MLsatellite/sentinel2_images/images_danya/cloud_mask/L1C_T43SFR_A026886_20200815T054052/cloud_mask.shp \n",
      "[43/131] N:/dataorg-datasets/MLsatellite/sentinel2_images/images_danya/cloud_mask/L1C_T43SFR_A026986_20200822T053947/cloud_mask.shp \n",
      "[44/131] N:/dataorg-datasets/MLsatellite/sentinel2_images/images_danya/cloud_mask/L1C_T43SFR_A027029_20200825T054859/cloud_mask.shp \n",
      "[45/131] N:/dataorg-datasets/MLsatellite/sentinel2_images/images_danya/cloud_mask/L1C_T43SFR_A027129_20200901T053813/cloud_mask.shp \n",
      "[46/131] N:/dataorg-datasets/MLsatellite/sentinel2_images/images_danya/cloud_mask/L1C_T43SFR_A027172_20200904T053646/cloud_mask.shp \n",
      "[47/131] N:/dataorg-datasets/MLsatellite/sentinel2_images/images_danya/cloud_mask/L1C_T43SFR_A027272_20200911T053945/cloud_mask.shp \n",
      "[48/131] N:/dataorg-datasets/MLsatellite/sentinel2_images/images_danya/cloud_mask/L1C_T43SFR_A027315_20200914T053646/cloud_mask.shp \n",
      "[49/131] N:/dataorg-datasets/MLsatellite/sentinel2_images/images_danya/cloud_mask/L1C_T43SFR_A027415_20200921T053331/cloud_mask.shp \n",
      "[50/131] N:/dataorg-datasets/MLsatellite/sentinel2_images/images_danya/cloud_mask/L1C_T43SFR_A027458_20200924T054816/cloud_mask.shp \n",
      "[51/131] N:/dataorg-datasets/MLsatellite/sentinel2_images/images_danya/cloud_mask/L1C_T43SFR_A027558_20201001T053726/cloud_mask.shp \n",
      "[52/131] N:/dataorg-datasets/MLsatellite/sentinel2_images/images_danya/cloud_mask/L1C_T43SFR_A027601_20201004T053701/cloud_mask.shp \n",
      "[53/131] N:/dataorg-datasets/MLsatellite/sentinel2_images/images_danya/cloud_mask/L1C_T43SFR_A027701_20201011T053056/cloud_mask.shp \n",
      "[54/131] N:/dataorg-datasets/MLsatellite/sentinel2_images/images_danya/cloud_mask/L1C_T43SFR_A027744_20201014T053809/cloud_mask.shp \n",
      "[55/131] N:/dataorg-datasets/MLsatellite/sentinel2_images/images_danya/cloud_mask/L1C_T43SFR_A027887_20201024T054757/cloud_mask.shp \n",
      "[56/131] N:/dataorg-datasets/MLsatellite/sentinel2_images/images_danya/cloud_mask/L1C_T43SFR_A028030_20201103T054012/cloud_mask.shp \n",
      "[57/131] N:/dataorg-datasets/MLsatellite/sentinel2_images/images_danya/cloud_mask/L1C_T43SFR_A028130_20201110T053044/cloud_mask.shp \n",
      "[58/131] N:/dataorg-datasets/MLsatellite/sentinel2_images/images_danya/cloud_mask/L1C_T43SFR_A028173_20201113T054102/cloud_mask.shp \n",
      "[59/131] N:/dataorg-datasets/MLsatellite/sentinel2_images/images_danya/cloud_mask/L1C_T43SFR_A028273_20201120T053128/cloud_mask.shp \n",
      "[60/131] N:/dataorg-datasets/MLsatellite/sentinel2_images/images_danya/cloud_mask/L1C_T43SFR_A028316_20201123T054143/cloud_mask.shp \n",
      "[61/131] N:/dataorg-datasets/MLsatellite/sentinel2_images/images_danya/cloud_mask/L1C_T43SFR_A028459_20201203T054212/cloud_mask.shp \n",
      "[62/131] N:/dataorg-datasets/MLsatellite/sentinel2_images/images_danya/cloud_mask/L1C_T43SFR_A028559_20201210T053220/cloud_mask.shp \n",
      "[63/131] N:/dataorg-datasets/MLsatellite/sentinel2_images/images_danya/cloud_mask/L1C_T43SFR_A028602_20201213T054229/cloud_mask.shp \n",
      "[64/131] N:/dataorg-datasets/MLsatellite/sentinel2_images/images_danya/cloud_mask/L1C_T43SFR_A028702_20201220T053233/cloud_mask.shp \n",
      "[65/131] N:/dataorg-datasets/MLsatellite/sentinel2_images/images_danya/cloud_mask/L1C_T43SFR_A028745_20201223T054237/cloud_mask.shp \n",
      "[66/131] N:/dataorg-datasets/MLsatellite/sentinel2_images/images_danya/cloud_mask/L1C_T43SFR_A028845_20201230T053231/cloud_mask.shp \n",
      "[67/131] N:/dataorg-datasets/MLsatellite/sentinel2_images/images_danya/cloud_mask/L1C_T43SFR_A014760_20200103T054832/cloud_mask.shp \n",
      "[68/131] N:/dataorg-datasets/MLsatellite/sentinel2_images/images_danya/cloud_mask/L1C_T43SFR_A014860_20200110T053549/cloud_mask.shp \n",
      "[69/131] N:/dataorg-datasets/MLsatellite/sentinel2_images/images_danya/cloud_mask/L1C_T43SFR_A014903_20200113T054638/cloud_mask.shp \n",
      "[70/131] N:/dataorg-datasets/MLsatellite/sentinel2_images/images_danya/cloud_mask/L1C_T43SFR_A015003_20200120T053410/cloud_mask.shp \n",
      "[71/131] N:/dataorg-datasets/MLsatellite/sentinel2_images/images_danya/cloud_mask/L1C_T43SFR_A015046_20200123T054803/cloud_mask.shp \n",
      "[72/131] N:/dataorg-datasets/MLsatellite/sentinel2_images/images_danya/cloud_mask/L1C_T43SFR_A015189_20200202T054306/cloud_mask.shp \n",
      "[73/131] N:/dataorg-datasets/MLsatellite/sentinel2_images/images_danya/cloud_mask/L1C_T43SFR_A015289_20200209T052951/cloud_mask.shp \n",
      "[74/131] N:/dataorg-datasets/MLsatellite/sentinel2_images/images_danya/cloud_mask/L1C_T43SFR_A015332_20200212T054015/cloud_mask.shp \n",
      "[75/131] N:/dataorg-datasets/MLsatellite/sentinel2_images/images_danya/cloud_mask/L1C_T43SFR_A015432_20200219T053831/cloud_mask.shp \n",
      "[76/131] N:/dataorg-datasets/MLsatellite/sentinel2_images/images_danya/cloud_mask/L1C_T43SFR_A015475_20200222T054043/cloud_mask.shp \n",
      "[77/131] N:/dataorg-datasets/MLsatellite/sentinel2_images/images_danya/cloud_mask/L1C_T43SFR_A015618_20200303T054554/cloud_mask.shp \n",
      "[78/131] N:/dataorg-datasets/MLsatellite/sentinel2_images/images_danya/cloud_mask/L1C_T43SFR_A015718_20200310T053327/cloud_mask.shp \n",
      "[79/131] N:/dataorg-datasets/MLsatellite/sentinel2_images/images_danya/cloud_mask/L1C_T43SFR_A015761_20200313T054356/cloud_mask.shp \n",
      "[80/131] N:/dataorg-datasets/MLsatellite/sentinel2_images/images_danya/cloud_mask/L1C_T43SFR_A015861_20200320T053338/cloud_mask.shp \n",
      "[81/131] N:/dataorg-datasets/MLsatellite/sentinel2_images/images_danya/cloud_mask/L1C_T43SFR_A015904_20200323T054547/cloud_mask.shp \n",
      "[82/131] N:/dataorg-datasets/MLsatellite/sentinel2_images/images_danya/cloud_mask/L1C_T43SFR_A016004_20200330T053037/cloud_mask.shp \n",
      "[83/131] N:/dataorg-datasets/MLsatellite/sentinel2_images/images_danya/cloud_mask/L1C_T43SFR_A016047_20200402T054601/cloud_mask.shp \n",
      "[84/131] N:/dataorg-datasets/MLsatellite/sentinel2_images/images_danya/cloud_mask/L1C_T43SFR_A016147_20200409T053550/cloud_mask.shp \n",
      "[85/131] N:/dataorg-datasets/MLsatellite/sentinel2_images/images_danya/cloud_mask/L1C_T43SFR_A016190_20200412T054657/cloud_mask.shp \n",
      "[86/131] N:/dataorg-datasets/MLsatellite/sentinel2_images/images_danya/cloud_mask/L1C_T43SFR_A016290_20200419T053639/cloud_mask.shp \n",
      "[87/131] N:/dataorg-datasets/MLsatellite/sentinel2_images/images_danya/cloud_mask/L1C_T43SFR_A016333_20200422T053954/cloud_mask.shp \n",
      "[88/131] N:/dataorg-datasets/MLsatellite/sentinel2_images/images_danya/cloud_mask/L1C_T43SFR_A016433_20200429T053741/cloud_mask.shp \n",
      "[89/131] N:/dataorg-datasets/MLsatellite/sentinel2_images/images_danya/cloud_mask/L1C_T43SFR_A016476_20200502T054745/cloud_mask.shp \n",
      "[90/131] N:/dataorg-datasets/MLsatellite/sentinel2_images/images_danya/cloud_mask/L1C_T43SFR_A016576_20200509T053704/cloud_mask.shp \n",
      "[91/131] N:/dataorg-datasets/MLsatellite/sentinel2_images/images_danya/cloud_mask/L1C_T43SFR_A016619_20200512T054139/cloud_mask.shp \n",
      "[92/131] N:/dataorg-datasets/MLsatellite/sentinel2_images/images_danya/cloud_mask/L1C_T43SFR_A016762_20200522T054902/cloud_mask.shp \n",
      "[93/131] N:/dataorg-datasets/MLsatellite/sentinel2_images/images_danya/cloud_mask/L1C_T43SFR_A016862_20200529T053255/cloud_mask.shp \n",
      "[94/131] N:/dataorg-datasets/MLsatellite/sentinel2_images/images_danya/cloud_mask/L1C_T43SFR_A016905_20200601T054750/cloud_mask.shp \n",
      "[95/131] N:/dataorg-datasets/MLsatellite/sentinel2_images/images_danya/cloud_mask/L1C_T43SFR_A017048_20200611T054758/cloud_mask.shp \n",
      "[96/131] N:/dataorg-datasets/MLsatellite/sentinel2_images/images_danya/cloud_mask/L1C_T43SFR_A017148_20200618T053712/cloud_mask.shp \n",
      "[97/131] N:/dataorg-datasets/MLsatellite/sentinel2_images/images_danya/cloud_mask/L1C_T43SFR_A017191_20200621T053919/cloud_mask.shp \n",
      "[98/131] N:/dataorg-datasets/MLsatellite/sentinel2_images/images_danya/cloud_mask/L1C_T43SFR_A017291_20200628T053752/cloud_mask.shp \n",
      "[99/131] N:/dataorg-datasets/MLsatellite/sentinel2_images/images_danya/cloud_mask/L1C_T43SFR_A017334_20200701T054609/cloud_mask.shp \n",
      "[100/131] N:/dataorg-datasets/MLsatellite/sentinel2_images/images_danya/cloud_mask/L1C_T43SFR_A017434_20200708T053707/cloud_mask.shp \n",
      "[101/131] N:/dataorg-datasets/MLsatellite/sentinel2_images/images_danya/cloud_mask/L1C_T43SFR_A017477_20200711T054754/cloud_mask.shp \n",
      "[102/131] N:/dataorg-datasets/MLsatellite/sentinel2_images/images_danya/cloud_mask/L1C_T43SFR_A017577_20200718T053707/cloud_mask.shp \n",
      "[103/131] N:/dataorg-datasets/MLsatellite/sentinel2_images/images_danya/cloud_mask/L1C_T43SFR_A017620_20200721T054903/cloud_mask.shp \n",
      "[104/131] N:/dataorg-datasets/MLsatellite/sentinel2_images/images_danya/cloud_mask/L1C_T43SFR_A017720_20200728T053303/cloud_mask.shp \n",
      "[105/131] N:/dataorg-datasets/MLsatellite/sentinel2_images/images_danya/cloud_mask/L1C_T43SFR_A017863_20200807T053148/cloud_mask.shp \n",
      "[106/131] N:/dataorg-datasets/MLsatellite/sentinel2_images/images_danya/cloud_mask/L1C_T43SFR_A017906_20200810T054311/cloud_mask.shp \n",
      "[107/131] N:/dataorg-datasets/MLsatellite/sentinel2_images/images_danya/cloud_mask/L1C_T43SFR_A018006_20200817T053152/cloud_mask.shp \n",
      "[108/131] N:/dataorg-datasets/MLsatellite/sentinel2_images/images_danya/cloud_mask/L1C_T43SFR_A018049_20200820T054930/cloud_mask.shp \n",
      "[109/131] N:/dataorg-datasets/MLsatellite/sentinel2_images/images_danya/cloud_mask/L1C_T43SFR_A018292_20200906T053003/cloud_mask.shp \n",
      "[110/131] N:/dataorg-datasets/MLsatellite/sentinel2_images/images_danya/cloud_mask/L1C_T43SFR_A018335_20200909T054842/cloud_mask.shp \n",
      "[111/131] N:/dataorg-datasets/MLsatellite/sentinel2_images/images_danya/cloud_mask/L1C_T43SFR_A018435_20200916T052850/cloud_mask.shp \n",
      "[112/131] N:/dataorg-datasets/MLsatellite/sentinel2_images/images_danya/cloud_mask/L1C_T43SFR_A018478_20200919T054117/cloud_mask.shp \n",
      "[113/131] N:/dataorg-datasets/MLsatellite/sentinel2_images/images_danya/cloud_mask/L1C_T43SFR_A018621_20200929T053915/cloud_mask.shp \n",
      "[114/131] N:/dataorg-datasets/MLsatellite/sentinel2_images/images_danya/cloud_mask/L1C_T43SFR_A018721_20201006T052904/cloud_mask.shp \n",
      "[115/131] N:/dataorg-datasets/MLsatellite/sentinel2_images/images_danya/cloud_mask/L1C_T43SFR_A018764_20201009T054103/cloud_mask.shp \n",
      "[116/131] N:/dataorg-datasets/MLsatellite/sentinel2_images/images_danya/cloud_mask/L1C_T43SFR_A018864_20201016T053102/cloud_mask.shp \n",
      "[117/131] N:/dataorg-datasets/MLsatellite/sentinel2_images/images_danya/cloud_mask/L1C_T43SFR_A018907_20201019T054625/cloud_mask.shp \n",
      "[118/131] N:/dataorg-datasets/MLsatellite/sentinel2_images/images_danya/cloud_mask/L1C_T43SFR_A019007_20201026T053538/cloud_mask.shp \n",
      "[119/131] N:/dataorg-datasets/MLsatellite/sentinel2_images/images_danya/cloud_mask/L1C_T43SFR_A019050_20201029T054730/cloud_mask.shp \n",
      "[120/131] N:/dataorg-datasets/MLsatellite/sentinel2_images/images_danya/cloud_mask/L1C_T43SFR_A019150_20201105T053704/cloud_mask.shp \n",
      "[121/131] N:/dataorg-datasets/MLsatellite/sentinel2_images/images_danya/cloud_mask/L1C_T43SFR_A019193_20201108T054035/cloud_mask.shp \n",
      "[122/131] N:/dataorg-datasets/MLsatellite/sentinel2_images/images_danya/cloud_mask/L1C_T43SFR_A019193_20201108T055005/cloud_mask.shp \n",
      "[123/131] N:/dataorg-datasets/MLsatellite/sentinel2_images/images_danya/cloud_mask/L1C_T43SFR_A019293_20201115T053930/cloud_mask.shp \n",
      "[124/131] N:/dataorg-datasets/MLsatellite/sentinel2_images/images_danya/cloud_mask/L1C_T43SFR_A019436_20201125T053144/cloud_mask.shp \n",
      "[125/131] N:/dataorg-datasets/MLsatellite/sentinel2_images/images_danya/cloud_mask/L1C_T43SFR_A019479_20201128T054158/cloud_mask.shp \n",
      "[126/131] N:/dataorg-datasets/MLsatellite/sentinel2_images/images_danya/cloud_mask/L1C_T43SFR_A019579_20201205T053212/cloud_mask.shp \n",
      "[127/131] N:/dataorg-datasets/MLsatellite/sentinel2_images/images_danya/cloud_mask/L1C_T43SFR_A019622_20201208T054222/cloud_mask.shp \n",
      "[128/131] N:/dataorg-datasets/MLsatellite/sentinel2_images/images_danya/cloud_mask/L1C_T43SFR_A019722_20201215T053227/cloud_mask.shp \n",
      "[129/131] N:/dataorg-datasets/MLsatellite/sentinel2_images/images_danya/cloud_mask/L1C_T43SFR_A019765_20201218T054233/cloud_mask.shp \n",
      "[130/131] N:/dataorg-datasets/MLsatellite/sentinel2_images/images_danya/cloud_mask/L1C_T43SFR_A019865_20201225T053231/cloud_mask.shp \n",
      "[131/131] N:/dataorg-datasets/MLsatellite/sentinel2_images/images_danya/cloud_mask/L1C_T43SFR_A019908_20201228T054233/cloud_mask.shp \n",
      "  ok\n"
     ]
    }
   ],
   "source": [
    "convert_gml_to_shp(img_dir)"
   ]
  },
  {
   "cell_type": "code",
   "execution_count": 124,
   "id": "903cb913-52a4-45c0-9240-4ad2f91c1336",
   "metadata": {},
   "outputs": [],
   "source": [
    "filepath = img_dir + 'safe/S2B_MSIL1C_20201225T053229_N0209_R105_T43SFR_20201225T064223.SAFE/GRANULE/L1C_T43SFR_A019865_20201225T053231/IMG_DATA/T43SFR_20201225T053229_B02.jp2'\n",
    "with rasterio.open(filepath) as src:\n",
    "    b = src.read(1)"
   ]
  },
  {
   "cell_type": "code",
   "execution_count": 126,
   "id": "465b5fe5-48a1-4f85-9e3a-0a5903594567",
   "metadata": {},
   "outputs": [
    {
     "data": {
      "text/plain": [
       "array([[   0,    0,    0, ..., 8016, 7260, 7454],\n",
       "       [   0,    0,    0, ..., 8102, 7893, 7812],\n",
       "       [   0,    0,    0, ..., 7658, 7942, 7851],\n",
       "       ...,\n",
       "       [   0,    0,    0, ...,  644,  652,  661],\n",
       "       [   0,    0,    0, ...,  655,  666,  658],\n",
       "       [   0,    0,    0, ...,  652,  652,  674]], dtype=uint16)"
      ]
     },
     "execution_count": 126,
     "metadata": {},
     "output_type": "execute_result"
    }
   ],
   "source": [
    "b"
   ]
  },
  {
   "cell_type": "code",
   "execution_count": 128,
   "id": "780352ea-3071-47f4-acf5-029915580cdb",
   "metadata": {},
   "outputs": [],
   "source": [
    "c = gpd.read_file(img_dir + 'cloud_mask/L1C_T43SFR_A014860_20200110T053549/cloud_mask.shp')"
   ]
  },
  {
   "cell_type": "code",
   "execution_count": 132,
   "id": "e85c6427-cf64-4995-9cd5-cb1f2872e442",
   "metadata": {},
   "outputs": [
    {
     "data": {
      "text/html": [
       "<div>\n",
       "<style scoped>\n",
       "    .dataframe tbody tr th:only-of-type {\n",
       "        vertical-align: middle;\n",
       "    }\n",
       "\n",
       "    .dataframe tbody tr th {\n",
       "        vertical-align: top;\n",
       "    }\n",
       "\n",
       "    .dataframe thead th {\n",
       "        text-align: right;\n",
       "    }\n",
       "</style>\n",
       "<table border=\"1\" class=\"dataframe\">\n",
       "  <thead>\n",
       "    <tr style=\"text-align: right;\">\n",
       "      <th></th>\n",
       "      <th>gml_id</th>\n",
       "      <th>maskType</th>\n",
       "      <th>geometry</th>\n",
       "    </tr>\n",
       "  </thead>\n",
       "  <tbody>\n",
       "    <tr>\n",
       "      <th>0</th>\n",
       "      <td>OPAQUE.0</td>\n",
       "      <td>OPAQUE</td>\n",
       "      <td>POLYGON ((634260.000 3600000.000, 634560.000 3...</td>\n",
       "    </tr>\n",
       "    <tr>\n",
       "      <th>1</th>\n",
       "      <td>OPAQUE.1</td>\n",
       "      <td>OPAQUE</td>\n",
       "      <td>POLYGON ((639900.000 3600000.000, 640860.000 3...</td>\n",
       "    </tr>\n",
       "    <tr>\n",
       "      <th>2</th>\n",
       "      <td>OPAQUE.2</td>\n",
       "      <td>OPAQUE</td>\n",
       "      <td>POLYGON ((634920.000 3599580.000, 635100.000 3...</td>\n",
       "    </tr>\n",
       "    <tr>\n",
       "      <th>3</th>\n",
       "      <td>OPAQUE.3</td>\n",
       "      <td>OPAQUE</td>\n",
       "      <td>POLYGON ((636000.000 3599340.000, 636240.000 3...</td>\n",
       "    </tr>\n",
       "    <tr>\n",
       "      <th>4</th>\n",
       "      <td>OPAQUE.4</td>\n",
       "      <td>OPAQUE</td>\n",
       "      <td>POLYGON ((643320.000 3598740.000, 643500.000 3...</td>\n",
       "    </tr>\n",
       "    <tr>\n",
       "      <th>...</th>\n",
       "      <td>...</td>\n",
       "      <td>...</td>\n",
       "      <td>...</td>\n",
       "    </tr>\n",
       "    <tr>\n",
       "      <th>702</th>\n",
       "      <td>CIRRUS.411</td>\n",
       "      <td>CIRRUS</td>\n",
       "      <td>POLYGON ((670620.000 3490800.000, 670800.000 3...</td>\n",
       "    </tr>\n",
       "    <tr>\n",
       "      <th>703</th>\n",
       "      <td>CIRRUS.412</td>\n",
       "      <td>CIRRUS</td>\n",
       "      <td>POLYGON ((702960.000 3490740.000, 703140.000 3...</td>\n",
       "    </tr>\n",
       "    <tr>\n",
       "      <th>704</th>\n",
       "      <td>CIRRUS.413</td>\n",
       "      <td>CIRRUS</td>\n",
       "      <td>POLYGON ((672480.000 3493500.000, 672720.000 3...</td>\n",
       "    </tr>\n",
       "    <tr>\n",
       "      <th>705</th>\n",
       "      <td>CIRRUS.414</td>\n",
       "      <td>CIRRUS</td>\n",
       "      <td>POLYGON ((697380.000 3491100.000, 697560.000 3...</td>\n",
       "    </tr>\n",
       "    <tr>\n",
       "      <th>706</th>\n",
       "      <td>CIRRUS.415</td>\n",
       "      <td>CIRRUS</td>\n",
       "      <td>POLYGON ((698820.000 3490440.000, 699120.000 3...</td>\n",
       "    </tr>\n",
       "  </tbody>\n",
       "</table>\n",
       "<p>707 rows × 3 columns</p>\n",
       "</div>"
      ],
      "text/plain": [
       "         gml_id maskType                                           geometry\n",
       "0      OPAQUE.0   OPAQUE  POLYGON ((634260.000 3600000.000, 634560.000 3...\n",
       "1      OPAQUE.1   OPAQUE  POLYGON ((639900.000 3600000.000, 640860.000 3...\n",
       "2      OPAQUE.2   OPAQUE  POLYGON ((634920.000 3599580.000, 635100.000 3...\n",
       "3      OPAQUE.3   OPAQUE  POLYGON ((636000.000 3599340.000, 636240.000 3...\n",
       "4      OPAQUE.4   OPAQUE  POLYGON ((643320.000 3598740.000, 643500.000 3...\n",
       "..          ...      ...                                                ...\n",
       "702  CIRRUS.411   CIRRUS  POLYGON ((670620.000 3490800.000, 670800.000 3...\n",
       "703  CIRRUS.412   CIRRUS  POLYGON ((702960.000 3490740.000, 703140.000 3...\n",
       "704  CIRRUS.413   CIRRUS  POLYGON ((672480.000 3493500.000, 672720.000 3...\n",
       "705  CIRRUS.414   CIRRUS  POLYGON ((697380.000 3491100.000, 697560.000 3...\n",
       "706  CIRRUS.415   CIRRUS  POLYGON ((698820.000 3490440.000, 699120.000 3...\n",
       "\n",
       "[707 rows x 3 columns]"
      ]
     },
     "execution_count": 132,
     "metadata": {},
     "output_type": "execute_result"
    }
   ],
   "source": [
    "c"
   ]
  },
  {
   "cell_type": "code",
   "execution_count": 135,
   "id": "3389c96e-7d01-40c6-84c1-c3928b70db81",
   "metadata": {},
   "outputs": [],
   "source": [
    "cloud_legend = {'OPAQUE': 1, 'CIRRUS': 2}"
   ]
  },
  {
   "cell_type": "code",
   "execution_count": 137,
   "id": "75f94c8a-0ba7-4616-a3a6-37c0d8239240",
   "metadata": {},
   "outputs": [],
   "source": [
    "import shapely"
   ]
  },
  {
   "cell_type": "code",
   "execution_count": 138,
   "id": "e309e5f2-494f-49b4-b5c5-3c0276b77a40",
   "metadata": {},
   "outputs": [],
   "source": [
    "shapes = iter([(shapely.geometry.mapping(poly), cloud_legend[v]) for poly, v in zip(c.geometry, c.maskType)])\n",
    "cloud_img = rasterio.features.rasterize(shapes, out_shape=(meta['height'], meta['width']),\n",
    "                                       transform=meta['transform'])"
   ]
  },
  {
   "cell_type": "code",
   "execution_count": 140,
   "id": "b3d9e662-1878-4432-8c3b-e06d8ec65e21",
   "metadata": {},
   "outputs": [
    {
     "data": {
      "text/plain": [
       "(2357, 1892)"
      ]
     },
     "execution_count": 140,
     "metadata": {},
     "output_type": "execute_result"
    }
   ],
   "source": [
    "cloud_img.shape"
   ]
  },
  {
   "cell_type": "code",
   "execution_count": 141,
   "id": "398bd9fc-3abf-401d-b4cc-a2ddaece9e76",
   "metadata": {},
   "outputs": [
    {
     "data": {
      "text/plain": [
       "array([0], dtype=uint8)"
      ]
     },
     "execution_count": 141,
     "metadata": {},
     "output_type": "execute_result"
    }
   ],
   "source": [
    "np.unique(cloud_img)"
   ]
  },
  {
   "cell_type": "code",
   "execution_count": 144,
   "id": "1fdc7a68-001a-4615-8ca5-91e6d97053c3",
   "metadata": {},
   "outputs": [
    {
     "data": {
      "text/plain": [
       "'L2A_T43SFR_A014760_20200103T054832'"
      ]
     },
     "execution_count": 144,
     "metadata": {},
     "output_type": "execute_result"
    }
   ],
   "source": [
    "'L2A'+'L1C_T43SFR_A014760_20200103T054832'.lstrip('L1C')"
   ]
  },
  {
   "cell_type": "code",
   "execution_count": 159,
   "id": "ee37ced5-e43d-4076-a0a5-c4357c7d837d",
   "metadata": {},
   "outputs": [],
   "source": [
    "a = gpd.GeoDataFrame([{'gml_id': 'CLOUDLESS.0', 'maskType': 'CLOUDLESS', 'geometry': shapely.geometry.Polygon()}])"
   ]
  },
  {
   "cell_type": "code",
   "execution_count": 160,
   "id": "23825d3d-2e20-43b5-845a-b368f3ca36b7",
   "metadata": {},
   "outputs": [
    {
     "data": {
      "text/html": [
       "<div>\n",
       "<style scoped>\n",
       "    .dataframe tbody tr th:only-of-type {\n",
       "        vertical-align: middle;\n",
       "    }\n",
       "\n",
       "    .dataframe tbody tr th {\n",
       "        vertical-align: top;\n",
       "    }\n",
       "\n",
       "    .dataframe thead th {\n",
       "        text-align: right;\n",
       "    }\n",
       "</style>\n",
       "<table border=\"1\" class=\"dataframe\">\n",
       "  <thead>\n",
       "    <tr style=\"text-align: right;\">\n",
       "      <th></th>\n",
       "      <th>gml_id</th>\n",
       "      <th>maskType</th>\n",
       "      <th>geometry</th>\n",
       "    </tr>\n",
       "  </thead>\n",
       "  <tbody>\n",
       "    <tr>\n",
       "      <th>0</th>\n",
       "      <td>CLOUDLESS.0</td>\n",
       "      <td>CLOUDLESS</td>\n",
       "      <td>GEOMETRYCOLLECTION EMPTY</td>\n",
       "    </tr>\n",
       "  </tbody>\n",
       "</table>\n",
       "</div>"
      ],
      "text/plain": [
       "        gml_id   maskType                  geometry\n",
       "0  CLOUDLESS.0  CLOUDLESS  GEOMETRYCOLLECTION EMPTY"
      ]
     },
     "execution_count": 160,
     "metadata": {},
     "output_type": "execute_result"
    }
   ],
   "source": [
    "a"
   ]
  },
  {
   "cell_type": "code",
   "execution_count": 161,
   "id": "24dd8d31-573a-415a-8544-32494dd258a6",
   "metadata": {},
   "outputs": [
    {
     "ename": "DriverIOError",
     "evalue": "Geometry type of 'Geometry Collection' not supported in shapefiles.  Type can be overridden with a layer creation option of SHPT=POINT/ARC/POLYGON/MULTIPOINT/POINTZ/ARCZ/POLYGONZ/MULTIPOINTZ/MULTIPATCH.",
     "output_type": "error",
     "traceback": [
      "\u001b[1;31m---------------------------------------------------------------------------\u001b[0m",
      "\u001b[1;31mCPLE_NotSupportedError\u001b[0m                    Traceback (most recent call last)",
      "\u001b[1;32mfiona\\ogrext.pyx\u001b[0m in \u001b[0;36mfiona.ogrext.WritingSession.start\u001b[1;34m()\u001b[0m\n",
      "\u001b[1;32mfiona\\_err.pyx\u001b[0m in \u001b[0;36mfiona._err.exc_wrap_pointer\u001b[1;34m()\u001b[0m\n",
      "\u001b[1;31mCPLE_NotSupportedError\u001b[0m: Geometry type of 'Geometry Collection' not supported in shapefiles.  Type can be overridden with a layer creation option of SHPT=POINT/ARC/POLYGON/MULTIPOINT/POINTZ/ARCZ/POLYGONZ/MULTIPOINTZ/MULTIPATCH.",
      "\nDuring handling of the above exception, another exception occurred:\n",
      "\u001b[1;31mDriverIOError\u001b[0m                             Traceback (most recent call last)",
      "\u001b[1;32m~\\AppData\\Local\\Temp/ipykernel_17832/2881305051.py\u001b[0m in \u001b[0;36m<module>\u001b[1;34m\u001b[0m\n\u001b[1;32m----> 1\u001b[1;33m \u001b[0ma\u001b[0m\u001b[1;33m.\u001b[0m\u001b[0mto_file\u001b[0m\u001b[1;33m(\u001b[0m\u001b[1;34m'out.shp'\u001b[0m\u001b[1;33m,\u001b[0m \u001b[0mdriver\u001b[0m\u001b[1;33m=\u001b[0m\u001b[1;34m'ESRI Shapefile'\u001b[0m\u001b[1;33m)\u001b[0m\u001b[1;33m\u001b[0m\u001b[1;33m\u001b[0m\u001b[0m\n\u001b[0m",
      "\u001b[1;32m~\\Anaconda3\\envs\\ch\\lib\\site-packages\\geopandas\\geodataframe.py\u001b[0m in \u001b[0;36mto_file\u001b[1;34m(self, filename, driver, schema, index, **kwargs)\u001b[0m\n\u001b[0;32m   1084\u001b[0m         \u001b[1;32mfrom\u001b[0m \u001b[0mgeopandas\u001b[0m\u001b[1;33m.\u001b[0m\u001b[0mio\u001b[0m\u001b[1;33m.\u001b[0m\u001b[0mfile\u001b[0m \u001b[1;32mimport\u001b[0m \u001b[0m_to_file\u001b[0m\u001b[1;33m\u001b[0m\u001b[1;33m\u001b[0m\u001b[0m\n\u001b[0;32m   1085\u001b[0m \u001b[1;33m\u001b[0m\u001b[0m\n\u001b[1;32m-> 1086\u001b[1;33m         \u001b[0m_to_file\u001b[0m\u001b[1;33m(\u001b[0m\u001b[0mself\u001b[0m\u001b[1;33m,\u001b[0m \u001b[0mfilename\u001b[0m\u001b[1;33m,\u001b[0m \u001b[0mdriver\u001b[0m\u001b[1;33m,\u001b[0m \u001b[0mschema\u001b[0m\u001b[1;33m,\u001b[0m \u001b[0mindex\u001b[0m\u001b[1;33m,\u001b[0m \u001b[1;33m**\u001b[0m\u001b[0mkwargs\u001b[0m\u001b[1;33m)\u001b[0m\u001b[1;33m\u001b[0m\u001b[1;33m\u001b[0m\u001b[0m\n\u001b[0m\u001b[0;32m   1087\u001b[0m \u001b[1;33m\u001b[0m\u001b[0m\n\u001b[0;32m   1088\u001b[0m     \u001b[1;32mdef\u001b[0m \u001b[0mset_crs\u001b[0m\u001b[1;33m(\u001b[0m\u001b[0mself\u001b[0m\u001b[1;33m,\u001b[0m \u001b[0mcrs\u001b[0m\u001b[1;33m=\u001b[0m\u001b[1;32mNone\u001b[0m\u001b[1;33m,\u001b[0m \u001b[0mepsg\u001b[0m\u001b[1;33m=\u001b[0m\u001b[1;32mNone\u001b[0m\u001b[1;33m,\u001b[0m \u001b[0minplace\u001b[0m\u001b[1;33m=\u001b[0m\u001b[1;32mFalse\u001b[0m\u001b[1;33m,\u001b[0m \u001b[0mallow_override\u001b[0m\u001b[1;33m=\u001b[0m\u001b[1;32mFalse\u001b[0m\u001b[1;33m)\u001b[0m\u001b[1;33m:\u001b[0m\u001b[1;33m\u001b[0m\u001b[1;33m\u001b[0m\u001b[0m\n",
      "\u001b[1;32m~\\Anaconda3\\envs\\ch\\lib\\site-packages\\geopandas\\io\\file.py\u001b[0m in \u001b[0;36m_to_file\u001b[1;34m(df, filename, driver, schema, index, mode, crs, **kwargs)\u001b[0m\n\u001b[0;32m    325\u001b[0m         \u001b[1;32melif\u001b[0m \u001b[0mcrs\u001b[0m\u001b[1;33m:\u001b[0m\u001b[1;33m\u001b[0m\u001b[1;33m\u001b[0m\u001b[0m\n\u001b[0;32m    326\u001b[0m             \u001b[0mcrs_wkt\u001b[0m \u001b[1;33m=\u001b[0m \u001b[0mcrs\u001b[0m\u001b[1;33m.\u001b[0m\u001b[0mto_wkt\u001b[0m\u001b[1;33m(\u001b[0m\u001b[1;34m\"WKT1_GDAL\"\u001b[0m\u001b[1;33m)\u001b[0m\u001b[1;33m\u001b[0m\u001b[1;33m\u001b[0m\u001b[0m\n\u001b[1;32m--> 327\u001b[1;33m         with fiona.open(\n\u001b[0m\u001b[0;32m    328\u001b[0m             \u001b[0mfilename\u001b[0m\u001b[1;33m,\u001b[0m \u001b[0mmode\u001b[0m\u001b[1;33m=\u001b[0m\u001b[0mmode\u001b[0m\u001b[1;33m,\u001b[0m \u001b[0mdriver\u001b[0m\u001b[1;33m=\u001b[0m\u001b[0mdriver\u001b[0m\u001b[1;33m,\u001b[0m \u001b[0mcrs_wkt\u001b[0m\u001b[1;33m=\u001b[0m\u001b[0mcrs_wkt\u001b[0m\u001b[1;33m,\u001b[0m \u001b[0mschema\u001b[0m\u001b[1;33m=\u001b[0m\u001b[0mschema\u001b[0m\u001b[1;33m,\u001b[0m \u001b[1;33m**\u001b[0m\u001b[0mkwargs\u001b[0m\u001b[1;33m\u001b[0m\u001b[1;33m\u001b[0m\u001b[0m\n\u001b[0;32m    329\u001b[0m         ) as colxn:\n",
      "\u001b[1;32m~\\Anaconda3\\envs\\ch\\lib\\site-packages\\fiona\\env.py\u001b[0m in \u001b[0;36mwrapper\u001b[1;34m(*args, **kwargs)\u001b[0m\n\u001b[0;32m    406\u001b[0m     \u001b[1;32mdef\u001b[0m \u001b[0mwrapper\u001b[0m\u001b[1;33m(\u001b[0m\u001b[1;33m*\u001b[0m\u001b[0margs\u001b[0m\u001b[1;33m,\u001b[0m \u001b[1;33m**\u001b[0m\u001b[0mkwargs\u001b[0m\u001b[1;33m)\u001b[0m\u001b[1;33m:\u001b[0m\u001b[1;33m\u001b[0m\u001b[1;33m\u001b[0m\u001b[0m\n\u001b[0;32m    407\u001b[0m         \u001b[1;32mif\u001b[0m \u001b[0mlocal\u001b[0m\u001b[1;33m.\u001b[0m\u001b[0m_env\u001b[0m\u001b[1;33m:\u001b[0m\u001b[1;33m\u001b[0m\u001b[1;33m\u001b[0m\u001b[0m\n\u001b[1;32m--> 408\u001b[1;33m             \u001b[1;32mreturn\u001b[0m \u001b[0mf\u001b[0m\u001b[1;33m(\u001b[0m\u001b[1;33m*\u001b[0m\u001b[0margs\u001b[0m\u001b[1;33m,\u001b[0m \u001b[1;33m**\u001b[0m\u001b[0mkwargs\u001b[0m\u001b[1;33m)\u001b[0m\u001b[1;33m\u001b[0m\u001b[1;33m\u001b[0m\u001b[0m\n\u001b[0m\u001b[0;32m    409\u001b[0m         \u001b[1;32melse\u001b[0m\u001b[1;33m:\u001b[0m\u001b[1;33m\u001b[0m\u001b[1;33m\u001b[0m\u001b[0m\n\u001b[0;32m    410\u001b[0m             \u001b[1;32mif\u001b[0m \u001b[0misinstance\u001b[0m\u001b[1;33m(\u001b[0m\u001b[0margs\u001b[0m\u001b[1;33m[\u001b[0m\u001b[1;36m0\u001b[0m\u001b[1;33m]\u001b[0m\u001b[1;33m,\u001b[0m \u001b[0mstr\u001b[0m\u001b[1;33m)\u001b[0m\u001b[1;33m:\u001b[0m\u001b[1;33m\u001b[0m\u001b[1;33m\u001b[0m\u001b[0m\n",
      "\u001b[1;32m~\\Anaconda3\\envs\\ch\\lib\\site-packages\\fiona\\__init__.py\u001b[0m in \u001b[0;36mopen\u001b[1;34m(fp, mode, driver, schema, crs, encoding, layer, vfs, enabled_drivers, crs_wkt, **kwargs)\u001b[0m\n\u001b[0;32m    273\u001b[0m             \u001b[1;32melse\u001b[0m\u001b[1;33m:\u001b[0m\u001b[1;33m\u001b[0m\u001b[1;33m\u001b[0m\u001b[0m\n\u001b[0;32m    274\u001b[0m                 \u001b[0mthis_schema\u001b[0m \u001b[1;33m=\u001b[0m \u001b[1;32mNone\u001b[0m\u001b[1;33m\u001b[0m\u001b[1;33m\u001b[0m\u001b[0m\n\u001b[1;32m--> 275\u001b[1;33m             c = Collection(path, mode, crs=crs, driver=driver, schema=this_schema,\n\u001b[0m\u001b[0;32m    276\u001b[0m                            \u001b[0mencoding\u001b[0m\u001b[1;33m=\u001b[0m\u001b[0mencoding\u001b[0m\u001b[1;33m,\u001b[0m \u001b[0mlayer\u001b[0m\u001b[1;33m=\u001b[0m\u001b[0mlayer\u001b[0m\u001b[1;33m,\u001b[0m \u001b[0menabled_drivers\u001b[0m\u001b[1;33m=\u001b[0m\u001b[0menabled_drivers\u001b[0m\u001b[1;33m,\u001b[0m \u001b[0mcrs_wkt\u001b[0m\u001b[1;33m=\u001b[0m\u001b[0mcrs_wkt\u001b[0m\u001b[1;33m,\u001b[0m\u001b[1;33m\u001b[0m\u001b[1;33m\u001b[0m\u001b[0m\n\u001b[0;32m    277\u001b[0m                            **kwargs)\n",
      "\u001b[1;32m~\\Anaconda3\\envs\\ch\\lib\\site-packages\\fiona\\collection.py\u001b[0m in \u001b[0;36m__init__\u001b[1;34m(self, path, mode, driver, schema, crs, encoding, layer, vsi, archive, enabled_drivers, crs_wkt, ignore_fields, ignore_geometry, **kwargs)\u001b[0m\n\u001b[0;32m    163\u001b[0m             \u001b[1;32melif\u001b[0m \u001b[0mself\u001b[0m\u001b[1;33m.\u001b[0m\u001b[0mmode\u001b[0m \u001b[1;32min\u001b[0m \u001b[1;33m(\u001b[0m\u001b[1;34m'a'\u001b[0m\u001b[1;33m,\u001b[0m \u001b[1;34m'w'\u001b[0m\u001b[1;33m)\u001b[0m\u001b[1;33m:\u001b[0m\u001b[1;33m\u001b[0m\u001b[1;33m\u001b[0m\u001b[0m\n\u001b[0;32m    164\u001b[0m                 \u001b[0mself\u001b[0m\u001b[1;33m.\u001b[0m\u001b[0msession\u001b[0m \u001b[1;33m=\u001b[0m \u001b[0mWritingSession\u001b[0m\u001b[1;33m(\u001b[0m\u001b[1;33m)\u001b[0m\u001b[1;33m\u001b[0m\u001b[1;33m\u001b[0m\u001b[0m\n\u001b[1;32m--> 165\u001b[1;33m                 \u001b[0mself\u001b[0m\u001b[1;33m.\u001b[0m\u001b[0msession\u001b[0m\u001b[1;33m.\u001b[0m\u001b[0mstart\u001b[0m\u001b[1;33m(\u001b[0m\u001b[0mself\u001b[0m\u001b[1;33m,\u001b[0m \u001b[1;33m**\u001b[0m\u001b[0mkwargs\u001b[0m\u001b[1;33m)\u001b[0m\u001b[1;33m\u001b[0m\u001b[1;33m\u001b[0m\u001b[0m\n\u001b[0m\u001b[0;32m    166\u001b[0m         \u001b[1;32mexcept\u001b[0m \u001b[0mIOError\u001b[0m\u001b[1;33m:\u001b[0m\u001b[1;33m\u001b[0m\u001b[1;33m\u001b[0m\u001b[0m\n\u001b[0;32m    167\u001b[0m             \u001b[0mself\u001b[0m\u001b[1;33m.\u001b[0m\u001b[0msession\u001b[0m \u001b[1;33m=\u001b[0m \u001b[1;32mNone\u001b[0m\u001b[1;33m\u001b[0m\u001b[1;33m\u001b[0m\u001b[0m\n",
      "\u001b[1;32mfiona\\ogrext.pyx\u001b[0m in \u001b[0;36mfiona.ogrext.WritingSession.start\u001b[1;34m()\u001b[0m\n",
      "\u001b[1;31mDriverIOError\u001b[0m: Geometry type of 'Geometry Collection' not supported in shapefiles.  Type can be overridden with a layer creation option of SHPT=POINT/ARC/POLYGON/MULTIPOINT/POINTZ/ARCZ/POLYGONZ/MULTIPOINTZ/MULTIPATCH."
     ]
    }
   ],
   "source": [
    "a.to_file('out.shp', driver='ESRI Shapefile')"
   ]
  },
  {
   "cell_type": "code",
   "execution_count": 190,
   "id": "afe73888-2d4e-4d48-81ec-bbb6fd2ece9d",
   "metadata": {},
   "outputs": [],
   "source": [
    "eg_band, eg_meta = load_geotiff(img_dir + 'geotiff/L2A_T43SFR_A023697_20200105T053922.tiff')"
   ]
  },
  {
   "cell_type": "code",
   "execution_count": 191,
   "id": "78e20a96-9336-45be-a28e-1bba6b4cbf5d",
   "metadata": {},
   "outputs": [
    {
     "data": {
      "text/plain": [
       "{'driver': 'JP2OpenJPEG',\n",
       " 'dtype': 'uint16',\n",
       " 'nodata': None,\n",
       " 'width': 10980,\n",
       " 'height': 10980,\n",
       " 'count': 5,\n",
       " 'crs': None,\n",
       " 'transform': Affine(10.0, 0.0, 600000.0,\n",
       "        0.0, -10.0, 3600000.0)}"
      ]
     },
     "execution_count": 191,
     "metadata": {},
     "output_type": "execute_result"
    }
   ],
   "source": [
    "eg_meta"
   ]
  },
  {
   "cell_type": "code",
   "execution_count": 192,
   "id": "5ec0e343-dfad-4f64-bf4c-b4932bf2d61f",
   "metadata": {},
   "outputs": [
    {
     "data": {
      "text/plain": [
       "array([0.00000000e+00, 1.52590219e-05, 3.05180438e-05, 4.57770657e-05,\n",
       "       6.10360876e-05, 7.62951095e-05, 9.15541314e-05])"
      ]
     },
     "execution_count": 192,
     "metadata": {},
     "output_type": "execute_result"
    }
   ],
   "source": [
    "np.unique(eg_band[-1])"
   ]
  },
  {
   "cell_type": "code",
   "execution_count": 171,
   "id": "3102af8d-2e74-43ba-ad2d-909ad75c3958",
   "metadata": {},
   "outputs": [
    {
     "data": {
      "text/plain": [
       "array([[0.00000000e+00, 0.00000000e+00, 0.00000000e+00, ...,\n",
       "        1.52590219e-05, 1.52590219e-05, 1.52590219e-05],\n",
       "       [0.00000000e+00, 0.00000000e+00, 0.00000000e+00, ...,\n",
       "        1.52590219e-05, 1.52590219e-05, 1.52590219e-05],\n",
       "       [0.00000000e+00, 0.00000000e+00, 0.00000000e+00, ...,\n",
       "        1.52590219e-05, 1.52590219e-05, 1.52590219e-05],\n",
       "       ...,\n",
       "       [0.00000000e+00, 0.00000000e+00, 0.00000000e+00, ...,\n",
       "        0.00000000e+00, 0.00000000e+00, 0.00000000e+00],\n",
       "       [0.00000000e+00, 0.00000000e+00, 0.00000000e+00, ...,\n",
       "        0.00000000e+00, 0.00000000e+00, 0.00000000e+00],\n",
       "       [0.00000000e+00, 0.00000000e+00, 0.00000000e+00, ...,\n",
       "        0.00000000e+00, 0.00000000e+00, 0.00000000e+00]])"
      ]
     },
     "execution_count": 171,
     "metadata": {},
     "output_type": "execute_result"
    }
   ],
   "source": [
    "eg_band[-1]"
   ]
  },
  {
   "cell_type": "code",
   "execution_count": 197,
   "id": "19956656-b103-4d7f-9a85-f602387033f8",
   "metadata": {},
   "outputs": [],
   "source": [
    "with rasterio.open(img_dir + 'geotiff/L2A_T43SFR_A023697_20200105T053922.tiff') as src:\n",
    "    arr1 = src.read(1)\n",
    "    arr5 = src.read(5)"
   ]
  },
  {
   "cell_type": "code",
   "execution_count": 198,
   "id": "3f1fa8a2-26bc-41ea-be77-54f3d3d0a4a1",
   "metadata": {},
   "outputs": [
    {
     "data": {
      "text/plain": [
       "19410"
      ]
     },
     "execution_count": 198,
     "metadata": {},
     "output_type": "execute_result"
    }
   ],
   "source": [
    "arr1.max()"
   ]
  },
  {
   "cell_type": "code",
   "execution_count": 238,
   "id": "0c2d7dc2-167d-4a06-ad42-5174c929ba33",
   "metadata": {},
   "outputs": [
    {
     "data": {
      "text/plain": [
       "dtype('uint16')"
      ]
     },
     "execution_count": 238,
     "metadata": {},
     "output_type": "execute_result"
    }
   ],
   "source": [
    "arr1.dtype"
   ]
  },
  {
   "cell_type": "code",
   "execution_count": 199,
   "id": "41f5b08f-d498-4dec-b78e-5f161eb5a0b0",
   "metadata": {},
   "outputs": [
    {
     "data": {
      "text/plain": [
       "array([[    0,     0,     0, ..., 15869, 16183, 16400],\n",
       "       [    0,     0,     0, ..., 15281, 15990, 16505],\n",
       "       [    0,     0,     0, ..., 14484, 15405, 16114],\n",
       "       [    0,     0,     0, ..., 13933, 14675, 15298],\n",
       "       [    0,     0,     0, ..., 13614, 14104, 14708]], dtype=uint16)"
      ]
     },
     "execution_count": 199,
     "metadata": {},
     "output_type": "execute_result"
    }
   ],
   "source": [
    "arr1[:5]"
   ]
  },
  {
   "cell_type": "code",
   "execution_count": 200,
   "id": "99215b80-c8e4-4421-ba6b-4225b95cf469",
   "metadata": {},
   "outputs": [
    {
     "data": {
      "text/plain": [
       "array([[0, 0, 0, ..., 1, 1, 1],\n",
       "       [0, 0, 0, ..., 1, 1, 1],\n",
       "       [0, 0, 0, ..., 1, 1, 1],\n",
       "       [0, 0, 0, ..., 1, 1, 1],\n",
       "       [0, 0, 0, ..., 1, 1, 1]], dtype=uint16)"
      ]
     },
     "execution_count": 200,
     "metadata": {},
     "output_type": "execute_result"
    }
   ],
   "source": [
    "arr5[:5]"
   ]
  },
  {
   "cell_type": "code",
   "execution_count": 27,
   "id": "a8be022e-f54d-4f6e-8865-d1a00cec2ab6",
   "metadata": {},
   "outputs": [],
   "source": [
    "def count(arr):\n",
    "    for v in np.unique(arr):\n",
    "        print(f'v={v}, count={(arr == v).sum()}')"
   ]
  },
  {
   "cell_type": "code",
   "execution_count": 2,
   "id": "25152ecb-aff4-49ca-bc82-bbf07c36d14f",
   "metadata": {},
   "outputs": [],
   "source": [
    "def load_geotiff_int(path, window=None):\n",
    "    \"\"\" Load the geotiff as a list of numpy array.\n",
    "        INPUT : path (str) -> the path to the geotiff\n",
    "                window (rasterio.windows.Window) -> the window to use when loading the image\n",
    "        OUTPUT : band (list of numpy array) -> the different bands as float scaled to 0:1\n",
    "                 meta (dictionary) -> the metadata associated with the geotiff\n",
    "    \"\"\"\n",
    "    with rasterio.open(path) as f:\n",
    "        band = [skimage.img_as_uint(f.read(i + 1, window=window)) for i in range(f.count)]\n",
    "        meta = f.meta\n",
    "        if window is not None:\n",
    "            meta['height'] = window.height\n",
    "            meta['width'] = window.width\n",
    "            meta['transform'] = f.window_transform(window)\n",
    "    return band, meta"
   ]
  },
  {
   "cell_type": "code",
   "execution_count": 35,
   "id": "2015d352-f0f8-4258-817c-ae9682140d7d",
   "metadata": {},
   "outputs": [
    {
     "ename": "KeyboardInterrupt",
     "evalue": "",
     "output_type": "error",
     "traceback": [
      "\u001b[1;31m---------------------------------------------------------------------------\u001b[0m",
      "\u001b[1;31mKeyboardInterrupt\u001b[0m                         Traceback (most recent call last)",
      "\u001b[1;32m~\\AppData\\Local\\Temp/ipykernel_12432/1772905605.py\u001b[0m in \u001b[0;36m<module>\u001b[1;34m\u001b[0m\n\u001b[1;32m----> 1\u001b[1;33m \u001b[0meg_band_int\u001b[0m\u001b[1;33m,\u001b[0m \u001b[0meg_meta_int\u001b[0m \u001b[1;33m=\u001b[0m \u001b[0mload_geotiff_int\u001b[0m\u001b[1;33m(\u001b[0m\u001b[0mimg_dir\u001b[0m \u001b[1;33m+\u001b[0m \u001b[1;34m'geotiff/L2A_T43SFR_A023697_20200105T053922.tiff'\u001b[0m\u001b[1;33m)\u001b[0m\u001b[1;33m\u001b[0m\u001b[1;33m\u001b[0m\u001b[0m\n\u001b[0m",
      "\u001b[1;32m~\\AppData\\Local\\Temp/ipykernel_12432/3667067329.py\u001b[0m in \u001b[0;36mload_geotiff_int\u001b[1;34m(path, window)\u001b[0m\n\u001b[0;32m      7\u001b[0m     \"\"\"\n\u001b[0;32m      8\u001b[0m     \u001b[1;32mwith\u001b[0m \u001b[0mrasterio\u001b[0m\u001b[1;33m.\u001b[0m\u001b[0mopen\u001b[0m\u001b[1;33m(\u001b[0m\u001b[0mpath\u001b[0m\u001b[1;33m)\u001b[0m \u001b[1;32mas\u001b[0m \u001b[0mf\u001b[0m\u001b[1;33m:\u001b[0m\u001b[1;33m\u001b[0m\u001b[1;33m\u001b[0m\u001b[0m\n\u001b[1;32m----> 9\u001b[1;33m         \u001b[0mband\u001b[0m \u001b[1;33m=\u001b[0m \u001b[1;33m[\u001b[0m\u001b[0mskimage\u001b[0m\u001b[1;33m.\u001b[0m\u001b[0mimg_as_uint\u001b[0m\u001b[1;33m(\u001b[0m\u001b[0mf\u001b[0m\u001b[1;33m.\u001b[0m\u001b[0mread\u001b[0m\u001b[1;33m(\u001b[0m\u001b[0mi\u001b[0m \u001b[1;33m+\u001b[0m \u001b[1;36m1\u001b[0m\u001b[1;33m,\u001b[0m \u001b[0mwindow\u001b[0m\u001b[1;33m=\u001b[0m\u001b[0mwindow\u001b[0m\u001b[1;33m)\u001b[0m\u001b[1;33m)\u001b[0m \u001b[1;32mfor\u001b[0m \u001b[0mi\u001b[0m \u001b[1;32min\u001b[0m \u001b[0mrange\u001b[0m\u001b[1;33m(\u001b[0m\u001b[0mf\u001b[0m\u001b[1;33m.\u001b[0m\u001b[0mcount\u001b[0m\u001b[1;33m)\u001b[0m\u001b[1;33m]\u001b[0m\u001b[1;33m\u001b[0m\u001b[1;33m\u001b[0m\u001b[0m\n\u001b[0m\u001b[0;32m     10\u001b[0m         \u001b[0mmeta\u001b[0m \u001b[1;33m=\u001b[0m \u001b[0mf\u001b[0m\u001b[1;33m.\u001b[0m\u001b[0mmeta\u001b[0m\u001b[1;33m\u001b[0m\u001b[1;33m\u001b[0m\u001b[0m\n\u001b[0;32m     11\u001b[0m         \u001b[1;32mif\u001b[0m \u001b[0mwindow\u001b[0m \u001b[1;32mis\u001b[0m \u001b[1;32mnot\u001b[0m \u001b[1;32mNone\u001b[0m\u001b[1;33m:\u001b[0m\u001b[1;33m\u001b[0m\u001b[1;33m\u001b[0m\u001b[0m\n",
      "\u001b[1;32m~\\AppData\\Local\\Temp/ipykernel_12432/3667067329.py\u001b[0m in \u001b[0;36m<listcomp>\u001b[1;34m(.0)\u001b[0m\n\u001b[0;32m      7\u001b[0m     \"\"\"\n\u001b[0;32m      8\u001b[0m     \u001b[1;32mwith\u001b[0m \u001b[0mrasterio\u001b[0m\u001b[1;33m.\u001b[0m\u001b[0mopen\u001b[0m\u001b[1;33m(\u001b[0m\u001b[0mpath\u001b[0m\u001b[1;33m)\u001b[0m \u001b[1;32mas\u001b[0m \u001b[0mf\u001b[0m\u001b[1;33m:\u001b[0m\u001b[1;33m\u001b[0m\u001b[1;33m\u001b[0m\u001b[0m\n\u001b[1;32m----> 9\u001b[1;33m         \u001b[0mband\u001b[0m \u001b[1;33m=\u001b[0m \u001b[1;33m[\u001b[0m\u001b[0mskimage\u001b[0m\u001b[1;33m.\u001b[0m\u001b[0mimg_as_uint\u001b[0m\u001b[1;33m(\u001b[0m\u001b[0mf\u001b[0m\u001b[1;33m.\u001b[0m\u001b[0mread\u001b[0m\u001b[1;33m(\u001b[0m\u001b[0mi\u001b[0m \u001b[1;33m+\u001b[0m \u001b[1;36m1\u001b[0m\u001b[1;33m,\u001b[0m \u001b[0mwindow\u001b[0m\u001b[1;33m=\u001b[0m\u001b[0mwindow\u001b[0m\u001b[1;33m)\u001b[0m\u001b[1;33m)\u001b[0m \u001b[1;32mfor\u001b[0m \u001b[0mi\u001b[0m \u001b[1;32min\u001b[0m \u001b[0mrange\u001b[0m\u001b[1;33m(\u001b[0m\u001b[0mf\u001b[0m\u001b[1;33m.\u001b[0m\u001b[0mcount\u001b[0m\u001b[1;33m)\u001b[0m\u001b[1;33m]\u001b[0m\u001b[1;33m\u001b[0m\u001b[1;33m\u001b[0m\u001b[0m\n\u001b[0m\u001b[0;32m     10\u001b[0m         \u001b[0mmeta\u001b[0m \u001b[1;33m=\u001b[0m \u001b[0mf\u001b[0m\u001b[1;33m.\u001b[0m\u001b[0mmeta\u001b[0m\u001b[1;33m\u001b[0m\u001b[1;33m\u001b[0m\u001b[0m\n\u001b[0;32m     11\u001b[0m         \u001b[1;32mif\u001b[0m \u001b[0mwindow\u001b[0m \u001b[1;32mis\u001b[0m \u001b[1;32mnot\u001b[0m \u001b[1;32mNone\u001b[0m\u001b[1;33m:\u001b[0m\u001b[1;33m\u001b[0m\u001b[1;33m\u001b[0m\u001b[0m\n",
      "\u001b[1;31mKeyboardInterrupt\u001b[0m: "
     ]
    }
   ],
   "source": [
    "eg_band_int, eg_meta_int = load_geotiff_int(img_dir + 'geotiff/L2A_T43SFR_A023697_20200105T053922.tiff')"
   ]
  },
  {
   "cell_type": "code",
   "execution_count": null,
   "id": "28dff9c5-6741-4cec-963d-593debbfab8a",
   "metadata": {},
   "outputs": [],
   "source": [
    "eg_meta_int"
   ]
  },
  {
   "cell_type": "code",
   "execution_count": null,
   "id": "1b721486-49f6-4154-b1b3-0a12bf85ec47",
   "metadata": {},
   "outputs": [],
   "source": [
    "count(eg_band_int[-1])"
   ]
  },
  {
   "cell_type": "code",
   "execution_count": 68,
   "id": "cf221ea8-4f0b-4573-90f2-507f45777506",
   "metadata": {},
   "outputs": [],
   "source": [
    "with rasterio.open(img_dir + 'geotiff/L2A_T43SFR_A023697_20200105T053922.tiff') as src:\n",
    "    des = src.descriptions\n",
    "    arr1 = src.read(1)\n",
    "    arr5 = src.read(5)"
   ]
  },
  {
   "cell_type": "code",
   "execution_count": 64,
   "id": "23de6a5b-c1a1-40ec-ae03-24f7dae543d3",
   "metadata": {},
   "outputs": [
    {
     "name": "stdout",
     "output_type": "stream",
     "text": [
      "v=0, count=25677828\n",
      "v=1, count=74599164\n",
      "v=2, count=20283408\n"
     ]
    }
   ],
   "source": [
    "count(arr5)"
   ]
  },
  {
   "cell_type": "code",
   "execution_count": 65,
   "id": "a4e7b587-a8ff-403a-b5e4-18135adab5a0",
   "metadata": {},
   "outputs": [
    {
     "data": {
      "text/plain": [
       "19344"
      ]
     },
     "execution_count": 65,
     "metadata": {},
     "output_type": "execute_result"
    }
   ],
   "source": [
    "arr1.max()"
   ]
  },
  {
   "cell_type": "code",
   "execution_count": 69,
   "id": "95094879-4dbe-49c5-8b62-7100ac6e273b",
   "metadata": {},
   "outputs": [
    {
     "data": {
      "text/plain": [
       "('B02', 'B03', 'B04', 'B08', 'cloud mask')"
      ]
     },
     "execution_count": 69,
     "metadata": {},
     "output_type": "execute_result"
    }
   ],
   "source": [
    "des"
   ]
  },
  {
   "cell_type": "code",
   "execution_count": null,
   "id": "00efe3af-2bec-4c03-8cad-8464880e505a",
   "metadata": {},
   "outputs": [],
   "source": []
  },
  {
   "cell_type": "code",
   "execution_count": null,
   "id": "e2f9bc78-db34-4eb3-8fc8-4f7eaaf475c8",
   "metadata": {},
   "outputs": [],
   "source": []
  },
  {
   "cell_type": "code",
   "execution_count": 39,
   "id": "1da0ba28-be78-40de-aba0-3fae63a2e643",
   "metadata": {},
   "outputs": [
    {
     "data": {
      "text/plain": [
       "120560400"
      ]
     },
     "execution_count": 39,
     "metadata": {},
     "output_type": "execute_result"
    }
   ],
   "source": [
    "25677828 + 74599164 + 20283408"
   ]
  },
  {
   "cell_type": "code",
   "execution_count": 24,
   "id": "7ead9d71-f54a-4877-96b5-dc33bb273eef",
   "metadata": {},
   "outputs": [
    {
     "data": {
      "text/plain": [
       "120560400"
      ]
     },
     "execution_count": 24,
     "metadata": {},
     "output_type": "execute_result"
    }
   ],
   "source": [
    "10980*10980"
   ]
  },
  {
   "cell_type": "code",
   "execution_count": 226,
   "id": "cc670742-084d-4327-a06d-e49de90bd50a",
   "metadata": {},
   "outputs": [],
   "source": [
    "meta_ = eg_meta.copy()\n",
    "meta_.update(count=2)"
   ]
  },
  {
   "cell_type": "code",
   "execution_count": 232,
   "id": "2aedcc8e-86aa-40f6-a147-d3cee9d26d95",
   "metadata": {},
   "outputs": [
    {
     "data": {
      "text/plain": [
       "{'driver': 'JP2OpenJPEG',\n",
       " 'dtype': 'uint16',\n",
       " 'nodata': None,\n",
       " 'width': 10980,\n",
       " 'height': 10980,\n",
       " 'count': 2,\n",
       " 'crs': None,\n",
       " 'transform': Affine(10.0, 0.0, 600000.0,\n",
       "        0.0, -10.0, 3600000.0)}"
      ]
     },
     "execution_count": 232,
     "metadata": {},
     "output_type": "execute_result"
    }
   ],
   "source": [
    "meta_"
   ]
  },
  {
   "cell_type": "code",
   "execution_count": 227,
   "id": "3f073ce8-ffb4-4116-a73b-96c0042677d6",
   "metadata": {},
   "outputs": [],
   "source": [
    "with rasterio.open('out.tiff', 'w', **meta_) as dst:\n",
    "    cloud_shp = gpd.read_file(img_dir + 'cloud_mask/L1C_T43SFR_A015289_20200209T052951/cloud_mask.shp')\n",
    "    shapes = iter([(shapely.geometry.mapping(poly), cloud_legend[v]) for poly, v in\n",
    "                   zip(cloud_shp.geometry, cloud_shp.maskType)])\n",
    "    cloud_img = rasterio.features.rasterize(shapes, out_shape=(meta_['height'], meta_['width']),\n",
    "                                            transform=meta_['transform'])\n",
    "    dst.write_band(1, cloud_img)\n",
    "    dst.write_band(2, np.zeros((meta_['height'], meta_['width'])))"
   ]
  },
  {
   "cell_type": "code",
   "execution_count": 228,
   "id": "0e1e8417-15ff-4460-9176-a75ca65d223a",
   "metadata": {},
   "outputs": [],
   "source": [
    "band_out, meta_out = load_geotiff_int('out.tiff')"
   ]
  },
  {
   "cell_type": "code",
   "execution_count": 231,
   "id": "eb318906-a4e8-408a-a0c1-2c50a5d17ebb",
   "metadata": {},
   "outputs": [
    {
     "data": {
      "text/plain": [
       "array([0, 1, 2, 3], dtype=uint16)"
      ]
     },
     "execution_count": 231,
     "metadata": {},
     "output_type": "execute_result"
    }
   ],
   "source": [
    "np.unique(band_out[0])"
   ]
  },
  {
   "cell_type": "code",
   "execution_count": 48,
   "id": "7e5f7282-92e7-4711-9d49-a5e08edd26c7",
   "metadata": {},
   "outputs": [
    {
     "ename": "CRSError",
     "evalue": "The EPSG code is unknown. PROJ: proj_create_from_database: cannot build projectedCRS 32643: SQLite error on SELECT extent.description, extent.south_lat, extent.north_lat, extent.west_lon, extent.east_lon, scope.scope, (CASE WHEN scope.scope LIKE '%large scale%' THEN 0 ELSE 1 END) AS score FROM usage JOIN extent ON usage.extent_auth_name = extent.auth_name AND usage.extent_code = extent.code JOIN scope ON usage.scope_auth_name = scope.auth_name AND usage.scope_code = scope.code WHERE object_table_name = ? AND object_auth_name = ? AND object_code = ? ORDER BY score, usage.auth_name, usage.code: no such table: usage",
     "output_type": "error",
     "traceback": [
      "\u001b[1;31m---------------------------------------------------------------------------\u001b[0m",
      "\u001b[1;31mCPLE_AppDefinedError\u001b[0m                      Traceback (most recent call last)",
      "\u001b[1;32mrasterio\\_crs.pyx\u001b[0m in \u001b[0;36mrasterio._crs._CRS.from_epsg\u001b[1;34m()\u001b[0m\n",
      "\u001b[1;32mrasterio\\_err.pyx\u001b[0m in \u001b[0;36mrasterio._err.exc_wrap_int\u001b[1;34m()\u001b[0m\n",
      "\u001b[1;31mCPLE_AppDefinedError\u001b[0m: PROJ: proj_create_from_database: cannot build projectedCRS 32643: SQLite error on SELECT extent.description, extent.south_lat, extent.north_lat, extent.west_lon, extent.east_lon, scope.scope, (CASE WHEN scope.scope LIKE '%large scale%' THEN 0 ELSE 1 END) AS score FROM usage JOIN extent ON usage.extent_auth_name = extent.auth_name AND usage.extent_code = extent.code JOIN scope ON usage.scope_auth_name = scope.auth_name AND usage.scope_code = scope.code WHERE object_table_name = ? AND object_auth_name = ? AND object_code = ? ORDER BY score, usage.auth_name, usage.code: no such table: usage",
      "\nDuring handling of the above exception, another exception occurred:\n",
      "\u001b[1;31mCRSError\u001b[0m                                  Traceback (most recent call last)",
      "\u001b[1;32m~\\AppData\\Local\\Temp/ipykernel_12432/2188466626.py\u001b[0m in \u001b[0;36m<module>\u001b[1;34m\u001b[0m\n\u001b[1;32m----> 1\u001b[1;33m \u001b[0mrasterio\u001b[0m\u001b[1;33m.\u001b[0m\u001b[0mcrs\u001b[0m\u001b[1;33m.\u001b[0m\u001b[0mCRS\u001b[0m\u001b[1;33m.\u001b[0m\u001b[0mfrom_epsg\u001b[0m\u001b[1;33m(\u001b[0m\u001b[1;36m32643\u001b[0m\u001b[1;33m)\u001b[0m\u001b[1;33m\u001b[0m\u001b[1;33m\u001b[0m\u001b[0m\n\u001b[0m",
      "\u001b[1;32m~\\Anaconda3\\envs\\ch\\lib\\site-packages\\rasterio\\crs.py\u001b[0m in \u001b[0;36mfrom_epsg\u001b[1;34m(cls, code)\u001b[0m\n\u001b[0;32m    331\u001b[0m         \"\"\"\n\u001b[0;32m    332\u001b[0m         \u001b[0mobj\u001b[0m \u001b[1;33m=\u001b[0m \u001b[0mcls\u001b[0m\u001b[1;33m(\u001b[0m\u001b[1;33m)\u001b[0m\u001b[1;33m\u001b[0m\u001b[1;33m\u001b[0m\u001b[0m\n\u001b[1;32m--> 333\u001b[1;33m         \u001b[0mobj\u001b[0m\u001b[1;33m.\u001b[0m\u001b[0m_crs\u001b[0m \u001b[1;33m=\u001b[0m \u001b[0m_CRS\u001b[0m\u001b[1;33m.\u001b[0m\u001b[0mfrom_epsg\u001b[0m\u001b[1;33m(\u001b[0m\u001b[0mcode\u001b[0m\u001b[1;33m)\u001b[0m\u001b[1;33m\u001b[0m\u001b[1;33m\u001b[0m\u001b[0m\n\u001b[0m\u001b[0;32m    334\u001b[0m         \u001b[1;32mreturn\u001b[0m \u001b[0mobj\u001b[0m\u001b[1;33m\u001b[0m\u001b[1;33m\u001b[0m\u001b[0m\n\u001b[0;32m    335\u001b[0m \u001b[1;33m\u001b[0m\u001b[0m\n",
      "\u001b[1;32mrasterio\\_crs.pyx\u001b[0m in \u001b[0;36mrasterio._crs._CRS.from_epsg\u001b[1;34m()\u001b[0m\n",
      "\u001b[1;31mCRSError\u001b[0m: The EPSG code is unknown. PROJ: proj_create_from_database: cannot build projectedCRS 32643: SQLite error on SELECT extent.description, extent.south_lat, extent.north_lat, extent.west_lon, extent.east_lon, scope.scope, (CASE WHEN scope.scope LIKE '%large scale%' THEN 0 ELSE 1 END) AS score FROM usage JOIN extent ON usage.extent_auth_name = extent.auth_name AND usage.extent_code = extent.code JOIN scope ON usage.scope_auth_name = scope.auth_name AND usage.scope_code = scope.code WHERE object_table_name = ? AND object_auth_name = ? AND object_code = ? ORDER BY score, usage.auth_name, usage.code: no such table: usage"
     ]
    }
   ],
   "source": [
    "rasterio.crs.CRS.from_epsg(32643)"
   ]
  },
  {
   "cell_type": "code",
   "execution_count": 53,
   "id": "e78dd328-f6a1-4876-9232-e9c490977b17",
   "metadata": {},
   "outputs": [
    {
     "data": {
      "text/plain": [
       "CRS.from_epsg(4326)"
      ]
     },
     "execution_count": 53,
     "metadata": {},
     "output_type": "execute_result"
    }
   ],
   "source": [
    "rasterio.crs.CRS.from_string('WGS84')"
   ]
  },
  {
   "cell_type": "code",
   "execution_count": 54,
   "id": "fdc4a9e1-ce53-46cc-be57-8ed44b70a978",
   "metadata": {},
   "outputs": [
    {
     "ename": "CRSError",
     "evalue": "The EPSG code is unknown. PROJ: proj_create_from_database: cannot build projectedCRS 32643: SQLite error on SELECT extent.description, extent.south_lat, extent.north_lat, extent.west_lon, extent.east_lon, scope.scope, (CASE WHEN scope.scope LIKE '%large scale%' THEN 0 ELSE 1 END) AS score FROM usage JOIN extent ON usage.extent_auth_name = extent.auth_name AND usage.extent_code = extent.code JOIN scope ON usage.scope_auth_name = scope.auth_name AND usage.scope_code = scope.code WHERE object_table_name = ? AND object_auth_name = ? AND object_code = ? ORDER BY score, usage.auth_name, usage.code: no such table: usage",
     "output_type": "error",
     "traceback": [
      "\u001b[1;31m---------------------------------------------------------------------------\u001b[0m",
      "\u001b[1;31mCPLE_AppDefinedError\u001b[0m                      Traceback (most recent call last)",
      "\u001b[1;32mrasterio\\_crs.pyx\u001b[0m in \u001b[0;36mrasterio._crs._CRS.from_epsg\u001b[1;34m()\u001b[0m\n",
      "\u001b[1;32mrasterio\\_err.pyx\u001b[0m in \u001b[0;36mrasterio._err.exc_wrap_int\u001b[1;34m()\u001b[0m\n",
      "\u001b[1;31mCPLE_AppDefinedError\u001b[0m: PROJ: proj_create_from_database: cannot build projectedCRS 32643: SQLite error on SELECT extent.description, extent.south_lat, extent.north_lat, extent.west_lon, extent.east_lon, scope.scope, (CASE WHEN scope.scope LIKE '%large scale%' THEN 0 ELSE 1 END) AS score FROM usage JOIN extent ON usage.extent_auth_name = extent.auth_name AND usage.extent_code = extent.code JOIN scope ON usage.scope_auth_name = scope.auth_name AND usage.scope_code = scope.code WHERE object_table_name = ? AND object_auth_name = ? AND object_code = ? ORDER BY score, usage.auth_name, usage.code: no such table: usage",
      "\nDuring handling of the above exception, another exception occurred:\n",
      "\u001b[1;31mCRSError\u001b[0m                                  Traceback (most recent call last)",
      "\u001b[1;32m~\\AppData\\Local\\Temp/ipykernel_12432/2257720797.py\u001b[0m in \u001b[0;36m<module>\u001b[1;34m\u001b[0m\n\u001b[1;32m----> 1\u001b[1;33m \u001b[0mrasterio\u001b[0m\u001b[1;33m.\u001b[0m\u001b[0mcrs\u001b[0m\u001b[1;33m.\u001b[0m\u001b[0mCRS\u001b[0m\u001b[1;33m.\u001b[0m\u001b[0mfrom_string\u001b[0m\u001b[1;33m(\u001b[0m\u001b[1;34m'EPSG:32643'\u001b[0m\u001b[1;33m)\u001b[0m\u001b[1;33m\u001b[0m\u001b[1;33m\u001b[0m\u001b[0m\n\u001b[0m",
      "\u001b[1;32m~\\Anaconda3\\envs\\ch\\lib\\site-packages\\rasterio\\crs.py\u001b[0m in \u001b[0;36mfrom_string\u001b[1;34m(cls, string, morph_from_esri_dialect)\u001b[0m\n\u001b[0;32m    382\u001b[0m             \u001b[1;32mif\u001b[0m \u001b[1;32mnot\u001b[0m \u001b[0mval\u001b[0m\u001b[1;33m:\u001b[0m\u001b[1;33m\u001b[0m\u001b[1;33m\u001b[0m\u001b[0m\n\u001b[0;32m    383\u001b[0m                 \u001b[1;32mraise\u001b[0m \u001b[0mCRSError\u001b[0m\u001b[1;33m(\u001b[0m\u001b[1;34m\"Invalid CRS: {!r}\"\u001b[0m\u001b[1;33m.\u001b[0m\u001b[0mformat\u001b[0m\u001b[1;33m(\u001b[0m\u001b[0mstring\u001b[0m\u001b[1;33m)\u001b[0m\u001b[1;33m)\u001b[0m\u001b[1;33m\u001b[0m\u001b[1;33m\u001b[0m\u001b[0m\n\u001b[1;32m--> 384\u001b[1;33m             \u001b[1;32mreturn\u001b[0m \u001b[0mcls\u001b[0m\u001b[1;33m.\u001b[0m\u001b[0mfrom_epsg\u001b[0m\u001b[1;33m(\u001b[0m\u001b[0mval\u001b[0m\u001b[1;33m)\u001b[0m\u001b[1;33m\u001b[0m\u001b[1;33m\u001b[0m\u001b[0m\n\u001b[0m\u001b[0;32m    385\u001b[0m \u001b[1;33m\u001b[0m\u001b[0m\n\u001b[0;32m    386\u001b[0m         \u001b[1;32melif\u001b[0m \u001b[0mstring\u001b[0m\u001b[1;33m.\u001b[0m\u001b[0mstartswith\u001b[0m\u001b[1;33m(\u001b[0m\u001b[1;34m'{'\u001b[0m\u001b[1;33m)\u001b[0m \u001b[1;32mor\u001b[0m \u001b[0mstring\u001b[0m\u001b[1;33m.\u001b[0m\u001b[0mstartswith\u001b[0m\u001b[1;33m(\u001b[0m\u001b[1;34m'['\u001b[0m\u001b[1;33m)\u001b[0m\u001b[1;33m:\u001b[0m\u001b[1;33m\u001b[0m\u001b[1;33m\u001b[0m\u001b[0m\n",
      "\u001b[1;32m~\\Anaconda3\\envs\\ch\\lib\\site-packages\\rasterio\\crs.py\u001b[0m in \u001b[0;36mfrom_epsg\u001b[1;34m(cls, code)\u001b[0m\n\u001b[0;32m    331\u001b[0m         \"\"\"\n\u001b[0;32m    332\u001b[0m         \u001b[0mobj\u001b[0m \u001b[1;33m=\u001b[0m \u001b[0mcls\u001b[0m\u001b[1;33m(\u001b[0m\u001b[1;33m)\u001b[0m\u001b[1;33m\u001b[0m\u001b[1;33m\u001b[0m\u001b[0m\n\u001b[1;32m--> 333\u001b[1;33m         \u001b[0mobj\u001b[0m\u001b[1;33m.\u001b[0m\u001b[0m_crs\u001b[0m \u001b[1;33m=\u001b[0m \u001b[0m_CRS\u001b[0m\u001b[1;33m.\u001b[0m\u001b[0mfrom_epsg\u001b[0m\u001b[1;33m(\u001b[0m\u001b[0mcode\u001b[0m\u001b[1;33m)\u001b[0m\u001b[1;33m\u001b[0m\u001b[1;33m\u001b[0m\u001b[0m\n\u001b[0m\u001b[0;32m    334\u001b[0m         \u001b[1;32mreturn\u001b[0m \u001b[0mobj\u001b[0m\u001b[1;33m\u001b[0m\u001b[1;33m\u001b[0m\u001b[0m\n\u001b[0;32m    335\u001b[0m \u001b[1;33m\u001b[0m\u001b[0m\n",
      "\u001b[1;32mrasterio\\_crs.pyx\u001b[0m in \u001b[0;36mrasterio._crs._CRS.from_epsg\u001b[1;34m()\u001b[0m\n",
      "\u001b[1;31mCRSError\u001b[0m: The EPSG code is unknown. PROJ: proj_create_from_database: cannot build projectedCRS 32643: SQLite error on SELECT extent.description, extent.south_lat, extent.north_lat, extent.west_lon, extent.east_lon, scope.scope, (CASE WHEN scope.scope LIKE '%large scale%' THEN 0 ELSE 1 END) AS score FROM usage JOIN extent ON usage.extent_auth_name = extent.auth_name AND usage.extent_code = extent.code JOIN scope ON usage.scope_auth_name = scope.auth_name AND usage.scope_code = scope.code WHERE object_table_name = ? AND object_auth_name = ? AND object_code = ? ORDER BY score, usage.auth_name, usage.code: no such table: usage"
     ]
    }
   ],
   "source": [
    "rasterio.crs.CRS.from_string('EPSG:32643')"
   ]
  },
  {
   "cell_type": "code",
   "execution_count": 56,
   "id": "e00a7555-d450-4c02-a515-2197decda802",
   "metadata": {},
   "outputs": [
    {
     "ename": "CRSError",
     "evalue": "The EPSG code is unknown. PROJ: proj_create_from_database: cannot build projectedCRS 32643: SQLite error on SELECT extent.description, extent.south_lat, extent.north_lat, extent.west_lon, extent.east_lon, scope.scope, (CASE WHEN scope.scope LIKE '%large scale%' THEN 0 ELSE 1 END) AS score FROM usage JOIN extent ON usage.extent_auth_name = extent.auth_name AND usage.extent_code = extent.code JOIN scope ON usage.scope_auth_name = scope.auth_name AND usage.scope_code = scope.code WHERE object_table_name = ? AND object_auth_name = ? AND object_code = ? ORDER BY score, usage.auth_name, usage.code: no such table: usage",
     "output_type": "error",
     "traceback": [
      "\u001b[1;31m---------------------------------------------------------------------------\u001b[0m",
      "\u001b[1;31mCPLE_AppDefinedError\u001b[0m                      Traceback (most recent call last)",
      "\u001b[1;32mrasterio\\_crs.pyx\u001b[0m in \u001b[0;36mrasterio._crs._CRS.from_epsg\u001b[1;34m()\u001b[0m\n",
      "\u001b[1;32mrasterio\\_err.pyx\u001b[0m in \u001b[0;36mrasterio._err.exc_wrap_int\u001b[1;34m()\u001b[0m\n",
      "\u001b[1;31mCPLE_AppDefinedError\u001b[0m: PROJ: proj_create_from_database: cannot build projectedCRS 32643: SQLite error on SELECT extent.description, extent.south_lat, extent.north_lat, extent.west_lon, extent.east_lon, scope.scope, (CASE WHEN scope.scope LIKE '%large scale%' THEN 0 ELSE 1 END) AS score FROM usage JOIN extent ON usage.extent_auth_name = extent.auth_name AND usage.extent_code = extent.code JOIN scope ON usage.scope_auth_name = scope.auth_name AND usage.scope_code = scope.code WHERE object_table_name = ? AND object_auth_name = ? AND object_code = ? ORDER BY score, usage.auth_name, usage.code: no such table: usage",
      "\nDuring handling of the above exception, another exception occurred:\n",
      "\u001b[1;31mCRSError\u001b[0m                                  Traceback (most recent call last)",
      "\u001b[1;32m~\\AppData\\Local\\Temp/ipykernel_12432/2188466626.py\u001b[0m in \u001b[0;36m<module>\u001b[1;34m\u001b[0m\n\u001b[1;32m----> 1\u001b[1;33m \u001b[0mrasterio\u001b[0m\u001b[1;33m.\u001b[0m\u001b[0mcrs\u001b[0m\u001b[1;33m.\u001b[0m\u001b[0mCRS\u001b[0m\u001b[1;33m.\u001b[0m\u001b[0mfrom_epsg\u001b[0m\u001b[1;33m(\u001b[0m\u001b[1;36m32643\u001b[0m\u001b[1;33m)\u001b[0m\u001b[1;33m\u001b[0m\u001b[1;33m\u001b[0m\u001b[0m\n\u001b[0m",
      "\u001b[1;32m~\\Anaconda3\\envs\\ch\\lib\\site-packages\\rasterio\\crs.py\u001b[0m in \u001b[0;36mfrom_epsg\u001b[1;34m(cls, code)\u001b[0m\n\u001b[0;32m    331\u001b[0m         \"\"\"\n\u001b[0;32m    332\u001b[0m         \u001b[0mobj\u001b[0m \u001b[1;33m=\u001b[0m \u001b[0mcls\u001b[0m\u001b[1;33m(\u001b[0m\u001b[1;33m)\u001b[0m\u001b[1;33m\u001b[0m\u001b[1;33m\u001b[0m\u001b[0m\n\u001b[1;32m--> 333\u001b[1;33m         \u001b[0mobj\u001b[0m\u001b[1;33m.\u001b[0m\u001b[0m_crs\u001b[0m \u001b[1;33m=\u001b[0m \u001b[0m_CRS\u001b[0m\u001b[1;33m.\u001b[0m\u001b[0mfrom_epsg\u001b[0m\u001b[1;33m(\u001b[0m\u001b[0mcode\u001b[0m\u001b[1;33m)\u001b[0m\u001b[1;33m\u001b[0m\u001b[1;33m\u001b[0m\u001b[0m\n\u001b[0m\u001b[0;32m    334\u001b[0m         \u001b[1;32mreturn\u001b[0m \u001b[0mobj\u001b[0m\u001b[1;33m\u001b[0m\u001b[1;33m\u001b[0m\u001b[0m\n\u001b[0;32m    335\u001b[0m \u001b[1;33m\u001b[0m\u001b[0m\n",
      "\u001b[1;32mrasterio\\_crs.pyx\u001b[0m in \u001b[0;36mrasterio._crs._CRS.from_epsg\u001b[1;34m()\u001b[0m\n",
      "\u001b[1;31mCRSError\u001b[0m: The EPSG code is unknown. PROJ: proj_create_from_database: cannot build projectedCRS 32643: SQLite error on SELECT extent.description, extent.south_lat, extent.north_lat, extent.west_lon, extent.east_lon, scope.scope, (CASE WHEN scope.scope LIKE '%large scale%' THEN 0 ELSE 1 END) AS score FROM usage JOIN extent ON usage.extent_auth_name = extent.auth_name AND usage.extent_code = extent.code JOIN scope ON usage.scope_auth_name = scope.auth_name AND usage.scope_code = scope.code WHERE object_table_name = ? AND object_auth_name = ? AND object_code = ? ORDER BY score, usage.auth_name, usage.code: no such table: usage"
     ]
    }
   ],
   "source": [
    "rasterio.crs.CRS.from_epsg(32643)"
   ]
  },
  {
   "cell_type": "code",
   "execution_count": 58,
   "id": "0eac814e-c0d5-42d9-8b24-9927fbeaf87b",
   "metadata": {},
   "outputs": [
    {
     "data": {
      "text/plain": [
       "<Projected CRS: EPSG:32643>\n",
       "Name: WGS 84 / UTM zone 43N\n",
       "Axis Info [cartesian]:\n",
       "- E[east]: Easting (metre)\n",
       "- N[north]: Northing (metre)\n",
       "Area of Use:\n",
       "- name: Between 72°E and 78°E, northern hemisphere between equator and 84°N, onshore and offshore. China. India. Kazakhstan. Kyrgyzstan. Maldives. Pakistan. Russian Federation. Tajikistan.\n",
       "- bounds: (72.0, 0.0, 78.0, 84.0)\n",
       "Coordinate Operation:\n",
       "- name: UTM zone 43N\n",
       "- method: Transverse Mercator\n",
       "Datum: World Geodetic System 1984 ensemble\n",
       "- Ellipsoid: WGS 84\n",
       "- Prime Meridian: Greenwich"
      ]
     },
     "execution_count": 58,
     "metadata": {},
     "output_type": "execute_result"
    }
   ],
   "source": [
    "crs = pyproj.CRS('EPSG:32643')\n",
    "crs"
   ]
  },
  {
   "cell_type": "code",
   "execution_count": 59,
   "id": "d215d48f-e0c9-425e-9ac0-2b05b37b8807",
   "metadata": {},
   "outputs": [
    {
     "ename": "TypeError",
     "evalue": "to_wkt() got an unexpected keyword argument 'morph_to_esri_dialect'",
     "output_type": "error",
     "traceback": [
      "\u001b[1;31m---------------------------------------------------------------------------\u001b[0m",
      "\u001b[1;31mTypeError\u001b[0m                                 Traceback (most recent call last)",
      "\u001b[1;32m~\\AppData\\Local\\Temp/ipykernel_12432/4165920297.py\u001b[0m in \u001b[0;36m<module>\u001b[1;34m\u001b[0m\n\u001b[1;32m----> 1\u001b[1;33m \u001b[0mrasterio\u001b[0m\u001b[1;33m.\u001b[0m\u001b[0mcrs\u001b[0m\u001b[1;33m.\u001b[0m\u001b[0mCRS\u001b[0m\u001b[1;33m.\u001b[0m\u001b[0mto_wkt\u001b[0m\u001b[1;33m(\u001b[0m\u001b[0mcrs\u001b[0m\u001b[1;33m)\u001b[0m\u001b[1;33m\u001b[0m\u001b[1;33m\u001b[0m\u001b[0m\n\u001b[0m",
      "\u001b[1;32m~\\Anaconda3\\envs\\ch\\lib\\site-packages\\rasterio\\crs.py\u001b[0m in \u001b[0;36mto_wkt\u001b[1;34m(self, morph_to_esri_dialect)\u001b[0m\n\u001b[0;32m    129\u001b[0m \u001b[1;33m\u001b[0m\u001b[0m\n\u001b[0;32m    130\u001b[0m         \"\"\"\n\u001b[1;32m--> 131\u001b[1;33m         \u001b[1;32mreturn\u001b[0m \u001b[0mself\u001b[0m\u001b[1;33m.\u001b[0m\u001b[0m_crs\u001b[0m\u001b[1;33m.\u001b[0m\u001b[0mto_wkt\u001b[0m\u001b[1;33m(\u001b[0m\u001b[0mmorph_to_esri_dialect\u001b[0m\u001b[1;33m=\u001b[0m\u001b[0mmorph_to_esri_dialect\u001b[0m\u001b[1;33m)\u001b[0m\u001b[1;33m\u001b[0m\u001b[1;33m\u001b[0m\u001b[0m\n\u001b[0m\u001b[0;32m    132\u001b[0m \u001b[1;33m\u001b[0m\u001b[0m\n\u001b[0;32m    133\u001b[0m     \u001b[1;33m@\u001b[0m\u001b[0mproperty\u001b[0m\u001b[1;33m\u001b[0m\u001b[1;33m\u001b[0m\u001b[0m\n",
      "\u001b[1;32mpyproj\\_crs.pyx\u001b[0m in \u001b[0;36mpyproj._crs.Base.to_wkt\u001b[1;34m()\u001b[0m\n",
      "\u001b[1;31mTypeError\u001b[0m: to_wkt() got an unexpected keyword argument 'morph_to_esri_dialect'"
     ]
    }
   ],
   "source": [
    "rasterio.crs.CRS.to_wkt(crs)"
   ]
  },
  {
   "cell_type": "code",
   "execution_count": 60,
   "id": "4440d680-647d-4a5d-985e-69400296df29",
   "metadata": {},
   "outputs": [
    {
     "data": {
      "text/plain": [
       "CRS.from_epsg(32643)"
      ]
     },
     "execution_count": 60,
     "metadata": {},
     "output_type": "execute_result"
    }
   ],
   "source": [
    "rasterio.crs.CRS.from_user_input(crs)"
   ]
  },
  {
   "cell_type": "code",
   "execution_count": null,
   "id": "49a51edb-f765-4476-a60c-32e1bb8db352",
   "metadata": {},
   "outputs": [],
   "source": []
  },
  {
   "cell_type": "code",
   "execution_count": 95,
   "id": "aa540cc8-1cba-4165-8524-faab239de45e",
   "metadata": {},
   "outputs": [],
   "source": [
    "import geopandas"
   ]
  },
  {
   "cell_type": "code",
   "execution_count": 116,
   "id": "417c7904-4ce3-4d6d-98a5-7f82d13dca52",
   "metadata": {},
   "outputs": [
    {
     "data": {
      "text/html": [
       "<div>\n",
       "<style scoped>\n",
       "    .dataframe tbody tr th:only-of-type {\n",
       "        vertical-align: middle;\n",
       "    }\n",
       "\n",
       "    .dataframe tbody tr th {\n",
       "        vertical-align: top;\n",
       "    }\n",
       "\n",
       "    .dataframe thead th {\n",
       "        text-align: right;\n",
       "    }\n",
       "</style>\n",
       "<table border=\"1\" class=\"dataframe\">\n",
       "  <thead>\n",
       "    <tr style=\"text-align: right;\">\n",
       "      <th></th>\n",
       "      <th>id</th>\n",
       "      <th>geometry</th>\n",
       "    </tr>\n",
       "  </thead>\n",
       "  <tbody>\n",
       "    <tr>\n",
       "      <th>0</th>\n",
       "      <td>0</td>\n",
       "      <td>POLYGON ((77.17355 32.23500, 77.20571 32.25445...</td>\n",
       "    </tr>\n",
       "  </tbody>\n",
       "</table>\n",
       "</div>"
      ],
      "text/plain": [
       "   id                                           geometry\n",
       "0   0  POLYGON ((77.17355 32.23500, 77.20571 32.25445..."
      ]
     },
     "execution_count": 116,
     "metadata": {},
     "output_type": "execute_result"
    }
   ],
   "source": [
    "data = geopandas.read_file('../data/train_area/train_area.shp')\n",
    "data"
   ]
  },
  {
   "cell_type": "code",
   "execution_count": 117,
   "id": "365a46fd-d19f-4775-b864-732d168a79d0",
   "metadata": {},
   "outputs": [
    {
     "data": {
      "text/html": [
       "<div>\n",
       "<style scoped>\n",
       "    .dataframe tbody tr th:only-of-type {\n",
       "        vertical-align: middle;\n",
       "    }\n",
       "\n",
       "    .dataframe tbody tr th {\n",
       "        vertical-align: top;\n",
       "    }\n",
       "\n",
       "    .dataframe thead th {\n",
       "        text-align: right;\n",
       "    }\n",
       "</style>\n",
       "<table border=\"1\" class=\"dataframe\">\n",
       "  <thead>\n",
       "    <tr style=\"text-align: right;\">\n",
       "      <th></th>\n",
       "      <th>id</th>\n",
       "      <th>geometry</th>\n",
       "    </tr>\n",
       "  </thead>\n",
       "  <tbody>\n",
       "    <tr>\n",
       "      <th>0</th>\n",
       "      <td>0</td>\n",
       "      <td>POLYGON ((704799.374 3568556.621, 707786.270 3...</td>\n",
       "    </tr>\n",
       "  </tbody>\n",
       "</table>\n",
       "</div>"
      ],
      "text/plain": [
       "   id                                           geometry\n",
       "0   0  POLYGON ((704799.374 3568556.621, 707786.270 3..."
      ]
     },
     "execution_count": 117,
     "metadata": {},
     "output_type": "execute_result"
    }
   ],
   "source": [
    "data = data.to_crs(32643)\n",
    "data"
   ]
  },
  {
   "cell_type": "code",
   "execution_count": 114,
   "id": "af5842e8-1529-47ef-ade5-bfad2832cec8",
   "metadata": {},
   "outputs": [
    {
     "data": {
      "text/html": [
       "<div>\n",
       "<style scoped>\n",
       "    .dataframe tbody tr th:only-of-type {\n",
       "        vertical-align: middle;\n",
       "    }\n",
       "\n",
       "    .dataframe tbody tr th {\n",
       "        vertical-align: top;\n",
       "    }\n",
       "\n",
       "    .dataframe thead th {\n",
       "        text-align: right;\n",
       "    }\n",
       "</style>\n",
       "<table border=\"1\" class=\"dataframe\">\n",
       "  <thead>\n",
       "    <tr style=\"text-align: right;\">\n",
       "      <th></th>\n",
       "      <th>id</th>\n",
       "      <th>geometry</th>\n",
       "    </tr>\n",
       "  </thead>\n",
       "  <tbody>\n",
       "    <tr>\n",
       "      <th>0</th>\n",
       "      <td>0</td>\n",
       "      <td>POLYGON ((704799.374 3568556.621, 707786.270 3...</td>\n",
       "    </tr>\n",
       "  </tbody>\n",
       "</table>\n",
       "</div>"
      ],
      "text/plain": [
       "   id                                           geometry\n",
       "0   0  POLYGON ((704799.374 3568556.621, 707786.270 3..."
      ]
     },
     "execution_count": 114,
     "metadata": {},
     "output_type": "execute_result"
    }
   ],
   "source": [
    "data = data.to_crs(pyproj.CRS('epsg:32643'))\n",
    "data"
   ]
  },
  {
   "cell_type": "code",
   "execution_count": 111,
   "id": "586ed8dc-313d-4746-b640-a0abd2f17fb7",
   "metadata": {},
   "outputs": [],
   "source": [
    "with fiona.Env(OSR_WKT_FORMAT=\"WKT2_2018\"):\n",
    "    data.to_file('./reprojected.shp')\n",
    "\n",
    "with fiona.Env(OSR_WKT_FORMAT=\"WKT2_2018\"):\n",
    "     r = geopandas.read_file(\"./reprojected.shp\")"
   ]
  },
  {
   "cell_type": "code",
   "execution_count": 112,
   "id": "a4e3efec-051f-4c52-862a-d9acd3b1b90f",
   "metadata": {},
   "outputs": [
    {
     "data": {
      "text/plain": [
       "<Projected CRS: EPSG:32643>\n",
       "Name: WGS 84 / UTM zone 43N\n",
       "Axis Info [cartesian]:\n",
       "- E[east]: Easting (metre)\n",
       "- N[north]: Northing (metre)\n",
       "Area of Use:\n",
       "- name: Between 72°E and 78°E, northern hemisphere between equator and 84°N, onshore and offshore. China. India. Kazakhstan. Kyrgyzstan. Maldives. Pakistan. Russian Federation. Tajikistan.\n",
       "- bounds: (72.0, 0.0, 78.0, 84.0)\n",
       "Coordinate Operation:\n",
       "- name: UTM zone 43N\n",
       "- method: Transverse Mercator\n",
       "Datum: World Geodetic System 1984 ensemble\n",
       "- Ellipsoid: WGS 84\n",
       "- Prime Meridian: Greenwich"
      ]
     },
     "execution_count": 112,
     "metadata": {},
     "output_type": "execute_result"
    }
   ],
   "source": [
    "r.crs"
   ]
  },
  {
   "cell_type": "code",
   "execution_count": 103,
   "id": "2f7111f0-89be-45a1-85f8-924043e82075",
   "metadata": {},
   "outputs": [],
   "source": [
    "import geopandas as gpd\n",
    "from shapely.geometry import Polygon\n",
    "\n",
    "polygon = Polygon([[-93.448499, 42.721669],[-93.447275, 42.722667],[-93.445998, 42.720974],[-93.448499, 42.721669]])\n",
    "\n",
    "df = gpd.GeoDataFrame({'NAME':['poly1'], 'geometry':[polygon]}, crs='EPSG:4326')\n",
    "\n",
    "target_crs = 'PROJCS[\"IaRCS_04_Sioux_City-Iowa_Falls_NAD_1983_2011_LCC_US_Feet\",GEOGCS[\"GCS_NAD_1983_2011\",DATUM[\"D_NAD_1983_2011\",SPHEROID[\"GRS_1980\",6378137.0,298.257222101]],PRIMEM[\"Greenwich\",0.0],UNIT[\"Degree\",0.0174532925199433]],PROJECTION[\"Lambert_Conformal_Conic\"],PARAMETER[\"False_Easting\",14500000.0],PARAMETER[\"False_Northing\",8600000.0],PARAMETER[\"Central_Meridian\",-94.83333333333333],PARAMETER[\"Standard_Parallel_1\",42.53333333333333],PARAMETER[\"Standard_Parallel_2\",42.53333333333333],PARAMETER[\"Scale_Factor\",1.000045],PARAMETER[\"Latitude_Of_Origin\",42.53333333333333],UNIT[\"Foot_US\",0.3048006096012192]]'\n",
    "df.to_crs(target_crs, inplace=True)\n",
    "\n",
    "with fiona.Env(OSR_WKT_FORMAT=\"WKT2_2018\"):\n",
    "    df.to_file('./test.shp')\n"
   ]
  },
  {
   "cell_type": "code",
   "execution_count": 104,
   "id": "f0be7f61-90e7-4ae0-bdaa-e4565b8e2031",
   "metadata": {},
   "outputs": [],
   "source": [
    "with fiona.Env(OSR_WKT_FORMAT=\"WKT2_2018\"):\n",
    "     r = geopandas.read_file(\"./test.shp\")"
   ]
  },
  {
   "cell_type": "code",
   "execution_count": 106,
   "id": "0be3515b-cf53-41b0-9f1c-3fdb527fafc9",
   "metadata": {},
   "outputs": [
    {
     "data": {
      "text/plain": [
       "<Projected CRS: PROJCRS[\"IaRCS_04_Sioux_City-Iowa_Falls_NAD_1983_2 ...>\n",
       "Name: IaRCS_04_Sioux_City-Iowa_Falls_NAD_1983_2011_LCC_US_Feet\n",
       "Axis Info [cartesian]:\n",
       "- E[east]: Easting (US survey foot)\n",
       "- N[north]: Northing (US survey foot)\n",
       "Area of Use:\n",
       "- undefined\n",
       "Coordinate Operation:\n",
       "- name: unnamed\n",
       "- method: Lambert Conic Conformal (2SP Michigan)\n",
       "Datum: NAD83 (National Spatial Reference System 2011)\n",
       "- Ellipsoid: GRS 1980\n",
       "- Prime Meridian: Greenwich"
      ]
     },
     "execution_count": 106,
     "metadata": {},
     "output_type": "execute_result"
    }
   ],
   "source": [
    "r.crs"
   ]
  },
  {
   "cell_type": "code",
   "execution_count": 119,
   "id": "5628dd3b-bf3d-45c2-996c-cb53232f1c6c",
   "metadata": {},
   "outputs": [],
   "source": [
    "raster = rasterio.open(r'N:\\dataorg-datasets\\MLsatellite\\sentinel2_images\\images_danya\\43SFR\\train_region\\L2A_T43SFR_A015003_20200120T053410.tiff')"
   ]
  },
  {
   "cell_type": "code",
   "execution_count": 123,
   "id": "02145016-4558-4c4f-bd71-3e3a4d61fc60",
   "metadata": {},
   "outputs": [],
   "source": [
    "arr5 = raster.read(5)"
   ]
  },
  {
   "cell_type": "code",
   "execution_count": 124,
   "id": "13adaeb3-7710-4c20-a320-c582656dd821",
   "metadata": {},
   "outputs": [
    {
     "name": "stdout",
     "output_type": "stream",
     "text": [
      "v=0, count=3777419\n",
      "v=1, count=1064788\n",
      "v=2, count=34056\n"
     ]
    }
   ],
   "source": [
    "count(arr5)"
   ]
  },
  {
   "cell_type": "code",
   "execution_count": 125,
   "id": "d6cb6204-3742-448c-b366-3955e313fcbe",
   "metadata": {},
   "outputs": [
    {
     "data": {
      "text/plain": [
       "(2669, 1827)"
      ]
     },
     "execution_count": 125,
     "metadata": {},
     "output_type": "execute_result"
    }
   ],
   "source": [
    "arr5.shape"
   ]
  },
  {
   "cell_type": "markdown",
   "id": "ba86eec4-3bf5-4d38-bc61-b741ac55c7b0",
   "metadata": {},
   "source": [
    "## cloud mask from SCL"
   ]
  },
  {
   "cell_type": "code",
   "execution_count": 1,
   "id": "0a8f835d-5da5-4f33-bee9-bce7cfb4455a",
   "metadata": {},
   "outputs": [],
   "source": [
    "file = r'N:\\dataorg-datasets\\MLsatellite\\sentinel2_images\\images_danya\\43SFR\\L2A\\S2B_MSIL2A_20201228T054239_N9999_R005_T43SFR_20210923T025012.SAFE\\GRANULE\\L2A_T43SFR_A019908_20201228T054233\\IMG_DATA\\R60m\\T43SFR_20201228T054239_SCL_60m.jp2'"
   ]
  },
  {
   "cell_type": "code",
   "execution_count": 2,
   "id": "d7e979cf-6c70-4106-86f9-0c6e58840fca",
   "metadata": {},
   "outputs": [],
   "source": [
    "import rasterio"
   ]
  },
  {
   "cell_type": "code",
   "execution_count": 4,
   "id": "55fa651b-e3f6-46ad-9409-fb264dd7a308",
   "metadata": {},
   "outputs": [],
   "source": [
    "data = rasterio.open(file)"
   ]
  },
  {
   "cell_type": "code",
   "execution_count": 6,
   "id": "ecf379a9-3c62-4184-819e-7c8b886bbcc4",
   "metadata": {},
   "outputs": [
    {
     "data": {
      "text/plain": [
       "CRS.from_epsg(32643)"
      ]
     },
     "execution_count": 6,
     "metadata": {},
     "output_type": "execute_result"
    }
   ],
   "source": [
    "data.crs"
   ]
  },
  {
   "cell_type": "code",
   "execution_count": 36,
   "id": "a879d42a-a484-464a-98e3-e9fc248515b4",
   "metadata": {},
   "outputs": [
    {
     "data": {
      "text/plain": [
       "(1830, 1830)"
      ]
     },
     "execution_count": 36,
     "metadata": {},
     "output_type": "execute_result"
    }
   ],
   "source": [
    "data.shape"
   ]
  },
  {
   "cell_type": "code",
   "execution_count": 37,
   "id": "3913c9ed-6a07-4412-abac-b9cdd1d902f5",
   "metadata": {},
   "outputs": [],
   "source": [
    "def resample(in_file, h_target, w_target):\n",
    "    with rasterio.open(in_file) as dataset:\n",
    "        # resample data to target shape\n",
    "        data = dataset.read(\n",
    "            out_shape=(dataset.count, h_target, w_target),\n",
    "            resampling=Resampling.nearest\n",
    "        )\n",
    "\n",
    "        # scale image transform\n",
    "        transform = dataset.transform * dataset.transform.scale(\n",
    "            (dataset.width / w_target),\n",
    "            (dataset.height / h_target)\n",
    "        )\n",
    "\n",
    "        return data, transform"
   ]
  },
  {
   "cell_type": "code",
   "execution_count": 39,
   "id": "445593c9-1638-44c5-8a89-788a836503d7",
   "metadata": {},
   "outputs": [],
   "source": [
    "from rasterio.enums import Resampling"
   ]
  },
  {
   "cell_type": "code",
   "execution_count": 40,
   "id": "be7a2883-58c9-47b8-8ff3-ad30ee730e03",
   "metadata": {},
   "outputs": [],
   "source": [
    "resampled_data, transf = resample(file, 10980, 10980)"
   ]
  },
  {
   "cell_type": "code",
   "execution_count": 41,
   "id": "2e56d1f5-e262-4470-9efd-de4df4e82e09",
   "metadata": {},
   "outputs": [
    {
     "data": {
      "text/plain": [
       "(1, 10980, 10980)"
      ]
     },
     "execution_count": 41,
     "metadata": {},
     "output_type": "execute_result"
    }
   ],
   "source": [
    "resampled_data.shape"
   ]
  },
  {
   "cell_type": "code",
   "execution_count": 46,
   "id": "1bdc7e06-2b31-468b-865a-9aafe3dc84d3",
   "metadata": {},
   "outputs": [],
   "source": [
    "import numpy as np"
   ]
  },
  {
   "cell_type": "code",
   "execution_count": 47,
   "id": "a2f59c7a-2133-4fe0-8c55-94103058431b",
   "metadata": {},
   "outputs": [],
   "source": [
    "resampled_data = np.squeeze(resampled_data)"
   ]
  },
  {
   "cell_type": "code",
   "execution_count": 48,
   "id": "0dee7178-6f37-43f4-bfdb-03f0054f9b75",
   "metadata": {},
   "outputs": [
    {
     "data": {
      "text/plain": [
       "(10980, 10980)"
      ]
     },
     "execution_count": 48,
     "metadata": {},
     "output_type": "execute_result"
    }
   ],
   "source": [
    "resampled_data.shape"
   ]
  },
  {
   "cell_type": "code",
   "execution_count": 7,
   "id": "5834d227-1058-4b31-bd7f-17454e14f561",
   "metadata": {},
   "outputs": [],
   "source": [
    "import geopandas as gpd"
   ]
  },
  {
   "cell_type": "code",
   "execution_count": 9,
   "id": "c6f07f0d-71e8-4db4-90c4-72871305239b",
   "metadata": {},
   "outputs": [],
   "source": [
    "cloud_name = r'N:\\dataorg-datasets\\MLsatellite\\sentinel2_images\\images_danya\\43SFR\\cloud_mask\\L1C_T43SFR_A014760_20200103T054832\\cloud_mask.shp'\n",
    "cloud = gpd.read_file(cloud_name)"
   ]
  },
  {
   "cell_type": "code",
   "execution_count": 10,
   "id": "da75cec3-c69d-458c-a28c-82949a686c27",
   "metadata": {},
   "outputs": [
    {
     "data": {
      "text/plain": [
       "<Projected CRS: EPSG:32643>\n",
       "Name: WGS 84 / UTM zone 43N\n",
       "Axis Info [cartesian]:\n",
       "- E[east]: Easting (metre)\n",
       "- N[north]: Northing (metre)\n",
       "Area of Use:\n",
       "- name: Between 72°E and 78°E, northern hemisphere between equator and 84°N, onshore and offshore. China. India. Kazakhstan. Kyrgyzstan. Maldives. Pakistan. Russian Federation. Tajikistan.\n",
       "- bounds: (72.0, 0.0, 78.0, 84.0)\n",
       "Coordinate Operation:\n",
       "- name: UTM zone 43N\n",
       "- method: Transverse Mercator\n",
       "Datum: World Geodetic System 1984 ensemble\n",
       "- Ellipsoid: WGS 84\n",
       "- Prime Meridian: Greenwich"
      ]
     },
     "execution_count": 10,
     "metadata": {},
     "output_type": "execute_result"
    }
   ],
   "source": [
    "cloud.crs"
   ]
  },
  {
   "cell_type": "code",
   "execution_count": null,
   "id": "12742941-a9ab-41fe-8e95-f9aaa01dc5d3",
   "metadata": {},
   "outputs": [],
   "source": []
  },
  {
   "cell_type": "code",
   "execution_count": 28,
   "id": "4bbb55fb-e9fb-4cce-bc9b-a784fdd545d9",
   "metadata": {},
   "outputs": [],
   "source": [
    "import os\n",
    "\n",
    "def find_file(string, search_path):\n",
    "    result = []\n",
    "\n",
    "    # Wlaking top-down from the root\n",
    "    for root, dir_, files in os.walk(search_path):\n",
    "        flag = False\n",
    "        for f in files:\n",
    "            if string in f:\n",
    "                flag = True\n",
    "                filename = f\n",
    "                result.append(os.path.join(root, filename))\n",
    "                break\n",
    "            \n",
    "    return result"
   ]
  },
  {
   "cell_type": "code",
   "execution_count": 30,
   "id": "2954628d-41bc-4b55-b6de-e42feb088ebe",
   "metadata": {},
   "outputs": [
    {
     "data": {
      "text/plain": [
       "['N:\\\\dataorg-datasets\\\\MLsatellite\\\\sentinel2_images\\\\images_danya\\\\43SFR\\\\L2A\\\\S2B_MSIL2A_20200817T052649_N9999_R105_T43SFR_20210923T075853.SAFE\\\\GRANULE\\\\L2A_T43SFR_A018006_20200817T053152\\\\IMG_DATA\\\\R10m\\\\T43SFR_20200817T052649_B02_10m.jp2']"
      ]
     },
     "execution_count": 30,
     "metadata": {},
     "output_type": "execute_result"
    }
   ],
   "source": [
    "search_path = r'N:\\dataorg-datasets\\MLsatellite\\sentinel2_images\\images_danya\\43SFR\\L2A\\S2B_MSIL2A_20200817T052649_N9999_R105_T43SFR_20210923T075853.SAFE'\n",
    "find_file('B02_10m.jp2', search_path)"
   ]
  },
  {
   "cell_type": "code",
   "execution_count": 34,
   "id": "ab177ae2-5b57-4b97-926d-0510db281748",
   "metadata": {},
   "outputs": [],
   "source": [
    "scene_legend = ['NO_DATA', 'SATURATED_OR_DEFECTIVE', 'DARK_AREA_PIXELS', 'CLOUD_SHADOWS', 'VEGETATION', 'NOT_VEGETATED', 'WATER', 'UNCLASSIFIED', 'CLOUD_MEDIUM_PROBABILITY']\n",
    "d = dict(zip(scene_legend, range(len(scene_legend))))"
   ]
  },
  {
   "cell_type": "code",
   "execution_count": 35,
   "id": "dac70fc4-af39-4518-a3dc-a11dedf9b5f7",
   "metadata": {},
   "outputs": [
    {
     "data": {
      "text/plain": [
       "{'NO_DATA': 0,\n",
       " 'SATURATED_OR_DEFECTIVE': 1,\n",
       " 'DARK_AREA_PIXELS': 2,\n",
       " 'CLOUD_SHADOWS': 3,\n",
       " 'VEGETATION': 4,\n",
       " 'NOT_VEGETATED': 5,\n",
       " 'WATER': 6,\n",
       " 'UNCLASSIFIED': 7,\n",
       " 'CLOUD_MEDIUM_PROBABILITY': 8}"
      ]
     },
     "execution_count": 35,
     "metadata": {},
     "output_type": "execute_result"
    }
   ],
   "source": [
    "d"
   ]
  },
  {
   "cell_type": "code",
   "execution_count": null,
   "id": "5210e14f-80bd-4102-b8b2-61e728057d65",
   "metadata": {},
   "outputs": [],
   "source": []
  }
 ],
 "metadata": {
  "kernelspec": {
   "display_name": "Python 3 (ipykernel)",
   "language": "python",
   "name": "python3"
  },
  "language_info": {
   "codemirror_mode": {
    "name": "ipython",
    "version": 3
   },
   "file_extension": ".py",
   "mimetype": "text/x-python",
   "name": "python",
   "nbconvert_exporter": "python",
   "pygments_lexer": "ipython3",
   "version": "3.9.7"
  }
 },
 "nbformat": 4,
 "nbformat_minor": 5
}
