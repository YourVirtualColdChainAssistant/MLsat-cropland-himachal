{
 "cells": [
  {
   "cell_type": "code",
   "execution_count": 1,
   "id": "8cf71aa5-432f-4e92-be76-f44b00a3484a",
   "metadata": {},
   "outputs": [
    {
     "name": "stderr",
     "output_type": "stream",
     "text": [
      "Can't load requested DLL: C:\\Program Files\\GDAL\\gdalplugins\\gdal_KEA.dll\n",
      "127: The specified procedure could not be found.\n",
      "\n",
      "Can't load requested DLL: C:\\Program Files\\GDAL\\gdalplugins\\gdal_KEA.dll\n",
      "127: The specified procedure could not be found.\n",
      "\n",
      "Can't load requested DLL: C:\\Program Files\\GDAL\\gdalplugins\\gdal_KEA.dll\n",
      "127: The specified procedure could not be found.\n",
      "\n",
      "Can't load requested DLL: C:\\Program Files\\GDAL\\gdalplugins\\gdal_KEA.dll\n",
      "127: The specified procedure could not be found.\n",
      "\n"
     ]
    }
   ],
   "source": [
    "import os\n",
    "import re\n",
    "import sys\n",
    "import math \n",
    "import fiona\n",
    "import random\n",
    "import logging\n",
    "import datetime\n",
    "import numpy as np\n",
    "import pandas as pd\n",
    "import geopandas as gpd\n",
    "import skimage\n",
    "import skimage.draw\n",
    "import pyproj\n",
    "import rasterio\n",
    "from rasterio.mask import mask\n",
    "from rasterio.warp import calculate_default_transform, reproject, Resampling"
   ]
  },
  {
   "cell_type": "code",
   "execution_count": 45,
   "id": "795593d9-52fe-40de-b23a-03224c01d290",
   "metadata": {},
   "outputs": [],
   "source": [
    "def get_grid_idx(cell_size=64, height=2357, width=1892):\n",
    "    num_h = math.ceil(height / cell_size)\n",
    "    num_w = math.ceil(width / cell_size)\n",
    "    num_range = np.arange(num_h * num_w).reshape(num_h, num_w)\n",
    "    print(f'There are {num_h * num_w} grid groups in total.')\n",
    "    grid_idx = num_range.repeat(cell_size, axis=0).repeat(cell_size, axis=1)\n",
    "    print(f'before: {grid_idx.shape}')\n",
    "    grid_idx = grid_idx[:height, :width]\n",
    "    print(f'after: {grid_idx.shape}')\n",
    "    return grid_idx"
   ]
  },
  {
   "cell_type": "code",
   "execution_count": 46,
   "id": "4844f464-1c3c-40e5-8b68-f6f6f6d8993c",
   "metadata": {},
   "outputs": [
    {
     "name": "stdout",
     "output_type": "stream",
     "text": [
      "There are 1110 grid groups in total.\n",
      "before: (2368, 1920)\n",
      "after: (2357, 1892)\n"
     ]
    }
   ],
   "source": [
    "grid_idx = get_grid_idx()"
   ]
  },
  {
   "cell_type": "code",
   "execution_count": 47,
   "id": "3be5b1e5-801f-4df9-9c67-6500d9eeee43",
   "metadata": {},
   "outputs": [
    {
     "data": {
      "text/plain": [
       "222.0"
      ]
     },
     "execution_count": 47,
     "metadata": {},
     "output_type": "execute_result"
    }
   ],
   "source": [
    "1110*0.2"
   ]
  },
  {
   "cell_type": "code",
   "execution_count": 51,
   "id": "c52aac68-82c9-414c-a329-f16ac79ff1b6",
   "metadata": {},
   "outputs": [],
   "source": [
    "grid_idx_test = random.sample(list(np.arange(1110)), math.ceil(1110*0.2))\n",
    "grid_idx_train_val = list(set(np.arange(1110)) - set(grid_idx_test))"
   ]
  },
  {
   "cell_type": "code",
   "execution_count": 53,
   "id": "2ce1db03-87dc-4b83-a642-4d759608e498",
   "metadata": {},
   "outputs": [],
   "source": [
    "pred_path = '../preds/1008-183014_rfc.tif'\n",
    "band_pred, meta_pred = load_geotiff(pred_path)"
   ]
  },
  {
   "cell_type": "code",
   "execution_count": 66,
   "id": "731a0473-5144-4825-bcae-154767f3385a",
   "metadata": {},
   "outputs": [],
   "source": [
    "def visualize_train_test_grid_split(meta_src, grid_idx_test, grid_idx_train_val, spatial_dict, save_path):\n",
    "    # get the grid idx\n",
    "    cell_size, height, width = spatial_dict['cell_size'], spatial_dict['height'], spatial_dict['width']\n",
    "    grid_idx = get_grid_idx(cell_size, height, width).reshape(-1)\n",
    "    # build \n",
    "    output = np.zeros_like(grid_idx)\n",
    "    test_mask = [True if idx in grid_idx_test else False for idx in grid_idx]\n",
    "    train_val_mask = [True if idx in grid_idx_train_val else False for idx in grid_idx]\n",
    "    output[test_mask] = 1\n",
    "    output[train_val_mask] = 2\n",
    "    \n",
    "    with rasterio.Env():\n",
    "        # Write an array as a raster band to a new 8-bit file. We start with the profile of the source\n",
    "        out_meta = meta_src.copy()\n",
    "        out_meta.update(\n",
    "            dtype=rasterio.uint8,\n",
    "            count=1,\n",
    "            compress='lzw')\n",
    "        with rasterio.open(save_path, 'w', **out_meta) as dst:\n",
    "            # reshape into (band, height, width)\n",
    "            dst.write(output.reshape(1, out_meta['height'], out_meta['width']).astype(rasterio.uint8))\n",
    "            dst.write_colormap(\n",
    "            1, {\n",
    "                0: (0, 0, 0), \n",
    "                1: (240, 72, 72),\n",
    "                2: (71, 208, 240)})\n",
    "            \n",
    "def load_geotiff(path, window=None):\n",
    "    \"\"\" Load the geotiff as a list of numpy array.\n",
    "        INPUT : path (str) -> the path to the geotiff\n",
    "                window (rasterio.windows.Window) -> the window to use when loading the image\n",
    "        OUTPUT : band (list of numpy array) -> the different bands as float scaled to 0:1\n",
    "                 meta (dictionary) -> the metadata associated with the geotiff\n",
    "    \"\"\"\n",
    "    with rasterio.open(path) as f:\n",
    "        band = [skimage.img_as_float(f.read(i+1, window=window)) for i in range(f.count)]\n",
    "        meta = f.meta\n",
    "        if window is not None:\n",
    "            meta['height'] = window.height\n",
    "            meta['width'] = window.width\n",
    "            meta['transform'] = f.window_transform(window)\n",
    "    return band, meta"
   ]
  },
  {
   "cell_type": "code",
   "execution_count": 67,
   "id": "82a78982-966f-4c99-b7b4-17bc44e9eda5",
   "metadata": {},
   "outputs": [
    {
     "name": "stdout",
     "output_type": "stream",
     "text": [
      "There are 1110 grid groups in total.\n",
      "before: (2368, 1920)\n",
      "after: (2357, 1892)\n"
     ]
    }
   ],
   "source": [
    "spatial_dict = {'cell_size': 64, 'height': meta_pred['height'], 'width': meta_pred['width']}\n",
    "visualize_train_test_grid_split(meta_pred, grid_idx_test, grid_idx_train_val, spatial_dict, './train_test_split.tiff')"
   ]
  },
  {
   "cell_type": "code",
   "execution_count": 1,
   "id": "0576a49b-1ec8-4c3d-8e44-86bbf4a7a425",
   "metadata": {},
   "outputs": [
    {
     "data": {
      "text/plain": [
       "1"
      ]
     },
     "execution_count": 1,
     "metadata": {},
     "output_type": "execute_result"
    }
   ],
   "source": [
    "1"
   ]
  },
  {
   "cell_type": "code",
   "execution_count": 2,
   "id": "a754960e-f721-41ba-9efa-df1c05fc9ce6",
   "metadata": {},
   "outputs": [],
   "source": [
    "class Model(object):\n",
    "    def __init__(self, logger, log_time, model_name):\n",
    "        self._logger = logger\n",
    "        self._log_time = log_time\n",
    "        self.model_name = model_name\n",
    "\n",
    "    def _check_model_name(self, model_list):\n",
    "        if self.model_name not in model_list:\n",
    "            raise ValueError(f'No such model {self.model_name}. Please choose from {model_list}.')\n",
    "    \n",
    "    def fit_best(self):\n",
    "        raise NotImplementedError"
   ]
  },
  {
   "cell_type": "code",
   "execution_count": 3,
   "id": "975f01b4-1d9a-47bd-b7e2-0b15572ed768",
   "metadata": {},
   "outputs": [],
   "source": [
    "class ModelCropland(Model):\n",
    "    def __init__(self, logger, log_time, model_name):\n",
    "        super().__init__(logger, log_time, model_name)\n",
    "        self._check_model_name(model_list=['svc', 'rfc', 'mlp', 'gru'])\n",
    "        self.best_params = None\n",
    "        self.model = None\n",
    "    \n",
    "    def fit_best(self, arg):\n",
    "        print(f'Fit best in ModelCropSpecific with arg {arg}')"
   ]
  },
  {
   "cell_type": "code",
   "execution_count": 14,
   "id": "c91ffa88-4134-41af-9fcd-59c32adf64bf",
   "metadata": {},
   "outputs": [],
   "source": [
    "class ModelCropSpecific(Model):\n",
    "    def __init__(self, logger, log_time, model_name, pretrained_name=None):\n",
    "        super().__init__(logger, log_time, model_name)\n",
    "        self._check_model_name(model_list=['ocsvm', 'pul', 'pul-w'])\n",
    "        if pretrained_name is None:\n",
    "            self.base_model = None\n",
    "            print('Train from scratch.')\n",
    "        else:\n",
    "            self.base_model = pretrained_name\n",
    "            print(f'Loaded pretrained model {pretrained_name}.')\n",
    "        \n",
    "        self.best_params = None\n",
    "        self.model = None\n",
    "        \n",
    "    def fit_best(self, arg):\n",
    "        print(f'Fit best in ModelCropSpecific with arg {arg}')\n",
    "        \n",
    "    def evaluate(self):\n",
    "        print('Add evaluation method')"
   ]
  },
  {
   "cell_type": "code",
   "execution_count": 5,
   "id": "e524051f-2c8d-4cf1-a4ee-173fea9cebbe",
   "metadata": {},
   "outputs": [
    {
     "ename": "ValueError",
     "evalue": "No such model model. Please choose from ['svc', 'rfc', 'mlp', 'gru'].",
     "output_type": "error",
     "traceback": [
      "\u001b[1;31m---------------------------------------------------------------------------\u001b[0m",
      "\u001b[1;31mValueError\u001b[0m                                Traceback (most recent call last)",
      "\u001b[1;32m~\\AppData\\Local\\Temp/ipykernel_13704/240707529.py\u001b[0m in \u001b[0;36m<module>\u001b[1;34m\u001b[0m\n\u001b[1;32m----> 1\u001b[1;33m \u001b[0mmodel_c\u001b[0m \u001b[1;33m=\u001b[0m \u001b[0mModelCropland\u001b[0m\u001b[1;33m(\u001b[0m\u001b[1;34m'logger'\u001b[0m\u001b[1;33m,\u001b[0m \u001b[1;34m'log_time'\u001b[0m\u001b[1;33m,\u001b[0m \u001b[1;34m'model'\u001b[0m\u001b[1;33m)\u001b[0m\u001b[1;33m\u001b[0m\u001b[1;33m\u001b[0m\u001b[0m\n\u001b[0m",
      "\u001b[1;32m~\\AppData\\Local\\Temp/ipykernel_13704/2078887882.py\u001b[0m in \u001b[0;36m__init__\u001b[1;34m(self, logger, log_time, model_name)\u001b[0m\n\u001b[0;32m      2\u001b[0m     \u001b[1;32mdef\u001b[0m \u001b[0m__init__\u001b[0m\u001b[1;33m(\u001b[0m\u001b[0mself\u001b[0m\u001b[1;33m,\u001b[0m \u001b[0mlogger\u001b[0m\u001b[1;33m,\u001b[0m \u001b[0mlog_time\u001b[0m\u001b[1;33m,\u001b[0m \u001b[0mmodel_name\u001b[0m\u001b[1;33m)\u001b[0m\u001b[1;33m:\u001b[0m\u001b[1;33m\u001b[0m\u001b[1;33m\u001b[0m\u001b[0m\n\u001b[0;32m      3\u001b[0m         \u001b[0msuper\u001b[0m\u001b[1;33m(\u001b[0m\u001b[1;33m)\u001b[0m\u001b[1;33m.\u001b[0m\u001b[0m__init__\u001b[0m\u001b[1;33m(\u001b[0m\u001b[0mlogger\u001b[0m\u001b[1;33m,\u001b[0m \u001b[0mlog_time\u001b[0m\u001b[1;33m,\u001b[0m \u001b[0mmodel_name\u001b[0m\u001b[1;33m)\u001b[0m\u001b[1;33m\u001b[0m\u001b[1;33m\u001b[0m\u001b[0m\n\u001b[1;32m----> 4\u001b[1;33m         \u001b[0mself\u001b[0m\u001b[1;33m.\u001b[0m\u001b[0m_check_model_name\u001b[0m\u001b[1;33m(\u001b[0m\u001b[0mmodel_list\u001b[0m\u001b[1;33m=\u001b[0m\u001b[1;33m[\u001b[0m\u001b[1;34m'svc'\u001b[0m\u001b[1;33m,\u001b[0m \u001b[1;34m'rfc'\u001b[0m\u001b[1;33m,\u001b[0m \u001b[1;34m'mlp'\u001b[0m\u001b[1;33m,\u001b[0m \u001b[1;34m'gru'\u001b[0m\u001b[1;33m]\u001b[0m\u001b[1;33m)\u001b[0m\u001b[1;33m\u001b[0m\u001b[1;33m\u001b[0m\u001b[0m\n\u001b[0m\u001b[0;32m      5\u001b[0m         \u001b[0mself\u001b[0m\u001b[1;33m.\u001b[0m\u001b[0mbest_params\u001b[0m \u001b[1;33m=\u001b[0m \u001b[1;32mNone\u001b[0m\u001b[1;33m\u001b[0m\u001b[1;33m\u001b[0m\u001b[0m\n\u001b[0;32m      6\u001b[0m         \u001b[0mself\u001b[0m\u001b[1;33m.\u001b[0m\u001b[0mmodel\u001b[0m \u001b[1;33m=\u001b[0m \u001b[1;32mNone\u001b[0m\u001b[1;33m\u001b[0m\u001b[1;33m\u001b[0m\u001b[0m\n",
      "\u001b[1;32m~\\AppData\\Local\\Temp/ipykernel_13704/1676482671.py\u001b[0m in \u001b[0;36m_check_model_name\u001b[1;34m(self, model_list)\u001b[0m\n\u001b[0;32m      7\u001b[0m     \u001b[1;32mdef\u001b[0m \u001b[0m_check_model_name\u001b[0m\u001b[1;33m(\u001b[0m\u001b[0mself\u001b[0m\u001b[1;33m,\u001b[0m \u001b[0mmodel_list\u001b[0m\u001b[1;33m)\u001b[0m\u001b[1;33m:\u001b[0m\u001b[1;33m\u001b[0m\u001b[1;33m\u001b[0m\u001b[0m\n\u001b[0;32m      8\u001b[0m         \u001b[1;32mif\u001b[0m \u001b[0mself\u001b[0m\u001b[1;33m.\u001b[0m\u001b[0mmodel_name\u001b[0m \u001b[1;32mnot\u001b[0m \u001b[1;32min\u001b[0m \u001b[0mmodel_list\u001b[0m\u001b[1;33m:\u001b[0m\u001b[1;33m\u001b[0m\u001b[1;33m\u001b[0m\u001b[0m\n\u001b[1;32m----> 9\u001b[1;33m             \u001b[1;32mraise\u001b[0m \u001b[0mValueError\u001b[0m\u001b[1;33m(\u001b[0m\u001b[1;34mf'No such model {self.model_name}. Please choose from {model_list}.'\u001b[0m\u001b[1;33m)\u001b[0m\u001b[1;33m\u001b[0m\u001b[1;33m\u001b[0m\u001b[0m\n\u001b[0m\u001b[0;32m     10\u001b[0m \u001b[1;33m\u001b[0m\u001b[0m\n\u001b[0;32m     11\u001b[0m     \u001b[1;32mdef\u001b[0m \u001b[0mfit_best\u001b[0m\u001b[1;33m(\u001b[0m\u001b[0mself\u001b[0m\u001b[1;33m)\u001b[0m\u001b[1;33m:\u001b[0m\u001b[1;33m\u001b[0m\u001b[1;33m\u001b[0m\u001b[0m\n",
      "\u001b[1;31mValueError\u001b[0m: No such model model. Please choose from ['svc', 'rfc', 'mlp', 'gru']."
     ]
    }
   ],
   "source": [
    "model_c = ModelCropland('logger', 'log_time', 'model')"
   ]
  },
  {
   "cell_type": "code",
   "execution_count": 7,
   "id": "1e16c3fa-cfff-488d-99c5-2327d46f396f",
   "metadata": {},
   "outputs": [
    {
     "name": "stdout",
     "output_type": "stream",
     "text": [
      "Fit best in ModelCropSpecific with arg xx\n"
     ]
    }
   ],
   "source": [
    "model_c = ModelCropland('logger', 'log_time', 'svc')\n",
    "model_c.fit_best('xx')"
   ]
  },
  {
   "cell_type": "code",
   "execution_count": 8,
   "id": "f442de05-7db5-4bae-81e0-dc628f045426",
   "metadata": {},
   "outputs": [
    {
     "ename": "ValueError",
     "evalue": "No such model model. Please choose from ['svc', 'rfc', 'mlp', 'gru'].",
     "output_type": "error",
     "traceback": [
      "\u001b[1;31m---------------------------------------------------------------------------\u001b[0m",
      "\u001b[1;31mValueError\u001b[0m                                Traceback (most recent call last)",
      "\u001b[1;32m~\\AppData\\Local\\Temp/ipykernel_13704/3719268660.py\u001b[0m in \u001b[0;36m<module>\u001b[1;34m\u001b[0m\n\u001b[1;32m----> 1\u001b[1;33m \u001b[0mmodel_cs\u001b[0m \u001b[1;33m=\u001b[0m \u001b[0mModelCropland\u001b[0m\u001b[1;33m(\u001b[0m\u001b[1;34m'logger'\u001b[0m\u001b[1;33m,\u001b[0m \u001b[1;34m'log_time'\u001b[0m\u001b[1;33m,\u001b[0m \u001b[1;34m'model'\u001b[0m\u001b[1;33m)\u001b[0m\u001b[1;33m\u001b[0m\u001b[1;33m\u001b[0m\u001b[0m\n\u001b[0m",
      "\u001b[1;32m~\\AppData\\Local\\Temp/ipykernel_13704/2078887882.py\u001b[0m in \u001b[0;36m__init__\u001b[1;34m(self, logger, log_time, model_name)\u001b[0m\n\u001b[0;32m      2\u001b[0m     \u001b[1;32mdef\u001b[0m \u001b[0m__init__\u001b[0m\u001b[1;33m(\u001b[0m\u001b[0mself\u001b[0m\u001b[1;33m,\u001b[0m \u001b[0mlogger\u001b[0m\u001b[1;33m,\u001b[0m \u001b[0mlog_time\u001b[0m\u001b[1;33m,\u001b[0m \u001b[0mmodel_name\u001b[0m\u001b[1;33m)\u001b[0m\u001b[1;33m:\u001b[0m\u001b[1;33m\u001b[0m\u001b[1;33m\u001b[0m\u001b[0m\n\u001b[0;32m      3\u001b[0m         \u001b[0msuper\u001b[0m\u001b[1;33m(\u001b[0m\u001b[1;33m)\u001b[0m\u001b[1;33m.\u001b[0m\u001b[0m__init__\u001b[0m\u001b[1;33m(\u001b[0m\u001b[0mlogger\u001b[0m\u001b[1;33m,\u001b[0m \u001b[0mlog_time\u001b[0m\u001b[1;33m,\u001b[0m \u001b[0mmodel_name\u001b[0m\u001b[1;33m)\u001b[0m\u001b[1;33m\u001b[0m\u001b[1;33m\u001b[0m\u001b[0m\n\u001b[1;32m----> 4\u001b[1;33m         \u001b[0mself\u001b[0m\u001b[1;33m.\u001b[0m\u001b[0m_check_model_name\u001b[0m\u001b[1;33m(\u001b[0m\u001b[0mmodel_list\u001b[0m\u001b[1;33m=\u001b[0m\u001b[1;33m[\u001b[0m\u001b[1;34m'svc'\u001b[0m\u001b[1;33m,\u001b[0m \u001b[1;34m'rfc'\u001b[0m\u001b[1;33m,\u001b[0m \u001b[1;34m'mlp'\u001b[0m\u001b[1;33m,\u001b[0m \u001b[1;34m'gru'\u001b[0m\u001b[1;33m]\u001b[0m\u001b[1;33m)\u001b[0m\u001b[1;33m\u001b[0m\u001b[1;33m\u001b[0m\u001b[0m\n\u001b[0m\u001b[0;32m      5\u001b[0m         \u001b[0mself\u001b[0m\u001b[1;33m.\u001b[0m\u001b[0mbest_params\u001b[0m \u001b[1;33m=\u001b[0m \u001b[1;32mNone\u001b[0m\u001b[1;33m\u001b[0m\u001b[1;33m\u001b[0m\u001b[0m\n\u001b[0;32m      6\u001b[0m         \u001b[0mself\u001b[0m\u001b[1;33m.\u001b[0m\u001b[0mmodel\u001b[0m \u001b[1;33m=\u001b[0m \u001b[1;32mNone\u001b[0m\u001b[1;33m\u001b[0m\u001b[1;33m\u001b[0m\u001b[0m\n",
      "\u001b[1;32m~\\AppData\\Local\\Temp/ipykernel_13704/1676482671.py\u001b[0m in \u001b[0;36m_check_model_name\u001b[1;34m(self, model_list)\u001b[0m\n\u001b[0;32m      7\u001b[0m     \u001b[1;32mdef\u001b[0m \u001b[0m_check_model_name\u001b[0m\u001b[1;33m(\u001b[0m\u001b[0mself\u001b[0m\u001b[1;33m,\u001b[0m \u001b[0mmodel_list\u001b[0m\u001b[1;33m)\u001b[0m\u001b[1;33m:\u001b[0m\u001b[1;33m\u001b[0m\u001b[1;33m\u001b[0m\u001b[0m\n\u001b[0;32m      8\u001b[0m         \u001b[1;32mif\u001b[0m \u001b[0mself\u001b[0m\u001b[1;33m.\u001b[0m\u001b[0mmodel_name\u001b[0m \u001b[1;32mnot\u001b[0m \u001b[1;32min\u001b[0m \u001b[0mmodel_list\u001b[0m\u001b[1;33m:\u001b[0m\u001b[1;33m\u001b[0m\u001b[1;33m\u001b[0m\u001b[0m\n\u001b[1;32m----> 9\u001b[1;33m             \u001b[1;32mraise\u001b[0m \u001b[0mValueError\u001b[0m\u001b[1;33m(\u001b[0m\u001b[1;34mf'No such model {self.model_name}. Please choose from {model_list}.'\u001b[0m\u001b[1;33m)\u001b[0m\u001b[1;33m\u001b[0m\u001b[1;33m\u001b[0m\u001b[0m\n\u001b[0m\u001b[0;32m     10\u001b[0m \u001b[1;33m\u001b[0m\u001b[0m\n\u001b[0;32m     11\u001b[0m     \u001b[1;32mdef\u001b[0m \u001b[0mfit_best\u001b[0m\u001b[1;33m(\u001b[0m\u001b[0mself\u001b[0m\u001b[1;33m)\u001b[0m\u001b[1;33m:\u001b[0m\u001b[1;33m\u001b[0m\u001b[1;33m\u001b[0m\u001b[0m\n",
      "\u001b[1;31mValueError\u001b[0m: No such model model. Please choose from ['svc', 'rfc', 'mlp', 'gru']."
     ]
    }
   ],
   "source": [
    "model_cs = ModelCropland('logger', 'log_time', 'model')"
   ]
  },
  {
   "cell_type": "code",
   "execution_count": 12,
   "id": "65f3dcdb-8e8d-49df-b6fc-261e3debcb76",
   "metadata": {},
   "outputs": [
    {
     "name": "stdout",
     "output_type": "stream",
     "text": [
      "Train from scratch.\n",
      "Fit best in ModelCropSpecific with arg yy\n"
     ]
    }
   ],
   "source": [
    "model_cs = ModelCropSpecific('logger', 'log_time', 'ocsvm')\n",
    "model_cs.fit_best('yy')"
   ]
  },
  {
   "cell_type": "code",
   "execution_count": 15,
   "id": "ce5c7932-1f4f-40dd-a0e7-af17a5d23004",
   "metadata": {},
   "outputs": [
    {
     "name": "stdout",
     "output_type": "stream",
     "text": [
      "Loaded pretrained model pretrained_model.\n",
      "Fit best in ModelCropSpecific with arg yy\n",
      "Add evaluation method\n"
     ]
    }
   ],
   "source": [
    "model_cs = ModelCropSpecific('logger', 'log_time', 'ocsvm', 'pretrained_model')\n",
    "model_cs.fit_best('yy')\n",
    "model_cs.evaluate()"
   ]
  },
  {
   "cell_type": "code",
   "execution_count": null,
   "id": "42f03695-bbe6-4b6e-a5f1-0611c3e436e5",
   "metadata": {},
   "outputs": [],
   "source": []
  }
 ],
 "metadata": {
  "kernelspec": {
   "display_name": "Python 3 (ipykernel)",
   "language": "python",
   "name": "python3"
  },
  "language_info": {
   "codemirror_mode": {
    "name": "ipython",
    "version": 3
   },
   "file_extension": ".py",
   "mimetype": "text/x-python",
   "name": "python",
   "nbconvert_exporter": "python",
   "pygments_lexer": "ipython3",
   "version": "3.9.7"
  }
 },
 "nbformat": 4,
 "nbformat_minor": 5
}
