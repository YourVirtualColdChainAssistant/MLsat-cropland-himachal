{
 "cells": [
  {
   "cell_type": "code",
   "execution_count": 1,
   "id": "43d59f5b-4f45-4d6b-b56b-f21050fcafc3",
   "metadata": {},
   "outputs": [],
   "source": [
    "import rasterio"
   ]
  },
  {
   "cell_type": "code",
   "execution_count": 10,
   "id": "7828c1ab-11f9-43de-8a87-9ea521031836",
   "metadata": {},
   "outputs": [],
   "source": [
    "import numpy as np"
   ]
  },
  {
   "cell_type": "code",
   "execution_count": 2,
   "id": "b18be022-e61a-4474-8d0a-4af326e16c27",
   "metadata": {},
   "outputs": [],
   "source": [
    "img_dir = 'N:/dataorg-datasets/MLsatellite/sentinel2_images/images_danya/'"
   ]
  },
  {
   "cell_type": "code",
   "execution_count": 6,
   "id": "da842458-a665-4c0e-913d-6066a013505d",
   "metadata": {},
   "outputs": [],
   "source": [
    "with rasterio.open(img_dir + 'geotiff/L2A_T43SFR_A023697_20200105T053922.tiff') as src:\n",
    "    meta_43sfr = src.meta\n",
    "    \n",
    "with rasterio.open(img_dir + '43RGQ/safe/S2A_MSIL1C_20200105T053221_N0208_R105_T43RGQ_20200105T072254.SAFE/GRANULE/L1C_T43RGQ_A023697_20200105T053922/IMG_DATA/T43RGQ_20200105T053221_B02.jp2') as src:\n",
    "    meta_43rgq = src.meta"
   ]
  },
  {
   "cell_type": "code",
   "execution_count": 7,
   "id": "140b36fc-5f83-48e9-b288-a8d4ee711314",
   "metadata": {},
   "outputs": [
    {
     "data": {
      "text/plain": [
       "{'driver': 'JP2OpenJPEG',\n",
       " 'dtype': 'uint16',\n",
       " 'nodata': None,\n",
       " 'width': 10980,\n",
       " 'height': 10980,\n",
       " 'count': 5,\n",
       " 'crs': None,\n",
       " 'transform': Affine(10.0, 0.0, 600000.0,\n",
       "        0.0, -10.0, 3600000.0)}"
      ]
     },
     "execution_count": 7,
     "metadata": {},
     "output_type": "execute_result"
    }
   ],
   "source": [
    "meta_43sfr"
   ]
  },
  {
   "cell_type": "code",
   "execution_count": 15,
   "id": "5d4e59a3-b7e3-494c-98bc-89d390cb9c7e",
   "metadata": {},
   "outputs": [],
   "source": [
    "band_sfr = np.ones((meta_43sfr['height'], meta_43sfr['width']))"
   ]
  },
  {
   "cell_type": "code",
   "execution_count": 8,
   "id": "b851a5c9-bd86-4e30-8761-25020b274630",
   "metadata": {},
   "outputs": [
    {
     "data": {
      "text/plain": [
       "{'driver': 'JP2OpenJPEG',\n",
       " 'dtype': 'uint16',\n",
       " 'nodata': None,\n",
       " 'width': 10980,\n",
       " 'height': 10980,\n",
       " 'count': 1,\n",
       " 'crs': None,\n",
       " 'transform': Affine(10.0, 0.0, 699960.0,\n",
       "        0.0, -10.0, 3500040.0)}"
      ]
     },
     "execution_count": 8,
     "metadata": {},
     "output_type": "execute_result"
    }
   ],
   "source": [
    "meta_43rgq"
   ]
  },
  {
   "cell_type": "code",
   "execution_count": 14,
   "id": "2f5718d8-4486-4d86-85c0-f0d6027a9d44",
   "metadata": {},
   "outputs": [],
   "source": [
    "band_rgq = np.zeros((meta_43rgq['height'], meta_43rgq['width']))"
   ]
  },
  {
   "cell_type": "markdown",
   "id": "872baa35-463d-42e9-8489-e2812855b355",
   "metadata": {},
   "source": [
    "### try 1: set src as None\n",
    "\n",
    "=> become extremely small, but values are not changed, location is wrong."
   ]
  },
  {
   "cell_type": "code",
   "execution_count": 79,
   "id": "d154a6d9-30ac-41c0-80bd-399b81b22cf5",
   "metadata": {},
   "outputs": [],
   "source": [
    "with rasterio.open('../preds/from.tiff', 'r') as src:\n",
    "    meta_from = src.meta\n",
    "    band_from = src.read(1)        "
   ]
  },
  {
   "cell_type": "code",
   "execution_count": 80,
   "id": "8b960a1a-797d-43b1-9989-763a5eb1f1e7",
   "metadata": {},
   "outputs": [
    {
     "data": {
      "text/plain": [
       "array([2, 3], dtype=uint8)"
      ]
     },
     "execution_count": 80,
     "metadata": {},
     "output_type": "execute_result"
    }
   ],
   "source": [
    "np.unique(band_from)"
   ]
  },
  {
   "cell_type": "code",
   "execution_count": 81,
   "id": "8a642be9-d4e7-433d-9087-765b021c6fe8",
   "metadata": {},
   "outputs": [
    {
     "data": {
      "text/plain": [
       "{'driver': 'GTiff',\n",
       " 'dtype': 'uint8',\n",
       " 'nodata': None,\n",
       " 'width': 1892,\n",
       " 'height': 2357,\n",
       " 'count': 1,\n",
       " 'crs': CRS.from_epsg(4326),\n",
       " 'transform': Affine(9.810891648968448e-05, 0.0, 77.03211244126558,\n",
       "        0.0, -9.810891648968448e-05, 32.25451163012633)}"
      ]
     },
     "execution_count": 81,
     "metadata": {},
     "output_type": "execute_result"
    }
   ],
   "source": [
    "meta_from"
   ]
  },
  {
   "cell_type": "code",
   "execution_count": 82,
   "id": "291d39f1-9388-4b9d-a0cf-63b3283a36bd",
   "metadata": {},
   "outputs": [
    {
     "data": {
      "text/plain": [
       "{'driver': 'GTiff',\n",
       " 'dtype': 'uint8',\n",
       " 'nodata': None,\n",
       " 'width': 1892,\n",
       " 'height': 2357,\n",
       " 'count': 1,\n",
       " 'crs': None,\n",
       " 'transform': Affine(9.810891648968448e-05, 0.0, 77.03211244126558,\n",
       "        0.0, -9.810891648968448e-05, 32.25451163012633)}"
      ]
     },
     "execution_count": 82,
     "metadata": {},
     "output_type": "execute_result"
    }
   ],
   "source": [
    "meta_None = meta_from.copy()\n",
    "meta_None.update(crs=None)\n",
    "meta_None"
   ]
  },
  {
   "cell_type": "code",
   "execution_count": 83,
   "id": "e044a278-6b66-4ca0-8b03-ee79d6d50e16",
   "metadata": {},
   "outputs": [],
   "source": [
    "with rasterio.open('../preds/to_None.tiff', 'w', **meta_None) as dst:\n",
    "    dst.write_band(1, band)\n",
    "\n",
    "with rasterio.open('../preds/to_None.tiff', 'r') as dst:\n",
    "    to_None = dst.read(1)\n",
    "    meta_to_None = dst.meta"
   ]
  },
  {
   "cell_type": "code",
   "execution_count": 84,
   "id": "df5d5f4f-3821-479c-8eb4-4e51ad04499b",
   "metadata": {},
   "outputs": [
    {
     "data": {
      "text/plain": [
       "array([2, 3], dtype=uint8)"
      ]
     },
     "execution_count": 84,
     "metadata": {},
     "output_type": "execute_result"
    }
   ],
   "source": [
    "np.unique(to_None)"
   ]
  },
  {
   "cell_type": "markdown",
   "id": "66de8420-7924-4af0-bda1-6d5090eb3aa1",
   "metadata": {
    "tags": []
   },
   "source": [
    "### try 2: crs=None, transform=some unaffine one??\n",
    "\n",
    "=> size seems not changed, values are ok not changed, location is wrong."
   ]
  },
  {
   "cell_type": "code",
   "execution_count": 85,
   "id": "c18aaeae-9d07-4fc5-8f39-75648646c5ac",
   "metadata": {},
   "outputs": [
    {
     "data": {
      "text/plain": [
       "{'driver': 'GTiff',\n",
       " 'dtype': 'uint8',\n",
       " 'nodata': None,\n",
       " 'width': 1892,\n",
       " 'height': 2357,\n",
       " 'count': 2,\n",
       " 'crs': None,\n",
       " 'transform': Affine(10.0, 0.0, 600000.0,\n",
       "        0.0, -10.0, 3600000.0)}"
      ]
     },
     "execution_count": 85,
     "metadata": {},
     "output_type": "execute_result"
    }
   ],
   "source": [
    "meta_None_transformed = meta_from.copy()\n",
    "meta_None_transformed.update(count=2, crs=None, transform=meta_43sfr['transform'])\n",
    "meta_None_transformed"
   ]
  },
  {
   "cell_type": "code",
   "execution_count": 87,
   "id": "f560e071-eb70-4d75-a7c9-78fa9332775a",
   "metadata": {},
   "outputs": [],
   "source": [
    "with rasterio.open('../preds/to_None_transformed.tiff', 'w', **meta_None_transformed) as dst:      \n",
    "    dst.write_band(1, band_from)"
   ]
  },
  {
   "cell_type": "code",
   "execution_count": 88,
   "id": "dd569915-e195-4d23-979f-dc69c76c08e7",
   "metadata": {},
   "outputs": [],
   "source": [
    "with rasterio.open('../preds/to_None_transformed.tiff', 'r') as dst:\n",
    "    to_None_transformed = dst.read(1)"
   ]
  },
  {
   "cell_type": "code",
   "execution_count": 89,
   "id": "6150a217-1636-4b84-b114-0d7d4c10df91",
   "metadata": {},
   "outputs": [
    {
     "data": {
      "text/plain": [
       "array([2, 3], dtype=uint8)"
      ]
     },
     "execution_count": 89,
     "metadata": {},
     "output_type": "execute_result"
    }
   ],
   "source": [
    "np.unique(to_None_transformed)"
   ]
  },
  {
   "cell_type": "markdown",
   "id": "890d2d2a-97c9-4608-a0a3-02ece5ca180b",
   "metadata": {},
   "source": [
    "### try 3\n",
    "\n",
    "=> empty"
   ]
  },
  {
   "cell_type": "code",
   "execution_count": 90,
   "id": "af6387c9-8d04-41db-a76e-9bc37e6190a5",
   "metadata": {},
   "outputs": [
    {
     "data": {
      "text/plain": [
       "{'driver': 'GTiff',\n",
       " 'dtype': 'uint8',\n",
       " 'nodata': None,\n",
       " 'width': 1892,\n",
       " 'height': 2357,\n",
       " 'count': 1,\n",
       " 'crs': CRS.from_epsg(4326),\n",
       " 'transform': Affine(10.0, 0.0, 699960.0,\n",
       "        0.0, -10.0, 3500040.0)}"
      ]
     },
     "execution_count": 90,
     "metadata": {},
     "output_type": "execute_result"
    }
   ],
   "source": [
    "meta_transformed = meta_from.copy()\n",
    "meta_transformed.update(transform=meta_43rgq['transform'])\n",
    "meta_transformed"
   ]
  },
  {
   "cell_type": "code",
   "execution_count": 91,
   "id": "d415e29f-c303-48be-9617-fc3dc2df8d42",
   "metadata": {},
   "outputs": [],
   "source": [
    "with rasterio.open('../preds/to_transformed.tiff', 'w', **meta_transformed) as dst:    \n",
    "    dst.write_band(1, band_from)\n",
    "    \n",
    "with rasterio.open('../preds/to_transformed.tiff', 'r') as dst:\n",
    "    to_transformed = dst.read(1)"
   ]
  },
  {
   "cell_type": "code",
   "execution_count": 92,
   "id": "2a650636-1ed6-47cc-8aaf-eedc74473548",
   "metadata": {},
   "outputs": [
    {
     "data": {
      "text/plain": [
       "array([2, 3], dtype=uint8)"
      ]
     },
     "execution_count": 92,
     "metadata": {},
     "output_type": "execute_result"
    }
   ],
   "source": [
    "np.unique(to_transformed)"
   ]
  },
  {
   "cell_type": "code",
   "execution_count": 93,
   "id": "5c1e177b-fc19-4392-ae5c-b53fd467f9b0",
   "metadata": {},
   "outputs": [
    {
     "data": {
      "text/plain": [
       "array([[3, 3, 3, ..., 3, 3, 3],\n",
       "       [3, 3, 3, ..., 3, 3, 3],\n",
       "       [3, 3, 3, ..., 3, 3, 3],\n",
       "       ...,\n",
       "       [3, 3, 3, ..., 3, 3, 3],\n",
       "       [3, 3, 3, ..., 3, 3, 3],\n",
       "       [3, 3, 3, ..., 3, 3, 3]], dtype=uint8)"
      ]
     },
     "execution_count": 93,
     "metadata": {},
     "output_type": "execute_result"
    }
   ],
   "source": [
    "to_transformed"
   ]
  },
  {
   "cell_type": "markdown",
   "id": "033820fc-c610-4563-b4f5-bf11839a7064",
   "metadata": {
    "jp-MarkdownHeadingCollapsed": true,
    "tags": []
   },
   "source": [
    "### try 4"
   ]
  },
  {
   "cell_type": "code",
   "execution_count": 74,
   "id": "d4c98a10-2d71-490f-ae4d-7018a6e8f457",
   "metadata": {},
   "outputs": [
    {
     "data": {
      "text/plain": [
       "{'driver': 'JP2OpenJPEG',\n",
       " 'dtype': 'uint16',\n",
       " 'nodata': None,\n",
       " 'width': 10980,\n",
       " 'height': 10980,\n",
       " 'count': 1,\n",
       " 'crs': None,\n",
       " 'transform': Affine(10.0, 0.0, 699960.0,\n",
       "        0.0, -10.0, 3500040.0)}"
      ]
     },
     "execution_count": 74,
     "metadata": {},
     "output_type": "execute_result"
    }
   ],
   "source": [
    "meta_43rgq"
   ]
  },
  {
   "cell_type": "code",
   "execution_count": 75,
   "id": "025d508e-3c7c-44ea-8493-6bf6819d7f93",
   "metadata": {},
   "outputs": [],
   "source": [
    "with rasterio.open('../preds/to_43rgq.tiff', 'w', **meta_43rgq) as dst:     \n",
    "    dst.write_band(1, band_from)"
   ]
  },
  {
   "cell_type": "code",
   "execution_count": 77,
   "id": "c8281267-8ae7-490e-aa0a-3705456737a2",
   "metadata": {},
   "outputs": [],
   "source": [
    "with rasterio.open('../preds/to_43rgq.tiff', 'r') as dst:\n",
    "    to_43rgq = dst.read(1)"
   ]
  },
  {
   "cell_type": "code",
   "execution_count": 78,
   "id": "3b944f23-ff7d-45d7-9011-bde25508810e",
   "metadata": {},
   "outputs": [
    {
     "data": {
      "text/plain": [
       "array([1, 2, 3, 4], dtype=uint16)"
      ]
     },
     "execution_count": 78,
     "metadata": {},
     "output_type": "execute_result"
    }
   ],
   "source": [
    "np.unique(to_43rgq)"
   ]
  },
  {
   "cell_type": "markdown",
   "id": "182b174e-4cb0-452a-affd-60176e965007",
   "metadata": {
    "tags": []
   },
   "source": [
    "### try 5"
   ]
  },
  {
   "cell_type": "code",
   "execution_count": 119,
   "id": "9de730b7-8233-4734-84b1-a418a1afe4fb",
   "metadata": {},
   "outputs": [
    {
     "data": {
      "text/plain": [
       "{'driver': 'GTiff',\n",
       " 'dtype': 'uint16',\n",
       " 'nodata': None,\n",
       " 'width': 10980,\n",
       " 'height': 10980,\n",
       " 'count': 1,\n",
       " 'crs': None,\n",
       " 'transform': Affine(10.0, 0.0, 699960.0,\n",
       "        0.0, -10.0, 3500040.0)}"
      ]
     },
     "execution_count": 119,
     "metadata": {},
     "output_type": "execute_result"
    }
   ],
   "source": [
    "meta_43rgq_driver = meta_43rgq.copy()\n",
    "meta_43rgq_driver.update(driver='GTiff')\n",
    "meta_43rgq_driver"
   ]
  },
  {
   "cell_type": "code",
   "execution_count": 120,
   "id": "71cfc002-4029-4302-b66d-c935e7f8cfa9",
   "metadata": {},
   "outputs": [],
   "source": [
    "with rasterio.open('../preds/to_43rgq_driver.tiff', 'w', **meta_43rgq_driver) as dst:     \n",
    "    dst.write_band(1, band_from)"
   ]
  },
  {
   "cell_type": "code",
   "execution_count": 121,
   "id": "8ae7800b-c41a-41c3-bfa3-5d76bb326c0a",
   "metadata": {},
   "outputs": [],
   "source": [
    "with rasterio.open('../preds/to_43rgq_driver.tiff', 'r') as dst:\n",
    "    to_43rgq_driver = dst.read(1)"
   ]
  },
  {
   "cell_type": "code",
   "execution_count": 122,
   "id": "c80efc02-4caa-46ff-8a58-ad4f6df8c7e1",
   "metadata": {},
   "outputs": [
    {
     "data": {
      "text/plain": [
       "array([2, 3], dtype=uint16)"
      ]
     },
     "execution_count": 122,
     "metadata": {},
     "output_type": "execute_result"
    }
   ],
   "source": [
    "np.unique(to_43rgq_driver)"
   ]
  },
  {
   "cell_type": "markdown",
   "id": "2b67edc3-d337-4a42-bedc-030f647ae053",
   "metadata": {},
   "source": [
    "### others"
   ]
  },
  {
   "cell_type": "code",
   "execution_count": 35,
   "id": "d7e509c5-38cd-4080-8304-c6221b0c2892",
   "metadata": {},
   "outputs": [
    {
     "data": {
      "text/plain": [
       "Affine(0.03333333333333333, 0.0, -4.016666666666667,\n",
       "       0.0, 0.03333333333333333, -3.0166666666666666)"
      ]
     },
     "execution_count": 35,
     "metadata": {},
     "output_type": "execute_result"
    }
   ],
   "source": [
    "from rasterio.transform import Affine\n",
    "x = np.linspace(-4.0, 4.0, 240)\n",
    "y = np.linspace(-3.0, 3.0, 180)\n",
    "res = (x[-1] - x[0]) / 240.0\n",
    "transform = Affine.translation(x[0] - res / 2, y[0] - res / 2) * Affine.scale(res, res)\n",
    "transform"
   ]
  },
  {
   "cell_type": "code",
   "execution_count": 37,
   "id": "b20b19af-ee89-4da1-99b6-1f42a55bdd49",
   "metadata": {},
   "outputs": [
    {
     "data": {
      "text/plain": [
       "0.03333333333333333"
      ]
     },
     "execution_count": 37,
     "metadata": {},
     "output_type": "execute_result"
    }
   ],
   "source": [
    "res"
   ]
  },
  {
   "cell_type": "markdown",
   "id": "9824ec81-2d18-4fba-9ed1-f88a696878de",
   "metadata": {},
   "source": [
    "### convert jp2 to tiff"
   ]
  },
  {
   "cell_type": "code",
   "execution_count": 108,
   "id": "f50299bf-da12-4137-83e5-f68e44d795a1",
   "metadata": {},
   "outputs": [],
   "source": [
    "with rasterio.open(img_dir + r'safe\\S2A_MSIL1C_20200105T053221_N0208_R105_T43SFR_20200105T072254.SAFE\\GRANULE\\L1C_T43SFR_A023697_20200105T053922\\IMG_DATA\\T43SFR_20200105T053221_B02.jp2', 'r') as f:\n",
    "    b02 = f.read(1)\n",
    "    b02_meta = f.meta"
   ]
  },
  {
   "cell_type": "code",
   "execution_count": 109,
   "id": "20045a11-79bd-4b7c-9fac-4b08b21e94d2",
   "metadata": {},
   "outputs": [
    {
     "data": {
      "text/plain": [
       "(15579, 3347.2681797754485, 0)"
      ]
     },
     "execution_count": 109,
     "metadata": {},
     "output_type": "execute_result"
    }
   ],
   "source": [
    "b02.max(), b02.mean(), b02.min()"
   ]
  },
  {
   "cell_type": "code",
   "execution_count": 110,
   "id": "4ec16a92-20a2-4749-ab00-9a09492cb480",
   "metadata": {},
   "outputs": [
    {
     "data": {
      "text/plain": [
       "{'driver': 'JP2OpenJPEG',\n",
       " 'dtype': 'uint16',\n",
       " 'nodata': None,\n",
       " 'width': 10980,\n",
       " 'height': 10980,\n",
       " 'count': 1,\n",
       " 'crs': None,\n",
       " 'transform': Affine(10.0, 0.0, 600000.0,\n",
       "        0.0, -10.0, 3600000.0)}"
      ]
     },
     "execution_count": 110,
     "metadata": {},
     "output_type": "execute_result"
    }
   ],
   "source": [
    "b02_meta"
   ]
  },
  {
   "cell_type": "code",
   "execution_count": 111,
   "id": "3d041d12-c6e8-4ba7-b891-b422864d7a74",
   "metadata": {},
   "outputs": [
    {
     "data": {
      "text/plain": [
       "{'driver': 'GTiff',\n",
       " 'dtype': 'uint16',\n",
       " 'nodata': None,\n",
       " 'width': 10980,\n",
       " 'height': 10980,\n",
       " 'count': 1,\n",
       " 'crs': None,\n",
       " 'transform': Affine(10.0, 0.0, 600000.0,\n",
       "        0.0, -10.0, 3600000.0)}"
      ]
     },
     "execution_count": 111,
     "metadata": {},
     "output_type": "execute_result"
    }
   ],
   "source": [
    "b02_meta_to = b02_meta.copy()\n",
    "b02_meta_to.update(driver='GTiff')\n",
    "b02_meta_to"
   ]
  },
  {
   "cell_type": "code",
   "execution_count": 112,
   "id": "280f281a-d8ed-4aad-8701-10d94d12e5f5",
   "metadata": {},
   "outputs": [],
   "source": [
    "with rasterio.open('../preds/b02.tiff', 'w', **b02_meta_to) as srs:\n",
    "    srs.write_band(1, b02)"
   ]
  },
  {
   "cell_type": "code",
   "execution_count": 113,
   "id": "5b2103d7-1f3d-4157-929e-44e16c795098",
   "metadata": {},
   "outputs": [],
   "source": [
    "with rasterio.open('../preds/b02.tiff', 'r') as f:\n",
    "    b02_to = f.read(1)"
   ]
  },
  {
   "cell_type": "code",
   "execution_count": 114,
   "id": "8bfdc76e-7851-416b-bb50-2f6654417005",
   "metadata": {},
   "outputs": [
    {
     "data": {
      "text/plain": [
       "(15579, 3347.2681797754485, 0)"
      ]
     },
     "execution_count": 114,
     "metadata": {},
     "output_type": "execute_result"
    }
   ],
   "source": [
    "b02_to.max(), b02_to.mean(), b02_to.min()"
   ]
  },
  {
   "cell_type": "code",
   "execution_count": 115,
   "id": "8248979e-144b-4e24-88f8-e878941459d4",
   "metadata": {},
   "outputs": [
    {
     "data": {
      "text/plain": [
       "array([[   0,    0,    0, ..., 9218, 9394, 9496],\n",
       "       [   0,    0,    0, ..., 8931, 9285, 9550],\n",
       "       [   0,    0,    0, ..., 8526, 8996, 9357],\n",
       "       ...,\n",
       "       [   0,    0,    0, ..., 2122, 2122, 2202],\n",
       "       [   0,    0,    0, ..., 2124, 2116, 2218],\n",
       "       [   0,    0,    0, ..., 2119, 2072, 2080]], dtype=uint16)"
      ]
     },
     "execution_count": 115,
     "metadata": {},
     "output_type": "execute_result"
    }
   ],
   "source": [
    "b02_to"
   ]
  },
  {
   "cell_type": "code",
   "execution_count": 116,
   "id": "76e1c03e-3e4c-402d-a30d-cb8bc49c57b9",
   "metadata": {},
   "outputs": [
    {
     "data": {
      "text/plain": [
       "array([[   0,    0,    0, ..., 9218, 9394, 9496],\n",
       "       [   0,    0,    0, ..., 8931, 9285, 9550],\n",
       "       [   0,    0,    0, ..., 8526, 8996, 9357],\n",
       "       ...,\n",
       "       [   0,    0,    0, ..., 2122, 2122, 2202],\n",
       "       [   0,    0,    0, ..., 2124, 2116, 2218],\n",
       "       [   0,    0,    0, ..., 2119, 2072, 2080]], dtype=uint16)"
      ]
     },
     "execution_count": 116,
     "metadata": {},
     "output_type": "execute_result"
    }
   ],
   "source": [
    "b02"
   ]
  },
  {
   "cell_type": "code",
   "execution_count": null,
   "id": "fd7f5ce0-5a7f-4745-8383-7b84cb253744",
   "metadata": {},
   "outputs": [],
   "source": []
  }
 ],
 "metadata": {
  "kernelspec": {
   "display_name": "Python 3 (ipykernel)",
   "language": "python",
   "name": "python3"
  },
  "language_info": {
   "codemirror_mode": {
    "name": "ipython",
    "version": 3
   },
   "file_extension": ".py",
   "mimetype": "text/x-python",
   "name": "python",
   "nbconvert_exporter": "python",
   "pygments_lexer": "ipython3",
   "version": "3.9.7"
  }
 },
 "nbformat": 4,
 "nbformat_minor": 5
}
