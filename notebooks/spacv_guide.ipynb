{
 "cells": [
  {
   "cell_type": "code",
   "execution_count": 1,
   "metadata": {},
   "outputs": [
    {
     "name": "stderr",
     "output_type": "stream",
     "text": [
      "C:\\Users\\lida\\Anaconda3\\envs\\ch\\lib\\site-packages\\geopandas\\_compat.py:106: UserWarning: The Shapely GEOS version (3.8.0-CAPI-1.13.1 ) is incompatible with the GEOS version PyGEOS was compiled with (3.9.1-CAPI-1.14.2). Conversions between both will be slow.\n",
      "  warnings.warn(\n",
      "Can't load requested DLL: C:\\Program Files\\GDAL\\gdalplugins\\gdal_KEA.dll\n",
      "127: The specified procedure could not be found.\n",
      "\n",
      "Can't load requested DLL: C:\\Program Files\\GDAL\\gdalplugins\\gdal_KEA.dll\n",
      "127: The specified procedure could not be found.\n",
      "\n",
      "Can't load requested DLL: C:\\Program Files\\GDAL\\gdalplugins\\gdal_KEA.dll\n",
      "127: The specified procedure could not be found.\n",
      "\n",
      "Can't load requested DLL: C:\\Program Files\\GDAL\\gdalplugins\\gdal_KEA.dll\n",
      "127: The specified procedure could not be found.\n",
      "\n"
     ]
    }
   ],
   "source": [
    "%matplotlib inline\n",
    "import matplotlib.pyplot as plt\n",
    "import geopandas as gpd\n",
    "import numpy as np\n",
    "from sklearn.linear_model import LinearRegression, LogisticRegression\n",
    "import spacv\n",
    "from spacv.grid_builder import *\n",
    "from spacv.utils import *\n",
    "import unittest\n",
    "\n",
    "from sklearn.cluster import KMeans, MiniBatchKMeans"
   ]
  },
  {
   "cell_type": "markdown",
   "metadata": {},
   "source": [
    "# Sklearn integration"
   ]
  },
  {
   "cell_type": "code",
   "execution_count": 2,
   "metadata": {},
   "outputs": [],
   "source": [
    "from sklearn.model_selection import cross_val_score, GridSearchCV\n",
    "from sklearn.svm import SVC"
   ]
  },
  {
   "cell_type": "code",
   "execution_count": 3,
   "metadata": {
    "collapsed": true,
    "jupyter": {
     "outputs_hidden": true
    },
    "tags": []
   },
   "outputs": [
    {
     "name": "stderr",
     "output_type": "stream",
     "text": [
      "C:\\Users\\lida\\Anaconda3\\envs\\ch\\lib\\site-packages\\sklearn\\cluster\\_kmeans.py:1045: UserWarning: MiniBatchKMeans is known to have a memory leak on Windows with MKL, when there are less chunks than available threads. You can prevent it by setting batch_size >= 1024 or by setting the environment variable OMP_NUM_THREADS=1\n",
      "  warnings.warn(\n",
      "C:\\Users\\lida\\Anaconda3\\envs\\ch\\lib\\site-packages\\spacv\\base_classes.py:69: UserWarning: CRS mismatch between the CRS of left geometries and the CRS of right geometries.\n",
      "Use `to_crs()` to reproject one of the input geometries to match the CRS of the other.\n",
      "\n",
      "Left CRS: EPSG:4326\n",
      "Right CRS: None\n",
      "\n",
      "  deadzone_points = gpd.sjoin(candidate_deadzone, geometry_buffer)\n",
      "C:\\Users\\lida\\Anaconda3\\envs\\ch\\lib\\site-packages\\spacv\\base_classes.py:69: UserWarning: CRS mismatch between the CRS of left geometries and the CRS of right geometries.\n",
      "Use `to_crs()` to reproject one of the input geometries to match the CRS of the other.\n",
      "\n",
      "Left CRS: EPSG:4326\n",
      "Right CRS: None\n",
      "\n",
      "  deadzone_points = gpd.sjoin(candidate_deadzone, geometry_buffer)\n",
      "C:\\Users\\lida\\Anaconda3\\envs\\ch\\lib\\site-packages\\spacv\\base_classes.py:69: UserWarning: CRS mismatch between the CRS of left geometries and the CRS of right geometries.\n",
      "Use `to_crs()` to reproject one of the input geometries to match the CRS of the other.\n",
      "\n",
      "Left CRS: EPSG:4326\n",
      "Right CRS: None\n",
      "\n",
      "  deadzone_points = gpd.sjoin(candidate_deadzone, geometry_buffer)\n",
      "C:\\Users\\lida\\Anaconda3\\envs\\ch\\lib\\site-packages\\spacv\\base_classes.py:69: UserWarning: CRS mismatch between the CRS of left geometries and the CRS of right geometries.\n",
      "Use `to_crs()` to reproject one of the input geometries to match the CRS of the other.\n",
      "\n",
      "Left CRS: EPSG:4326\n",
      "Right CRS: None\n",
      "\n",
      "  deadzone_points = gpd.sjoin(candidate_deadzone, geometry_buffer)\n"
     ]
    },
    {
     "data": {
      "text/plain": [
       "array([0.88372093, 0.85714286, 0.93181818, 0.72222222])"
      ]
     },
     "execution_count": 3,
     "metadata": {},
     "output_type": "execute_result"
    }
   ],
   "source": [
    "df = gpd.read_file('data/baltim.geojson')\n",
    "\n",
    "XYs = df['geometry']\n",
    "X = df[['NROOM', 'BMENT', 'NBATH', 'PRICE', 'LOTSZ', 'SQFT']]\n",
    "y = df['PATIO']\n",
    "\n",
    "skcv = spacv.SKCV(n_splits=4, buffer_radius=10).split(XYs)\n",
    "\n",
    "svc = SVC()\n",
    "\n",
    "cross_val_score(svc, \n",
    "                X, \n",
    "                y, \n",
    "                cv = skcv)"
   ]
  },
  {
   "cell_type": "code",
   "execution_count": 4,
   "metadata": {
    "collapsed": true,
    "jupyter": {
     "outputs_hidden": true
    },
    "tags": []
   },
   "outputs": [
    {
     "name": "stderr",
     "output_type": "stream",
     "text": [
      "C:\\Users\\lida\\Anaconda3\\envs\\ch\\lib\\site-packages\\sklearn\\cluster\\_kmeans.py:1045: UserWarning: MiniBatchKMeans is known to have a memory leak on Windows with MKL, when there are less chunks than available threads. You can prevent it by setting batch_size >= 1024 or by setting the environment variable OMP_NUM_THREADS=1\n",
      "  warnings.warn(\n",
      "C:\\Users\\lida\\Anaconda3\\envs\\ch\\lib\\site-packages\\spacv\\base_classes.py:69: UserWarning: CRS mismatch between the CRS of left geometries and the CRS of right geometries.\n",
      "Use `to_crs()` to reproject one of the input geometries to match the CRS of the other.\n",
      "\n",
      "Left CRS: EPSG:4326\n",
      "Right CRS: None\n",
      "\n",
      "  deadzone_points = gpd.sjoin(candidate_deadzone, geometry_buffer)\n",
      "C:\\Users\\lida\\Anaconda3\\envs\\ch\\lib\\site-packages\\spacv\\base_classes.py:69: UserWarning: CRS mismatch between the CRS of left geometries and the CRS of right geometries.\n",
      "Use `to_crs()` to reproject one of the input geometries to match the CRS of the other.\n",
      "\n",
      "Left CRS: EPSG:4326\n",
      "Right CRS: None\n",
      "\n",
      "  deadzone_points = gpd.sjoin(candidate_deadzone, geometry_buffer)\n",
      "C:\\Users\\lida\\Anaconda3\\envs\\ch\\lib\\site-packages\\spacv\\base_classes.py:69: UserWarning: CRS mismatch between the CRS of left geometries and the CRS of right geometries.\n",
      "Use `to_crs()` to reproject one of the input geometries to match the CRS of the other.\n",
      "\n",
      "Left CRS: EPSG:4326\n",
      "Right CRS: None\n",
      "\n",
      "  deadzone_points = gpd.sjoin(candidate_deadzone, geometry_buffer)\n",
      "C:\\Users\\lida\\Anaconda3\\envs\\ch\\lib\\site-packages\\spacv\\base_classes.py:69: UserWarning: CRS mismatch between the CRS of left geometries and the CRS of right geometries.\n",
      "Use `to_crs()` to reproject one of the input geometries to match the CRS of the other.\n",
      "\n",
      "Left CRS: EPSG:4326\n",
      "Right CRS: None\n",
      "\n",
      "  deadzone_points = gpd.sjoin(candidate_deadzone, geometry_buffer)\n",
      "C:\\Users\\lida\\Anaconda3\\envs\\ch\\lib\\site-packages\\spacv\\base_classes.py:69: UserWarning: CRS mismatch between the CRS of left geometries and the CRS of right geometries.\n",
      "Use `to_crs()` to reproject one of the input geometries to match the CRS of the other.\n",
      "\n",
      "Left CRS: EPSG:4326\n",
      "Right CRS: None\n",
      "\n",
      "  deadzone_points = gpd.sjoin(candidate_deadzone, geometry_buffer)\n",
      "C:\\Users\\lida\\Anaconda3\\envs\\ch\\lib\\site-packages\\spacv\\base_classes.py:69: UserWarning: CRS mismatch between the CRS of left geometries and the CRS of right geometries.\n",
      "Use `to_crs()` to reproject one of the input geometries to match the CRS of the other.\n",
      "\n",
      "Left CRS: EPSG:4326\n",
      "Right CRS: None\n",
      "\n",
      "  deadzone_points = gpd.sjoin(candidate_deadzone, geometry_buffer)\n",
      "C:\\Users\\lida\\Anaconda3\\envs\\ch\\lib\\site-packages\\spacv\\base_classes.py:69: UserWarning: CRS mismatch between the CRS of left geometries and the CRS of right geometries.\n",
      "Use `to_crs()` to reproject one of the input geometries to match the CRS of the other.\n",
      "\n",
      "Left CRS: EPSG:4326\n",
      "Right CRS: None\n",
      "\n",
      "  deadzone_points = gpd.sjoin(candidate_deadzone, geometry_buffer)\n",
      "C:\\Users\\lida\\Anaconda3\\envs\\ch\\lib\\site-packages\\spacv\\base_classes.py:69: UserWarning: CRS mismatch between the CRS of left geometries and the CRS of right geometries.\n",
      "Use `to_crs()` to reproject one of the input geometries to match the CRS of the other.\n",
      "\n",
      "Left CRS: EPSG:4326\n",
      "Right CRS: None\n",
      "\n",
      "  deadzone_points = gpd.sjoin(candidate_deadzone, geometry_buffer)\n",
      "C:\\Users\\lida\\Anaconda3\\envs\\ch\\lib\\site-packages\\spacv\\base_classes.py:69: UserWarning: CRS mismatch between the CRS of left geometries and the CRS of right geometries.\n",
      "Use `to_crs()` to reproject one of the input geometries to match the CRS of the other.\n",
      "\n",
      "Left CRS: EPSG:4326\n",
      "Right CRS: None\n",
      "\n",
      "  deadzone_points = gpd.sjoin(candidate_deadzone, geometry_buffer)\n",
      "C:\\Users\\lida\\Anaconda3\\envs\\ch\\lib\\site-packages\\spacv\\base_classes.py:69: UserWarning: CRS mismatch between the CRS of left geometries and the CRS of right geometries.\n",
      "Use `to_crs()` to reproject one of the input geometries to match the CRS of the other.\n",
      "\n",
      "Left CRS: EPSG:4326\n",
      "Right CRS: None\n",
      "\n",
      "  deadzone_points = gpd.sjoin(candidate_deadzone, geometry_buffer)\n"
     ]
    },
    {
     "data": {
      "text/plain": [
       "GridSearchCV(cv=<generator object BaseSpatialCV.split at 0x00000200EB028580>,\n",
       "             estimator=SVC(),\n",
       "             param_grid={'C': [1, 10], 'kernel': ('linear', 'rbf')})"
      ]
     },
     "execution_count": 4,
     "metadata": {},
     "output_type": "execute_result"
    }
   ],
   "source": [
    "skcv = spacv.SKCV(buffer_radius=5).split(XYs)\n",
    "\n",
    "parameters = {'kernel':('linear', 'rbf'), 'C':[1, 10]}\n",
    "\n",
    "clf = GridSearchCV(estimator=svc, \n",
    "                   param_grid=parameters, \n",
    "                   cv = skcv # An iterable yielding (train, test) splits as arrays of indices\n",
    "                  )\n",
    "\n",
    "clf.fit(X, y)"
   ]
  },
  {
   "cell_type": "code",
   "execution_count": 5,
   "metadata": {},
   "outputs": [
    {
     "data": {
      "text/plain": [
       "{'C': 10, 'kernel': 'rbf'}"
      ]
     },
     "execution_count": 5,
     "metadata": {},
     "output_type": "execute_result"
    }
   ],
   "source": [
    "clf.best_params_"
   ]
  },
  {
   "cell_type": "markdown",
   "metadata": {},
   "source": [
    "### Check data "
   ]
  },
  {
   "cell_type": "code",
   "execution_count": 12,
   "metadata": {},
   "outputs": [
    {
     "data": {
      "text/plain": [
       "0         POINT (1940.000 2728.000)\n",
       "1         POINT (2042.000 2462.000)\n",
       "2          POINT (795.000 2703.000)\n",
       "3         POINT (1444.000 1507.000)\n",
       "4         POINT (2791.000 2080.000)\n",
       "                    ...            \n",
       "999995    POINT (1791.000 2200.000)\n",
       "999996      POINT (318.000 518.000)\n",
       "999997      POINT (312.000 491.000)\n",
       "999998     POINT (2656.000 704.000)\n",
       "999999    POINT (2257.000 2873.000)\n",
       "Name: geometry, Length: 1000000, dtype: geometry"
      ]
     },
     "execution_count": 12,
     "metadata": {},
     "output_type": "execute_result"
    }
   ],
   "source": [
    "XYs"
   ]
  },
  {
   "cell_type": "markdown",
   "metadata": {
    "tags": []
   },
   "source": [
    "# Performance"
   ]
  },
  {
   "cell_type": "code",
   "execution_count": 6,
   "metadata": {},
   "outputs": [],
   "source": [
    "n = 1000000\n",
    "\n",
    "x = np.random.randint(0, 3000, n)\n",
    "y = np.random.randint(0, 3000, n)\n",
    "\n",
    "gdf = gpd.GeoDataFrame({'geometry': gpd.points_from_xy(x,y)})\n",
    "data = np.random.random((n,5))\n",
    "\n",
    "y, gdf[['V2','V3','V4','V5']] = data[:,0], data[:,1:5]\n",
    "X = gdf[['V2', 'V3', 'V4', 'V5']].values\n",
    "\n",
    "XYs = gdf['geometry']"
   ]
  },
  {
   "cell_type": "markdown",
   "metadata": {},
   "source": [
    "### H-blocking"
   ]
  },
  {
   "cell_type": "code",
   "execution_count": 10,
   "metadata": {
    "tags": []
   },
   "outputs": [],
   "source": [
    "cv = spacv.HBLOCK(10,5, method='unique', buffer_radius=500)\n",
    "\n",
    "%timeit\n",
    "for tr,te in cv.split(XYs):\n",
    "    pass"
   ]
  },
  {
   "cell_type": "code",
   "execution_count": 11,
   "metadata": {},
   "outputs": [
    {
     "ename": "TypeError",
     "evalue": "__init__() got an unexpected keyword argument 'folds'",
     "output_type": "error",
     "traceback": [
      "\u001b[1;31m---------------------------------------------------------------------------\u001b[0m",
      "\u001b[1;31mTypeError\u001b[0m                                 Traceback (most recent call last)",
      "\u001b[1;32m~\\AppData\\Local\\Temp/ipykernel_11288/2236642535.py\u001b[0m in \u001b[0;36m<module>\u001b[1;34m\u001b[0m\n\u001b[1;32m----> 1\u001b[1;33m \u001b[0mcv\u001b[0m \u001b[1;33m=\u001b[0m \u001b[0mspacv\u001b[0m\u001b[1;33m.\u001b[0m\u001b[0mSKCV\u001b[0m\u001b[1;33m(\u001b[0m\u001b[0mfolds\u001b[0m\u001b[1;33m=\u001b[0m\u001b[1;36m10\u001b[0m\u001b[1;33m,\u001b[0m \u001b[0mbuffer_radius\u001b[0m\u001b[1;33m=\u001b[0m\u001b[1;36m500\u001b[0m\u001b[1;33m)\u001b[0m\u001b[1;33m\u001b[0m\u001b[1;33m\u001b[0m\u001b[0m\n\u001b[0m\u001b[0;32m      2\u001b[0m \u001b[1;33m\u001b[0m\u001b[0m\n\u001b[0;32m      3\u001b[0m \u001b[0mget_ipython\u001b[0m\u001b[1;33m(\u001b[0m\u001b[1;33m)\u001b[0m\u001b[1;33m.\u001b[0m\u001b[0mrun_line_magic\u001b[0m\u001b[1;33m(\u001b[0m\u001b[1;34m'timeit'\u001b[0m\u001b[1;33m,\u001b[0m \u001b[1;34m''\u001b[0m\u001b[1;33m)\u001b[0m\u001b[1;33m\u001b[0m\u001b[1;33m\u001b[0m\u001b[0m\n\u001b[0;32m      4\u001b[0m \u001b[1;32mfor\u001b[0m \u001b[0mtr\u001b[0m\u001b[1;33m,\u001b[0m\u001b[0mte\u001b[0m \u001b[1;32min\u001b[0m \u001b[0mcv\u001b[0m\u001b[1;33m.\u001b[0m\u001b[0msplit\u001b[0m\u001b[1;33m(\u001b[0m\u001b[0mXYs\u001b[0m\u001b[1;33m)\u001b[0m\u001b[1;33m:\u001b[0m\u001b[1;33m\u001b[0m\u001b[1;33m\u001b[0m\u001b[0m\n\u001b[0;32m      5\u001b[0m     \u001b[1;32mpass\u001b[0m\u001b[1;33m\u001b[0m\u001b[1;33m\u001b[0m\u001b[0m\n",
      "\u001b[1;31mTypeError\u001b[0m: __init__() got an unexpected keyword argument 'folds'"
     ]
    }
   ],
   "source": [
    "cv = spacv.SKCV(folds=10, buffer_radius=500)\n",
    "\n",
    "%timeit\n",
    "for tr,te in cv.split(XYs):\n",
    "    pass"
   ]
  },
  {
   "cell_type": "markdown",
   "metadata": {},
   "source": [
    "### Repeat Spatial K-fold"
   ]
  },
  {
   "cell_type": "code",
   "execution_count": null,
   "metadata": {},
   "outputs": [],
   "source": [
    "cv = spacv.RepeatSKCV(folds=10, n_repeats=2)\n",
    "\n",
    "%timeit\n",
    "for tr,te in cv.split(XYs):\n",
    "    pass"
   ]
  },
  {
   "cell_type": "code",
   "execution_count": null,
   "metadata": {},
   "outputs": [],
   "source": [
    "cv = spacv.RepeatSKCV(folds=10, n_repeats=2, buffer_radius=500)\n",
    "\n",
    "%timeit\n",
    "for tr,te in cv.split(XYs):\n",
    "    pass"
   ]
  },
  {
   "cell_type": "markdown",
   "metadata": {},
   "source": [
    "### SLOO"
   ]
  },
  {
   "cell_type": "code",
   "execution_count": null,
   "metadata": {},
   "outputs": [],
   "source": [
    "sample_XYs = XYs.sample(100000)"
   ]
  },
  {
   "cell_type": "code",
   "execution_count": null,
   "metadata": {},
   "outputs": [],
   "source": [
    "cv = spacv.SKCV(folds= len(sample_XYs))"
   ]
  },
  {
   "cell_type": "code",
   "execution_count": null,
   "metadata": {},
   "outputs": [],
   "source": [
    "%%timeit -r 1 -n 1\n",
    "for tr,te in cv.split(sample_XYs):\n",
    "    pass"
   ]
  },
  {
   "cell_type": "markdown",
   "metadata": {},
   "source": [
    "### User defined polygons"
   ]
  },
  {
   "cell_type": "code",
   "execution_count": null,
   "metadata": {},
   "outputs": [],
   "source": [
    "custom_example_poly = gpd.read_file('data/holes_example.geojson')\n",
    "custom_example_pts = gpd.read_file('data/holes_example_pts.geojson')"
   ]
  },
  {
   "cell_type": "code",
   "execution_count": null,
   "metadata": {},
   "outputs": [],
   "source": [
    "f, ax = plt.subplots(1,figsize=(6,4))\n",
    "custom_example_pts.plot(ax=ax)\n",
    "custom_example_poly.plot(ax=ax,alpha=.3, edgecolor='black')\n",
    "custom_example_poly.sample(2, random_state=123).buffer(10).plot(ax=ax, alpha=.2), ax.axis('off');"
   ]
  },
  {
   "cell_type": "code",
   "execution_count": null,
   "metadata": {},
   "outputs": [],
   "source": [
    "cv = spacv.UserDefinedSCV(custom_polygons = custom_example_poly, buffer_radius=10)"
   ]
  },
  {
   "cell_type": "code",
   "execution_count": null,
   "metadata": {},
   "outputs": [],
   "source": [
    "%%timeit\n",
    "for tr,te in cv.split(custom_example_pts):\n",
    "    pass"
   ]
  },
  {
   "cell_type": "markdown",
   "metadata": {},
   "source": [
    "# Ad-hoc grid/fold construction"
   ]
  },
  {
   "cell_type": "code",
   "execution_count": null,
   "metadata": {},
   "outputs": [],
   "source": [
    "f, ax = plt.subplots(1,2, figsize=(16,16))\n",
    "construct_blocks(XYs, tiles_x=5, tiles_y=3, method='unique').plot(column='grid_id',\n",
    "                                edgecolor='black', cmap='tab20',ax=ax[0])\n",
    "\n",
    "hexgrid = construct_blocks(XYs, tiles_x=5, tiles_y=2, \n",
    "                 method='optimized_random', n_sims=10, data=X,\n",
    "                 n_groups=5, shape='hex')\n",
    "\n",
    "hexgrid.plot(column='grid_id', cmap='tab20c',ax=ax[1], edgecolor='black')\n",
    "XYs.plot(ax=ax[0], color='black'),XYs.plot(ax=ax[1], color='black')\n",
    "ax[0].axis('off'), ax[1].axis('off')\n",
    "plt.show()"
   ]
  },
  {
   "cell_type": "code",
   "execution_count": null,
   "metadata": {},
   "outputs": [],
   "source": [
    "f, ax = plt.subplots(1,2, figsize=(14,12))\n",
    "\n",
    "construct_blocks(XYs, method='systematic', tiles_x=15, tiles_y=5, direction='anti').plot(column='grid_id', cmap='Set1', \n",
    "                                                                                         ax=ax[0], edgecolor='black')\n",
    "construct_blocks(XYs, method='systematic', tiles_x=15, tiles_y=5, direction='diagonal').plot(column='grid_id', cmap='Set1', \n",
    "                                                                                             ax=ax[1], edgecolor='black')\n",
    "XYs.plot(ax=ax[0], color='black')\n",
    "XYs.plot(ax=ax[1], color='black')\n",
    "ax[0].axis('off'), ax[1].axis('off');"
   ]
  },
  {
   "cell_type": "code",
   "execution_count": null,
   "metadata": {},
   "outputs": [],
   "source": [
    "f, ax = plt.subplots(1,3, figsize=(18,20))\n",
    "construct_blocks(df, method='random', tiles_x=10, tiles_y=10, n_groups=3).plot(column='grid_id', ax=ax[0], edgecolor='black', cmap='viridis')\n",
    "construct_blocks(df, method='random', tiles_x=10, tiles_y=10, n_groups=3).plot(column='grid_id', ax=ax[1], edgecolor='black', cmap='viridis')\n",
    "construct_blocks(df, method='random', tiles_x=10, tiles_y=10, n_groups=3).plot(column='grid_id', ax=ax[2], edgecolor='black', cmap='viridis')\n",
    "XYs.plot(ax=ax[0], color='black')\n",
    "XYs.plot(ax=ax[1], color='black')\n",
    "XYs.plot(ax=ax[2], color='black')\n",
    "ax[0].axis('off'), ax[1].axis('off'), ax[2].axis('off');"
   ]
  },
  {
   "cell_type": "code",
   "execution_count": null,
   "metadata": {},
   "outputs": [],
   "source": [
    "f, ax = plt.subplots(1, figsize=(8,8))\n",
    "construct_blocks(df, method='optimized_random', data=X, tiles_x=25, tiles_y=25, \n",
    "                 n_groups=3, n_sims=10, distance_metric='euclidean').plot(column='grid_id', ax=ax, cmap='viridis', edgecolor='black')\n",
    "df.plot(ax=ax, color='black')\n",
    "ax.axis('off');"
   ]
  },
  {
   "cell_type": "markdown",
   "metadata": {},
   "source": [
    "# Visualisaton"
   ]
  },
  {
   "cell_type": "code",
   "execution_count": null,
   "metadata": {},
   "outputs": [],
   "source": [
    "df = gpd.read_file('/opt/conda/lib/python3.7/site-packages/libpysal/examples/baltim/baltim.shp')\n",
    "\n",
    "XYs = df['geometry']\n",
    "cols = ['NROOM', 'PRICE', 'AGE', 'SQFT']\n",
    "X = df[cols]\n",
    "y = df['PATIO']"
   ]
  },
  {
   "cell_type": "code",
   "execution_count": null,
   "metadata": {},
   "outputs": [],
   "source": [
    "lags = np.arange(0, y_suggested, 20)\n",
    "bw = 10\n",
    "\n",
    "f, ax = plot_autocorrelation_ranges(XYs, X[cols], lags, bw)"
   ]
  },
  {
   "cell_type": "code",
   "execution_count": null,
   "metadata": {},
   "outputs": [],
   "source": [
    "df['demo_labs'] = KMeans(6).fit(geometry_to_2d(df.geometry)).labels_\n",
    "new_data = df[df['demo_labs'] == 1].copy()\n",
    "training_data = df[df['demo_labs'] != 1]\n",
    "columns = ['NROOM', 'DWELL', 'NBATH', 'PRICE', 'LOTSZ', 'SQFT']"
   ]
  },
  {
   "cell_type": "code",
   "execution_count": null,
   "metadata": {},
   "outputs": [],
   "source": [
    "f, ax = plot_aoa(new_data, training_data, columns, (14,4))"
   ]
  },
  {
   "cell_type": "markdown",
   "metadata": {},
   "source": [
    "# Future\n",
    "\n",
    "* Spatially-explicit GCV\n",
    "* Bootstrap samples from within folds testing"
   ]
  },
  {
   "cell_type": "code",
   "execution_count": null,
   "metadata": {},
   "outputs": [],
   "source": []
  }
 ],
 "metadata": {
  "kernelspec": {
   "display_name": "Python 3 (ipykernel)",
   "language": "python",
   "name": "python3"
  },
  "language_info": {
   "codemirror_mode": {
    "name": "ipython",
    "version": 3
   },
   "file_extension": ".py",
   "mimetype": "text/x-python",
   "name": "python",
   "nbconvert_exporter": "python",
   "pygments_lexer": "ipython3",
   "version": "3.9.7"
  }
 },
 "nbformat": 4,
 "nbformat_minor": 4
}
