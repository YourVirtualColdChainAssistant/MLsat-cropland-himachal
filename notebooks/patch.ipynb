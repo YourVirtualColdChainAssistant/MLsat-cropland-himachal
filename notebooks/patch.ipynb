{
 "cells": [
  {
   "cell_type": "code",
   "execution_count": 1,
   "id": "6d63411d-5a15-44cf-a591-74a328f7845d",
   "metadata": {},
   "outputs": [],
   "source": [
    "import os\n",
    "import numpy as np\n",
    "import rasterio"
   ]
  },
  {
   "cell_type": "code",
   "execution_count": 7,
   "id": "69b1b1a1-48cc-4940-9054-8a79aaa7e862",
   "metadata": {},
   "outputs": [
    {
     "data": {
      "text/plain": [
       "array([  0, 108, 216, 324, 432, 540, 648, 756, 864, 972])"
      ]
     },
     "execution_count": 7,
     "metadata": {},
     "output_type": "execute_result"
    }
   ],
   "source": [
    "np.linspace(0, 1080, 10, endpoint=False, dtype=int)"
   ]
  },
  {
   "cell_type": "code",
   "execution_count": 5,
   "id": "a39c9347-34b2-481e-86f2-2f745a289b62",
   "metadata": {},
   "outputs": [],
   "source": [
    "full_width, n_patch = 10800, 10\n",
    "patch_width = full_width / n_patch"
   ]
  },
  {
   "cell_type": "code",
   "execution_count": 6,
   "id": "d8968f13-d9a0-4a8d-99bc-92928c74238d",
   "metadata": {},
   "outputs": [
    {
     "data": {
      "text/plain": [
       "1080.0"
      ]
     },
     "execution_count": 6,
     "metadata": {},
     "output_type": "execute_result"
    }
   ],
   "source": [
    "patch_width"
   ]
  },
  {
   "cell_type": "code",
   "execution_count": null,
   "id": "3e5aab8f-7132-4e82-bbfc-c0e1a76687b9",
   "metadata": {},
   "outputs": [],
   "source": []
  },
  {
   "cell_type": "code",
   "execution_count": 2,
   "id": "00c545da-bbc3-4e3d-b860-bbcfb996318a",
   "metadata": {},
   "outputs": [],
   "source": [
    "import glob"
   ]
  },
  {
   "cell_type": "code",
   "execution_count": 3,
   "id": "5e68284a-a3cc-414b-a55d-606d5ebc1dff",
   "metadata": {},
   "outputs": [],
   "source": [
    "datasets_list = [f for f in glob.glob(\"../preds/tiles/43RGQ/*.tiff\")]"
   ]
  },
  {
   "cell_type": "code",
   "execution_count": 4,
   "id": "c9dd9a9a-2f93-4877-9624-0b8b7860a5d1",
   "metadata": {},
   "outputs": [
    {
     "data": {
      "text/plain": [
       "['../preds/tiles/43RGQ\\\\0_0.tiff',\n",
       " '../preds/tiles/43RGQ\\\\0_1080.tiff',\n",
       " '../preds/tiles/43RGQ\\\\0_2160.tiff',\n",
       " '../preds/tiles/43RGQ\\\\0_3240.tiff',\n",
       " '../preds/tiles/43RGQ\\\\0_4320.tiff',\n",
       " '../preds/tiles/43RGQ\\\\0_5400.tiff',\n",
       " '../preds/tiles/43RGQ\\\\0_6480.tiff',\n",
       " '../preds/tiles/43RGQ\\\\0_7560.tiff',\n",
       " '../preds/tiles/43RGQ\\\\0_8640.tiff',\n",
       " '../preds/tiles/43RGQ\\\\0_9720.tiff',\n",
       " '../preds/tiles/43RGQ\\\\1080_0.tiff',\n",
       " '../preds/tiles/43RGQ\\\\1080_1080.tiff',\n",
       " '../preds/tiles/43RGQ\\\\1080_2160.tiff',\n",
       " '../preds/tiles/43RGQ\\\\1080_3240.tiff',\n",
       " '../preds/tiles/43RGQ\\\\1080_4320.tiff']"
      ]
     },
     "execution_count": 4,
     "metadata": {},
     "output_type": "execute_result"
    }
   ],
   "source": [
    "datasets_list"
   ]
  },
  {
   "cell_type": "code",
   "execution_count": 7,
   "id": "126b23db-7cb1-4990-8a48-5c2603d0180f",
   "metadata": {},
   "outputs": [],
   "source": [
    "from rasterio.merge import merge"
   ]
  },
  {
   "cell_type": "code",
   "execution_count": 8,
   "id": "1440397d-1896-438b-bb23-b115b595a70c",
   "metadata": {},
   "outputs": [],
   "source": [
    "merge(datasets_list[:3], dst_path='../preds/tiles/43RGQ/43RGQ.tiff')"
   ]
  },
  {
   "cell_type": "code",
   "execution_count": null,
   "id": "e7b64bf9-ca53-4e5e-9d27-37aaa6b2c4ba",
   "metadata": {},
   "outputs": [],
   "source": []
  }
 ],
 "metadata": {
  "kernelspec": {
   "display_name": "Python 3 (ipykernel)",
   "language": "python",
   "name": "python3"
  },
  "language_info": {
   "codemirror_mode": {
    "name": "ipython",
    "version": 3
   },
   "file_extension": ".py",
   "mimetype": "text/x-python",
   "name": "python",
   "nbconvert_exporter": "python",
   "pygments_lexer": "ipython3",
   "version": "3.9.7"
  }
 },
 "nbformat": 4,
 "nbformat_minor": 5
}
